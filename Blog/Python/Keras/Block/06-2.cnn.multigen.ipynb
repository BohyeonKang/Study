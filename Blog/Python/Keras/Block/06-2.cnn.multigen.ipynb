{
 "cells": [
  {
   "cell_type": "code",
   "execution_count": 1,
   "metadata": {},
   "outputs": [
    {
     "data": {
      "text/html": [
       "<style>.container { width:100% !important; }</style>"
      ],
      "text/plain": [
       "<IPython.core.display.HTML object>"
      ]
     },
     "metadata": {},
     "output_type": "display_data"
    }
   ],
   "source": [
    "import pandas as pd\n",
    "from IPython.core.display import display, HTML\n",
    "\n",
    "display(HTML(\"<style>.container { width:100% !important; }</style>\"))\n",
    "pd.set_option('display.max_rows', 1000)\n",
    "pd.set_option('display.max_columns', None)\n",
    "\n",
    "# Suppress Deprecation and Incorrect Usage Warnings\n",
    "import warnings\n",
    "warnings.filterwarnings('ignore')"
   ]
  },
  {
   "cell_type": "code",
   "execution_count": 2,
   "metadata": {},
   "outputs": [
    {
     "name": "stderr",
     "output_type": "stream",
     "text": [
      "Using TensorFlow backend.\n"
     ]
    }
   ],
   "source": [
    "import keras\n",
    "from keras.utils import np_utils\n",
    "from keras.models import Sequential\n",
    "from keras.layers import Dense, Flatten\n",
    "from keras.layers.convolutional import Conv2D, MaxPooling2D\n",
    "from keras.preprocessing.image import ImageDataGenerator\n",
    "\n",
    "import numpy as np\n",
    "\n",
    "np.random.seed(3)"
   ]
  },
  {
   "cell_type": "markdown",
   "metadata": {},
   "source": [
    "## 데이터 제네레이터 생성 : image를 폴더구조에서 읽음"
   ]
  },
  {
   "cell_type": "code",
   "execution_count": 3,
   "metadata": {},
   "outputs": [
    {
     "name": "stdout",
     "output_type": "stream",
     "text": [
      "Found 45 images belonging to 3 classes.\n",
      "Found 15 images belonging to 3 classes.\n"
     ]
    }
   ],
   "source": [
    "train_datagen = ImageDataGenerator(rescale=1./255, rotation_range=10, width_shift_range=.2,height_shift_range=.2,shear_range=.7,zoom_range=[.9,2.2],horizontal_flip=True,vertical_flip=True,fill_mode='nearest')\n",
    "train_generator = train_datagen.flow_from_directory('./data/handwriting_shape/train', target_size=(24,24), batch_size=3, class_mode='categorical')\n",
    "\n",
    "test_datagen = ImageDataGenerator(rescale=1./255)\n",
    "test_generator = test_datagen.flow_from_directory('./data/handwriting_shape/test', target_size=(24,24), batch_size=3, class_mode='categorical')"
   ]
  },
  {
   "cell_type": "markdown",
   "metadata": {},
   "source": [
    "## Model 설정"
   ]
  },
  {
   "cell_type": "code",
   "execution_count": 4,
   "metadata": {},
   "outputs": [],
   "source": [
    "model = Sequential()\n",
    "model.add(Conv2D(32, kernel_size=(3,3), activation='relu', input_shape=(24,24,3)))\n",
    "model.add(Conv2D(64,(3,3), activation='relu'))\n",
    "model.add(MaxPooling2D(pool_size=(2,2)))\n",
    "model.add(Flatten())\n",
    "model.add(Dense(128, activation='relu'))\n",
    "model.add(Dense(3, activation='softmax'))\n",
    "\n",
    "model.compile(loss='categorical_crossentropy', optimizer='adam', metrics=['accuracy'])"
   ]
  },
  {
   "cell_type": "code",
   "execution_count": null,
   "metadata": {},
   "outputs": [
    {
     "name": "stdout",
     "output_type": "stream",
     "text": [
      "Epoch 1/50\n",
      "1500/1500 [==============================] - 28s 19ms/step - loss: 0.1957 - acc: 0.9176 - val_loss: 0.0011 - val_acc: 1.0000\n",
      "Epoch 2/50\n",
      "1500/1500 [==============================] - 27s 18ms/step - loss: 0.0449 - acc: 0.9876 - val_loss: 5.4559e-05 - val_acc: 1.0000\n",
      "Epoch 3/50\n",
      "1500/1500 [==============================] - 27s 18ms/step - loss: 0.0300 - acc: 0.9900 - val_loss: 3.3379e-07 - val_acc: 1.0000\n",
      "Epoch 4/50\n",
      "1500/1500 [==============================] - 27s 18ms/step - loss: 0.0220 - acc: 0.9931 - val_loss: 2.3604e-06 - val_acc: 1.0000\n",
      "Epoch 5/50\n",
      "1500/1500 [==============================] - 27s 18ms/step - loss: 0.0145 - acc: 0.9962 - val_loss: 1.0942e-04 - val_acc: 1.0000\n",
      "Epoch 6/50\n",
      "1500/1500 [==============================] - 27s 18ms/step - loss: 0.0246 - acc: 0.9924 - val_loss: 1.8955e-06 - val_acc: 1.0000\n",
      "Epoch 7/50\n",
      "1500/1500 [==============================] - 27s 18ms/step - loss: 0.0234 - acc: 0.9940 - val_loss: 1.2716e-07 - val_acc: 1.0000\n",
      "Epoch 8/50\n",
      "1500/1500 [==============================] - 28s 18ms/step - loss: 0.0137 - acc: 0.9958 - val_loss: 1.1921e-07 - val_acc: 1.0000\n",
      "Epoch 9/50\n",
      "1500/1500 [==============================] - 27s 18ms/step - loss: 0.0136 - acc: 0.9962 - val_loss: 1.1921e-07 - val_acc: 1.0000\n",
      "Epoch 10/50\n",
      "1500/1500 [==============================] - 28s 18ms/step - loss: 0.0135 - acc: 0.9962 - val_loss: 1.1921e-07 - val_acc: 1.0000\n",
      "Epoch 11/50\n",
      "1500/1500 [==============================] - 28s 19ms/step - loss: 0.0076 - acc: 0.9973 - val_loss: 1.1921e-07 - val_acc: 1.0000\n",
      "Epoch 12/50\n",
      "1500/1500 [==============================] - 28s 18ms/step - loss: 0.0138 - acc: 0.9958 - val_loss: 1.1921e-07 - val_acc: 1.0000\n",
      "Epoch 13/50\n",
      "1500/1500 [==============================] - 28s 18ms/step - loss: 0.0130 - acc: 0.9971 - val_loss: 1.1921e-07 - val_acc: 1.0000\n",
      "Epoch 14/50\n",
      "1500/1500 [==============================] - 28s 18ms/step - loss: 0.0117 - acc: 0.9976 - val_loss: 1.1921e-07 - val_acc: 1.0000\n",
      "Epoch 15/50\n",
      "1500/1500 [==============================] - 28s 18ms/step - loss: 0.0148 - acc: 0.9967 - val_loss: 1.1921e-07 - val_acc: 1.0000\n",
      "Epoch 16/50\n",
      "1500/1500 [==============================] - 28s 18ms/step - loss: 0.0155 - acc: 0.9958 - val_loss: 1.1921e-07 - val_acc: 1.0000\n",
      "Epoch 17/50\n",
      "1500/1500 [==============================] - 28s 18ms/step - loss: 0.0157 - acc: 0.9967 - val_loss: 1.1921e-07 - val_acc: 1.0000\n",
      "Epoch 18/50\n",
      "1500/1500 [==============================] - 28s 18ms/step - loss: 0.0137 - acc: 0.9967 - val_loss: 1.1921e-07 - val_acc: 1.0000\n",
      "Epoch 19/50\n",
      "1163/1500 [======================>.......] - ETA: 6s - loss: 0.0049 - acc: 0.9991"
     ]
    }
   ],
   "source": [
    "model.fit_generator(train_generator, steps_per_epoch=15*100, epochs=50, validation_data=test_generator, validation_steps=5)"
   ]
  },
  {
   "cell_type": "code",
   "execution_count": null,
   "metadata": {},
   "outputs": [],
   "source": [
    "model.evaluate_generator(test_generator, steps=5)"
   ]
  },
  {
   "cell_type": "code",
   "execution_count": null,
   "metadata": {},
   "outputs": [],
   "source": [
    "output = model.predict_generator(test_generator, steps=5)\n",
    "np.set_printoptions(formatter={'float': lambda x: '{0:0.3f}'.format(x)})\n",
    "print(test_generator.class_indices)\n",
    "output"
   ]
  },
  {
   "cell_type": "code",
   "execution_count": null,
   "metadata": {},
   "outputs": [],
   "source": []
  }
 ],
 "metadata": {
  "kernelspec": {
   "display_name": "Python 3",
   "language": "python",
   "name": "python3"
  },
  "language_info": {
   "codemirror_mode": {
    "name": "ipython",
    "version": 3
   },
   "file_extension": ".py",
   "mimetype": "text/x-python",
   "name": "python",
   "nbconvert_exporter": "python",
   "pygments_lexer": "ipython3",
   "version": "3.6.4"
  }
 },
 "nbformat": 4,
 "nbformat_minor": 2
}
