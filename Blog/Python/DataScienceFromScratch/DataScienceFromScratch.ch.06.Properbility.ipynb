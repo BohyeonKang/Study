{
 "cells": [
  {
   "cell_type": "markdown",
   "metadata": {},
   "source": [
    "### 베이즈 정리 (Bayes's Theorem)\n",
    "\n",
    "모집단 추측\n",
    "\n",
    "내가 아는 사실은 P(A|B) 일 경우 P(B)인 확률을 계산해서 예측해 내는 일\n",
    "\n",
    "P(B) = P(A) / P(A|B)\n",
    "\n"
   ]
  },
  {
   "cell_type": "markdown",
   "metadata": {},
   "source": [
    "### 확률 변수 (Random Variable)\n",
    "\n",
    "사건에서 나올 수 있는 샘플링 결과\n",
    "\n",
    "ex. 동전 던지기 = { 앞, 뒤 }"
   ]
  },
  {
   "cell_type": "markdown",
   "metadata": {},
   "source": [
    "### 연속 분포\n",
    "\n",
    "연속된 선으로 표현되는 것\n",
    "\n",
    "이산형 분포 : 각각의 사건이 떨어져 있는 경우 (주로 Bar 그래프 같은 경우)\n"
   ]
  },
  {
   "cell_type": "markdown",
   "metadata": {},
   "source": [
    "CDF : 확률누적분포 : 모든 변수들이 다 나왔을 경우에는 1 (0에서 시작해서 1로 끝)\n",
    "PDF : Probability Density Function (파이썬으로 풀어보는 수학 7.6에 나옴)"
   ]
  },
  {
   "cell_type": "markdown",
   "metadata": {},
   "source": [
    "### 정규 분포 (Normal Distribution)\n",
    "\n",
    "PDF 뮤 : 중심값, 시그마"
   ]
  },
  {
   "cell_type": "markdown",
   "metadata": {},
   "source": [
    "### 중심극한정리 (Central Limit Theorem)\n",
    "\n",
    "무한히 계속해서 사건을 일으키다 보면 정규분포를 따른다."
   ]
  },
  {
   "cell_type": "code",
   "execution_count": null,
   "metadata": {
    "collapsed": true
   },
   "outputs": [],
   "source": []
  }
 ],
 "metadata": {
  "kernelspec": {
   "display_name": "Python [conda root]",
   "language": "python",
   "name": "conda-root-py"
  },
  "language_info": {
   "codemirror_mode": {
    "name": "ipython",
    "version": 3
   },
   "file_extension": ".py",
   "mimetype": "text/x-python",
   "name": "python",
   "nbconvert_exporter": "python",
   "pygments_lexer": "ipython3",
   "version": "3.5.2"
  }
 },
 "nbformat": 4,
 "nbformat_minor": 0
}
