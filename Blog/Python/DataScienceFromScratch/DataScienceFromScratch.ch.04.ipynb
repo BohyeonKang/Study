{
 "cells": [
  {
   "cell_type": "markdown",
   "metadata": {},
   "source": [
    "# 밑바닥부터 시작하는 데이터 과학\n",
    "\n",
    "- 원서명 : Data Science from Scratch: First Principles with Python\n",
    "- 지은이 : Joel Grus\n",
    "- 원서 : <http://shop.oreilly.com/product/0636920033400.do>\n",
    "- 번역서 : <http://www.insightbook.co.kr/books/programming-insight>\n",
    "\n",
    "![책표지](./image/cover.png)\n",
    "\n",
    "- 출판사 예제코드 : <https://github.com/insight-book/data-science-from-scratch>\n",
    "\n",
    "위 책을 보면서 필자가 직접 코딩하면서 정리한 내용입니다.  \n",
    "책의 모든 내용을 다 포함하고 있지는 않으며, 책에 없는 부가적인 설명이 들어 갈 수 있습니다.  \n",
    "필자가 작성한 `Jupyter notebook`은 다음 Link에서 다운로드하여 실행이 가능합니다.\n",
    "\n",
    "- 본문 Jupyter notebook : <https://github.com/DevStarSJ/Study/tree/master/Blog/Python/DataScienceFromScratch>"
   ]
  },
  {
   "cell_type": "markdown",
   "metadata": {},
   "source": [
    "## 04 선형대수\n",
    "\n",
    "선형대수란 백터 공간을 다루는 수학입니다.\n",
    "\n",
    "### 1. 백터(Vector)\n",
    "\n",
    "`vector`란 유한한 공간에 존재하는 점을 표현하는 데이터 입니다.\n",
    "\n",
    "- 2차원 백터 : x,y 좌표\n",
    "- 3차원 백터 : 키, 몸무게, 나이\n",
    "- 4차원 백터 : 국어점수, 수학점수, 영어점수, 물리점수\n",
    "\n",
    "`vector`를 `python`에서 표현하기 가장 간단한 방법은 `tuple`이나 `list`로 표현하는 것입니다."
   ]
  },
  {
   "cell_type": "code",
   "execution_count": 2,
   "metadata": {
    "collapsed": true
   },
   "outputs": [],
   "source": [
    "xy_point = ( 3,4)\n",
    "height_weight_age = [173, 68, 40]\n",
    "grades = [ 89, 100, 95, 82]\n",
    "\n",
    "a = [1, 2]\n",
    "b = [2, 1]"
   ]
  },
  {
   "cell_type": "markdown",
   "metadata": {},
   "source": [
    "### 1.1 vector의 덧셈\n",
    "\n",
    "각 성분끼리 더합니다."
   ]
  },
  {
   "cell_type": "code",
   "execution_count": 3,
   "metadata": {
    "collapsed": false
   },
   "outputs": [
    {
     "data": {
      "text/plain": [
       "[3, 3]"
      ]
     },
     "execution_count": 3,
     "metadata": {},
     "output_type": "execute_result"
    }
   ],
   "source": [
    "def vector_add(v, w):\n",
    "    return [v_i + w_i for v_i, w_i in zip(v,w)]\n",
    "\n",
    "vector_add(a,b)"
   ]
  },
  {
   "cell_type": "markdown",
   "metadata": {
    "collapsed": true
   },
   "source": [
    "### 1.2 vector의 뺄셈\n",
    "\n",
    "각 성분끼리 빼줍니다. 각 성분에 마이너스를 한 뒤 더하는 것과 결과가 같습니다."
   ]
  },
  {
   "cell_type": "code",
   "execution_count": 4,
   "metadata": {
    "collapsed": false
   },
   "outputs": [
    {
     "data": {
      "text/plain": [
       "[-1, 1]"
      ]
     },
     "execution_count": 4,
     "metadata": {},
     "output_type": "execute_result"
    }
   ],
   "source": [
    "def vector_subtract(v, w):\n",
    "    return [v_i - w_i for v_i, w_i in zip(v, w)]\n",
    "\n",
    "vector_subtract(a, b)"
   ]
  },
  {
   "cell_type": "markdown",
   "metadata": {},
   "source": [
    "### 1.3 vector의 합\n",
    "\n",
    "`vector_add`를 이용해서 여러 `vector`들의 합을 구하는 함수도 구현이 가능합니다.\n",
    "`reduce`를 이용하면 `vector_add`를 여러 번 호출하는 것을 간랸하게 구현이 가능합니다."
   ]
  },
  {
   "cell_type": "code",
   "execution_count": 7,
   "metadata": {
    "collapsed": true
   },
   "outputs": [],
   "source": [
    "from functools import reduce\n",
    "\n",
    "def vector_sum(vectors):\n",
    "    return reduce(vector_add, vectors)"
   ]
  },
  {
   "cell_type": "code",
   "execution_count": 8,
   "metadata": {
    "collapsed": false
   },
   "outputs": [
    {
     "data": {
      "text/plain": [
       "[7, 9]"
      ]
     },
     "execution_count": 8,
     "metadata": {},
     "output_type": "execute_result"
    }
   ],
   "source": [
    "c = [3, 2]\n",
    "d = [1, 4]\n",
    "vectors = [a, b, c, d]\n",
    "\n",
    "vector_sum(vectors)"
   ]
  },
  {
   "cell_type": "markdown",
   "metadata": {},
   "source": [
    "`reduce(실행할 함수, 순서형 자료)` 함수는 전달된 함수에 순서형 자료를 하나씩 대입해서 그 결과를 누적으로 적용시킵니다.\n",
    "\n",
    "<https://docs.python.org/3/library/functools.html#functools.reduce>\n",
    "\n",
    "즉 아래 코드와 완벽하게 동일한 동작을 합니다."
   ]
  },
  {
   "cell_type": "code",
   "execution_count": 9,
   "metadata": {
    "collapsed": true
   },
   "outputs": [],
   "source": [
    "def vector_reduce(func, vectors):\n",
    "    acc = vectors[0]\n",
    "    for vector in vectors[1:]:\n",
    "        acc = func(acc, vector)\n",
    "    return acc"
   ]
  },
  {
   "cell_type": "code",
   "execution_count": 10,
   "metadata": {
    "collapsed": false
   },
   "outputs": [
    {
     "data": {
      "text/plain": [
       "[7, 9]"
      ]
     },
     "execution_count": 10,
     "metadata": {},
     "output_type": "execute_result"
    }
   ],
   "source": [
    "vector_reduce(vector_add, vectors)"
   ]
  },
  {
   "cell_type": "markdown",
   "metadata": {},
   "source": [
    "`partial`을 이용하면 좀더 깔끔하게 정의가 가능합니다.\n",
    "\n",
    "<https://docs.python.org/3/library/functools.html#functools.partial>"
   ]
  },
  {
   "cell_type": "code",
   "execution_count": 11,
   "metadata": {
    "collapsed": true
   },
   "outputs": [],
   "source": [
    "from functools import partial\n",
    "\n",
    "vector_sum = partial(reduce, vector_add)"
   ]
  },
  {
   "cell_type": "code",
   "execution_count": 12,
   "metadata": {
    "collapsed": false
   },
   "outputs": [
    {
     "data": {
      "text/plain": [
       "[7, 9]"
      ]
     },
     "execution_count": 12,
     "metadata": {},
     "output_type": "execute_result"
    }
   ],
   "source": [
    "vector_sum(vectors)"
   ]
  },
  {
   "cell_type": "markdown",
   "metadata": {},
   "source": [
    "### 1.4 vector의 스칼라곱\n",
    "\n",
    "각 성분에 스칼라곱을 해주면 됩니다."
   ]
  },
  {
   "cell_type": "code",
   "execution_count": 17,
   "metadata": {
    "collapsed": true
   },
   "outputs": [],
   "source": [
    "def scalar_multiply(c, v):\n",
    "    return [c * v_i for v_i in v]"
   ]
  },
  {
   "cell_type": "code",
   "execution_count": 18,
   "metadata": {
    "collapsed": false
   },
   "outputs": [
    {
     "data": {
      "text/plain": [
       "[3, 6]"
      ]
     },
     "execution_count": 18,
     "metadata": {},
     "output_type": "execute_result"
    }
   ],
   "source": [
    "scalar_multiply(3, a)"
   ]
  },
  {
   "cell_type": "markdown",
   "metadata": {},
   "source": [
    "### 1.5 vector의 평균\n",
    "\n",
    "각 성분들 끼리의 평균입니다."
   ]
  },
  {
   "cell_type": "code",
   "execution_count": 19,
   "metadata": {
    "collapsed": true
   },
   "outputs": [],
   "source": [
    "def vector_mean(vectors):\n",
    "    return scalar_multiply(1/len(vectors), vector_sum(vectors))"
   ]
  },
  {
   "cell_type": "code",
   "execution_count": 20,
   "metadata": {
    "collapsed": false
   },
   "outputs": [
    {
     "data": {
      "text/plain": [
       "[1.75, 2.25]"
      ]
     },
     "execution_count": 20,
     "metadata": {},
     "output_type": "execute_result"
    }
   ],
   "source": [
    "vector_mean(vectors)"
   ]
  },
  {
   "cell_type": "markdown",
   "metadata": {},
   "source": [
    "### 1.6 vector의 내적\n",
    "\n",
    "각 성분별 곱한 값을 더해 준 값입니다.\n",
    "\n",
    "내적은 v가 w방향으로 얼마나 멀리 뻗어 나가는지를 나타냅니다.\n",
    "즉 v가 w방향으로 투영된 벡터의 길이를 나타냅니다."
   ]
  },
  {
   "cell_type": "code",
   "execution_count": 21,
   "metadata": {
    "collapsed": true
   },
   "outputs": [],
   "source": [
    "def vector_dot(v, w):\n",
    "    return sum(v_i * w_i for v_i, w_i in zip(v, w))"
   ]
  },
  {
   "cell_type": "code",
   "execution_count": 22,
   "metadata": {
    "collapsed": false
   },
   "outputs": [
    {
     "data": {
      "text/plain": [
       "4"
      ]
     },
     "execution_count": 22,
     "metadata": {},
     "output_type": "execute_result"
    }
   ],
   "source": [
    "vector_dot(a, b)"
   ]
  },
  {
   "cell_type": "markdown",
   "metadata": {},
   "source": [
    "### 1.7 vector의 크기\n",
    "\n",
    "모든 성분들을 제곱한 값을 더한 뒤 제곱근을 구하면 됩니다.\n",
    "자기자신과의 내적값에 제곱근을 하는 것으로 쉽게 구할 수 있습니다."
   ]
  },
  {
   "cell_type": "code",
   "execution_count": 23,
   "metadata": {
    "collapsed": true
   },
   "outputs": [],
   "source": [
    "import math\n",
    "\n",
    "def magnitude(v):\n",
    "    return math.sqrt(vector_dot(v,v))"
   ]
  },
  {
   "cell_type": "code",
   "execution_count": 24,
   "metadata": {
    "collapsed": false
   },
   "outputs": [
    {
     "data": {
      "text/plain": [
       "2.23606797749979"
      ]
     },
     "execution_count": 24,
     "metadata": {},
     "output_type": "execute_result"
    }
   ],
   "source": [
    "magnitude(a)"
   ]
  },
  {
   "cell_type": "markdown",
   "metadata": {},
   "source": [
    "### 1.8 vector의 거리\n",
    "\n",
    "두 벡터간의 거리를 구하는 것은 각 성분들을 뺀값을 제곱한 다음에 제곱근을 취해주면 됩니다."
   ]
  },
  {
   "cell_type": "code",
   "execution_count": 29,
   "metadata": {
    "collapsed": true
   },
   "outputs": [],
   "source": [
    "def distance(v, w):\n",
    "    return math.sqrt(vector_dot(vector_subtract(v,w), vector_subtract(v,w)))"
   ]
  },
  {
   "cell_type": "code",
   "execution_count": 30,
   "metadata": {
    "collapsed": false
   },
   "outputs": [
    {
     "data": {
      "text/plain": [
       "1.4142135623730951"
      ]
     },
     "execution_count": 30,
     "metadata": {},
     "output_type": "execute_result"
    }
   ],
   "source": [
    "distance(a, b)"
   ]
  },
  {
   "cell_type": "markdown",
   "metadata": {},
   "source": [
    "두 백터의 뺄셈의 크기를 구하는것과도 같습니다."
   ]
  },
  {
   "cell_type": "code",
   "execution_count": 31,
   "metadata": {
    "collapsed": true
   },
   "outputs": [],
   "source": [
    "def distance(v, w):\n",
    "    return magnitude(vector_subtract(v,w))"
   ]
  },
  {
   "cell_type": "code",
   "execution_count": 32,
   "metadata": {
    "collapsed": false
   },
   "outputs": [
    {
     "data": {
      "text/plain": [
       "1.4142135623730951"
      ]
     },
     "execution_count": 32,
     "metadata": {},
     "output_type": "execute_result"
    }
   ],
   "source": [
    "distance(a, b)"
   ]
  },
  {
   "cell_type": "code",
   "execution_count": null,
   "metadata": {
    "collapsed": true
   },
   "outputs": [],
   "source": []
  }
 ],
 "metadata": {
  "anaconda-cloud": {},
  "kernelspec": {
   "display_name": "Python [conda root]",
   "language": "python",
   "name": "conda-root-py"
  },
  "language_info": {
   "codemirror_mode": {
    "name": "ipython",
    "version": 3
   },
   "file_extension": ".py",
   "mimetype": "text/x-python",
   "name": "python",
   "nbconvert_exporter": "python",
   "pygments_lexer": "ipython3",
   "version": "3.5.2"
  }
 },
 "nbformat": 4,
 "nbformat_minor": 0
}
