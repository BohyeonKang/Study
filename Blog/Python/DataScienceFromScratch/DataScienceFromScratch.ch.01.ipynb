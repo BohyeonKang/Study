{
 "cells": [
  {
   "cell_type": "markdown",
   "metadata": {},
   "source": [
    "# 밑바닥부터 시작하는 데이터 과학\n",
    "\n",
    "- 원서명 : Data Science from Scratch: First Principles with Python\n",
    "- 지은이 : Joel Grus\n",
    "- 원서 : <http://shop.oreilly.com/product/0636920033400.do>\n",
    "- 번역서 : <http://www.insightbook.co.kr/books/programming-insight>\n",
    "\n",
    "![책표지](./image/cover.png)\n",
    "\n",
    "- 출판사 예제코드 : <https://github.com/insight-book/data-science-from-scratch>\n",
    "\n",
    "위 책을 보면서 필자가 직접 코딩하면서 정리한 내용입니다.  \n",
    "책의 모든 내용을 다 포함하고 있지는 않으며, 책에 없는 부가적인 설명이 들어 갈 수 있습니다.  \n",
    "필자가 작성한 `Jupyter notebook`은 다음 Link에서 다운로드하여 실행이 가능합니다.\n",
    "\n",
    "- 본문 Jupyter notebook : <https://github.com/DevStarSJ/Study/tree/master/Blog/Python/DataScienceFromScratch>"
   ]
  },
  {
   "cell_type": "markdown",
   "metadata": {},
   "source": [
    "## 01 들어가기\n",
    "\n",
    "### 1 핵심인물 찾기\n",
    "\n",
    "사용자 데이터 `users` 와 그들간의 친구관계를 표현한 데이터 `friendships`"
   ]
  },
  {
   "cell_type": "code",
   "execution_count": 14,
   "metadata": {
    "collapsed": true
   },
   "outputs": [],
   "source": [
    "users = [\n",
    "    {\"id\": 0, \"name\": \"Hero\"},\n",
    "    {\"id\": 1, \"name\": \"Dunn\"},\n",
    "    {\"id\": 2, \"name\": \"Sue\"},\n",
    "    {\"id\": 3, \"name\": \"Chi\"},\n",
    "    {\"id\": 4, \"name\": \"Thor\"},\n",
    "    {\"id\": 5, \"name\": \"Clive\"},\n",
    "    {\"id\": 6, \"name\": \"Hicks\"},\n",
    "    {\"id\": 7, \"name\": \"Devin\"},\n",
    "    {\"id\": 8, \"name\": \"Kate\"},\n",
    "    {\"id\": 9, \"name\": \"Klein\"}\n",
    "]"
   ]
  },
  {
   "cell_type": "code",
   "execution_count": 2,
   "metadata": {
    "collapsed": false
   },
   "outputs": [],
   "source": [
    "friendships = [(0,1),(0,2),(1,2),(1,3),(2,3),(3,4),(4,5),(5,6),(5,7),(6,8),(7,8),(8,9)]"
   ]
  },
  {
   "cell_type": "markdown",
   "metadata": {},
   "source": [
    "위 정보를 이용해서 각 사용자별 친구목록을 `users`에 추가"
   ]
  },
  {
   "cell_type": "code",
   "execution_count": 3,
   "metadata": {
    "collapsed": false
   },
   "outputs": [],
   "source": [
    "for user in users:\n",
    "    user[\"friends\"] = []\n",
    "\n",
    "for i, j in friendships:\n",
    "    users[i][\"friends\"].append(users[j])\n",
    "    users[j][\"friends\"].append(users[i])"
   ]
  },
  {
   "cell_type": "markdown",
   "metadata": {},
   "source": [
    "각 사용자별 평균 친구수는 몇명인가 ?"
   ]
  },
  {
   "cell_type": "code",
   "execution_count": 4,
   "metadata": {
    "collapsed": true
   },
   "outputs": [],
   "source": [
    "def number_of_friends(user):\n",
    "    return len(user[\"friends\"])\n",
    "\n",
    "def total_connections(users):\n",
    "    return sum(number_of_friends(user) for user in users)\n",
    "\n",
    "def avg_connections(users):\n",
    "    return total_connections(users) / len(users) "
   ]
  },
  {
   "cell_type": "code",
   "execution_count": 5,
   "metadata": {
    "collapsed": false
   },
   "outputs": [
    {
     "data": {
      "text/plain": [
       "2.4"
      ]
     },
     "execution_count": 5,
     "metadata": {},
     "output_type": "execute_result"
    }
   ],
   "source": [
    "avg_connections(users)"
   ]
  },
  {
   "cell_type": "markdown",
   "metadata": {},
   "source": [
    "친구가 많은 사람부터 적은 사람 순으로 정렬"
   ]
  },
  {
   "cell_type": "code",
   "execution_count": 6,
   "metadata": {
    "collapsed": false
   },
   "outputs": [],
   "source": [
    "def sort_by_numFriend(users):\n",
    "    num_friends_by_id = [(user[\"id\"], number_of_friends(user)) for user in users]\n",
    "    return sorted(num_friends_by_id, key = lambda num_friend : num_friend[1], reverse=True)"
   ]
  },
  {
   "cell_type": "code",
   "execution_count": 7,
   "metadata": {
    "collapsed": false
   },
   "outputs": [
    {
     "data": {
      "text/plain": [
       "[(1, 3),\n",
       " (2, 3),\n",
       " (3, 3),\n",
       " (5, 3),\n",
       " (8, 3),\n",
       " (0, 2),\n",
       " (4, 2),\n",
       " (6, 2),\n",
       " (7, 2),\n",
       " (9, 1)]"
      ]
     },
     "execution_count": 7,
     "metadata": {},
     "output_type": "execute_result"
    }
   ],
   "source": [
    "sort_by_numFriend(users)"
   ]
  },
  {
   "cell_type": "markdown",
   "metadata": {},
   "source": [
    "### 2. 데이터 과학자 추천하기\n",
    "\n",
    "친구의 친구들 찾기"
   ]
  },
  {
   "cell_type": "code",
   "execution_count": 40,
   "metadata": {
    "collapsed": false
   },
   "outputs": [],
   "source": [
    "def friends_of_friend_ids_bad(user):\n",
    "    return [foaf[\"id\"]\n",
    "            for friend in user[\"friends\"]\n",
    "            for foaf in friend[\"friends\"]]"
   ]
  },
  {
   "cell_type": "code",
   "execution_count": 41,
   "metadata": {
    "collapsed": false
   },
   "outputs": [
    {
     "data": {
      "text/plain": [
       "[0, 2, 3, 0, 1, 3]"
      ]
     },
     "execution_count": 41,
     "metadata": {},
     "output_type": "execute_result"
    }
   ],
   "source": [
    "friends_of_friend_ids_bad(users[0])"
   ]
  },
  {
   "cell_type": "markdown",
   "metadata": {},
   "source": [
    "위 함수는 이름 뒤에 `_bad`를 붙인 만큼, 나쁜 함수 입니다.\n",
    "결과를 보면 같은 사람이 중복으로 여러번 들어가 있습니다.\n",
    "그러나 위 결과로 친구 사이에 같이 아는 친구(mutual friends)가 있다는 사실을 확인할 수 있습니다.\n",
    "\n",
    "이번에는 `mutual friends`(함께 아는 친구) 와 중복을 제외하는 것을 만들어 보겠습니다."
   ]
  },
  {
   "cell_type": "code",
   "execution_count": 43,
   "metadata": {
    "collapsed": false
   },
   "outputs": [],
   "source": [
    "def not_the_same(user, other_user):\n",
    "    return user[\"id\"] != other_user[\"id\"]\n",
    "\n",
    "def not_friends(user, other_user):\n",
    "    return all(not_the_same(friend, other_user) for friend in user[\"friends\"])\n",
    "\n",
    "from collections import Counter\n",
    "\n",
    "def friends_of_friend_ids(user):\n",
    "    return Counter(foaf[\"id\"]\n",
    "                    for friend in user[\"friends\"]\n",
    "                    for foaf in friend[\"friends\"]\n",
    "                    if  not_the_same(user, foaf) and not_friends(user, foaf))"
   ]
  },
  {
   "cell_type": "code",
   "execution_count": 44,
   "metadata": {
    "collapsed": false
   },
   "outputs": [
    {
     "data": {
      "text/plain": [
       "Counter({0: 2, 5: 1})"
      ]
     },
     "execution_count": 44,
     "metadata": {},
     "output_type": "execute_result"
    }
   ],
   "source": [
    "friends_of_friend_ids(users[3])"
   ]
  },
  {
   "cell_type": "markdown",
   "metadata": {
    "collapsed": true
   },
   "source": [
    "`Chi(3)`은 `Hero(0)`과 함께 아는 친구가 2명 있고, `Clive(5)`와 함께 아는 친구가 1명 이라는 것을 알 수 있습니다.\n",
    "\n",
    "각 사용자 별 관심사 `interests`에 대한 정보를 얻었습니다.\n",
    "관심사가 비슷한 사람을 찾아주는 함수를 생성해 보겠습니다."
   ]
  },
  {
   "cell_type": "code",
   "execution_count": 1,
   "metadata": {
    "collapsed": true
   },
   "outputs": [],
   "source": [
    "interests = [\n",
    "    (0, \"Hadoop\"), (0, \"Big Data\"), (0, \"HBase\"), (0, \"Java\"),\n",
    "    (0, \"Spark\"), (0, \"Storm\"), (0, \"Cassandra\"),\n",
    "    (1, \"NoSQL\"), (1, \"MongoDB\"), (1, \"Cassandra\"), (1, \"HBase\"),\n",
    "    (1, \"Postgres\"), (2, \"Python\"), (2, \"scikit-learn\"), (2, \"scipy\"),\n",
    "    (2, \"numpy\"), (2, \"statsmodels\"), (2, \"pandas\"), (3, \"R\"), (3, \"Python\"),\n",
    "    (3, \"statistics\"), (3, \"regression\"), (3, \"probability\"),\n",
    "    (4, \"machine learning\"), (4, \"regression\"), (4, \"decision trees\"),\n",
    "    (4, \"libsvm\"), (5, \"Python\"), (5, \"R\"), (5, \"Java\"), (5, \"C++\"),\n",
    "    (5, \"Haskell\"), (5, \"programming languages\"), (6, \"statistics\"),\n",
    "    (6, \"probability\"), (6, \"mathematics\"), (6, \"theory\"),\n",
    "    (7, \"machine learning\"), (7, \"scikit-learn\"), (7, \"Mahout\"),\n",
    "    (7, \"neural networks\"), (8, \"neural networks\"), (8, \"deep learning\"),\n",
    "    (8, \"Big Data\"), (8, \"artificial intelligence\"), (9, \"Hadoop\"),\n",
    "    (9, \"Java\"), (9, \"MapReduce\"), (9, \"Big Data\")\n",
    "]"
   ]
  },
  {
   "cell_type": "code",
   "execution_count": 4,
   "metadata": {
    "collapsed": true
   },
   "outputs": [],
   "source": [
    "def data_scientists_who_like(target_interest):\n",
    "    return [user_id \n",
    "            for user_id, user_interest in interests \n",
    "            if user_interest == target_interest]"
   ]
  },
  {
   "cell_type": "code",
   "execution_count": 5,
   "metadata": {
    "collapsed": false
   },
   "outputs": [
    {
     "data": {
      "text/plain": [
       "[2, 3, 5]"
      ]
     },
     "execution_count": 5,
     "metadata": {},
     "output_type": "execute_result"
    }
   ],
   "source": [
    "data_scientists_who_like(\"Python\")"
   ]
  },
  {
   "cell_type": "markdown",
   "metadata": {},
   "source": [
    "정상적으로 동작하지만, 항상 모든 범위에 대해서 `Full Scan`을 하게 되어서 효율이 좋지 않습니다.\n",
    "만약 사용자와 관심사가 많아질 경우를 대비하여 `index`를 생성하도록 하겠습니다.\n",
    "\n",
    "- 관심사에 대한 사용자 index\n",
    "- 사용자에 대한 관심사 index"
   ]
  },
  {
   "cell_type": "code",
   "execution_count": 6,
   "metadata": {
    "collapsed": true
   },
   "outputs": [],
   "source": [
    "from collections import defaultdict\n",
    "\n",
    "user_ids_by_interest = defaultdict(list)\n",
    "\n",
    "for user_id, interest in interests:\n",
    "    user_ids_by_interest[interest].append(user_id)"
   ]
  },
  {
   "cell_type": "code",
   "execution_count": 9,
   "metadata": {
    "collapsed": false
   },
   "outputs": [
    {
     "data": {
      "text/plain": [
       "defaultdict(list,\n",
       "            {'Big Data': [0, 8, 9],\n",
       "             'C++': [5],\n",
       "             'Cassandra': [0, 1],\n",
       "             'HBase': [0, 1],\n",
       "             'Hadoop': [0, 9],\n",
       "             'Haskell': [5],\n",
       "             'Java': [0, 5, 9],\n",
       "             'Mahout': [7],\n",
       "             'MapReduce': [9],\n",
       "             'MongoDB': [1],\n",
       "             'NoSQL': [1],\n",
       "             'Postgres': [1],\n",
       "             'Python': [2, 3, 5],\n",
       "             'R': [3, 5],\n",
       "             'Spark': [0],\n",
       "             'Storm': [0],\n",
       "             'artificial intelligence': [8],\n",
       "             'decision trees': [4],\n",
       "             'deep learning': [8],\n",
       "             'libsvm': [4],\n",
       "             'machine learning': [4, 7],\n",
       "             'mathematics': [6],\n",
       "             'neural networks': [7, 8],\n",
       "             'numpy': [2],\n",
       "             'pandas': [2],\n",
       "             'probability': [3, 6],\n",
       "             'programming languages': [5],\n",
       "             'regression': [3, 4],\n",
       "             'scikit-learn': [2, 7],\n",
       "             'scipy': [2],\n",
       "             'statistics': [3, 6],\n",
       "             'statsmodels': [2],\n",
       "             'theory': [6]})"
      ]
     },
     "execution_count": 9,
     "metadata": {},
     "output_type": "execute_result"
    }
   ],
   "source": [
    "user_ids_by_interest"
   ]
  },
  {
   "cell_type": "code",
   "execution_count": 10,
   "metadata": {
    "collapsed": true
   },
   "outputs": [],
   "source": [
    "interests_by_user_id = defaultdict(list)\n",
    "\n",
    "for user, interest in interests:\n",
    "    interests_by_user_id[user].append(interest)"
   ]
  },
  {
   "cell_type": "code",
   "execution_count": 11,
   "metadata": {
    "collapsed": false
   },
   "outputs": [
    {
     "data": {
      "text/plain": [
       "defaultdict(list,\n",
       "            {0: ['Hadoop',\n",
       "              'Big Data',\n",
       "              'HBase',\n",
       "              'Java',\n",
       "              'Spark',\n",
       "              'Storm',\n",
       "              'Cassandra'],\n",
       "             1: ['NoSQL', 'MongoDB', 'Cassandra', 'HBase', 'Postgres'],\n",
       "             2: ['Python',\n",
       "              'scikit-learn',\n",
       "              'scipy',\n",
       "              'numpy',\n",
       "              'statsmodels',\n",
       "              'pandas'],\n",
       "             3: ['R', 'Python', 'statistics', 'regression', 'probability'],\n",
       "             4: ['machine learning', 'regression', 'decision trees', 'libsvm'],\n",
       "             5: ['Python',\n",
       "              'R',\n",
       "              'Java',\n",
       "              'C++',\n",
       "              'Haskell',\n",
       "              'programming languages'],\n",
       "             6: ['statistics', 'probability', 'mathematics', 'theory'],\n",
       "             7: ['machine learning',\n",
       "              'scikit-learn',\n",
       "              'Mahout',\n",
       "              'neural networks'],\n",
       "             8: ['neural networks',\n",
       "              'deep learning',\n",
       "              'Big Data',\n",
       "              'artificial intelligence'],\n",
       "             9: ['Hadoop', 'Java', 'MapReduce', 'Big Data']})"
      ]
     },
     "execution_count": 11,
     "metadata": {},
     "output_type": "execute_result"
    }
   ],
   "source": [
    "interests_by_user_id"
   ]
  },
  {
   "cell_type": "markdown",
   "metadata": {},
   "source": [
    "특정 사용자와 유사한 관심사를 가진 사람을 찾아 보겠습니다.\n",
    "\n",
    "1. 해상 사용자의 관심사를 찾음\n",
    "2. 관심사가 같은 사용자들을 찾음\n",
    "3. 다른 사용자들이 몇번이나 등장했는지를 찾음"
   ]
  },
  {
   "cell_type": "code",
   "execution_count": 21,
   "metadata": {
    "collapsed": true
   },
   "outputs": [],
   "source": [
    "from collections import Counter\n",
    "\n",
    "def most_common_interests_with(user):\n",
    "    return Counter(user_in_interest \n",
    "        for interest in interests_by_user_id[user[\"id\"]]\n",
    "        for user_in_interest in user_ids_by_interest[interest]\n",
    "        if user_in_interest != user[\"id\"]).most_common()"
   ]
  },
  {
   "cell_type": "code",
   "execution_count": 22,
   "metadata": {
    "collapsed": false
   },
   "outputs": [
    {
     "data": {
      "text/plain": [
       "[(9, 3), (1, 2), (8, 1), (5, 1)]"
      ]
     },
     "execution_count": 22,
     "metadata": {},
     "output_type": "execute_result"
    }
   ],
   "source": [
    "most_common_interests_with(users[0])"
   ]
  },
  {
   "cell_type": "markdown",
   "metadata": {},
   "source": [
    "### 3. 연봉과 경력\n",
    "\n",
    "`연봉`과 `근속기간` 간의 관계를 알아보도록 하겠습니다."
   ]
  },
  {
   "cell_type": "code",
   "execution_count": 23,
   "metadata": {
    "collapsed": true
   },
   "outputs": [],
   "source": [
    "salaries_and_tenures = [(83000, 8.7), (88000, 8.1),\n",
    "                        (48000, 0.7), (76000, 6),\n",
    "                        (69000, 6.5), (76000, 7.5),\n",
    "                        (60000, 2.5), (83000, 10),\n",
    "                        (48000, 1.9), (63000, 4.2)]"
   ]
  },
  {
   "cell_type": "code",
   "execution_count": 24,
   "metadata": {
    "collapsed": true
   },
   "outputs": [],
   "source": [
    "%matplotlib inline"
   ]
  },
  {
   "cell_type": "code",
   "execution_count": 37,
   "metadata": {
    "collapsed": false
   },
   "outputs": [
    {
     "data": {
      "text/plain": [
       "<matplotlib.collections.PathCollection at 0x20dc582ee10>"
      ]
     },
     "execution_count": 37,
     "metadata": {},
     "output_type": "execute_result"
    },
    {
     "data": {
      "image/png": "[encoded data removed]",
      "text/plain": [
       "<matplotlib.figure.Figure at 0x20dc56d2668>"
      ]
     },
     "metadata": {},
     "output_type": "display_data"
    }
   ],
   "source": [
    "from pylab import scatter\n",
    "import seaborn\n",
    "\n",
    "y = [ salary for salary, tenure in salaries_and_tenures]\n",
    "x = [ tenure for salary, tenure in salaries_and_tenures]\n",
    "\n",
    "scatter(x, y)"
   ]
  },
  {
   "cell_type": "markdown",
   "metadata": {},
   "source": [
    "너무나도 당연하게 `근속연수`와 `연봉`은 `정비례` 관계에 있다는걸 확인 할 수 있습니다.\n",
    "좀 더 흥미로운 결과가 없는지 자세하게 살펴보도록 하겠습니다.\n",
    "위 데이터는 같은 근속연수가 없어서 큰 의미는 없지만, 근속연수 별 연봉 과 근속연수 별 평균 연봉을 구해보겠습니다."
   ]
  },
  {
   "cell_type": "code",
   "execution_count": 44,
   "metadata": {
    "collapsed": false
   },
   "outputs": [],
   "source": [
    "salary_by_tenure = defaultdict(list)\n",
    "\n",
    "for salary, tenure in salaries_and_tenures:\n",
    "    salary_by_tenure[tenure].append(salary)\n",
    "\n",
    "average_salary_by_tensure = { \n",
    "    tensure : sum(salaries) / len(salaries) \n",
    "    for tensure, salaries in salary_by_tenure.items()\n",
    "}"
   ]
  },
  {
   "cell_type": "code",
   "execution_count": 46,
   "metadata": {
    "collapsed": false
   },
   "outputs": [
    {
     "data": {
      "text/plain": [
       "{0.7: 48000.0,\n",
       " 1.9: 48000.0,\n",
       " 2.5: 60000.0,\n",
       " 4.2: 63000.0,\n",
       " 6: 76000.0,\n",
       " 6.5: 69000.0,\n",
       " 7.5: 76000.0,\n",
       " 8.1: 88000.0,\n",
       " 8.7: 83000.0,\n",
       " 10: 83000.0}"
      ]
     },
     "execution_count": 46,
     "metadata": {},
     "output_type": "execute_result"
    }
   ],
   "source": [
    "average_salary_by_tensure"
   ]
  },
  {
   "cell_type": "markdown",
   "metadata": {},
   "source": [
    "경력을 구간 별로 나누어서 해당 구간에 대해서 적용시켜 보도록 하겠습니다."
   ]
  },
  {
   "cell_type": "code",
   "execution_count": 48,
   "metadata": {
    "collapsed": false
   },
   "outputs": [],
   "source": [
    "def tunure_bucker(tunure):\n",
    "    if tenure < 2:\n",
    "        return \"less than two\"\n",
    "    elif tenure < 5:\n",
    "        return \"between two and five\"\n",
    "    return \"more than five\"\n",
    "\n",
    "salary_by_tenure_bucket = defaultdict(list)\n",
    "\n",
    "for salary, tenure in salaries_and_tenures:\n",
    "    salary_by_tenure_bucket[tunure_bucker(tenure)].append(salary)"
   ]
  },
  {
   "cell_type": "code",
   "execution_count": 49,
   "metadata": {
    "collapsed": false
   },
   "outputs": [
    {
     "data": {
      "text/plain": [
       "defaultdict(list,\n",
       "            {'between two and five': [60000, 63000],\n",
       "             'less than two': [48000, 48000],\n",
       "             'more than five': [83000, 88000, 76000, 69000, 76000, 83000]})"
      ]
     },
     "execution_count": 49,
     "metadata": {},
     "output_type": "execute_result"
    }
   ],
   "source": [
    "salary_by_tenure_bucket"
   ]
  },
  {
   "cell_type": "code",
   "execution_count": 51,
   "metadata": {
    "collapsed": false
   },
   "outputs": [],
   "source": [
    "average_salary_by_tenure_bucker = {\n",
    "    bucket: sum(salaries) / len(salaries) \n",
    "    for bucket, salaries in salary_by_tenure_bucket.items() \n",
    "}"
   ]
  },
  {
   "cell_type": "code",
   "execution_count": 52,
   "metadata": {
    "collapsed": false
   },
   "outputs": [
    {
     "data": {
      "text/plain": [
       "{'between two and five': 61500.0,\n",
       " 'less than two': 48000.0,\n",
       " 'more than five': 79166.66666666667}"
      ]
     },
     "execution_count": 52,
     "metadata": {},
     "output_type": "execute_result"
    }
   ],
   "source": [
    "average_salary_by_tenure_bucker"
   ]
  },
  {
   "cell_type": "markdown",
   "metadata": {},
   "source": [
    "### 4. 관심 주제\n",
    "\n",
    "앞에서 살펴본 `interests`에서 사람들이 가장 관심있어하는 주제가 무엇인지에 대해서 찾아보도록 하겠습니다.\n",
    "\n",
    "1. 모든  관심사를 소문자로 전환 (사용자에 따라 대/소문자를 구분하여 입력할 수 있음)\n",
    "2. 관심사를 단어 단위로 쪼갬\n",
    "3. 각 단어의 수를 센다."
   ]
  },
  {
   "cell_type": "code",
   "execution_count": 61,
   "metadata": {
    "collapsed": true
   },
   "outputs": [],
   "source": [
    "word_counter = Counter(word\n",
    "    for user, interest in interests\n",
    "    for word in interest.lower().split())"
   ]
  },
  {
   "cell_type": "code",
   "execution_count": 62,
   "metadata": {
    "collapsed": false
   },
   "outputs": [
    {
     "data": {
      "text/plain": [
       "Counter({'artificial': 1,\n",
       "         'big': 3,\n",
       "         'c++': 1,\n",
       "         'cassandra': 2,\n",
       "         'data': 3,\n",
       "         'decision': 1,\n",
       "         'deep': 1,\n",
       "         'hadoop': 2,\n",
       "         'haskell': 1,\n",
       "         'hbase': 2,\n",
       "         'intelligence': 1,\n",
       "         'java': 3,\n",
       "         'languages': 1,\n",
       "         'learning': 3,\n",
       "         'libsvm': 1,\n",
       "         'machine': 2,\n",
       "         'mahout': 1,\n",
       "         'mapreduce': 1,\n",
       "         'mathematics': 1,\n",
       "         'mongodb': 1,\n",
       "         'networks': 2,\n",
       "         'neural': 2,\n",
       "         'nosql': 1,\n",
       "         'numpy': 1,\n",
       "         'pandas': 1,\n",
       "         'postgres': 1,\n",
       "         'probability': 2,\n",
       "         'programming': 1,\n",
       "         'python': 3,\n",
       "         'r': 2,\n",
       "         'regression': 2,\n",
       "         'scikit-learn': 2,\n",
       "         'scipy': 1,\n",
       "         'spark': 1,\n",
       "         'statistics': 2,\n",
       "         'statsmodels': 1,\n",
       "         'storm': 1,\n",
       "         'theory': 1,\n",
       "         'trees': 1})"
      ]
     },
     "execution_count": 62,
     "metadata": {},
     "output_type": "execute_result"
    }
   ],
   "source": [
    "word_counter"
   ]
  },
  {
   "cell_type": "markdown",
   "metadata": {},
   "source": [
    "1번만 등장하는 단어는 별로 의미가 없어 보입니다.\n",
    "왜냐면 다른 사람과의 공통적인 관심사가 아니기 때문이죠.\n",
    "그래서 2번 이상 등장한 단어에 대해서만 결과를 추출해 보도록 하겠습니다."
   ]
  },
  {
   "cell_type": "code",
   "execution_count": 63,
   "metadata": {
    "collapsed": false
   },
   "outputs": [],
   "source": [
    "word_counter_at_least_two = { word : count for word, count in word_counter.items() if count > 1}"
   ]
  },
  {
   "cell_type": "code",
   "execution_count": 64,
   "metadata": {
    "collapsed": false
   },
   "outputs": [
    {
     "data": {
      "text/plain": [
       "{'big': 3,\n",
       " 'cassandra': 2,\n",
       " 'data': 3,\n",
       " 'hadoop': 2,\n",
       " 'hbase': 2,\n",
       " 'java': 3,\n",
       " 'learning': 3,\n",
       " 'machine': 2,\n",
       " 'networks': 2,\n",
       " 'neural': 2,\n",
       " 'probability': 2,\n",
       " 'python': 3,\n",
       " 'r': 2,\n",
       " 'regression': 2,\n",
       " 'scikit-learn': 2,\n",
       " 'statistics': 2}"
      ]
     },
     "execution_count": 64,
     "metadata": {},
     "output_type": "execute_result"
    }
   ],
   "source": [
    "word_counter_at_least_two"
   ]
  }
 ],
 "metadata": {
  "anaconda-cloud": {},
  "kernelspec": {
   "display_name": "Python [conda root]",
   "language": "python",
   "name": "conda-root-py"
  },
  "language_info": {
   "codemirror_mode": {
    "name": "ipython",
    "version": 3
   },
   "file_extension": ".py",
   "mimetype": "text/x-python",
   "name": "python",
   "nbconvert_exporter": "python",
   "pygments_lexer": "ipython3",
   "version": "3.5.2"
  }
 },
 "nbformat": 4,
 "nbformat_minor": 0
}
