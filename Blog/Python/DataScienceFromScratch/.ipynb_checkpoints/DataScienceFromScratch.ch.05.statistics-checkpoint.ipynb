{
 "cells": [
  {
   "cell_type": "markdown",
   "metadata": {},
   "source": [
    "# 밑바닥부터 시작하는 데이터 과학\n",
    "\n",
    "- 원서명 : Data Science from Scratch: First Principles with Python\n",
    "- 지은이 : Joel Grus\n",
    "- 원서 : <http://shop.oreilly.com/product/0636920033400.do>\n",
    "- 번역서 : <http://www.insightbook.co.kr/books/programming-insight>\n",
    "\n",
    "![책표지](./image/cover.png)\n",
    "\n",
    "- 출판사 예제코드 : <https://github.com/insight-book/data-science-from-scratch>\n",
    "\n",
    "위 책을 보면서 필자가 직접 코딩하면서 정리한 내용입니다.  \n",
    "책의 모든 내용을 다 포함하고 있지는 않으며, 책에 없는 부가적인 설명이 들어 갈 수 있습니다.  \n",
    "필자가 작성한 `Jupyter notebook`은 다음 Link에서 다운로드하여 실행이 가능합니다.\n",
    "\n",
    "- 본문 Jupyter notebook : <https://github.com/DevStarSJ/Study/tree/master/Blog/Python/DataScienceFromScratch>"
   ]
  },
  {
   "cell_type": "markdown",
   "metadata": {},
   "source": [
    "## 05 통계 (Statistics)\n",
    "\n",
    "\n",
    "### 1. 히스토그램(Histogram)\n",
    "\n",
    "100만개의 숫자로 된 데이터를 어떻게 가시화 할 것입니까 ?\n",
    "\n",
    "이럴 경우 각 구간별 누적치를 보여주는 그래프로 표현하면 어느정도 정데된 중요한 정보만을 보여 줄 수 있습니다."
   ]
  },
  {
   "cell_type": "code",
   "execution_count": 3,
   "metadata": {
    "collapsed": false
   },
   "outputs": [
    {
     "data": {
      "image/png": "[encoded data removed]",
      "text/plain": [
       "<matplotlib.figure.Figure at 0x1a32defdc50>"
      ]
     },
     "metadata": {},
     "output_type": "display_data"
    }
   ],
   "source": [
    "import matplotlib.pyplot as plt\n",
    "from collections import Counter\n",
    "\n",
    "num_friends = [100,49,41,40,25,21,21,19,19,18,18,16,15,15,15,15,14,14,13,13,13,13,12,12,11,10,10,10,10,10,10,10,10,10,10,10,10,10,10,10,9,9,9,9,9,9,9,9,9,9,9,9,9,9,9,9,9,9,8,8,8,8,8,8,8,8,8,8,8,8,8,7,7,7,7,7,7,7,7,7,7,7,7,7,7,7,6,6,6,6,6,6,6,6,6,6,6,6,6,6,6,6,6,6,6,6,6,6,5,5,5,5,5,5,5,5,5,5,5,5,5,5,5,5,5,4,4,4,4,4,4,4,4,4,4,4,4,4,4,4,4,4,4,4,4,3,3,3,3,3,3,3,3,3,3,3,3,3,3,3,3,3,3,3,3,2,2,2,2,2,2,2,2,2,2,2,2,2,2,2,2,2,1,1,1,1,1,1,1,1,1,1,1,1,1,1,1,1,1,1,1,1,1,1]\n",
    "\n",
    "friend_counts = Counter(num_friends)\n",
    "xs = range(101)\n",
    "ys = [friend_counts[x] for x in xs]\n",
    "\n",
    "plt.bar(xs, ys)\n",
    "plt.axis([0, 101, 0, 25])\n",
    "plt.title(\"Histogram of Friend Counts\")\n",
    "plt.xlabel(\"# of friends\")\n",
    "plt.ylabel(\"# of people\")\n",
    "plt.show()"
   ]
  },
  {
   "cell_type": "markdown",
   "metadata": {
    "collapsed": true
   },
   "source": [
    "각 사용자별 친구수 데이터를 이용하여 친구수에 따른 사용자 수에 대한 히스토그램을 그려봤습니다.\n",
    "\n",
    "히스토그램에 사용된 사용자수는 204명이며,"
   ]
  },
  {
   "cell_type": "code",
   "execution_count": 4,
   "metadata": {
    "collapsed": false
   },
   "outputs": [
    {
     "data": {
      "text/plain": [
       "204"
      ]
     },
     "execution_count": 4,
     "metadata": {},
     "output_type": "execute_result"
    }
   ],
   "source": [
    "len(num_friends)"
   ]
  },
  {
   "cell_type": "code",
   "execution_count": null,
   "metadata": {
    "collapsed": true
   },
   "outputs": [],
   "source": [
    "친구가 가장 적은 사람은 1명, 2번째로 적은 사람도 1명이며,  \n",
    "가장 많은 사람은 100명, 두번째로 많은 사람은 49명 입니다."
   ]
  },
  {
   "cell_type": "code",
   "execution_count": 10,
   "metadata": {
    "collapsed": false
   },
   "outputs": [
    {
     "name": "stdout",
     "output_type": "stream",
     "text": [
      "100\n",
      "1\n",
      "1\n",
      "49\n"
     ]
    }
   ],
   "source": [
    "print(max(num_friends))\n",
    "print(min(num_friends))\n",
    "\n",
    "num_friends.sort()\n",
    "print(num_friends[1])\n",
    "print(num_friends[-2])"
   ]
  },
  {
   "cell_type": "markdown",
   "metadata": {},
   "source": [
    "### 2. 중심 경향성 (central tendency)\n",
    "\n",
    "데이터의 중심이 어디 있는지를 나타내는 지표입니다.\n",
    "\n",
    "#### 2.1 평균 (mean, average)\n",
    "\n",
    "전체 데이터의 합을 개수로 나눈 값"
   ]
  },
  {
   "cell_type": "code",
   "execution_count": 11,
   "metadata": {
    "collapsed": true
   },
   "outputs": [],
   "source": [
    "def mean(x):\n",
    "    return sum(x) / len(x)"
   ]
  },
  {
   "cell_type": "code",
   "execution_count": 12,
   "metadata": {
    "collapsed": false
   },
   "outputs": [
    {
     "data": {
      "text/plain": [
       "7.333333333333333"
      ]
     },
     "execution_count": 12,
     "metadata": {},
     "output_type": "execute_result"
    }
   ],
   "source": [
    "mean(num_friends)"
   ]
  },
  {
   "cell_type": "markdown",
   "metadata": {},
   "source": [
    "#### 2.2 중앙값 (median)\n",
    "\n",
    "데이터의 개수가 홀수면 중간값, 짝수면 중앙 2개 값의 평균"
   ]
  },
  {
   "cell_type": "code",
   "execution_count": 13,
   "metadata": {
    "collapsed": true
   },
   "outputs": [],
   "source": [
    "def median(x):\n",
    "    n = len(x)\n",
    "    sorted_x = sorted(x)\n",
    "    m = n // 2\n",
    "    \n",
    "    return (sorted_x[m - 1] + sorted_x[m]) / 2 if n % 2 == 0 else sorted_x[m]"
   ]
  },
  {
   "cell_type": "code",
   "execution_count": 14,
   "metadata": {
    "collapsed": false
   },
   "outputs": [
    {
     "data": {
      "text/plain": [
       "6.0"
      ]
     },
     "execution_count": 14,
     "metadata": {},
     "output_type": "execute_result"
    }
   ],
   "source": [
    "median(num_friends)"
   ]
  },
  {
   "cell_type": "markdown",
   "metadata": {},
   "source": [
    "#### 2.3 분위 (quantile)\n",
    "\n",
    "중간값을 포괄하는 개념인데, 특정 백분위보다 낮은 값을 의미합니다.\n",
    "(중앙값은 50% 분위)"
   ]
  },
  {
   "cell_type": "code",
   "execution_count": 15,
   "metadata": {
    "collapsed": true
   },
   "outputs": [],
   "source": [
    "def quantile(x, p):\n",
    "    p_index = int(p * len(x))\n",
    "    return sorted(x)[p_index]"
   ]
  },
  {
   "cell_type": "code",
   "execution_count": 22,
   "metadata": {
    "collapsed": false
   },
   "outputs": [
    {
     "name": "stdout",
     "output_type": "stream",
     "text": [
      "1\n",
      "3\n",
      "6\n",
      "9\n",
      "13\n"
     ]
    }
   ],
   "source": [
    "print(quantile(num_friends, 0.10))\n",
    "print(quantile(num_friends, 0.25))\n",
    "print(quantile(num_friends, 0.50))\n",
    "print(quantile(num_friends, 0.75))\n",
    "print(quantile(num_friends, 0.90))"
   ]
  },
  {
   "cell_type": "markdown",
   "metadata": {},
   "source": [
    "#### 2.4 최빈값(mode)\n",
    "\n",
    "가장 자주 나오는 데이터값을 의미합니다."
   ]
  },
  {
   "cell_type": "code",
   "execution_count": 27,
   "metadata": {
    "collapsed": true
   },
   "outputs": [],
   "source": [
    "def mode(x):\n",
    "    counts = Counter(x)\n",
    "    max_count = max(counts.values())\n",
    "    return [x_i for x_i, count in counts.most_common() if count == max_count]"
   ]
  },
  {
   "cell_type": "code",
   "execution_count": 28,
   "metadata": {
    "collapsed": false
   },
   "outputs": [
    {
     "data": {
      "text/plain": [
       "[1, 6]"
      ]
     },
     "execution_count": 28,
     "metadata": {},
     "output_type": "execute_result"
    }
   ],
   "source": [
    "mode(num_friends)"
   ]
  },
  {
   "cell_type": "markdown",
   "metadata": {},
   "source": [
    "### 3. 산포도 (dispersion)\n",
    "\n",
    "데이터가 얼마나 퍼져 있는지를 나타냅니다.\n",
    "0에 가까울수록 거의 퍼지지 않았다는 것을 의미하고, 값이 커질수록 매우 퍼져 있다는 것을 의미하는 통계수치 입니다.\n",
    "\n",
    "#### 3.1 범위 (range)\n",
    "\n",
    "최대값과 최소값 사이의 차이 입니다."
   ]
  },
  {
   "cell_type": "code",
   "execution_count": 29,
   "metadata": {
    "collapsed": true
   },
   "outputs": [],
   "source": [
    "def data_range(x):\n",
    "    return max(x) - min(x)"
   ]
  },
  {
   "cell_type": "code",
   "execution_count": 30,
   "metadata": {
    "collapsed": false
   },
   "outputs": [
    {
     "data": {
      "text/plain": [
       "99"
      ]
     },
     "execution_count": 30,
     "metadata": {},
     "output_type": "execute_result"
    }
   ],
   "source": [
    "data_range(num_friends)"
   ]
  },
  {
   "cell_type": "markdown",
   "metadata": {},
   "source": [
    "#### 3.2 분산 (variance)\n",
    "\n",
    "$$Variance = \\frac { \\sum { { ({ x }_{ i }-{ x }_{ mean }) }^{ 2 } }  }{ n-1 }$$\n",
    "\n",
    "대상이 되는 데이터가 전체 데이터의 경우에는 분모를 `n`으로 나누지만 표본데이터인 경우에는 `n-1`로 나눕니다.\n",
    "이는 `bias`때문에 모분산에 대한 추정값이 실제 모분산보다 작게 계산되는 것을 보정해주기 위함입니다."
   ]
  },
  {
   "cell_type": "code",
   "execution_count": 37,
   "metadata": {
    "collapsed": true
   },
   "outputs": [],
   "source": [
    "def de_mean(x):\n",
    "    x_bar = mean(x)\n",
    "    return [x_i - x_bar for x_i in x]\n",
    "\n",
    "def variance(x):\n",
    "    n = len(x)\n",
    "    x_bar = mean(x)\n",
    "    deviations = [x_i**2 for x_i in de_mean(x)]\n",
    "    return sum(deviations) / (n-1)"
   ]
  },
  {
   "cell_type": "code",
   "execution_count": 38,
   "metadata": {
    "collapsed": false
   },
   "outputs": [
    {
     "data": {
      "text/plain": [
       "81.54351395730708"
      ]
     },
     "execution_count": 38,
     "metadata": {},
     "output_type": "execute_result"
    }
   ],
   "source": [
    "variance(num_friends)"
   ]
  },
  {
   "cell_type": "markdown",
   "metadata": {},
   "source": [
    "#### 3.3 표준편차 (standard deviation)\n",
    "\n",
    "다른 지표들은 모두 동일한 단위인데 분산만이 제곱 단위이기 때문에 이를 다른 지표와 같이 원래 단위로 낮춘 표준편차를 주로 이용합니다."
   ]
  },
  {
   "cell_type": "code",
   "execution_count": 33,
   "metadata": {
    "collapsed": true
   },
   "outputs": [],
   "source": [
    "import math\n",
    "\n",
    "def standard_deviation(x):\n",
    "    return math.sqrt(variance(x))"
   ]
  },
  {
   "cell_type": "code",
   "execution_count": 34,
   "metadata": {
    "collapsed": false
   },
   "outputs": [
    {
     "data": {
      "text/plain": [
       "9.030144736232476"
      ]
     },
     "execution_count": 34,
     "metadata": {},
     "output_type": "execute_result"
    }
   ],
   "source": [
    "standard_deviation(num_friends)"
   ]
  },
  {
   "cell_type": "markdown",
   "metadata": {},
   "source": [
    "### 4. 상관관계 (correlation)\n",
    "\n",
    "#### 4.1 공분산 (covariance)\n",
    "\n",
    "공분산은 두 변수가 각각의 평균에서 얼마나 떨어져 있는가를 의미합니다.\n",
    "\n",
    "$$Coveriance(X,Y) = \\frac { \\sum { { ({ x }_{ i }-{ x }_{ mean }) }{ ({ y }_{ i }-{ y }_{ mean }) } }  }{ n-1 }$$\n",
    "\n",
    "ch.04에서 사용한 `vector_dot()` 함수를 가져와서 사용하겠습니다."
   ]
  },
  {
   "cell_type": "code",
   "execution_count": 39,
   "metadata": {
    "collapsed": true
   },
   "outputs": [],
   "source": [
    "def vector_dot(v, w):\n",
    "    return sum(v_i * w_i for v_i, w_i in zip(v, w))"
   ]
  },
  {
   "cell_type": "markdown",
   "metadata": {},
   "source": [
    "앞서 살펴본 사용자별 친구수 `num_friends`와 사이트에서 머무는 시간 `daily_minutes`의 상관관계를 알아보도록 하겠습니다."
   ]
  },
  {
   "cell_type": "code",
   "execution_count": 46,
   "metadata": {
    "collapsed": true
   },
   "outputs": [],
   "source": [
    "num_friends = [100,49,41,40,25,21,21,19,19,18,18,16,15,15,15,15,14,14,13,13,13,13,12,12,11,10,10,10,10,10,10,10,10,10,10,10,10,10,10,10,9,9,9,9,9,9,9,9,9,9,9,9,9,9,9,9,9,9,8,8,8,8,8,8,8,8,8,8,8,8,8,7,7,7,7,7,7,7,7,7,7,7,7,7,7,7,6,6,6,6,6,6,6,6,6,6,6,6,6,6,6,6,6,6,6,6,6,6,5,5,5,5,5,5,5,5,5,5,5,5,5,5,5,5,5,4,4,4,4,4,4,4,4,4,4,4,4,4,4,4,4,4,4,4,4,3,3,3,3,3,3,3,3,3,3,3,3,3,3,3,3,3,3,3,3,2,2,2,2,2,2,2,2,2,2,2,2,2,2,2,2,2,1,1,1,1,1,1,1,1,1,1,1,1,1,1,1,1,1,1,1,1,1,1]\n",
    "daily_minutes = [1,68.77,51.25,52.08,38.36,44.54,57.13,51.4,41.42,31.22,34.76,54.01,38.79,47.59,49.1,27.66,41.03,36.73,48.65,28.12,46.62,35.57,32.98,35,26.07,23.77,39.73,40.57,31.65,31.21,36.32,20.45,21.93,26.02,27.34,23.49,46.94,30.5,33.8,24.23,21.4,27.94,32.24,40.57,25.07,19.42,22.39,18.42,46.96,23.72,26.41,26.97,36.76,40.32,35.02,29.47,30.2,31,38.11,38.18,36.31,21.03,30.86,36.07,28.66,29.08,37.28,15.28,24.17,22.31,30.17,25.53,19.85,35.37,44.6,17.23,13.47,26.33,35.02,32.09,24.81,19.33,28.77,24.26,31.98,25.73,24.86,16.28,34.51,15.23,39.72,40.8,26.06,35.76,34.76,16.13,44.04,18.03,19.65,32.62,35.59,39.43,14.18,35.24,40.13,41.82,35.45,36.07,43.67,24.61,20.9,21.9,18.79,27.61,27.21,26.61,29.77,20.59,27.53,13.82,33.2,25,33.1,36.65,18.63,14.87,22.2,36.81,25.53,24.62,26.25,18.21,28.08,19.42,29.79,32.8,35.99,28.32,27.79,35.88,29.06,36.28,14.1,36.63,37.49,26.9,18.58,38.48,24.48,18.95,33.55,14.24,29.04,32.51,25.63,22.22,19,32.73,15.16,13.9,27.2,32.01,29.27,33,13.74,20.42,27.32,18.23,35.35,28.48,9.08,24.62,20.12,35.26,19.92,31.02,16.49,12.16,30.7,31.22,34.65,13.13,27.51,33.2,31.57,14.1,33.42,17.44,10.12,24.42,9.82,23.39,30.93,15.03,21.67,31.09,33.29,22.61,26.89,23.48,8.38,27.81,32.35,23.84]"
   ]
  },
  {
   "cell_type": "code",
   "execution_count": 47,
   "metadata": {
    "collapsed": true
   },
   "outputs": [],
   "source": [
    "def covariance(x, y):\n",
    "    n = len(x)\n",
    "    return vector_dot(de_mean(x), de_mean(y)) / (n-1)"
   ]
  },
  {
   "cell_type": "code",
   "execution_count": 48,
   "metadata": {
    "collapsed": false
   },
   "outputs": [
    {
     "data": {
      "text/plain": [
       "22.425435139573064"
      ]
     },
     "execution_count": 48,
     "metadata": {},
     "output_type": "execute_result"
    }
   ],
   "source": [
    "covariance(num_friends, daily_minutes)"
   ]
  },
  {
   "cell_type": "markdown",
   "metadata": {},
   "source": [
    "공분산 값이 양수이면 x 와 y는 정비례 관계에 있다는 것을 의미하며, 음수이면 반비례 관계에 있다는 것을 의미합니다.\n",
    "공분산이 0이면 관계가 존재하지 않는 다는 것을 의미합니다.\n",
    "\n",
    "위의 예에서 사용자의 사용시간은 늘어나지 않는 상태에서 친구수만 두 배로 늘어난다면 공분산 또한 두 배로 증가할 것입니다.\n",
    "그렇다고 두 변수 사이에 상관관계를 변하지 않았습니다.\n",
    "공분산 값 자체의 크기로 상관관계를 분석하기 보다는 `공분산`에 각각의 `표준편차`를 나눠 준 `상관관계(correlation)`를 이용합니다.\n",
    "\n",
    "상관관계는 -1 에서 1 사이의 값을 가집니다. 1에 가까울수록 강한 관계를 나타내며 0에 가까울수록 상대적으로 약한 관계를 의미합니다.\n",
    "0은 아무런 관계가 없다는 것을 의미합니다."
   ]
  },
  {
   "cell_type": "code",
   "execution_count": 49,
   "metadata": {
    "collapsed": true
   },
   "outputs": [],
   "source": [
    "def correlation(x, y):\n",
    "    stdev_x = standard_deviation(x)\n",
    "    stdev_y = standard_deviation(y)\n",
    "    return covariance(x, y) / (stdev_x * stdev_y) if stdev_x > 0 and stdev_y > 0 else 0"
   ]
  },
  {
   "cell_type": "code",
   "execution_count": 50,
   "metadata": {
    "collapsed": false
   },
   "outputs": [
    {
     "data": {
      "text/plain": [
       "0.24736957366478216"
      ]
     },
     "execution_count": 50,
     "metadata": {},
     "output_type": "execute_result"
    }
   ],
   "source": [
    "correlation(num_friends, daily_minutes)"
   ]
  },
  {
   "cell_type": "markdown",
   "metadata": {},
   "source": [
    "0.25 정도로 약한 관계를 가지고 있는 것으로 나타났습니다. 그럼 이 지표를 이용해서 사용자의 친구수와 이용시간과 관계가 있다고 판단하기에는 너무 약합니다.\n",
    "두 변수의 값들을 `산포도`로 표현해 보겠습니다."
   ]
  },
  {
   "cell_type": "code",
   "execution_count": 57,
   "metadata": {
    "collapsed": false
   },
   "outputs": [
    {
     "data": {
      "image/png": "[encoded data removed]",
      "text/plain": [
       "<matplotlib.figure.Figure at 0x1a32e999d68>"
      ]
     },
     "metadata": {},
     "output_type": "display_data"
    }
   ],
   "source": [
    "def draw_scatter(x, y, title, x_label, y_label):\n",
    "    plt.scatter(x, y)\n",
    "    plt.title(title)\n",
    "    plt.xlabel(x_label)\n",
    "    plt.ylabel(y_label)\n",
    "    plt.show()\n",
    "\n",
    "draw_scatter(num_friends, daily_minutes, \"Correlation with an Outlier\", \"# of friends\", \"minutes per day\")"
   ]
  },
  {
   "cell_type": "markdown",
   "metadata": {},
   "source": [
    "`산포도`로 보니 군집에서 많이 벗어나있는 `이상치`가 하나 보입니다.\n",
    "(`# of friends`가 `100`인 값)\n",
    "이상치들을 제거한 뒤 다시 비교해 보겠습니다."
   ]
  },
  {
   "cell_type": "code",
   "execution_count": 58,
   "metadata": {
    "collapsed": false
   },
   "outputs": [
    {
     "data": {
      "image/png": "[encoded data removed]",
      "text/plain": [
       "<matplotlib.figure.Figure at 0x1a32ea102e8>"
      ]
     },
     "metadata": {},
     "output_type": "display_data"
    }
   ],
   "source": [
    "outlier = num_friends.index(100)\n",
    "num_friends_good = [ x for i, x in enumerate(num_friends) if i != outlier]\n",
    "daily_minutes_good = [ x for i, x in enumerate(daily_minutes) if i != outlier]\n",
    "\n",
    "draw_scatter(num_friends_good, daily_minutes_good, \"Correlation After Removing the Outlier\", \"# of friends\", \"minutes per day\")"
   ]
  },
  {
   "cell_type": "code",
   "execution_count": 59,
   "metadata": {
    "collapsed": false
   },
   "outputs": [
    {
     "data": {
      "text/plain": [
       "0.5736792115665573"
      ]
     },
     "execution_count": 59,
     "metadata": {},
     "output_type": "execute_result"
    }
   ],
   "source": [
    "correlation(num_friends_good, daily_minutes_good)"
   ]
  },
  {
   "cell_type": "markdown",
   "metadata": {},
   "source": [
    "이상치 값 1개만 제거했는데도 상관관계가 많이 올라갔습니다.\n",
    "데이터를 보고 이상치가 있는 경우 제거를 해주는게 훨씬 더 데이터를 분석하는데 도움이 된다는 사실을 확인 할 수 있습니다."
   ]
  },
  {
   "cell_type": "markdown",
   "metadata": {},
   "source": [
    "### 5. 상관관계의 주의 사항\n",
    "\n",
    "#### 5.1 심슨의 역설 (Simpson's paradox)\n",
    "\n",
    "혼재변수(confounding variable)을 누란한체 상관관계를 잘못계산한 것을 의미합니다.\n",
    "\n",
    "다른 모든 조건들이 동일할때 두 변수의 상과관계를 분석해야하는데, 어떠한 패턴이 존재하는 데이터에서 그것을 무시한체 상관관계를 구하면 안됩니다.\n",
    "이를 피할 수 있는 유일한 방법은 데이터를 이해하고 변수에 영향을 주는 모든 요인을 직접 확인해 볼 수 밖에 없습니다.\n",
    "\n",
    "#### 5.2 다른 종류의 관계 존재 여부 확인\n",
    "\n",
    "상관관계가 0이라도 다른 종류의 관계가 존재 할 수 있습니다."
   ]
  },
  {
   "cell_type": "code",
   "execution_count": 60,
   "metadata": {
    "collapsed": false
   },
   "outputs": [
    {
     "data": {
      "text/plain": [
       "0.0"
      ]
     },
     "execution_count": 60,
     "metadata": {},
     "output_type": "execute_result"
    }
   ],
   "source": [
    "x = [-2, -1, 0, 1, 2]\n",
    "y = [2, 1, 0, 1, 2]\n",
    "correlation(x, y)"
   ]
  },
  {
   "cell_type": "markdown",
   "metadata": {},
   "source": [
    "위에서 `x`와 `y`의 상관관계는 0으로 아무런 관계가 없다고 나오지만, 이 둘은 절대값이라는 관계를 가지고 있습니다.\n",
    "\n",
    "그리고 아래 예제는 완벽하게 연관되어 있지만, 그게 과연 어떤 의미가 있는지에 대해서 분석하는데는 큰 의미가 없을 수 있습니다."
   ]
  },
  {
   "cell_type": "code",
   "execution_count": 62,
   "metadata": {
    "collapsed": false
   },
   "outputs": [
    {
     "data": {
      "text/plain": [
       "1.0"
      ]
     },
     "execution_count": 62,
     "metadata": {},
     "output_type": "execute_result"
    }
   ],
   "source": [
    "x = [-2, -1, 0, 1, 2]\n",
    "y = [99.98, 99.99, 100, 100.01, 100.02]\n",
    "correlation(x, y)"
   ]
  },
  {
   "cell_type": "markdown",
   "metadata": {},
   "source": [
    "#### 5.3 상관관계와 인과관계\n",
    "\n",
    "상관관계만으로 인과관계를 해석하긴 힘듭니다.\n",
    "이 장에서 살펴본 예제의 경우에도 친구가 많아서 사이트에서 오래 머무는지, 사이트에서 오래 머물기 때문에 친구가 많아진 것인지에 대해서는 설명하기 힘듭니다.\n",
    "인가관계를 확인하는 방법 중에는 데이터 포인트를 무작위로 선택해서 확인해 보는 방법이 있습니다.\n",
    "\n",
    "### 6. 통계학 관련 라이브러리\n",
    "\n",
    "- `ScyPy`\n",
    "- `pandas`\n",
    "- `StatsModels`"
   ]
  },
  {
   "cell_type": "code",
   "execution_count": null,
   "metadata": {
    "collapsed": true
   },
   "outputs": [],
   "source": []
  }
 ],
 "metadata": {
  "anaconda-cloud": {},
  "kernelspec": {
   "display_name": "Python [conda root]",
   "language": "python",
   "name": "conda-root-py"
  },
  "language_info": {
   "codemirror_mode": {
    "name": "ipython",
    "version": 3
   },
   "file_extension": ".py",
   "mimetype": "text/x-python",
   "name": "python",
   "nbconvert_exporter": "python",
   "pygments_lexer": "ipython3",
   "version": "3.5.2"
  }
 },
 "nbformat": 4,
 "nbformat_minor": 0
}
