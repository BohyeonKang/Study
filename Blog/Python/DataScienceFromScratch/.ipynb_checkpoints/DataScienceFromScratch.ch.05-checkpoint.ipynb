{
 "cells": [
  {
   "cell_type": "markdown",
   "metadata": {},
   "source": [
    "# 밑바닥부터 시작하는 데이터 과학\n",
    "\n",
    "- 원서명 : Data Science from Scratch: First Principles with Python\n",
    "- 지은이 : Joel Grus\n",
    "- 원서 : <http://shop.oreilly.com/product/0636920033400.do>\n",
    "- 번역서 : <http://www.insightbook.co.kr/books/programming-insight>\n",
    "\n",
    "![책표지](./image/cover.png)\n",
    "\n",
    "- 출판사 예제코드 : <https://github.com/insight-book/data-science-from-scratch>\n",
    "\n",
    "위 책을 보면서 필자가 직접 코딩하면서 정리한 내용입니다.  \n",
    "책의 모든 내용을 다 포함하고 있지는 않으며, 책에 없는 부가적인 설명이 들어 갈 수 있습니다.  \n",
    "필자가 작성한 `Jupyter notebook`은 다음 Link에서 다운로드하여 실행이 가능합니다.\n",
    "\n",
    "- 본문 Jupyter notebook : <https://github.com/DevStarSJ/Study/tree/master/Blog/Python/DataScienceFromScratch>"
   ]
  },
  {
   "cell_type": "markdown",
   "metadata": {},
   "source": [
    "## 05 통계 (Statistics)\n",
    "\n",
    "\n",
    "### 1. 히스토그램(Histogram)\n",
    "\n",
    "각 구간별 누적치를 보여주는 그래프입니다."
   ]
  }
 ],
 "metadata": {
  "kernelspec": {
   "display_name": "Python [conda root]",
   "language": "python",
   "name": "conda-root-py"
  },
  "language_info": {
   "codemirror_mode": {
    "name": "ipython",
    "version": 3
   },
   "file_extension": ".py",
   "mimetype": "text/x-python",
   "name": "python",
   "nbconvert_exporter": "python",
   "pygments_lexer": "ipython3",
   "version": "3.5.2"
  }
 },
 "nbformat": 4,
 "nbformat_minor": 0
}
