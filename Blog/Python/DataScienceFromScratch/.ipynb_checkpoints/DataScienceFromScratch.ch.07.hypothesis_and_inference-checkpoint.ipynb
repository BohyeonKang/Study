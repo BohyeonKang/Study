{
 "cells": [
  {
   "cell_type": "markdown",
   "metadata": {},
   "source": [
    "# 밑바닥부터 시작하는 데이터 과학\n",
    "\n",
    "- 원서명 : Data Science from Scratch: First Principles with Python\n",
    "- 지은이 : Joel Grus\n",
    "- 원서 : <http://shop.oreilly.com/product/0636920033400.do>\n",
    "- 번역서 : <http://www.insightbook.co.kr/books/programming-insight>\n",
    "\n",
    "![책표지](./image/cover.png)\n",
    "\n",
    "- 출판사 예제코드 : <https://github.com/insight-book/data-science-from-scratch>\n",
    "\n",
    "위 책을 보면서 필자가 직접 코딩하면서 정리한 내용입니다.  \n",
    "책의 모든 내용을 다 포함하고 있지는 않으며, 책에 없는 부가적인 설명이 들어 갈 수 있습니다.  \n",
    "필자가 작성한 `Jupyter notebook`은 다음 Link에서 다운로드하여 실행이 가능합니다.\n",
    "\n",
    "- 본문 Jupyter notebook : <https://github.com/DevStarSJ/Study/tree/master/Blog/Python/DataScienceFromScratch>"
   ]
  },
  {
   "cell_type": "markdown",
   "metadata": {},
   "source": [
    "먼저 이번장에서 사용할 모듈들 및 이전장에서 작성한 함수들을 가져오겠습니다."
   ]
  },
  {
   "cell_type": "code",
   "execution_count": 1,
   "metadata": {
    "collapsed": true
   },
   "outputs": [],
   "source": [
    "import math, random"
   ]
  },
  {
   "cell_type": "code",
   "execution_count": 2,
   "metadata": {
    "collapsed": true
   },
   "outputs": [],
   "source": [
    "def normal_cdf(x, mu=0, sigma=1):\n",
    "    return (1 + math.erf((x - mu) / math.sqrt(2) / sigma)) / 2\n",
    "\n",
    "def inverse_normal_cdf(p, mu=0, sigma=1, tolerance=0.00001):\n",
    "    \n",
    "    # 무조건 표준정규분포로 검색\n",
    "    if mu != 0 or sigma !=1:\n",
    "        return mu + sigma * inverse_normal_cdf(p, tolerance=tolerance)\n",
    "    \n",
    "    low_z, low_p = -10, 0 # normal_cdf(-10) = 0\n",
    "    hi_z, hi_p = 10, 1    # normal_cdf(10) = 1\n",
    "    \n",
    "    while hi_z - low_z > tolerance:\n",
    "        mid_z = (low_z + hi_z) / 2 # 중간값\n",
    "        mid_p = normal_cdf(mid_z)  # 중간값의 누적분포\n",
    "        \n",
    "        if mid_p < p:\n",
    "            low_z, low_p = mid_z, mid_p\n",
    "        elif mid_p > p:\n",
    "            hi_z, hi_p = mid_z, mid_p\n",
    "        else:\n",
    "            break\n",
    "            \n",
    "    return mid_z"
   ]
  },
  {
   "cell_type": "markdown",
   "metadata": {},
   "source": [
    "## 07 가설과 추론 (hypothesis and inference)\n",
    "\n",
    "- `가설(hypothesis)` : 구체적인 주장. (ex. 동전의 앞뒤가 나올 확률은 같다.) 데이터 통계치에 대한 얘기로 변환 될 수 있음\n",
    "\n",
    "고전적인 가설 검증에서는 `귀무가설(H0, null hypothesis)`와 `대립가설(H1, alternative hypothesis)`로 구성하여 통계를 이용해서 `H0`를 기각할지 말지 결정하는 방법을 사용합니다.\n",
    "\n",
    "### 1. 예시: 동전 던지기\n",
    "\n",
    "동전의 앞뒤가 나올 확률이 같다는 것을 검증하기 위해서는 동전의 앞면이 나올 확률 `p=0.5`가 귀무가설이 되고, `p!= 0.5`가 대립가설이 됩니다.\n",
    "\n",
    "동전을 `n`번 던져서 앞면이 나온 횟수`X`를 세는 것으로 검정을 진행해 보겠습니다.\n",
    "동전던지기는 `베르누이 분포`를 따를 것이므로, `X`가 이항분포를 따르는 확률변수라는 말이 됩니다.\n",
    "이항분포는 정규분포에 가깝게 접근합니다."
   ]
  },
  {
   "cell_type": "code",
   "execution_count": 3,
   "metadata": {
    "collapsed": true
   },
   "outputs": [],
   "source": [
    "def normal_approximation_to_binomial(n, p):\n",
    "    mu = p * n\n",
    "    sigma = math.sqrt(p * (1 - p) * n)\n",
    "    return mu, sigma"
   ]
  },
  {
   "cell_type": "markdown",
   "metadata": {},
   "source": [
    "확률변수가 정규분포를 따른다는 가정하에, `normal_cdf`를 사용하면 실제 동전던지기로부터 얻은 값이 해당 구간에 존재할 확률을 계산할 수 있다."
   ]
  },
  {
   "cell_type": "code",
   "execution_count": 4,
   "metadata": {
    "collapsed": true
   },
   "outputs": [],
   "source": [
    "# 누적분포함수 : 확률변수가 특정 값보다 작을 확률\n",
    "normal_probability_below = normal_cdf\n",
    "\n",
    "# 만약 확률변ㅅ후가 특정 값보다 작지 않다면, 크다는 것을 의미\n",
    "def normal_probability_above(lo, mu=0, sigma=1):\n",
    "    return 1- normal_cdf(lo, mu, sigma)\n",
    "\n",
    "# hi와 lo 사이에 존재하는 확률변수 : hi보다 작고, lo보다 큰 범위\n",
    "def normal_probability_between(lo, hi, mu=0, sigma=1):\n",
    "    return normal_cdf(hi, mu, sigma) - normal_cdf(lo, mu, sigma)\n",
    "\n",
    "# 범위밖에 존재하는 확률변수\n",
    "def normal_probability_outside(lo, hi, mu=0, sigma=1):\n",
    "    return 1 - normal_probability_between(lo, hi, mu, sigma)"
   ]
  },
  {
   "cell_type": "markdown",
   "metadata": {},
   "source": [
    "반대로 확률이 주어졌을 때 평균을 중심으로 하는 대칭적인 구간을 구할 수도 있습니다.\n",
    "예를 들어 60%를 차지하는 구간을 구하고자 할 경우 양 쪽 부분에서 각각 20%를 차지하는 지점을 구하면 됩니다."
   ]
  },
  {
   "cell_type": "code",
   "execution_count": 5,
   "metadata": {
    "collapsed": true
   },
   "outputs": [],
   "source": [
    "# P(Z <= z) = probability인 z를 return\n",
    "def normal_upper_bound(probability, mu=0, sigma=1):\n",
    "    return inverse_normal_cdf(probability, mu, sigma)\n",
    "\n",
    "# P(Z >= z) = probability인 z를 return\n",
    "def normal_lower_bound(probability, mu=0, sigma=1):\n",
    "    return inverse_normal_cdf(1 - probability, mu, sigma)\n",
    "\n",
    "# probability를 중심으로 대칭적인 구간을 return\n",
    "def normal_two_sided_bounds(probability, mu=0, sigma=1):\n",
    "    tail_probability = (1 - probability) / 2\n",
    "    \n",
    "    upper_bound = normal_lower_bound(tail_probability, mu, sigma)\n",
    "    lower_bound = normal_upper_bound(tail_probability, mu, sigma)\n",
    "    \n",
    "    return lower_bound, upper_bound"
   ]
  },
  {
   "cell_type": "markdown",
   "metadata": {},
   "source": [
    "이제 실제로 1000번 던져보겠습니다."
   ]
  },
  {
   "cell_type": "code",
   "execution_count": 6,
   "metadata": {
    "collapsed": false
   },
   "outputs": [
    {
     "data": {
      "text/plain": [
       "(500.0, 15.811388300841896)"
      ]
     },
     "execution_count": 6,
     "metadata": {},
     "output_type": "execute_result"
    }
   ],
   "source": [
    "mu_0, sigma_0 = normal_approximation_to_binomial(1000, 0.5)\n",
    "\n",
    "mu_0, sigma_0"
   ]
  },
  {
   "cell_type": "markdown",
   "metadata": {},
   "source": [
    "X는 대량 평균 500에 표준편차 15.8인 정규분포를 따를것 입니다.\n",
    "\n",
    "#### 가설검정에서 오류의 종류\n",
    "\n",
    "|        | H0 참      | H1참       |\n",
    "|----- --|------------|------------|\n",
    "|H0 채택 | 옳은 결정  | 제2종 오류 |\n",
    "|H1 채택 | 제1종 오류 | 옳은 결정  |\n",
    "\n",
    "#### 통계적 검정\n",
    "\n",
    "1. `제1종 오류`를 범할 최대 한계치를 정함\n",
    "2. `제1종 오류`가 발생할 허용활률범위(`유의수준`)을 정함 : 1%, 5%, 10% 등... 통상 5%\n",
    "3. `제2종 오류`를 최소화\n",
    "4. 귀무가설(`H0`)이 맞다고 보고 사건이 일어날 확률을 구하고 이를 `유의수준`과 비교 : 확률이 유의수준보다 작으면 귀무가설 기각\n",
    "\n",
    "`제1종 오류`를 얼마나 허용해 줄 것인지를 의미하는 `유의수준(significance)`를 결정해야 합니다.\n",
    "`제1종 오류`란, 비록 H0가 참이지만 H0을 기각하는 `false positive(가양성)` 오류를 의미합니다.\n",
    "`유의수준`은 통상적으로 5%나 1%로 설정하는 경우가 많은데 여기서는 5%로 해 보겠습니다.\n",
    "\n",
    "* p = 0.5라는 가정에서 유의수준이 5%인 구간"
   ]
  },
  {
   "cell_type": "code",
   "execution_count": 7,
   "metadata": {
    "collapsed": false
   },
   "outputs": [
    {
     "data": {
      "text/plain": [
       "(469.01026640487555, 530.9897335951244)"
      ]
     },
     "execution_count": 7,
     "metadata": {},
     "output_type": "execute_result"
    }
   ],
   "source": [
    "normal_two_sided_bounds(0.95, mu_0, sigma_0)"
   ]
  },
  {
   "cell_type": "markdown",
   "metadata": {},
   "source": [
    "`H0`이 참이라면 (`p = 0.5`) `X`가 주어진 범위를 벗어날 확률은 5%밖에 되지 않아야 합니다. 즉 20번 중 19번은 올바른 결과가 나올것입니다.\n",
    "\n",
    "`제2종 오류`를 범하지 않을 확률을 구하면 `검정력(power)`을 알 수 있습니다.\n",
    "`제2종 오류`란 H0가 거짓이지만 H0를 기각하지 않는 오류를 의미합니다.\n",
    "H0가 거짓이란 것은 어떤 것을 의미할까요 ? 즉, P가 0.5가 아니라는 말 자체는 별 의미가 없으므로, P가 0.55일 확률에 대한 검정력을 구해보겠습니다.\n",
    "(앞면이 좀 더 자주 나오도록 확률이 약간 편향된 경우의 검정력)\n",
    "\n",
    "* p = 0.5라는 가정에서 유의수준이 5%인 구간"
   ]
  },
  {
   "cell_type": "code",
   "execution_count": 8,
   "metadata": {
    "collapsed": false
   },
   "outputs": [
    {
     "data": {
      "text/plain": [
       "(469.01026640487555, 530.9897335951244)"
      ]
     },
     "execution_count": 8,
     "metadata": {},
     "output_type": "execute_result"
    }
   ],
   "source": [
    "lo, hi = normal_two_sided_bounds(0.95, mu_0, sigma_0)\n",
    "lo, hi"
   ]
  },
  {
   "cell_type": "markdown",
   "metadata": {},
   "source": [
    "* P = 0.55인 경우의 실제 평균과 표준편차"
   ]
  },
  {
   "cell_type": "code",
   "execution_count": 9,
   "metadata": {
    "collapsed": false
   },
   "outputs": [
    {
     "data": {
      "text/plain": [
       "(550.0, 15.732132722552274)"
      ]
     },
     "execution_count": 9,
     "metadata": {},
     "output_type": "execute_result"
    }
   ],
   "source": [
    "mu_1, sigma_1 = normal_approximation_to_binomial(1000, 0.55)\n",
    "mu_1, sigma_1"
   ]
  },
  {
   "cell_type": "markdown",
   "metadata": {},
   "source": [
    " `제2종 오류`란 귀무가설(H0)를 기각하지 못한다는 의미입니다.\n",
    " 즉, X가 주어진 구간 안에 존재할 경우를 의미합니다."
   ]
  },
  {
   "cell_type": "code",
   "execution_count": 10,
   "metadata": {
    "collapsed": false
   },
   "outputs": [
    {
     "data": {
      "text/plain": [
       "0.8865480012953671"
      ]
     },
     "execution_count": 10,
     "metadata": {},
     "output_type": "execute_result"
    }
   ],
   "source": [
    "type_2_probability = normal_probability_between(lo, hi, mu_1, sigma_1)\n",
    "power = 1 -  type_2_probability\n",
    "power"
   ]
  },
  {
   "cell_type": "markdown",
   "metadata": {},
   "source": [
    "`P <= 0.5`, 즉 동전이 앞면에 편향되지 않았다는 경우를 귀무가설로 정한다면 X가 50보다 크면 귀무가설을 기각하고, 50보다 작으면 기각하지 않는 단측검정이 필요해집니다.\n",
    "유의수준이 5%인 가설검정을 위해서는 `normal_probability_below`를 사용하여 분포의 95%가 해당 값 이하인 경계 값을 찾을 수 있습니다."
   ]
  },
  {
   "cell_type": "code",
   "execution_count": 11,
   "metadata": {
    "collapsed": false
   },
   "outputs": [
    {
     "data": {
      "text/plain": [
       "526.0073585242053"
      ]
     },
     "execution_count": 11,
     "metadata": {},
     "output_type": "execute_result"
    }
   ],
   "source": [
    "hi = normal_upper_bound(0.95, mu_0, sigma_0)\n",
    "hi"
   ]
  },
  {
   "cell_type": "code",
   "execution_count": 12,
   "metadata": {
    "collapsed": false
   },
   "outputs": [
    {
     "data": {
      "text/plain": [
       "0.9363794803307173"
      ]
     },
     "execution_count": 12,
     "metadata": {},
     "output_type": "execute_result"
    }
   ],
   "source": [
    "type_2_probability = normal_probability_below(hi, mu_1, sigma_1)\n",
    "power = 1 - type_2_probability\n",
    "power"
   ]
  },
  {
   "cell_type": "markdown",
   "metadata": {},
   "source": [
    "이 가설검정에서는 X가 469보다 작을때 H0를 기각하는게 아니라, X가 526에서 531 사이일때 H0를 기각하기 때문에 전보다 검정력이 더 좋아졌다고 볼 수 있습니다."
   ]
  },
  {
   "cell_type": "markdown",
   "metadata": {},
   "source": [
    "### 2. p-value\n",
    "\n",
    "어떤 확률 값을 기준으로 구간을 선택하는 대신에, H0가 참이라고 가정하고 실제로 관측된 값보다 더 극단적인 값이 나올 확률을 구하는 것입니다.\n",
    "\n",
    "* 양측검정\n",
    "  - x가 평균보다 크면, x보다 큰 값이 나올 확률을 구하고\n",
    "  - x가 평균보다 작으면, x보다 작은 값이 나올 확률을 구함"
   ]
  },
  {
   "cell_type": "code",
   "execution_count": 13,
   "metadata": {
    "collapsed": true
   },
   "outputs": [],
   "source": [
    "def two_sided_p_value(x, mu=0, sigma=1):\n",
    "    if x >= mu:\n",
    "        return 2 * normal_probability_above(x, mu, sigma)\n",
    "    else:\n",
    "        return 2 * normal_probability_below(x, mu, sigma)"
   ]
  },
  {
   "cell_type": "markdown",
   "metadata": {},
   "source": [
    "만약 동전의 앞면이 나온 경우가 530번이라면, `p-value`는 다음과 같습니다."
   ]
  },
  {
   "cell_type": "code",
   "execution_count": 14,
   "metadata": {
    "collapsed": false
   },
   "outputs": [
    {
     "data": {
      "text/plain": [
       "0.06207721579598857"
      ]
     },
     "execution_count": 14,
     "metadata": {},
     "output_type": "execute_result"
    }
   ],
   "source": [
    "two_sided_p_value(529.5, mu_0, sigma_0)"
   ]
  },
  {
   "cell_type": "markdown",
   "metadata": {},
   "source": [
    "위 계산결과가 맞는지 시뮬레이션 해보겠습니다."
   ]
  },
  {
   "cell_type": "code",
   "execution_count": 15,
   "metadata": {
    "collapsed": false
   },
   "outputs": [
    {
     "data": {
      "text/plain": [
       "0.06306"
      ]
     },
     "execution_count": 15,
     "metadata": {},
     "output_type": "execute_result"
    }
   ],
   "source": [
    "extreme_value_count = 0\n",
    "for _ in range(100000):\n",
    "    num_heads = sum(1 if random.random() < 0.5 else 0 for _ in range(1000))\n",
    "    if num_heads >= 530 or num_heads <= 470:\n",
    "        extreme_value_count += 1\n",
    "\n",
    "extreme_value_count / 100000"
   ]
  },
  {
   "cell_type": "markdown",
   "metadata": {},
   "source": [
    "주사위를 1000번 던져서 앞면 (혹은 뒷면)이 530번 이상 나올 경우에 대해서  10만번 테스트 한 결과 6% 정도였습니다.\n",
    "즉 `p-value`가 6%이기 때문에 귀무가설을 기각하지 않습니다.\n",
    "만약 앞면이 523번 나왔을 경우에는 `p-value`는 5%보다 작은 값이 되기 때문에 귀무가설을 기각합니다."
   ]
  },
  {
   "cell_type": "code",
   "execution_count": 16,
   "metadata": {
    "collapsed": false
   },
   "outputs": [
    {
     "data": {
      "text/plain": [
       "0.046345287837786575"
      ]
     },
     "execution_count": 16,
     "metadata": {},
     "output_type": "execute_result"
    }
   ],
   "source": [
    "two_sided_p_value(531.5, mu_0, sigma_0)"
   ]
  },
  {
   "cell_type": "markdown",
   "metadata": {},
   "source": [
    "앞서 살펴본 방법과 통계를 바라보는 관점만 다를뿐 사실상 동일한 방법입니다."
   ]
  },
  {
   "cell_type": "code",
   "execution_count": 17,
   "metadata": {
    "collapsed": true
   },
   "outputs": [],
   "source": [
    "upper_p_value = normal_probability_above\n",
    "lower_p_value = normal_probability_below"
   ]
  },
  {
   "cell_type": "markdown",
   "metadata": {},
   "source": [
    "앞면이 525번 나온 경우 단측검정을 위한 `p-value` 값은 ?"
   ]
  },
  {
   "cell_type": "markdown",
   "metadata": {},
   "source": [
    "upper_p_value(524.5, mu_0, sigma_0)"
   ]
  },
  {
   "cell_type": "markdown",
   "metadata": {},
   "source": [
    "5%보다 크므로 귀무가설을 기각하지 않을 것입니다.\n",
    "만약 앞면이 527번 나왔다면 ?"
   ]
  },
  {
   "cell_type": "code",
   "execution_count": 18,
   "metadata": {
    "collapsed": false
   },
   "outputs": [
    {
     "data": {
      "text/plain": [
       "0.04686839508859242"
      ]
     },
     "execution_count": 18,
     "metadata": {},
     "output_type": "execute_result"
    }
   ],
   "source": [
    "upper_p_value(526.5, mu_0, sigma_0)"
   ]
  },
  {
   "cell_type": "markdown",
   "metadata": {},
   "source": [
    "5%보다 작으므로 귀무가설을 기각할 것입니다.\n",
    "\n",
    "단, `normal_probability_above`로 `p-value`를 계산하는 전제조건은 주어진 데이터가 정규푼포를 따라야 한다는 것입니다."
   ]
  },
  {
   "cell_type": "markdown",
   "metadata": {},
   "source": [
    "### 3. 신뢰구간 (confidence interval)\n",
    "\n",
    "지금까지는 `P`(앞면이 나올 미지의 분포를 나타내는 값)을 다양하게 바꿔가면서 가설검정을 해보았습니다.\n",
    "만약 사건에 대한 분포를 모른다면 관측된 값에 대한 `신뢰구간(confidence interval)`을 사용해서 가설을 검정할 수 있습니다.\n",
    "\n",
    "만약  동전을 1,000번 던져서 앞면이 525번 나왔을 경우, P는 0.525로 추정이 가능한데, 이 값에 대해서 얼마나 신뢰할 수 있을까요 ?\n",
    "P의 정확한 값을 알고 있다면 중심극한정리를 사용해서 베르누이 확률변수들의 평균이 P 이고 표준편차가 다음과 같은 정규분포로 추정할 수 있을 것입니다.\n",
    "(단 현재의 P는 정확한 평균이 아니라 그 추정치입니다.)"
   ]
  },
  {
   "cell_type": "code",
   "execution_count": 19,
   "metadata": {
    "collapsed": false
   },
   "outputs": [
    {
     "data": {
      "text/plain": [
       "0.015791611697353755"
      ]
     },
     "execution_count": 19,
     "metadata": {},
     "output_type": "execute_result"
    }
   ],
   "source": [
    "p_hat = 0.525\n",
    "sigma_hat = math.sqrt(p_hat * (1 - p_hat) / 1000)\n",
    "sigma_hat"
   ]
  },
  {
   "cell_type": "markdown",
   "metadata": {},
   "source": [
    "위에서 구한 통계치로 95% 구간을 구해보겠습니다."
   ]
  },
  {
   "cell_type": "code",
   "execution_count": 20,
   "metadata": {
    "collapsed": false
   },
   "outputs": [
    {
     "data": {
      "text/plain": [
       "(0.4940490278129096, 0.5559509721870904)"
      ]
     },
     "execution_count": 20,
     "metadata": {},
     "output_type": "execute_result"
    }
   ],
   "source": [
    "normal_two_sided_bounds(0.95, p_hat, sigma_hat)"
   ]
  },
  {
   "cell_type": "markdown",
   "metadata": {},
   "source": [
    "위 계산값의 범위(`신뢰구간`) 안에 `P=0.5`가 있기 때문에 공평하지 않다고 결론을 내릴 수 없습니다.\n",
    "\n",
    "만약 앞면이 540번 나왔을 경우라면 ?"
   ]
  },
  {
   "cell_type": "code",
   "execution_count": 21,
   "metadata": {
    "collapsed": false
   },
   "outputs": [
    {
     "data": {
      "text/plain": [
       "0.015760710643876435"
      ]
     },
     "execution_count": 21,
     "metadata": {},
     "output_type": "execute_result"
    }
   ],
   "source": [
    "p_hat = 540 / 1000\n",
    "sigma_hat = math.sqrt(p_hat * (1 - p_hat) / 1000)\n",
    "sigma_hat"
   ]
  },
  {
   "cell_type": "code",
   "execution_count": 22,
   "metadata": {
    "collapsed": false
   },
   "outputs": [
    {
     "data": {
      "text/plain": [
       "(0.5091095927295919, 0.5708904072704082)"
      ]
     },
     "execution_count": 22,
     "metadata": {},
     "output_type": "execute_result"
    }
   ],
   "source": [
    "normal_two_sided_bounds(0.95, p_hat, sigma_hat)"
   ]
  },
  {
   "cell_type": "markdown",
   "metadata": {},
   "source": [
    "공평한 동전(`P=0.5`)은 신뢰구간 밖에 존재하기 때문에, 가설이 참이라면 모든 경우의 95%에 대한 참인 가설검정을 통과하지 못하게 됩니다."
   ]
  },
  {
   "cell_type": "markdown",
   "metadata": {},
   "source": [
    "### 4. p-value 해킹"
   ]
  },
  {
   "cell_type": "code",
   "execution_count": 23,
   "metadata": {
    "collapsed": false
   },
   "outputs": [
    {
     "data": {
      "text/plain": [
       "46"
      ]
     },
     "execution_count": 23,
     "metadata": {},
     "output_type": "execute_result"
    }
   ],
   "source": [
    "def run_experiment():\n",
    "    return [random.random() < 0.5 for _ in range(1000)]\n",
    "\n",
    "def reject_fairness(experiment):\n",
    "    num_heads = len([flip for flip in experiment if flip])\n",
    "    return num_heads < 469 or num_heads > 531\n",
    "\n",
    "random.seed(0)\n",
    "experiments = [run_experiment() for _ in range(1000)]\n",
    "num_rejections = len([experiment for experiment in experiments if reject_fairness(experiment)])\n",
    "\n",
    "num_rejections"
   ]
  },
  {
   "cell_type": "markdown",
   "metadata": {
    "collapsed": true
   },
   "source": [
    "`p-value` 관점에서 추론을 하면 `p-value 해킹`이라는 문제가 발생할 수 있습니다.\n",
    "\n",
    "데이터 과학을 제대로 하고 싶다면 다음 세 가지를 지켜야 합니다.\n",
    "\n",
    "1. 가설은 데이터를 보기 전에 세운다.\n",
    "2. 데이터를 전처리할 때는 세워둔 가설을 잠시 잊는다.\n",
    "3. `p-value`는 전부가 아니다. (대안으로 베이지안 추론도 있음)"
   ]
  },
  {
   "cell_type": "markdown",
   "metadata": {},
   "source": [
    "### 5. A/B test\n",
    "\n",
    "*A*, *B* 두 가지 케이스에 대해서 *A*의 경우 *990/1,000*, *B*의 경우 *10/1,000* 처럼 차이가 명확한 경우에는 당연히 A가 더 높다고 말을 할 수 있지만, 그렇지 않은 경우에는 통계적 추론을 사용해야 합니다.\n",
    "\n",
    "${N}_{A}$ 명의 사용자가 광고 *A*를 보았고 그중 ${n}_{A}$명이 광고를 클릭했을 경우에 대해서 살펴보겠습니다.\n",
    "각각의 클릭을 **베르누이 시행**이라 볼 수 있으며 그 확률을 ${P}_{A}$라 합시다.\n",
    "${n}_{A} / {N}_{A}$는 평균이 ${P}_{A}$ 이고 표준편차가 ${ \\sigma  }_{ A }=\\sqrt { { P }_{ A }(1-{ P }_{ A })/N_{ A } }$ 인 정규분포에 근접할 것입니다.\n",
    "\n",
    "다른 사건인 *B*에 대해서도 동일한 수식으로 적용됩니다."
   ]
  },
  {
   "cell_type": "code",
   "execution_count": 24,
   "metadata": {
    "collapsed": true
   },
   "outputs": [],
   "source": [
    "def estimated_parameter(N, n):\n",
    "    p = n/N\n",
    "    sigma = math.sqrt(p * (1-p) / N)\n",
    "    return p, sigma"
   ]
  },
  {
   "cell_type": "markdown",
   "metadata": {},
   "source": [
    "*A*, *B*의 정규분포가 독립이라면(각각의 베르누이 시행은 독립적), 두 정규분포의 차이 또한 평균이 ${P}_{B} - {P}_{A}$ 이고 표준편차가 $\\sqrt { { { \\sigma  }_{ A } }^{ 2 }+{ { \\sigma  }_{ B } }^{ 2 } }$인 정규분포를 따릅니다.\n",
    "\n",
    "(실제로는 표준편차를 미리 알기 힘드므로, 데이터의 양이 충분히 크다면 정규분포를 그대로 사용해도 상관없습니다.)\n",
    "\n",
    "그렇다면 ${P}_{B} - {P}_{A} = 0$ 즉, 두 개가 같다는 귀무가설은 다음과 같은 통계치로 검정할 수 있습니다."
   ]
  },
  {
   "cell_type": "code",
   "execution_count": 25,
   "metadata": {
    "collapsed": true
   },
   "outputs": [],
   "source": [
    "def a_b_test_statistic(N_A, n_A, N_B, n_B):\n",
    "    p_A, sigma_A = estimated_parameter(N_A, n_A)\n",
    "    p_B, sigma_B = estimated_parameter(N_B, n_B)\n",
    "    return (p_B - p_A) / math.sqrt(sigma_A**2 + sigma_B**2)"
   ]
  },
  {
   "cell_type": "markdown",
   "metadata": {},
   "source": [
    "예를 들어, *A*를 본 1,000명 중 200명이 클릭을 했고, *B*를 본 1,000명 중 180명이 클릭을 했을 경우"
   ]
  },
  {
   "cell_type": "code",
   "execution_count": 26,
   "metadata": {
    "collapsed": false
   },
   "outputs": [
    {
     "data": {
      "text/plain": [
       "-1.1403464899034472"
      ]
     },
     "execution_count": 26,
     "metadata": {},
     "output_type": "execute_result"
    }
   ],
   "source": [
    "z = a_b_test_statistic(1000,200, 1000,180)\n",
    "z"
   ]
  },
  {
   "cell_type": "markdown",
   "metadata": {},
   "source": [
    "만약 두 분포의 평균이 같다면, 이런 차이가 발생할 확률은 다음과 같습니다."
   ]
  },
  {
   "cell_type": "code",
   "execution_count": 27,
   "metadata": {
    "collapsed": false
   },
   "outputs": [
    {
     "data": {
      "text/plain": [
       "0.254141976542236"
      ]
     },
     "execution_count": 27,
     "metadata": {},
     "output_type": "execute_result"
    }
   ],
   "source": [
    "two_sided_p_value(z)"
   ]
  },
  {
   "cell_type": "markdown",
   "metadata": {},
   "source": [
    "값이 크기 때문에 두 분포가 다르다고 결론을 내릴 수 없습니다. 만약 *B*를 본 사람중 150명이 클릭을 했을 경우라면 다음과 같은 결론이 나올 것입니다."
   ]
  },
  {
   "cell_type": "code",
   "execution_count": 28,
   "metadata": {
    "collapsed": false
   },
   "outputs": [
    {
     "name": "stdout",
     "output_type": "stream",
     "text": [
      "-2.948839123097944\n",
      "0.003189699706216853\n"
     ]
    }
   ],
   "source": [
    "z = a_b_test_statistic(1000,200, 1000,150)\n",
    "print(z)\n",
    "print(two_sided_p_value(z))"
   ]
  },
  {
   "cell_type": "markdown",
   "metadata": {},
   "source": [
    "즉, 두 광고가 동일한 효과일 경우 이런 차이가 날 확률은 0.003이라는 것을 의미하므로, 같은 효과라고 보기 힘듭니다."
   ]
  },
  {
   "cell_type": "markdown",
   "metadata": {},
   "source": [
    "### 6. 베이지안 추론\n",
    "\n",
    "위에서 살펴본 방법들은 통계적 검정을 확률적으로 설명하는것에 중점을 두었습니다. (예를 들어, 귀무가설이 사살일 경우 이렇게 극단적인 통계치가 발생할 확률은 3%이다.)\n",
    "\n",
    "다른 방법으로는 알려지지 않은 파라메터를 확률변수로 보는 방법이 있습니다."
   ]
  },
  {
   "cell_type": "code",
   "execution_count": 29,
   "metadata": {
    "collapsed": true
   },
   "outputs": [],
   "source": [
    "def B(alpha, beta):\n",
    "    ''' 모든 확률 값의 합이 1이 되도록 해주는 정규화 값 '''\n",
    "    return math.gamma(alpha) * math.gamma(beta) / math.gamma(alpha + beta)\n",
    "\n",
    "def beta_pdf(x, alpha, beta):\n",
    "    if x < 0 or x > 1:\n",
    "        return 0\n",
    "    return x**(alpha-1) * (1-x)**(beta-1) / B(alpha, beta)"
   ]
  },
  {
   "cell_type": "markdown",
   "metadata": {},
   "source": [
    "일반적인 베타분포의 중심은 *alpha / (alpha + beta)*이며, *alpha*와 *beta*가 클수록, 분포는 더 중심으로 몰려 있습니다.\n",
    "\n",
    "예를 들어 둘 다 1이라면, (중심이 0.5이고 굉장히 퍼진) 균등분포가 될 것이며, *alpha*가 훨씬 크다면 대부분은 1 근처에 있을 것이고, *beta*가 훨씬 크다면 대부분은 0 근처에 있을 것입니다."
   ]
  },
  {
   "cell_type": "code",
   "execution_count": null,
   "metadata": {
    "collapsed": true
   },
   "outputs": [],
   "source": []
  }
 ],
 "metadata": {
  "anaconda-cloud": {},
  "kernelspec": {
   "display_name": "Python [conda root]",
   "language": "python",
   "name": "conda-root-py"
  },
  "language_info": {
   "codemirror_mode": {
    "name": "ipython",
    "version": 3
   },
   "file_extension": ".py",
   "mimetype": "text/x-python",
   "name": "python",
   "nbconvert_exporter": "python",
   "pygments_lexer": "ipython3",
   "version": "3.5.2"
  }
 },
 "nbformat": 4,
 "nbformat_minor": 0
}
