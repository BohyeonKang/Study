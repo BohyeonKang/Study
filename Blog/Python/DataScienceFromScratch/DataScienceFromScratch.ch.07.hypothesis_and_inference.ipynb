{
 "cells": [
  {
   "cell_type": "markdown",
   "metadata": {},
   "source": [
    "# 밑바닥부터 시작하는 데이터 과학\n",
    "\n",
    "- 원서명 : Data Science from Scratch: First Principles with Python\n",
    "- 지은이 : Joel Grus\n",
    "- 원서 : <http://shop.oreilly.com/product/0636920033400.do>\n",
    "- 번역서 : <http://www.insightbook.co.kr/books/programming-insight>\n",
    "\n",
    "![책표지](./image/cover.png)\n",
    "\n",
    "- 출판사 예제코드 : <https://github.com/insight-book/data-science-from-scratch>\n",
    "\n",
    "위 책을 보면서 필자가 직접 코딩하면서 정리한 내용입니다.  \n",
    "책의 모든 내용을 다 포함하고 있지는 않으며, 책에 없는 부가적인 설명이 들어 갈 수 있습니다.  \n",
    "필자가 작성한 `Jupyter notebook`은 다음 Link에서 다운로드하여 실행이 가능합니다.\n",
    "\n",
    "- 본문 Jupyter notebook : <https://github.com/DevStarSJ/Study/tree/master/Blog/Python/DataScienceFromScratch>"
   ]
  },
  {
   "cell_type": "markdown",
   "metadata": {},
   "source": [
    "먼저 이번장에서 사용할 모듈들 및 이전장에서 작성한 함수들을 가져오겠습니다."
   ]
  },
  {
   "cell_type": "code",
   "execution_count": 8,
   "metadata": {
    "collapsed": true
   },
   "outputs": [],
   "source": [
    "import math, random\n",
    "\n",
    "def normal_cdf(x, mu=0, sigma=1):\n",
    "    return (1 + math.erf((x - mu) / math.sqrt(2) / sigma)) / 2\n",
    "\n",
    "def inverse_normal_cdf(p, mu=0, sigma=1, tolerance=0.00001):\n",
    "    \n",
    "    # 무조건 표준정규분포로 검색\n",
    "    if mu != 0 or sigma !=1:\n",
    "        return mu + sigma * inverse_normal_cdf(p, tolerance=tolerance)\n",
    "    \n",
    "    low_z, low_p = -10, 0 # normal_cdf(-10) = 0\n",
    "    hi_z, hi_p = 10, 1    # normal_cdf(10) = 1\n",
    "    \n",
    "    while hi_z - low_z > tolerance:\n",
    "        mid_z = (low_z + hi_z) / 2 # 중간값\n",
    "        mid_p = normal_cdf(mid_z)  # 중간값의 누적분포\n",
    "        \n",
    "        if mid_p < p:\n",
    "            low_z, low_p = mid_z, mid_p\n",
    "        elif mid_p > p:\n",
    "            hi_z, hi_p = mid_z, mid_p\n",
    "        else:\n",
    "            break\n",
    "            \n",
    "    return mid_z"
   ]
  },
  {
   "cell_type": "markdown",
   "metadata": {},
   "source": [
    "## 07 가설과 추론 (hypothesis and inference)\n",
    "\n",
    "- `가설(hypothesis)` : 구체적인 주장. (ex. 동전의 앞뒤가 나올 확률은 같다.) 데이터 통계치에 대한 얘기로 변환 될 수 있음\n",
    "\n",
    "고전적인 가설 검증에서는 `귀무가설(H0, null hypothesis)`와 `대립가설(H1, alternative hypothesis)`로 구성하여 통계를 이용해서 `H0`를 기각할지 말지 결정하는 방법을 사용합니다.\n",
    "\n",
    "### 1. 예시: 동전 던지기\n",
    "\n",
    "동전의 앞뒤가 나올 확률이 같다는 것을 검증하기 위해서는 동전의 앞면이 나올 확률 `p=0.5`가 귀무가설이 되고, `p!= 0.5`가 대립가설이 됩니다.\n",
    "\n",
    "동전을 `n`번 던져서 앞면이 나온 횟수`X`를 세는 것으로 검정을 진행해 보겠습니다.\n",
    "동전던지기는 `베르누이 분포`를 따를 것이므로, `X`가 이항분포를 따르는 확률변수라는 말이 됩니다.\n",
    "이항분포는 정규분포에 가깝게 접근합니다."
   ]
  },
  {
   "cell_type": "code",
   "execution_count": 2,
   "metadata": {
    "collapsed": true
   },
   "outputs": [],
   "source": [
    "def normal_approximation_to_binomial(n, p):\n",
    "    mu = p * n\n",
    "    sigma = math.sqrt(p * (1 - p) * n)\n",
    "    return mu, sigma"
   ]
  },
  {
   "cell_type": "markdown",
   "metadata": {},
   "source": [
    "확률변수가 정규분포를 따른다는 가정하에, `normal_cdf`를 사용하면 실제 동전던지기로부터 얻은 값이 해당 구간에 존재할 확률을 계산할 수 있다."
   ]
  },
  {
   "cell_type": "code",
   "execution_count": 5,
   "metadata": {
    "collapsed": true
   },
   "outputs": [],
   "source": [
    "# 누적분포함수 : 확률변수가 특정 값보다 작을 확률\n",
    "normal_probability_below = normal_cdf\n",
    "\n",
    "# 만약 확률변ㅅ후가 특정 값보다 작지 않다면, 크다는 것을 의미\n",
    "def normal_probability_above(lo, mu=0, sigma=1):\n",
    "    return 1- normal_cdf(lo, mu, sigma)\n",
    "\n",
    "# hi와 lo 사이에 존재하는 확률변수 : hi보다 작고, lo보다 큰 범위\n",
    "def normal_probability_between(lo, hi, mu=0, sigma=1):\n",
    "    return normal_cdf(hi, mu, sigma) - normal_cdf(lo, mu, sigma)\n",
    "\n",
    "# 범위밖에 존재하는 확률변수\n",
    "def normal_probability_outside(lo, hi, mu=0, sigma=1):\n",
    "    return 1 - normal_probability_between(lo, hi, mu, sigma)"
   ]
  },
  {
   "cell_type": "markdown",
   "metadata": {},
   "source": [
    "반대로 확률이 주어졌을 때 평균을 중심으로 하는 대칭적인 구간을 구할 수도 있습니다.\n",
    "예를 들어 60%를 차지하는 구간을 구하고자 할 경우 양 쪽 부분에서 각각 20%를 차지하는 지점을 구하면 됩니다."
   ]
  },
  {
   "cell_type": "code",
   "execution_count": 9,
   "metadata": {
    "collapsed": true
   },
   "outputs": [],
   "source": [
    "# P(Z <= z) = probability인 z를 return\n",
    "def normal_upper_bound(probability, mu=0, sigma=1):\n",
    "    return inverse_normal_cdf(probability, mu, sigma)\n",
    "\n",
    "# P(Z >= z) = probability인 z를 return\n",
    "def normal_lower_bound(probability, mu=0, sigma=1):\n",
    "    return inverse_normal_cdf(1 - probability, mu, sigma)\n",
    "\n",
    "# probability를 중심으로 대칭적인 구간을 return\n",
    "def normal_two_sided_bounds(probability, mu=0, sigma=1):\n",
    "    tail_probability = (1 - probability) / 2\n",
    "    \n",
    "    upper_bound = normal_lower_bound(tail_probability, mu, sigma)\n",
    "    lower_bound = normal_upper_bound(tail_probability, mu, sigma)\n",
    "    \n",
    "    return lower_bound, upper_bound"
   ]
  },
  {
   "cell_type": "markdown",
   "metadata": {},
   "source": [
    "이제 실제로 1000번 던져보겠습니다."
   ]
  },
  {
   "cell_type": "code",
   "execution_count": 4,
   "metadata": {
    "collapsed": false
   },
   "outputs": [
    {
     "data": {
      "text/plain": [
       "(500.0, 15.811388300841896)"
      ]
     },
     "execution_count": 4,
     "metadata": {},
     "output_type": "execute_result"
    }
   ],
   "source": [
    "mu_0, sigma_0 = normal_approximation_to_binomial(1000, 0.5)\n",
    "\n",
    "mu_0, sigma_0"
   ]
  },
  {
   "cell_type": "markdown",
   "metadata": {},
   "source": [
    "X는 대량 평균 500에 표준편차 15.8인 정규분포를 따를것 입니다.\n",
    "\n",
    "`제1종 오류`를 얼마나 허용해 줄 것인지를 의미하는 `유의수준(significance)`를 결정해야 합니다.\n",
    "`제1종 오류`란, 비록 H0가 참이지만 H0을 기각하는 `false positive(가양성)` 오류를 의미합니다.\n",
    "`유의수준`은 통상적으로 5%나 1%로 설정하는 경우가 많은데 여기서는 5%로 해 보겠습니다."
   ]
  },
  {
   "cell_type": "code",
   "execution_count": 10,
   "metadata": {
    "collapsed": false
   },
   "outputs": [
    {
     "data": {
      "text/plain": [
       "(469.01026640487555, 530.9897335951244)"
      ]
     },
     "execution_count": 10,
     "metadata": {},
     "output_type": "execute_result"
    }
   ],
   "source": [
    "normal_two_sided_bounds(0.95, mu_0, sigma_0)"
   ]
  },
  {
   "cell_type": "markdown",
   "metadata": {},
   "source": [
    "`H0`이 참이라면 (`p = 0.5`) `X`가 주어진 범위를 벗어날 확률은 5%밖에 되지 않아야 합니다. 즉 20번 중 19번은 올바른 결과가 나올것입니다.\n",
    "\n",
    "`제2종 오류`를 범하지 않을 확률을 구하면 `검정력(power)`을 알 수 있습니다.\n",
    "`제2종 오류`란 H0가 거짓이지만 H0를 기각하지 않는 오류를 의미합니다.\n",
    "H0가 거짓이란 것은 어떤 것을 의미할까요 ? 즉, P가 0.5가 아니라는 말 자체는 별 의미가 없으므로, P가 0.55일 확률에 대한 검정력을 구해보겠습니다."
   ]
  },
  {
   "cell_type": "code",
   "execution_count": null,
   "metadata": {
    "collapsed": true
   },
   "outputs": [],
   "source": []
  }
 ],
 "metadata": {
  "anaconda-cloud": {},
  "kernelspec": {
   "display_name": "Python [conda root]",
   "language": "python",
   "name": "conda-root-py"
  },
  "language_info": {
   "codemirror_mode": {
    "name": "ipython",
    "version": 3
   },
   "file_extension": ".py",
   "mimetype": "text/x-python",
   "name": "python",
   "nbconvert_exporter": "python",
   "pygments_lexer": "ipython3",
   "version": "3.5.2"
  }
 },
 "nbformat": 4,
 "nbformat_minor": 0
}
