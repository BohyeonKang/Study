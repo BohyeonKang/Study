{
 "cells": [
  {
   "cell_type": "markdown",
   "metadata": {},
   "source": [
    "### Chapter  3. 추정 (Deduce) 1\n",
    "\n",
    "#### 3.1 주사위 문제\n",
    "\n",
    "- 상자안에 4, 6, 8, 12, 20 면체 주사위가 1개씩 있는 경우\n",
    "- 임의의 주사위를 던져서 6이 나왔다.\n",
    "- 각 주사위를 선택했을 확율은 ?"
   ]
  },
  {
   "cell_type": "markdown",
   "metadata": {},
   "source": [
    "* 일단 프로그램을 사용하지 않고 손수 풀어보도록 하겠습니다.\n",
    "\n",
    "\n",
    "- 각 주사위별 6이 나올 확률\n",
    "  - P(4|6) = 0\n",
    "  - P(6|6) = 1/6\n",
    "  - P(8|6) = 1/8\n",
    "  - P(12|6) = 1/12\n",
    "  - P(20|6) = 1/20\n",
    "- 각 주사위를 뽑을 확률 : 1/5\n",
    "\n",
    "\n",
    "* 6이 나왔는 전체 확률의 합\n",
    "```\n",
    "1/6 + 1/8 + 1/12 + 1/20 = (20 + 15 + 10 + 6)/120 = 51/120\n",
    "```\n",
    "\n",
    "계산상 편의를 위해\n",
    "\n",
    "```\n",
    "(1/4) / (51/120) = 30/51\n",
    "```\n",
    "\n",
    "그럼 각각의 주사위별 확률\n",
    "\n",
    "- P(6) : (1/6) * (30/51) = 5/51\n",
    "- P(8) : (1/8) * (30/51) = 15/204\n",
    "- P(12) : (1/12) * (30/51) = 5/102\n",
    "- P(20) : (1/20) * (30/51) = 3/102"
   ]
  },
  {
   "cell_type": "code",
   "execution_count": 1,
   "metadata": {
    "collapsed": false
   },
   "outputs": [
    {
     "data": {
      "text/plain": [
       "0.25"
      ]
     },
     "execution_count": 1,
     "metadata": {},
     "output_type": "execute_result"
    }
   ],
   "source": [
    "(5/51) + (15/204) + (3/102) + (5/102)"
   ]
  },
  {
   "cell_type": "markdown",
   "metadata": {},
   "source": [
    "틀렸네요. 그럼 일단 4를 곱해서 계산을 해보면...\n",
    "\n",
    "- P(6) : (1/6) * (120/51) = 20/51\n",
    "- P(8) : (1/8) * (120/51) = 15/51\n",
    "- P(12) : (1/12) * (120/51) = 10/51\n",
    "- P(20) : (1/20) * (120/51) = 6/51"
   ]
  },
  {
   "cell_type": "code",
   "execution_count": 2,
   "metadata": {
    "collapsed": false
   },
   "outputs": [
    {
     "data": {
      "text/plain": [
       "51"
      ]
     },
     "execution_count": 2,
     "metadata": {},
     "output_type": "execute_result"
    }
   ],
   "source": [
    "20 + 15 + 10 + 6"
   ]
  },
  {
   "cell_type": "markdown",
   "metadata": {},
   "source": [
    "일단 전체 확률의 합이 1이 되는건 확인이 되었네요."
   ]
  },
  {
   "cell_type": "code",
   "execution_count": 8,
   "metadata": {
    "collapsed": false
   },
   "outputs": [
    {
     "name": "stdout",
     "output_type": "stream",
     "text": [
      "P(6) 0.39215686274509803\n",
      "P(8) 0.29411764705882354\n",
      "P(12) 0.19607843137254902\n",
      "P(20) 0.11764705882352941\n"
     ]
    }
   ],
   "source": [
    "print('P(6)', 20/51)\n",
    "print('P(8)', 15/51)\n",
    "print('P(12)', 10/51)\n",
    "print('P(20)', 6/51)"
   ]
  },
  {
   "cell_type": "markdown",
   "metadata": {},
   "source": [
    "위와 같이 계산이 되었습니다.\n",
    "\n",
    "이제 책에 있는 파이썬 코드대로 짜보겠습니다."
   ]
  },
  {
   "cell_type": "markdown",
   "metadata": {},
   "source": [
    "다음 3단계로 접근\n",
    "- 가설을 나타내자.\n",
    "- 데이터를 나타내자.\n",
    "- 우도 함수를 작성하자."
   ]
  },
  {
   "cell_type": "code",
   "execution_count": 3,
   "metadata": {
    "collapsed": true
   },
   "outputs": [],
   "source": [
    "from python_code.thinkbayes import Suite"
   ]
  },
  {
   "cell_type": "code",
   "execution_count": 4,
   "metadata": {
    "collapsed": true
   },
   "outputs": [],
   "source": [
    "class Dice(Suite):\n",
    "    def Likelihood(self, data, hypo):\n",
    "        if hypo < data:\n",
    "            return 0\n",
    "        return 1.0 / hypo"
   ]
  },
  {
   "cell_type": "code",
   "execution_count": 9,
   "metadata": {
    "collapsed": false
   },
   "outputs": [
    {
     "name": "stdout",
     "output_type": "stream",
     "text": [
      "4 0.0\n",
      "6 0.3921568627450979\n",
      "8 0.2941176470588235\n",
      "12 0.19607843137254896\n",
      "20 0.11764705882352941\n"
     ]
    }
   ],
   "source": [
    "dice = Dice([4,6,8,12,20])\n",
    "dice.Update(6)\n",
    "dice.Print()"
   ]
  },
  {
   "cell_type": "markdown",
   "metadata": {},
   "source": [
    "손으로 계산한거랑 같은 결과가 나왔습니다."
   ]
  },
  {
   "cell_type": "markdown",
   "metadata": {},
   "source": [
    "만약 주사위를 던져서 나온 수가 6,8,7,7,5,4 가 나왔다면,\n",
    "이 경우에는 8보다 작은 숫자의 주사위는 다 확률이 0이 되어야 합니다.\n",
    "\n",
    "일단 한번 던져서 6이 나온것은 이미 `Update`를 통해서 적용이 되었으므로 나머지 숫자에 대해서도 `Update` 해준 뒤 결과를 보면 됩니다."
   ]
  },
  {
   "cell_type": "code",
   "execution_count": 10,
   "metadata": {
    "collapsed": false
   },
   "outputs": [
    {
     "name": "stdout",
     "output_type": "stream",
     "text": [
      "4 0.0\n",
      "6 0.0\n",
      "8 0.9158452719690099\n",
      "12 0.08040342579700495\n",
      "20 0.0037513022339850668\n"
     ]
    }
   ],
   "source": [
    "for roll in [8, 7, 7, 5, 4]:\n",
    "    dice.Update(roll)\n",
    "\n",
    "dice.Print()"
   ]
  },
  {
   "cell_type": "code",
   "execution_count": null,
   "metadata": {
    "collapsed": true
   },
   "outputs": [],
   "source": []
  }
 ],
 "metadata": {
  "kernelspec": {
   "display_name": "Python [conda root]",
   "language": "python",
   "name": "conda-root-py"
  },
  "language_info": {
   "codemirror_mode": {
    "name": "ipython",
    "version": 3
   },
   "file_extension": ".py",
   "mimetype": "text/x-python",
   "name": "python",
   "nbconvert_exporter": "python",
   "pygments_lexer": "ipython3",
   "version": "3.5.2"
  }
 },
 "nbformat": 4,
 "nbformat_minor": 1
}
