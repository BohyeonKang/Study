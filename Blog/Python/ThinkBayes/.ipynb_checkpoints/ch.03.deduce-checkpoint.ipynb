{
 "cells": [
  {
   "cell_type": "markdown",
   "metadata": {},
   "source": [
    "### Chapter  3. 추정 (Deduce) 1\n",
    "\n",
    "#### 3.1 주사위 문제\n",
    "\n",
    "- 상자안에 4, 6, 8, 12, 20 면체 주사위가 1개씩 있는 경우\n",
    "- 임의의 주사위를 던져서 6이 나왔다.\n",
    "- 각 주사위를 선택했을 확율은 ?"
   ]
  },
  {
   "cell_type": "markdown",
   "metadata": {},
   "source": [
    "* 일단 프로그램을 사용하지 않고 손수 풀어보도록 하겠습니다.\n",
    "\n",
    "\n",
    "- 각 주사위별 6이 나올 확률\n",
    "  - P(4|6) = 0\n",
    "  - P(6|6) = 1/6\n",
    "  - P(8|6) = 1/8\n",
    "  - P(12|6) = 1/12\n",
    "  - P(20|6) = 1/20\n",
    "- 각 주사위를 뽑을 확률 : 1/5\n",
    "\n",
    "\n",
    "* 6이 나왔는 전체 확률의 합\n",
    "\n",
    "```\n",
    "1/6 + 1/8 + 1/12 + 1/20 = (20 + 15 + 10 + 6)/120 = 51/120\n",
    "```\n",
    "\n",
    "계산상 편의를 위해\n",
    "\n",
    "```\n",
    "(1/4) / (51/120) = 30/51\n",
    "```\n",
    "\n",
    "그럼 각각의 주사위별 확률\n",
    "\n",
    "- P(6) : (1/6) * (30/51) = 5/51\n",
    "- P(8) : (1/8) * (30/51) = 15/204\n",
    "- P(12) : (1/12) * (30/51) = 5/102\n",
    "- P(20) : (1/20) * (30/51) = 3/102"
   ]
  },
  {
   "cell_type": "code",
   "execution_count": 1,
   "metadata": {
    "collapsed": false
   },
   "outputs": [
    {
     "data": {
      "text/plain": [
       "0.25"
      ]
     },
     "execution_count": 1,
     "metadata": {},
     "output_type": "execute_result"
    }
   ],
   "source": [
    "(5/51) + (15/204) + (3/102) + (5/102)"
   ]
  },
  {
   "cell_type": "markdown",
   "metadata": {},
   "source": [
    "틀렸네요. 그럼 일단 4를 곱해서 계산을 해보면...\n",
    "\n",
    "- P(6) : (1/6) * (120/51) = 20/51\n",
    "- P(8) : (1/8) * (120/51) = 15/51\n",
    "- P(12) : (1/12) * (120/51) = 10/51\n",
    "- P(20) : (1/20) * (120/51) = 6/51"
   ]
  },
  {
   "cell_type": "code",
   "execution_count": 2,
   "metadata": {
    "collapsed": false
   },
   "outputs": [
    {
     "data": {
      "text/plain": [
       "51"
      ]
     },
     "execution_count": 2,
     "metadata": {},
     "output_type": "execute_result"
    }
   ],
   "source": [
    "20 + 15 + 10 + 6"
   ]
  },
  {
   "cell_type": "markdown",
   "metadata": {},
   "source": [
    "일단 전체 확률의 합이 1이 되는건 확인이 되었네요."
   ]
  },
  {
   "cell_type": "code",
   "execution_count": 3,
   "metadata": {
    "collapsed": false
   },
   "outputs": [
    {
     "name": "stdout",
     "output_type": "stream",
     "text": [
      "P(6) 0.39215686274509803\n",
      "P(8) 0.29411764705882354\n",
      "P(12) 0.19607843137254902\n",
      "P(20) 0.11764705882352941\n"
     ]
    }
   ],
   "source": [
    "print('P(6)', 20/51)\n",
    "print('P(8)', 15/51)\n",
    "print('P(12)', 10/51)\n",
    "print('P(20)', 6/51)"
   ]
  },
  {
   "cell_type": "markdown",
   "metadata": {},
   "source": [
    "위와 같이 계산이 되었습니다.\n",
    "\n",
    "이제 책에 있는 파이썬 코드대로 짜보겠습니다."
   ]
  },
  {
   "cell_type": "markdown",
   "metadata": {},
   "source": [
    "다음 3단계로 접근\n",
    "- 가설을 나타내자.\n",
    "- 데이터를 나타내자.\n",
    "- 우도 함수를 작성하자."
   ]
  },
  {
   "cell_type": "code",
   "execution_count": 4,
   "metadata": {
    "collapsed": false
   },
   "outputs": [],
   "source": [
    "from python_code.thinkbayes import Suite"
   ]
  },
  {
   "cell_type": "code",
   "execution_count": 5,
   "metadata": {
    "collapsed": true
   },
   "outputs": [],
   "source": [
    "class Dice(Suite):\n",
    "    def Likelihood(self, data, hypo):\n",
    "        if hypo < data:\n",
    "            return 0\n",
    "        return 1.0 / hypo"
   ]
  },
  {
   "cell_type": "code",
   "execution_count": 6,
   "metadata": {
    "collapsed": false
   },
   "outputs": [
    {
     "name": "stdout",
     "output_type": "stream",
     "text": [
      "4 0.0\n",
      "6 0.3921568627450979\n",
      "8 0.2941176470588235\n",
      "12 0.19607843137254896\n",
      "20 0.11764705882352941\n"
     ]
    }
   ],
   "source": [
    "dice = Dice([4,6,8,12,20])\n",
    "dice.Update(6)\n",
    "dice.Print()"
   ]
  },
  {
   "cell_type": "markdown",
   "metadata": {},
   "source": [
    "손으로 계산한거랑 같은 결과가 나왔습니다."
   ]
  },
  {
   "cell_type": "markdown",
   "metadata": {},
   "source": [
    "만약 주사위를 던져서 나온 수가 6,8,7,7,5,4 가 나왔다면,\n",
    "이 경우에는 8보다 작은 숫자의 주사위는 다 확률이 0이 되어야 합니다.\n",
    "\n",
    "일단 한번 던져서 6이 나온것은 이미 `Update`를 통해서 적용이 되었으므로 나머지 숫자에 대해서도 `Update` 해준 뒤 결과를 보면 됩니다."
   ]
  },
  {
   "cell_type": "code",
   "execution_count": 7,
   "metadata": {
    "collapsed": false
   },
   "outputs": [
    {
     "name": "stdout",
     "output_type": "stream",
     "text": [
      "4 0.0\n",
      "6 0.0\n",
      "8 0.9158452719690099\n",
      "12 0.08040342579700495\n",
      "20 0.0037513022339850668\n"
     ]
    }
   ],
   "source": [
    "for roll in [8, 7, 7, 5, 4]:\n",
    "    dice.Update(roll)\n",
    "\n",
    "dice.Print()"
   ]
  },
  {
   "cell_type": "markdown",
   "metadata": {},
   "source": [
    "#### 3.2 기관차 문제\n",
    "\n",
    "- 각 철도에는 이를 지나가는 기관차에 1부터 N까지의 순서로 번호를 붙인다.\n",
    "- 어느 날 60호 기관차를 보았다.\n",
    "- 이 철도에는 몇 개의 기관차가 지나가는지를 추축해보자."
   ]
  },
  {
   "cell_type": "markdown",
   "metadata": {},
   "source": [
    "수학적으로 풀어볼려니 어떻게 풀어야할지 감이 전혀 안잡힙니다.\n",
    "책에 나와있는 풀이를 보도록 하겠습니다."
   ]
  },
  {
   "cell_type": "markdown",
   "metadata": {},
   "source": [
    "- 베이지안 추론법에 따라 2단계로 해결\n",
    "  - 데이터를 보기 전에 N에 대해서 알고 있는 것은 무엇인가 ? (사전확률)\n",
    "  - N에 어떤 값이 주여졌을 때 관측한 데이터(60)의 우도는 어떻게 되는가 ? (우도)\n",
    "\n",
    "\n",
    "우선 N은 1에서 1,000 사이의 어떤 값이든 동일 확률로 선택될 수 있다고 가정."
   ]
  },
  {
   "cell_type": "code",
   "execution_count": 8,
   "metadata": {
    "collapsed": true
   },
   "outputs": [],
   "source": [
    "class Train(Suite):\n",
    "    \n",
    "    def Likelihood(self, data, hypo):\n",
    "        return 0 if hypo < data else 1/hypo"
   ]
  },
  {
   "cell_type": "code",
   "execution_count": 9,
   "metadata": {
    "collapsed": false
   },
   "outputs": [
    {
     "data": {
      "text/plain": [
       "0.0028222671142652746"
      ]
     },
     "execution_count": 9,
     "metadata": {},
     "output_type": "execute_result"
    }
   ],
   "source": [
    "hypos = range(1, 1001)\n",
    "train = Train(hypos)\n",
    "train.Update(60)\n"
   ]
  },
  {
   "cell_type": "markdown",
   "metadata": {},
   "source": [
    "`train.Print()`를 실행하기에는 값이 너무나도 많아 보이니 그래프로 표현해 보자."
   ]
  },
  {
   "cell_type": "code",
   "execution_count": 10,
   "metadata": {
    "collapsed": true
   },
   "outputs": [],
   "source": [
    "from matplotlib import pyplot as plt"
   ]
  },
  {
   "cell_type": "code",
   "execution_count": 11,
   "metadata": {
    "collapsed": false
   },
   "outputs": [
    {
     "data": {
      "image/png": "[encoded data removed]",
      "text/plain": [
       "<matplotlib.figure.Figure at 0x1bf58b36cf8>"
      ]
     },
     "metadata": {},
     "output_type": "display_data"
    }
   ],
   "source": [
    "items = dict(train.Items())\n",
    "plt.plot(list(items.keys()), list(items.values()))\n",
    "plt.show()"
   ]
  },
  {
   "cell_type": "code",
   "execution_count": 12,
   "metadata": {
    "collapsed": false
   },
   "outputs": [
    {
     "data": {
      "text/plain": [
       "0.005905417875729855"
      ]
     },
     "execution_count": 12,
     "metadata": {},
     "output_type": "execute_result"
    }
   ],
   "source": [
    "train.Prob(60)"
   ]
  },
  {
   "cell_type": "markdown",
   "metadata": {},
   "source": [
    "가장 높은 값인 `60`일 확률은 `0.006`으로 나옴"
   ]
  },
  {
   "cell_type": "code",
   "execution_count": 13,
   "metadata": {
    "collapsed": false
   },
   "outputs": [
    {
     "data": {
      "text/plain": [
       "333.41989326371095"
      ]
     },
     "execution_count": 13,
     "metadata": {},
     "output_type": "execute_result"
    }
   ],
   "source": [
    "train.Mean()"
   ]
  },
  {
   "cell_type": "markdown",
   "metadata": {},
   "source": [
    "전체의 평균 : 각 값 * 확률을 한 값은 `333`으로 나옴"
   ]
  },
  {
   "cell_type": "markdown",
   "metadata": {},
   "source": [
    "좀 더 큰 숫자 10만으로 해보면..."
   ]
  },
  {
   "cell_type": "code",
   "execution_count": 15,
   "metadata": {
    "collapsed": false
   },
   "outputs": [
    {
     "data": {
      "text/plain": [
       "7.426942383578215e-05"
      ]
     },
     "execution_count": 15,
     "metadata": {},
     "output_type": "execute_result"
    }
   ],
   "source": [
    "hypos = range(1, 100001)\n",
    "train = Train(hypos)\n",
    "train.Update(60)"
   ]
  },
  {
   "cell_type": "code",
   "execution_count": 16,
   "metadata": {
    "collapsed": false
   },
   "outputs": [
    {
     "data": {
      "image/png": "[encoded data removed]",
      "text/plain": [
       "<matplotlib.figure.Figure at 0x1bf58f53ef0>"
      ]
     },
     "metadata": {},
     "output_type": "display_data"
    }
   ],
   "source": [
    "items = dict(train.Items())\n",
    "plt.plot(list(items.keys()), list(items.values()))\n",
    "plt.show()"
   ]
  },
  {
   "cell_type": "code",
   "execution_count": 17,
   "metadata": {
    "collapsed": false
   },
   "outputs": [
    {
     "data": {
      "text/plain": [
       "0.0022440818584399547"
      ]
     },
     "execution_count": 17,
     "metadata": {},
     "output_type": "execute_result"
    }
   ],
   "source": [
    "train.Prob(60)"
   ]
  },
  {
   "cell_type": "code",
   "execution_count": 18,
   "metadata": {
    "collapsed": false
   },
   "outputs": [
    {
     "data": {
      "text/plain": [
       "13456.54710084947"
      ]
     },
     "execution_count": 18,
     "metadata": {},
     "output_type": "execute_result"
    }
   ],
   "source": [
    "train.Mean()"
   ]
  },
  {
   "cell_type": "markdown",
   "metadata": {},
   "source": [
    "결과값이 다르다.\n",
    "어떻게 이해를 해야할까 ???\n",
    "책에서 뒤에 설명이 나올수도 있으니 일단은 넘어가고 진행해보자."
   ]
  },
  {
   "cell_type": "markdown",
   "metadata": {},
   "source": [
    "#### 3.3 사전 확률로 할 수 있는 것\n",
    "\n",
    "아니다 다를까 바로 나온다.\n",
    "상한값에 따라 확률 및 평균이 다르게 나온다.\n",
    "그래서 이런 추론은 좋지 않다.\n",
    "\n",
    "\n",
    "따라서 두 가지 방식으로 진행할 수 있다.\n",
    "- 데이터를 더 확보할 것\n",
    "- 배경 지식을 더 확보할 것\n",
    "\n",
    "만약 60호 뿐만 아니라 30호 90호도 봤다면 사후 평균은 좀 더 비슷한 숫자들 사이로 모이게 된다."
   ]
  },
  {
   "cell_type": "code",
   "execution_count": 22,
   "metadata": {
    "collapsed": true
   },
   "outputs": [],
   "source": [
    "train_1000 = Train(range(1,1001))\n",
    "train_500 = Train(range(1,501))\n",
    "train_100000 = Train(range(1,100001))\n",
    "\n",
    "for data in [60, 30, 90]:\n",
    "    train_1000.Update(data)\n",
    "    train_500.Update(data)\n",
    "    train_100000.Update(data)"
   ]
  },
  {
   "cell_type": "code",
   "execution_count": 23,
   "metadata": {
    "collapsed": false
   },
   "outputs": [
    {
     "name": "stdout",
     "output_type": "stream",
     "text": [
      "1000 164.3055864227336\n",
      "500 151.84958795903822\n",
      "100000 178.8436582481276\n"
     ]
    }
   ],
   "source": [
    "print(1000, train_1000.Mean())\n",
    "print(500, train_500.Mean())\n",
    "print(100000, train_100000.Mean())      "
   ]
  },
  {
   "cell_type": "markdown",
   "metadata": {},
   "source": [
    "#### 3.4 사전 확률의 대안\n",
    "\n",
    "데이터를 더 확보하기 힘들다면, 배경지식을 더 확보해야한다.\n",
    "\n",
    "그 회사에서 일하는 사람에게 물어보거나, 전문가와 인터뷰를 하는 등으로 해서 회사의 규모를 알아야한다.\n",
    "\n",
    "그 모든 것이 다 힘들때는 `멱법칙`을 적용하는 방법이 있다.\n",
    "회사의 크기는 규모의 분포의 역수라는 뜻이다.\n",
    "\n",
    "이 법칙대로라면 기관차가 10대미만인 회사가 1000개일 경우, 100대를 소유한 회사는 100개고 1000개를 소유한 회사는 10개 1만대의 기차를 소유한 회사는 1개일 것이다."
   ]
  },
  {
   "cell_type": "code",
   "execution_count": 26,
   "metadata": {
    "collapsed": true
   },
   "outputs": [],
   "source": [
    "class Train2(Train):\n",
    "    def __init__(self, hypos, alpha=1.0):\n",
    "        Train.__init__(self)\n",
    "        for hypo in hypos:\n",
    "            self.Set(hypo, hypo**(-alpha))\n",
    "        self.Normalize()"
   ]
  },
  {
   "cell_type": "code",
   "execution_count": 29,
   "metadata": {
    "collapsed": false
   },
   "outputs": [],
   "source": [
    "train2_1000 = Train2(range(1,1001))\n",
    "train2_500 = Train2(range(1,501))\n",
    "train2_100000 = Train2(range(1,100001))\n",
    "\n",
    "for data in [60, 30, 90]:\n",
    "    train2_1000.Update(data)\n",
    "    train2_500.Update(data)\n",
    "    train2_100000.Update(data)"
   ]
  },
  {
   "cell_type": "code",
   "execution_count": 30,
   "metadata": {
    "collapsed": false
   },
   "outputs": [
    {
     "name": "stdout",
     "output_type": "stream",
     "text": [
      "1000 133.2752313750312\n",
      "500 130.70846986256004\n",
      "100000 134.25408214850083\n"
     ]
    }
   ],
   "source": [
    "print(1000, train2_1000.Mean())\n",
    "print(500, train2_500.Mean())\n",
    "print(100000, train2_100000.Mean()) "
   ]
  },
  {
   "cell_type": "markdown",
   "metadata": {},
   "source": [
    "멱법칙을 사용한 경우와 그렇지 않은 경우를 비교해 보자."
   ]
  },
  {
   "cell_type": "code",
   "execution_count": 31,
   "metadata": {
    "collapsed": false
   },
   "outputs": [
    {
     "data": {
      "image/png": "[encoded data removed]",
      "text/plain": [
       "<matplotlib.figure.Figure at 0x1bf5bdc0710>"
      ]
     },
     "metadata": {},
     "output_type": "display_data"
    }
   ],
   "source": [
    "items1 = dict(train_1000.Items())\n",
    "plt.plot(list(items1.keys()), list(items1.values()))\n",
    "\n",
    "items2 = dict(train2_1000.Items())\n",
    "plt.plot(list(items2.keys()), list(items2.values()))\n",
    "\n",
    "\n",
    "plt.show()"
   ]
  },
  {
   "cell_type": "code",
   "execution_count": 35,
   "metadata": {
    "collapsed": false
   },
   "outputs": [
    {
     "data": {
      "text/plain": [
       "0.022153967335034764"
      ]
     },
     "execution_count": 35,
     "metadata": {},
     "output_type": "execute_result"
    }
   ],
   "source": [
    "train_1000.Prob(90)"
   ]
  },
  {
   "cell_type": "code",
   "execution_count": 33,
   "metadata": {
    "collapsed": false,
    "scrolled": true
   },
   "outputs": [
    {
     "data": {
      "text/plain": [
       "0.032806390249462705"
      ]
     },
     "execution_count": 33,
     "metadata": {},
     "output_type": "execute_result"
    }
   ],
   "source": [
    "train2_1000.Prob(90)"
   ]
  },
  {
   "cell_type": "markdown",
   "metadata": {},
   "source": [
    "#### 3.5 신뢰구간\n",
    "\n",
    "통상적으로 어느 두 값 사이에 올 확률이 90%라 함은 그 값이 사후 분포 확률에서 5%와 95%에 해당하는 값을 나타내는 것을 의미한다."
   ]
  },
  {
   "cell_type": "code",
   "execution_count": 37,
   "metadata": {
    "collapsed": false
   },
   "outputs": [],
   "source": [
    "def Percentile(pmf, percentage):\n",
    "    p = percentage / 100\n",
    "    total = 0\n",
    "    for val, prob in pmf.Items():\n",
    "        total += prob\n",
    "        if total >= p:\n",
    "            return val"
   ]
  },
  {
   "cell_type": "code",
   "execution_count": 39,
   "metadata": {
    "collapsed": false
   },
   "outputs": [
    {
     "data": {
      "text/plain": [
       "(91, 243)"
      ]
     },
     "execution_count": 39,
     "metadata": {},
     "output_type": "execute_result"
    }
   ],
   "source": [
    "interval = Percentile(train2_100000, 5), Percentile(train2_100000, 95)\n",
    "interval"
   ]
  },
  {
   "cell_type": "markdown",
   "metadata": {},
   "source": [
    "멱법칙과 3개의 관측 결과를 사용한 경우 90% 신뢰구간은 `(91,243)`이다."
   ]
  },
  {
   "cell_type": "code",
   "execution_count": null,
   "metadata": {
    "collapsed": true
   },
   "outputs": [],
   "source": []
  }
 ],
 "metadata": {
  "anaconda-cloud": {},
  "kernelspec": {
   "display_name": "Python [conda root]",
   "language": "python",
   "name": "conda-root-py"
  },
  "language_info": {
   "codemirror_mode": {
    "name": "ipython",
    "version": 3
   },
   "file_extension": ".py",
   "mimetype": "text/x-python",
   "name": "python",
   "nbconvert_exporter": "python",
   "pygments_lexer": "ipython3",
   "version": "3.5.2"
  }
 },
 "nbformat": 4,
 "nbformat_minor": 1
}
