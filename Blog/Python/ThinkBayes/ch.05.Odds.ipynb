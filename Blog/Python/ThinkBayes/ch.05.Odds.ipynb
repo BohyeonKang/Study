{
 "cells": [
  {
   "cell_type": "markdown",
   "metadata": {},
   "source": [
    "### Chapter 5. 공산과 가산\n",
    "\n",
    "#### 5.1 공산(odds)\n",
    "\n",
    "일어나지 않을 때의 확률과 일어났을 때의 확률의 비율\n",
    "\n",
    "- `승산` : 팀 승률이 75%인 경우 이길 확률이 3배 더 크므로 `승산은 3 대 1`\n",
    "- `공산` : 이길 확률이 10%인 경우 `공산은 9 대 1`\n",
    "\n",
    "\n",
    "- 확률 -> 공산"
   ]
  },
  {
   "cell_type": "code",
   "execution_count": 1,
   "metadata": {
    "collapsed": true
   },
   "outputs": [],
   "source": [
    "def Odds(p):\n",
    "    return p / (1-p)"
   ]
  },
  {
   "cell_type": "code",
   "execution_count": 2,
   "metadata": {
    "collapsed": false
   },
   "outputs": [
    {
     "data": {
      "text/plain": [
       "1.0"
      ]
     },
     "execution_count": 2,
     "metadata": {},
     "output_type": "execute_result"
    }
   ],
   "source": [
    "Odds(0.5)"
   ]
  },
  {
   "cell_type": "code",
   "execution_count": 3,
   "metadata": {
    "collapsed": false
   },
   "outputs": [
    {
     "data": {
      "text/plain": [
       "3.0"
      ]
     },
     "execution_count": 3,
     "metadata": {},
     "output_type": "execute_result"
    }
   ],
   "source": [
    "Odds(0.75)"
   ]
  },
  {
   "cell_type": "markdown",
   "metadata": {},
   "source": [
    "- 공산 -> 확률"
   ]
  },
  {
   "cell_type": "code",
   "execution_count": 4,
   "metadata": {
    "collapsed": true
   },
   "outputs": [],
   "source": [
    "def Probability(o):\n",
    "    return o / (o+1)"
   ]
  },
  {
   "cell_type": "code",
   "execution_count": 5,
   "metadata": {
    "collapsed": false
   },
   "outputs": [
    {
     "data": {
      "text/plain": [
       "0.5"
      ]
     },
     "execution_count": 5,
     "metadata": {},
     "output_type": "execute_result"
    }
   ],
   "source": [
    "Probability(1)"
   ]
  },
  {
   "cell_type": "code",
   "execution_count": 6,
   "metadata": {
    "collapsed": false
   },
   "outputs": [
    {
     "data": {
      "text/plain": [
       "0.75"
      ]
     },
     "execution_count": 6,
     "metadata": {},
     "output_type": "execute_result"
    }
   ],
   "source": [
    "Probability(3)"
   ]
  },
  {
   "cell_type": "markdown",
   "metadata": {},
   "source": [
    "- 공산을 분모와 분자 형태로 표현"
   ]
  },
  {
   "cell_type": "code",
   "execution_count": 7,
   "metadata": {
    "collapsed": true
   },
   "outputs": [],
   "source": [
    "def Probability2(yes, no):\n",
    "    return yes / (yes + no)"
   ]
  },
  {
   "cell_type": "code",
   "execution_count": 8,
   "metadata": {
    "collapsed": false
   },
   "outputs": [
    {
     "data": {
      "text/plain": [
       "0.75"
      ]
     },
     "execution_count": 8,
     "metadata": {},
     "output_type": "execute_result"
    }
   ],
   "source": [
    "Probability2(3, 1)"
   ]
  },
  {
   "cell_type": "code",
   "execution_count": 9,
   "metadata": {
    "collapsed": false
   },
   "outputs": [
    {
     "data": {
      "text/plain": [
       "0.9"
      ]
     },
     "execution_count": 9,
     "metadata": {},
     "output_type": "execute_result"
    }
   ],
   "source": [
    "Probability2(9, 1)"
   ]
  },
  {
   "cell_type": "markdown",
   "metadata": {
    "collapsed": true
   },
   "source": [
    "#### 5.2 베이즈 이론의 공산 형태\n",
    "\n",
    "- 베이즈 이론\n",
    "\n",
    "$$p(H|D)\\quad =\\quad \\frac { p(H)p(D|H) }{ p(D) } $$\n",
    "\n",
    "- A, B라는 두 개의 가설이 있을 때 사후 확률비\n",
    "\n",
    "$$\\frac { p(A|D) }{ p(B|D) } \\quad =\\quad \\frac { p(H)p(D|H) }{ p(B)p(D|B) } $$\n",
    "\n",
    "- A와 B가 상호 배제적이라면 ( $p(B) = 1 - p(A)$ ) \n",
    "- A에 대한 공산을 $o(A)$로 쓰면\n",
    "\n",
    "$$o(A|D)\\quad =\\quad o(A)\\frac { p(D|A) }{ p(D|B) }$$\n",
    "\n",
    "즉, 사후 공산은 사전 공산과 우도비의 곱이란 뜻이다."
   ]
  },
  {
   "cell_type": "markdown",
   "metadata": {
    "collapsed": true
   },
   "source": [
    "앞서 살펴본 `쿠키 문제`를 이런식으로 다시 풀어보자면\n",
    "- 그릇1 : 바닐라 쿠키 30개, 초코렛 쿠키 10개\n",
    "- 그릇2 : 각각 20개씩\n",
    "- 바닐라 쿠키를 뽑았을 때, 그게 그릇 1에서 골랐을 확률은 ?\n",
    "\n",
    "위 식의 기호를 살펴보자면\n",
    "\n",
    "- D : 바닐라 쿠기를 뽑음\n",
    "- A : 그릇1에서 뽑음\n",
    "- o(A) : 그릇1에서 뽑는 공산 1:1\n",
    "- p(D|A) : 그릇 1에서 바닐라 쿠키를 뽑을 확률은 3/4\n",
    "- p(D|B) : 그릇 2에서 바닐라 쿠키를 뽑을 확률은 2/4\n",
    "- 위 내용으로 계산을 하면 o(A|D) = 3/2이므로 즉 공산은 3:2\n",
    "- 공산 3:2를 확률로 표현하면 3/5"
   ]
  },
  {
   "cell_type": "markdown",
   "metadata": {},
   "source": [
    "#### 5.3 올리버의 혈액형\n",
    "\n",
    "- 범죄 현장에서 두 사람의 혈흔이 발견\n",
    "  - O형 : 인구의 60%\n",
    "  - AB형 : 인구의 1%\n",
    "- 용의자 올리버의 혈액형은 O형\n",
    "- 혈액형만으로 올리버가 범인 중 한 명이라는 증거가 될 수 있을까 ?"
   ]
  },
  {
   "cell_type": "markdown",
   "metadata": {},
   "source": [
    "이 질문에 대해서 일단 스스로 풀어볼려 했으나... 잘 모르겠음. 그냥 책의 풀이를 보는 것으로..."
   ]
  },
  {
   "cell_type": "markdown",
   "metadata": {},
   "source": [
    "$$o(A|D) = o(A)\\frac { p(D|A) }{ p(D|B) }$$\n",
    "\n",
    "위 식을 o(A)로 나누면\n",
    "\n",
    "$$\\frac{o(A|D)}{o(A)} = \\frac { p(D|A) }{ p(D|B) }$$\n",
    "\n",
    "- 왼쪽 : 사후 공산과 사전 공산의 비\n",
    "- 오른쪽 : 우도비. `베이즈 요인`(Bayes factor).\n",
    "\n",
    "이 식의 경우 아래와 같이 해석될 수 있다.\n",
    "\n",
    "- 베이즈 요인이 1보다 크면 데이터는 B의 가정보다는 A의 가정에 가깝다는 뜻\n",
    "- 베이즈 요인이 1보다 작으면 B가정에 비해 A 가정일 때 더 적다는 뜻이므로 A의 공산이 낮아짐\n",
    "- 베이즈 요인이 정확히 1인 경우 공산은 변하지 않음\n",
    "\n",
    "그래서 이 식을 이용해서 풀어보자면\n",
    "\n",
    "- 올리버가 범죄 현장에 혈흔을 남긴 사람 중 1명일 확률은 AB형을 가진 임의의 사람에 대한 확률과 동일하므로 1% (이부분이 이해가 잘 안됨. 일단 넘어가고 담에 봐야할듯)\n",
    "- 올리버가 아닐 경우에는 임의의 두 사람을 검사했을 때 한 명이 O형이고, 다른 한 명이 AB형일 확률은 0.6 x 0.01 x 2 = 1.2% (왜냐면 순서에 따라 O+AB, AB+O의 두가지)\n",
    "- 아닐 확률에 대한 우도가 더 높으므로 범인이 아닐 확률이 더 큼\n",
    "\n",
    "책에서 설명한 풀이법으로도 여전히 이해가 잘 안됨"
   ]
  },
  {
   "cell_type": "markdown",
   "metadata": {},
   "source": [
    "#### 5.4 가산\n",
    "\n",
    "3개의 주사위(6면체)를 던져서 나온 수의 합에 대한 분포를 구하는 2가지 방법\n",
    "- 시뮬레이션 : 랜덤 샘플들을 만들어서 해당 값에 다한 분포로 구함\n",
    "- 나열 : 모든 가능한 수의 쌍을 나열하고 이 합의 분포를 계산\n",
    "\n",
    "우선 6면체 주사위에 대한 Pmf 생성"
   ]
  },
  {
   "cell_type": "code",
   "execution_count": 10,
   "metadata": {
    "collapsed": true
   },
   "outputs": [],
   "source": [
    "import python_code.thinkbayes as bayes\n",
    "from matplotlib import pyplot as plt"
   ]
  },
  {
   "cell_type": "code",
   "execution_count": 11,
   "metadata": {
    "collapsed": true
   },
   "outputs": [],
   "source": [
    "class Die(bayes.Pmf):\n",
    "\n",
    "    def __init__(self, sides):\n",
    "        bayes.Pmf.__init__(self)\n",
    "        for x in range(1, sides+1):\n",
    "            self.Set(x,1)\n",
    "        self.Normalize()"
   ]
  },
  {
   "cell_type": "code",
   "execution_count": 12,
   "metadata": {
    "collapsed": true
   },
   "outputs": [],
   "source": [
    "d6 = Die(6)"
   ]
  },
  {
   "cell_type": "markdown",
   "metadata": {},
   "source": [
    "먼저 `시뮬레이션` 방법으로 수행"
   ]
  },
  {
   "cell_type": "code",
   "execution_count": 33,
   "metadata": {
    "collapsed": false
   },
   "outputs": [],
   "source": [
    "dice = [d6] * 3\n",
    "three100 = bayes.SampleSum(dice, 100)\n",
    "three1000 = bayes.SampleSum(dice, 1000)\n",
    "three10000 = bayes.SampleSum(dice, 10000)\n",
    "three100000 = bayes.SampleSum(dice, 100000)"
   ]
  },
  {
   "cell_type": "code",
   "execution_count": 34,
   "metadata": {
    "collapsed": true
   },
   "outputs": [],
   "source": [
    "def add_pmf_to_plot(pmf):\n",
    "    item = dict(pmf.Items())\n",
    "    plt.plot(list(item.keys()), list(item.values()))"
   ]
  },
  {
   "cell_type": "code",
   "execution_count": 35,
   "metadata": {
    "collapsed": false
   },
   "outputs": [
    {
     "data": {
      "image/png": "[encoded data removed]",
      "text/plain": [
       "<matplotlib.figure.Figure at 0x10fbf22e8>"
      ]
     },
     "metadata": {},
     "output_type": "display_data"
    }
   ],
   "source": [
    "add_pmf_to_plot(three100)\n",
    "add_pmf_to_plot(three1000)\n",
    "add_pmf_to_plot(three10000)\n",
    "add_pmf_to_plot(three100000)\n",
    "plt.show()"
   ]
  },
  {
   "cell_type": "markdown",
   "metadata": {},
   "source": [
    "다른 방법으로는 모든 값의 쌍을 나열한 후 이를 더하고 각 쌍의 확률을 계산"
   ]
  },
  {
   "cell_type": "code",
   "execution_count": 39,
   "metadata": {
    "collapsed": false
   },
   "outputs": [
    {
     "data": {
      "text/plain": [
       "{3: 0.004629629629629629,\n",
       " 4: 0.013888888888888888,\n",
       " 5: 0.027777777777777776,\n",
       " 6: 0.046296296296296294,\n",
       " 7: 0.06944444444444445,\n",
       " 8: 0.09722222222222222,\n",
       " 9: 0.11574074074074073,\n",
       " 10: 0.125,\n",
       " 11: 0.125,\n",
       " 12: 0.11574074074074074,\n",
       " 13: 0.09722222222222224,\n",
       " 14: 0.06944444444444445,\n",
       " 15: 0.046296296296296294,\n",
       " 16: 0.027777777777777776,\n",
       " 17: 0.013888888888888888,\n",
       " 18: 0.004629629629629629}"
      ]
     },
     "execution_count": 39,
     "metadata": {},
     "output_type": "execute_result"
    }
   ],
   "source": [
    "three_exact = d6 + d6 + d6\n",
    "dict(three_exact.Items())"
   ]
  },
  {
   "cell_type": "code",
   "execution_count": 37,
   "metadata": {
    "collapsed": false
   },
   "outputs": [
    {
     "data": {
      "image/png": "[encoded data removed]",
      "text/plain": [
       "<matplotlib.figure.Figure at 0x10fcfd518>"
      ]
     },
     "metadata": {},
     "output_type": "display_data"
    }
   ],
   "source": [
    "add_pmf_to_plot(three_exact)\n",
    "plt.show()"
   ]
  },
  {
   "cell_type": "markdown",
   "metadata": {},
   "source": [
    "시뮬레이션 한 것(1만회)과 나열 한 것을 비교"
   ]
  },
  {
   "cell_type": "code",
   "execution_count": 40,
   "metadata": {
    "collapsed": false
   },
   "outputs": [
    {
     "data": {
      "image/png": "[encoded data removed]",
      "text/plain": [
       "<matplotlib.figure.Figure at 0x10fe0c710>"
      ]
     },
     "metadata": {},
     "output_type": "display_data"
    }
   ],
   "source": [
    "add_pmf_to_plot(three_exact)\n",
    "add_pmf_to_plot(three10000)\n",
    "plt.show()"
   ]
  },
  {
   "cell_type": "markdown",
   "metadata": {},
   "source": [
    "#### 5.4 최댓값\n",
    "\n",
    "최대값 분포를 계산하는 3가지 방법\n",
    "- 시뮬레이션 : 랜덤 샘플을 생성하여 최대값을 찾고, 최대값의 분포를 누적\n",
    "- 나열 : 모든 가능한 쌍을 ㅏ열하고 최대값의 분포를 구함\n",
    "- 멱법 : Pmf를 Cdf로 바꿀 때 최대값에서 Cdf를 구하는 단순하고 효과적인 알고리즘\n",
    "\n",
    "앞서 살펴본 `SampleSum`에서 `sum`을 `max`로 바꾸기만 하면 됨"
   ]
  },
  {
   "cell_type": "code",
   "execution_count": 42,
   "metadata": {
    "collapsed": false
   },
   "outputs": [],
   "source": [
    "def RandomMax(dists):\n",
    "    return max(dist.Random() for dist in dists)\n",
    "\n",
    "def SampleMax(dists, n):\n",
    "    return MakePmfFromList(RandomMax(dists) for _ in range(n))"
   ]
  },
  {
   "cell_type": "code",
   "execution_count": 43,
   "metadata": {
    "collapsed": true
   },
   "outputs": [],
   "source": [
    "def PmfMax(pmf1, pmf2):\n",
    "    res = bayes.Pmf()\n",
    "    for v1, p1 in pmf1.Items():\n",
    "        for v2, p2 in pmf2.Items():\n",
    "            res.Incr(max(v1, v2), p1*p2)\n",
    "    return res"
   ]
  },
  {
   "cell_type": "code",
   "execution_count": 44,
   "metadata": {
    "collapsed": true
   },
   "outputs": [],
   "source": [
    "best_attr_cdf = three_exact.Max(6)\n",
    "best_attr_pmf = best_attr_cdf.MakePmf()"
   ]
  },
  {
   "cell_type": "code",
   "execution_count": 45,
   "metadata": {
    "collapsed": false
   },
   "outputs": [
    {
     "data": {
      "image/png": "[encoded data removed]",
      "text/plain": [
       "<matplotlib.figure.Figure at 0x10fe3bb00>"
      ]
     },
     "metadata": {},
     "output_type": "display_data"
    }
   ],
   "source": [
    "add_pmf_to_plot(best_attr_pmf)\n",
    "plt.show()"
   ]
  },
  {
   "cell_type": "markdown",
   "metadata": {},
   "source": [
    "만약 던전앤드래곤 게임을 하는데 6개의 특성에 대해서 주사위를 3번 던져 그 값을 정할 경우, 1개라도 18이라는 최대값을 가질 확률은 약 3% 정도란 것을 알 수 있다."
   ]
  },
  {
   "cell_type": "markdown",
   "metadata": {},
   "source": [
    "#### 5.6 혼합\n",
    "\n",
    "한 상자에 주사위가 다음과 같이 들어 있을 경우\n",
    "\n",
    "- 4면체 : 5개\n",
    "- 6면체 : 4개\n",
    "- 8면체 : 3개\n",
    "- 12면체 : 2개\n",
    "- 20면체 : 1개\n",
    "\n",
    "주사위를 하나 골라서 굴렸을 경우의 결과값의 분포는 ?\n",
    "\n",
    "- 하나의 주사위에 대한 분포는 1부터 n까지의 균등 분포\n",
    "- 서로 다른 균등 분포의 혼합 형태로 나타남\n",
    "\n",
    "우선 6면체와 8면체의 두 개의 주사위만 있는 간단한 경우에 대해서 계산해보자."
   ]
  },
  {
   "cell_type": "code",
   "execution_count": 67,
   "metadata": {
    "collapsed": false
   },
   "outputs": [],
   "source": [
    "d6 = Die(6)\n",
    "d8 = Die(8)\n",
    "\n",
    "def mix_pmf(pmfs):\n",
    "    mix = bayes.Pmf()\n",
    "    for pmf in pmfs:\n",
    "        for outcome, prob in pmf.Items():\n",
    "            mix.Incr(outcome, prob)\n",
    "    mix.Normalize()\n",
    "    return mix\n",
    "\n",
    "mix = mix_pmf([d6, d8])"
   ]
  },
  {
   "cell_type": "code",
   "execution_count": 68,
   "metadata": {
    "collapsed": false
   },
   "outputs": [
    {
     "data": {
      "image/png": "[encoded data removed]",
      "text/plain": [
       "<matplotlib.figure.Figure at 0x11008ab70>"
      ]
     },
     "metadata": {},
     "output_type": "display_data"
    }
   ],
   "source": [
    "add_pmf_to_plot(mix)\n",
    "plt.show()"
   ]
  },
  {
   "cell_type": "markdown",
   "metadata": {},
   "source": [
    "이제 원래 문제를 풀어보자."
   ]
  },
  {
   "cell_type": "code",
   "execution_count": 69,
   "metadata": {
    "collapsed": false
   },
   "outputs": [],
   "source": [
    "def add_pmf(self, pmf, n):\n",
    "    for _ in range(n):\n",
    "        self.append(pmf)"
   ]
  },
  {
   "cell_type": "code",
   "execution_count": 70,
   "metadata": {
    "collapsed": false
   },
   "outputs": [],
   "source": [
    "dice_box = []\n",
    "add_pmf(dice_box, Die(4), 5)\n",
    "add_pmf(dice_box, Die(6), 4)\n",
    "add_pmf(dice_box, Die(8), 3)\n",
    "add_pmf(dice_box, Die(12), 2)\n",
    "add_pmf(dice_box, Die(20), 1)"
   ]
  },
  {
   "cell_type": "code",
   "execution_count": 71,
   "metadata": {
    "collapsed": false
   },
   "outputs": [],
   "source": [
    "mix_dice_box = mix_pmf(dice_box)"
   ]
  },
  {
   "cell_type": "code",
   "execution_count": 72,
   "metadata": {
    "collapsed": false
   },
   "outputs": [
    {
     "data": {
      "image/png": "[encoded data removed]",
      "text/plain": [
       "<matplotlib.figure.Figure at 0x110191160>"
      ]
     },
     "metadata": {},
     "output_type": "display_data"
    }
   ],
   "source": [
    "add_pmf_to_plot(mix_dice_box)\n",
    "plt.show()"
   ]
  }
 ],
 "metadata": {
  "anaconda-cloud": {},
  "kernelspec": {
   "display_name": "Python [conda root]",
   "language": "python",
   "name": "conda-root-py"
  },
  "language_info": {
   "codemirror_mode": {
    "name": "ipython",
    "version": 3
   },
   "file_extension": ".py",
   "mimetype": "text/x-python",
   "name": "python",
   "nbconvert_exporter": "python",
   "pygments_lexer": "ipython3",
   "version": "3.5.2"
  }
 },
 "nbformat": 4,
 "nbformat_minor": 1
}
