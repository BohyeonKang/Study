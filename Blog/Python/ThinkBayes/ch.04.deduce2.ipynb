{
 "cells": [
  {
   "cell_type": "markdown",
   "metadata": {},
   "source": [
    "### Chapter  4. 추정 (Deduce) 2\n",
    "\n",
    "#### 4.1 유로 문제\n",
    "\n",
    "- 동전을 250번 회전시켰을 때 앞면이 140회, 뒷면이 110회 나옴\n",
    "- 동전이 한 쪽으로 기울어진 게 아니라면, 이렇게 나올 확률은 7% 미만이라 주장\n",
    "- 이 데이터로 동전이 기울었다는 것을 증명할 수 있을까 ?\n",
    "\n",
    "\n",
    "이 문제를 풀기 위해서는 2단계를 거쳐야 함.\n",
    "1. 앞면이 나올 확률을 추정\n",
    "2. 기울었다는 가설을 지지하는지 평가\n",
    "\n",
    "\n",
    "앞면(H)가 나올 확률이 `x%` 라면, 뒷면(T)가 나올 확률은 `(100-x)%`\n",
    "\n",
    "먼저 가장 간단한 `균등 사전 분포`로 계산\n",
    "(모든 x에 대해서 같은 확률)"
   ]
  },
  {
   "cell_type": "code",
   "execution_count": 17,
   "metadata": {
    "collapsed": true
   },
   "outputs": [],
   "source": [
    "from python_code.thinkbayes import Suite\n",
    "from matplotlib import pyplot as plt\n",
    "import python_code.thinkbayes as bayes"
   ]
  },
  {
   "cell_type": "code",
   "execution_count": 2,
   "metadata": {
    "collapsed": true
   },
   "outputs": [],
   "source": [
    "class Euro(Suite):\n",
    "    \n",
    "    def Likelihood(self, data, hypo):\n",
    "        x = hypo if data == 'H' else (100 - hypo)\n",
    "        return x/100"
   ]
  },
  {
   "cell_type": "code",
   "execution_count": 5,
   "metadata": {
    "collapsed": false
   },
   "outputs": [],
   "source": [
    "euro = Euro(range(0,101))\n",
    "\n",
    "for data in 'H' * 140 + 'T' * 110:\n",
    "    euro.Update(data)"
   ]
  },
  {
   "cell_type": "code",
   "execution_count": 7,
   "metadata": {
    "collapsed": false
   },
   "outputs": [
    {
     "data": {
      "image/png": "[encoded data removed]",
      "text/plain": [
       "<matplotlib.figure.Figure at 0x1837dfdcd68>"
      ]
     },
     "metadata": {},
     "output_type": "display_data"
    }
   ],
   "source": [
    "items = dict(euro.Items())\n",
    "plt.plot(list(items.keys()), list(items.values()))\n",
    "plt.show()"
   ]
  },
  {
   "cell_type": "markdown",
   "metadata": {},
   "source": [
    "#### 4.2 사후 확률 요약\n",
    "\n",
    "위에서 계산한 결과를 토대로 한번 살펴보자면\n",
    "\n",
    "- 최대값"
   ]
  },
  {
   "cell_type": "code",
   "execution_count": 11,
   "metadata": {
    "collapsed": true
   },
   "outputs": [],
   "source": [
    "def MaxProb(pmf):\n",
    "    _, val = max((prob, val) for val, prob in pmf.Items())\n",
    "    return val"
   ]
  },
  {
   "cell_type": "code",
   "execution_count": 12,
   "metadata": {
    "collapsed": false
   },
   "outputs": [
    {
     "data": {
      "text/plain": [
       "56"
      ]
     },
     "execution_count": 12,
     "metadata": {},
     "output_type": "execute_result"
    }
   ],
   "source": [
    "MaxProb(euro)"
   ]
  },
  {
   "cell_type": "code",
   "execution_count": 13,
   "metadata": {
    "collapsed": false
   },
   "outputs": [
    {
     "data": {
      "text/plain": [
       "0.56"
      ]
     },
     "execution_count": 13,
     "metadata": {},
     "output_type": "execute_result"
    }
   ],
   "source": [
    "140/250"
   ]
  },
  {
   "cell_type": "markdown",
   "metadata": {},
   "source": [
    "250번 중 앞면이 140 나왔으므로 56%라는 결과가 나온 것은 어찌보면 당연하다."
   ]
  },
  {
   "cell_type": "code",
   "execution_count": 14,
   "metadata": {
    "collapsed": false
   },
   "outputs": [
    {
     "data": {
      "text/plain": [
       "55.95238095238094"
      ]
     },
     "execution_count": 14,
     "metadata": {},
     "output_type": "execute_result"
    }
   ],
   "source": [
    "euro.Mean()"
   ]
  },
  {
   "cell_type": "markdown",
   "metadata": {},
   "source": [
    "평균값은 55.95이며,"
   ]
  },
  {
   "cell_type": "code",
   "execution_count": 18,
   "metadata": {
    "collapsed": false
   },
   "outputs": [
    {
     "data": {
      "text/plain": [
       "(51, 61)"
      ]
     },
     "execution_count": 18,
     "metadata": {},
     "output_type": "execute_result"
    }
   ],
   "source": [
    "bayes.CredibleInterval(euro, 90)"
   ]
  },
  {
   "cell_type": "markdown",
   "metadata": {},
   "source": [
    "90% 신뢰구간은 51 ~ 61 사이다.\n",
    "신뢰구간이 50%를 포함하고 있지 않으므로 평평하지 않다는 것을 확인할 수 있다."
   ]
  },
  {
   "cell_type": "code",
   "execution_count": 19,
   "metadata": {
    "collapsed": false
   },
   "outputs": [
    {
     "data": {
      "text/plain": [
       "0.02097652612954464"
      ]
     },
     "execution_count": 19,
     "metadata": {},
     "output_type": "execute_result"
    }
   ],
   "source": [
    "euro.Prob(50)"
   ]
  },
  {
   "cell_type": "markdown",
   "metadata": {},
   "source": [
    "50%일 확률은 2%미만이다."
   ]
  },
  {
   "cell_type": "markdown",
   "metadata": {},
   "source": [
    "#### 4.3 사전 분포 범람\n",
    "\n",
    "앞서 동전 던지기를 100번 했을 경우 앞면이 나온 횟수에 대한 확률을 모두 균등하게 두고 생각했지만, 실제로는 50%에 가까운 값에 더 높은 확률을 부여하는게 자연스러워 보인다.\n",
    "그래서 삼각 사전 확률을 만들어 보자."
   ]
  },
  {
   "cell_type": "code",
   "execution_count": 20,
   "metadata": {
    "collapsed": true
   },
   "outputs": [],
   "source": [
    "def GetTrianglePriorEuro():\n",
    "    euro = Euro()\n",
    "    for x in range(0, 51):\n",
    "        euro.Set(x,x)\n",
    "    for x in range(51, 101):\n",
    "        euro.Set(x, 100-x)\n",
    "    euro.Normalize()\n",
    "    return euro"
   ]
  },
  {
   "cell_type": "code",
   "execution_count": 21,
   "metadata": {
    "collapsed": true
   },
   "outputs": [],
   "source": [
    "euroTri = GetTrianglePriorEuro()"
   ]
  },
  {
   "cell_type": "code",
   "execution_count": 22,
   "metadata": {
    "collapsed": false
   },
   "outputs": [
    {
     "data": {
      "image/png": "[encoded data removed]",
      "text/plain": [
       "<matplotlib.figure.Figure at 0x1837e10af60>"
      ]
     },
     "metadata": {},
     "output_type": "display_data"
    }
   ],
   "source": [
    "items = dict(euroTri.Items())\n",
    "plt.plot(list(items.keys()), list(items.values()))\n",
    "plt.show()"
   ]
  },
  {
   "cell_type": "code",
   "execution_count": 24,
   "metadata": {
    "collapsed": false
   },
   "outputs": [
    {
     "data": {
      "text/plain": [
       "0.02"
      ]
     },
     "execution_count": 24,
     "metadata": {},
     "output_type": "execute_result"
    }
   ],
   "source": [
    "euroTri.Prob(50)"
   ]
  },
  {
   "cell_type": "markdown",
   "metadata": {},
   "source": [
    "50%가 나올 확률이 기존(1%)에 비해 2%로 조금밖에 늘지 않았다."
   ]
  },
  {
   "cell_type": "code",
   "execution_count": 25,
   "metadata": {
    "collapsed": true
   },
   "outputs": [],
   "source": [
    "for data in 'H' * 140 + 'T' * 110:\n",
    "    euroTri.Update(data)"
   ]
  },
  {
   "cell_type": "code",
   "execution_count": 33,
   "metadata": {
    "collapsed": false
   },
   "outputs": [
    {
     "data": {
      "image/png": "[encoded data removed]",
      "text/plain": [
       "<matplotlib.figure.Figure at 0x1837e02f940>"
      ]
     },
     "metadata": {},
     "output_type": "display_data"
    }
   ],
   "source": [
    "items = dict(euroTri.Items())\n",
    "plt.plot(list(items.keys()), list(items.values()))\n",
    "plt.show()"
   ]
  },
  {
   "cell_type": "code",
   "execution_count": 27,
   "metadata": {
    "collapsed": false
   },
   "outputs": [
    {
     "data": {
      "text/plain": [
       "56"
      ]
     },
     "execution_count": 27,
     "metadata": {},
     "output_type": "execute_result"
    }
   ],
   "source": [
    "MaxProb(euroTri)"
   ]
  },
  {
   "cell_type": "code",
   "execution_count": 28,
   "metadata": {
    "collapsed": false
   },
   "outputs": [
    {
     "data": {
      "text/plain": [
       "55.74349943859503"
      ]
     },
     "execution_count": 28,
     "metadata": {},
     "output_type": "execute_result"
    }
   ],
   "source": [
    "euroTri.Mean()"
   ]
  },
  {
   "cell_type": "code",
   "execution_count": 29,
   "metadata": {
    "collapsed": false
   },
   "outputs": [
    {
     "data": {
      "text/plain": [
       "(51, 61)"
      ]
     },
     "execution_count": 29,
     "metadata": {},
     "output_type": "execute_result"
    }
   ],
   "source": [
    "bayes.CredibleInterval(euroTri, 90)"
   ]
  },
  {
   "cell_type": "code",
   "execution_count": 30,
   "metadata": {
    "collapsed": false
   },
   "outputs": [
    {
     "data": {
      "text/plain": [
       "0.0238475372146936"
      ]
     },
     "execution_count": 30,
     "metadata": {},
     "output_type": "execute_result"
    }
   ],
   "source": [
    "euroTri.Prob(50)"
   ]
  },
  {
   "cell_type": "code",
   "execution_count": 32,
   "metadata": {
    "collapsed": false
   },
   "outputs": [
    {
     "data": {
      "image/png": "[encoded data removed]",
      "text/plain": [
       "<matplotlib.figure.Figure at 0x1837e986748>"
      ]
     },
     "metadata": {},
     "output_type": "display_data"
    }
   ],
   "source": [
    "items = dict(euro.Items())\n",
    "plt.plot(list(items.keys()), list(items.values()))\n",
    "\n",
    "itemsTri = dict(euroTri.Items())\n",
    "plt.plot(list(itemsTri.keys()), list(itemsTri.values()))\n",
    "\n",
    "plt.show()"
   ]
  },
  {
   "cell_type": "markdown",
   "metadata": {},
   "source": [
    "다른 사전 확률 모델을 사용했음에도 불구하고 사후 확률 분포는 거의 차이가 없다.\n",
    "데이터가 충분하다면 서로 다른 사전 분포를 사용하더라도 동일한 사후 분포로 수렴하는 경향이 있다.\n",
    "이것을 `사전 분포 범람`이라 한다."
   ]
  },
  {
   "cell_type": "markdown",
   "metadata": {
    "collapsed": true
   },
   "source": [
    "#### 4.4 최적화\n",
    "\n",
    "- 기존의 `Update`는 매번 `Normalize()`를 수행하게 되어 있는데 집합으로 전달하여 `Normalize()`를 한 번만하는 `UpdateSet`을 구현"
   ]
  },
  {
   "cell_type": "code",
   "execution_count": 1,
   "metadata": {
    "collapsed": true
   },
   "outputs": [],
   "source": [
    "def UpdateSet(self, dataset):\n",
    "    for data in dataset:\n",
    "        for hypo in self.Values():\n",
    "            like = self.Likelihood(data, hypo)\n",
    "            self.Mult(hypo, like)\n",
    "    return self.Normailze()"
   ]
  }
 ],
 "metadata": {
  "anaconda-cloud": {},
  "kernelspec": {
   "display_name": "Python [conda root]",
   "language": "python",
   "name": "conda-root-py"
  },
  "language_info": {
   "codemirror_mode": {
    "name": "ipython",
    "version": 3
   },
   "file_extension": ".py",
   "mimetype": "text/x-python",
   "name": "python",
   "nbconvert_exporter": "python",
   "pygments_lexer": "ipython3",
   "version": "3.5.2"
  }
 },
 "nbformat": 4,
 "nbformat_minor": 1
}
