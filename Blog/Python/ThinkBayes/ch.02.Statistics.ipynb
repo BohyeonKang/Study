{
 "cells": [
  {
   "cell_type": "markdown",
   "metadata": {},
   "source": [
    "### Chapter 2. 계산 통계\n",
    "\n",
    "#### 2.1 분포\n",
    "\n",
    "* `Pmf` : 확률 질량 함수(probability mass function)"
   ]
  },
  {
   "cell_type": "code",
   "execution_count": 1,
   "metadata": {
    "collapsed": false
   },
   "outputs": [],
   "source": [
    "from python_code.thinkbayes import Pmf"
   ]
  },
  {
   "cell_type": "markdown",
   "metadata": {
    "collapsed": true
   },
   "source": [
    "- 주사위의 분포"
   ]
  },
  {
   "cell_type": "code",
   "execution_count": 2,
   "metadata": {
    "collapsed": false
   },
   "outputs": [
    {
     "name": "stdout",
     "output_type": "stream",
     "text": [
      "1 : 0.16666666666666666\n",
      "2 : 0.16666666666666666\n",
      "3 : 0.16666666666666666\n",
      "4 : 0.16666666666666666\n",
      "5 : 0.16666666666666666\n",
      "6 : 0.16666666666666666\n",
      "Total : 0.9999999999999999\n"
     ]
    }
   ],
   "source": [
    "pmf_cube = Pmf()\n",
    "for x in range(1,7):\n",
    "    pmf_cube.Set(x, 1/6)\n",
    "\n",
    "total = 0\n",
    "for x in range(1,7):\n",
    "    print(x,':',pmf_cube.Prob(x))\n",
    "    total += pmf_cube.Prob(x)\n",
    "print('Total :', total)"
   ]
  },
  {
   "cell_type": "markdown",
   "metadata": {},
   "source": [
    "* `Let it go` 가사에 대해서 `Pmf`를 구해보겠습니다."
   ]
  },
  {
   "cell_type": "code",
   "execution_count": 3,
   "metadata": {
    "collapsed": true
   },
   "outputs": [],
   "source": [
    "let_it_go = '''\n",
    "The snow glows white on the mountain tonight,\n",
    "not a footprint to be seen\n",
    "A kingdom of isolation and it looks like I'm the Queen\n",
    "The wind is howling like this swirling storm inside\n",
    "Couldn't keep it in, Heaven knows I tried\n",
    "Don't let them in, don't let them see\n",
    "Be the good girl you always have to be\n",
    "Conceal, don't feel, don't let them know\n",
    "Well, now they know\n",
    "\n",
    "Let it go, let it go\n",
    "Can't hold it back anymore\n",
    "Let it go, let it go\n",
    "Turn away and slam the door\n",
    "I don't care what they're going to say\n",
    "Let the storm rage on\n",
    "The cold never bothered me anyway\n",
    "\n",
    "It's funny how some distance\n",
    "makes everything seem small\n",
    "And the fears that once controlled me\n",
    "Can't get to me at all\n",
    "\n",
    "It's time to see what I can do\n",
    "To test the limits and break through\n",
    "No right, no wrong, no rules for me,\n",
    "I'm free!\n",
    "\n",
    "Let it go, let it go\n",
    "I am one with the wind and sky\n",
    "Let it go, let it go\n",
    "You'll never see me cry\n",
    "Here I stand\n",
    "And here I'll stay\n",
    "Let the storm rage on\n",
    "\n",
    "My power flurries through the air into the ground\n",
    "My soul is spiraling in frozen fractals all around\n",
    "And one thought crystallizes like an icy blast\n",
    "I'm never going back, the past is in the past\n",
    "\n",
    "Let it go, let it go\n",
    "And I'll rise like the break of dawn\n",
    "Let it go, let it go\n",
    "That perfect girl is gone\n",
    "Here I stand\n",
    "In the light of day\n",
    "Let the storm rage on\n",
    "The cold never bothered me anyway\n",
    "'''"
   ]
  },
  {
   "cell_type": "code",
   "execution_count": 4,
   "metadata": {
    "collapsed": false
   },
   "outputs": [],
   "source": [
    "lines = let_it_go.splitlines()\n",
    "words = [word for line in lines if len(line) != 0 for word in line.split(' ') if len(word) != 0]"
   ]
  },
  {
   "cell_type": "code",
   "execution_count": 5,
   "metadata": {
    "collapsed": false
   },
   "outputs": [
    {
     "data": {
      "text/plain": [
       "276"
      ]
     },
     "execution_count": 5,
     "metadata": {},
     "output_type": "execute_result"
    }
   ],
   "source": [
    "pmf_let_it_go = Pmf()\n",
    "for word in words:\n",
    "    pmf_let_it_go.Incr(word, 1)\n",
    "pmf_let_it_go.Normalize()"
   ]
  },
  {
   "cell_type": "code",
   "execution_count": 6,
   "metadata": {
    "collapsed": false
   },
   "outputs": [
    {
     "data": {
      "text/plain": [
       "0.03260869565217391"
      ]
     },
     "execution_count": 6,
     "metadata": {},
     "output_type": "execute_result"
    }
   ],
   "source": [
    "pmf_let_it_go.Prob('Let')"
   ]
  },
  {
   "cell_type": "markdown",
   "metadata": {},
   "source": [
    "#### 2.2 쿠키 문제\n",
    "\n",
    "앞장에서 살펴본 쿠키 문제를 `Pmf`를 사용해서 풀이\n",
    "\n",
    "- 2개의 그릇을 집을 확률이 각각 `0.5`"
   ]
  },
  {
   "cell_type": "code",
   "execution_count": 21,
   "metadata": {
    "collapsed": false
   },
   "outputs": [],
   "source": [
    "pmf_cookie = Pmf()\n",
    "\n",
    "pmf_cookie.Set('Bowl 1', 0.5)\n",
    "pmf_cookie.Set('Bowl 2', 0.5)"
   ]
  },
  {
   "cell_type": "markdown",
   "metadata": {},
   "source": [
    "* 그릇1에서 바닐라 쿠키를 뽑을 확률이 `3/4` 이며, 그릇2에서는 `1/2`이므로"
   ]
  },
  {
   "cell_type": "code",
   "execution_count": 22,
   "metadata": {
    "collapsed": false
   },
   "outputs": [
    {
     "data": {
      "text/plain": [
       "0.625"
      ]
     },
     "execution_count": 22,
     "metadata": {},
     "output_type": "execute_result"
    }
   ],
   "source": [
    "pmf_cookie.Mult('Bowl 1', 0.75)\n",
    "pmf_cookie.Mult('Bowl 2', 0.5)\n",
    "\n",
    "pmf_cookie.Normalize()"
   ]
  },
  {
   "cell_type": "markdown",
   "metadata": {},
   "source": [
    "- 그럼 이제 바닐라 쿠키를 뽑았을 경우 그게 그릇1인 확률은 ?\n",
    "  - 1장에서 계산한 결과는 `3/5`였음"
   ]
  },
  {
   "cell_type": "code",
   "execution_count": 23,
   "metadata": {
    "collapsed": false
   },
   "outputs": [
    {
     "data": {
      "text/plain": [
       "0.6000000000000001"
      ]
     },
     "execution_count": 23,
     "metadata": {},
     "output_type": "execute_result"
    }
   ],
   "source": [
    "pmf_cookie.Prob('Bowl 1')"
   ]
  },
  {
   "cell_type": "markdown",
   "metadata": {},
   "source": [
    "#### 2.3 쿠키 문제에 대한 베이지안 프레임워크"
   ]
  },
  {
   "cell_type": "code",
   "execution_count": 29,
   "metadata": {
    "collapsed": false
   },
   "outputs": [],
   "source": [
    "class Cookie(Pmf):\n",
    "    \n",
    "    def __init__(self, hypos):\n",
    "        Pmf.__init__(self)\n",
    "        for hypo in hypos:\n",
    "            self.Set(hypo, 1)\n",
    "        self.Normalize()\n",
    "        \n",
    "    def Update(self, data):\n",
    "        for hypo in self.Values():\n",
    "            like = self.Likelihood(data, hypo)\n",
    "            self.Mult(hypo, like)\n",
    "        self.Normalize()\n",
    "        \n",
    "    def Likelihood(self, data, hypo):\n",
    "        mix = self.mixes[hypo]\n",
    "        like = mix[data]\n",
    "        return like\n",
    "    \n",
    "    mixes = {\n",
    "        'Bowl 1':dict(vanilla=0.75, chocolate=0.25),\n",
    "        'Bowl 2':dict(vanilla=0.5, chocolate=0.5)\n",
    "    }"
   ]
  },
  {
   "cell_type": "code",
   "execution_count": 35,
   "metadata": {
    "collapsed": false
   },
   "outputs": [],
   "source": [
    "hypos = ['Bowl 1', 'Bowl 2']\n",
    "cookie = Cookie(hypos)"
   ]
  },
  {
   "cell_type": "code",
   "execution_count": 36,
   "metadata": {
    "collapsed": false
   },
   "outputs": [
    {
     "name": "stdout",
     "output_type": "stream",
     "text": [
      "Bowl 1 0.6000000000000001\n",
      "Bowl 2 0.4\n"
     ]
    }
   ],
   "source": [
    "cookie.Update('vanilla')\n",
    "\n",
    "for hypo, prob in cookie.Items():\n",
    "    print(hypo, prob)"
   ]
  },
  {
   "cell_type": "code",
   "execution_count": 37,
   "metadata": {
    "collapsed": false
   },
   "outputs": [
    {
     "name": "stdout",
     "output_type": "stream",
     "text": [
      "Bowl 1 0.4285714285714286\n",
      "Bowl 2 0.5714285714285714\n"
     ]
    }
   ],
   "source": [
    "cookie.Update('chocolate')\n",
    "\n",
    "for hypo, prob in cookie.Items():\n",
    "    print(hypo, prob)"
   ]
  },
  {
   "cell_type": "markdown",
   "metadata": {},
   "source": [
    "#### 2.4 몬티 홀 문제\n",
    "\n",
    "- `__init__` , `Update`는 앞서 본 `Cookie`와 똑같음\n",
    "- `Likelihood`만 다름"
   ]
  },
  {
   "cell_type": "code",
   "execution_count": 39,
   "metadata": {
    "collapsed": false
   },
   "outputs": [],
   "source": [
    "class Monty(Pmf):\n",
    "    \n",
    "    def __init__(self, hypos):\n",
    "        Pmf.__init__(self)\n",
    "        for hypo in hypos:\n",
    "            self.Set(hypo, 1)\n",
    "        self.Normalize()\n",
    "        \n",
    "    def Update(self, data):\n",
    "        for hypo in self.Values():\n",
    "            like = self.Likelihood(data, hypo)\n",
    "            self.Mult(hypo, like)\n",
    "        self.Normalize()\n",
    "        \n",
    "    def Likelihood(self, data, hypo):\n",
    "        if hypo == data:\n",
    "            return 0\n",
    "        elif hypo == 'A':\n",
    "            return 0.5\n",
    "        else:\n",
    "            return 1"
   ]
  },
  {
   "cell_type": "code",
   "execution_count": 40,
   "metadata": {
    "collapsed": false
   },
   "outputs": [
    {
     "name": "stdout",
     "output_type": "stream",
     "text": [
      "A 0.3333333333333333\n",
      "C 0.6666666666666666\n",
      "B 0.0\n"
     ]
    }
   ],
   "source": [
    "hypos = 'ABC'\n",
    "monty = Monty(hypos)\n",
    "\n",
    "monty.Update('B')\n",
    "\n",
    "for hypo, prob in monty.Items():\n",
    "    print(hypo, prob)"
   ]
  },
  {
   "cell_type": "code",
   "execution_count": 41,
   "metadata": {
    "collapsed": false
   },
   "outputs": [
    {
     "name": "stdout",
     "output_type": "stream",
     "text": [
      "A 0.0\n",
      "C 1.0\n",
      "B 0.0\n"
     ]
    }
   ],
   "source": [
    "monty.Update('A')\n",
    "\n",
    "for hypo, prob in monty.Items():\n",
    "    print(hypo, prob)"
   ]
  },
  {
   "cell_type": "markdown",
   "metadata": {},
   "source": [
    "사실 코드가 이해가 되지는 않지만... 일단 책을 끝까지 다 본뒤에 다시 판단하기로..."
   ]
  },
  {
   "cell_type": "markdown",
   "metadata": {},
   "source": [
    "#### 2.5 Framework Incapsulation\n",
    "\n",
    "위 코드에서 공통적으로 사용가능한 부분을 `Suite`으로 정의"
   ]
  },
  {
   "cell_type": "code",
   "execution_count": 42,
   "metadata": {
    "collapsed": true
   },
   "outputs": [],
   "source": [
    "class Suite(Pmf):\n",
    "    \n",
    "    def __init__(self, hypos):\n",
    "        Pmf.__init__(self)\n",
    "        for hypo in hypos:\n",
    "            self.Set(hypo, 1)\n",
    "        self.Normalize()\n",
    "        \n",
    "    def Update(self, data):\n",
    "        for hypo in self.Values():\n",
    "            like = self.Likelihood(data, hypo)\n",
    "            self.Mult(hypo, like)\n",
    "        self.Normalize()\n",
    "        \n",
    "    def Print(self):\n",
    "        for hypo, prob in self.Items():\n",
    "            print(hypo, prob)"
   ]
  },
  {
   "cell_type": "markdown",
   "metadata": {},
   "source": [
    "`Monty`를 `Suite`를 사용해서 다시 구현"
   ]
  },
  {
   "cell_type": "code",
   "execution_count": 43,
   "metadata": {
    "collapsed": true
   },
   "outputs": [],
   "source": [
    "class Monty(Suite):\n",
    "    \n",
    "    def Likelihood(self, data, hypo):\n",
    "        if hypo == data:\n",
    "            return 0\n",
    "        elif hypo == 'A':\n",
    "            return 0.5\n",
    "        else:\n",
    "            return 1"
   ]
  },
  {
   "cell_type": "code",
   "execution_count": 44,
   "metadata": {
    "collapsed": false
   },
   "outputs": [
    {
     "name": "stdout",
     "output_type": "stream",
     "text": [
      "A 0.3333333333333333\n",
      "C 0.6666666666666666\n",
      "B 0.0\n"
     ]
    }
   ],
   "source": [
    "monty = Monty('ABC')\n",
    "monty.Update('B')\n",
    "monty.Print()"
   ]
  },
  {
   "cell_type": "markdown",
   "metadata": {},
   "source": [
    "#### 2.6 M&M 문제"
   ]
  },
  {
   "cell_type": "markdown",
   "metadata": {},
   "source": [
    "- 가설 A : 1번 봉지 :1994년, 2번 봉지 : 1996년\n",
    "- 가설 B : 반대"
   ]
  },
  {
   "cell_type": "code",
   "execution_count": 46,
   "metadata": {
    "collapsed": true
   },
   "outputs": [],
   "source": [
    "mix94 = dict(brown=30, yellow=20, red=20, green=10, orange=10, tan=10)\n",
    "mix96 = dict(blue=24, green=20, orange=16, yellow=14, red=13, brown=13)\n",
    "\n",
    "hypoA = dict(bag1=mix94, bag2=mix96)\n",
    "hypoB = dict(bag1=mix96, bag2=mix94)\n",
    "hypotheses = dict(A=hypoA, B=hypoB)"
   ]
  },
  {
   "cell_type": "code",
   "execution_count": 47,
   "metadata": {
    "collapsed": true
   },
   "outputs": [],
   "source": [
    "class M_and_M(Suite):\n",
    "    \n",
    "    def Likelihood(self, data, hypo):\n",
    "        bag, color = data\n",
    "        mix = hypotheses[hypo][bag]\n",
    "        like = mix[color]\n",
    "        return like"
   ]
  },
  {
   "cell_type": "code",
   "execution_count": 48,
   "metadata": {
    "collapsed": false
   },
   "outputs": [
    {
     "name": "stdout",
     "output_type": "stream",
     "text": [
      "A 0.7407407407407407\n",
      "B 0.2592592592592592\n"
     ]
    }
   ],
   "source": [
    "mm = M_and_M('AB')\n",
    "mm.Update(('bag1','yellow'))\n",
    "mm.Update(('bag2','green'))\n",
    "\n",
    "mm.Print()"
   ]
  }
 ],
 "metadata": {
  "anaconda-cloud": {},
  "kernelspec": {
   "display_name": "Python [conda root]",
   "language": "python",
   "name": "conda-root-py"
  },
  "language_info": {
   "codemirror_mode": {
    "name": "ipython",
    "version": 3
   },
   "file_extension": ".py",
   "mimetype": "text/x-python",
   "name": "python",
   "nbconvert_exporter": "python",
   "pygments_lexer": "ipython3",
   "version": "3.5.2"
  }
 },
 "nbformat": 4,
 "nbformat_minor": 1
}
