{
 "cells": [
  {
   "cell_type": "code",
   "execution_count": 1,
   "metadata": {
    "collapsed": true
   },
   "outputs": [],
   "source": [
    "import tensorflow as tf\n",
    "import numpy as np\n",
    "import matplotlib.pyplot as plt\n",
    "import seaborn"
   ]
  },
  {
   "cell_type": "code",
   "execution_count": 2,
   "metadata": {},
   "outputs": [
    {
     "name": "stdout",
     "output_type": "stream",
     "text": [
      "Extracting MNIST_data/train-images-idx3-ubyte.gz\n",
      "Extracting MNIST_data/train-labels-idx1-ubyte.gz\n",
      "Extracting MNIST_data/t10k-images-idx3-ubyte.gz\n",
      "Extracting MNIST_data/t10k-labels-idx1-ubyte.gz\n"
     ]
    }
   ],
   "source": [
    "from tensorflow.examples.tutorials.mnist import input_data\n",
    "mnist = input_data.read_data_sets(\"MNIST_data\", one_hot=True)\n",
    "\n",
    "nb_classes = 10"
   ]
  },
  {
   "cell_type": "markdown",
   "metadata": {},
   "source": [
    "# Softmax for MNIST"
   ]
  },
  {
   "cell_type": "code",
   "execution_count": 3,
   "metadata": {
    "collapsed": true
   },
   "outputs": [],
   "source": [
    "X = tf.placeholder(tf.float32, [None, 784])\n",
    "Y = tf.placeholder(tf.float32, [None, nb_classes])"
   ]
  },
  {
   "cell_type": "code",
   "execution_count": null,
   "metadata": {
    "collapsed": true
   },
   "outputs": [],
   "source": [
    "W = tf.Variable(tf.random_normal([784, nb_classes]))\n",
    "b = tf.Variable(tf.random_normal([nb_classes]))"
   ]
  },
  {
   "cell_type": "code",
   "execution_count": 11,
   "metadata": {},
   "outputs": [],
   "source": [
    "# Softmax\n",
    "\n",
    "hypothesis = tf.matmul(X,W)+b\n",
    "cost = tf.reduce_mean(tf.nn.softmax_cross_entropy_with_logits(logits=hypothesis, labels=Y))\n",
    "optimizer = tf.train.AdamOptimizer(learning_rate=0.01).minimize(cost)"
   ]
  },
  {
   "cell_type": "code",
   "execution_count": 12,
   "metadata": {},
   "outputs": [
    {
     "name": "stdout",
     "output_type": "stream",
     "text": [
      "Epoch : 0001 cost = 1.410698426\n",
      "Epoch : 0002 cost = 0.502036137\n",
      "Epoch : 0003 cost = 0.415891511\n",
      "Epoch : 0004 cost = 0.375169136\n",
      "Epoch : 0005 cost = 0.350283353\n",
      "Epoch : 0006 cost = 0.329620564\n",
      "Epoch : 0007 cost = 0.318800158\n",
      "Epoch : 0008 cost = 0.310874188\n",
      "Epoch : 0009 cost = 0.302775957\n",
      "Epoch : 0010 cost = 0.296126843\n",
      "Epoch : 0011 cost = 0.289168315\n",
      "Epoch : 0012 cost = 0.287308238\n",
      "Epoch : 0013 cost = 0.285694911\n",
      "Epoch : 0014 cost = 0.282106878\n",
      "Epoch : 0015 cost = 0.278236517\n",
      "Epoch : 0016 cost = 0.277263629\n",
      "Epoch : 0017 cost = 0.276127148\n",
      "Epoch : 0018 cost = 0.275428912\n",
      "Epoch : 0019 cost = 0.270761201\n",
      "Epoch : 0020 cost = 0.271917171\n",
      "Epoch : 0021 cost = 0.270412624\n",
      "Epoch : 0022 cost = 0.266448453\n",
      "Epoch : 0023 cost = 0.266465741\n",
      "Epoch : 0024 cost = 0.265523023\n",
      "Epoch : 0025 cost = 0.266849315\n",
      "Epoch : 0026 cost = 0.264352115\n",
      "Epoch : 0027 cost = 0.262373729\n",
      "Epoch : 0028 cost = 0.264198721\n",
      "Epoch : 0029 cost = 0.264674918\n",
      "Epoch : 0030 cost = 0.262009425\n",
      "Learning Finished!\n",
      "Accuracy :  0.9174\n"
     ]
    }
   ],
   "source": [
    "training_epochs = 30\n",
    "batch_size = 100\n",
    "\n",
    "sess = tf.Session()\n",
    "sess.run(tf.global_variables_initializer())\n",
    "\n",
    "for epoch in range(training_epochs):\n",
    "    avg_cost = 0\n",
    "    total_batch = int(mnist.train.num_examples / batch_size)\n",
    "\n",
    "    for i in range(total_batch):\n",
    "        batch_xs, batch_ys = mnist.train.next_batch(batch_size)\n",
    "        c, _ = sess.run([cost, optimizer], feed_dict={X:batch_xs, Y:batch_ys})\n",
    "        avg_cost += c / total_batch\n",
    "\n",
    "    print(\"Epoch :\", \"%04d\"%(epoch+1), \"cost =\",\"{:0.9f}\".format(avg_cost))\n",
    "\n",
    "print(\"Learning Finished!\")\n",
    "\n",
    "correct_prediction = tf.equal(tf.argmax(hypothesis, 1), tf.arg_max(Y,1))\n",
    "accuracy = tf.reduce_mean(tf.cast(correct_prediction, tf.float32))\n",
    "    \n",
    "print(\"Accuracy : \", sess.run(accuracy, feed_dict={X:mnist.test.images, Y:mnist.test.labels}))"
   ]
  },
  {
   "cell_type": "markdown",
   "metadata": {},
   "source": [
    "# NN for MNIST"
   ]
  },
  {
   "cell_type": "code",
   "execution_count": 25,
   "metadata": {
    "collapsed": true
   },
   "outputs": [],
   "source": [
    "W1 = tf.Variable(tf.random_normal([784, 256]))\n",
    "b1 = tf.Variable(tf.random_normal([256]))\n",
    "L1 = tf.nn.relu(tf.matmul(X,W1)+b1)\n",
    "\n",
    "W2 = tf.Variable(tf.random_normal([256, 256]))\n",
    "b2 = tf.Variable(tf.random_normal([256]))\n",
    "L2 = tf.nn.relu(tf.matmul(L1,W2)+b2)\n",
    "\n",
    "W3 = tf.Variable(tf.random_normal([256, 10]))\n",
    "b3 = tf.Variable(tf.random_normal([10]))\n",
    "hypothesis = tf.matmul(L2,W3)+b3"
   ]
  },
  {
   "cell_type": "code",
   "execution_count": 28,
   "metadata": {},
   "outputs": [
    {
     "name": "stdout",
     "output_type": "stream",
     "text": [
      "Epoch : 0001 cost = 51.551390035\n",
      "Epoch : 0002 cost = 10.800940225\n",
      "Epoch : 0003 cost = 5.643123213\n",
      "Epoch : 0004 cost = 3.945636246\n",
      "Epoch : 0005 cost = 3.059526395\n",
      "Epoch : 0006 cost = 2.635075249\n",
      "Epoch : 0007 cost = 2.239727361\n",
      "Epoch : 0008 cost = 2.089971252\n",
      "Epoch : 0009 cost = 1.708084456\n",
      "Epoch : 0010 cost = 1.626280707\n",
      "Epoch : 0011 cost = 1.409969767\n",
      "Epoch : 0012 cost = 1.235421722\n",
      "Epoch : 0013 cost = 1.134955375\n",
      "Epoch : 0014 cost = 0.905465497\n",
      "Epoch : 0015 cost = 0.802718243\n",
      "Epoch : 0016 cost = 0.909704112\n",
      "Epoch : 0017 cost = 0.688667646\n",
      "Epoch : 0018 cost = 0.672307970\n",
      "Epoch : 0019 cost = 0.583648790\n",
      "Epoch : 0020 cost = 0.565996673\n",
      "Epoch : 0021 cost = 0.463379711\n",
      "Epoch : 0022 cost = 0.440091635\n",
      "Epoch : 0023 cost = 0.500952321\n",
      "Epoch : 0024 cost = 0.344391503\n",
      "Epoch : 0025 cost = 0.393720086\n",
      "Epoch : 0026 cost = 0.284932976\n",
      "Epoch : 0027 cost = 0.264854254\n",
      "Epoch : 0028 cost = 0.241350422\n",
      "Epoch : 0029 cost = 0.236469105\n",
      "Epoch : 0030 cost = 0.261141110\n",
      "Learning Finished!\n",
      "Accuracy :  0.9598\n"
     ]
    }
   ],
   "source": [
    "cost = tf.reduce_mean(tf.nn.softmax_cross_entropy_with_logits(logits=hypothesis, labels=Y))\n",
    "optimizer = tf.train.AdamOptimizer(learning_rate=0.01).minimize(cost)\n",
    "\n",
    "training_epochs = 30\n",
    "batch_size = 100\n",
    "\n",
    "sess = tf.Session()\n",
    "sess.run(tf.global_variables_initializer())\n",
    "\n",
    "for epoch in range(training_epochs):\n",
    "    avg_cost = 0\n",
    "    total_batch = int(mnist.train.num_examples / batch_size)\n",
    "\n",
    "    for i in range(total_batch):\n",
    "        batch_xs, batch_ys = mnist.train.next_batch(batch_size)\n",
    "        c, _ = sess.run([cost, optimizer], feed_dict={X:batch_xs, Y:batch_ys})\n",
    "        avg_cost += c / total_batch\n",
    "\n",
    "    print(\"Epoch :\", \"%04d\"%(epoch+1), \"cost =\",\"{:0.9f}\".format(avg_cost))\n",
    "\n",
    "print(\"Learning Finished!\")\n",
    "\n",
    "correct_prediction = tf.equal(tf.argmax(hypothesis, 1), tf.arg_max(Y,1))\n",
    "accuracy = tf.reduce_mean(tf.cast(correct_prediction, tf.float32))\n",
    "    \n",
    "print(\"Accuracy : \", sess.run(accuracy, feed_dict={X:mnist.test.images, Y:mnist.test.labels}))"
   ]
  },
  {
   "cell_type": "markdown",
   "metadata": {},
   "source": [
    "# Xavier for MNIST"
   ]
  },
  {
   "cell_type": "code",
   "execution_count": 4,
   "metadata": {},
   "outputs": [],
   "source": [
    "W1 = tf.get_variable(\"W1\", shape=[784, 256], initializer=tf.contrib.layers.xavier_initializer())\n",
    "b1 = tf.Variable(tf.random_normal([256]))\n",
    "L1 = tf.nn.relu(tf.matmul(X,W1)+b1)\n",
    "\n",
    "W2 = tf.get_variable(\"W2\", shape=[256, 256], initializer=tf.contrib.layers.xavier_initializer())\n",
    "b2 = tf.Variable(tf.random_normal([256]))\n",
    "L2 = tf.nn.relu(tf.matmul(L1,W2)+b2)\n",
    "\n",
    "W3 = tf.get_variable(\"W3\", shape=[256, 10], initializer=tf.contrib.layers.xavier_initializer())\n",
    "b3 = tf.Variable(tf.random_normal([10]))\n",
    "hypothesis = tf.matmul(L2,W3)+b3"
   ]
  },
  {
   "cell_type": "code",
   "execution_count": 30,
   "metadata": {},
   "outputs": [
    {
     "name": "stdout",
     "output_type": "stream",
     "text": [
      "Epoch : 0001 cost = 0.283093172\n",
      "Epoch : 0002 cost = 0.142916146\n",
      "Epoch : 0003 cost = 0.116988118\n",
      "Epoch : 0004 cost = 0.112847421\n",
      "Epoch : 0005 cost = 0.100485087\n",
      "Epoch : 0006 cost = 0.092914506\n",
      "Epoch : 0007 cost = 0.094843681\n",
      "Epoch : 0008 cost = 0.088571764\n",
      "Epoch : 0009 cost = 0.086111404\n",
      "Epoch : 0010 cost = 0.086235783\n",
      "Epoch : 0011 cost = 0.078453908\n",
      "Epoch : 0012 cost = 0.078428753\n",
      "Epoch : 0013 cost = 0.069096105\n",
      "Epoch : 0014 cost = 0.063039233\n",
      "Epoch : 0015 cost = 0.055892628\n",
      "Epoch : 0016 cost = 0.062115460\n",
      "Epoch : 0017 cost = 0.061523515\n",
      "Epoch : 0018 cost = 0.055705128\n",
      "Epoch : 0019 cost = 0.072680621\n",
      "Epoch : 0020 cost = 0.057684969\n",
      "Epoch : 0021 cost = 0.057985419\n",
      "Epoch : 0022 cost = 0.061041404\n",
      "Epoch : 0023 cost = 0.063559430\n",
      "Epoch : 0024 cost = 0.055686689\n",
      "Epoch : 0025 cost = 0.052606528\n",
      "Epoch : 0026 cost = 0.055412794\n",
      "Epoch : 0027 cost = 0.042055838\n",
      "Epoch : 0028 cost = 0.045160035\n",
      "Epoch : 0029 cost = 0.056446430\n",
      "Epoch : 0030 cost = 0.058583329\n",
      "Learning Finished!\n",
      "Accuracy :  0.9689\n"
     ]
    }
   ],
   "source": [
    "cost = tf.reduce_mean(tf.nn.softmax_cross_entropy_with_logits(logits=hypothesis, labels=Y))\n",
    "optimizer = tf.train.AdamOptimizer(learning_rate=0.01).minimize(cost)\n",
    "\n",
    "training_epochs = 30\n",
    "batch_size = 100\n",
    "\n",
    "sess = tf.Session()\n",
    "sess.run(tf.global_variables_initializer())\n",
    "\n",
    "for epoch in range(training_epochs):\n",
    "    avg_cost = 0\n",
    "    total_batch = int(mnist.train.num_examples / batch_size)\n",
    "\n",
    "    for i in range(total_batch):\n",
    "        batch_xs, batch_ys = mnist.train.next_batch(batch_size)\n",
    "        c, _ = sess.run([cost, optimizer], feed_dict={X:batch_xs, Y:batch_ys})\n",
    "        avg_cost += c / total_batch\n",
    "\n",
    "    print(\"Epoch :\", \"%04d\"%(epoch+1), \"cost =\",\"{:0.9f}\".format(avg_cost))\n",
    "\n",
    "print(\"Learning Finished!\")\n",
    "\n",
    "correct_prediction = tf.equal(tf.argmax(hypothesis, 1), tf.arg_max(Y,1))\n",
    "accuracy = tf.reduce_mean(tf.cast(correct_prediction, tf.float32))\n",
    "    \n",
    "print(\"Accuracy : \", sess.run(accuracy, feed_dict={X:mnist.test.images, Y:mnist.test.labels}))"
   ]
  },
  {
   "cell_type": "markdown",
   "metadata": {},
   "source": [
    "# Deep NN for MNIST"
   ]
  },
  {
   "cell_type": "code",
   "execution_count": 4,
   "metadata": {},
   "outputs": [],
   "source": [
    "W1 = tf.get_variable(\"W1\", shape=[784, 512], initializer=tf.contrib.layers.xavier_initializer())\n",
    "b1 = tf.Variable(tf.random_normal([512]))\n",
    "L1 = tf.nn.relu(tf.matmul(X,W1)+b1)\n",
    "\n",
    "W2 = tf.get_variable(\"W2\", shape=[512, 512], initializer=tf.contrib.layers.xavier_initializer())\n",
    "b2 = tf.Variable(tf.random_normal([512]))\n",
    "L2 = tf.nn.relu(tf.matmul(L1,W2)+b2)\n",
    "\n",
    "W3 = tf.get_variable(\"W3\", shape=[512, 512], initializer=tf.contrib.layers.xavier_initializer())\n",
    "b3 = tf.Variable(tf.random_normal([512]))\n",
    "L3 = tf.nn.relu(tf.matmul(L2,W3)+b3)\n",
    "\n",
    "W4 = tf.get_variable(\"W4\", shape=[512, 512], initializer=tf.contrib.layers.xavier_initializer())\n",
    "b4 = tf.Variable(tf.random_normal([512]))\n",
    "L4 = tf.nn.relu(tf.matmul(L3,W4)+b4)\n",
    "\n",
    "W5 = tf.get_variable(\"W5\", shape=[512, 10], initializer=tf.contrib.layers.xavier_initializer())\n",
    "b5 = tf.Variable(tf.random_normal([10]))\n",
    "hypothesis = tf.matmul(L4,W5)+b5"
   ]
  },
  {
   "cell_type": "code",
   "execution_count": 5,
   "metadata": {},
   "outputs": [
    {
     "name": "stdout",
     "output_type": "stream",
     "text": [
      "Epoch : 0001 cost = 0.557295081\n",
      "Epoch : 0002 cost = 0.194298474\n",
      "Epoch : 0003 cost = 0.173131504\n",
      "Epoch : 0004 cost = 0.150026978\n",
      "Epoch : 0005 cost = 0.143970589\n",
      "Epoch : 0006 cost = 0.110998953\n",
      "Epoch : 0007 cost = 0.126987355\n",
      "Epoch : 0008 cost = 0.124540715\n",
      "Epoch : 0009 cost = 0.141055413\n",
      "Epoch : 0010 cost = 0.091417779\n",
      "Epoch : 0011 cost = 0.090353704\n",
      "Epoch : 0012 cost = 0.099859011\n",
      "Epoch : 0013 cost = 0.111424784\n",
      "Epoch : 0014 cost = 0.093043246\n",
      "Epoch : 0015 cost = 0.077215901\n",
      "Epoch : 0016 cost = 0.090135121\n",
      "Epoch : 0017 cost = 0.126950676\n",
      "Epoch : 0018 cost = 0.077523542\n",
      "Epoch : 0019 cost = 0.095320720\n",
      "Epoch : 0020 cost = 0.124878075\n",
      "Epoch : 0021 cost = 0.093175455\n",
      "Epoch : 0022 cost = 0.065555200\n",
      "Epoch : 0023 cost = 0.081508661\n",
      "Epoch : 0024 cost = 0.083442350\n",
      "Epoch : 0025 cost = 0.069975759\n",
      "Epoch : 0026 cost = 0.070707832\n",
      "Epoch : 0027 cost = 0.059225287\n",
      "Epoch : 0028 cost = 0.071174244\n",
      "Epoch : 0029 cost = 0.072650435\n",
      "Epoch : 0030 cost = 0.094818485\n",
      "Learning Finished!\n",
      "Accuracy :  0.967\n"
     ]
    }
   ],
   "source": [
    "cost = tf.reduce_mean(tf.nn.softmax_cross_entropy_with_logits(logits=hypothesis, labels=Y))\n",
    "optimizer = tf.train.AdamOptimizer(learning_rate=0.01).minimize(cost)\n",
    "\n",
    "training_epochs = 30\n",
    "batch_size = 100\n",
    "\n",
    "sess = tf.Session()\n",
    "sess.run(tf.global_variables_initializer())\n",
    "\n",
    "for epoch in range(training_epochs):\n",
    "    avg_cost = 0\n",
    "    total_batch = int(mnist.train.num_examples / batch_size)\n",
    "\n",
    "    for i in range(total_batch):\n",
    "        batch_xs, batch_ys = mnist.train.next_batch(batch_size)\n",
    "        c, _ = sess.run([cost, optimizer], feed_dict={X:batch_xs, Y:batch_ys})\n",
    "        avg_cost += c / total_batch\n",
    "\n",
    "    print(\"Epoch :\", \"%04d\"%(epoch+1), \"cost =\",\"{:0.9f}\".format(avg_cost))\n",
    "\n",
    "print(\"Learning Finished!\")\n",
    "\n",
    "correct_prediction = tf.equal(tf.argmax(hypothesis, 1), tf.arg_max(Y,1))\n",
    "accuracy = tf.reduce_mean(tf.cast(correct_prediction, tf.float32))\n",
    "    \n",
    "print(\"Accuracy : \", sess.run(accuracy, feed_dict={X:mnist.test.images, Y:mnist.test.labels}))"
   ]
  },
  {
   "cell_type": "markdown",
   "metadata": {},
   "source": [
    "# Dropout for MNIST"
   ]
  },
  {
   "cell_type": "code",
   "execution_count": 4,
   "metadata": {},
   "outputs": [],
   "source": [
    "keep_prob = tf.placeholder(tf.float32)\n",
    "\n",
    "W1 = tf.get_variable(\"W1\", shape=[784, 512], initializer=tf.contrib.layers.xavier_initializer())\n",
    "b1 = tf.Variable(tf.random_normal([512]))\n",
    "L1 = tf.nn.relu(tf.matmul(X,W1)+b1)\n",
    "L1 = tf.nn.dropout(L1, keep_prob=keep_prob)\n",
    "\n",
    "W2 = tf.get_variable(\"W2\", shape=[512, 512], initializer=tf.contrib.layers.xavier_initializer())\n",
    "b2 = tf.Variable(tf.random_normal([512]))\n",
    "L2 = tf.nn.relu(tf.matmul(L1,W2)+b2)\n",
    "L2 = tf.nn.dropout(L2, keep_prob=keep_prob)\n",
    "\n",
    "W3 = tf.get_variable(\"W3\", shape=[512, 512], initializer=tf.contrib.layers.xavier_initializer())\n",
    "b3 = tf.Variable(tf.random_normal([512]))\n",
    "L3 = tf.nn.relu(tf.matmul(L2,W3)+b3)\n",
    "L3 = tf.nn.dropout(L3, keep_prob=keep_prob)\n",
    "\n",
    "W4 = tf.get_variable(\"W4\", shape=[512, 512], initializer=tf.contrib.layers.xavier_initializer())\n",
    "b4 = tf.Variable(tf.random_normal([512]))\n",
    "L4 = tf.nn.relu(tf.matmul(L3,W4)+b4)\n",
    "L4 = tf.nn.dropout(L4, keep_prob=keep_prob)\n",
    "\n",
    "W5 = tf.get_variable(\"W5\", shape=[512, 10], initializer=tf.contrib.layers.xavier_initializer())\n",
    "b5 = tf.Variable(tf.random_normal([10]))\n",
    "hypothesis = tf.matmul(L4,W5)+b5"
   ]
  },
  {
   "cell_type": "code",
   "execution_count": 8,
   "metadata": {},
   "outputs": [
    {
     "name": "stdout",
     "output_type": "stream",
     "text": [
      "Epoch : 0001 cost = 0.458197093\n",
      "Epoch : 0002 cost = 0.168245352\n",
      "Epoch : 0003 cost = 0.131107625\n",
      "Epoch : 0004 cost = 0.108247780\n",
      "Epoch : 0005 cost = 0.089812490\n",
      "Epoch : 0006 cost = 0.083441732\n",
      "Epoch : 0007 cost = 0.072765093\n",
      "Epoch : 0008 cost = 0.069112335\n",
      "Epoch : 0009 cost = 0.065515160\n",
      "Epoch : 0010 cost = 0.060498799\n",
      "Epoch : 0011 cost = 0.056587853\n",
      "Epoch : 0012 cost = 0.054201328\n",
      "Epoch : 0013 cost = 0.049337678\n",
      "Epoch : 0014 cost = 0.048162508\n",
      "Epoch : 0015 cost = 0.044146201\n",
      "Epoch : 0016 cost = 0.041898555\n",
      "Epoch : 0017 cost = 0.041811891\n",
      "Epoch : 0018 cost = 0.044473074\n",
      "Epoch : 0019 cost = 0.041659307\n",
      "Epoch : 0020 cost = 0.039001307\n",
      "Epoch : 0021 cost = 0.036130013\n",
      "Epoch : 0022 cost = 0.035095678\n",
      "Epoch : 0023 cost = 0.033007503\n",
      "Epoch : 0024 cost = 0.037784031\n",
      "Epoch : 0025 cost = 0.034724114\n",
      "Epoch : 0026 cost = 0.031861180\n",
      "Epoch : 0027 cost = 0.031600006\n",
      "Epoch : 0028 cost = 0.030761096\n",
      "Epoch : 0029 cost = 0.033569780\n",
      "Epoch : 0030 cost = 0.029488244\n",
      "Learning Finished!\n",
      "Accuracy :  0.9825\n"
     ]
    }
   ],
   "source": [
    "cost = tf.reduce_mean(tf.nn.softmax_cross_entropy_with_logits(logits=hypothesis, labels=Y))\n",
    "optimizer = tf.train.AdamOptimizer(learning_rate=0.001).minimize(cost)\n",
    "\n",
    "training_epochs = 30\n",
    "batch_size = 100\n",
    "\n",
    "sess = tf.Session()\n",
    "sess.run(tf.global_variables_initializer())\n",
    "\n",
    "for epoch in range(training_epochs):\n",
    "    avg_cost = 0\n",
    "    total_batch = int(mnist.train.num_examples / batch_size)\n",
    "\n",
    "    for i in range(total_batch):\n",
    "        batch_xs, batch_ys = mnist.train.next_batch(batch_size)\n",
    "        c, _ = sess.run([cost, optimizer], feed_dict={X:batch_xs, Y:batch_ys, keep_prob:0.7})\n",
    "        avg_cost += c / total_batch\n",
    "\n",
    "    print(\"Epoch :\", \"%04d\"%(epoch+1), \"cost =\",\"{:0.9f}\".format(avg_cost))\n",
    "\n",
    "print(\"Learning Finished!\")\n",
    "\n",
    "correct_prediction = tf.equal(tf.argmax(hypothesis, 1), tf.arg_max(Y,1))\n",
    "accuracy = tf.reduce_mean(tf.cast(correct_prediction, tf.float32))\n",
    "    \n",
    "print(\"Accuracy : \", sess.run(accuracy, feed_dict={X:mnist.test.images, Y:mnist.test.labels, keep_prob:1.0}))"
   ]
  },
  {
   "cell_type": "code",
   "execution_count": null,
   "metadata": {
    "collapsed": true
   },
   "outputs": [],
   "source": []
  }
 ],
 "metadata": {
  "kernelspec": {
   "display_name": "Python 3",
   "language": "python",
   "name": "python3"
  },
  "language_info": {
   "codemirror_mode": {
    "name": "ipython",
    "version": 3
   },
   "file_extension": ".py",
   "mimetype": "text/x-python",
   "name": "python",
   "nbconvert_exporter": "python",
   "pygments_lexer": "ipython3",
   "version": "3.6.1"
  }
 },
 "nbformat": 4,
 "nbformat_minor": 2
}
