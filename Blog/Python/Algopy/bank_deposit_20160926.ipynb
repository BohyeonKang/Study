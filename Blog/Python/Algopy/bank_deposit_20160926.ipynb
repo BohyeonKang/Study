{
 "cells": [
  {
   "cell_type": "markdown",
   "metadata": {},
   "source": [
    "# 은행 계좌 신규, 입금, 출금 처리하기\n",
    "\n",
    "     1. 은행 계좌만들기\n",
    "     2. 계좌에 대한 입출금처리하기\n",
    "     "
   ]
  },
  {
   "cell_type": "markdown",
   "metadata": {},
   "source": [
    "## 계좌번호 채번하기\n",
    "    \n",
    "    계좌번호를 채번을 관리하는 것 하나의 class로 관리"
   ]
  },
  {
   "cell_type": "code",
   "execution_count": 2,
   "metadata": {
    "collapsed": true
   },
   "outputs": [],
   "source": [
    "!mkdir bank"
   ]
  },
  {
   "cell_type": "code",
   "execution_count": 3,
   "metadata": {
    "collapsed": false
   },
   "outputs": [
    {
     "name": "stdout",
     "output_type": "stream",
     "text": [
      "Writing bank/AccountNumber.py\n"
     ]
    }
   ],
   "source": [
    "%%writefile bank/AccountNumber.py\n",
    "\n",
    "# -*- coding: utf-8 -*-\n",
    "\"\"\"\n",
    "Created on Mon Feb 29 16:58:53 2016\n",
    "\n",
    "@author: 06411\n",
    "\"\"\"\n",
    "\n",
    "\n",
    "class Account_Nubmer(object) :\n",
    "    _Account_No = 0\n",
    "    @classmethod\n",
    "    def set_AN(cls) :\n",
    "        cls._Account_No  +=1\n",
    "        \n",
    "    @classmethod\n",
    "    def get_AN(cls) :\n",
    "        if not cls._Account_No  :\n",
    "            cls.set_AN()\n",
    "        return cls._Account_No \n"
   ]
  },
  {
   "cell_type": "markdown",
   "metadata": {},
   "source": [
    "## 수신계좌 만들기\n",
    "\n",
    "     수신은 예금을 관리하는 계좌이며 신규, 출금, 입금, 거래내역을 관리"
   ]
  },
  {
   "cell_type": "code",
   "execution_count": 4,
   "metadata": {
    "collapsed": false
   },
   "outputs": [
    {
     "name": "stdout",
     "output_type": "stream",
     "text": [
      "Writing bank/Account.py\n"
     ]
    }
   ],
   "source": [
    "%%writefile bank/Account.py\n",
    "# -*- coding: utf-8 -*-\n",
    "\"\"\"\n",
    "Created on Mon Feb 29 12:09:56 2016\n",
    "\n",
    "@author: 06411\n",
    "\"\"\"\n",
    "\n",
    "\n",
    "import AccountNumber as an\n",
    "\n",
    "class DepositAccount(object) :\n",
    "    \n",
    "    def __init__(self,tr) :\n",
    "        \n",
    "        if tr.event == 'issue' :\n",
    "            self.account_no = an.Account_Nubmer.get_AN()\n",
    "        else :\n",
    "            self.account_no = tr.account_no\n",
    "        self.amount = 0\n",
    "        self.dalist_no =0\n",
    "        self.dalist = DAList(self.account_no,self.get_dalist(),tr.event,tr.amount)\n",
    "            \n",
    "\n",
    "    def get_account(self) :\n",
    "        return (self.account_no,self.amount)\n",
    "        \n",
    "    def get_dalist(self) :\n",
    "        self.dalist_no +=1\n",
    "        return self.dalist_no\n",
    "            \n",
    "    def set_account(self,tr) :\n",
    "        \n",
    "        if tr.event == \"issue\" :\n",
    "            pass\n",
    "        else : \n",
    "            self.dalist = DAList(self.account_no,self.get_dalist(),tr.event,tr.amount)\n",
    "        \n",
    "        if tr.event == 'debt' :\n",
    "            self.amount -= tr.amount\n",
    "        else :\n",
    "            self.amount += tr.amount\n",
    "                \n",
    "class DAList(object) :\n",
    "    dalist= list()\n",
    "    def __init__(self,account_no,no,event,amount) :\n",
    "        self.account_no = account_no\n",
    "        self.no = no\n",
    "        self.event = event\n",
    "        self.amount = amount\n",
    "        self.dalist.append(self)\n",
    "    \n",
    "    def get_DAList(self) :\n",
    "        v = []\n",
    "        for ll  in self.dalist :\n",
    "            v.append(ll.__dict__)\n",
    "        return v\n",
    "            "
   ]
  },
  {
   "cell_type": "markdown",
   "metadata": {},
   "source": [
    "## 회계 처리\n",
    "\n",
    "    총계정원장 및 계정원장을 관리"
   ]
  },
  {
   "cell_type": "code",
   "execution_count": 5,
   "metadata": {
    "collapsed": false
   },
   "outputs": [
    {
     "name": "stdout",
     "output_type": "stream",
     "text": [
      "Writing bank/general_ledger.py\n"
     ]
    }
   ],
   "source": [
    "%%writefile bank/general_ledger.py\n",
    "# -*- coding: utf-8 -*-\n",
    "\"\"\"\n",
    "Created on Mon Feb 29 16:15:51 2016\n",
    "\n",
    "@author: 06411\n",
    "\"\"\"\n",
    "\n",
    "class BankDepositAccount(object) :\n",
    "    def __init__(self) :\n",
    "        self.account_code = 1\n",
    "        self.debtamount =0\n",
    "        self.creditamount= 0\n",
    "        \n",
    "    def get_DepositAccount(self) :\n",
    "        return (self.account_code,self.debtamount, self.creditamount)\n",
    "        \n",
    "    def set_DepositAccout(self, tr) :\n",
    "        print('tr_event', tr.event)\n",
    "        if tr.event == \"debt\" :\n",
    "            self.debtamount += tr.amount\n",
    "        else :\n",
    "            self.creditamount += tr.amount\n",
    "            \n",
    "class GeneralLedger(object) :\n",
    "    def __init__(self) :\n",
    "        self.GL_account =1\n",
    "        self.GL_debt =0\n",
    "        self.GL_credit =0\n",
    "        \n",
    "    def get_GL(self) :\n",
    "        return (self.GL_account, self.GL_debt, self.GL_credit)\n",
    "        \n",
    "    def set_GL(self,tr) :\n",
    "        \n",
    "        if tr.event == \"debt\" :\n",
    "            self.GL_debt += tr.amount\n",
    "        else :\n",
    "            self.GL_credit += tr.amount"
   ]
  },
  {
   "cell_type": "markdown",
   "metadata": {},
   "source": [
    "##  거래 발생 처리하기\n",
    "\n",
    "     은행 거래에 대한 발생 기준을 만들고 조회"
   ]
  },
  {
   "cell_type": "code",
   "execution_count": 6,
   "metadata": {
    "collapsed": false
   },
   "outputs": [
    {
     "name": "stdout",
     "output_type": "stream",
     "text": [
      "Writing bank/transaction.py\n"
     ]
    }
   ],
   "source": [
    "%%writefile bank/transaction.py\n",
    "# -*- coding: utf-8 -*-\n",
    "\"\"\"\n",
    "Created on Mon Feb 29 16:18:08 2016\n",
    "\n",
    "@author: 06411\n",
    "\"\"\"\n",
    "\n",
    "class Transaction(object) :\n",
    "    def __init__(self,tr_no,event,account_no,amount):\n",
    "        self.tr_no = tr_no\n",
    "        #event :debt, credit,issue\n",
    "        self.account_no = account_no\n",
    "        self.event = event\n",
    "       \n",
    "        self.amount = amount\n",
    "       \n",
    "    def get_Transaction(self) :\n",
    "        return (self.tr_no, self.event, self.account_no, self.amount)\n",
    "        "
   ]
  },
  {
   "cell_type": "markdown",
   "metadata": {},
   "source": [
    "## 실제 모든 거래를 처리하는 main\n",
    "\n",
    "    실제 은행 업무 처리하기\n",
    "    "
   ]
  },
  {
   "cell_type": "code",
   "execution_count": 29,
   "metadata": {
    "collapsed": false
   },
   "outputs": [
    {
     "name": "stdout",
     "output_type": "stream",
     "text": [
      "Overwriting bank/main.py\n"
     ]
    }
   ],
   "source": [
    "%%writefile bank/main.py\n",
    "\n",
    "# -*- coding: utf-8 -*-\n",
    "\"\"\"\n",
    "Created on Mon Feb 29 16:36:27 2016\n",
    "\n",
    "@author: 06411\n",
    "\"\"\"\n",
    "\n",
    "import transaction as ttt\n",
    "import general_ledger as ggg\n",
    "import Account as ddd\n",
    "            \n",
    "print(\" create bank account  \")\n",
    "ba = ggg.BankDepositAccount()\n",
    "gl = ggg.GeneralLedger()\n",
    "    \n",
    "print(\" issue deposit account \")\n",
    "tr0 = ttt.Transaction(1,\"issue\",0,100)\n",
    "\n",
    "print(\" issue customer account \")\n",
    "da = ddd.DepositAccount(tr0)\n",
    "tr0.account_no = da.account_no\n",
    "print(\" DAlist \", da.dalist.get_DAList())\n",
    "\n",
    "da.set_account(tr0)\n",
    "ba.set_DepositAccout(tr0)\n",
    "gl.set_GL(tr0)\n",
    "print(\" inquery customer account :\",da.get_account())\n",
    "print(\" inquery deposit account  :\",ba.get_DepositAccount())\n",
    "print(\" inquery general ledager  :\",gl.get_GL())\n",
    "print(\" DAlist \", da.dalist.get_DAList())\n",
    "\n",
    "\n",
    "print(\" credit deposit account \")\n",
    "tr1 = ttt.Transaction(1,\"credit\",1,100)\n",
    "da.set_account(tr1)\n",
    "ba.set_DepositAccout(tr1)\n",
    "gl.set_GL(tr1)\n",
    "\n",
    "print(\" inquery customer account :\",da.get_account())\n",
    "print(\" inquery deposit account  :\",ba.get_DepositAccount())\n",
    "print(\" inquery general ledager  :\",gl.get_GL())\n",
    "\n",
    "\n",
    "print(\" debt deposit accoutn \")\n",
    "print(\" debt deposit account \")\n",
    "\n",
    "tr2 = ttt.Transaction(1,\"debt\",1,100)\n",
    "da.set_account(tr2)\n",
    "ba.set_DepositAccout(tr2)\n",
    "gl.set_GL(tr2)\n",
    "print(\" inquery customer account :\",da.get_account())\n",
    "print(\" inquery deposit account  :\",ba.get_DepositAccount())\n",
    "print(\" inquery general ledager  :\",gl.get_GL())\n",
    "\n",
    "print(\" create another bank account  \")\n",
    "tr0 = ttt.Transaction(2,\"issue\",0,100)\n",
    "da2 = ddd.DepositAccount(tr0)\n",
    "print(da2.account_no)\n",
    "tr0.account_no = da2.account_no\n",
    "\n",
    "da2.set_account(tr0)\n",
    "ba.set_DepositAccout(tr0)\n",
    "gl.set_GL(tr0)\n",
    "\n",
    "print(\" inquery customer account :\",da2.get_account())\n",
    "print(\" inquery deposit account  :\",ba.get_DepositAccount())\n",
    "print(\" inquery general ledager  :\",gl.get_GL())\n",
    "\n",
    "print(\" DAlist \", da.dalist.get_DAList())\n",
    "print(\" DAlist2 \", da2.dalist.get_DAList())"
   ]
  },
  {
   "cell_type": "code",
   "execution_count": 30,
   "metadata": {
    "collapsed": false
   },
   "outputs": [
    {
     "name": "stdout",
     "output_type": "stream",
     "text": [
      " create bank account  \n",
      " issue deposit account \n",
      " issue customer account \n",
      " DAlist  [{'no': 1, 'account_no': 1, 'event': 'issue', 'amount': 100}]\n",
      "tr_event issue\n",
      " inquery customer account : (1, 100)\n",
      " inquery deposit account  : (1, 0, 100)\n",
      " inquery general ledager  : (1, 0, 100)\n",
      " DAlist  [{'no': 1, 'account_no': 1, 'event': 'issue', 'amount': 100}]\n",
      " credit deposit account \n",
      "tr_event credit\n",
      " inquery customer account : (1, 200)\n",
      " inquery deposit account  : (1, 0, 200)\n",
      " inquery general ledager  : (1, 0, 200)\n",
      " debt deposit accoutn \n",
      " debt deposit account \n",
      "tr_event debt\n",
      " inquery customer account : (1, 100)\n",
      " inquery deposit account  : (1, 100, 200)\n",
      " inquery general ledager  : (1, 100, 200)\n",
      " create another bank account  \n",
      "1\n",
      "tr_event issue\n",
      " inquery customer account : (1, 100)\n",
      " inquery deposit account  : (1, 100, 300)\n",
      " inquery general ledager  : (1, 100, 300)\n",
      " DAlist  [{'no': 1, 'account_no': 1, 'event': 'issue', 'amount': 100}, {'no': 2, 'account_no': 1, 'event': 'credit', 'amount': 100}, {'no': 3, 'account_no': 1, 'event': 'debt', 'amount': 100}, {'no': 1, 'account_no': 1, 'event': 'issue', 'amount': 100}]\n",
      " DAlist2  [{'no': 1, 'account_no': 1, 'event': 'issue', 'amount': 100}, {'no': 2, 'account_no': 1, 'event': 'credit', 'amount': 100}, {'no': 3, 'account_no': 1, 'event': 'debt', 'amount': 100}, {'no': 1, 'account_no': 1, 'event': 'issue', 'amount': 100}]\n"
     ]
    }
   ],
   "source": [
    "!python bank/main.py"
   ]
  },
  {
   "cell_type": "markdown",
   "metadata": {
    "collapsed": true
   },
   "source": [
    "#### 리뷰\n",
    "\n",
    "- Account_Nubmer\n",
    "  - `set_AN` 과 `get_AN`을 나눈 이유는 ? `get_AN`이 아닌 곳에서 `set_AN`을 사용할 경우가 과연 있는가 ?\n",
    "- DepositAccount\n",
    "  - `get_dalist` 함수는 dalist를 return하지않고 채번하는 기능을 제공하는듯 한데... 이름이 혼란을 가져다 줌. 함수명이 수정되었으면 함\n",
    "  - account_no = 1 인 `DepositAccount`가 있는 상태에서 `tr0 = ttt.Transaction(1,\"issue\",0,100)`로 생성시 return 받은 객체의 account_no는 2가 되어야 맞는 것으로 코드상 보이지만 실제로는 1로 생성됨\n",
    "- Transaction\n",
    "  - 위 다른 class내의 코드를 보면 event로 issue와 dept에 대한 분기만 명시되어 있는데, 실제로는 credit도 사용됨. 이렇게 event에 들어올수 있는 것에 대해서는 따로 코드상 관리나 문서화가 필요할 것으로 판단됨. 아니면, else문에서 elif로 따로 명시해주는 것도 한 방법.\n",
    "- DAList\n",
    "  - `dalist`는 static 변수로 보이는데, 그것을 return 받는 메서드 호출이 `da.dalist.get_DAList()`이런식이라는게 보기에 어색함. 각 객체별로 dalist객체가 따로있지 않아 보이는데, 해당 메서드도 static으로 사용하는게 더 보기도 좋고, 원래 기능에도 적합해 보임.\n",
    "- 실행코드\n",
    "  - da, ba, gl이 같이 호출되는 곳이 많음. 해당 부분이 한 Transaction으로 같이 수행해야만 하는 코드라면 그 처리를 따로 해주는게 실행시 3개중 뭔가를 빼먹는다던지 등의 실수를 줄여주지 않을지...\n",
    "  - `tr0 = ttt.Transaction(1,\"issue\",0,100)` 수행 후 `tr0.account_no = da.account_no`로 해서 다시 수행하는 코드가 보이는데, 의미상 앞의 tr0와 뒤의 tr0는 다른 동작이므로 따로 선언하는게 의미상 맞게 보임. 그리고 앞의 tr0수행시 실제 잔액은 0인데 dalist에는 100으로 들어가 있으며, 뒤에  tr0수행시 실제로 잔액이 100이 되는데, 그때의 수행동작에서는 dalist에 작업을 기록하지 않음\n",
    "  "
   ]
  },
  {
   "cell_type": "code",
   "execution_count": null,
   "metadata": {
    "collapsed": true
   },
   "outputs": [],
   "source": []
  }
 ],
 "metadata": {
  "anaconda-cloud": {},
  "kernelspec": {
   "display_name": "Python [default]",
   "language": "python",
   "name": "python3"
  },
  "language_info": {
   "codemirror_mode": {
    "name": "ipython",
    "version": 3
   },
   "file_extension": ".py",
   "mimetype": "text/x-python",
   "name": "python",
   "nbconvert_exporter": "python",
   "pygments_lexer": "ipython3",
   "version": "3.5.2"
  }
 },
 "nbformat": 4,
 "nbformat_minor": 0
}
