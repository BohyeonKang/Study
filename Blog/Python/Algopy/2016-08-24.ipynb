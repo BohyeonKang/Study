{
 "cells": [
  {
   "cell_type": "markdown",
   "metadata": {},
   "source": [
    "`unpack` 개념이해 "
   ]
  },
  {
   "cell_type": "code",
   "execution_count": 1,
   "metadata": {
    "collapsed": false
   },
   "outputs": [
    {
     "data": {
      "text/plain": [
       "{'x': 5, 'y': 5}"
      ]
     },
     "execution_count": 1,
     "metadata": {},
     "output_type": "execute_result"
    }
   ],
   "source": [
    "def f(x,y):\n",
    "    return locals()\n",
    "f(5,5)"
   ]
  },
  {
   "cell_type": "code",
   "execution_count": 2,
   "metadata": {
    "collapsed": false
   },
   "outputs": [
    {
     "data": {
      "text/plain": [
       "{'args': (), 'kargs': {}, 'x': 5, 'y': 5}"
      ]
     },
     "execution_count": 2,
     "metadata": {},
     "output_type": "execute_result"
    }
   ],
   "source": [
    "def f(x,y, *args, **kargs):\n",
    "    return locals()\n",
    "f(5,5)"
   ]
  },
  {
   "cell_type": "markdown",
   "metadata": {},
   "source": [
    "함수는 내부적으로 frame을 구성(recursive때문)  \n",
    "스택에 frame의 변수들을 저장  \n",
    "함수frame은 하나만 있고, 해당 함수를 사용하면 스택에 변수만 저장  \n",
    "default값은 함수frame에 저장됨  \n",
    "\n",
    "recursive call이 되게 할려면 저렇게 해야함 JVM도 마찬가지"
   ]
  },
  {
   "cell_type": "markdown",
   "metadata": {},
   "source": [
    "함수의 default값을 list 같은걸로 할 경우 그 값이 function frame에 계속 남아있게 된다."
   ]
  },
  {
   "cell_type": "code",
   "execution_count": 3,
   "metadata": {
    "collapsed": false
   },
   "outputs": [
    {
     "data": {
      "text/plain": [
       "([],)"
      ]
     },
     "execution_count": 3,
     "metadata": {},
     "output_type": "execute_result"
    }
   ],
   "source": [
    "def add(y, x=[]):\n",
    "    x.append(y)\n",
    "    return y\n",
    "\n",
    "add.__defaults__"
   ]
  },
  {
   "cell_type": "code",
   "execution_count": 4,
   "metadata": {
    "collapsed": false
   },
   "outputs": [
    {
     "data": {
      "text/plain": [
       "([5],)"
      ]
     },
     "execution_count": 4,
     "metadata": {},
     "output_type": "execute_result"
    }
   ],
   "source": [
    "add(5)\n",
    "add.__defaults__"
   ]
  },
  {
   "cell_type": "code",
   "execution_count": 5,
   "metadata": {
    "collapsed": false
   },
   "outputs": [
    {
     "name": "stdout",
     "output_type": "stream",
     "text": [
      "['__annotations__', '__call__', '__class__', '__closure__', '__code__', '__defaults__', '__delattr__', '__dict__', '__dir__', '__doc__', '__eq__', '__format__', '__ge__', '__get__', '__getattribute__', '__globals__', '__gt__', '__hash__', '__init__', '__kwdefaults__', '__le__', '__lt__', '__module__', '__name__', '__ne__', '__new__', '__qualname__', '__reduce__', '__reduce_ex__', '__repr__', '__setattr__', '__sizeof__', '__str__', '__subclasshook__']\n"
     ]
    }
   ],
   "source": [
    "print(dir(add))"
   ]
  },
  {
   "cell_type": "markdown",
   "metadata": {},
   "source": [
    "* 소스코드 보기"
   ]
  },
  {
   "cell_type": "code",
   "execution_count": 6,
   "metadata": {
    "collapsed": false
   },
   "outputs": [
    {
     "data": {
      "text/plain": [
       "'def add(y, x=[]):\\n    x.append(y)\\n    return y\\n'"
      ]
     },
     "execution_count": 6,
     "metadata": {},
     "output_type": "execute_result"
    }
   ],
   "source": [
    "import inspect\n",
    "\n",
    "inspect.getsource(add)"
   ]
  },
  {
   "cell_type": "markdown",
   "metadata": {},
   "source": [
    "* 어셈블리 코드 보기"
   ]
  },
  {
   "cell_type": "code",
   "execution_count": 7,
   "metadata": {
    "collapsed": false
   },
   "outputs": [
    {
     "name": "stdout",
     "output_type": "stream",
     "text": [
      "  2           0 LOAD_FAST                1 (x)\n",
      "              3 LOAD_ATTR                0 (append)\n",
      "              6 LOAD_FAST                0 (y)\n",
      "              9 CALL_FUNCTION            1 (1 positional, 0 keyword pair)\n",
      "             12 POP_TOP\n",
      "\n",
      "  3          13 LOAD_FAST                0 (y)\n",
      "             16 RETURN_VALUE\n"
     ]
    }
   ],
   "source": [
    "import dis\n",
    "\n",
    "dis.dis(add)"
   ]
  },
  {
   "cell_type": "code",
   "execution_count": 8,
   "metadata": {
    "collapsed": false
   },
   "outputs": [
    {
     "name": "stdout",
     "output_type": "stream",
     "text": [
      "Help on function add in module __main__:\n",
      "\n",
      "add(y, x=[5])\n",
      "\n"
     ]
    }
   ],
   "source": [
    "help(add)"
   ]
  },
  {
   "cell_type": "code",
   "execution_count": 9,
   "metadata": {
    "collapsed": false
   },
   "outputs": [
    {
     "name": "stdout",
     "output_type": "stream",
     "text": [
      "None\n"
     ]
    }
   ],
   "source": [
    "print(add.__doc__)"
   ]
  },
  {
   "cell_type": "markdown",
   "metadata": {},
   "source": [
    "* 함수나 class 의 가장 처음에 오는 `''' '''` 사이에 있는 설명들을 `__doc__`에 저장됨"
   ]
  },
  {
   "cell_type": "code",
   "execution_count": 10,
   "metadata": {
    "collapsed": false
   },
   "outputs": [
    {
     "data": {
      "text/plain": [
       "'\\n    HaHaHa\\n    '"
      ]
     },
     "execution_count": 10,
     "metadata": {},
     "output_type": "execute_result"
    }
   ],
   "source": [
    "def abc():\n",
    "    '''\n",
    "    HaHaHa\n",
    "    '''\n",
    "    pass\n",
    "\n",
    "abc.__doc__"
   ]
  },
  {
   "cell_type": "code",
   "execution_count": 11,
   "metadata": {
    "collapsed": false
   },
   "outputs": [
    {
     "data": {
      "text/plain": [
       "{}"
      ]
     },
     "execution_count": 11,
     "metadata": {},
     "output_type": "execute_result"
    }
   ],
   "source": [
    "abc.__dict__"
   ]
  },
  {
   "cell_type": "code",
   "execution_count": 12,
   "metadata": {
    "collapsed": false
   },
   "outputs": [
    {
     "data": {
      "text/plain": [
       "{'x': 1}"
      ]
     },
     "execution_count": 12,
     "metadata": {},
     "output_type": "execute_result"
    }
   ],
   "source": [
    "abc.x = 1\n",
    "abc.__dict__"
   ]
  },
  {
   "cell_type": "markdown",
   "metadata": {},
   "source": [
    "함수도 객체로 관리되므로 변수로 추가가 가능함"
   ]
  },
  {
   "cell_type": "code",
   "execution_count": 13,
   "metadata": {
    "collapsed": false
   },
   "outputs": [
    {
     "data": {
      "text/plain": [
       "([5, 1],)"
      ]
     },
     "execution_count": 13,
     "metadata": {},
     "output_type": "execute_result"
    }
   ],
   "source": [
    "add.add = add\n",
    "add.add(1)\n",
    "add.__defaults__"
   ]
  },
  {
   "cell_type": "code",
   "execution_count": 14,
   "metadata": {
    "collapsed": false
   },
   "outputs": [
    {
     "data": {
      "text/plain": [
       "{'add': <function __main__.add>}"
      ]
     },
     "execution_count": 14,
     "metadata": {},
     "output_type": "execute_result"
    }
   ],
   "source": [
    "add.__dict__"
   ]
  },
  {
   "cell_type": "code",
   "execution_count": 15,
   "metadata": {
    "collapsed": false
   },
   "outputs": [
    {
     "data": {
      "text/plain": [
       "0"
      ]
     },
     "execution_count": 15,
     "metadata": {},
     "output_type": "execute_result"
    }
   ],
   "source": [
    "i = int()\n",
    "i"
   ]
  },
  {
   "cell_type": "markdown",
   "metadata": {},
   "source": [
    "파이썬에서 casting 은 없다. 그냥 instance 생성을 한다.\n",
    "\n",
    "- `id` : 참조변수의 주소를 숫자로 보여주세요."
   ]
  },
  {
   "cell_type": "code",
   "execution_count": 17,
   "metadata": {
    "collapsed": false
   },
   "outputs": [
    {
     "name": "stdout",
     "output_type": "stream",
     "text": [
      "4314057840\n",
      "4297148528\n"
     ]
    }
   ],
   "source": [
    "b = \"1\"\n",
    "a = int(b)\n",
    "print(id(b))\n",
    "print(id(a))"
   ]
  },
  {
   "cell_type": "code",
   "execution_count": 18,
   "metadata": {
    "collapsed": false
   },
   "outputs": [
    {
     "data": {
      "text/plain": [
       "type"
      ]
     },
     "execution_count": 18,
     "metadata": {},
     "output_type": "execute_result"
    }
   ],
   "source": [
    "type(int)"
   ]
  },
  {
   "cell_type": "code",
   "execution_count": 19,
   "metadata": {
    "collapsed": false
   },
   "outputs": [
    {
     "data": {
      "text/plain": [
       "int"
      ]
     },
     "execution_count": 19,
     "metadata": {},
     "output_type": "execute_result"
    }
   ],
   "source": [
    "type(a)"
   ]
  },
  {
   "cell_type": "code",
   "execution_count": 25,
   "metadata": {
    "collapsed": false
   },
   "outputs": [
    {
     "data": {
      "text/plain": [
       "tuple"
      ]
     },
     "execution_count": 25,
     "metadata": {},
     "output_type": "execute_result"
    }
   ],
   "source": [
    "type((1,))"
   ]
  },
  {
   "cell_type": "code",
   "execution_count": 26,
   "metadata": {
    "collapsed": false
   },
   "outputs": [
    {
     "data": {
      "text/plain": [
       "int"
      ]
     },
     "execution_count": 26,
     "metadata": {},
     "output_type": "execute_result"
    }
   ],
   "source": [
    "type((1))"
   ]
  },
  {
   "cell_type": "code",
   "execution_count": 28,
   "metadata": {
    "collapsed": false
   },
   "outputs": [
    {
     "name": "stdout",
     "output_type": "stream",
     "text": [
      "{'_i24': '(1)', '_i': 'globals()', '_oh': {1: {'y': 5, 'x': 5}, 2: {'y': 5, 'kargs': {}, 'args': (), 'x': 5}, 3: ([5, 1],), 4: ([5, 1],), 6: 'def add(y, x=[]):\\n    x.append(y)\\n    return y\\n', 10: '\\n    HaHaHa\\n    ', 11: {'x': 1}, 12: {'x': 1}, 13: ([5, 1],), 14: {'add': <function add at 0x1048a8bf8>}, 15: 0, 18: <class 'type'>, 19: <class 'int'>, 20: 1, 21: (1,), 23: (1,), 24: 1, 25: <class 'tuple'>, 26: <class 'int'>, 27: {...}}, '_21': (1,), 'dis': <module 'dis' from '/Users/seokjoonyun/anaconda/lib/python3.5/dis.py'>, '_ih': ['', 'def f(x,y):\\n    return locals()\\nf(5,5)', 'def f(x,y, *args, **kargs):\\n    return locals()\\nf(5,5)', 'def add(y, x=[]):\\n    x.append(y)\\n    return y\\n\\nadd.__defaults__', 'add(5)\\nadd.__defaults__', 'print(dir(add))', 'import inspect\\n\\ninspect.getsource(add)', 'import dis\\n\\ndis.dis(add)', 'help(add)', 'print(add.__doc__)', \"def abc():\\n    '''\\n    HaHaHa\\n    '''\\n    pass\\n\\nabc.__doc__\", 'abc.__dict__', 'abc.x = 1\\nabc.__dict__', 'add.add = add\\nadd.add(1)\\nadd.__defaults__', 'add.__dict__', 'i = int()\\ni', 'inspect.getsource(int)', 'b = \"1\"\\na = int(b)\\nprint(id(b))\\nprint(id(a))', 'type(int)', 'type(a)', '(1)', '(1,)', '(,1)', '(1,)', '(1)', 'type((1,))', 'type((1))', 'globals()', 'print(globals())'], '_23': (1,), '__spec__': None, '_i12': 'abc.x = 1\\nabc.__dict__', '_1': {'y': 5, 'x': 5}, '_15': 0, '__builtins__': <module 'builtins' (built-in)>, '_24': 1, '_i6': 'import inspect\\n\\ninspect.getsource(add)', '_10': '\\n    HaHaHa\\n    ', '_i20': '(1)', '_i8': 'help(add)', '_i7': 'import dis\\n\\ndis.dis(add)', '_i14': 'add.__dict__', '_iii': 'type((1,))', 'inspect': <module 'inspect' from '/Users/seokjoonyun/anaconda/lib/python3.5/inspect.py'>, '_3': ([5, 1],), '__doc__': 'Automatically created module for IPython interactive environment', '_19': <class 'int'>, '_i28': 'print(globals())', '_i1': 'def f(x,y):\\n    return locals()\\nf(5,5)', 'In': ['', 'def f(x,y):\\n    return locals()\\nf(5,5)', 'def f(x,y, *args, **kargs):\\n    return locals()\\nf(5,5)', 'def add(y, x=[]):\\n    x.append(y)\\n    return y\\n\\nadd.__defaults__', 'add(5)\\nadd.__defaults__', 'print(dir(add))', 'import inspect\\n\\ninspect.getsource(add)', 'import dis\\n\\ndis.dis(add)', 'help(add)', 'print(add.__doc__)', \"def abc():\\n    '''\\n    HaHaHa\\n    '''\\n    pass\\n\\nabc.__doc__\", 'abc.__dict__', 'abc.x = 1\\nabc.__dict__', 'add.add = add\\nadd.add(1)\\nadd.__defaults__', 'add.__dict__', 'i = int()\\ni', 'inspect.getsource(int)', 'b = \"1\"\\na = int(b)\\nprint(id(b))\\nprint(id(a))', 'type(int)', 'type(a)', '(1)', '(1,)', '(,1)', '(1,)', '(1)', 'type((1,))', 'type((1))', 'globals()', 'print(globals())'], 'i': 0, 'add': <function add at 0x1048a8bf8>, '_26': <class 'int'>, '_6': 'def add(y, x=[]):\\n    x.append(y)\\n    return y\\n', '__builtin__': <module 'builtins' (built-in)>, 'exit': <IPython.core.autocall.ZMQExitAutocall object at 0x104826358>, '_i11': 'abc.__dict__', '_i4': 'add(5)\\nadd.__defaults__', 'Out': {1: {'y': 5, 'x': 5}, 2: {'y': 5, 'kargs': {}, 'args': (), 'x': 5}, 3: ([5, 1],), 4: ([5, 1],), 6: 'def add(y, x=[]):\\n    x.append(y)\\n    return y\\n', 10: '\\n    HaHaHa\\n    ', 11: {'x': 1}, 12: {'x': 1}, 13: ([5, 1],), 14: {'add': <function add at 0x1048a8bf8>}, 15: 0, 18: <class 'type'>, 19: <class 'int'>, 20: 1, 21: (1,), 23: (1,), 24: 1, 25: <class 'tuple'>, 26: <class 'int'>, 27: {...}}, '_i16': 'inspect.getsource(int)', 'get_ipython': <bound method InteractiveShell.get_ipython of <ipykernel.zmqshell.ZMQInteractiveShell object at 0x1047e3e48>>, '_i19': 'type(a)', '_i27': 'globals()', 'quit': <IPython.core.autocall.ZMQExitAutocall object at 0x104826358>, '_sh': <module 'IPython.core.shadowns' from '/Users/seokjoonyun/anaconda/lib/python3.5/site-packages/IPython/core/shadowns.py'>, '_13': ([5, 1],), '_i9': 'print(add.__doc__)', '__name__': '__main__', '_i2': 'def f(x,y, *args, **kargs):\\n    return locals()\\nf(5,5)', '_i5': 'print(dir(add))', '_i15': 'i = int()\\ni', '_': {...}, '_20': 1, '_2': {'y': 5, 'kargs': {}, 'args': (), 'x': 5}, '_i10': \"def abc():\\n    '''\\n    HaHaHa\\n    '''\\n    pass\\n\\nabc.__doc__\", '__loader__': None, 'f': <function f at 0x1048a8a60>, '_i26': 'type((1))', '_i22': '(,1)', '__package__': None, 'abc': <function abc at 0x104940268>, '_i13': 'add.add = add\\nadd.add(1)\\nadd.__defaults__', '_dh': ['/Users/seokjoonyun/Github/Study/Blog/Python'], '_11': {'x': 1}, '_25': <class 'tuple'>, '__': <class 'int'>, '_i23': '(1,)', '_i18': 'type(int)', '_14': {'add': <function add at 0x1048a8bf8>}, '_18': <class 'type'>, 'b': '1', '_4': ([5, 1],), '_12': {'x': 1}, '_i21': '(1,)', '_i25': 'type((1,))', '___': <class 'tuple'>, '_i3': 'def add(y, x=[]):\\n    x.append(y)\\n    return y\\n\\nadd.__defaults__', '_ii': 'type((1))', 'a': 1, '_i17': 'b = \"1\"\\na = int(b)\\nprint(id(b))\\nprint(id(a))', '_27': {...}}\n"
     ]
    }
   ],
   "source": [
    "print(globals())"
   ]
  },
  {
   "cell_type": "code",
   "execution_count": 31,
   "metadata": {
    "collapsed": false
   },
   "outputs": [],
   "source": [
    "globals().clear()"
   ]
  },
  {
   "cell_type": "markdown",
   "metadata": {},
   "source": [
    "`Jupyter Notebook`은 `globals()`를 지워도 큰 차이가 없음"
   ]
  },
  {
   "cell_type": "code",
   "execution_count": 32,
   "metadata": {
    "collapsed": false
   },
   "outputs": [
    {
     "name": "stdout",
     "output_type": "stream",
     "text": [
      "Once deleted, variables cannot be recovered. Proceed (y/[n])? y\n"
     ]
    }
   ],
   "source": [
    "%reset"
   ]
  },
  {
   "cell_type": "markdown",
   "metadata": {},
   "source": [
    "* comprehension 내부의 변수는 지역변수로 처리되어서 밖에 있는 변수를 덮어 쓰지 않음"
   ]
  },
  {
   "cell_type": "code",
   "execution_count": 35,
   "metadata": {
    "collapsed": false
   },
   "outputs": [
    {
     "data": {
      "text/plain": [
       "3"
      ]
     },
     "execution_count": 35,
     "metadata": {},
     "output_type": "execute_result"
    }
   ],
   "source": [
    "x = 3\n",
    "l = [x for x in range(10)]\n",
    "x"
   ]
  },
  {
   "cell_type": "markdown",
   "metadata": {},
   "source": [
    "* `SET`"
   ]
  },
  {
   "cell_type": "code",
   "execution_count": 38,
   "metadata": {
    "collapsed": false
   },
   "outputs": [
    {
     "data": {
      "text/plain": [
       "{1, 2, 3}"
      ]
     },
     "execution_count": 38,
     "metadata": {},
     "output_type": "execute_result"
    }
   ],
   "source": [
    "d = { x for x in range(1,4)}\n",
    "d"
   ]
  },
  {
   "cell_type": "markdown",
   "metadata": {},
   "source": [
    "* `Dict`"
   ]
  },
  {
   "cell_type": "code",
   "execution_count": 39,
   "metadata": {
    "collapsed": false
   },
   "outputs": [
    {
     "data": {
      "text/plain": [
       "{1: 1, 2: 2, 3: 3}"
      ]
     },
     "execution_count": 39,
     "metadata": {},
     "output_type": "execute_result"
    }
   ],
   "source": [
    "d = {x:x for x in range(1,4)}\n",
    "d"
   ]
  },
  {
   "cell_type": "code",
   "execution_count": 4,
   "metadata": {
    "collapsed": false
   },
   "outputs": [
    {
     "name": "stdout",
     "output_type": "stream",
     "text": [
      "['ArithmeticError', 'AssertionError', 'AttributeError', 'BaseException', 'BlockingIOError', 'BrokenPipeError', 'BufferError', 'BytesWarning', 'ChildProcessError', 'ConnectionAbortedError', 'ConnectionError', 'ConnectionRefusedError', 'ConnectionResetError', 'DeprecationWarning', 'EOFError', 'Ellipsis', 'EnvironmentError', 'Exception', 'False', 'FileExistsError', 'FileNotFoundError', 'FloatingPointError', 'FutureWarning', 'GeneratorExit', 'IOError', 'ImportError', 'ImportWarning', 'IndentationError', 'IndexError', 'InterruptedError', 'IsADirectoryError', 'KeyError', 'KeyboardInterrupt', 'LookupError', 'MemoryError', 'NameError', 'None', 'NotADirectoryError', 'NotImplemented', 'NotImplementedError', 'OSError', 'OverflowError', 'PendingDeprecationWarning', 'PermissionError', 'ProcessLookupError', 'RecursionError', 'ReferenceError', 'ResourceWarning', 'RuntimeError', 'RuntimeWarning', 'StopAsyncIteration', 'StopIteration', 'SyntaxError', 'SyntaxWarning', 'SystemError', 'SystemExit', 'TabError', 'TimeoutError', 'True', 'TypeError', 'UnboundLocalError', 'UnicodeDecodeError', 'UnicodeEncodeError', 'UnicodeError', 'UnicodeTranslateError', 'UnicodeWarning', 'UserWarning', 'ValueError', 'Warning', 'ZeroDivisionError', '__IPYTHON__', '__build_class__', '__debug__', '__doc__', '__import__', '__loader__', '__name__', '__package__', '__spec__', 'abs', 'all', 'any', 'ascii', 'bin', 'bool', 'bytearray', 'bytes', 'callable', 'chr', 'classmethod', 'compile', 'complex', 'copyright', 'credits', 'delattr', 'dict', 'dir', 'divmod', 'dreload', 'enumerate', 'eval', 'exec', 'filter', 'float', 'format', 'frozenset', 'get_ipython', 'getattr', 'globals', 'hasattr', 'hash', 'help', 'hex', 'id', 'input', 'int', 'isinstance', 'issubclass', 'iter', 'len', 'license', 'list', 'locals', 'map', 'max', 'memoryview', 'min', 'next', 'object', 'oct', 'open', 'ord', 'pow', 'print', 'property', 'range', 'repr', 'reversed', 'round', 'set', 'setattr', 'slice', 'sorted', 'staticmethod', 'str', 'sum', 'super', 'tuple', 'type', 'vars', 'zip']\n"
     ]
    }
   ],
   "source": [
    "print(dir(__builtins__))"
   ]
  },
  {
   "cell_type": "code",
   "execution_count": 1,
   "metadata": {
    "collapsed": false
   },
   "outputs": [
    {
     "name": "stdout",
     "output_type": "stream",
     "text": [
      "['__all__', '__builtins__', '__cached__', '__doc__', '__file__', '__loader__', '__name__', '__package__', '__spec__', 'iskeyword', 'kwlist', 'main']\n"
     ]
    }
   ],
   "source": [
    "import keyword\n",
    "print(dir(keyword))"
   ]
  },
  {
   "cell_type": "code",
   "execution_count": 2,
   "metadata": {
    "collapsed": false
   },
   "outputs": [
    {
     "name": "stdout",
     "output_type": "stream",
     "text": [
      "['False', 'None', 'True', 'and', 'as', 'assert', 'break', 'class', 'continue', 'def', 'del', 'elif', 'else', 'except', 'finally', 'for', 'from', 'global', 'if', 'import', 'in', 'is', 'lambda', 'nonlocal', 'not', 'or', 'pass', 'raise', 'return', 'try', 'while', 'with', 'yield']\n"
     ]
    }
   ],
   "source": [
    "print(keyword.kwlist)"
   ]
  },
  {
   "cell_type": "code",
   "execution_count": 3,
   "metadata": {
    "collapsed": false
   },
   "outputs": [
    {
     "name": "stdout",
     "output_type": "stream",
     "text": [
      "True\n"
     ]
    }
   ],
   "source": [
    "print(keyword.iskeyword('and'))"
   ]
  },
  {
   "cell_type": "code",
   "execution_count": 7,
   "metadata": {
    "collapsed": false
   },
   "outputs": [
    {
     "data": {
      "text/plain": [
       "['CO_FUTURE_ABSOLUTE_IMPORT',\n",
       " 'CO_FUTURE_BARRY_AS_BDFL',\n",
       " 'CO_FUTURE_DIVISION',\n",
       " 'CO_FUTURE_GENERATOR_STOP',\n",
       " 'CO_FUTURE_PRINT_FUNCTION',\n",
       " 'CO_FUTURE_UNICODE_LITERALS',\n",
       " 'CO_FUTURE_WITH_STATEMENT',\n",
       " 'CO_GENERATOR_ALLOWED',\n",
       " 'CO_NESTED',\n",
       " '_Feature',\n",
       " '__all__',\n",
       " '__builtins__',\n",
       " '__cached__',\n",
       " '__doc__',\n",
       " '__file__',\n",
       " '__loader__',\n",
       " '__name__',\n",
       " '__package__',\n",
       " '__spec__',\n",
       " 'absolute_import',\n",
       " 'all_feature_names',\n",
       " 'barry_as_FLUFL',\n",
       " 'division',\n",
       " 'generator_stop',\n",
       " 'generators',\n",
       " 'nested_scopes',\n",
       " 'print_function',\n",
       " 'unicode_literals',\n",
       " 'with_statement']"
      ]
     },
     "execution_count": 7,
     "metadata": {},
     "output_type": "execute_result"
    }
   ],
   "source": [
    "import __future__\n",
    "dir(__future__)"
   ]
  },
  {
   "cell_type": "markdown",
   "metadata": {},
   "source": [
    "* Java\n",
    "```\n",
    "Class (Type) -> Object\n",
    "```\n",
    "\n",
    "* Python\n",
    "```\n",
    "Type (Object) -> Class (Object) -> instance object\n",
    "```"
   ]
  },
  {
   "cell_type": "code",
   "execution_count": 1,
   "metadata": {
    "collapsed": false
   },
   "outputs": [
    {
     "data": {
      "text/plain": [
       "int"
      ]
     },
     "execution_count": 1,
     "metadata": {},
     "output_type": "execute_result"
    }
   ],
   "source": [
    "(1).__class__"
   ]
  },
  {
   "cell_type": "code",
   "execution_count": 3,
   "metadata": {
    "collapsed": false
   },
   "outputs": [
    {
     "data": {
      "text/plain": [
       "type"
      ]
     },
     "execution_count": 3,
     "metadata": {},
     "output_type": "execute_result"
    }
   ],
   "source": [
    "(1).__class__.__class__"
   ]
  },
  {
   "cell_type": "code",
   "execution_count": 7,
   "metadata": {
    "collapsed": false
   },
   "outputs": [
    {
     "data": {
      "text/plain": [
       "type"
      ]
     },
     "execution_count": 7,
     "metadata": {},
     "output_type": "execute_result"
    }
   ],
   "source": [
    "type((1).__class__)"
   ]
  },
  {
   "cell_type": "markdown",
   "metadata": {},
   "source": [
    "* `type()` = `__class__` : 해당 instance를 생성한 class"
   ]
  },
  {
   "cell_type": "code",
   "execution_count": 8,
   "metadata": {
    "collapsed": false
   },
   "outputs": [
    {
     "name": "stdout",
     "output_type": "stream",
     "text": [
      "<class 'type'>\n"
     ]
    },
    {
     "data": {
      "text/plain": [
       "{'name': 'Jerry'}"
      ]
     },
     "execution_count": 8,
     "metadata": {},
     "output_type": "execute_result"
    }
   ],
   "source": [
    "def __init__(self, name):\n",
    "    self.name = name\n",
    "\n",
    "Person = type('Person', (object,), {'__init__':__init__})\n",
    "\n",
    "print(type(Person))\n",
    "\n",
    "p = Person(\"Jerry\")\n",
    "\n",
    "p.__dict__"
   ]
  },
  {
   "cell_type": "code",
   "execution_count": 14,
   "metadata": {
    "collapsed": false
   },
   "outputs": [
    {
     "name": "stdout",
     "output_type": "stream",
     "text": [
      "<__main__.Person object at 0x1049b9668> 4372272744\n",
      "{'name': 'a'}\n",
      "4372272744\n"
     ]
    }
   ],
   "source": [
    "class Person(object):\n",
    "    def __init__(aaa, name):\n",
    "        print(aaa, id(aaa))\n",
    "        aaa.name = name\n",
    "\n",
    "p1 = Person('a')\n",
    "print(p1.__dict__)\n",
    "print(id(p1))"
   ]
  },
  {
   "cell_type": "code",
   "execution_count": 19,
   "metadata": {
    "collapsed": false
   },
   "outputs": [
    {
     "name": "stdout",
     "output_type": "stream",
     "text": [
      "['__abstractmethods__', '__base__', '__bases__', '__basicsize__', '__call__', '__class__', '__delattr__', '__dict__', '__dictoffset__', '__dir__', '__doc__', '__eq__', '__flags__', '__format__', '__ge__', '__getattribute__', '__gt__', '__hash__', '__init__', '__instancecheck__', '__itemsize__', '__le__', '__lt__', '__module__', '__mro__', '__name__', '__ne__', '__new__', '__prepare__', '__qualname__', '__reduce__', '__reduce_ex__', '__repr__', '__setattr__', '__sizeof__', '__str__', '__subclasscheck__', '__subclasses__', '__subclasshook__', '__text_signature__', '__weakrefoffset__', 'mro']\n"
     ]
    }
   ],
   "source": [
    "print(dir(type))"
   ]
  },
  {
   "cell_type": "code",
   "execution_count": null,
   "metadata": {
    "collapsed": true
   },
   "outputs": [],
   "source": []
  }
 ],
 "metadata": {
  "anaconda-cloud": {},
  "kernelspec": {
   "display_name": "Python [conda root]",
   "language": "python",
   "name": "conda-root-py"
  },
  "language_info": {
   "codemirror_mode": {
    "name": "ipython",
    "version": 3
   },
   "file_extension": ".py",
   "mimetype": "text/x-python",
   "name": "python",
   "nbconvert_exporter": "python",
   "pygments_lexer": "ipython3",
   "version": "3.5.2"
  }
 },
 "nbformat": 4,
 "nbformat_minor": 1
}
