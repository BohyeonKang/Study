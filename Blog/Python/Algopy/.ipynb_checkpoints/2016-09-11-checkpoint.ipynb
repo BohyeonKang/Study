{
 "cells": [
  {
   "cell_type": "markdown",
   "metadata": {},
   "source": [
    "- Python 의 객체\n",
    "  - `class`는 객체이다. : `class object` : `class` 키워드로 생성\n",
    "  - `instance object` : `def` 키워드를 치면 `function`이라는 `class`를 이용하여 `instance`로 생성"
   ]
  },
  {
   "cell_type": "code",
   "execution_count": 1,
   "metadata": {
    "collapsed": false
   },
   "outputs": [
    {
     "data": {
      "text/plain": [
       "type"
      ]
     },
     "execution_count": 1,
     "metadata": {},
     "output_type": "execute_result"
    }
   ],
   "source": [
    "type(int)"
   ]
  },
  {
   "cell_type": "code",
   "execution_count": 2,
   "metadata": {
    "collapsed": false
   },
   "outputs": [
    {
     "data": {
      "text/plain": [
       "function"
      ]
     },
     "execution_count": 2,
     "metadata": {},
     "output_type": "execute_result"
    }
   ],
   "source": [
    "def a():\n",
    "    pass\n",
    "type(a)"
   ]
  },
  {
   "cell_type": "markdown",
   "metadata": {},
   "source": [
    "* `function`은 누가 만들었냐 ?"
   ]
  },
  {
   "cell_type": "code",
   "execution_count": 3,
   "metadata": {
    "collapsed": false
   },
   "outputs": [
    {
     "data": {
      "text/plain": [
       "type"
      ]
     },
     "execution_count": 3,
     "metadata": {},
     "output_type": "execute_result"
    }
   ],
   "source": [
    "type(type(a))"
   ]
  },
  {
   "cell_type": "markdown",
   "metadata": {},
   "source": [
    "* `Python`에서 `Heap`은 `dict`, `Stack`은 `list`타입으로 관리\n",
    "  - `class`는 `Heap`에 생성\n",
    "  - `instance`는 `Stack`에 생성\n",
    "\n",
    "\n",
    "* `Python`에서 변수 선언시 반드시 값을 할당해야 한다.\n",
    "  - `JavaScript`에서는 `var`키워드를 이용해서 아무것도 할당하지 않고도 가능하다. `undefined`로 정의된다.\n",
    "  - `immutable`인 변수는 변경이 불가능하다. 새롭게 생성하게 된다.\n",
    "  - `mutable`인 경우에는 원소들의 변경이 가능하다."
   ]
  },
  {
   "cell_type": "code",
   "execution_count": 4,
   "metadata": {
    "collapsed": false
   },
   "outputs": [
    {
     "data": {
      "text/plain": [
       "'rtr'"
      ]
     },
     "execution_count": 4,
     "metadata": {},
     "output_type": "execute_result"
    }
   ],
   "source": [
    "s = 'str'\n",
    "s.replace('s','r')"
   ]
  },
  {
   "cell_type": "code",
   "execution_count": 5,
   "metadata": {
    "collapsed": false
   },
   "outputs": [
    {
     "data": {
      "text/plain": [
       "'str'"
      ]
     },
     "execution_count": 5,
     "metadata": {},
     "output_type": "execute_result"
    }
   ],
   "source": [
    "s"
   ]
  },
  {
   "cell_type": "markdown",
   "metadata": {},
   "source": [
    "* `Python Decorator`\n",
    "  - `@classmethod`\n",
    "  - `@staticmethod`\n",
    "\n",
    "\n",
    "* `Python Type Annotation` : 타입명을 명시할 수는 있으나 체크되지는 않음. 알아서 구현해 줘야함"
   ]
  },
  {
   "cell_type": "code",
   "execution_count": 6,
   "metadata": {
    "collapsed": false
   },
   "outputs": [
    {
     "data": {
      "text/plain": [
       "{'x': 5, 'y': 5}"
      ]
     },
     "execution_count": 6,
     "metadata": {},
     "output_type": "execute_result"
    }
   ],
   "source": [
    "def add(x,y):\n",
    "    return locals()\n",
    "add(5,5)"
   ]
  },
  {
   "cell_type": "markdown",
   "metadata": {},
   "source": [
    "Python의 namespace는 모두 `dict`로 관리한다.  \n",
    "함수의 변수 namespace도 `dict`으로 관리한다.\n",
    "\n",
    "* 함수의 namespace\n",
    "  - local : local 내에서도 level이 있다. 함수 안에 함수\n",
    "  - global : 1개만 존재\n",
    "  - builtin : 1개만 존재\n",
    "\n",
    "\n",
    "* Bubbling : local영역에서 global영역 참조, global영역에서 bulitin영역을 참조하는 것"
   ]
  },
  {
   "cell_type": "code",
   "execution_count": 7,
   "metadata": {
    "collapsed": false
   },
   "outputs": [
    {
     "data": {
      "text/plain": [
       "{'val': None, 'x': 5, 'y': 5}"
      ]
     },
     "execution_count": 7,
     "metadata": {},
     "output_type": "execute_result"
    }
   ],
   "source": [
    "add_locals = add(5,5)\n",
    "add_locals['val'] = None\n",
    "add_locals"
   ]
  },
  {
   "cell_type": "code",
   "execution_count": 8,
   "metadata": {
    "collapsed": false
   },
   "outputs": [
    {
     "name": "stdout",
     "output_type": "stream",
     "text": [
      "None\n"
     ]
    }
   ],
   "source": [
    "globals()['gval'] = None\n",
    "print(gval)"
   ]
  },
  {
   "cell_type": "code",
   "execution_count": 9,
   "metadata": {
    "collapsed": false
   },
   "outputs": [
    {
     "data": {
      "text/plain": [
       "<function __main__.add>"
      ]
     },
     "execution_count": 9,
     "metadata": {},
     "output_type": "execute_result"
    }
   ],
   "source": [
    "globals()['add']"
   ]
  },
  {
   "cell_type": "code",
   "execution_count": 10,
   "metadata": {
    "collapsed": false
   },
   "outputs": [
    {
     "name": "stdout",
     "output_type": "stream",
     "text": [
      "{'x': 5, 'y': 5}\n",
      "{'f': <function add2.<locals>.f at 0x104a51bf8>, 'y': 5, 'x': 5}\n"
     ]
    }
   ],
   "source": [
    "def add2(x,y):\n",
    "    def f(x,y):\n",
    "        print(locals())\n",
    "    f(x,y)\n",
    "    print(locals())\n",
    "\n",
    "add2(5,5)"
   ]
  },
  {
   "cell_type": "markdown",
   "metadata": {},
   "source": [
    "* call by sharing"
   ]
  },
  {
   "cell_type": "markdown",
   "metadata": {},
   "source": [
    "### Test Coding"
   ]
  },
  {
   "cell_type": "code",
   "execution_count": 11,
   "metadata": {
    "collapsed": false
   },
   "outputs": [
    {
     "data": {
      "text/plain": [
       "'SJ'"
      ]
     },
     "execution_count": 11,
     "metadata": {},
     "output_type": "execute_result"
    }
   ],
   "source": [
    "class Person:\n",
    "    def __init__(self, name):\n",
    "        self._name = name\n",
    "        \n",
    "    def getName(self):\n",
    "        return self._name\n",
    "    \n",
    "p = Person('SJ')\n",
    "p.getName()"
   ]
  },
  {
   "cell_type": "code",
   "execution_count": 12,
   "metadata": {
    "collapsed": false
   },
   "outputs": [
    {
     "data": {
      "text/plain": [
       "1"
      ]
     },
     "execution_count": 12,
     "metadata": {},
     "output_type": "execute_result"
    }
   ],
   "source": [
    "Person.id = 1\n",
    "Person.id"
   ]
  },
  {
   "cell_type": "code",
   "execution_count": 16,
   "metadata": {
    "collapsed": false
   },
   "outputs": [
    {
     "name": "stdout",
     "output_type": "stream",
     "text": [
      "alabaster (0.7.8)\n",
      "anaconda-client (1.5.1)\n",
      "anaconda-navigator (1.2.3)\n",
      "appnope (0.1.0)\n",
      "appscript (1.0.1)\n",
      "argcomplete (1.0.0)\n",
      "astropy (1.2.1)\n",
      "Babel (2.3.3)\n",
      "backports.shutil-get-terminal-size (1.0.0)\n",
      "beautifulsoup4 (4.5.1)\n",
      "bitarray (0.8.1)\n",
      "blaze (0.10.1)\n",
      "bokeh (0.12.2)\n",
      "boto (2.42.0)\n",
      "Bottleneck (1.1.0)\n",
      "cffi (1.7.0)\n",
      "chardet (2.3.0)\n",
      "chest (0.2.3)\n",
      "click (6.6)\n",
      "cloudpickle (0.2.1)\n",
      "clyent (1.2.2)\n",
      "colorama (0.3.7)\n",
      "conda (4.1.12)\n",
      "conda-build (2.0.1)\n",
      "conda-env (2.5.0a0)\n",
      "configobj (5.0.6)\n",
      "contextlib2 (0.5.3)\n",
      "cryptography (1.5)\n",
      "cssselect (0.9.2)\n",
      "cycler (0.10.0)\n",
      "Cython (0.24.1)\n",
      "cytoolz (0.8.0)\n",
      "dask (0.11.0)\n",
      "datashape (0.5.2)\n",
      "decorator (4.0.10)\n",
      "dill (0.2.5)\n",
      "docutils (0.12)\n",
      "dynd (0.7.3.dev1)\n",
      "et-xmlfile (1.0.1)\n",
      "fastcache (1.0.2)\n",
      "feedparser (5.2.1)\n",
      "filelock (2.0.6)\n",
      "Flask (0.11.1)\n",
      "Flask-Cors (2.1.2)\n",
      "Flask-Login (0.3.2)\n",
      "gevent (1.1.2)\n",
      "greenlet (0.4.10)\n",
      "h5py (2.6.0)\n",
      "HeapDict (1.0.0)\n",
      "idna (2.1)\n",
      "imagesize (0.7.1)\n",
      "ipykernel (4.5.0)\n",
      "ipython (5.1.0)\n",
      "ipython-genutils (0.1.0)\n",
      "ipywidgets (5.2.2)\n",
      "itsdangerous (0.24)\n",
      "jdcal (1.2)\n",
      "jedi (0.9.0)\n",
      "Jinja2 (2.8)\n",
      "jsonschema (2.5.1)\n",
      "jupyter (1.0.0)\n",
      "jupyter-client (4.4.0)\n",
      "jupyter-console (5.0.0)\n",
      "jupyter-core (4.1.1)\n",
      "llvmlite (0.13.0)\n",
      "locket (0.2.0)\n",
      "lxml (3.6.4)\n",
      "MarkupSafe (0.23)\n",
      "matplotlib (1.5.1)\n",
      "mistune (0.7.2)\n",
      "mpmath (0.19)\n",
      "multipledispatch (0.4.8)\n",
      "nb-anacondacloud (1.2.0)\n",
      "nb-conda (2.0.0)\n",
      "nb-conda-kernels (2.0.0)\n",
      "nbconvert (4.2.0)\n",
      "nbformat (4.1.0)\n",
      "nbpresent (3.0.2)\n",
      "networkx (1.11)\n",
      "nltk (3.2.1)\n",
      "nose (1.3.7)\n",
      "notebook (4.2.2)\n",
      "numba (0.28.1)\n",
      "numexpr (2.6.1)\n",
      "numpy (1.11.1)\n",
      "odo (0.5.0)\n",
      "openpyxl (2.3.2)\n",
      "pandas (0.18.1)\n",
      "partd (0.3.6)\n",
      "path.py (0.0.0)\n",
      "pathlib2 (2.1.0)\n",
      "patsy (0.4.1)\n",
      "pep8 (1.7.0)\n",
      "pexpect (4.0.1)\n",
      "pickleshare (0.7.3)\n",
      "Pillow (3.3.1)\n",
      "pip (8.1.2)\n",
      "ply (3.9)\n",
      "prompt-toolkit (1.0.3)\n",
      "protobuf (3.0.0b2)\n",
      "psutil (4.3.1)\n",
      "ptyprocess (0.5.1)\n",
      "py (1.4.31)\n",
      "pyasn1 (0.1.9)\n",
      "pycosat (0.6.1)\n",
      "pycparser (2.14)\n",
      "pycrypto (2.6.1)\n",
      "pycurl (7.43.0)\n",
      "pyflakes (1.3.0)\n",
      "Pygments (2.1.3)\n",
      "pyOpenSSL (16.0.0)\n",
      "pyparsing (2.1.4)\n",
      "pyquery (1.2.13)\n",
      "pyspider (0.3.8)\n",
      "pytest (2.9.2)\n",
      "python-dateutil (2.5.3)\n",
      "pytz (2016.6.1)\n",
      "PyYAML (3.11)\n",
      "pyzmq (15.4.0)\n",
      "qtconsole (4.2.1)\n",
      "QtPy (1.0.2)\n",
      "redis (2.10.5)\n",
      "requests (2.11.1)\n",
      "rope-py3k (0.9.4.post1)\n",
      "ruamel-yaml (-VERSION)\n",
      "scikit-image (0.12.3)\n",
      "scikit-learn (0.17.1)\n",
      "scipy (0.18.0)\n",
      "setuptools (26.1.1)\n",
      "simplegeneric (0.8.1)\n",
      "singledispatch (3.4.0.3)\n",
      "six (1.10.0)\n",
      "snowballstemmer (1.2.1)\n",
      "sockjs-tornado (1.0.3)\n",
      "Sphinx (1.4.1)\n",
      "sphinx-rtd-theme (0.1.9)\n",
      "spyder (2.3.9)\n",
      "SQLAlchemy (1.0.13)\n",
      "statsmodels (0.6.1)\n",
      "sympy (1.0)\n",
      "tables (3.2.3.1)\n",
      "tensorflow (0.9.0)\n",
      "terminado (0.6)\n",
      "toolz (0.8.0)\n",
      "tornado (4.4.1)\n",
      "traitlets (4.2.2)\n",
      "u-msgpack-python (2.1)\n",
      "unicodecsv (0.14.1)\n",
      "wcwidth (0.1.7)\n",
      "Werkzeug (0.11.11)\n",
      "wheel (0.29.0)\n",
      "widgetsnbextension (1.2.6)\n",
      "xlrd (1.0.0)\n",
      "XlsxWriter (0.9.2)\n",
      "xlwings (0.9.2)\n",
      "xlwt (1.1.2)\n"
     ]
    }
   ],
   "source": [
    "!pip list"
   ]
  },
  {
   "cell_type": "markdown",
   "metadata": {},
   "source": [
    "* Jupyter notebook에서 shell 실행 :  `!`\n",
    "\n",
    "```\n",
    "!pip list\n",
    "```\n",
    "\n",
    "* 파일로 저장"
   ]
  },
  {
   "cell_type": "code",
   "execution_count": 19,
   "metadata": {
    "collapsed": false
   },
   "outputs": [
    {
     "name": "stdout",
     "output_type": "stream",
     "text": [
      "Overwriting add.py\n"
     ]
    }
   ],
   "source": [
    "%%writefile add.py\n",
    "\n",
    "def add(x,y):\n",
    "    return x + y\n",
    "\n",
    "if __name__ == '__main__':\n",
    "    print('main',add(3,4))"
   ]
  },
  {
   "cell_type": "code",
   "execution_count": 20,
   "metadata": {
    "collapsed": false
   },
   "outputs": [
    {
     "name": "stdout",
     "output_type": "stream",
     "text": [
      "main 7\r\n"
     ]
    }
   ],
   "source": [
    "!python add.py"
   ]
  },
  {
   "cell_type": "code",
   "execution_count": 21,
   "metadata": {
    "collapsed": false
   },
   "outputs": [
    {
     "data": {
      "text/plain": [
       "'/Users/seokjoonyun/Github/Study/Blog/Python/Algopy'"
      ]
     },
     "execution_count": 21,
     "metadata": {},
     "output_type": "execute_result"
    }
   ],
   "source": [
    "%pwd"
   ]
  },
  {
   "cell_type": "code",
   "execution_count": 22,
   "metadata": {
    "collapsed": false
   },
   "outputs": [
    {
     "name": "stdout",
     "output_type": "stream",
     "text": [
      "/Users/seokjoonyun/Github/Study/Blog/Python/Algopy\r\n"
     ]
    }
   ],
   "source": [
    "!pwd"
   ]
  },
  {
   "cell_type": "markdown",
   "metadata": {},
   "source": [
    "### matplotlib"
   ]
  },
  {
   "cell_type": "code",
   "execution_count": 15,
   "metadata": {
    "collapsed": true
   },
   "outputs": [],
   "source": [
    "import numpy as np\n",
    "import matplotlib.pyplot as plt"
   ]
  },
  {
   "cell_type": "code",
   "execution_count": 26,
   "metadata": {
    "collapsed": false
   },
   "outputs": [
    {
     "name": "stdout",
     "output_type": "stream",
     "text": [
      "[1, 2, 3]\n",
      "<class 'numpy.ndarray'>\n",
      "[1 2 3]\n"
     ]
    }
   ],
   "source": [
    " l = [1, 2, 3]\n",
    "nl = np.array(l)\n",
    "\n",
    "print(l)\n",
    "print(type(nl))\n",
    "print(nl)"
   ]
  },
  {
   "cell_type": "markdown",
   "metadata": {},
   "source": [
    "- `ndim` : 차원\n",
    "- `shape` : 행과 열의 원소 개수"
   ]
  },
  {
   "cell_type": "code",
   "execution_count": 27,
   "metadata": {
    "collapsed": false
   },
   "outputs": [
    {
     "data": {
      "text/plain": [
       "1"
      ]
     },
     "execution_count": 27,
     "metadata": {},
     "output_type": "execute_result"
    }
   ],
   "source": [
    "nl.ndim"
   ]
  },
  {
   "cell_type": "code",
   "execution_count": 28,
   "metadata": {
    "collapsed": false
   },
   "outputs": [
    {
     "data": {
      "text/plain": [
       "(3,)"
      ]
     },
     "execution_count": 28,
     "metadata": {},
     "output_type": "execute_result"
    }
   ],
   "source": [
    "nl.shape"
   ]
  },
  {
   "cell_type": "code",
   "execution_count": 32,
   "metadata": {
    "collapsed": true
   },
   "outputs": [],
   "source": [
    "l2 = [l, l]\n",
    "nl2 = np.array(l2)"
   ]
  },
  {
   "cell_type": "code",
   "execution_count": 33,
   "metadata": {
    "collapsed": false
   },
   "outputs": [
    {
     "data": {
      "text/plain": [
       "2"
      ]
     },
     "execution_count": 33,
     "metadata": {},
     "output_type": "execute_result"
    }
   ],
   "source": [
    "nl2.ndim"
   ]
  },
  {
   "cell_type": "code",
   "execution_count": 34,
   "metadata": {
    "collapsed": false
   },
   "outputs": [
    {
     "data": {
      "text/plain": [
       "(2, 3)"
      ]
     },
     "execution_count": 34,
     "metadata": {},
     "output_type": "execute_result"
    }
   ],
   "source": [
    "nl2.shape"
   ]
  },
  {
   "cell_type": "code",
   "execution_count": 35,
   "metadata": {
    "collapsed": true
   },
   "outputs": [],
   "source": [
    "l3 = [l2, l2]\n",
    "nl3 = np.array(l3)"
   ]
  },
  {
   "cell_type": "code",
   "execution_count": 36,
   "metadata": {
    "collapsed": false
   },
   "outputs": [
    {
     "data": {
      "text/plain": [
       "3"
      ]
     },
     "execution_count": 36,
     "metadata": {},
     "output_type": "execute_result"
    }
   ],
   "source": [
    "nl3.ndim"
   ]
  },
  {
   "cell_type": "code",
   "execution_count": 37,
   "metadata": {
    "collapsed": false
   },
   "outputs": [
    {
     "data": {
      "text/plain": [
       "(2, 2, 3)"
      ]
     },
     "execution_count": 37,
     "metadata": {},
     "output_type": "execute_result"
    }
   ],
   "source": [
    "nl3.shape"
   ]
  },
  {
   "cell_type": "code",
   "execution_count": 40,
   "metadata": {
    "collapsed": false
   },
   "outputs": [],
   "source": [
    "l3_ = [l2, l]\n",
    "nl3_ = np.array(l3_)"
   ]
  },
  {
   "cell_type": "code",
   "execution_count": 44,
   "metadata": {
    "collapsed": false
   },
   "outputs": [
    {
     "data": {
      "text/plain": [
       "1"
      ]
     },
     "execution_count": 44,
     "metadata": {},
     "output_type": "execute_result"
    }
   ],
   "source": [
    "nl3_.ndim"
   ]
  },
  {
   "cell_type": "code",
   "execution_count": 45,
   "metadata": {
    "collapsed": false
   },
   "outputs": [
    {
     "data": {
      "text/plain": [
       "(2,)"
      ]
     },
     "execution_count": 45,
     "metadata": {},
     "output_type": "execute_result"
    }
   ],
   "source": [
    "nl3_.shape"
   ]
  },
  {
   "cell_type": "code",
   "execution_count": 46,
   "metadata": {
    "collapsed": false
   },
   "outputs": [
    {
     "data": {
      "text/plain": [
       "array([[[1, 2, 3], [1, 2, 3]], [1, 2, 3]], dtype=object)"
      ]
     },
     "execution_count": 46,
     "metadata": {},
     "output_type": "execute_result"
    }
   ],
   "source": [
    "nl3_"
   ]
  },
  {
   "cell_type": "markdown",
   "metadata": {},
   "source": [
    "### matplotlib 으로 출력\n",
    "\n",
    "- 2차원 array를 `*`를 이용해서 2개로 풀어줌\n",
    "\n",
    "* 출력방식\n",
    "  - inline : 내부에 그림\n",
    "  - notebook : qt가 내부에 장착\n",
    "  - qt : popup으로 출력"
   ]
  },
  {
   "cell_type": "code",
   "execution_count": 56,
   "metadata": {
    "collapsed": false
   },
   "outputs": [],
   "source": [
    "%matplotlib inline"
   ]
  },
  {
   "cell_type": "code",
   "execution_count": 57,
   "metadata": {
    "collapsed": false
   },
   "outputs": [
    {
     "data": {
      "image/png": "[encoded data removed]",
      "text/plain": [
       "<matplotlib.figure.Figure at 0x10d9614a8>"
      ]
     },
     "metadata": {},
     "output_type": "display_data"
    }
   ],
   "source": [
    "plt.plot(*l2)\n",
    "plt.show()"
   ]
  },
  {
   "cell_type": "code",
   "execution_count": 62,
   "metadata": {
    "collapsed": false
   },
   "outputs": [
    {
     "data": {
      "image/png": "[encoded data removed]",
      "text/plain": [
       "<matplotlib.figure.Figure at 0x10eb3c9b0>"
      ]
     },
     "metadata": {},
     "output_type": "display_data"
    }
   ],
   "source": [
    "plt.plot(*nl2)\n",
    "plt.plot(nl2[0]+5, nl2[1]+3)\n",
    "plt.show()"
   ]
  },
  {
   "cell_type": "code",
   "execution_count": 64,
   "metadata": {
    "collapsed": false
   },
   "outputs": [
    {
     "data": {
      "image/png": "[encoded data removed]",
      "text/plain": [
       "<matplotlib.figure.Figure at 0x10e25e860>"
      ]
     },
     "metadata": {},
     "output_type": "display_data"
    }
   ],
   "source": [
    "plt.scatter(*nl2)\n",
    "plt.scatter(nl2[0]+5, nl2[1]+3)\n",
    "plt.show()"
   ]
  },
  {
   "cell_type": "code",
   "execution_count": 67,
   "metadata": {
    "collapsed": false
   },
   "outputs": [],
   "source": [
    "import seaborn"
   ]
  },
  {
   "cell_type": "code",
   "execution_count": 68,
   "metadata": {
    "collapsed": false
   },
   "outputs": [
    {
     "data": {
      "image/png": "[encoded data removed]",
      "text/plain": [
       "<matplotlib.figure.Figure at 0x118c3ff60>"
      ]
     },
     "metadata": {},
     "output_type": "display_data"
    }
   ],
   "source": [
    "plt.plot(*nl2)\n",
    "plt.plot(nl2[0]+5, nl2[1]+3)\n",
    "plt.show()"
   ]
  },
  {
   "cell_type": "code",
   "execution_count": 69,
   "metadata": {
    "collapsed": false
   },
   "outputs": [
    {
     "data": {
      "image/png": "[encoded data removed]",
      "text/plain": [
       "<matplotlib.figure.Figure at 0x118bedac8>"
      ]
     },
     "metadata": {},
     "output_type": "display_data"
    }
   ],
   "source": [
    "plt.scatter(*nl2)\n",
    "plt.scatter(nl2[0]+5, nl2[1]+3)\n",
    "plt.show()"
   ]
  },
  {
   "cell_type": "code",
   "execution_count": 70,
   "metadata": {
    "collapsed": false
   },
   "outputs": [
    {
     "name": "stdout",
     "output_type": "stream",
     "text": [
      "Help on built-in function __import__ in module builtins:\n",
      "\n",
      "__import__(...)\n",
      "    __import__(name, globals=None, locals=None, fromlist=(), level=0) -> module\n",
      "    \n",
      "    Import a module. Because this function is meant for use by the Python\n",
      "    interpreter and not for general use it is better to use\n",
      "    importlib.import_module() to programmatically import a module.\n",
      "    \n",
      "    The globals argument is only used to determine the context;\n",
      "    they are not modified.  The locals argument is unused.  The fromlist\n",
      "    should be a list of names to emulate ``from name import ...'', or an\n",
      "    empty list to emulate ``import name''.\n",
      "    When importing a module from a package, note that __import__('A.B', ...)\n",
      "    returns package A when fromlist is empty, but its submodule B when\n",
      "    fromlist is not empty.  Level is used to determine whether to perform \n",
      "    absolute or relative imports. 0 is absolute while a positive number\n",
      "    is the number of parent directories to search relative to the current module.\n",
      "\n"
     ]
    }
   ],
   "source": [
    "help(__import__)"
   ]
  },
  {
   "cell_type": "code",
   "execution_count": null,
   "metadata": {
    "collapsed": true
   },
   "outputs": [],
   "source": []
  }
 ],
 "metadata": {
  "anaconda-cloud": {},
  "kernelspec": {
   "display_name": "Python [conda root]",
   "language": "python",
   "name": "conda-root-py"
  },
  "language_info": {
   "codemirror_mode": {
    "name": "ipython",
    "version": 3
   },
   "file_extension": ".py",
   "mimetype": "text/x-python",
   "name": "python",
   "nbconvert_exporter": "python",
   "pygments_lexer": "ipython3",
   "version": "3.5.2"
  }
 },
 "nbformat": 4,
 "nbformat_minor": 1
}
