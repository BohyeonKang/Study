{
 "cells": [
  {
   "cell_type": "markdown",
   "metadata": {},
   "source": [
    "# 파이썬으로 풀어보는 수학\n",
    "\n",
    "- 원서명 : Doing Math with Python: Use Programming to Explore Algebra, Statistics, Calculus, and More! (ISBN 9781593276409)\n",
    "- 지은이 : 아미트 사하(Amit Saha)\n",
    "- 원서 및 관련자료 : <https://www.nostarch.com/doingmathwithpython>\n",
    "- 번역서 : <http://www.acornpub.co.kr/book/doing-math-with-python>\n",
    "\n",
    "![책표지](./image/cover.jpg)"
   ]
  },
  {
   "cell_type": "markdown",
   "metadata": {
    "nbpresent": {
     "id": "3950c701-af0d-48b0-a1a5-46cfd475c8c2"
    }
   },
   "source": [
    "## 7장 미적분 문제 풀기\n",
    "\n",
    "### 1.  함수란 무엇인가 ?\n",
    "\n",
    "`함수`란 입력집합과 출력집합 간의 관계(mapping)를 얘기합니다.\n",
    "유요한 입력값의 집합을 함수 `도메인(Domain)`이라 하고, 결과집합을 `범위(Range)`라고 합니다.\n",
    "예를 들어서 $f(x)=\\frac {1}{x}$ 라는 함수가 있는 경우 x의 값은 0이 될 수 없습니다.\n",
    "그러므로 이 함수의 도메인은 0이 아닌 모든 실수와 복소수 입니다.\n",
    "결과집합인 범위도 0이 아닌 모든 실수와 복소수 입니다.\n",
    "$f(x)={x}^{2}$에 대해서는 도메인은 모든 양수와 음수이지만, 범위는 양수만 해당합니다.\n",
    "\n",
    "### 2. 가정(assumptions)\n",
    "\n",
    "`sympy`의 `Symbol`객체를 이용를 생성한 다음 해당 변수의 값을 가정하고 판단하는 것이 가능합니다.\n",
    "$x+5$ 값이 0보다 큰지 여부를 확인하는 코드를 작성해 보겠습니다."
   ]
  },
  {
   "cell_type": "code",
   "execution_count": 1,
   "metadata": {
    "collapsed": false,
    "nbpresent": {
     "id": "ad388bbb-acc3-4dd5-bd33-4d916225f810"
    }
   },
   "outputs": [
    {
     "ename": "TypeError",
     "evalue": "cannot determine truth value of Relational",
     "output_type": "error",
     "traceback": [
      "\u001b[1;31m---------------------------------------------------------------------------\u001b[0m",
      "\u001b[1;31mTypeError\u001b[0m                                 Traceback (most recent call last)",
      "\u001b[1;32m<ipython-input-1-e885da2fb212>\u001b[0m in \u001b[0;36m<module>\u001b[1;34m()\u001b[0m\n\u001b[0;32m      2\u001b[0m \u001b[1;33m\u001b[0m\u001b[0m\n\u001b[0;32m      3\u001b[0m \u001b[0mx\u001b[0m \u001b[1;33m=\u001b[0m \u001b[0mSymbol\u001b[0m\u001b[1;33m(\u001b[0m\u001b[1;34m'x'\u001b[0m\u001b[1;33m)\u001b[0m\u001b[1;33m\u001b[0m\u001b[0m\n\u001b[1;32m----> 4\u001b[1;33m \u001b[1;32mif\u001b[0m \u001b[0mx\u001b[0m \u001b[1;33m+\u001b[0m \u001b[1;36m5\u001b[0m \u001b[1;33m>\u001b[0m \u001b[1;36m0\u001b[0m\u001b[1;33m:\u001b[0m\u001b[1;33m\u001b[0m\u001b[0m\n\u001b[0m\u001b[0;32m      5\u001b[0m     \u001b[0mprint\u001b[0m\u001b[1;33m(\u001b[0m\u001b[1;34m'Positive'\u001b[0m\u001b[1;33m)\u001b[0m\u001b[1;33m\u001b[0m\u001b[0m\n\u001b[0;32m      6\u001b[0m \u001b[1;32melse\u001b[0m\u001b[1;33m:\u001b[0m\u001b[1;33m\u001b[0m\u001b[0m\n",
      "\u001b[1;32mC:\\Python\\Anaconda3\\lib\\site-packages\\sympy\\core\\relational.py\u001b[0m in \u001b[0;36m__nonzero__\u001b[1;34m(self)\u001b[0m\n\u001b[0;32m    193\u001b[0m \u001b[1;33m\u001b[0m\u001b[0m\n\u001b[0;32m    194\u001b[0m     \u001b[1;32mdef\u001b[0m \u001b[0m__nonzero__\u001b[0m\u001b[1;33m(\u001b[0m\u001b[0mself\u001b[0m\u001b[1;33m)\u001b[0m\u001b[1;33m:\u001b[0m\u001b[1;33m\u001b[0m\u001b[0m\n\u001b[1;32m--> 195\u001b[1;33m         \u001b[1;32mraise\u001b[0m \u001b[0mTypeError\u001b[0m\u001b[1;33m(\u001b[0m\u001b[1;34m\"cannot determine truth value of Relational\"\u001b[0m\u001b[1;33m)\u001b[0m\u001b[1;33m\u001b[0m\u001b[0m\n\u001b[0m\u001b[0;32m    196\u001b[0m \u001b[1;33m\u001b[0m\u001b[0m\n\u001b[0;32m    197\u001b[0m     \u001b[0m__bool__\u001b[0m \u001b[1;33m=\u001b[0m \u001b[0m__nonzero__\u001b[0m\u001b[1;33m\u001b[0m\u001b[0m\n",
      "\u001b[1;31mTypeError\u001b[0m: cannot determine truth value of Relational"
     ]
    }
   ],
   "source": [
    "from sympy import Symbol\n",
    "\n",
    "x = Symbol('x')\n",
    "if x + 5 > 0:\n",
    "    print('Positive')\n",
    "else:\n",
    "    print('Negative')"
   ]
  },
  {
   "cell_type": "markdown",
   "metadata": {
    "nbpresent": {
     "id": "6fe47b19-3e79-4938-b051-95b76e39616e"
    }
   },
   "source": [
    "`TypeError: cannot determine truth value of Relational`라는 오류가 발생합니다.\n",
    "왜냐면 x의 값이 범위를 알 수 없으므로 해당 식이 0보다 큰지 작은지 추론을 할 수가 없기 때문입니다.\n",
    "`Symbol` 객체를 `positive=True`로 설정하면 해당 식은 항상 0보다 클 것입니다."
   ]
  },
  {
   "cell_type": "code",
   "execution_count": 2,
   "metadata": {
    "collapsed": false,
    "nbpresent": {
     "id": "998d57ba-2e68-403f-bb8d-8563bee08bea"
    }
   },
   "outputs": [
    {
     "name": "stdout",
     "output_type": "stream",
     "text": [
      "Positive\n"
     ]
    }
   ],
   "source": [
    "x = Symbol('x', positive=True)\n",
    "if x + 5 > 0:\n",
    "    print('Positive')\n",
    "else:\n",
    "    print('Negative')"
   ]
  },
  {
   "cell_type": "markdown",
   "metadata": {
    "nbpresent": {
     "id": "d6e753a4-4e93-4817-ba9f-d2ca86a989f7"
    }
   },
   "source": [
    "`negative=True`로 선택하면 참, 거짓이 모두 가능하기 때문에 처음과 같은 `TypeError: cannot determine truth value of Relational` 오류가 발생합니다."
   ]
  },
  {
   "cell_type": "code",
   "execution_count": 3,
   "metadata": {
    "collapsed": false,
    "nbpresent": {
     "id": "b3b18b86-b83d-48a9-9cd8-6408d01174e2"
    }
   },
   "outputs": [
    {
     "ename": "TypeError",
     "evalue": "cannot determine truth value of Relational",
     "output_type": "error",
     "traceback": [
      "\u001b[1;31m---------------------------------------------------------------------------\u001b[0m",
      "\u001b[1;31mTypeError\u001b[0m                                 Traceback (most recent call last)",
      "\u001b[1;32m<ipython-input-3-a822b37a7734>\u001b[0m in \u001b[0;36m<module>\u001b[1;34m()\u001b[0m\n\u001b[0;32m      1\u001b[0m \u001b[0mx\u001b[0m \u001b[1;33m=\u001b[0m \u001b[0mSymbol\u001b[0m\u001b[1;33m(\u001b[0m\u001b[1;34m'x'\u001b[0m\u001b[1;33m,\u001b[0m \u001b[0mnegative\u001b[0m\u001b[1;33m=\u001b[0m\u001b[1;32mTrue\u001b[0m\u001b[1;33m)\u001b[0m\u001b[1;33m\u001b[0m\u001b[0m\n\u001b[1;32m----> 2\u001b[1;33m \u001b[1;32mif\u001b[0m \u001b[0mx\u001b[0m \u001b[1;33m+\u001b[0m \u001b[1;36m5\u001b[0m \u001b[1;33m>\u001b[0m \u001b[1;36m0\u001b[0m\u001b[1;33m:\u001b[0m\u001b[1;33m\u001b[0m\u001b[0m\n\u001b[0m\u001b[0;32m      3\u001b[0m     \u001b[0mprint\u001b[0m\u001b[1;33m(\u001b[0m\u001b[1;34m'Positive'\u001b[0m\u001b[1;33m)\u001b[0m\u001b[1;33m\u001b[0m\u001b[0m\n\u001b[0;32m      4\u001b[0m \u001b[1;32melse\u001b[0m\u001b[1;33m:\u001b[0m\u001b[1;33m\u001b[0m\u001b[0m\n\u001b[0;32m      5\u001b[0m     \u001b[0mprint\u001b[0m\u001b[1;33m(\u001b[0m\u001b[1;34m'Negative'\u001b[0m\u001b[1;33m)\u001b[0m\u001b[1;33m\u001b[0m\u001b[0m\n",
      "\u001b[1;32mC:\\Python\\Anaconda3\\lib\\site-packages\\sympy\\core\\relational.py\u001b[0m in \u001b[0;36m__nonzero__\u001b[1;34m(self)\u001b[0m\n\u001b[0;32m    193\u001b[0m \u001b[1;33m\u001b[0m\u001b[0m\n\u001b[0;32m    194\u001b[0m     \u001b[1;32mdef\u001b[0m \u001b[0m__nonzero__\u001b[0m\u001b[1;33m(\u001b[0m\u001b[0mself\u001b[0m\u001b[1;33m)\u001b[0m\u001b[1;33m:\u001b[0m\u001b[1;33m\u001b[0m\u001b[0m\n\u001b[1;32m--> 195\u001b[1;33m         \u001b[1;32mraise\u001b[0m \u001b[0mTypeError\u001b[0m\u001b[1;33m(\u001b[0m\u001b[1;34m\"cannot determine truth value of Relational\"\u001b[0m\u001b[1;33m)\u001b[0m\u001b[1;33m\u001b[0m\u001b[0m\n\u001b[0m\u001b[0;32m    196\u001b[0m \u001b[1;33m\u001b[0m\u001b[0m\n\u001b[0;32m    197\u001b[0m     \u001b[0m__bool__\u001b[0m \u001b[1;33m=\u001b[0m \u001b[0m__nonzero__\u001b[0m\u001b[1;33m\u001b[0m\u001b[0m\n",
      "\u001b[1;31mTypeError\u001b[0m: cannot determine truth value of Relational"
     ]
    }
   ],
   "source": [
    "x = Symbol('x', negative=True)\n",
    "if x + 5 > 0:\n",
    "    print('Positive')\n",
    "else:\n",
    "    print('Negative')"
   ]
  },
  {
   "cell_type": "markdown",
   "metadata": {
    "nbpresent": {
     "id": "92f72f38-51bf-47b7-8859-be8f0ba0815a"
    }
   },
   "source": [
    "앞에서 살펴본 `positive`, `negative` 외에도 `real`, `integer`, `complex`, `imaginary` 등으로 설정이 가능합니다.\n",
    "\n",
    "### 3. 함수의 극한\n",
    "\n",
    "미적분 계산의 기본은 변수의 값이 어떤값에 근접할 때의 함수의 극한값을 찾는 것입니다.\n",
    "$f(x)=\\frac{1}{x}$ 함수의 경우 x가 증가할수록 0에 가까워 집니다.\n",
    "\n",
    "![수식 추의주기](./image/DoingMathWithPython.Ch07.equation.01.png)\n",
    "\n",
    "`sympy`에서는 극한을 `Limit` 객체를 이용해서 생성이 가능합니다."
   ]
  },
  {
   "cell_type": "code",
   "execution_count": 5,
   "metadata": {
    "collapsed": false,
    "nbpresent": {
     "id": "29afbdd6-c84d-4b3e-a9b6-2850afa223ff"
    }
   },
   "outputs": [
    {
     "data": {
      "text/plain": [
       "Limit(1/x, x, oo, dir='-')"
      ]
     },
     "execution_count": 5,
     "metadata": {},
     "output_type": "execute_result"
    }
   ],
   "source": [
    "from sympy import Limit, Symbol, S\n",
    "\n",
    "x = Symbol('x')\n",
    "L = Limit(1/x, x, S.Infinity)\n",
    "L"
   ]
  },
  {
   "cell_type": "markdown",
   "metadata": {
    "nbpresent": {
     "id": "9436b59a-9e27-4fb3-b36d-0ed47e615374"
    }
   },
   "source": [
    "극한값 계산에는 `doit()`함수를 사용합니다."
   ]
  },
  {
   "cell_type": "code",
   "execution_count": 6,
   "metadata": {
    "collapsed": false,
    "nbpresent": {
     "id": "f6803b7a-2c1e-462f-b59a-aa2423ca43aa"
    }
   },
   "outputs": [
    {
     "data": {
      "text/plain": [
       "0"
      ]
     },
     "execution_count": 6,
     "metadata": {},
     "output_type": "execute_result"
    }
   ],
   "source": [
    "L.doit()"
   ]
  },
  {
   "cell_type": "markdown",
   "metadata": {
    "nbpresent": {
     "id": "9260ed95-f6ac-4d60-9d8b-64a65085747c"
    }
   },
   "source": [
    "0의 방향으로 극한값은 양의 방향에서 0으로 접근을하면 양의 무한대 값이 되며, 음의 방향에서 0으로 접근하면 양의 무한대 값이 됩니다."
   ]
  },
  {
   "cell_type": "code",
   "execution_count": 7,
   "metadata": {
    "collapsed": false,
    "nbpresent": {
     "id": "ab9ddbee-036d-4640-bd06-0c1fba2a21cc"
    }
   },
   "outputs": [
    {
     "data": {
      "text/plain": [
       "-oo"
      ]
     },
     "execution_count": 7,
     "metadata": {},
     "output_type": "execute_result"
    }
   ],
   "source": [
    "Limit(1/x, x, 0, dir='-').doit()"
   ]
  },
  {
   "cell_type": "code",
   "execution_count": 8,
   "metadata": {
    "collapsed": false,
    "nbpresent": {
     "id": "50beb7b8-80a7-4d5d-85b5-69d655704edd"
    }
   },
   "outputs": [
    {
     "data": {
      "text/plain": [
       "oo"
      ]
     },
     "execution_count": 8,
     "metadata": {},
     "output_type": "execute_result"
    }
   ],
   "source": [
    "Limit(1/x, x, 0, dir='+').doit()"
   ]
  },
  {
   "cell_type": "markdown",
   "metadata": {
    "nbpresent": {
     "id": "0f205284-b0ec-4616-9f42-c429bb65ed76"
    }
   },
   "source": [
    "정해지지 않은 극한값도 다룰수 있습니다. ($\\frac { 0 }{ 0 } =\\frac { \\infty  }{ \\infty  } =1$)"
   ]
  },
  {
   "cell_type": "code",
   "execution_count": 9,
   "metadata": {
    "collapsed": false,
    "nbpresent": {
     "id": "62423be8-bd1d-4199-9067-965b6532b6a9"
    }
   },
   "outputs": [
    {
     "data": {
      "text/plain": [
       "1"
      ]
     },
     "execution_count": 9,
     "metadata": {},
     "output_type": "execute_result"
    }
   ],
   "source": [
    "from sympy import sin\n",
    "\n",
    "Limit(sin(x)/x, x, 0).doit()"
   ]
  },
  {
   "cell_type": "markdown",
   "metadata": {
    "nbpresent": {
     "id": "9ae9fde5-de9c-4a41-b3f7-11f456be43cc"
    }
   },
   "source": [
    "### 4. 연속 복리\n",
    "\n",
    "이자율 `r`에 대해서 기간 `n` 동안의 복리이자를 계산하는 수식은 다음과 같습니다.\n",
    "\n",
    "$$A = {(1+r)}^{n}$$\n",
    "\n",
    "여기에서 *r*을 $\\frac { 1 }{ n } $로 치환을 한 후 *n*값을 무한대 값으로 극한을 취하면 *e*값에 접근합니다.(${ \\left( 1+\\frac { 1 }{ n }  \\right)  }^{ n }$)"
   ]
  },
  {
   "cell_type": "code",
   "execution_count": 2,
   "metadata": {
    "collapsed": false,
    "nbpresent": {
     "id": "347957db-84a8-48e7-af11-fdb24222a8bc"
    }
   },
   "outputs": [
    {
     "data": {
      "text/plain": [
       "E"
      ]
     },
     "execution_count": 2,
     "metadata": {},
     "output_type": "execute_result"
    }
   ],
   "source": [
    "from sympy import Limit, Symbol, symbols, S\n",
    "\n",
    "n = Symbol('n')\n",
    "Limit((1+1/n)**n, n, S.Infinity).doit()"
   ]
  },
  {
   "cell_type": "markdown",
   "metadata": {
    "nbpresent": {
     "id": "93d0d4cb-23e3-44a3-9a28-3e2a59a300c8"
    }
   },
   "source": [
    "원금 `P`, 이자율 `r`, 기간 `t`에 대한 복리이자는 다음 공식을 이용합니다.\n",
    "\n",
    "$$ A=P{(1+ \\frac {r}{n}})^{nt}$$"
   ]
  },
  {
   "cell_type": "code",
   "execution_count": 3,
   "metadata": {
    "collapsed": false,
    "nbpresent": {
     "id": "91d7e250-5604-4ab1-9b47-cc9d38a68415"
    }
   },
   "outputs": [
    {
     "data": {
      "text/plain": [
       "p*exp(r*t)"
      ]
     },
     "execution_count": 3,
     "metadata": {},
     "output_type": "execute_result"
    }
   ],
   "source": [
    "p, r, t = symbols('p,r,t')\n",
    "A = Limit(p*(1+r/n)**(n*t), n, S.Infinity).doit()\n",
    "A"
   ]
  },
  {
   "cell_type": "markdown",
   "metadata": {
    "nbpresent": {
     "id": "669a880e-f986-4024-8cde-908df70dd839"
    }
   },
   "source": [
    "저 수식이 맞는지 계산해보겠습니다.\n",
    "100만원을 복리 3% 이자 10년동안 예치한 경우 수령액을 계산해 보겠습니다.\n",
    "저 수식이 맞는지 우리가 일반적으로 알고있는 수식으로 계산한 값과 비교해 보겠습니다."
   ]
  },
  {
   "cell_type": "code",
   "execution_count": 12,
   "metadata": {
    "collapsed": false,
    "nbpresent": {
     "id": "f23b2a14-bb6e-4241-a88c-4d9589c41cea"
    }
   },
   "outputs": [
    {
     "data": {
      "text/plain": [
       "1349858.80757600"
      ]
     },
     "execution_count": 12,
     "metadata": {},
     "output_type": "execute_result"
    }
   ],
   "source": [
    "A.subs({p:1000000, r:0.03, t:10})"
   ]
  },
  {
   "cell_type": "code",
   "execution_count": 14,
   "metadata": {
    "collapsed": false,
    "nbpresent": {
     "id": "7b8b42da-97fd-4ef0-bdf6-ae94b7aafa07"
    }
   },
   "outputs": [
    {
     "data": {
      "text/plain": [
       "1343916.37934412"
      ]
     },
     "execution_count": 14,
     "metadata": {},
     "output_type": "execute_result"
    }
   ],
   "source": [
    "A2 = p * (1+r)**t\n",
    "A2.subs({p:1000000, r:0.03, t:10})"
   ]
  },
  {
   "cell_type": "markdown",
   "metadata": {
    "nbpresent": {
     "id": "f644e807-4e8d-468e-8973-7957cad4cabc"
    }
   },
   "source": [
    "완벽하게 일치하지는 않지만 큰 차이는 없습니다.\n",
    "\n",
    "#### 실시간 변화율\n",
    "\n",
    "어떤 자동차의 이동거리를 계산하는 수식이 $S(t)={5t}^{2} + 2t + 8$라고 가정을 해봅시다.\n",
    "시간의 제곱에 비례를 한다는 것을 보면 시간이 지날수록 점점 속도가 빨라지고 있다고 생각할 수 있습니다.\n",
    "\n",
    "이 함수의 독립변수는 `t`입니다.\n",
    "특정 시간동안 (`t1`시간에서 `t2`시간까지)의 단위시간당 이동한 거리를 다음 수식으로 계산이 가능합니다.\n",
    "\n",
    "![수식](./image/DoingMathWithPython.Ch07.equation.02.png)\n",
    "\n",
    "여기서 `t2`와 `t1`간의 시간차이를 `∂`라 할경우 수식을 다음과 같이 표현이 가능하며,\n",
    "\n",
    "![수식](./image/DoingMathWithPython.Ch07.equation.03.png)\n",
    "\n",
    "여기서 `∂`를 0에 근접시키는 극한값은 다음과 같습니다.\n",
    "\n",
    "![수식](./image/DoingMathWithPython.Ch07.equation.04.png)\n",
    "\n",
    "`sympy`를 이용해서 극한값을 구해보겠습니다."
   ]
  },
  {
   "cell_type": "code",
   "execution_count": 21,
   "metadata": {
    "collapsed": false,
    "nbpresent": {
     "id": "204c3943-26f8-4735-9bbe-2266f142152d"
    }
   },
   "outputs": [
    {
     "data": {
      "text/plain": [
       "10*t1 + 2"
      ]
     },
     "execution_count": 21,
     "metadata": {},
     "output_type": "execute_result"
    }
   ],
   "source": [
    "t, t1, delta_t = symbols('t,t1,delta_t')\n",
    "\n",
    "S = 5*t**2 + 2*t + 8\n",
    "L = (S.subs({t:t1 + delta_t}) - S.subs({t:t1})) / delta_t\n",
    "Limit(L, delta_t, 0).doit()"
   ]
  },
  {
   "cell_type": "markdown",
   "metadata": {
    "nbpresent": {
     "id": "4ae7ba48-5a74-4bb8-8d7e-7cd9c78b9b1a"
    }
   },
   "source": [
    "극한 계산 결과는 특정시간 `t1`에 대한 `S(t)`의 `변화율`입니다.\n",
    "즉, `t`에 대한 `가속도`라 할 수 있으며,\n",
    "$S(t)={5t}^{2} + 2t + 8$ 함수의 `미분`값이 됩니다.\n",
    "\n",
    "### 5. 함수의 미분(differential) 계산\n",
    "\n",
    "함수 `y=f(x)`의 미분은 독립변수 `x`에 대한 종속변수 `y`의 변화율을 계산하는 식입니다.\n",
    "미분은 `f'(x)`나 $dy/dx$로 표현합니다.\n",
    "`sympy`의 `Derivative` 객체를 이용하여 미분을 계산 할 수 있습니다."
   ]
  },
  {
   "cell_type": "code",
   "execution_count": 23,
   "metadata": {
    "collapsed": false,
    "nbpresent": {
     "id": "9b8cd7ae-bfbb-4aa2-8e9a-3ed409bf5e30"
    }
   },
   "outputs": [
    {
     "data": {
      "text/plain": [
       "Derivative(5*t**2 + 2*t + 8, t)"
      ]
     },
     "execution_count": 23,
     "metadata": {},
     "output_type": "execute_result"
    }
   ],
   "source": [
    "from sympy import Derivative\n",
    "\n",
    "D = Derivative(S, t)\n",
    "D"
   ]
  },
  {
   "cell_type": "code",
   "execution_count": 25,
   "metadata": {
    "collapsed": false,
    "nbpresent": {
     "id": "69f1ab00-85fb-471e-982c-28a606cac060"
    }
   },
   "outputs": [
    {
     "data": {
      "text/plain": [
       "10*t + 2"
      ]
     },
     "execution_count": 25,
     "metadata": {},
     "output_type": "execute_result"
    }
   ],
   "source": [
    "Sd = D.doit()\n",
    "Sd"
   ]
  },
  {
   "cell_type": "code",
   "execution_count": 26,
   "metadata": {
    "collapsed": false,
    "nbpresent": {
     "id": "23c0879b-4767-48f5-b4cc-a561ef9f2a13"
    }
   },
   "outputs": [
    {
     "data": {
      "text/plain": [
       "10*t1 + 2"
      ]
     },
     "execution_count": 26,
     "metadata": {},
     "output_type": "execute_result"
    }
   ],
   "source": [
    "Sd.subs({t:t1})"
   ]
  },
  {
   "cell_type": "code",
   "execution_count": 27,
   "metadata": {
    "collapsed": false,
    "nbpresent": {
     "id": "573f67bc-83a4-4c58-9827-23b910b0a0e0"
    }
   },
   "outputs": [
    {
     "data": {
      "text/plain": [
       "12"
      ]
     },
     "execution_count": 27,
     "metadata": {},
     "output_type": "execute_result"
    }
   ],
   "source": [
    "Sd.subs({t:1})"
   ]
  },
  {
   "cell_type": "markdown",
   "metadata": {
    "nbpresent": {
     "id": "c132b472-3849-4f08-9974-fe0f87e59aed"
    }
   },
   "source": [
    "사용자에게 수식을 입력받아서 해당 수식의 미분을 출력하는 프로그램을 작성해 보겠습니다."
   ]
  },
  {
   "cell_type": "code",
   "execution_count": 3,
   "metadata": {
    "collapsed": false,
    "nbpresent": {
     "id": "af2f7e7e-9994-48fc-a072-810ccab63f60"
    }
   },
   "outputs": [],
   "source": [
    "from sympy import Derivative, Symbol, sympify, pprint\n",
    "from sympy.core.sympify import SympifyError\n",
    "\n",
    "def GetDifferential(f, x): return Derivative(f, x).doit()\n",
    "\n",
    "def DifferentialCalcuator():    \n",
    "    f = input('Enter a function :')\n",
    "    x = input('Enter the variable to differentiate with respect to:')\n",
    "    try:\n",
    "        f = sympify(f)\n",
    "        x = Symbol(x)\n",
    "    except SympifyError:\n",
    "        print('Invalid Input')\n",
    "    else:\n",
    "        pprint(GetDifferential(f,x))"
   ]
  },
  {
   "cell_type": "code",
   "execution_count": 4,
   "metadata": {
    "collapsed": false,
    "nbpresent": {
     "id": "724b4869-fabf-476c-907c-75a8cd64803c"
    }
   },
   "outputs": [
    {
     "name": "stdout",
     "output_type": "stream",
     "text": [
      "Enter a function :2*x**2 + 3*x + 1\n",
      "Enter the variable to differentiate with respect to:x\n",
      "4⋅x + 3\n"
     ]
    }
   ],
   "source": [
    "DifferentialCalcuator()"
   ]
  },
  {
   "cell_type": "markdown",
   "metadata": {
    "nbpresent": {
     "id": "4bed3c95-e3c3-4ff3-8ada-45c6be6ba85e"
    }
   },
   "source": [
    "변수가 2개 이상인 경우에도 정상적으로 동작하는지 확인해 보겠습니다.\n",
    "다중 변수로 이루어진 함수에서 특정 한 개의 변수만을 대상으로 미분을 하는 것을 `편미분(partial differentiation)`이라 합니다."
   ]
  },
  {
   "cell_type": "code",
   "execution_count": 5,
   "metadata": {
    "collapsed": false,
    "nbpresent": {
     "id": "0b0901b4-bd06-4169-bfa7-47c440ba634a"
    }
   },
   "outputs": [
    {
     "name": "stdout",
     "output_type": "stream",
     "text": [
      "Enter a function :2*x**2 + 3*y**2 + 6*x*y + 3\n",
      "Enter the variable to differentiate with respect to:x\n",
      "4⋅x + 6⋅y\n"
     ]
    }
   ],
   "source": [
    "DifferentialCalcuator()"
   ]
  },
  {
   "cell_type": "markdown",
   "metadata": {
    "nbpresent": {
     "id": "142b5869-4dd7-42f5-bac8-821765b1ee51"
    }
   },
   "source": [
    "### 6. 고차 미분과 최대, 최소값 구하기\n",
    "\n",
    "`Derivative` 클래스를 이용하면 기본적으로는 1차 미분의 결과가 생성됩니다.\n",
    "고차 미분을 계산하려면 3번째 인자의 값으로 미분차수를 설정하면 됩니다.\n",
    "\n",
    "이번에는 특정 함수에서 어떤 구간에서의 최대, 최소값을 계산하기 위해서 1차와 2차 미분을 사용하는 방법을 알아보겠습니다.\n",
    "\n",
    "$${x}^{5} - {30x}^{3} + 50x$$\n",
    "\n",
    "위 함수에서 `[-5, 5]` 영역에서의 최대값과 최소값을 구해보겠습니다."
   ]
  },
  {
   "cell_type": "code",
   "execution_count": 4,
   "metadata": {
    "collapsed": true
   },
   "outputs": [],
   "source": [
    "%matplotlib inline\n",
    "import seaborn"
   ]
  },
  {
   "cell_type": "code",
   "execution_count": 5,
   "metadata": {
    "collapsed": false,
    "nbpresent": {
     "id": "8ba77225-5080-4776-8c57-0812f1047ea8"
    }
   },
   "outputs": [
    {
     "data": {
      "image/png": "[encoded data removed]",
      "text/plain": [
       "<matplotlib.figure.Figure at 0x265892b55c0>"
      ]
     },
     "metadata": {},
     "output_type": "display_data"
    },
    {
     "data": {
      "text/plain": [
       "<sympy.plotting.plot.Plot at 0x265892b5550>"
      ]
     },
     "execution_count": 5,
     "metadata": {},
     "output_type": "execute_result"
    }
   ],
   "source": [
    "from sympy.plotting import plot\n",
    "from sympy import Symbol\n",
    "\n",
    "x = Symbol('x')\n",
    "y = x**5 - 30*x**3 + 50*x\n",
    "plot(y,(x,-5,5))"
   ]
  },
  {
   "cell_type": "markdown",
   "metadata": {},
   "source": [
    "그래프를 참고하면 $-2\\le x\\le 0$에서 지역최소값(**B**), $0\\le x\\le 2$에서 지역최대값(**C**)을 가지며,\n",
    "$-5\\le x\\le 5$에서는 전역 최대값, 최소값을 가집니다.\n",
    "(물론 전체 그래프 영역에서의 전역 최대/최소값은 $\\infty , -\\infty$ 입니다.)\n",
    "\n",
    "**극값(extremum)**이란 대상 함수가 해당 지역 (또는 전역)에서 최대값(**A**)이나 최소값(**D**)을 갖는 지점을 의미합니다.\n",
    "그림으로 보면 극값에서의 기울기는 *0*입니다.\n",
    "즉, 해당 함수의 미분값 *f'(x) = 0* 을 풀면 됩니다.\n",
    "이러한 해를 해당 함수의 **임계점**이라 합니다."
   ]
  },
  {
   "cell_type": "code",
   "execution_count": 13,
   "metadata": {
    "collapsed": false
   },
   "outputs": [
    {
     "data": {
      "image/png": "[encoded data removed]",
      "text/latex": [
       "$$50 - 90 x^{2} + 5 x^{4}$$"
      ],
      "text/plain": [
       "         2      4\n",
       "50 - 90⋅x  + 5⋅x "
      ]
     },
     "execution_count": 13,
     "metadata": {},
     "output_type": "execute_result"
    }
   ],
   "source": [
    "from sympy import Derivative, solve, pprint\n",
    "from sympy import init_printing\n",
    "init_printing(order='rev-lex')\n",
    "\n",
    "dy = Derivative(y, x).doit()\n",
    "dy"
   ]
  },
  {
   "cell_type": "code",
   "execution_count": 14,
   "metadata": {
    "collapsed": false
   },
   "outputs": [
    {
     "data": {
      "image/png": "[encoded data removed]",
      "text/latex": [
       "$$\\left [ - \\sqrt{9 - \\sqrt{71}}, \\quad \\sqrt{9 - \\sqrt{71}}, \\quad - \\sqrt{9 + \\sqrt{71}}, \\quad \\sqrt{9 + \\sqrt{71}}\\right ]$$"
      ],
      "text/plain": [
       "⎡   _________    _________     _________    _________⎤\n",
       "⎣-╲╱ 9 - √71 , ╲╱ 9 - √71 , -╲╱ 9 + √71 , ╲╱ 9 + √71 ⎦"
      ]
     },
     "execution_count": 14,
     "metadata": {},
     "output_type": "execute_result"
    }
   ],
   "source": [
    "extrema = solve(dy)\n",
    "extrema"
   ]
  },
  {
   "cell_type": "code",
   "execution_count": 17,
   "metadata": {
    "collapsed": true
   },
   "outputs": [],
   "source": [
    "A = extrema[2]\n",
    "B = extrema[0]\n",
    "C = extrema[1]\n",
    "D = extrema[3]"
   ]
  },
  {
   "cell_type": "markdown",
   "metadata": {},
   "source": [
    "위 4개의 점은 각각 4개의 극값이 됩니다.\n",
    "위에서 언급한 포인트(**A,B,C,D**)로 대입해 보겠습니다."
   ]
  },
  {
   "cell_type": "markdown",
   "metadata": {},
   "source": [
    "2차 미분을 하면 해당 임계점이 전역 최대값, 최소값인지 판단이 가능합니다."
   ]
  },
  {
   "cell_type": "code",
   "execution_count": 15,
   "metadata": {
    "collapsed": false
   },
   "outputs": [
    {
     "data": {
      "image/png": "[encoded data removed]",
      "text/latex": [
       "$$20 x \\left(-9 + x^{2}\\right)$$"
      ],
      "text/plain": [
       "     ⎛      2⎞\n",
       "20⋅x⋅⎝-9 + x ⎠"
      ]
     },
     "execution_count": 15,
     "metadata": {},
     "output_type": "execute_result"
    }
   ],
   "source": [
    "d2 = Derivative(y, x, 2).doit()\n",
    "d2"
   ]
  },
  {
   "cell_type": "markdown",
   "metadata": {},
   "source": [
    "여기에 **A,B,C,D** 값을 대입해 보겠습니다."
   ]
  },
  {
   "cell_type": "code",
   "execution_count": 18,
   "metadata": {
    "collapsed": false
   },
   "outputs": [
    {
     "data": {
      "image/png": "[encoded data removed]",
      "text/latex": [
       "$$127.661060789073$$"
      ],
      "text/plain": [
       "127.661060789073"
      ]
     },
     "execution_count": 18,
     "metadata": {},
     "output_type": "execute_result"
    }
   ],
   "source": [
    "d2.subs({x:B}).evalf()"
   ]
  },
  {
   "cell_type": "code",
   "execution_count": 19,
   "metadata": {
    "collapsed": false
   },
   "outputs": [
    {
     "data": {
      "image/png": "[encoded data removed]",
      "text/latex": [
       "$$-127.661060789073$$"
      ],
      "text/plain": [
       "-127.661060789073"
      ]
     },
     "execution_count": 19,
     "metadata": {},
     "output_type": "execute_result"
    }
   ],
   "source": [
    "d2.subs({x:C}).evalf()"
   ]
  },
  {
   "cell_type": "code",
   "execution_count": 20,
   "metadata": {
    "collapsed": false
   },
   "outputs": [
    {
     "data": {
      "image/png": "[encoded data removed]",
      "text/latex": [
       "$$703.493179468151$$"
      ],
      "text/plain": [
       "703.493179468151"
      ]
     },
     "execution_count": 20,
     "metadata": {},
     "output_type": "execute_result"
    }
   ],
   "source": [
    "d2.subs({x:D}).evalf()"
   ]
  },
  {
   "cell_type": "code",
   "execution_count": 21,
   "metadata": {
    "collapsed": false
   },
   "outputs": [
    {
     "data": {
      "image/png": "[encoded data removed]",
      "text/latex": [
       "$$-703.493179468151$$"
      ],
      "text/plain": [
       "-703.493179468151"
      ]
     },
     "execution_count": 21,
     "metadata": {},
     "output_type": "execute_result"
    }
   ],
   "source": [
    "d2.subs({x:A}).evalf()"
   ]
  },
  {
   "cell_type": "markdown",
   "metadata": {},
   "source": [
    "모든 임계점을 알고 있는 상태에서 전역 최대값, 최소값은 임계점(A,B,C,D)이나 영역의 끝점(5, -5) 중 한 곳에 존재합니다.\n",
    "그중 지역 최대값인 A,C는 전역 최소값이 될 수 없으며, 같은 논리로 지역 최소값인 B,D는 전역 최대값이 될 수 없습니다.\n",
    "이제 도메인 경계값인 (5,-5)를 포함하여 최대,최소값을 구해보겠습니다."
   ]
  },
  {
   "cell_type": "code",
   "execution_count": 22,
   "metadata": {
    "collapsed": false
   },
   "outputs": [
    {
     "data": {
      "image/png": "[encoded data removed]",
      "text/latex": [
       "$$705.959460380365$$"
      ],
      "text/plain": [
       "705.959460380365"
      ]
     },
     "execution_count": 22,
     "metadata": {},
     "output_type": "execute_result"
    }
   ],
   "source": [
    "y.subs({x:A}).evalf()"
   ]
  },
  {
   "cell_type": "code",
   "execution_count": 23,
   "metadata": {
    "collapsed": false
   },
   "outputs": [
    {
     "data": {
      "image/png": "[encoded data removed]",
      "text/latex": [
       "$$-25.0846626340294$$"
      ],
      "text/plain": [
       "-25.0846626340294"
      ]
     },
     "execution_count": 23,
     "metadata": {},
     "output_type": "execute_result"
    }
   ],
   "source": [
    "y.subs({x:B}).evalf()"
   ]
  },
  {
   "cell_type": "code",
   "execution_count": 24,
   "metadata": {
    "collapsed": false
   },
   "outputs": [
    {
     "data": {
      "image/png": "[encoded data removed]",
      "text/latex": [
       "$$25.0846626340294$$"
      ],
      "text/plain": [
       "25.0846626340294"
      ]
     },
     "execution_count": 24,
     "metadata": {},
     "output_type": "execute_result"
    }
   ],
   "source": [
    "y.subs({x:C}).evalf()"
   ]
  },
  {
   "cell_type": "code",
   "execution_count": 25,
   "metadata": {
    "collapsed": false
   },
   "outputs": [
    {
     "data": {
      "image/png": "[encoded data removed]",
      "text/latex": [
       "$$-705.959460380365$$"
      ],
      "text/plain": [
       "-705.959460380365"
      ]
     },
     "execution_count": 25,
     "metadata": {},
     "output_type": "execute_result"
    }
   ],
   "source": [
    "y.subs({x:D}).evalf()"
   ]
  },
  {
   "cell_type": "code",
   "execution_count": 26,
   "metadata": {
    "collapsed": false
   },
   "outputs": [
    {
     "data": {
      "image/png": "[encoded data removed]",
      "text/latex": [
       "$$375.0$$"
      ],
      "text/plain": [
       "375.000000000000"
      ]
     },
     "execution_count": 26,
     "metadata": {},
     "output_type": "execute_result"
    }
   ],
   "source": [
    "y.subs({x:-5}).evalf()"
   ]
  },
  {
   "cell_type": "code",
   "execution_count": 27,
   "metadata": {
    "collapsed": false
   },
   "outputs": [
    {
     "data": {
      "image/png": "[encoded data removed]",
      "text/latex": [
       "$$-375.0$$"
      ],
      "text/plain": [
       "-375.000000000000"
      ]
     },
     "execution_count": 27,
     "metadata": {},
     "output_type": "execute_result"
    }
   ],
   "source": [
    "y.subs({x:5}).evalf()"
   ]
  },
  {
   "cell_type": "markdown",
   "metadata": {},
   "source": [
    "위 결과로 봐서 A에서 전역 최대값을 가지며, D에서 전역 최소값을 가집니다.\n",
    "\n",
    "이 방법은 도메인 내 모든 지점에서 1,2차 미분이 가능한 경우 사용이 가능합니다.\n",
    "${ e }^{ x }$의 경우에는 임계점은 없지만, 1,2차 미분이 가능하므로 극한값은 도메인 경계에서 발생합니다."
   ]
  },
  {
   "cell_type": "markdown",
   "metadata": {},
   "source": [
    "\n",
    "### 7. 그레디언트 상승을 이용한 전역 최대값 알아내기\n",
    "\n",
    "특정 도메인 내가 아닌 해당 함수 전역에 대해서 최대값을 알아보고 싶을 경우가 있습니다.\n",
    "예를 들어 공을 던졌을 경우 최대 수평거리에 도착시키기 위한 공의 투척각도를 알고 싶을 경우를 가정해 보겠습니다.\n",
    "그레디언트 상승 메소드를 이용하면 전역 최대값을 찾아 낼 수 있습니다.\n",
    "이 방법은 1차 미분만을 이용하며 전역 최대값을 찾아내기 위해서 반복적으로 계산을 해서 접근하는 방법입니다.\n",
    "그러므로 사람이 수작업으로 계산하는 것보다는 프로그램적으로 해결하기에 좋은 방법입니다.\n",
    "\n",
    "앞서 투척운동에 관련된 수식은 많이 봤으므로 유도과정은 생략하고 바로 수식을 보도록 하겠습니다.\n",
    "먼저 최대비행시간에 대한 수식입니다.\n",
    "\n",
    "![최대비행시간](./image/DoingMathWithPython.Ch02.equation.04.png)\n",
    "\n",
    "수평이동 거리는 속도 X 시간 이므로,\n",
    "\n",
    "![수식](./image/DoingMathWithPython.Ch07.equation.05.png)\n",
    "\n",
    "에 대해서 0 ~ 90도 사이에 값에 대해서 계산을 하면 됩니다.\n",
    "계산상 편의를 위해서 던진 속도 *u*와 중력값 *g*를 1값으로 고정하도록 하겠습니다."
   ]
  },
  {
   "cell_type": "code",
   "execution_count": 28,
   "metadata": {
    "collapsed": false
   },
   "outputs": [
    {
     "data": {
      "image/png": "[encoded data removed]",
      "text/plain": [
       "<matplotlib.figure.Figure at 0x2658ae6e630>"
      ]
     },
     "metadata": {},
     "output_type": "display_data"
    },
    {
     "data": {
      "text/plain": [
       "<sympy.plotting.plot.Plot at 0x2658ae6eda0>"
      ]
     },
     "execution_count": 28,
     "metadata": {},
     "output_type": "execute_result"
    }
   ],
   "source": [
    "from sympy import Symbol, sin\n",
    "from sympy.plotting import plot\n",
    "import math\n",
    "\n",
    "deg0 = math.radians(0)\n",
    "deg90 = math.radians(90)\n",
    "\n",
    "theta = Symbol('theta')\n",
    "R = sin(2*theta)\n",
    "plot(R,(theta,deg0,deg90))"
   ]
  },
  {
   "cell_type": "markdown",
   "metadata": {},
   "source": [
    "눈으로 봤을 경우 45에서 최대도달거리가 최고점인 것을 확인 할 수 있습니다.\n",
    "\n",
    "이를 그레디어느 상승 메서드 방식으로 풀어보도록 하겠습니다.\n",
    "초기 *theta* 값을 0.001로 하고 다음 단계의 값은 다음과 같이 계산합니다.\n",
    "\n",
    "![수식](./image/DoingMathWithPython.Ch07.equation.06.png)\n",
    "\n",
    "$\\lambda$(람다)는 단계의 크기이며, $\\frac { dR }{ d\\theta  }$는 R을 *theta*에 대해 미분한 값입니다.\n",
    "이렇게 계산한 ${ \\theta  }_{ new }$값과 원래값인 ${ \\theta  }_{ old }$값의 차이가 $\\varepsilon$(epsilon)보다 크면 계속해서 반복수행하고, 작으면 이 값에 대해 *R*에서의 최대값으로 계산합니다.\n",
    "\n",
    "이를 프로그램으로 구현해 보겠습니다."
   ]
  },
  {
   "cell_type": "code",
   "execution_count": 29,
   "metadata": {
    "collapsed": true
   },
   "outputs": [],
   "source": [
    "from sympy import Derivative\n",
    "def grad_ascent_unsafe(func, symbol, start, step, epsilon):\n",
    "    df = Derivative(func, symbol).doit()\n",
    "    oldValue = start\n",
    "    newValue = oldValue + step * df.subs({symbol:oldValue}).evalf()\n",
    "    while (abs(newValue - oldValue) > epsilon):\n",
    "        oldValue = newValue\n",
    "        newValue = oldValue + step * df.subs({symbol:oldValue}).evalf()\n",
    "    return newValue    "
   ]
  },
  {
   "cell_type": "code",
   "execution_count": 30,
   "metadata": {
    "collapsed": false
   },
   "outputs": [
    {
     "name": "stdout",
     "output_type": "stream",
     "text": [
      "44.85681745360614\n"
     ]
    }
   ],
   "source": [
    "m = grad_ascent_unsafe(R, theta, 1e-3, 1e-4,1e-6)\n",
    "print(math.degrees(m))"
   ]
  },
  {
   "cell_type": "markdown",
   "metadata": {},
   "source": [
    "거의 45도에 가까운 값이 나옵니다.\n",
    "초기속도 u = 25 m/s 이며, 중력값 g= 9.8인 경우에서의 최대 거리를 구해보겠습니다."
   ]
  },
  {
   "cell_type": "code",
   "execution_count": 31,
   "metadata": {
    "collapsed": false
   },
   "outputs": [
    {
     "name": "stdout",
     "output_type": "stream",
     "text": [
      "44.997815081691805\n"
     ]
    },
    {
     "data": {
      "image/png": "[encoded data removed]",
      "text/latex": [
       "$$63.7755100185965$$"
      ],
      "text/plain": [
       "63.7755100185965"
      ]
     },
     "execution_count": 31,
     "metadata": {},
     "output_type": "execute_result"
    }
   ],
   "source": [
    "u = 25\n",
    "g = 9.8\n",
    "R = u**2 * sin(2*theta) / g\n",
    "\n",
    "m = grad_ascent_unsafe(R, theta, 1e-3, 1e-4,1e-6)\n",
    "\n",
    "print(math.degrees(m))\n",
    "R.subs({theta:m}).evalf()"
   ]
  },
  {
   "cell_type": "markdown",
   "metadata": {},
   "source": [
    "#### 주의점 1. f'(x)의 해가 여러개 존재할 경우\n",
    "\n",
    "그런데 앞서 살펴본 ${ x }^{ 5 }-30{ x }^{ 3 }+50x$ 함수에 대해서 그레디언트 상승 메서드를 적용하면 어떻게 될까요 ?\n",
    "얼핏 생각하더라도 초기값, 진행방향에 따라 각각 다른 결과가 나오리란걸 예상할수 있습니다."
   ]
  },
  {
   "cell_type": "code",
   "execution_count": 47,
   "metadata": {
    "collapsed": false
   },
   "outputs": [
    {
     "data": {
      "text/plain": [
       "-4.17446382061392"
      ]
     },
     "execution_count": 47,
     "metadata": {},
     "output_type": "execute_result"
    }
   ],
   "source": [
    "grad_ascent_unsafe(y,x, -5, 1e-3, 1e-6)"
   ]
  },
  {
   "cell_type": "code",
   "execution_count": 48,
   "metadata": {
    "collapsed": false
   },
   "outputs": [
    {
     "data": {
      "text/plain": [
       "-0.757522804632242"
      ]
     },
     "execution_count": 48,
     "metadata": {},
     "output_type": "execute_result"
    }
   ],
   "source": [
    "grad_ascent_unsafe(y,x, 0, -1e-3, 1e-6)"
   ]
  },
  {
   "cell_type": "code",
   "execution_count": 49,
   "metadata": {
    "collapsed": false
   },
   "outputs": [
    {
     "data": {
      "text/plain": [
       "0.757522804632242"
      ]
     },
     "execution_count": 49,
     "metadata": {},
     "output_type": "execute_result"
    }
   ],
   "source": [
    "grad_ascent_unsafe(y,x, 0, 1e-3, 1e-6)"
   ]
  },
  {
   "cell_type": "code",
   "execution_count": 50,
   "metadata": {
    "collapsed": false
   },
   "outputs": [
    {
     "data": {
      "text/plain": [
       "4.17446382061392"
      ]
     },
     "execution_count": 50,
     "metadata": {},
     "output_type": "execute_result"
    }
   ],
   "source": [
    "grad_ascent_unsafe(y,x, 5, -1e-3, 1e-6)"
   ]
  },
  {
   "cell_type": "markdown",
   "metadata": {},
   "source": [
    "사실상 step 값을 음수(-)로 넣는 다는건 `그레디언트 상승`이 아닌 `그레디언트 하강`이 됩니다.\n",
    "\n",
    "이 경우에는 함수 전역의 최대값이 아니라 1차미분 값의 크기가 0에 가까운 지점인 지역 최대값,최소값에서도 멈추게 됩니다."
   ]
  },
  {
   "cell_type": "markdown",
   "metadata": {},
   "source": [
    "#### 주의점 2. f'(x)의 해가 없는 경우\n",
    "\n",
    "*log(x)* 나 ${e}^{x}$와 같이 f'(x)의 해가 없는 경우에는 무한루프에 빠져서 프로그램이 종료하지 않을 것입니다.\n",
    "이런 경우를 판단하여 오류를 발생해 주도록 함수를 수정하겠습니다."
   ]
  },
  {
   "cell_type": "code",
   "execution_count": 51,
   "metadata": {
    "collapsed": true
   },
   "outputs": [],
   "source": [
    "def grad_ascent(func, symbol, start, step, epsilon):\n",
    "    df = Derivative(func, symbol).doit()\n",
    "    if not solve(df):\n",
    "        raise ValueError('Solution for this function does not exist.')\n",
    "    return grad_ascent_unsafe(func, symbol, start, step, epsilon)"
   ]
  },
  {
   "cell_type": "code",
   "execution_count": 54,
   "metadata": {
    "collapsed": false
   },
   "outputs": [
    {
     "data": {
      "text/plain": [
       "-4.17446382061392"
      ]
     },
     "execution_count": 54,
     "metadata": {},
     "output_type": "execute_result"
    }
   ],
   "source": [
    "grad_ascent(y,x, -5, 1e-3, 1e-6)"
   ]
  },
  {
   "cell_type": "code",
   "execution_count": 56,
   "metadata": {
    "collapsed": false
   },
   "outputs": [
    {
     "ename": "ValueError",
     "evalue": "Solution for this function does not exist.",
     "output_type": "error",
     "traceback": [
      "\u001b[1;31m---------------------------------------------------------------------------\u001b[0m",
      "\u001b[1;31mValueError\u001b[0m                                Traceback (most recent call last)",
      "\u001b[1;32m<ipython-input-56-86876c9993c9>\u001b[0m in \u001b[0;36m<module>\u001b[1;34m()\u001b[0m\n\u001b[0;32m      1\u001b[0m \u001b[1;32mfrom\u001b[0m \u001b[0msympy\u001b[0m \u001b[1;32mimport\u001b[0m \u001b[0mlog\u001b[0m\u001b[1;33m\u001b[0m\u001b[0m\n\u001b[1;32m----> 2\u001b[1;33m \u001b[0mgrad_ascent\u001b[0m\u001b[1;33m(\u001b[0m\u001b[0mlog\u001b[0m\u001b[1;33m(\u001b[0m\u001b[0mx\u001b[0m\u001b[1;33m)\u001b[0m\u001b[1;33m,\u001b[0m \u001b[0mx\u001b[0m\u001b[1;33m,\u001b[0m \u001b[1;36m0\u001b[0m\u001b[1;33m,\u001b[0m \u001b[1;36m1e-3\u001b[0m\u001b[1;33m,\u001b[0m \u001b[1;36m1e-6\u001b[0m\u001b[1;33m)\u001b[0m\u001b[1;33m\u001b[0m\u001b[0m\n\u001b[0m",
      "\u001b[1;32m<ipython-input-51-03c15b41cd62>\u001b[0m in \u001b[0;36mgrad_ascent\u001b[1;34m(func, symbol, start, step, epsilon)\u001b[0m\n\u001b[0;32m      2\u001b[0m     \u001b[0mdf\u001b[0m \u001b[1;33m=\u001b[0m \u001b[0mDerivative\u001b[0m\u001b[1;33m(\u001b[0m\u001b[0mfunc\u001b[0m\u001b[1;33m,\u001b[0m \u001b[0msymbol\u001b[0m\u001b[1;33m)\u001b[0m\u001b[1;33m.\u001b[0m\u001b[0mdoit\u001b[0m\u001b[1;33m(\u001b[0m\u001b[1;33m)\u001b[0m\u001b[1;33m\u001b[0m\u001b[0m\n\u001b[0;32m      3\u001b[0m     \u001b[1;32mif\u001b[0m \u001b[1;32mnot\u001b[0m \u001b[0msolve\u001b[0m\u001b[1;33m(\u001b[0m\u001b[0mdf\u001b[0m\u001b[1;33m)\u001b[0m\u001b[1;33m:\u001b[0m\u001b[1;33m\u001b[0m\u001b[0m\n\u001b[1;32m----> 4\u001b[1;33m         \u001b[1;32mraise\u001b[0m \u001b[0mValueError\u001b[0m\u001b[1;33m(\u001b[0m\u001b[1;34m'Solution for this function does not exist.'\u001b[0m\u001b[1;33m)\u001b[0m\u001b[1;33m\u001b[0m\u001b[0m\n\u001b[0m\u001b[0;32m      5\u001b[0m     \u001b[1;32mreturn\u001b[0m \u001b[0mgrad_ascent_unsafe\u001b[0m\u001b[1;33m(\u001b[0m\u001b[0mfunc\u001b[0m\u001b[1;33m,\u001b[0m \u001b[0msymbol\u001b[0m\u001b[1;33m,\u001b[0m \u001b[0mstart\u001b[0m\u001b[1;33m,\u001b[0m \u001b[0mstep\u001b[0m\u001b[1;33m,\u001b[0m \u001b[0mepsilon\u001b[0m\u001b[1;33m)\u001b[0m\u001b[1;33m\u001b[0m\u001b[0m\n",
      "\u001b[1;31mValueError\u001b[0m: Solution for this function does not exist."
     ]
    }
   ],
   "source": [
    "from sympy import log\n",
    "grad_ascent(log(x), x, 0, 1e-3, 1e-6)"
   ]
  },
  {
   "cell_type": "markdown",
   "metadata": {},
   "source": [
    "### 8. 함수의 적분 계산\n",
    "\n",
    "적분은 미분의 반대입니다.\n",
    "함수 `f(x)`의 적분을 `F(x)`로 표현합니다.\n",
    "특정함수의 미분 결과를 적분하면 원래 함수가 됩니다.\n",
    "무한적분은 $F(x)=\\int { f(x) } dx$로 표시합니다.\n",
    "하지만 실제로 사용할때는 정적분(difinite integral)로 사용하며 이 값은 `F(b)-F(a)`와 같이 특정 범위내의 적분값을 구해서 계산합니다.\n",
    "python에서는 `Integral` 객체를 이용해서 적분을 계산할 수 있습니다."
   ]
  },
  {
   "cell_type": "code",
   "execution_count": 32,
   "metadata": {
    "collapsed": false
   },
   "outputs": [
    {
     "data": {
      "image/png": "[encoded data removed]",
      "text/latex": [
       "$$\\frac{k x^{2}}{2}$$"
      ],
      "text/plain": [
       "   2\n",
       "k⋅x \n",
       "────\n",
       " 2  "
      ]
     },
     "execution_count": 32,
     "metadata": {},
     "output_type": "execute_result"
    }
   ],
   "source": [
    "from sympy import Integral, Symbol, symbols\n",
    "\n",
    "x, k = symbols('x,k')\n",
    "fx = k*x\n",
    "Fx = Integral(fx, x).doit()\n",
    "Fx"
   ]
  },
  {
   "cell_type": "markdown",
   "metadata": {},
   "source": [
    "정적분을 계산하려면 두번째 인자로 적분할 심볼과 그 범위를 튜플로 전달하면 됩니다."
   ]
  },
  {
   "cell_type": "code",
   "execution_count": 33,
   "metadata": {
    "collapsed": false
   },
   "outputs": [
    {
     "data": {
      "image/png": "[encoded data removed]",
      "text/latex": [
       "$$2 k$$"
      ],
      "text/plain": [
       "2⋅k"
      ]
     },
     "execution_count": 33,
     "metadata": {},
     "output_type": "execute_result"
    }
   ],
   "source": [
    "Fx0_2 = Integral(fx,(x,0,2)).doit()\n",
    "Fx0_2"
   ]
  },
  {
   "cell_type": "markdown",
   "metadata": {},
   "source": [
    "위 결과는 $\\int _{ 0 }^{ 2 }{ kxdx } $의 결과입니다."
   ]
  },
  {
   "cell_type": "markdown",
   "metadata": {},
   "source": [
    "기하학적 측면에서 생각을 해보자면 정적분은 함수에 대한 해당 영역의 넓이를 뜻합니다.\n",
    "쉽게 손으로 계산이 가능하도록 하기 위해 `f(x)=x`라는 그래프를 생각해 보겠습니다.\n",
    "이 그래프에서 `x=2` 에서 `x=4`영역의 넓이를 구하려면 해당영역 아래 `2 x 2` 크기의 사각형 1개와 삼각형 1개의 넓이를 더하면 됩니다.\n",
    "즉 `2 x 2 + 2 x 2 / 2 = 6`이 됩니다."
   ]
  },
  {
   "cell_type": "code",
   "execution_count": 34,
   "metadata": {
    "collapsed": false,
    "scrolled": true
   },
   "outputs": [
    {
     "data": {
      "image/png": "[encoded data removed]",
      "text/plain": [
       "<matplotlib.figure.Figure at 0x2658b156ba8>"
      ]
     },
     "metadata": {},
     "output_type": "display_data"
    },
    {
     "data": {
      "text/plain": [
       "<sympy.plotting.plot.Plot at 0x2658b3068d0>"
      ]
     },
     "execution_count": 34,
     "metadata": {},
     "output_type": "execute_result"
    }
   ],
   "source": [
    "from sympy.plotting import plot\n",
    "fx = x\n",
    "plot(fx,(x,0,5))"
   ]
  },
  {
   "cell_type": "markdown",
   "metadata": {},
   "source": [
    "이 것을 정적분을 이용해서 풀어보겠습니다."
   ]
  },
  {
   "cell_type": "code",
   "execution_count": 6,
   "metadata": {
    "collapsed": false
   },
   "outputs": [
    {
     "data": {
      "text/plain": [
       "6"
      ]
     },
     "execution_count": 6,
     "metadata": {},
     "output_type": "execute_result"
    }
   ],
   "source": [
    "Integral(fx,(x,2,4)).doit()"
   ]
  },
  {
   "cell_type": "markdown",
   "metadata": {},
   "source": [
    "### 9. 확률밀도함수\n",
    "\n",
    "어떤 과목의 점수를 0 ~ 20 으로 매긴다고 할 경우, 그 과목 학생이 11 ~ 12 사이의 성적을 얻을 확률을 계산해보겠습니다.\n",
    "일반적인 확률공식으로는 계산이 힘듭니다.\n",
    "`P(11< x < 12) = n(E) / n(S)` 수식으로 표현을 해보자면 그 경우의 수가 거의 무한대에 가까울 정도로 힘듭니다.\n",
    "학생 수가 10명만 된다고 하더라도 각 10명이 얻을 수 있는 점수의 범위는 0 ~ 20 이며 이 모든 경우에 수를 다 구해서 그 중 특정 한 명이 11 ~ 12인 경우만 추출해서 계산해야 합니다.\n",
    "학생 수가 100명만 되어도 상상하기도 싫어집니다.\n",
    "\n",
    "만약 확률밀도함수 `P(x)`를 알고 있다면 `P(11< x < 12)`를 계산하는 것은 x=11과 x=12 사이의 영역입니다.\n",
    "이는 정적분값인 $\\int _{ 11 }^{ 12 }{ P(x)dx }$와 같습니다.\n",
    "이 경우의 확률밀도 함수는 다음과 같습니다.\n",
    "\n",
    "![수식](./image/DoingMathWithPython.Ch07.equation.07.png)\n",
    "\n",
    "이 식의 정적분을 계산하면 됩니다."
   ]
  },
  {
   "cell_type": "code",
   "execution_count": 9,
   "metadata": {
    "collapsed": false
   },
   "outputs": [
    {
     "data": {
      "text/plain": [
       "0.135905121983278"
      ]
     },
     "execution_count": 9,
     "metadata": {},
     "output_type": "execute_result"
    }
   ],
   "source": [
    "from sympy import exp, sqrt, pi, Integral, Symbol, S\n",
    "\n",
    "x = Symbol('x')\n",
    "p = exp(-(x-10)**2/2)/sqrt(2*pi)\n",
    "Integral(p,(x,11,12)).doit().evalf()"
   ]
  },
  {
   "cell_type": "markdown",
   "metadata": {},
   "source": [
    "확률밀도 함수는 특징을 가집니다.\n",
    "\n",
    "- 확률은 절대 0보다 작을수 없으므로 모든 영역에서의 결과값은 항상 0보다 크거나 같습니다.\n",
    "- 전체영역(-Inf ~ Inf)에서의 정적분 값은 1이 됩니다.\n",
    "- 연속형 랜덤 변수의 특성상 정확한 한 지점의 확률값은 언제나 0 입니다."
   ]
  },
  {
   "cell_type": "code",
   "execution_count": 10,
   "metadata": {
    "collapsed": false
   },
   "outputs": [
    {
     "data": {
      "text/plain": [
       "1.00000000000000"
      ]
     },
     "execution_count": 10,
     "metadata": {},
     "output_type": "execute_result"
    }
   ],
   "source": [
    "Integral(p,(x,S.NegativeInfinity,S.Infinity)).doit().evalf()"
   ]
  },
  {
   "cell_type": "markdown",
   "metadata": {},
   "source": [
    "확률밀도 함수는 연속형 랜덤 변수를 이용하기 때문에 조금은 상식에 맞지 않는 계산결과가 나옵니다.\n",
    "실제로 가능한 일이더라도 특정한 한 지점에 대한 확률값은 0이 됩니다.\n",
    "왜냐면 전제 자체가 경우의 수를 무한대로 놓고서 계산을 하기 때문에 계산 결과는 결국 $\\frac { 1 }{ \\infty  }$이 됩니다.\n",
    "정적분으로 계산을 하더라도 특정한 지점에 대한 정적분값은 0이 됩니다.\n",
    "(`F(a) - F(a) = 0`)"
   ]
  },
  {
   "cell_type": "code",
   "execution_count": 11,
   "metadata": {
    "collapsed": false
   },
   "outputs": [
    {
     "data": {
      "text/plain": [
       "0"
      ]
     },
     "execution_count": 11,
     "metadata": {},
     "output_type": "execute_result"
    }
   ],
   "source": [
    "Integral(p,(x,11.5,11.5)).doit().evalf()"
   ]
  },
  {
   "cell_type": "markdown",
   "metadata": {},
   "source": [
    "## 프로그래밍 연습\n",
    "\n",
    "### 1.  한 점에서 함수의 연속 검증\n",
    "\n",
    "```\n",
    "입력된 함수의 한 점에 대해서 연속인지 아닌지를 검증하는 프로그램을 작성하세요.\n",
    "```\n",
    "\n",
    "함수가 특정한 한 점에서 연속이 되려면 해당 지점에서의 미분값이 존재해야합니다.\n",
    "이를 극한으로 생각하자면 양쪽방향에서 해당 지점으로 접근한 경우의 값이 같아야 한다는 뜻도 됩니다.\n",
    "예를 들어서 `1/x`함수에 대해서 2 에서는 연속이지만, 0 에서는 연속적이지 않습니다."
   ]
  },
  {
   "cell_type": "code",
   "execution_count": 24,
   "metadata": {
    "collapsed": false
   },
   "outputs": [
    {
     "data": {
      "text/plain": [
       "1/2"
      ]
     },
     "execution_count": 24,
     "metadata": {},
     "output_type": "execute_result"
    }
   ],
   "source": [
    "from sympy import Limit\n",
    "fx = 1/x\n",
    "Limit(fx, x, 2, dir='+').doit()"
   ]
  },
  {
   "cell_type": "code",
   "execution_count": 25,
   "metadata": {
    "collapsed": false
   },
   "outputs": [
    {
     "data": {
      "text/plain": [
       "1/2"
      ]
     },
     "execution_count": 25,
     "metadata": {},
     "output_type": "execute_result"
    }
   ],
   "source": [
    "Limit(fx, x, 2, dir='-').doit()"
   ]
  },
  {
   "cell_type": "code",
   "execution_count": 26,
   "metadata": {
    "collapsed": false
   },
   "outputs": [
    {
     "data": {
      "text/plain": [
       "oo"
      ]
     },
     "execution_count": 26,
     "metadata": {},
     "output_type": "execute_result"
    }
   ],
   "source": [
    "Limit(fx, x, 0, dir='+').doit()"
   ]
  },
  {
   "cell_type": "code",
   "execution_count": 27,
   "metadata": {
    "collapsed": false
   },
   "outputs": [
    {
     "data": {
      "text/plain": [
       "-oo"
      ]
     },
     "execution_count": 27,
     "metadata": {},
     "output_type": "execute_result"
    }
   ],
   "source": [
    "Limit(fx, x, 0, dir='-').doit()"
   ]
  },
  {
   "cell_type": "markdown",
   "metadata": {},
   "source": [
    "위 특징을 이용해서 함수를 만들어 보겠습니다."
   ]
  },
  {
   "cell_type": "code",
   "execution_count": 34,
   "metadata": {
    "collapsed": false
   },
   "outputs": [],
   "source": [
    "from sympy import Limit, sympify, Symbol\n",
    "def IsContinuous(func, symbol, value):\n",
    "    rightApproch = Limit(func, symbol, value, dir='-').doit()\n",
    "    leftApproch = Limit(func, symbol, value, dir='+').doit()\n",
    "    return rightApproch == leftApproch\n",
    "\n",
    "def Console_IsContinuous():\n",
    "    fx = sympify(input('Enter a function:'))\n",
    "    x = Symbol(input('Enter the variale:'))\n",
    "    v = float(input('Enter the point to check the continuity at:'))\n",
    "    print(IsContinuous(fx,x,v))"
   ]
  },
  {
   "cell_type": "code",
   "execution_count": 35,
   "metadata": {
    "collapsed": false
   },
   "outputs": [
    {
     "name": "stdout",
     "output_type": "stream",
     "text": [
      "Enter a function:1/x\n",
      "Enter the variale:x\n",
      "Enter the point to check the continuity at:1\n",
      "True\n"
     ]
    }
   ],
   "source": [
    "Console_IsContinuous()"
   ]
  },
  {
   "cell_type": "code",
   "execution_count": 36,
   "metadata": {
    "collapsed": false
   },
   "outputs": [
    {
     "name": "stdout",
     "output_type": "stream",
     "text": [
      "Enter a function:1/x\n",
      "Enter the variale:x\n",
      "Enter the point to check the continuity at:0\n",
      "False\n"
     ]
    }
   ],
   "source": [
    "Console_IsContinuous()"
   ]
  },
  {
   "cell_type": "markdown",
   "metadata": {},
   "source": [
    "### 2. 그레디언트 하강 구현\n",
    "\n",
    "이미 앞에서 그레디언트 상승 구현을 구현하였습니다. (`grad_ascent` 함수 참조)\n",
    "그곳에 `step`값을 음수로 넣어주면 그레디언트 하강으로 동작하게 됩니다.\n",
    "이미 구현된 내용이므로 생략하겠습니다."
   ]
  },
  {
   "cell_type": "markdown",
   "metadata": {},
   "source": [
    "### 3.  두 곡선 간 면적\n",
    "\n",
    "```\n",
    "입력 받은 단일 변수 2개의 함수에 대해서 둘러쌓인 면적을 계산하세요.\n",
    "```\n",
    "\n",
    "그 동안 배운 수학공식을 이용하면 쉽게 해결이 가능합니다.\n",
    "1. 두 곡선을 입력받음\n",
    "2. 공통해를 구함\n",
    "3. 공통해를 순서대로 정렬\n",
    "4. 각 공통해 구간에서의 각각의 곡선에 대한 적분값을 계산\n",
    "5. 두 적분값의 차를 구함 (한 값에서 다른 값을 뺀 후 절대값으로 표현)\n",
    "6. 모든 공통해 사이를 다 계산할때까지 4번부터의 과정을 반복\n",
    "7. 모든 공통해 사이의 공간들에 대한 계산 결과를 더함\n",
    "\n",
    "차례대로 하나씩 해보겠습니다.\n",
    "예제로 `f(x) = x` , `f(x) = x^2`을 이용해서 풀어보겠습니다."
   ]
  },
  {
   "cell_type": "code",
   "execution_count": 73,
   "metadata": {
    "collapsed": false
   },
   "outputs": [],
   "source": [
    "from sympy import Symbol,solve, Integral\n",
    "\n",
    "x = Symbol('x')\n",
    "fx1 = x\n",
    "fx2 = x**2"
   ]
  },
  {
   "cell_type": "code",
   "execution_count": 38,
   "metadata": {
    "collapsed": true
   },
   "outputs": [],
   "source": [
    "# 공통해를 구하는 함수\n",
    "def SolveSimultaneousEquations(func1, func2):\n",
    "    func = func1 - func2\n",
    "    return solve(func)"
   ]
  },
  {
   "cell_type": "code",
   "execution_count": 41,
   "metadata": {
    "collapsed": false
   },
   "outputs": [
    {
     "data": {
      "text/plain": [
       "[0, 1]"
      ]
     },
     "execution_count": 41,
     "metadata": {},
     "output_type": "execute_result"
    }
   ],
   "source": [
    "result = SolveSimultaneousEquations(fx1, fx2)\n",
    "result"
   ]
  },
  {
   "cell_type": "code",
   "execution_count": 51,
   "metadata": {
    "collapsed": true
   },
   "outputs": [],
   "source": [
    "#입력된 숫자들의 연속된 범위를 Tuple로 리턴하는 함수\n",
    "def GetContinuousRanges(numbers):\n",
    "    numbers.sort()\n",
    "    ranges = []\n",
    "    for i in range(len(numbers)-1):\n",
    "        ranges.append((numbers[i], numbers[i+1]))\n",
    "    return ranges"
   ]
  },
  {
   "cell_type": "code",
   "execution_count": 54,
   "metadata": {
    "collapsed": false
   },
   "outputs": [
    {
     "data": {
      "text/plain": [
       "[(0, 1)]"
      ]
     },
     "execution_count": 54,
     "metadata": {},
     "output_type": "execute_result"
    }
   ],
   "source": [
    "ranges = GetContinuousRanges(result)\n",
    "ranges"
   ]
  },
  {
   "cell_type": "code",
   "execution_count": 53,
   "metadata": {
    "collapsed": true
   },
   "outputs": [],
   "source": [
    "#주어진 범위내의 두 함수 사이의 면적를 계산하는 함수\n",
    "def GetArea(func1, func2, symbol, ranges):\n",
    "    s1 = Integral(func1,(symbol,ranges[0], ranges[1])).doit().evalf()\n",
    "    s2 = Integral(func2,(symbol,ranges[0], ranges[1])).doit().evalf()\n",
    "    return abs(s1 - s2)"
   ]
  },
  {
   "cell_type": "code",
   "execution_count": 55,
   "metadata": {
    "collapsed": false
   },
   "outputs": [
    {
     "data": {
      "text/plain": [
       "0.166666666666667"
      ]
     },
     "execution_count": 55,
     "metadata": {},
     "output_type": "execute_result"
    }
   ],
   "source": [
    "GetArea(fx1, fx2, x, ranges[0])"
   ]
  },
  {
   "cell_type": "code",
   "execution_count": 56,
   "metadata": {
    "collapsed": true
   },
   "outputs": [],
   "source": [
    "#여러 범위를 입력받아서 그 사이의 면적들의 합을 계산하는 함수\n",
    "def GetSumAreas(func1, func2, symbol, ranges):\n",
    "    acc = 0\n",
    "    for r in ranges:\n",
    "        acc += GetArea(func1, func2, symbol, r)\n",
    "    return acc"
   ]
  },
  {
   "cell_type": "code",
   "execution_count": 57,
   "metadata": {
    "collapsed": false
   },
   "outputs": [
    {
     "data": {
      "text/plain": [
       "0.166666666666667"
      ]
     },
     "execution_count": 57,
     "metadata": {},
     "output_type": "execute_result"
    }
   ],
   "source": [
    "GetSumAreas(fx1, fx2, x, ranges)"
   ]
  },
  {
   "cell_type": "code",
   "execution_count": 60,
   "metadata": {
    "collapsed": true
   },
   "outputs": [],
   "source": [
    "#입력된 두 함수 사이의 면적을 계산하는 함수\n",
    "def GetAreaOfTwoFunc(func1, func2, symbol):\n",
    "    result = SolveSimultaneousEquations(func1, func2)\n",
    "    ranges = GetContinuousRanges(result)\n",
    "    return GetSumAreas(func1, func2, symbol, ranges)    "
   ]
  },
  {
   "cell_type": "code",
   "execution_count": 61,
   "metadata": {
    "collapsed": false
   },
   "outputs": [
    {
     "data": {
      "text/plain": [
       "0.166666666666667"
      ]
     },
     "execution_count": 61,
     "metadata": {},
     "output_type": "execute_result"
    }
   ],
   "source": [
    "GetAreaOfTwoFunc(fx1, fx2, x)"
   ]
  },
  {
   "cell_type": "code",
   "execution_count": 64,
   "metadata": {
    "collapsed": false
   },
   "outputs": [
    {
     "data": {
      "text/plain": [
       "0.500000000000000"
      ]
     },
     "execution_count": 64,
     "metadata": {},
     "output_type": "execute_result"
    }
   ],
   "source": [
    "fx3 = x**3\n",
    "GetAreaOfTwoFunc(fx1, fx3, x)"
   ]
  },
  {
   "cell_type": "markdown",
   "metadata": {},
   "source": [
    "### 4. 곡선 길이 계산\n",
    "\n",
    "$f(x) = 2{x}^{2} + 3x + 1$ 이라는 곡선 방정식에서 A(-5,36) 에서 B(10,231)까지의 호의 길이를 구하세요.\n",
    "\n",
    "이를 계산하기 위해서는 다음 적분을 계산하면 됩니다.\n",
    "\n",
    "![수식](./image/DoingMathWithPython.Ch07.equation.08.png)\n",
    "\n",
    "자세한 증명방법은 <http://cronix.tistory.com/44> 링크를 참조하세요."
   ]
  },
  {
   "cell_type": "code",
   "execution_count": 100,
   "metadata": {
    "collapsed": true
   },
   "outputs": [],
   "source": [
    "from sympy import Derivative, Integral, sqrt\n",
    "\n",
    "def GetLengthInCurve(func, symbol, start, end):\n",
    "    dy = Derivative(func, symbol).doit()\n",
    "    y = sqrt(1 + dy**2)\n",
    "    return Integral(y, (symbol,start,end)).doit().evalf()"
   ]
  },
  {
   "cell_type": "code",
   "execution_count": 101,
   "metadata": {
    "collapsed": false
   },
   "outputs": [
    {
     "data": {
      "text/plain": [
       "268.372650946022"
      ]
     },
     "execution_count": 101,
     "metadata": {},
     "output_type": "execute_result"
    }
   ],
   "source": [
    "x = Symbol('x')\n",
    "fx = 2*x**2 + 3*x + 1\n",
    "GetLengthInCurve(fx, x, -5, 10)"
   ]
  }
 ],
 "metadata": {
  "anaconda-cloud": {},
  "kernelspec": {
   "display_name": "Python [conda root]",
   "language": "python",
   "name": "conda-root-py"
  },
  "language_info": {
   "codemirror_mode": {
    "name": "ipython",
    "version": 3
   },
   "file_extension": ".py",
   "mimetype": "text/x-python",
   "name": "python",
   "nbconvert_exporter": "python",
   "pygments_lexer": "ipython3",
   "version": "3.5.2"
  }
 },
 "nbformat": 4,
 "nbformat_minor": 0
}
