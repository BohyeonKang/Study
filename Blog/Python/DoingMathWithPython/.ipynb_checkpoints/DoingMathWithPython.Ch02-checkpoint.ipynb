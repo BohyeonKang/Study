{
 "cells": [
  {
   "cell_type": "markdown",
   "metadata": {},
   "source": [
    "# 파이썬으로 풀어보는 수학\n",
    "\n",
    "## 2장 그래프로 데이터 가시화\n",
    "\n",
    "#### 카르테지안 좌표평면 (Cartesian coordinate plane)\n",
    "수평선 값은 x축, 수직선 값은 y축 으로 부르는 좌표 평면 (통상적으로 많이 사용하는 2차원을 표현하는 좌표계)\n",
    "\n",
    "이번 장에서의 진행을 위해서는 `matplotlib`를 설치행 합니다.\n",
    "```\n",
    "pip install matplotlib-venn\n",
    "```\n",
    "\n",
    "### 1. 맷플롭립을 이용한 그래프 그리기\n",
    "\n",
    "##### step 1. X,Y 좌료를 이용하여 Show()\n",
    "\n",
    "`plot()`에 인자로 X좌표들의 List, Y좌표들의 List를 차례대로 넣으면 `matplotlib.lines.Line2D` 라는 객체가 생성됩니다.\n",
    "그런 다음에 `Show()`를 실행하면 팝업으로 그래프가 출력됩니다.\n",
    "`Save`버튼을 눌러서 그림으로 저장이 가능합니다."
   ]
  },
  {
   "cell_type": "code",
   "execution_count": 2,
   "metadata": {
    "collapsed": false
   },
   "outputs": [],
   "source": [
    "x_numbers = [ 1, 2, 3 ]\n",
    "y_numbers = [ 2, 4, 5 ]\n",
    "\n",
    "from pylab import plot, show\n",
    "plot(x_numbers, y_numbers)\n",
    "show()"
   ]
  },
  {
   "cell_type": "markdown",
   "metadata": {},
   "source": [
    "![그림 step 1. 결과](./image/DoingMathWithPython.Ch02.01.png)\n",
    "\n",
    "##### step 2. Marker 표시\n",
    "\n",
    "그래프의 각 포인터에 마커를 표시하고 싶은 경우 세번째 인자로 `marker='o'`를 넣어주면 됩니다. ( `o`, `*`, `x`, `+` 등 여러가지가 있습니다.)"
   ]
  },
  {
   "cell_type": "code",
   "execution_count": 4,
   "metadata": {
    "collapsed": true
   },
   "outputs": [],
   "source": [
    "plot(x_numbers, y_numbers, marker='o')\n",
    "show()"
   ]
  },
  {
   "cell_type": "markdown",
   "metadata": {},
   "source": [
    "![그림 step 2. 결과](./image/DoingMathWithPython.Ch02.02.png)\n",
    "\n",
    "##### Step 3. Line 지우기\n",
    "\n",
    "세번째 인자에 `marker=`를 지우고 표시하고픈 마커만을 입력한 경우에는 선이 없이 마커만 출력됩니다."
   ]
  },
  {
   "cell_type": "code",
   "execution_count": 5,
   "metadata": {
    "collapsed": true
   },
   "outputs": [],
   "source": [
    "plot(x_numbers, y_numbers, '*')\n",
    "show()"
   ]
  },
  {
   "cell_type": "markdown",
   "metadata": {},
   "source": [
    "![그림 step 3. 결과](./image/DoingMathWithPython.Ch02.03.png)\n",
    "\n",
    "##### Step 4. 뉴욕시의  연간 평균온도 표시 (X축값을 주지 않고 출력)\n",
    "\n",
    "이제는 예제 데이터가 아닌 실제 데이터를 가지고 작성해 보겠습니다.\n",
    "뉴욕시의 2000년에서 2012년까지의 평균온도(화시)를 표시해보겠습니다."
   ]
  },
  {
   "cell_type": "code",
   "execution_count": 7,
   "metadata": {
    "collapsed": false
   },
   "outputs": [],
   "source": [
    "nyc_temp = [ 53.9, 56.3, 56.4, 53.4, 54.5, 55.8, 56.8, 55.0, 55.3, 54.0, 56.7, 56.4, 57.3 ]\n",
    "plot(nyc_temp, marker='o')\n",
    "show()"
   ]
  },
  {
   "cell_type": "markdown",
   "metadata": {},
   "source": [
    "![그림 step 4. 결과](./image/DoingMathWithPython.Ch02.04.png)\n",
    "\n",
    "Y축의 값의 경우 0에서부터 시작을 한 것이 아니라 입력된 값의 최소값(53.4)에서 최고값(57.3)을 기준으로 표시된 것을 확인 할 수 있습니다.\n",
    "X축의 값을 따로 주지 않은 경우 0부터 차례대로 번호가 매겨집니다.\n",
    "\n",
    "X축 값을 2000 ~ 2012으로 주겠습니다."
   ]
  },
  {
   "cell_type": "code",
   "execution_count": 14,
   "metadata": {
    "collapsed": true
   },
   "outputs": [],
   "source": [
    "years = range(2000, 2013)\n",
    "plot(years, nyc_temp, marker='o')\n",
    "show()"
   ]
  },
  {
   "cell_type": "markdown",
   "metadata": {},
   "source": [
    "![그림 step 4. X축포함 결과](./image/DoingMathWithPython.Ch02.05.png)\n",
    "\n",
    "##### Step 5. 뉴욕시의 월간 온도 비교 (한 그래프에 여러개의 시리즈 출력)\n",
    "\n",
    "3개의 연도(2000, 2006, 2012)에 대해서 12개월에 대한 평균온도를 그래프로 표시해 보겠습니다."
   ]
  },
  {
   "cell_type": "code",
   "execution_count": 4,
   "metadata": {
    "collapsed": true
   },
   "outputs": [],
   "source": [
    "nyc_temp_2000 = [ 31.3, 37.3, 47.2, 51.0, 63.5, 71.3, 72.3, 72.7, 66.0, 57.0, 45.3, 31.3 ]\n",
    "nyc_temp_2006 = [ 40.0, 35.7, 43.1, 55.7, 63.1, 71.0, 77.9, 75.8, 66.6, 56.2, 51.9, 43.6 ]\n",
    "nyc_temp_2012 = [ 37.3, 40.9, 50.9, 54.8, 65.1, 71.0, 78.8, 76.7, 68.8, 58.0, 43.9, 41.5 ]\n",
    "\n",
    "months = range(1, 13)\n",
    "\n",
    "plot(months, nyc_temp_2000, months, nyc_temp_2006, months, nyc_temp_2012)\n",
    "show()"
   ]
  },
  {
   "cell_type": "markdown",
   "metadata": {},
   "source": [
    "![그림 step 5. 3개의 시리즈](./image/DoingMathWithPython.Ch02.06.png)\n",
    "\n",
    "3개의 시리즈가 하나의 그래프에 출력이 되었습니다.\n",
    "각 시리즈별 라인의 색상은 특별히 신경쓰지 않아도 구분이 가능하도록 자동으로 설정되어 있습니다.\n",
    "\n",
    "##### Step 6. 범주(Legend) 출력\n",
    "\n",
    "한 그래프에 시리즈가 여러개일 경우 각각의 시리즈가 무엇을 의미하는지 범주를 추가해 주면 좀 더 알아보기 쉽습니다.\n",
    "`legend()`에 각 시리즈별 명칭을 List로 전달하면 화면에 출력됩니다. 두번째 인자로 범주가 출력될 위치를 설정할 수 있습니다. 기본적으로는 우측상단에 출력되는데 `best`로 설정할 경우에는 그래프를 보는데 방해되지 않도록 적당한 위치에 알아서 위치시켜 줍니다."
   ]
  },
  {
   "cell_type": "code",
   "execution_count": 5,
   "metadata": {
    "collapsed": false
   },
   "outputs": [],
   "source": [
    "from pylab import legend\n",
    "plot(months, nyc_temp_2000, months, nyc_temp_2006, months, nyc_temp_2012)\n",
    "legend([ 2000, 2006, 2012 ])\n",
    "show()"
   ]
  },
  {
   "cell_type": "markdown",
   "metadata": {},
   "source": [
    "![그림 step 6. 범주출력](./image/DoingMathWithPython.Ch02.07.png)\n",
    "\n",
    "범주를 넣으니 각각의 색깔별 시리즈가 무엇을 의미하는지 확인이 가능해졌습니다.\n",
    "가장 온도가 높은 7월의 경우를 보니 계속해서 증가하고 있는 것을 확인할 수 있습니다.\n",
    "\n",
    "##### Step 7. 타이틀, 레이블 추가\n",
    "\n",
    "`title()` : 타이틀 추가\n",
    "`xlabel()` : X축 레이블 추가\n",
    "`ylabel()` : Y출 레이블 추가"
   ]
  },
  {
   "cell_type": "code",
   "execution_count": 9,
   "metadata": {
    "collapsed": true
   },
   "outputs": [],
   "source": [
    "from pylab import plot,show,title,xlabel,ylabel,legend\n",
    "plot(months, nyc_temp_2000, months, nyc_temp_2006, months, nyc_temp_2012)\n",
    "legend([ 2000, 2006, 2012 ])\n",
    "title('Average monthly temperature in NYC')\n",
    "xlabel('Month')\n",
    "ylabel('Temperature')\n",
    "show()"
   ]
  },
  {
   "cell_type": "markdown",
   "metadata": {},
   "source": [
    "![그림 step 7. 타이틀,레이블](./image/DoingMathWithPython.Ch02.08.png)\n",
    "\n",
    "##### Step 8. 축 조정\n",
    "\n",
    "기본적으로 축의 값은 전체 데이터의 최소값과 최대값을 그 범위로 하였습니다.\n",
    "원하는대로 축의 값을 조정하려면 `axis()`를 이용하면 됩니다.\n",
    "\n",
    "`axis()` : 현재 설정된 값을 출력해 줍니다.\n",
    "`axis(ymin = ?)` : y최소값을 원하는 값으로 설정합니다. (같은 방법으로 ymax, xmin, xmax로 가능합니다.)\n",
    "`axis([xmin, xmax, ymin, ymax])` : 4개의 숫자를 가진 `List`를 인자로 전달하여 한번에 모두 변경이 가능합니다."
   ]
  },
  {
   "cell_type": "code",
   "execution_count": 18,
   "metadata": {
    "collapsed": false
   },
   "outputs": [
    {
     "data": {
      "text/plain": [
       "(0.0, 12.0, 30.0, 80.0)"
      ]
     },
     "execution_count": 18,
     "metadata": {},
     "output_type": "execute_result"
    }
   ],
   "source": [
    "plot(months, nyc_temp_2000, months, nyc_temp_2006, months, nyc_temp_2012)\n",
    "\n",
    "from pylab import axis\n",
    "axis()"
   ]
  },
  {
   "cell_type": "code",
   "execution_count": 19,
   "metadata": {
    "collapsed": false
   },
   "outputs": [
    {
     "data": {
      "text/plain": [
       "(0.0, 12.0, 0, 80.0)"
      ]
     },
     "execution_count": 19,
     "metadata": {},
     "output_type": "execute_result"
    }
   ],
   "source": [
    "axis(ymin = 0)"
   ]
  },
  {
   "cell_type": "code",
   "execution_count": 20,
   "metadata": {
    "collapsed": true
   },
   "outputs": [],
   "source": [
    "show()"
   ]
  },
  {
   "cell_type": "markdown",
   "metadata": {},
   "source": [
    "![그림 step 8. 축조정](./image/DoingMathWithPython.Ch02.09.png)\n",
    "\n",
    "### 2. pyplot을 이용한 그래프 그리기\n",
    "\n",
    "지금껏 살펴본 `pylab`의 경우 *shell*환경에서 작업하기에 적합하지만, 비교적 규모가 있는 *Application*개발에는 `pyplot`가 더 효율적 입니다. 작업방법은 `pylab`과 거의 유사합니다."
   ]
  },
  {
   "cell_type": "code",
   "execution_count": 27,
   "metadata": {
    "collapsed": false
   },
   "outputs": [],
   "source": [
    "import matplotlib.pyplot as plt\n",
    "\n",
    "def create_graph():\n",
    "    nyc_temp_2000 = [ 31.3, 37.3, 47.2, 51.0, 63.5, 71.3, 72.3, 72.7, 66.0, 57.0, 45.3, 31.3 ]\n",
    "    nyc_temp_2006 = [ 40.0, 35.7, 43.1, 55.7, 63.1, 71.0, 77.9, 75.8, 66.6, 56.2, 51.9, 43.6 ]\n",
    "    nyc_temp_2012 = [ 37.3, 40.9, 50.9, 54.8, 65.1, 71.0, 78.8, 76.7, 68.8, 58.0, 43.9, 41.5 ]\n",
    "\n",
    "    months = range(1, 13)\n",
    "    \n",
    "    plt.plot(months, nyc_temp_2000, months, nyc_temp_2006, months, nyc_temp_2012)\n",
    "    plt.show()\n",
    "\n",
    "if __name__ == '__main__':\n",
    "    create_graph()"
   ]
  },
  {
   "cell_type": "markdown",
   "metadata": {},
   "source": [
    "![그림 2-1. pyplot를 이용한 그래프](./image/DoingMathWithPython.Ch02.10.png)\n",
    "\n",
    "`savefig('저장할 파일 경로 및 이름')` : 그래프를 그림으로 저장 (PNG, PDF,SVG등 여러가지 타입을 지원) / `pylab`, `pyplot` 모두 가능"
   ]
  },
  {
   "cell_type": "code",
   "execution_count": 31,
   "metadata": {
    "collapsed": false
   },
   "outputs": [],
   "source": [
    "import matplotlib.pyplot as plt\n",
    "\n",
    "def create_graph():\n",
    "    nyc_temp_2000 = [ 31.3, 37.3, 47.2, 51.0, 63.5, 71.3, 72.3, 72.7, 66.0, 57.0, 45.3, 31.3 ]\n",
    "    nyc_temp_2006 = [ 40.0, 35.7, 43.1, 55.7, 63.1, 71.0, 77.9, 75.8, 66.6, 56.2, 51.9, 43.6 ]\n",
    "    nyc_temp_2012 = [ 37.3, 40.9, 50.9, 54.8, 65.1, 71.0, 78.8, 76.7, 68.8, 58.0, 43.9, 41.5 ]\n",
    "\n",
    "    months = range(1, 13)\n",
    "    \n",
    "    plt.plot(months, nyc_temp_2000, months, nyc_temp_2006, months, nyc_temp_2012)\n",
    "    plt.savefig('d:/fig.png')\n",
    "\n",
    "if __name__ == '__main__':\n",
    "    create_graph()"
   ]
  },
  {
   "cell_type": "markdown",
   "metadata": {},
   "source": [
    "### 3. 수식을 이용하여 그래프 그리기\n",
    "\n",
    "#### 3.1 뉴턴의 만유인력의 법칙\n",
    "\n",
    "![그림 3-1. 만류인력의 법칙(수식)](./image/DoingMathWithPython.Ch02.equation.01.png)\n",
    "\n",
    "질량이 `m1`인 물체와 `m2`인 물체를 `F`의 힘으로 끌어당깁니다. (`G` : 중력상수, `r` : 두 물체간의 거리)\n",
    "\n",
    "질량이 `0.5kg`인 물체와 `1.5kg`인 물체 사이의 중력을 구해보겠습니다.\n",
    "거리는 19개의 구간에 대하여 구하며 100m 에서 50미터 간격으로 증가 (즉, 100m ~ 1000m)로 하며,\n",
    "중력 상수는 `6.674 * 10**-11`을 사용하겠습니다.\n",
    "\n",
    "![그림 3-2. 중력상수(수식)](./image/DoingMathWithPython.Ch02.equation.02.png)"
   ]
  },
  {
   "cell_type": "code",
   "execution_count": 33,
   "metadata": {
    "collapsed": true
   },
   "outputs": [],
   "source": [
    "import matplotlib.pyplot as plt\n",
    "\n",
    "def draw_graph(x, y):\n",
    "    plt.plot(x, y, marker='o')\n",
    "    plt.xlabel('Distance in meters')\n",
    "    plt.ylabel('Gravitational force in newtons')\n",
    "    plt.title('Gravirarional force and distance')\n",
    "    plt.show()\n",
    "    \n",
    "def generate_F_r():\n",
    "    r = range(100, 1001, 50)\n",
    "    G = 6.674 * (10**-11)\n",
    "    m1 = 0.5\n",
    "    m2 = 1.5\n",
    "    \n",
    "    F = []\n",
    "    \n",
    "    for dist in r:\n",
    "        force = G * m1 * m2 / (dist**2)\n",
    "        F.append(force)\n",
    "        \n",
    "    draw_graph(r, F)\n",
    "\n",
    "if __name__ == '__main__':\n",
    "    generate_F_r()"
   ]
  },
  {
   "cell_type": "markdown",
   "metadata": {},
   "source": [
    "![그림 3-3. 중력과 거리제곱값 간의 관계](./image/DoingMathWithPython.Ch02.11.png)\n",
    "\n",
    "#### 3.2 포물선 운동\n",
    "\n",
    "![그림 3-4. 포물선 운동](./image/DoingMathWithPython.Ch02.12.jpg)\n",
    "그림출처 : [Naver지식백과 Basic 고교생을 위한 물리 용어사전 : 포물선 운동](http://terms.naver.com/entry.nhn?docId=941198&cid=47338&categoryId=47338)\n",
    "\n",
    "한 지점에서 공을 던지게되면 포물선을 그리면서 이동하게 됩니다.\n",
    "이것을 그래프로 표현하기 위해서는 포물선 운동방적식을 이용하여 공이 지면에 도달할때 까지 공의 위치를 계산해야 합니다.\n",
    "\n",
    "공의 초기 속도를 `u`라고 하고 그때의 각도를 `θ`라고 할 경우 이 속도를 2개로 분리하여 생각할 수 있습니다.\n",
    "- x 방향 : `ux = u cosθ`\n",
    "- y 방향 : `uy = u sinθ`\n",
    "\n",
    "시간이 지날수록 속도는 변하게 됩니다. 변화된 속도를 `V`로 표시하는 경우,\n",
    "x축 방향으로는 계속 변하지 않고 동일한 속도가 유지되는데, y축 방향으로는 중력의 영향을 받아서 감소하게 됩니다.\n",
    "- x 속도 : `Vx = u cosθ`\n",
    "- y 속도 : `Vy = u singθ - gt`\n",
    "\n",
    "이동 거리(`S`)는 `속도 x 시간`이므로 아래와 같이 표현이 가능합니다.\n",
    "- x 이동거리 : `Sx = u cosθ t`\n",
    "- y 이동거리 : `Sy = u sinθ t - (1/2) gt^2`\n",
    "\n",
    "이제 포물선 운동을 표현하는데 필요한 수식은 완성이 되었습니다.\n",
    "그래프로 표현하기 위해서는 그려질 영역을 어느 정도 알아야 하는데, 그러기 위해서 공이 지면에서 얼마나 오랫동안 공중에 있는지를 계산해야 합니다.\n",
    "이를 위해서는 우선 공이 어느 시점에 지면에서 최고 지점에 위치하는지를 알아야 합니다.\n",
    "공의 수직속도 요인 (`Vy`)가 0이 되는 시점이 됩니다.\n",
    "\n",
    "![수식 3-3. Tpeak 수식](./image/DoingMathWithPython.Ch02.equation.03.png)\n",
    "\n",
    "비행시간은 그 시간동안 다시 내려와서 지면에 닿는시간 까지이므로 2배를 해주면 됩니다.\n",
    "\n",
    "![수식 3-4. Tflight 수식](./image/DoingMathWithPython.Ch02.equation.04.png)\n",
    "\n",
    "초기 속도(`u`)를 `5m/s`로 하고 각도(`θ`)를 45도로 던진경우 대입하면 아래와 다음과 같은 수식이 됩니다. (`g = 9.8`로 가정)\n",
    "\n",
    "![수식 3-5. Tflight 수식 예제](./image/DoingMathWithPython.Ch02.equation.05.png)"
   ]
  },
  {
   "cell_type": "code",
   "execution_count": 10,
   "metadata": {
    "collapsed": false
   },
   "outputs": [
    {
     "data": {
      "text/plain": [
       "0.7215375318230076"
      ]
     },
     "execution_count": 10,
     "metadata": {},
     "output_type": "execute_result"
    }
   ],
   "source": [
    "from math import sin, radians\n",
    "2 * 5 * sin(radians(45)) / 9.8"
   ]
  },
  {
   "cell_type": "markdown",
   "metadata": {},
   "source": [
    "계산을 공의 체공시간이 나옵니다.\n",
    "최대한 자주 계산할수록 더 정확한 결과가 나오므로 `0.001`초마다 해당 좌료를 계산해 보겠습니다.\n",
    "\n",
    "동일 간격으로 부동소수점 숫자를 생성해야하는데, 정수 간격은 `range()`를 이용해서 바로 생성이 가능하지만, 부동소수점을 만들어주는 내장 함수가 없으므로 직접 생성해야 합니다."
   ]
  },
  {
   "cell_type": "code",
   "execution_count": 12,
   "metadata": {
    "collapsed": false
   },
   "outputs": [
    {
     "name": "stdout",
     "output_type": "stream",
     "text": [
      "Enter the initial velocity(m/s): 5\n",
      "Enter the angle of projection (degrees): 45\n",
      "Enter the time intervals to draw points (s): 0.001\n"
     ]
    }
   ],
   "source": [
    "from matplotlib import pyplot as plt\n",
    "from math import sin, cos, radians\n",
    "\n",
    "def frange(start, end, step): #부동소수점 배열 생성\n",
    "    numbers = []\n",
    "    while start < end:\n",
    "        numbers.append(start)\n",
    "        start += step\n",
    "    return numbers\n",
    "\n",
    "def draw_graph(x, y):\n",
    "    plt.plot(x, y)\n",
    "    plt.xlabel('x-coordinate')\n",
    "    plt.ylabel('y-coordinate')\n",
    "    plt.title('Projectile motion of a ball')\n",
    "\n",
    "def draw_trajectory(u, theta, interval):\n",
    "    theta = radians(theta)\n",
    "    g = 9.8\n",
    "    \n",
    "    t_flight = 2 * u * math.sin(theta) / g #체공시간\n",
    "    \n",
    "    intervals = frange(0, t_flight,interval)\n",
    "    \n",
    "    x = []\n",
    "    y = []\n",
    "    \n",
    "    for t in intervals:\n",
    "        x.append(u*cos(theta)*t)\n",
    "        y.append(u*sin(theta)*t - 0.5*g*t*t)\n",
    "        \n",
    "    draw_graph(x,y)\n",
    "    \n",
    "if __name__ == '__main__':\n",
    "    try:\n",
    "        u = float(input('Enter the initial velocity(m/s): '))\n",
    "        theta = float(input('Enter the angle of projection (degrees): '))\n",
    "        interval = float(input('Enter the time intervals to draw points (s): '))\n",
    "    except ValueError:\n",
    "        print('You Entered an invalid input')\n",
    "    else:\n",
    "        draw_trajectory(u, theta, interval)\n",
    "        plt.show()"
   ]
  },
  {
   "cell_type": "markdown",
   "metadata": {},
   "source": [
    "![그림 3-4. 포물선 운동](./image/DoingMathWithPython.Ch02.12.png)\n",
    "\n",
    "만약 서로 다른 속도로 던진 공들에 대한 궤적을 비교하고 싶으면 어떻게 해야 할까요 ?"
   ]
  },
  {
   "cell_type": "code",
   "execution_count": 14,
   "metadata": {
    "collapsed": false
   },
   "outputs": [],
   "source": [
    "if __name__ == '__main__':\n",
    "    u_list = [20, 40, 60]\n",
    "    theta = 45\n",
    "    interval = 0.01\n",
    "    \n",
    "    for u in u_list:\n",
    "        draw_trajectory(u, theta, interval)\n",
    "    \n",
    "    plt.legend(['20','40','60'])\n",
    "    plt.show()"
   ]
  },
  {
   "cell_type": "markdown",
   "metadata": {},
   "source": [
    "![그림 3-5. 3개의 포물선 운동](./image/DoingMathWithPython.Ch02.13.png)\n",
    "\n",
    "## 프로그래밍 연습\n",
    "\n",
    "### 1. 낮 동안 온도는 어떻게 변화하는가 ?\n",
    "\n",
    "다른 2개의 도시에 대해서 낮 온도의변화를 표시한 그래프를 작성하세요."
   ]
  },
  {
   "cell_type": "code",
   "execution_count": 13,
   "metadata": {
    "collapsed": false
   },
   "outputs": [],
   "source": [
    "from matplotlib import pyplot as plt\n",
    "seoul_temp = [ 24, 23, 21, 23, 25, 27, 27, 25 ]\n",
    "taegu_temp = [ 23, 22, 22, 25, 27, 28, 28, 26 ]\n",
    "hours = range(2, 24, 3)\n",
    "\n",
    "plt.plot(hours,seoul_temp, hours, taegu_temp, marker='o')\n",
    "plt.legend(['Seoul', 'Taegu'], loc = 2)\n",
    "plt.xlabel('Hours')\n",
    "plt.ylabel('Temperature')\n",
    "plt.axis([0, 24, 20, 30])\n",
    "\n",
    "plt.show()"
   ]
  },
  {
   "cell_type": "markdown",
   "metadata": {},
   "source": [
    "![그림 문제1](./image/DoingMathWithPython.Ch02.14.png)\n",
    "\n",
    "### 2. 이차방정식을 그림으로 탐색해보기\n",
    "\n",
    "> y = x**2 + 2*x + 1\n",
    "\n",
    "위 방적식에서 x에 10개의 값을 대입하여 `(x,y)`를 화면에 출력하세요.\n",
    "그 과정에서 해 (`y = 0 이되는 값`)를 찾고 그래프의 변동 패턴이 선형인지 비선형인지를 분석하세요."
   ]
  },
  {
   "cell_type": "code",
   "execution_count": 16,
   "metadata": {
    "collapsed": false
   },
   "outputs": [
    {
     "name": "stdout",
     "output_type": "stream",
     "text": [
      "[16, 9, 4, 1, 0, 1, 4, 9, 16, 25, 36]\n"
     ]
    }
   ],
   "source": [
    "x = list(range(-5, 6))\n",
    "y = list(map(lambda x : x**2 + 2*x + 1, x))\n",
    "print(y)\n",
    "\n",
    "from matplotlib import pyplot as plt\n",
    "plt.plot(x, y, marker='o')\n",
    "plt.show()"
   ]
  },
  {
   "cell_type": "markdown",
   "metadata": {},
   "source": [
    "![그림 문제2](./image/DoingMathWithPython.Ch02.15.png)\n",
    "\n",
    "### 3. 투척 궤적 비교 프로그램 개선\n",
    "\n",
    "#### 3.1 속도, 투척각도를 입력받아서 체공시간, 최대 수평이동거리, 최대 수직이동거리를 계산하여 출력"
   ]
  },
  {
   "cell_type": "code",
   "execution_count": 1,
   "metadata": {
    "collapsed": false,
    "scrolled": true
   },
   "outputs": [
    {
     "name": "stdout",
     "output_type": "stream",
     "text": [
      "Input u :70\n",
      "Input theta :37.5\n",
      "Duration Of Flight :  70.0 s\n",
      "The Maximum horizontal distance traveled :  482.9629131445341 m\n",
      "The Maximum vertical distance traveled :  92.64761936218493 m\n"
     ]
    }
   ],
   "source": [
    "from math import sin, cos, radians\n",
    "\n",
    "def GetParabolicMovement(u, theta):\n",
    "    g = 9.8\n",
    "    theta = radians(theta)\n",
    "    durationOfFlight = 2 * u * sin(theta) / 9.8\n",
    "    horizontalDistance = u * cos(theta) * durationOfFlight\n",
    "    \n",
    "    t = durationOfFlight / 2\n",
    "    verticalDistance = u * sin(theta) * t - g / 2 * t**2\n",
    "    \n",
    "    return durationOfFlight, horizontalDistance, verticalDistance\n",
    "\n",
    "if __name__ == '__main__':\n",
    "    u = float(input('Input u :'))\n",
    "    theta = float(input('Input theta :'))\n",
    "    t, h, v = GetParabolicMovement(u, theta)\n",
    "    print('Duration Of Flight : ', u, 's')\n",
    "    print('The Maximum horizontal distance traveled : ', h, 'm')\n",
    "    print('The Maximum vertical distance traveled : ', v, 'm')"
   ]
  },
  {
   "cell_type": "markdown",
   "metadata": {},
   "source": [
    "#### 3.2 여러개의 속도, 투척각도를 입력받아서 그래프로 출력하세요."
   ]
  },
  {
   "cell_type": "code",
   "execution_count": 1,
   "metadata": {
    "collapsed": false
   },
   "outputs": [
    {
     "name": "stdout",
     "output_type": "stream",
     "text": [
      "How many trajectories ? 4\n",
      "Enter the initial velocity for trajectory 1(m/s) :6\n",
      "Enter the angle of projection for trajectory 1(degrees) :20\n",
      "Enter the initial velocity for trajectory 2(m/s) :10\n",
      "Enter the angle of projection for trajectory 2(degrees) :45\n",
      "Enter the initial velocity for trajectory 3(m/s) :8\n",
      "Enter the angle of projection for trajectory 3(degrees) :60\n",
      "Enter the initial velocity for trajectory 4(m/s) :15\n",
      "Enter the angle of projection for trajectory 4(degrees) :15\n"
     ]
    }
   ],
   "source": [
    "from matplotlib import pyplot as plt\n",
    "from math import sin, cos, radians\n",
    "\n",
    "def frange(start, end, step): #부동소수점 배열 생성\n",
    "    numbers = []\n",
    "    while start < end:\n",
    "        numbers.append(start)\n",
    "        start += step\n",
    "    return numbers\n",
    "\n",
    "def draw_graph(x, y):\n",
    "    plt.plot(x, y)\n",
    "    plt.xlabel('x-coordinate')\n",
    "    plt.ylabel('y-coordinate')\n",
    "    plt.title('Projectile motion of a ball')\n",
    "\n",
    "def draw_trajectory(u, theta, interval):\n",
    "    theta = radians(theta)\n",
    "    g = 9.8\n",
    "    \n",
    "    t_flight = 2 * u * sin(theta) / g #체공시간\n",
    "    \n",
    "    intervals = frange(0, t_flight,interval)\n",
    "    \n",
    "    x = []\n",
    "    y = []\n",
    "    \n",
    "    for t in intervals:\n",
    "        x.append(u*cos(theta)*t)\n",
    "        y.append(u*sin(theta)*t - 0.5*g*t*t)\n",
    "        \n",
    "    draw_graph(x,y)\n",
    "    \n",
    "if __name__ == '__main__':\n",
    "    interval = 0.01\n",
    "    num = int(input('How many trajectories ? '))\n",
    "    u = []\n",
    "    theta = []\n",
    "    for i in range(1,num+1):\n",
    "        ue = float(input('Enter the initial velocity for trajectory ' + str(i) + '(m/s) :'))\n",
    "        te = float(input('Enter the angle of projection for trajectory ' + str(i) + '(degrees) :'))\n",
    "        draw_trajectory(ue, te, interval)\n",
    "    \n",
    "    plt.legend(list(range(1, num+1)))\n",
    "    plt.show()"
   ]
  },
  {
   "cell_type": "markdown",
   "metadata": {
    "collapsed": true
   },
   "source": [
    "![그림 문제3](./image/DoingMathWithPython.Ch02.16.png)\n",
    "\n",
    "#### 수평막대 차트 예제"
   ]
  },
  {
   "cell_type": "code",
   "execution_count": 6,
   "metadata": {
    "collapsed": false
   },
   "outputs": [],
   "source": [
    "import matplotlib.pyplot as plt\n",
    "\n",
    "def create_bar_chart(data, labels):\n",
    "    num_bars = len(data)\n",
    "    positions = range (1, num_bars+1)\n",
    "    plt.barh(positions, data, align='center')\n",
    "    plt.yticks(positions, labels)\n",
    "    plt.xlabel('Steps')\n",
    "    plt.ylabel('Day')\n",
    "    plt.title('Number of steps walked')\n",
    "    plt.grid()\n",
    "    plt.show()\n",
    "\n",
    "if __name__ == '__main__':\n",
    "    steps = [6534, 7000, 8900, 10786, 3467, 11045, 5059]\n",
    "    labels = ['Sun', 'Mon', 'Tue', 'Wed', 'Thu', 'Fri', 'Sat']\n",
    "    create_bar_chart(steps, labels)"
   ]
  },
  {
   "cell_type": "markdown",
   "metadata": {},
   "source": [
    "![그림 수평막대 예제](./image/DoingMathWithPython.Ch02.17.png)\n",
    "\n",
    "#### 4. 비용 가시화\n",
    "\n",
    "각 항목별 사용금액을 입력받아서 막대차트로 표시하세요."
   ]
  },
  {
   "cell_type": "code",
   "execution_count": 5,
   "metadata": {
    "collapsed": false
   },
   "outputs": [
    {
     "name": "stdout",
     "output_type": "stream",
     "text": [
      "Enter the number of categories : 4\n",
      "Enter category : Food\n",
      "Expenditure : 70\n",
      "Enter category : Transportation\n",
      "Expenditure : 35\n",
      "Enter category : Entertainment\n",
      "Expenditure : 30\n",
      "Enter category : Phone\n",
      "Expenditure : 40\n"
     ]
    }
   ],
   "source": [
    "import matplotlib.pyplot as plt\n",
    "\n",
    "def create_bar_chart(amounts, labels):\n",
    "    num_bars = len(amounts)\n",
    "    positions = range (1, num_bars+1)\n",
    "    plt.barh(positions, amounts, align='center')\n",
    "    plt.yticks(positions, labels)\n",
    "    plt.xlabel('Amount')\n",
    "    plt.ylabel('Categories')\n",
    "    plt.title('Weekly expenditures')\n",
    "    plt.grid()\n",
    "    plt.show()\n",
    "\n",
    "if __name__ == '__main__':\n",
    "    num = int(input('Enter the number of categories : '))\n",
    "    \n",
    "    amounts = []\n",
    "    labels = []\n",
    "    for i in range(0,num):\n",
    "        labels.append(input('Enter category : '))\n",
    "        amounts.append(int(input('Expenditure : ')))\n",
    "        \n",
    "    create_bar_chart(amounts, labels)"
   ]
  },
  {
   "cell_type": "markdown",
   "metadata": {},
   "source": [
    "![그림 문제 4](./image/DoingMathWithPython.Ch02.18.png)\n",
    "\n",
    "#### 5. 피보나치 순열과 황금비 간의 관계 탐색\n",
    "\n",
    "피보나치 순열은 수치적으로 황금비(1.61803398...)을 가진 숫자의 집합입니다.\n",
    "100개의 피보나치 숫자 간의 비를 그래프상에 그리세요."
   ]
  },
  {
   "cell_type": "code",
   "execution_count": null,
   "metadata": {
    "collapsed": false
   },
   "outputs": [],
   "source": [
    "import matplotlib.pyplot as plt\n",
    "\n",
    "def FibonacciSeries(n):\n",
    "    series = []\n",
    "    current = 1\n",
    "    if n < 1:\n",
    "        return series\n",
    "    else:\n",
    "        series.append(1)\n",
    "    \n",
    "    if n >= 2:\n",
    "        series.append(1)\n",
    "    \n",
    "    if n > 2:\n",
    "        for i in range(2,n):\n",
    "            current = series[i-1] + series[i-2]\n",
    "            series.append(current)\n",
    "            \n",
    "    return series\n",
    "\n",
    "def ratioOfFront(series):\n",
    "    ratio = []\n",
    "    for i in range(1,len(series)):\n",
    "        ratio.append(series[i] / series[i-1])\n",
    "    return ratio\n",
    "\n",
    "def draw_graph(series):\n",
    "    plt.plot(series)\n",
    "    plt.ylabel('Ratio')\n",
    "    plt.title('Ratio between consecutive Fibonacci numbers')\n",
    "    plt.show()\n",
    "    \n",
    "if __name__ == '__main__':\n",
    "    draw_graph(ratioOfFront(FibonacciSeries(100)))          "
   ]
  },
  {
   "cell_type": "markdown",
   "metadata": {
    "collapsed": true
   },
   "source": [
    "![그림 문제 5](./image/DoingMathWithPython.Ch02.19.png)"
   ]
  }
 ],
 "metadata": {
  "anaconda-cloud": {},
  "kernelspec": {
   "display_name": "Python 3",
   "language": "python",
   "name": "python3"
  },
  "language_info": {
   "codemirror_mode": {
    "name": "ipython",
    "version": 3
   },
   "file_extension": ".py",
   "mimetype": "text/x-python",
   "name": "python",
   "nbconvert_exporter": "python",
   "pygments_lexer": "ipython3",
   "version": "3.5.2"
  }
 },
 "nbformat": 4,
 "nbformat_minor": 0
}
