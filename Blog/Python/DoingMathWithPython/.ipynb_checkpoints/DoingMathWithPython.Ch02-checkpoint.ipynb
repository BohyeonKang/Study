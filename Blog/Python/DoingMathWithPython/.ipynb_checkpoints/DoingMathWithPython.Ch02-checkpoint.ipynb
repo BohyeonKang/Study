{
 "cells": [
  {
   "cell_type": "markdown",
   "metadata": {},
   "source": [
    "# 파이썬으로 풀어보는 수학\n",
    "\n",
    "## 2장 그래프로 데이터 가시화\n",
    "\n",
    "#### 카르테지안 좌표평면 (Cartesian coordinate plane)\n",
    "수평선 값은 x축, 수직선 값은 y축 으로 부르는 좌표 평면 (통상적으로 많이 사용하는 2차원을 표현하는 좌표계)\n",
    "\n",
    "이번 장에서의 진행을 위해서는 `matplotlib`를 설치행 합니다.\n",
    "```\n",
    "pip install matplotlib-venn\n",
    "```\n",
    "\n",
    "### 1. 맷플롭립을 이용한 그래프 생성\n",
    "\n",
    "##### step 1. X,Y 좌료를 이용하여 Show()\n",
    "\n",
    "`plot()`에 인자로 X좌표들의 List, Y좌표들의 List를 차례대로 넣으면 `matplotlib.lines.Line2D` 라는 객체가 생성됩니다.\n",
    "그런 다음에 `Show()`를 실행하면 팝업으로 그래프가 출력됩니다.\n",
    "`Save`버튼을 눌러서 그림으로 저장이 가능합니다."
   ]
  },
  {
   "cell_type": "code",
   "execution_count": 3,
   "metadata": {
    "collapsed": false
   },
   "outputs": [],
   "source": [
    "x_numbers = [ 1, 2, 3 ]\n",
    "y_numbers = [ 2, 4, 5 ]\n",
    "\n",
    "from pylab import plot, show\n",
    "plot(x_numbers, y_numbers)\n",
    "show()"
   ]
  },
  {
   "cell_type": "markdown",
   "metadata": {},
   "source": [
    "![그림 step 1. 결과](./image/DoingMathWithPython.Ch02.01.png)\n",
    "\n",
    "##### step 2. Marker 표시\n",
    "\n",
    "그래프의 각 포인터에 마커를 표시하고 싶은 경우 세번째 인자로 `marker='o'`를 넣어주면 됩니다. ( `o`, `*`, `x`, `+` 등 여러가지가 있습니다.)"
   ]
  },
  {
   "cell_type": "code",
   "execution_count": 4,
   "metadata": {
    "collapsed": true
   },
   "outputs": [],
   "source": [
    "plot(x_numbers, y_numbers, marker='o')\n",
    "show()"
   ]
  },
  {
   "cell_type": "markdown",
   "metadata": {},
   "source": [
    "![그림 step 2. 결과](./image/DoingMathWithPython.Ch02.02.png)\n",
    "\n",
    "##### Step 3. Line 지우기\n",
    "\n",
    "세번째 인자에 `marker=`를 지우고 표시하고픈 마커만을 입력한 경우에는 선이 없이 마커만 출력됩니다."
   ]
  },
  {
   "cell_type": "code",
   "execution_count": 5,
   "metadata": {
    "collapsed": true
   },
   "outputs": [],
   "source": [
    "plot(x_numbers, y_numbers, '*')\n",
    "show()"
   ]
  },
  {
   "cell_type": "markdown",
   "metadata": {},
   "source": [
    "![그림 step 3. 결과](./image/DoingMathWithPython.Ch02.03.png)\n",
    "\n",
    "##### Step 4. 뉴욕시의  연간 평균온도 표시 (X축값을 주지 않고 출력)\n",
    "\n",
    "이제는 예제 데이터가 아닌 실제 데이터를 가지고 작성해 보겠습니다.\n",
    "뉴욕시의 2000년에서 2012년까지의 평균온도(화시)를 표시해보겠습니다."
   ]
  },
  {
   "cell_type": "code",
   "execution_count": 7,
   "metadata": {
    "collapsed": false
   },
   "outputs": [],
   "source": [
    "nyc_temp = [ 53.9, 56.3, 56.4, 53.4, 54.5, 55.8, 56.8, 55.0, 55.3, 54.0, 56.7, 56.4, 57.3 ]\n",
    "plot(nyc_temp, marker='o')\n",
    "show()"
   ]
  },
  {
   "cell_type": "markdown",
   "metadata": {},
   "source": [
    "![그림 step 4. 결과](./image/DoingMathWithPython.Ch02.04.png)\n",
    "\n",
    "Y축의 값의 경우 0에서부터 시작을 한 것이 아니라 입력된 값의 최소값(53.4)에서 최고값(57.3)을 기준으로 표시된 것을 확인 할 수 있습니다.\n",
    "X축의 값을 따로 주지 않은 경우 0부터 차례대로 번호가 매겨집니다.\n",
    "\n",
    "X축 값을 2000 ~ 2012으로 주겠습니다."
   ]
  },
  {
   "cell_type": "code",
   "execution_count": 14,
   "metadata": {
    "collapsed": true
   },
   "outputs": [],
   "source": [
    "years = range(2000, 2013)\n",
    "plot(years, nyc_temp, marker='o')\n",
    "show()"
   ]
  },
  {
   "cell_type": "markdown",
   "metadata": {},
   "source": [
    "![그림 step 4. X축포함 결과](./image/DoingMathWithPython.Ch02.05.png)\n",
    "\n",
    "##### Step 5. 뉴욕시의 월간 온도 비교 (한 그래프에 여러개의 시리즈 출력)\n",
    "\n",
    "3개의 연도(2000, 2006, 2012)에 대해서 12개월에 대한 평균온도를 그래프로 표시해 보겠습니다."
   ]
  },
  {
   "cell_type": "code",
   "execution_count": 27,
   "metadata": {
    "collapsed": true
   },
   "outputs": [],
   "source": [
    "nyc_temp_2000 = [ 31.3, 37.3, 47.2, 51.0, 63.5, 71.3, 72.3, 72.7, 66.0, 57.0, 45.3, 31.3 ]\n",
    "nyc_temp_2006 = [ 40.0, 35.7, 43.1, 55.7, 63.1, 71.0, 77.9, 75.8, 66.6, 56.2, 51.9, 43.6 ]\n",
    "nyc_temp_2012 = [ 37.3, 40.9, 50.9, 54.8, 65.1, 71.0, 78.8, 76.7, 68.8, 58.0, 43.9, 41.5 ]\n",
    "\n",
    "months = range(1, 13)\n",
    "\n",
    "plot(months, nyc_temp_2000, months, nyc_temp_2006, months, nyc_temp_2012)\n",
    "show()"
   ]
  },
  {
   "cell_type": "markdown",
   "metadata": {},
   "source": [
    "![그림 step 5. 3개의 시리즈](./image/DoingMathWithPython.Ch02.06.png)\n",
    "\n",
    "3개의 시리즈가 하나의 그래프에 출력이 되었습니다.\n",
    "각 시리즈별 라인의 색상은 특별히 신경쓰지 않아도 구분이 가능하도록 자동으로 설정되어 있습니다.\n",
    "\n",
    "##### Step 6. 범주(Legend) 출력\n",
    "\n",
    "한 그래프에 시리즈가 여러개일 경우 각각의 시리즈가 무엇을 의미하는지 범주를 추가해 주면 좀 더 알아보기 쉽습니다.\n",
    "`legend()`에 각 시리즈별 명칭을 List로 전달하면 화면에 출력됩니다. 두번째 인자로 범주가 출력될 위치를 설정할 수 있습니다. 기본적으로는 우측상단에 출력되는데 `best`로 설정할 경우에는 그래프를 보는데 방해되지 않도록 적당한 위치에 알아서 위치시켜 줍니다."
   ]
  },
  {
   "cell_type": "code",
   "execution_count": 28,
   "metadata": {
    "collapsed": true
   },
   "outputs": [],
   "source": [
    "from pylab import legend\n",
    "plot(months, nyc_temp_2000, months, nyc_temp_2006, months, nyc_temp_2012)\n",
    "legend([ 2000, 2006, 2012 ])\n",
    "show()"
   ]
  },
  {
   "cell_type": "markdown",
   "metadata": {},
   "source": [
    "![그림 step 6. 범주출력](./image/DoingMathWithPython.Ch02.07.png)\n",
    "\n",
    "범주를 넣으니 각각의 색깔별 시리즈가 무엇을 의미하는지 확인이 가능해졌습니다.\n",
    "가장 온도가 높은 7월의 경우를 보니 계속해서 증가하고 있는 것을 확인할 수 있습니다.\n",
    "\n"
   ]
  }
 ],
 "metadata": {
  "anaconda-cloud": {},
  "kernelspec": {
   "display_name": "Python [Root]",
   "language": "python",
   "name": "Python [Root]"
  },
  "language_info": {
   "codemirror_mode": {
    "name": "ipython",
    "version": 3
   },
   "file_extension": ".py",
   "mimetype": "text/x-python",
   "name": "python",
   "nbconvert_exporter": "python",
   "pygments_lexer": "ipython3",
   "version": "3.5.2"
  }
 },
 "nbformat": 4,
 "nbformat_minor": 0
}
