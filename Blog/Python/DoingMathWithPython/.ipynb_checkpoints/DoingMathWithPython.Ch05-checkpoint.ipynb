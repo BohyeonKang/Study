{
 "cells": [
  {
   "cell_type": "markdown",
   "metadata": {},
   "source": [
    "# 파이썬으로 풀어보는 수학\n",
    "\n",
    "## 5장 집합과 확률\n",
    "\n",
    "### 1. 집합은 무엇인가 ?\n",
    "\n",
    "집합(set)은 개별 객체의 모음(collection)입니다.\n",
    "통상 객체를 원소(element)나 구성원(member)라고 부릅니다.\n",
    "집합과 모음의 다른점으로는 집합은 동일한 2개의 원소를 가질 수 없습니다.\n",
    "\n",
    "`SymPy`를 사용해 파이썬에서 집합으로 작업하는 방법에 대해서 살펴보겠습니다.\n",
    "\n",
    "### 2. 집합 생성\n",
    "\n",
    "수학기호로 집합을 표현할 때는 `{ 2, 4, 6 }`와 같이 중괄호를 사용합니다.\n",
    "파이썬에서는 `FiniteSet` 클래스를 사용하여 표현할 수 있습니다."
   ]
  },
  {
   "cell_type": "code",
   "execution_count": 3,
   "metadata": {
    "collapsed": false
   },
   "outputs": [
    {
     "data": {
      "text/plain": [
       "{2, 4, 6}"
      ]
     },
     "execution_count": 3,
     "metadata": {},
     "output_type": "execute_result"
    }
   ],
   "source": [
    "from sympy import FiniteSet\n",
    "\n",
    "s = FiniteSet(2, 4, 6)\n",
    "s"
   ]
  },
  {
   "cell_type": "code",
   "execution_count": 4,
   "metadata": {
    "collapsed": false
   },
   "outputs": [
    {
     "data": {
      "text/plain": [
       "sympy.sets.sets.FiniteSet"
      ]
     },
     "execution_count": 4,
     "metadata": {},
     "output_type": "execute_result"
    }
   ],
   "source": [
    "type(s)"
   ]
  },
  {
   "cell_type": "markdown",
   "metadata": {},
   "source": [
    "동일한 집합에 정수, 분수, 부동소수점수를 같이 저장할 수도 있습니다."
   ]
  },
  {
   "cell_type": "code",
   "execution_count": 6,
   "metadata": {
    "collapsed": false
   },
   "outputs": [
    {
     "data": {
      "text/plain": [
       "{1/5, 1, 1.5}"
      ]
     },
     "execution_count": 6,
     "metadata": {},
     "output_type": "execute_result"
    }
   ],
   "source": [
    "from fractions import Fraction\n",
    "\n",
    "FiniteSet(1, 1.5, Fraction(1,5))"
   ]
  },
  {
   "cell_type": "markdown",
   "metadata": {},
   "source": [
    "`카디널리티(cardinality)`란 집합의 구성원 수를 의미합니다.\n",
    "`len()`함수를 이용해 계산이 가능합니다."
   ]
  },
  {
   "cell_type": "code",
   "execution_count": 7,
   "metadata": {
    "collapsed": false
   },
   "outputs": [
    {
     "data": {
      "text/plain": [
       "3"
      ]
     },
     "execution_count": 7,
     "metadata": {},
     "output_type": "execute_result"
    }
   ],
   "source": [
    "len(s)"
   ]
  },
  {
   "cell_type": "markdown",
   "metadata": {},
   "source": [
    "`대상 집합에 숫자가 존재하는지 여부`는 `in`연산자를 사용해 알 수 있습니다."
   ]
  },
  {
   "cell_type": "code",
   "execution_count": 8,
   "metadata": {
    "collapsed": false
   },
   "outputs": [
    {
     "data": {
      "text/plain": [
       "False"
      ]
     },
     "execution_count": 8,
     "metadata": {},
     "output_type": "execute_result"
    }
   ],
   "source": [
    "3 in s"
   ]
  },
  {
   "cell_type": "code",
   "execution_count": 9,
   "metadata": {
    "collapsed": false
   },
   "outputs": [
    {
     "data": {
      "text/plain": [
       "True"
      ]
     },
     "execution_count": 9,
     "metadata": {},
     "output_type": "execute_result"
    }
   ],
   "source": [
    "4 in s"
   ]
  },
  {
   "cell_type": "markdown",
   "metadata": {},
   "source": [
    "`공집합(empty set)`을 생성하기 위해서는 인자가 없이 생성하면 됩니다."
   ]
  },
  {
   "cell_type": "code",
   "execution_count": 10,
   "metadata": {
    "collapsed": false
   },
   "outputs": [
    {
     "data": {
      "text/plain": [
       "EmptySet()"
      ]
     },
     "execution_count": 10,
     "metadata": {},
     "output_type": "execute_result"
    }
   ],
   "source": [
    "FiniteSet()"
   ]
  },
  {
   "cell_type": "markdown",
   "metadata": {},
   "source": [
    "`리스트`나 `튜플`을 인자로 전달해서 집합을 생성할 수도 있습니다."
   ]
  },
  {
   "cell_type": "code",
   "execution_count": 12,
   "metadata": {
    "collapsed": false
   },
   "outputs": [
    {
     "data": {
      "text/plain": [
       "{1, 2, 3}"
      ]
     },
     "execution_count": 12,
     "metadata": {},
     "output_type": "execute_result"
    }
   ],
   "source": [
    "members = [1, 2, 3]\n",
    "FiniteSet(*members)"
   ]
  },
  {
   "cell_type": "markdown",
   "metadata": {},
   "source": [
    "앞서 언급했듯이 집합 내에는 중복된 값을 허용하지 않습니다.\n",
    "같은 값을 여러번 넣어도 한 번만 추가되고 나머지는 모두 무시됩니다."
   ]
  },
  {
   "cell_type": "code",
   "execution_count": 16,
   "metadata": {
    "collapsed": false
   },
   "outputs": [
    {
     "data": {
      "text/plain": [
       "{1, 2, 3}"
      ]
     },
     "execution_count": 16,
     "metadata": {},
     "output_type": "execute_result"
    }
   ],
   "source": [
    "s = FiniteSet(1, 3, 2, 3)\n",
    "s"
   ]
  },
  {
   "cell_type": "markdown",
   "metadata": {},
   "source": [
    "그리고, 입력 순서와 저장되는 순서는 무관합니다.\n",
    "집합 내의 구성원에 대한 순서는 별도로 저장하고 있지 않기 때문입니다."
   ]
  },
  {
   "cell_type": "code",
   "execution_count": 18,
   "metadata": {
    "collapsed": false
   },
   "outputs": [
    {
     "name": "stdout",
     "output_type": "stream",
     "text": [
      "1\n",
      "2\n",
      "3\n"
     ]
    }
   ],
   "source": [
    "for m in s:\n",
    "    print(m)"
   ]
  },
  {
   "cell_type": "markdown",
   "metadata": {},
   "source": [
    "두 집합의 구성원이 서로 다른 순서로 저장되더라도, 모든 요소들이 같다면 두 집합은 같은 집합으로 취급합니다."
   ]
  },
  {
   "cell_type": "code",
   "execution_count": 19,
   "metadata": {
    "collapsed": false
   },
   "outputs": [
    {
     "data": {
      "text/plain": [
       "True"
      ]
     },
     "execution_count": 19,
     "metadata": {},
     "output_type": "execute_result"
    }
   ],
   "source": [
    "s = FiniteSet(3, 5, 7)\n",
    "t = FiniteSet(5, 7, 3)\n",
    "s == t"
   ]
  },
  {
   "cell_type": "markdown",
   "metadata": {},
   "source": [
    "###  3. 부분집합, 초집합, 파워집합\n",
    "\n",
    "집합 s의 모든 구성원이 집합 t의 구성원일 경우 s는 t의 `부분집합(subset)`이라고 정의합니다.\n",
    "파이썬에서는 `is_subset()` 함수를 사용해서 확인이 가능합니다."
   ]
  },
  {
   "cell_type": "code",
   "execution_count": 20,
   "metadata": {
    "collapsed": false
   },
   "outputs": [
    {
     "data": {
      "text/plain": [
       "True"
      ]
     },
     "execution_count": 20,
     "metadata": {},
     "output_type": "execute_result"
    }
   ],
   "source": [
    "s = FiniteSet(1)\n",
    "t = FiniteSet(1, 2)\n",
    "\n",
    "s.is_subset(t)"
   ]
  },
  {
   "cell_type": "code",
   "execution_count": 21,
   "metadata": {
    "collapsed": false
   },
   "outputs": [
    {
     "data": {
      "text/plain": [
       "False"
      ]
     },
     "execution_count": 21,
     "metadata": {},
     "output_type": "execute_result"
    }
   ],
   "source": [
    "t.is_subset(s)"
   ]
  },
  {
   "cell_type": "code",
   "execution_count": 22,
   "metadata": {
    "collapsed": false
   },
   "outputs": [
    {
     "data": {
      "text/plain": [
       "True"
      ]
     },
     "execution_count": 22,
     "metadata": {},
     "output_type": "execute_result"
    }
   ],
   "source": [
    "s.is_subset(s)"
   ]
  },
  {
   "cell_type": "markdown",
   "metadata": {},
   "source": [
    "공집합은 모든 집합의 부분집합이며, 모든 집합은 자기 자신이 부분집합입니다.\n",
    "\n",
    "`초집합(superset)`은 부분집합의 반대 개념으로 집합t가 집합s의 모든 구성원을 포함할 경우 집합t는 집합s의 초집합이라고 부릅니다.\n",
    "파이썬에서는 `is_superset()` 함수를 사용해서 확인이 가능합니다."
   ]
  },
  {
   "cell_type": "code",
   "execution_count": 23,
   "metadata": {
    "collapsed": false
   },
   "outputs": [
    {
     "data": {
      "text/plain": [
       "False"
      ]
     },
     "execution_count": 23,
     "metadata": {},
     "output_type": "execute_result"
    }
   ],
   "source": [
    "s.is_superset(t)"
   ]
  },
  {
   "cell_type": "code",
   "execution_count": 24,
   "metadata": {
    "collapsed": false
   },
   "outputs": [
    {
     "data": {
      "text/plain": [
       "True"
      ]
     },
     "execution_count": 24,
     "metadata": {},
     "output_type": "execute_result"
    }
   ],
   "source": [
    "t.is_superset(s)"
   ]
  },
  {
   "cell_type": "code",
   "execution_count": 25,
   "metadata": {
    "collapsed": false
   },
   "outputs": [
    {
     "data": {
      "text/plain": [
       "True"
      ]
     },
     "execution_count": 25,
     "metadata": {},
     "output_type": "execute_result"
    }
   ],
   "source": [
    "s.is_superset(s)"
   ]
  },
  {
   "cell_type": "markdown",
   "metadata": {},
   "source": [
    "`파워집합(powerset)`은 모든 가능한 부분집합입니다.\n",
    "모든 집합은 `2 ** cadinality` 만큼의 부분집합을 가집니다. (공집합, 자기자신을 포함)\n",
    "파이썬에서는 `powerset()` 함수를 사용해 찾아낼 수 있습니다."
   ]
  },
  {
   "cell_type": "code",
   "execution_count": 26,
   "metadata": {
    "collapsed": false
   },
   "outputs": [
    {
     "data": {
      "text/plain": [
       "{EmptySet(), {1}, {2}, {3}, {1, 2}, {1, 3}, {2, 3}, {1, 2, 3}}"
      ]
     },
     "execution_count": 26,
     "metadata": {},
     "output_type": "execute_result"
    }
   ],
   "source": [
    "s = FiniteSet(1, 2, 3)\n",
    "ps = s.powerset()\n",
    "ps"
   ]
  },
  {
   "cell_type": "code",
   "execution_count": 27,
   "metadata": {
    "collapsed": false
   },
   "outputs": [
    {
     "data": {
      "text/plain": [
       "8"
      ]
     },
     "execution_count": 27,
     "metadata": {},
     "output_type": "execute_result"
    }
   ],
   "source": [
    "len(ps)"
   ]
  },
  {
   "cell_type": "markdown",
   "metadata": {},
   "source": [
    "동일하지 않은 집합t와 집합s가 있을 경우,\n",
    "집합s가 집합t의 부분 집합일 경우 집합t는 집합s의 초집합이라고 할 수 있습니다.\n",
    "`is_proper_subset()` , `is_proper_superset()` 함수를 사용해서 부분집합, 초집합 관계를 확인 할 수 있습니다."
   ]
  },
  {
   "cell_type": "code",
   "execution_count": 28,
   "metadata": {
    "collapsed": false
   },
   "outputs": [
    {
     "data": {
      "text/plain": [
       "True"
      ]
     },
     "execution_count": 28,
     "metadata": {},
     "output_type": "execute_result"
    }
   ],
   "source": [
    "t = FiniteSet(1, 2, 3, 5)\n",
    "s.is_proper_subset(t)"
   ]
  },
  {
   "cell_type": "code",
   "execution_count": 29,
   "metadata": {
    "collapsed": false
   },
   "outputs": [
    {
     "data": {
      "text/plain": [
       "True"
      ]
     },
     "execution_count": 29,
     "metadata": {},
     "output_type": "execute_result"
    }
   ],
   "source": [
    "t.is_proper_superset(s)"
   ]
  },
  {
   "cell_type": "code",
   "execution_count": 30,
   "metadata": {
    "collapsed": false
   },
   "outputs": [
    {
     "data": {
      "text/plain": [
       "False"
      ]
     },
     "execution_count": 30,
     "metadata": {},
     "output_type": "execute_result"
    }
   ],
   "source": [
    "s.is_proper_subset(s)"
   ]
  },
  {
   "cell_type": "code",
   "execution_count": 31,
   "metadata": {
    "collapsed": false
   },
   "outputs": [
    {
     "data": {
      "text/plain": [
       "False"
      ]
     },
     "execution_count": 31,
     "metadata": {},
     "output_type": "execute_result"
    }
   ],
   "source": [
    "s.is_proper_superset(s)"
   ]
  },
  {
   "cell_type": "markdown",
   "metadata": {
    "collapsed": true
   },
   "source": [
    "### 4. 집합 연산\n",
    "\n",
    "#### 합집합\n",
    "\n",
    "두 집합의 모든 구성원을 포함하는 집합입니다. (중복된 구성원은 하나만 포함됩니다.)"
   ]
  },
  {
   "cell_type": "code",
   "execution_count": 1,
   "metadata": {
    "collapsed": false
   },
   "outputs": [
    {
     "data": {
      "text/plain": [
       "{1, 2, 3, 4, 6}"
      ]
     },
     "execution_count": 1,
     "metadata": {},
     "output_type": "execute_result"
    }
   ],
   "source": [
    "from sympy import FiniteSet\n",
    "\n",
    "s = FiniteSet(1, 2, 3)\n",
    "t = FiniteSet(2, 4, 6)\n",
    "\n",
    "s.union(t)"
   ]
  },
  {
   "cell_type": "markdown",
   "metadata": {},
   "source": [
    "#### 교집합\n",
    "\n",
    "두 집합에 공통적으로 존재하는 구성원들로만 이루어진 집합입니다."
   ]
  },
  {
   "cell_type": "code",
   "execution_count": 2,
   "metadata": {
    "collapsed": false
   },
   "outputs": [
    {
     "data": {
      "text/plain": [
       "{2}"
      ]
     },
     "execution_count": 2,
     "metadata": {},
     "output_type": "execute_result"
    }
   ],
   "source": [
    "s.intersect(t)"
   ]
  },
  {
   "cell_type": "markdown",
   "metadata": {},
   "source": [
    "#### 카르테지안 곱\n",
    "\n",
    "두 집합의 구성원들을 택해 모든 가능한 쌍으로 구성된 집합입니다.\n",
    "\n",
    "카르테지안 곱의 카디널리티는 개별 집합의 카디널리티의 곱입니다."
   ]
  },
  {
   "cell_type": "code",
   "execution_count": 4,
   "metadata": {
    "collapsed": false
   },
   "outputs": [
    {
     "data": {
      "text/plain": [
       "{1, 2, 3} x {2, 4, 6}"
      ]
     },
     "execution_count": 4,
     "metadata": {},
     "output_type": "execute_result"
    }
   ],
   "source": [
    "p = s*t\n",
    "p"
   ]
  },
  {
   "cell_type": "code",
   "execution_count": 5,
   "metadata": {
    "collapsed": false
   },
   "outputs": [
    {
     "name": "stdout",
     "output_type": "stream",
     "text": [
      "(1, 2)\n",
      "(1, 4)\n",
      "(1, 6)\n",
      "(2, 2)\n",
      "(2, 4)\n",
      "(2, 6)\n",
      "(3, 2)\n",
      "(3, 4)\n",
      "(3, 6)\n"
     ]
    }
   ],
   "source": [
    "for e in p:\n",
    "    print(e)"
   ]
  },
  {
   "cell_type": "code",
   "execution_count": 6,
   "metadata": {
    "collapsed": false
   },
   "outputs": [
    {
     "data": {
      "text/plain": [
       "True"
      ]
     },
     "execution_count": 6,
     "metadata": {},
     "output_type": "execute_result"
    }
   ],
   "source": [
    "len(p) == len(s) * len(t)"
   ]
  },
  {
   "cell_type": "markdown",
   "metadata": {},
   "source": [
    "지수연산자를 이용해서 설정한 횟수만큼의 곱도 가능합니다."
   ]
  },
  {
   "cell_type": "code",
   "execution_count": 7,
   "metadata": {
    "collapsed": false
   },
   "outputs": [
    {
     "data": {
      "text/plain": [
       "{1, 2} x {1, 2} x {1, 2}"
      ]
     },
     "execution_count": 7,
     "metadata": {},
     "output_type": "execute_result"
    }
   ],
   "source": [
    "u = FiniteSet(1, 2)\n",
    "p = u**3\n",
    "p"
   ]
  },
  {
   "cell_type": "code",
   "execution_count": 8,
   "metadata": {
    "collapsed": false
   },
   "outputs": [
    {
     "name": "stdout",
     "output_type": "stream",
     "text": [
      "(1, 1, 1)\n",
      "(1, 1, 2)\n",
      "(1, 2, 1)\n",
      "(1, 2, 2)\n",
      "(2, 1, 1)\n",
      "(2, 1, 2)\n",
      "(2, 2, 1)\n",
      "(2, 2, 2)\n"
     ]
    }
   ],
   "source": [
    "for e in p:\n",
    "    print(e)"
   ]
  },
  {
   "cell_type": "markdown",
   "metadata": {},
   "source": [
    "#### 다중변수 집합에 공식 적용\n",
    "\n",
    "다음 수식은 추의 길이별 주기값을 구하는 수식입니다.\n",
    "\n",
    "![수식 추의주기](./image/DoingMathWithPython.Ch05.equation.01.png)\n",
    "\n",
    "- T : 추가 한번 왕복하는데 소요되는 시간\n",
    "- L : 추의 길이\n",
    "- 상수값 : pi, g(지역의 중력가속도 : 대략 9.8 m/s^2)\n",
    "\n",
    "길이에 따라 추의 주기가 어떻게 변하는지 알고 싶다면 위 수식에 `L`값을 변경해가면서 입력해보면 됩니다."
   ]
  },
  {
   "cell_type": "code",
   "execution_count": 10,
   "metadata": {
    "collapsed": false
   },
   "outputs": [
    {
     "name": "stdout",
     "output_type": "stream",
     "text": [
      "Length: 15.0 cm Time Period: 0.777 s\n",
      "Length: 18.0 cm Time Period: 0.852 s\n",
      "Length: 21.0 cm Time Period: 0.920 s\n",
      "Length: 22.5 cm Time Period: 0.952 s\n",
      "Length: 25.0 cm Time Period: 1.004 s\n"
     ]
    }
   ],
   "source": [
    "from sympy import FiniteSet, pi\n",
    "\n",
    "def time_period(length):\n",
    "    g = 9.8\n",
    "    T = 2 * pi * (length / g)**0.5\n",
    "    return T\n",
    "\n",
    "L = FiniteSet(15, 18, 21, 22.5, 25)\n",
    "for e in L:\n",
    "    t = time_period(e/100)\n",
    "    print('Length: {0} cm Time Period: {1:.3f} s'.format(float(e), float(t)))"
   ]
  },
  {
   "cell_type": "markdown",
   "metadata": {},
   "source": [
    "입력으로 사용된 집합의 값이 cm 단위이기 때문에 함수에 전달시 100으로 나누어서 전달하였습니다.\n",
    "\n",
    "서로 다른 3곳(중력이 다른 곳)에서 실험을 한다고 가정해 보겠습니다.\n",
    "(적도 : 9.78 , 북극 9.83, 호주 9.8)"
   ]
  },
  {
   "cell_type": "code",
   "execution_count": 14,
   "metadata": {
    "collapsed": false
   },
   "outputs": [
    {
     "name": "stdout",
     "output_type": "stream",
     "text": [
      "  Length(cm)   Gravity(m/m^2) Time Period(s) \n",
      "     15.0           9.78           0.778     \n",
      "     15.0            9.8           0.777     \n",
      "     15.0           9.83           0.776     \n",
      "     18.0           9.78           0.852     \n",
      "     18.0            9.8           0.852     \n",
      "     18.0           9.83           0.850     \n",
      "     21.0           9.78           0.921     \n",
      "     21.0            9.8           0.920     \n",
      "     21.0           9.83           0.918     \n",
      "     22.5           9.78           0.953     \n",
      "     22.5            9.8           0.952     \n",
      "     22.5           9.83           0.951     \n",
      "     25.0           9.78           1.005     \n",
      "     25.0            9.8           1.004     \n",
      "     25.0           9.83           1.002     \n"
     ]
    }
   ],
   "source": [
    "def time_period(length, g):\n",
    "    return 2 * pi * (length / g)**0.5\n",
    "\n",
    "L = FiniteSet(15, 18, 21, 22.5, 25)\n",
    "G = FiniteSet(9.8, 9.78, 9.83)\n",
    "\n",
    "print('{0:^15}{1:^15}{2:^15}'.format('Length(cm)','Gravity(m/m^2)','Time Period(s)'))\n",
    "for e in L * G:\n",
    "    t = time_period(e[0]/100, e[1])\n",
    "    print('{0:^15}{1:^15}{2:^15.3f}'.format(float(e[0]),float(e[1]), float(t)))"
   ]
  },
  {
   "cell_type": "markdown",
   "metadata": {},
   "source": [
    "### 5. 확률\n",
    "\n",
    "- **실험**(experiment) : 각각 가능한 확률에 대한 테스트, 실험을 한 번 실행하는 것을 시도(trial)이라고 함. 예를 들어 주사위 던지기, 카드 뽑기\n",
    "- **표본공간**(`S`) : 모든 가능한 실험 결과들의 집합. 예를 들어  6면 주사위를 한 번 던진 경우 표본공간 `S = {1, 2, 3, 4, 5, 6}`\n",
    "- **사건**(`E`) : 표본공간의 부분집합. 예를 들어 6면 주사위의 표본공간 중 숫자 3이 나올 확률\n",
    "\n",
    "![수식 확률](./image/DoingMathWithPython.Ch05.equation.02.png)\n",
    "\n",
    "특정 사건이 일어날 확률(`P(E)`)는 해당 사건의 개수(`n(E)`)를 전체 표본공간의 개수(`n(S)`)로 나눈 값입니다.\n",
    "주사위를 던져서 3이 나올 확률은 다음과 같습니다.\n",
    "\n",
    "> S = { 1, 2, 3, 4, 5, 6 }\n",
    "E = { 3 }\n",
    "n(S) = 6\n",
    "n(E) = 1\n",
    "P(E) = 1 / 6\n",
    "\n",
    "이를 함수로 작성해 보겠습니다."
   ]
  },
  {
   "cell_type": "code",
   "execution_count": 15,
   "metadata": {
    "collapsed": true
   },
   "outputs": [],
   "source": [
    "def probability(space, event):\n",
    "    return len(event) / len(space)"
   ]
  },
  {
   "cell_type": "markdown",
   "metadata": {},
   "source": [
    "위 함수를 이용해서 1 ~ 20 사이의 숫자 중 소수(Prime number)일 확률을 구해보도록 하겠습니다."
   ]
  },
  {
   "cell_type": "code",
   "execution_count": 17,
   "metadata": {
    "collapsed": false
   },
   "outputs": [
    {
     "data": {
      "text/plain": [
       "0.4"
      ]
     },
     "execution_count": 17,
     "metadata": {},
     "output_type": "execute_result"
    }
   ],
   "source": [
    "def check_prime(number):\n",
    "    if n != 1:\n",
    "        for factor in range(2,number):\n",
    "            if number % factor == 0:\n",
    "                return False\n",
    "    else:\n",
    "        return False\n",
    "    return True\n",
    "\n",
    "space = FiniteSet(*range(1,21))\n",
    "primes = []\n",
    "for n in space:\n",
    "    if check_prime(n):\n",
    "        primes.append(n)\n",
    "event = FiniteSet(*primes)\n",
    "probability(space, event)"
   ]
  },
  {
   "cell_type": "code",
   "execution_count": 18,
   "metadata": {
    "collapsed": false
   },
   "outputs": [
    {
     "data": {
      "text/plain": [
       "{2, 3, 5, 7, 11, 13, 17, 19}"
      ]
     },
     "execution_count": 18,
     "metadata": {},
     "output_type": "execute_result"
    }
   ],
   "source": [
    "event"
   ]
  },
  {
   "cell_type": "markdown",
   "metadata": {},
   "source": [
    "#### 사건A나 사건B의 확률\n",
    "\n",
    "A 사건과 B 사건의 집합을 합집합(`union`)한 다음에 확률을 계산하면 됩니다.\n",
    "\n",
    "- S : 6면주사위를 1번 던짐 -> { 1, 2, 3, 4, 5, 6 }\n",
    "- A : 소수 -> { 2, 3, 5 }\n",
    "- B : 홀수 -> { 1, 3, 5 }\n",
    "\n",
    "일 경우의 사건 A나 B일 확률은 다음과 같습니다."
   ]
  },
  {
   "cell_type": "code",
   "execution_count": 19,
   "metadata": {
    "collapsed": false
   },
   "outputs": [
    {
     "data": {
      "text/plain": [
       "0.6666666666666666"
      ]
     },
     "execution_count": 19,
     "metadata": {},
     "output_type": "execute_result"
    }
   ],
   "source": [
    "S = FiniteSet(*range(1,7))\n",
    "A = FiniteSet(2, 3, 5)\n",
    "B = FiniteSet(1, 3, 5)\n",
    "\n",
    "len(A.union(B)) / len(S)"
   ]
  },
  {
   "cell_type": "markdown",
   "metadata": {},
   "source": [
    "#### 사건 A 이면서 사건 B일 확률\n",
    "\n",
    "두 집합의 교집합(`intersect`)의 확률을 계산하면 됩니다."
   ]
  },
  {
   "cell_type": "code",
   "execution_count": 20,
   "metadata": {
    "collapsed": false
   },
   "outputs": [
    {
     "data": {
      "text/plain": [
       "0.3333333333333333"
      ]
     },
     "execution_count": 20,
     "metadata": {},
     "output_type": "execute_result"
    }
   ],
   "source": [
    "len(A.intersect(B)) / len(S)"
   ]
  },
  {
   "cell_type": "markdown",
   "metadata": {},
   "source": [
    "### 6. 랜덤 숫자 생성\n",
    "\n",
    "파이썬에서 랜덤숫자를 생성하려면 먼저 표준 라이브러리 `random`을 포함시켜야 합니다.\n",
    "주로 사용되는 랜덤함수는 다음의 2가지 정도만 알아도 됩니다.\n",
    "- randint(from, to) : from 에서 to 사이의 숫자를 리턴합니다. int값을 넣어줘야 합니다.\n",
    "- random() : 0에서 1사이의 부동소수점 숫자를 생성합니다.\n",
    "\n",
    "주사위를 굴려서 총합이 20될 때까지 몇 번을 던져야 하는지를 랜덤을 통해서 구현해 보겠습니다."
   ]
  },
  {
   "cell_type": "code",
   "execution_count": 24,
   "metadata": {
    "collapsed": false
   },
   "outputs": [
    {
     "name": "stdout",
     "output_type": "stream",
     "text": [
      "Rolled: 6\n",
      "Rolled: 6\n",
      "Rolled: 1\n",
      "Rolled: 5\n",
      "Rolled: 2\n",
      "Score of 20 reached in 5 rolls\n"
     ]
    }
   ],
   "source": [
    "import random\n",
    "\n",
    "target_score = 20\n",
    "\n",
    "def roll():\n",
    "    return random.randint(1,6)\n",
    "\n",
    "def play_game():\n",
    "    score = 0\n",
    "    num_rolls = 0\n",
    "    while score < target_score:\n",
    "        dice = roll()\n",
    "        num_rolls += 1\n",
    "        print('Rolled: {0}'.format(dice))\n",
    "        score += dice\n",
    "\n",
    "    print('Score of {0} reached in {1} rolls'.format(score, num_rolls))\n",
    "\n",
    "play_game()"
   ]
  },
  {
   "cell_type": "code",
   "execution_count": 25,
   "metadata": {
    "collapsed": false
   },
   "outputs": [
    {
     "name": "stdout",
     "output_type": "stream",
     "text": [
      "Rolled: 6\n",
      "Rolled: 4\n",
      "Rolled: 3\n",
      "Rolled: 1\n",
      "Rolled: 5\n",
      "Rolled: 6\n",
      "Score of 25 reached in 6 rolls\n"
     ]
    }
   ],
   "source": [
    "play_game()"
   ]
  },
  {
   "cell_type": "markdown",
   "metadata": {},
   "source": [
    "#### 목표점수 달성이 가능한가 ?\n",
    "\n",
    "이번에는 목표로 한 점수가 최대던지기 횟수 내에 달성이 가능한지 그 여부 및 확률을 계산해주는 프로그램을 작성해 보겠습니다."
   ]
  },
  {
   "cell_type": "code",
   "execution_count": 6,
   "metadata": {
    "collapsed": false
   },
   "outputs": [
    {
     "data": {
      "text/plain": [
       "0.16666666666666666"
      ]
     },
     "execution_count": 6,
     "metadata": {},
     "output_type": "execute_result"
    }
   ],
   "source": [
    "from sympy import FiniteSet\n",
    "from random import randint\n",
    "\n",
    "def find_prob(target_score, max_rolls):\n",
    "    dice = FiniteSet(*range(1,7))\n",
    "    space = dice**max_rolls\n",
    "    eventNum = 0\n",
    "    for e in space:\n",
    "        n = sum(list(e))\n",
    "        if (n >= target_score):\n",
    "            eventNum += 1\n",
    "    return eventNum / len(space)\n",
    "\n",
    "find_prob(10,2)"
   ]
  },
  {
   "cell_type": "code",
   "execution_count": 7,
   "metadata": {
    "collapsed": false
   },
   "outputs": [
    {
     "data": {
      "text/plain": [
       "0.0"
      ]
     },
     "execution_count": 7,
     "metadata": {},
     "output_type": "execute_result"
    }
   ],
   "source": [
    "find_prob(20, 3)"
   ]
  },
  {
   "cell_type": "markdown",
   "metadata": {},
   "source": [
    "주사위를 3번 던져서 최고값은 18이므로 20이 나올 수 있는 확률은 0% 입니다."
   ]
  }
 ],
 "metadata": {
  "kernelspec": {
   "display_name": "Python 3",
   "language": "python",
   "name": "python3"
  },
  "language_info": {
   "codemirror_mode": {
    "name": "ipython",
    "version": 3
   },
   "file_extension": ".py",
   "mimetype": "text/x-python",
   "name": "python",
   "nbconvert_exporter": "python",
   "pygments_lexer": "ipython3",
   "version": "3.5.2"
  }
 },
 "nbformat": 4,
 "nbformat_minor": 0
}
