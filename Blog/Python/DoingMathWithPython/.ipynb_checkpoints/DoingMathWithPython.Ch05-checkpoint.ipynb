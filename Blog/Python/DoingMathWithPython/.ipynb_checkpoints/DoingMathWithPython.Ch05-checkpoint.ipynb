{
 "cells": [
  {
   "cell_type": "markdown",
   "metadata": {},
   "source": [
    "# 파이썬으로 풀어보는 수학\n",
    "\n",
    "## 5장 집합과 확률\n",
    "\n",
    "### 1. 집합은 무엇인가 ?\n",
    "\n",
    "집합(set)은 개별 객체의 모음(collection)입니다.\n",
    "통상 객체를 원소(element)나 구성원(member)라고 부릅니다.\n",
    "집합과 모음의 다른점으로는 집합은 동일한 2개의 원소를 가질 수 없습니다.\n",
    "\n",
    "`SymPy`를 사용해 파이썬에서 집합으로 작업하는 방법에 대해서 살펴보겠습니다.\n",
    "\n",
    "### 2. 집합 생성\n",
    "\n",
    "수학기호로 집합을 표현할 때는 `{ 2, 4, 6 }`와 같이 중괄호를 사용합니다.\n",
    "파이썬에서는 `FiniteSet` 클래스를 사용하여 표현할 수 있습니다."
   ]
  },
  {
   "cell_type": "code",
   "execution_count": 3,
   "metadata": {
    "collapsed": false
   },
   "outputs": [
    {
     "data": {
      "text/plain": [
       "{2, 4, 6}"
      ]
     },
     "execution_count": 3,
     "metadata": {},
     "output_type": "execute_result"
    }
   ],
   "source": [
    "from sympy import FiniteSet\n",
    "\n",
    "s = FiniteSet(2, 4, 6)\n",
    "s"
   ]
  },
  {
   "cell_type": "code",
   "execution_count": 4,
   "metadata": {
    "collapsed": false
   },
   "outputs": [
    {
     "data": {
      "text/plain": [
       "sympy.sets.sets.FiniteSet"
      ]
     },
     "execution_count": 4,
     "metadata": {},
     "output_type": "execute_result"
    }
   ],
   "source": [
    "type(s)"
   ]
  },
  {
   "cell_type": "markdown",
   "metadata": {},
   "source": [
    "동일한 집합에 정수, 분수, 부동소수점수를 같이 저장할 수도 있습니다."
   ]
  },
  {
   "cell_type": "code",
   "execution_count": 6,
   "metadata": {
    "collapsed": false
   },
   "outputs": [
    {
     "data": {
      "text/plain": [
       "{1/5, 1, 1.5}"
      ]
     },
     "execution_count": 6,
     "metadata": {},
     "output_type": "execute_result"
    }
   ],
   "source": [
    "from fractions import Fraction\n",
    "\n",
    "FiniteSet(1, 1.5, Fraction(1,5))"
   ]
  },
  {
   "cell_type": "markdown",
   "metadata": {},
   "source": [
    "`카디널리티(cardinality)`란 집합의 구성원 수를 의미합니다.\n",
    "`len()`함수를 이용해 계산이 가능합니다."
   ]
  },
  {
   "cell_type": "code",
   "execution_count": 7,
   "metadata": {
    "collapsed": false
   },
   "outputs": [
    {
     "data": {
      "text/plain": [
       "3"
      ]
     },
     "execution_count": 7,
     "metadata": {},
     "output_type": "execute_result"
    }
   ],
   "source": [
    "len(s)"
   ]
  },
  {
   "cell_type": "markdown",
   "metadata": {},
   "source": [
    "`대상 집합에 숫자가 존재하는지 여부`는 `in`연산자를 사용해 알 수 있습니다."
   ]
  },
  {
   "cell_type": "code",
   "execution_count": 8,
   "metadata": {
    "collapsed": false
   },
   "outputs": [
    {
     "data": {
      "text/plain": [
       "False"
      ]
     },
     "execution_count": 8,
     "metadata": {},
     "output_type": "execute_result"
    }
   ],
   "source": [
    "3 in s"
   ]
  },
  {
   "cell_type": "code",
   "execution_count": 9,
   "metadata": {
    "collapsed": false
   },
   "outputs": [
    {
     "data": {
      "text/plain": [
       "True"
      ]
     },
     "execution_count": 9,
     "metadata": {},
     "output_type": "execute_result"
    }
   ],
   "source": [
    "4 in s"
   ]
  },
  {
   "cell_type": "markdown",
   "metadata": {},
   "source": [
    "`공집합(empty set)`을 생성하기 위해서는 인자가 없이 생성하면 됩니다."
   ]
  },
  {
   "cell_type": "code",
   "execution_count": 10,
   "metadata": {
    "collapsed": false
   },
   "outputs": [
    {
     "data": {
      "text/plain": [
       "EmptySet()"
      ]
     },
     "execution_count": 10,
     "metadata": {},
     "output_type": "execute_result"
    }
   ],
   "source": [
    "FiniteSet()"
   ]
  },
  {
   "cell_type": "markdown",
   "metadata": {},
   "source": [
    "`리스트`나 `튜플`을 인자로 전달해서 집합을 생성할 수도 있습니다."
   ]
  },
  {
   "cell_type": "code",
   "execution_count": 12,
   "metadata": {
    "collapsed": false
   },
   "outputs": [
    {
     "data": {
      "text/plain": [
       "{1, 2, 3}"
      ]
     },
     "execution_count": 12,
     "metadata": {},
     "output_type": "execute_result"
    }
   ],
   "source": [
    "members = [1, 2, 3]\n",
    "FiniteSet(*members)"
   ]
  },
  {
   "cell_type": "markdown",
   "metadata": {},
   "source": [
    "앞서 언급했듯이 집합 내에는 중복된 값을 허용하지 않습니다.\n",
    "같은 값을 여러번 넣어도 한 번만 추가되고 나머지는 모두 무시됩니다."
   ]
  },
  {
   "cell_type": "code",
   "execution_count": 16,
   "metadata": {
    "collapsed": false
   },
   "outputs": [
    {
     "data": {
      "text/plain": [
       "{1, 2, 3}"
      ]
     },
     "execution_count": 16,
     "metadata": {},
     "output_type": "execute_result"
    }
   ],
   "source": [
    "s = FiniteSet(1, 3, 2, 3)\n",
    "s"
   ]
  },
  {
   "cell_type": "markdown",
   "metadata": {},
   "source": [
    "그리고, 입력 순서와 저장되는 순서는 무관합니다.\n",
    "집합 내의 구성원에 대한 순서는 별도로 저장하고 있지 않기 때문입니다."
   ]
  },
  {
   "cell_type": "code",
   "execution_count": 18,
   "metadata": {
    "collapsed": false
   },
   "outputs": [
    {
     "name": "stdout",
     "output_type": "stream",
     "text": [
      "1\n",
      "2\n",
      "3\n"
     ]
    }
   ],
   "source": [
    "for m in s:\n",
    "    print(m)"
   ]
  },
  {
   "cell_type": "markdown",
   "metadata": {},
   "source": [
    "두 집합의 구성원이 서로 다른 순서로 저장되더라도, 모든 요소들이 같다면 두 집합은 같은 집합으로 취급합니다."
   ]
  },
  {
   "cell_type": "code",
   "execution_count": 19,
   "metadata": {
    "collapsed": false
   },
   "outputs": [
    {
     "data": {
      "text/plain": [
       "True"
      ]
     },
     "execution_count": 19,
     "metadata": {},
     "output_type": "execute_result"
    }
   ],
   "source": [
    "s = FiniteSet(3, 5, 7)\n",
    "t = FiniteSet(5, 7, 3)\n",
    "s == t"
   ]
  },
  {
   "cell_type": "markdown",
   "metadata": {},
   "source": [
    "###  3. 부분집합, 초집합, 파워집합\n",
    "\n",
    "집합 s의 모든 구성원이 집합 t의 구성원일 경우 s는 t의 `부분집합(subset)`이라고 정의합니다.\n",
    "파이썬에서는 `is_subset()` 함수를 사용해서 확인이 가능합니다."
   ]
  },
  {
   "cell_type": "code",
   "execution_count": 20,
   "metadata": {
    "collapsed": false
   },
   "outputs": [
    {
     "data": {
      "text/plain": [
       "True"
      ]
     },
     "execution_count": 20,
     "metadata": {},
     "output_type": "execute_result"
    }
   ],
   "source": [
    "s = FiniteSet(1)\n",
    "t = FiniteSet(1, 2)\n",
    "\n",
    "s.is_subset(t)"
   ]
  },
  {
   "cell_type": "code",
   "execution_count": 21,
   "metadata": {
    "collapsed": false
   },
   "outputs": [
    {
     "data": {
      "text/plain": [
       "False"
      ]
     },
     "execution_count": 21,
     "metadata": {},
     "output_type": "execute_result"
    }
   ],
   "source": [
    "t.is_subset(s)"
   ]
  },
  {
   "cell_type": "code",
   "execution_count": 22,
   "metadata": {
    "collapsed": false
   },
   "outputs": [
    {
     "data": {
      "text/plain": [
       "True"
      ]
     },
     "execution_count": 22,
     "metadata": {},
     "output_type": "execute_result"
    }
   ],
   "source": [
    "s.is_subset(s)"
   ]
  },
  {
   "cell_type": "markdown",
   "metadata": {},
   "source": [
    "공집합은 모든 집합의 부분집합이며, 모든 집합은 자기 자신이 부분집합입니다.\n",
    "\n",
    "`초집합(superset)`은 부분집합의 반대 개념으로 집합t가 집합s의 모든 구성원을 포함할 경우 집합t는 집합s의 초집합이라고 부릅니다.\n",
    "파이썬에서는 `is_superset()` 함수를 사용해서 확인이 가능합니다."
   ]
  },
  {
   "cell_type": "code",
   "execution_count": 23,
   "metadata": {
    "collapsed": false
   },
   "outputs": [
    {
     "data": {
      "text/plain": [
       "False"
      ]
     },
     "execution_count": 23,
     "metadata": {},
     "output_type": "execute_result"
    }
   ],
   "source": [
    "s.is_superset(t)"
   ]
  },
  {
   "cell_type": "code",
   "execution_count": 24,
   "metadata": {
    "collapsed": false
   },
   "outputs": [
    {
     "data": {
      "text/plain": [
       "True"
      ]
     },
     "execution_count": 24,
     "metadata": {},
     "output_type": "execute_result"
    }
   ],
   "source": [
    "t.is_superset(s)"
   ]
  },
  {
   "cell_type": "code",
   "execution_count": 25,
   "metadata": {
    "collapsed": false
   },
   "outputs": [
    {
     "data": {
      "text/plain": [
       "True"
      ]
     },
     "execution_count": 25,
     "metadata": {},
     "output_type": "execute_result"
    }
   ],
   "source": [
    "s.is_superset(s)"
   ]
  },
  {
   "cell_type": "markdown",
   "metadata": {},
   "source": [
    "`파워집합(powerset)`은 모든 가능한 부분집합입니다.\n",
    "모든 집합은 `2 ** cadinality` 만큼의 부분집합을 가집니다. (공집합, 자기자신을 포함)\n",
    "파이썬에서는 `powerset()` 함수를 사용해 찾아낼 수 있습니다."
   ]
  },
  {
   "cell_type": "code",
   "execution_count": 26,
   "metadata": {
    "collapsed": false
   },
   "outputs": [
    {
     "data": {
      "text/plain": [
       "{EmptySet(), {1}, {2}, {3}, {1, 2}, {1, 3}, {2, 3}, {1, 2, 3}}"
      ]
     },
     "execution_count": 26,
     "metadata": {},
     "output_type": "execute_result"
    }
   ],
   "source": [
    "s = FiniteSet(1, 2, 3)\n",
    "ps = s.powerset()\n",
    "ps"
   ]
  },
  {
   "cell_type": "code",
   "execution_count": 27,
   "metadata": {
    "collapsed": false
   },
   "outputs": [
    {
     "data": {
      "text/plain": [
       "8"
      ]
     },
     "execution_count": 27,
     "metadata": {},
     "output_type": "execute_result"
    }
   ],
   "source": [
    "len(ps)"
   ]
  },
  {
   "cell_type": "markdown",
   "metadata": {},
   "source": [
    "동일하지 않은 집합t와 집합s가 있을 경우,\n",
    "집합s가 집합t의 부분 집합일 경우 집합t는 집합s의 초집합이라고 할 수 있습니다.\n",
    "`is_proper_subset()` , `is_proper_superset()` 함수를 사용해서 부분집합, 초집합 관계를 확인 할 수 있습니다."
   ]
  },
  {
   "cell_type": "code",
   "execution_count": 28,
   "metadata": {
    "collapsed": false
   },
   "outputs": [
    {
     "data": {
      "text/plain": [
       "True"
      ]
     },
     "execution_count": 28,
     "metadata": {},
     "output_type": "execute_result"
    }
   ],
   "source": [
    "t = FiniteSet(1, 2, 3, 5)\n",
    "s.is_proper_subset(t)"
   ]
  },
  {
   "cell_type": "code",
   "execution_count": 29,
   "metadata": {
    "collapsed": false
   },
   "outputs": [
    {
     "data": {
      "text/plain": [
       "True"
      ]
     },
     "execution_count": 29,
     "metadata": {},
     "output_type": "execute_result"
    }
   ],
   "source": [
    "t.is_proper_superset(s)"
   ]
  },
  {
   "cell_type": "code",
   "execution_count": 30,
   "metadata": {
    "collapsed": false
   },
   "outputs": [
    {
     "data": {
      "text/plain": [
       "False"
      ]
     },
     "execution_count": 30,
     "metadata": {},
     "output_type": "execute_result"
    }
   ],
   "source": [
    "s.is_proper_subset(s)"
   ]
  },
  {
   "cell_type": "code",
   "execution_count": 31,
   "metadata": {
    "collapsed": false
   },
   "outputs": [
    {
     "data": {
      "text/plain": [
       "False"
      ]
     },
     "execution_count": 31,
     "metadata": {},
     "output_type": "execute_result"
    }
   ],
   "source": [
    "s.is_proper_superset(s)"
   ]
  },
  {
   "cell_type": "markdown",
   "metadata": {
    "collapsed": true
   },
   "source": [
    "### 4. 집합 연산\n",
    "\n",
    "#### 합집합\n",
    "\n",
    "두 집합의 모든 구성원을 포함하는 집합입니다. (중복된 구성원은 하나만 포함됩니다.)"
   ]
  },
  {
   "cell_type": "code",
   "execution_count": 1,
   "metadata": {
    "collapsed": false
   },
   "outputs": [
    {
     "data": {
      "text/plain": [
       "{1, 2, 3, 4, 6}"
      ]
     },
     "execution_count": 1,
     "metadata": {},
     "output_type": "execute_result"
    }
   ],
   "source": [
    "from sympy import FiniteSet\n",
    "\n",
    "s = FiniteSet(1, 2, 3)\n",
    "t = FiniteSet(2, 4, 6)\n",
    "\n",
    "s.union(t)"
   ]
  },
  {
   "cell_type": "markdown",
   "metadata": {},
   "source": [
    "#### 교집합\n",
    "\n",
    "두 집합에 공통적으로 존재하는 구성원들로만 이루어진 집합입니다."
   ]
  },
  {
   "cell_type": "code",
   "execution_count": 2,
   "metadata": {
    "collapsed": false
   },
   "outputs": [
    {
     "data": {
      "text/plain": [
       "{2}"
      ]
     },
     "execution_count": 2,
     "metadata": {},
     "output_type": "execute_result"
    }
   ],
   "source": [
    "s.intersect(t)"
   ]
  },
  {
   "cell_type": "markdown",
   "metadata": {},
   "source": [
    "#### 카르테지안 곱\n",
    "\n",
    "두 집합의 구성원들을 택해 모든 가능한 쌍으로 구성된 집합입니다.\n",
    "\n",
    "카르테지안 곱의 카디널리티는 개별 집합의 카디널리티의 곱입니다."
   ]
  },
  {
   "cell_type": "code",
   "execution_count": 4,
   "metadata": {
    "collapsed": false
   },
   "outputs": [
    {
     "data": {
      "text/plain": [
       "{1, 2, 3} x {2, 4, 6}"
      ]
     },
     "execution_count": 4,
     "metadata": {},
     "output_type": "execute_result"
    }
   ],
   "source": [
    "p = s*t\n",
    "p"
   ]
  },
  {
   "cell_type": "code",
   "execution_count": 5,
   "metadata": {
    "collapsed": false
   },
   "outputs": [
    {
     "name": "stdout",
     "output_type": "stream",
     "text": [
      "(1, 2)\n",
      "(1, 4)\n",
      "(1, 6)\n",
      "(2, 2)\n",
      "(2, 4)\n",
      "(2, 6)\n",
      "(3, 2)\n",
      "(3, 4)\n",
      "(3, 6)\n"
     ]
    }
   ],
   "source": [
    "for e in p:\n",
    "    print(e)"
   ]
  },
  {
   "cell_type": "code",
   "execution_count": 6,
   "metadata": {
    "collapsed": false
   },
   "outputs": [
    {
     "data": {
      "text/plain": [
       "True"
      ]
     },
     "execution_count": 6,
     "metadata": {},
     "output_type": "execute_result"
    }
   ],
   "source": [
    "len(p) == len(s) * len(t)"
   ]
  },
  {
   "cell_type": "markdown",
   "metadata": {},
   "source": [
    "지수연산자를 이용해서 설정한 횟수만큼의 곱도 가능합니다."
   ]
  },
  {
   "cell_type": "code",
   "execution_count": 7,
   "metadata": {
    "collapsed": false
   },
   "outputs": [
    {
     "data": {
      "text/plain": [
       "{1, 2} x {1, 2} x {1, 2}"
      ]
     },
     "execution_count": 7,
     "metadata": {},
     "output_type": "execute_result"
    }
   ],
   "source": [
    "u = FiniteSet(1, 2)\n",
    "p = u**3\n",
    "p"
   ]
  },
  {
   "cell_type": "code",
   "execution_count": 8,
   "metadata": {
    "collapsed": false
   },
   "outputs": [
    {
     "name": "stdout",
     "output_type": "stream",
     "text": [
      "(1, 1, 1)\n",
      "(1, 1, 2)\n",
      "(1, 2, 1)\n",
      "(1, 2, 2)\n",
      "(2, 1, 1)\n",
      "(2, 1, 2)\n",
      "(2, 2, 1)\n",
      "(2, 2, 2)\n"
     ]
    }
   ],
   "source": [
    "for e in p:\n",
    "    print(e)"
   ]
  },
  {
   "cell_type": "markdown",
   "metadata": {},
   "source": [
    "#### 다중변수 집합에 공식 적용\n",
    "\n",
    "다음 수식은 추의 길이별 주기값을 구하는 수식입니다.\n",
    "\n",
    "![수식 추의주기](./image/DoingMathWithPython.Ch05.equation.01.png)\n",
    "\n",
    "- T : 추가 한번 왕복하는데 소요되는 시간\n",
    "- L : 추의 길이\n",
    "- 상수값 : pi, g(지역의 중력가속도 : 대략 9.8 m/s^2)\n",
    "\n",
    "길이에 따라 추의 주기가 어떻게 변하는지 알고 싶다면 위 수식에 `L`값을 변경해가면서 입력해보면 됩니다."
   ]
  },
  {
   "cell_type": "code",
   "execution_count": 10,
   "metadata": {
    "collapsed": false
   },
   "outputs": [
    {
     "name": "stdout",
     "output_type": "stream",
     "text": [
      "Length: 15.0 cm Time Period: 0.777 s\n",
      "Length: 18.0 cm Time Period: 0.852 s\n",
      "Length: 21.0 cm Time Period: 0.920 s\n",
      "Length: 22.5 cm Time Period: 0.952 s\n",
      "Length: 25.0 cm Time Period: 1.004 s\n"
     ]
    }
   ],
   "source": [
    "from sympy import FiniteSet, pi\n",
    "\n",
    "def time_period(length):\n",
    "    g = 9.8\n",
    "    T = 2 * pi * (length / g)**0.5\n",
    "    return T\n",
    "\n",
    "L = FiniteSet(15, 18, 21, 22.5, 25)\n",
    "for e in L:\n",
    "    t = time_period(e/100)\n",
    "    print('Length: {0} cm Time Period: {1:.3f} s'.format(float(e), float(t)))"
   ]
  },
  {
   "cell_type": "markdown",
   "metadata": {},
   "source": [
    "입력으로 사용된 집합의 값이 cm 단위이기 때문에 함수에 전달시 100으로 나누어서 전달하였습니다.\n",
    "\n",
    "서로 다른 3곳(중력이 다른 곳)에서 실험을 한다고 가정해 보겠습니다.\n",
    "(적도 : 9.78 , 북극 9.83, 호주 9.8)"
   ]
  },
  {
   "cell_type": "code",
   "execution_count": 14,
   "metadata": {
    "collapsed": false
   },
   "outputs": [
    {
     "name": "stdout",
     "output_type": "stream",
     "text": [
      "  Length(cm)   Gravity(m/m^2) Time Period(s) \n",
      "     15.0           9.78           0.778     \n",
      "     15.0            9.8           0.777     \n",
      "     15.0           9.83           0.776     \n",
      "     18.0           9.78           0.852     \n",
      "     18.0            9.8           0.852     \n",
      "     18.0           9.83           0.850     \n",
      "     21.0           9.78           0.921     \n",
      "     21.0            9.8           0.920     \n",
      "     21.0           9.83           0.918     \n",
      "     22.5           9.78           0.953     \n",
      "     22.5            9.8           0.952     \n",
      "     22.5           9.83           0.951     \n",
      "     25.0           9.78           1.005     \n",
      "     25.0            9.8           1.004     \n",
      "     25.0           9.83           1.002     \n"
     ]
    }
   ],
   "source": [
    "def time_period(length, g):\n",
    "    return 2 * pi * (length / g)**0.5\n",
    "\n",
    "L = FiniteSet(15, 18, 21, 22.5, 25)\n",
    "G = FiniteSet(9.8, 9.78, 9.83)\n",
    "\n",
    "print('{0:^15}{1:^15}{2:^15}'.format('Length(cm)','Gravity(m/m^2)','Time Period(s)'))\n",
    "for e in L * G:\n",
    "    t = time_period(e[0]/100, e[1])\n",
    "    print('{0:^15}{1:^15}{2:^15.3f}'.format(float(e[0]),float(e[1]), float(t)))"
   ]
  },
  {
   "cell_type": "markdown",
   "metadata": {},
   "source": [
    "### 5. 확률\n",
    "\n",
    "- **실험**(experiment) : 각각 가능한 확률에 대한 테스트, 실험을 한 번 실행하는 것을 시도(trial)이라고 함. 예를 들어 주사위 던지기, 카드 뽑기\n",
    "- **표본공간**(`S`) : 모든 가능한 실험 결과들의 집합. 예를 들어  6면 주사위를 한 번 던진 경우 표본공간 `S = {1, 2, 3, 4, 5, 6}`\n",
    "- **사건**(`E`) : 표본공간의 부분집합. 예를 들어 6면 주사위의 표본공간 중 숫자 3이 나올 확률\n",
    "\n",
    "![수식 확률](./image/DoingMathWithPython.Ch05.equation.02.png)\n",
    "\n",
    "특정 사건이 일어날 확률(`P(E)`)는 해당 사건의 개수(`n(E)`)를 전체 표본공간의 개수(`n(S)`)로 나눈 값입니다.\n",
    "주사위를 던져서 3이 나올 확률은 다음과 같습니다.\n",
    "\n",
    "> S = { 1, 2, 3, 4, 5, 6 }\n",
    "E = { 3 }\n",
    "n(S) = 6\n",
    "n(E) = 1\n",
    "P(E) = 1 / 6\n",
    "\n",
    "이를 함수로 작성해 보겠습니다."
   ]
  },
  {
   "cell_type": "code",
   "execution_count": 23,
   "metadata": {
    "collapsed": true
   },
   "outputs": [],
   "source": [
    "def probability(space, event):\n",
    "    return len(event) / len(space)"
   ]
  },
  {
   "cell_type": "markdown",
   "metadata": {},
   "source": [
    "위 함수를 이용해서 1 ~ 20 사이의 숫자 중 소수(Prime number)일 확률을 구해보도록 하겠습니다."
   ]
  },
  {
   "cell_type": "code",
   "execution_count": 31,
   "metadata": {
    "collapsed": false
   },
   "outputs": [
    {
     "data": {
      "text/plain": [
       "0.4"
      ]
     },
     "execution_count": 31,
     "metadata": {},
     "output_type": "execute_result"
    }
   ],
   "source": [
    "def check_prime(number):\n",
    "    if number != 1:\n",
    "        for factor in range(2,number):\n",
    "            if number % factor == 0:\n",
    "                return False\n",
    "    else:\n",
    "        return False\n",
    "    return True\n",
    "\n",
    "def get_primes(number):\n",
    "    primes = [x for x in range(2, number + 1) if check_prime(x) ]\n",
    "    \n",
    "    return FiniteSet(*primes)\n",
    "\n",
    "space = FiniteSet(*range(1,21))\n",
    "event = get_primes(20)\n",
    "probability(space, event)"
   ]
  },
  {
   "cell_type": "code",
   "execution_count": 32,
   "metadata": {
    "collapsed": false
   },
   "outputs": [
    {
     "data": {
      "text/plain": [
       "{2, 3, 5, 7, 11, 13, 17, 19}"
      ]
     },
     "execution_count": 32,
     "metadata": {},
     "output_type": "execute_result"
    }
   ],
   "source": [
    "event"
   ]
  },
  {
   "cell_type": "markdown",
   "metadata": {},
   "source": [
    "#### 사건A나 사건B의 확률\n",
    "\n",
    "A 사건과 B 사건의 집합을 합집합(`union`)한 다음에 확률을 계산하면 됩니다.\n",
    "\n",
    "- S : 6면주사위를 1번 던짐 -> { 1, 2, 3, 4, 5, 6 }\n",
    "- A : 소수 -> { 2, 3, 5 }\n",
    "- B : 홀수 -> { 1, 3, 5 }\n",
    "\n",
    "일 경우의 사건 A나 B일 확률은 다음과 같습니다."
   ]
  },
  {
   "cell_type": "code",
   "execution_count": 19,
   "metadata": {
    "collapsed": false
   },
   "outputs": [
    {
     "data": {
      "text/plain": [
       "0.6666666666666666"
      ]
     },
     "execution_count": 19,
     "metadata": {},
     "output_type": "execute_result"
    }
   ],
   "source": [
    "S = FiniteSet(*range(1,7))\n",
    "A = FiniteSet(2, 3, 5)\n",
    "B = FiniteSet(1, 3, 5)\n",
    "\n",
    "len(A.union(B)) / len(S)"
   ]
  },
  {
   "cell_type": "markdown",
   "metadata": {},
   "source": [
    "#### 사건 A 이면서 사건 B일 확률\n",
    "\n",
    "두 집합의 교집합(`intersect`)의 확률을 계산하면 됩니다."
   ]
  },
  {
   "cell_type": "code",
   "execution_count": 20,
   "metadata": {
    "collapsed": false
   },
   "outputs": [
    {
     "data": {
      "text/plain": [
       "0.3333333333333333"
      ]
     },
     "execution_count": 20,
     "metadata": {},
     "output_type": "execute_result"
    }
   ],
   "source": [
    "len(A.intersect(B)) / len(S)"
   ]
  },
  {
   "cell_type": "markdown",
   "metadata": {},
   "source": [
    "### 6. 랜덤 숫자 생성\n",
    "\n",
    "파이썬에서 랜덤숫자를 생성하려면 먼저 표준 라이브러리 `random`을 포함시켜야 합니다.\n",
    "주로 사용되는 랜덤함수는 다음의 2가지 정도만 알아도 됩니다.\n",
    "- randint(from, to) : from 에서 to 사이의 숫자를 리턴합니다. int값을 넣어줘야 합니다.\n",
    "- random() : 0에서 1사이의 부동소수점 숫자를 생성합니다.\n",
    "\n",
    "주사위를 굴려서 총합이 20될 때까지 몇 번을 던져야 하는지를 랜덤을 통해서 구현해 보겠습니다."
   ]
  },
  {
   "cell_type": "code",
   "execution_count": 24,
   "metadata": {
    "collapsed": false
   },
   "outputs": [
    {
     "name": "stdout",
     "output_type": "stream",
     "text": [
      "Rolled: 6\n",
      "Rolled: 6\n",
      "Rolled: 1\n",
      "Rolled: 5\n",
      "Rolled: 2\n",
      "Score of 20 reached in 5 rolls\n"
     ]
    }
   ],
   "source": [
    "import random\n",
    "\n",
    "target_score = 20\n",
    "\n",
    "def roll():\n",
    "    return random.randint(1,6)\n",
    "\n",
    "def play_game():\n",
    "    score = 0\n",
    "    num_rolls = 0\n",
    "    while score < target_score:\n",
    "        dice = roll()\n",
    "        num_rolls += 1\n",
    "        print('Rolled: {0}'.format(dice))\n",
    "        score += dice\n",
    "\n",
    "    print('Score of {0} reached in {1} rolls'.format(score, num_rolls))\n",
    "\n",
    "play_game()"
   ]
  },
  {
   "cell_type": "code",
   "execution_count": 25,
   "metadata": {
    "collapsed": false
   },
   "outputs": [
    {
     "name": "stdout",
     "output_type": "stream",
     "text": [
      "Rolled: 6\n",
      "Rolled: 4\n",
      "Rolled: 3\n",
      "Rolled: 1\n",
      "Rolled: 5\n",
      "Rolled: 6\n",
      "Score of 25 reached in 6 rolls\n"
     ]
    }
   ],
   "source": [
    "play_game()"
   ]
  },
  {
   "cell_type": "markdown",
   "metadata": {},
   "source": [
    "#### 목표점수 달성이 가능한가 ?\n",
    "\n",
    "이번에는 목표로 한 점수가 최대던지기 횟수 내에 달성이 가능한지 그 여부 및 확률을 계산해주는 프로그램을 작성해 보겠습니다."
   ]
  },
  {
   "cell_type": "code",
   "execution_count": 1,
   "metadata": {
    "collapsed": false
   },
   "outputs": [
    {
     "data": {
      "text/plain": [
       "0.16666666666666666"
      ]
     },
     "execution_count": 1,
     "metadata": {},
     "output_type": "execute_result"
    }
   ],
   "source": [
    "from sympy import FiniteSet\n",
    "from random import randint\n",
    "\n",
    "def find_prob(target_score, max_rolls):\n",
    "    dice = FiniteSet(*range(1,7))\n",
    "    space = dice**max_rolls\n",
    "    eventNum = 0\n",
    "    for e in space:\n",
    "        n = sum(e)\n",
    "        if (n >= target_score):\n",
    "            eventNum += 1\n",
    "    return eventNum / len(space)\n",
    "\n",
    "find_prob(10,2)"
   ]
  },
  {
   "cell_type": "code",
   "execution_count": 7,
   "metadata": {
    "collapsed": false
   },
   "outputs": [
    {
     "data": {
      "text/plain": [
       "0.0"
      ]
     },
     "execution_count": 7,
     "metadata": {},
     "output_type": "execute_result"
    }
   ],
   "source": [
    "find_prob(20, 3)"
   ]
  },
  {
   "cell_type": "markdown",
   "metadata": {},
   "source": [
    "주사위를 3번 던져서 최고값은 18이므로 20이 나올 수 있는 확률은 0% 입니다.\n",
    "\n",
    "위에서 사용한 랜덤은 균일 랜덤 숫자(uniform random number)였습니다.\n",
    "비균일 랜덤을 생성하려면 어떻게 해야 할까요 ?\n",
    "가장 간단하게 생각해 볼 수 있는 방법은 높은 확률에 더 넓은 영역을 지정하여 랜덤을 수행하는 것입니다.\n",
    "\n",
    ">동전을 던졌을 때 앞면(True)이 나올 확률이 2/3이고, 뒷면(False)가 나올 확률이 1/3일 경우"
   ]
  },
  {
   "cell_type": "code",
   "execution_count": 9,
   "metadata": {
    "collapsed": false
   },
   "outputs": [
    {
     "data": {
      "text/plain": [
       "6657"
      ]
     },
     "execution_count": 9,
     "metadata": {},
     "output_type": "execute_result"
    }
   ],
   "source": [
    "import random\n",
    "\n",
    "def nonUniformToss():\n",
    "    if random.random() < 2/3:\n",
    "        return True\n",
    "    return False\n",
    "\n",
    "trueNum = 0\n",
    "for i in range(10000):\n",
    "    if nonUniformToss() == True:\n",
    "        trueNum += 1\n",
    "trueNum"
   ]
  },
  {
   "cell_type": "markdown",
   "metadata": {},
   "source": [
    "위 함수를 조금 더 일반적으로 구현하여 재사용 가능하도록 해보겠습니다.\n",
    "인자로 확률값을 넣은 리스트를 전달받아서 호출시 마다 해당 **index**를 리턴받도록 하겠습니다"
   ]
  },
  {
   "cell_type": "code",
   "execution_count": 19,
   "metadata": {
    "collapsed": false
   },
   "outputs": [],
   "source": [
    "import random\n",
    "\n",
    "def get_index(probabilities):\n",
    "    max = sum(probabilities)\n",
    "    \n",
    "    acc = 0\n",
    "    rand = random.random() * max\n",
    "    for idx, percent in enumerate(probabilities):\n",
    "        acc += percent\n",
    "        if rand < acc:\n",
    "            return idx\n",
    "    return len(probabilities)"
   ]
  },
  {
   "cell_type": "markdown",
   "metadata": {},
   "source": [
    "이 함수를 이용해서 다음의 경우에 대해서 시뮬레이션 해보겠습니다.\n",
    "\n",
    "다음 확률로 지폐를 배분하는 ATM기의 경우 만번의 지폐를 배분했을 때 각각 몇회 배분되었는지를 구해보겠습니다.\n",
    "\n",
    "- $5 : 1/6\n",
    "- $10 : 1/6\n",
    "- $20 : 1/3\n",
    "- $50 : 1/3"
   ]
  },
  {
   "cell_type": "code",
   "execution_count": 20,
   "metadata": {
    "collapsed": false
   },
   "outputs": [
    {
     "data": {
      "text/plain": [
       "defaultdict(int, {'$10': 1639, '$20': 3322, '$5': 1733, '$50': 3306})"
      ]
     },
     "execution_count": 20,
     "metadata": {},
     "output_type": "execute_result"
    }
   ],
   "source": [
    "from collections import defaultdict\n",
    "\n",
    "d = defaultdict(int)\n",
    "keys = ['$5', '$10', '$20', '$50']\n",
    "probabilities = [ 1, 1, 2, 2 ]\n",
    "\n",
    "for i in range(10000):\n",
    "    d[keys[get_index(probabilities)]] += 1\n",
    "d"
   ]
  },
  {
   "cell_type": "markdown",
   "metadata": {},
   "source": [
    "### 프로그래밍 연습\n",
    "\n",
    "#### 1. 벤다이어그램을 사용하여 집합 간의 관계를 가시화\n",
    "\n",
    "`matplotlib_venn` 패키지를 이용하여 벤다이어그램을 그릴 수 있습니다.\n",
    "\n",
    "예를 들어서 20이하의 소수와 홀수를 그리는 벤다이어그램을 구현한 코드를 살펴보겠습니다."
   ]
  },
  {
   "cell_type": "code",
   "execution_count": 35,
   "metadata": {
    "collapsed": false
   },
   "outputs": [
    {
     "data": {
      "text/plain": [
       "{1, 3, 5, 7, 9, 11, 13, 15, 17, 19}"
      ]
     },
     "execution_count": 35,
     "metadata": {},
     "output_type": "execute_result"
    }
   ],
   "source": [
    "def get_odds(number):\n",
    "    odds = [x for x in range(1, number + 1) if x % 2 == 1]\n",
    "    return FiniteSet(*odds)\n",
    "\n",
    "odds = get_odds(20)\n",
    "odds"
   ]
  },
  {
   "cell_type": "code",
   "execution_count": 36,
   "metadata": {
    "collapsed": false
   },
   "outputs": [
    {
     "data": {
      "text/plain": [
       "{2, 3, 5, 7, 11, 13, 17, 19}"
      ]
     },
     "execution_count": 36,
     "metadata": {},
     "output_type": "execute_result"
    }
   ],
   "source": [
    "primes = get_primes(20)\n",
    "primes"
   ]
  },
  {
   "cell_type": "code",
   "execution_count": 40,
   "metadata": {
    "collapsed": false
   },
   "outputs": [],
   "source": [
    "from matplotlib_venn import venn2\n",
    "import matplotlib.pyplot as plt\n",
    "\n",
    "def draw_venn(sets, lables):\n",
    "    venn2(subsets=sets, set_labels=lables)\n",
    "    plt.show()\n",
    "\n",
    "draw_venn([odds, primes], ['odds', 'primes'])"
   ]
  },
  {
   "cell_type": "markdown",
   "metadata": {},
   "source": [
    "![벤다이어그램](./image/DoingMathWithPython.Ch05.01.png)\n",
    "\n",
    "`(학번, 축구를 좋아하는지 여부, 다른 운동을 좋아하는지 여부)`의 3개의 컬럼을 가진 csv 파일을 읽어서 그 결과를 보여주는 벤다이어그램을 출력하세요.\n",
    "좋아한다는 것은 `1`, 안 좋아한다는 것은 `0`으로 표시하도록 하겠습니다.\n",
    "(**csv**를 읽어서 **list**를 리턴하는 함수는 Ch.03에서 작성해 놓은 함수를 재사용 하겠습니다.)"
   ]
  },
  {
   "cell_type": "code",
   "execution_count": 43,
   "metadata": {
    "collapsed": false
   },
   "outputs": [],
   "source": [
    "import csv\n",
    "\n",
    "def CsvToList(filename, colHeaderLen, rowHeaderLen):\n",
    "    reader = csv.reader(open(filename))                    \n",
    "    columns = len(next(reader)) # pass column header\n",
    "    \n",
    "    for i in range(1, colHeaderLen):\n",
    "        next(reader)\n",
    "        \n",
    "    data = []\n",
    "    \n",
    "    for i in range(rowHeaderLen, columns):\n",
    "        data.append([])\n",
    "    \n",
    "    for row in reader:\n",
    "        for i in range(rowHeaderLen, columns):\n",
    "            data[i - rowHeaderLen].append(float(row[i]))\n",
    "            \n",
    "    return data"
   ]
  },
  {
   "cell_type": "code",
   "execution_count": 69,
   "metadata": {
    "collapsed": false
   },
   "outputs": [],
   "source": [
    "lists = CsvToList('files/ch05.venn.data.csv', 1, 0)\n",
    "lists[2]\n",
    "footballs = FiniteSet(*[ int(id) for id,football in zip(lists[0], lists[1]) if football == 1 ])\n",
    "others = FiniteSet(*[ int(id) for id,other in zip(lists[0], lists[2]) if other == 1 ])\n",
    "draw_venn([footballs, others],['Football','Other'])"
   ]
  },
  {
   "cell_type": "markdown",
   "metadata": {},
   "source": [
    "![벤다이어그램2](./image/DoingMathWithPython.Ch05.02.png)"
   ]
  },
  {
   "cell_type": "code",
   "execution_count": 70,
   "metadata": {
    "collapsed": false
   },
   "outputs": [
    {
     "data": {
      "text/plain": [
       "1452.0"
      ]
     },
     "execution_count": 70,
     "metadata": {},
     "output_type": "execute_result"
    }
   ],
   "source": [
    "sum(lists[1])"
   ]
  },
  {
   "cell_type": "code",
   "execution_count": 72,
   "metadata": {
    "collapsed": false
   },
   "outputs": [
    {
     "data": {
      "text/plain": [
       "1551.0"
      ]
     },
     "execution_count": 72,
     "metadata": {},
     "output_type": "execute_result"
    }
   ],
   "source": [
    "sum(lists[2])"
   ]
  },
  {
   "cell_type": "markdown",
   "metadata": {},
   "source": [
    "#### 2. 대수의 법칙 (기대값 계산)\n",
    "\n",
    "기대값은 모든 경우의 수의 값에 그 확률을 곱한 값을 의미합니다.\n",
    "\n",
    "![수식 기대값](./image/DoingMathWithPython.Ch05.equation.03.png)\n",
    "\n",
    "그럼 주사위를 던졌을 경우의 기대값은 다음과 같습니다."
   ]
  },
  {
   "cell_type": "code",
   "execution_count": 73,
   "metadata": {
    "collapsed": false
   },
   "outputs": [
    {
     "data": {
      "text/plain": [
       "3.5"
      ]
     },
     "execution_count": 73,
     "metadata": {},
     "output_type": "execute_result"
    }
   ],
   "source": [
    "e = 1*(1/6) + 2*(1/6) + 3*(1/6) + 4*(1/6) + 5*(1/6) + 6*(1/6)\n",
    "e"
   ]
  },
  {
   "cell_type": "markdown",
   "metadata": {},
   "source": [
    "주사위를 던지는 회수를 늘려가면서 기대값대로 나오는지를 입증하는 프로그램을 작성하세요.\n",
    "\n",
    "먼저, 재사용 가능한 형태로 기대값을 구하는 함수부터 구하는 만들어 보겠습니다."
   ]
  },
  {
   "cell_type": "code",
   "execution_count": 75,
   "metadata": {
    "collapsed": false
   },
   "outputs": [],
   "source": [
    "def GetExpectedValue(events, probabilities):\n",
    "    elements = [x*p for x,p in zip(events, probabilities)]\n",
    "    return sum(elements)   "
   ]
  },
  {
   "cell_type": "markdown",
   "metadata": {},
   "source": [
    "위 함수가 제대로 동작하는지 앞에서 직접 계산해본 주사위를 던졌을 경우의 기대값을 함수를 통해서 구해보겠습니다."
   ]
  },
  {
   "cell_type": "code",
   "execution_count": 76,
   "metadata": {
    "collapsed": false
   },
   "outputs": [
    {
     "data": {
      "text/plain": [
       "3.5"
      ]
     },
     "execution_count": 76,
     "metadata": {},
     "output_type": "execute_result"
    }
   ],
   "source": [
    "events = [1,2,3,4,5,6]\n",
    "probabilities = [1/6,1/6,1/6,1/6,1/6,1/6]\n",
    "\n",
    "GetExpectedValue(events, probabilities)"
   ]
  },
  {
   "cell_type": "markdown",
   "metadata": {},
   "source": [
    "그럼 이제 주사위를 던지를 횟수를 늘려가면서 실제로 비슷하게 나오는지 살펴보겠습니다."
   ]
  },
  {
   "cell_type": "code",
   "execution_count": 79,
   "metadata": {
    "collapsed": true
   },
   "outputs": [],
   "source": [
    "def GetExpectedValueInMultipleDrawing(num):\n",
    "    acc = 0\n",
    "    for i in range(num):\n",
    "        acc += events[get_index(probabilities)]\n",
    "    return acc / num"
   ]
  },
  {
   "cell_type": "code",
   "execution_count": 84,
   "metadata": {
    "collapsed": false
   },
   "outputs": [
    {
     "data": {
      "text/plain": [
       "3.42"
      ]
     },
     "execution_count": 84,
     "metadata": {},
     "output_type": "execute_result"
    }
   ],
   "source": [
    "GetExpectedValueInMultipleDrawing(100)"
   ]
  },
  {
   "cell_type": "code",
   "execution_count": 83,
   "metadata": {
    "collapsed": false
   },
   "outputs": [
    {
     "data": {
      "text/plain": [
       "3.4688"
      ]
     },
     "execution_count": 83,
     "metadata": {},
     "output_type": "execute_result"
    }
   ],
   "source": [
    "GetExpectedValueInMultipleDrawing(10000)"
   ]
  },
  {
   "cell_type": "code",
   "execution_count": 82,
   "metadata": {
    "collapsed": false
   },
   "outputs": [
    {
     "data": {
      "text/plain": [
       "3.50564"
      ]
     },
     "execution_count": 82,
     "metadata": {},
     "output_type": "execute_result"
    }
   ],
   "source": [
    "GetExpectedValueInMultipleDrawing(100000)"
   ]
  },
  {
   "cell_type": "markdown",
   "metadata": {},
   "source": [
    "#### 3. 돈이 떨어지기 전에 토스 시도 횟수는 ?\n",
    "\n",
    "동전을 던져서 앞면이 나오면 $1를 얻고, 뒷면이 나오면 $1.5를 잃는 게임이 있습니다.\n",
    "(누가봐도 불공평한 이딴 겜을 누가 할지는 모르겠습니다만... 어쨌든 하는 사람이 있다고 합시다.)\n",
    "잔고가 0이 되면 게임이 끝납니다.\n",
    "이 게임을 시뮬레이션하는 코드를 작성하세요."
   ]
  },
  {
   "cell_type": "code",
   "execution_count": 94,
   "metadata": {
    "collapsed": true
   },
   "outputs": [],
   "source": [
    "events = [1, -1.5]\n",
    "probabilities = [0.5, 0.5]\n",
    "\n",
    "def PlayDrawGame(balances):\n",
    "    cnt = 0\n",
    "    while balances > 0:\n",
    "        index = get_index(probabilities)\n",
    "        balances += events[index]\n",
    "        cnt += 1\n",
    "        print('{0:3} {1} ! Current amount: {2:.1f}'.format(cnt, 'Heads' if index == 0 else 'Tails', balances))\n",
    "    \n",
    "    print('Game Over ! Coin tosses {0:3} times'.format(cnt))"
   ]
  },
  {
   "cell_type": "code",
   "execution_count": 100,
   "metadata": {
    "collapsed": false
   },
   "outputs": [
    {
     "name": "stdout",
     "output_type": "stream",
     "text": [
      "  1 Tails ! Current amount: 8.5\n",
      "  2 Tails ! Current amount: 7.0\n",
      "  3 Tails ! Current amount: 5.5\n",
      "  4 Heads ! Current amount: 6.5\n",
      "  5 Tails ! Current amount: 5.0\n",
      "  6 Tails ! Current amount: 3.5\n",
      "  7 Tails ! Current amount: 2.0\n",
      "  8 Tails ! Current amount: 0.5\n",
      "  9 Heads ! Current amount: 1.5\n",
      " 10 Heads ! Current amount: 2.5\n",
      " 11 Tails ! Current amount: 1.0\n",
      " 12 Tails ! Current amount: -0.5\n",
      "Game Over ! Coin tosses  12 times\n"
     ]
    }
   ],
   "source": [
    "PlayDrawGame(10)"
   ]
  },
  {
   "cell_type": "markdown",
   "metadata": {},
   "source": [
    "#### 4. 카드뭉치 섞기\n",
    "\n",
    "52장의 트럼프카드를 섞는(shuffling)하는 프로그램을 작성하세요.\n",
    "\n",
    "먼저 파이썬 표준라이브러리의 `random` 모듈에 있는 `shuffle()`함수에 대해 살펴보겠습니다."
   ]
  },
  {
   "cell_type": "code",
   "execution_count": 109,
   "metadata": {
    "collapsed": false
   },
   "outputs": [
    {
     "data": {
      "text/plain": [
       "[4, 2, 3, 1]"
      ]
     },
     "execution_count": 109,
     "metadata": {},
     "output_type": "execute_result"
    }
   ],
   "source": [
    "import random\n",
    "x = [1, 2, 3, 4]\n",
    "random.shuffle(x)\n",
    "x"
   ]
  },
  {
   "cell_type": "markdown",
   "metadata": {},
   "source": [
    "트럼프에는 총 52장의 카드가 있으니 숫자 1 ~ 52를 이용해서 셔플을 한 후에 해당 숫자를 트럼프 카드와 매핑을 해주는 클래스를 이용하는 방식으로 구현해 보겠습니다.\n",
    "먼저 1 ~ 52까지의 숫자를 트럼프 카드로 매핑하는 클래스를 만들어 보겠습니다."
   ]
  },
  {
   "cell_type": "code",
   "execution_count": 114,
   "metadata": {
    "collapsed": true
   },
   "outputs": [],
   "source": [
    "class Trump:\n",
    "    suits = ['spades','diamonds','clubs','hearts']\n",
    "    ranks = ['ace','two','three','four','five','six','seven','eight','nine','ten','jack','queen','king']\n",
    "    \n",
    "    def __init__(self, idx):\n",
    "        self.suit = self.suits[idx // 13]\n",
    "        self.rank = self.ranks[idx % 13]\n",
    "    \n",
    "    def print(self):\n",
    "        print('{0} of {1}'.format(self.rank, self.suit))"
   ]
  },
  {
   "cell_type": "markdown",
   "metadata": {},
   "source": [
    "이제 위 클래스를 이용해서 카드를 셔플해 보겠습니다.\n",
    "\n",
    "먼저 0 ~ 52 사이의 숫자를 셔플하겠습니다."
   ]
  },
  {
   "cell_type": "code",
   "execution_count": 112,
   "metadata": {
    "collapsed": false
   },
   "outputs": [
    {
     "name": "stdout",
     "output_type": "stream",
     "text": [
      "[36, 5, 51, 37, 9, 25, 1, 33, 34, 40, 7, 43, 21, 48, 17, 50, 42, 49, 16, 15, 12, 23, 29, 27, 41, 35, 22, 4, 44, 19, 32, 13, 8, 2, 11, 39, 14, 0, 46, 10, 6, 38, 26, 24, 31, 20, 3, 28, 47, 45, 30, 18]\n"
     ]
    }
   ],
   "source": [
    "import random\n",
    "\n",
    "cards = list(range(52))\n",
    "random.shuffle(cards)\n",
    "\n",
    "print(cards)"
   ]
  },
  {
   "cell_type": "markdown",
   "metadata": {},
   "source": [
    "이 결과를 `Trump` 클래스를 이용해서 출력해 보겠습니다."
   ]
  },
  {
   "cell_type": "code",
   "execution_count": 118,
   "metadata": {
    "collapsed": false
   },
   "outputs": [
    {
     "name": "stdout",
     "output_type": "stream",
     "text": [
      "jack of clubs\n",
      "six of spades\n",
      "king of hearts\n",
      "queen of clubs\n",
      "ten of spades\n",
      "king of diamonds\n",
      "two of spades\n",
      "eight of clubs\n",
      "nine of clubs\n",
      "two of hearts\n",
      "eight of spades\n",
      "five of hearts\n",
      "nine of diamonds\n",
      "ten of hearts\n",
      "five of diamonds\n",
      "queen of hearts\n",
      "four of hearts\n",
      "jack of hearts\n",
      "four of diamonds\n",
      "three of diamonds\n",
      "king of spades\n",
      "jack of diamonds\n",
      "four of clubs\n",
      "two of clubs\n",
      "three of hearts\n",
      "ten of clubs\n",
      "ten of diamonds\n",
      "five of spades\n",
      "six of hearts\n",
      "seven of diamonds\n",
      "seven of clubs\n",
      "ace of diamonds\n",
      "nine of spades\n",
      "three of spades\n",
      "queen of spades\n",
      "ace of hearts\n",
      "two of diamonds\n",
      "ace of spades\n",
      "eight of hearts\n",
      "jack of spades\n",
      "seven of spades\n",
      "king of clubs\n",
      "ace of clubs\n",
      "queen of diamonds\n",
      "six of clubs\n",
      "eight of diamonds\n",
      "four of spades\n",
      "three of clubs\n",
      "nine of hearts\n",
      "seven of hearts\n",
      "five of clubs\n",
      "six of diamonds\n"
     ]
    }
   ],
   "source": [
    "trumps = [Trump(card) for card in cards]\n",
    "\n",
    "for trump in trumps:\n",
    "    trump.print()"
   ]
  },
  {
   "cell_type": "markdown",
   "metadata": {},
   "source": [
    "#### 5. 원의 면적 추정\n",
    "\n",
    "원의 면적은 `pi * r^2`이라는 공식이라는 것을 알고 있습니다만,\n",
    "이것이 정말로 맞는지를 다른 방법으로 추정해 보고자 합니다.\n",
    "한쪽면의 길이가 `2r`인 정사각형 안에 반지름 `r`인 원으로 구성된 다트보드가 있다고 생각해 봅시다.\n",
    "여기에 다트를 던졌을 경우 원 안에 명중한 갯수를 `N`개라고 하고 나머지는 원 안이 아닌 정사각형 보드위에 맞췄다고 가정하겠습니다. (M)\n",
    "정사각형 보드 밖으로 나가는 경우는 생각하지 않겠습니다.\n",
    "이럴 경우 원안에 명중할 확률은 `f = N / (N + M)`이 됩니다.\n",
    "정사각형의 면적이 `A`일 경우 `A * f`는 원의 면적과 같을 것입니다.\n",
    "\n",
    "이것을 직접 프로그램으로 구현하여 던지는 횟수를 다르게 하여 실제 원의 면적과 얼마나 차이가 나는지를 살펴보세요.\n",
    "\n",
    "먼저 실제 원의 면적을 구해보겠습니다.\n",
    "(반지름이 2이라 가정하겠습니다.)"
   ]
  },
  {
   "cell_type": "code",
   "execution_count": 122,
   "metadata": {
    "collapsed": false
   },
   "outputs": [
    {
     "data": {
      "text/plain": [
       "12.5663706143592"
      ]
     },
     "execution_count": 122,
     "metadata": {},
     "output_type": "execute_result"
    }
   ],
   "source": [
    "from sympy import pi, N\n",
    "\n",
    "r = 2\n",
    "N(pi *r**2)"
   ]
  },
  {
   "cell_type": "markdown",
   "metadata": {},
   "source": [
    "이제 다트를 던졌을 때 원안에 맞은 확률을 구해야 합니다.\n",
    "이 확률을 구하기 위해서 다트를 던지는 것의 시뮬레이션 결과 중 명중한 것을 `1`, 그렇지 않은 것을 `0`으로 하겠습니다.\n",
    "그 결과에 정사각형의 면접과 곱한한 결과가 위에 계산결과와 맞는지를 비교해 보겠습니다.\n",
    "\n",
    "원 안에 맞았다는 것을 어떻게 구현해야 할까요 ?\n",
    "다트가 명중한 곳과 원의 중심간의 거리가 반지름(2)보다 작은 경우 명중했다고 생각하겠습니다.\n",
    "계산상 편의를 위해 원의 중심을 `(0, 0)`으로 생각하고 좌표를 랜덤으로 생성하겠습니다. (`-2 ~ 2`)"
   ]
  },
  {
   "cell_type": "code",
   "execution_count": 131,
   "metadata": {
    "collapsed": false
   },
   "outputs": [],
   "source": [
    "import random\n",
    "\n",
    "def Dart():\n",
    "    x = random.uniform(-2, 2)\n",
    "    y = random.uniform(-2, 2)\n",
    "    dist = (x*x + y*y)**0.5\n",
    "    return True if dist < 2 else False\n",
    "\n",
    "def ProbabilityOfDart(number):\n",
    "    shootings = [1 if Dart() else 0 for x in range(number)]\n",
    "    return sum(shootings) / number\n",
    "\n",
    "def GetExpectedOfDart(number, length):\n",
    "    return ProbabilityOfDart(number) * length * length "
   ]
  },
  {
   "cell_type": "code",
   "execution_count": 135,
   "metadata": {
    "collapsed": false
   },
   "outputs": [
    {
     "data": {
      "text/plain": [
       "11.68"
      ]
     },
     "execution_count": 135,
     "metadata": {},
     "output_type": "execute_result"
    }
   ],
   "source": [
    "GetExpectedOfDart(100, 4)"
   ]
  },
  {
   "cell_type": "code",
   "execution_count": 136,
   "metadata": {
    "collapsed": false
   },
   "outputs": [
    {
     "data": {
      "text/plain": [
       "12.592"
      ]
     },
     "execution_count": 136,
     "metadata": {},
     "output_type": "execute_result"
    }
   ],
   "source": [
    "GetExpectedOfDart(1000, 4)"
   ]
  },
  {
   "cell_type": "code",
   "execution_count": 137,
   "metadata": {
    "collapsed": false
   },
   "outputs": [
    {
     "data": {
      "text/plain": [
       "12.6848"
      ]
     },
     "execution_count": 137,
     "metadata": {},
     "output_type": "execute_result"
    }
   ],
   "source": [
    "GetExpectedOfDart(10000, 4)"
   ]
  },
  {
   "cell_type": "code",
   "execution_count": 138,
   "metadata": {
    "collapsed": false
   },
   "outputs": [
    {
     "data": {
      "text/plain": [
       "12.56928"
      ]
     },
     "execution_count": 138,
     "metadata": {},
     "output_type": "execute_result"
    }
   ],
   "source": [
    "GetExpectedOfDart(100000, 4)"
   ]
  }
 ],
 "metadata": {
  "celltoolbar": "Raw Cell Format",
  "kernelspec": {
   "display_name": "Python 3",
   "language": "python",
   "name": "python3"
  },
  "language_info": {
   "codemirror_mode": {
    "name": "ipython",
    "version": 3
   },
   "file_extension": ".py",
   "mimetype": "text/x-python",
   "name": "python",
   "nbconvert_exporter": "python",
   "pygments_lexer": "ipython3",
   "version": "3.5.2"
  }
 },
 "nbformat": 4,
 "nbformat_minor": 0
}
