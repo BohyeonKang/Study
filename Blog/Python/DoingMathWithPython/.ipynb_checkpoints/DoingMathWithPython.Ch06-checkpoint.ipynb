{
 "cells": [
  {
   "cell_type": "markdown",
   "metadata": {},
   "source": [
    "# 파이썬으로 풀어보는 수학\n",
    "\n",
    "- 원서명 : Doing Math with Python: Use Programming to Explore Algebra, Statistics, Calculus, and More! (ISBN 9781593276409)\n",
    "- 지은이 : 아미트 사하(Amit Saha)\n",
    "- 원서 및 관련자료 : <https://www.nostarch.com/doingmathwithpython>\n",
    "- 번역서 : <http://www.acornpub.co.kr/book/doing-math-with-python>\n",
    "\n",
    "![책표지](./image/cover.jpg)"
   ]
  },
  {
   "cell_type": "markdown",
   "metadata": {},
   "source": [
    "## 6장 기하학적 형상과 프랙탈 그리기\n",
    "\n",
    "### 1. MatPlotLib의 패치(patches)로 기하학적 형상 그리기\n",
    "\n",
    "앞장에서 `matplotlib`을 사용하여 그래프를 그리는 것은 많이 해봤습니다."
   ]
  },
  {
   "cell_type": "code",
   "execution_count": 1,
   "metadata": {
    "collapsed": true
   },
   "outputs": [],
   "source": [
    "import matplotlib.pyplot as plt\n",
    "\n",
    "x = [1, 2, 3]\n",
    "y = [1, 2, 3]\n",
    "\n",
    "plt.plot(x, y)\n",
    "plt.show()"
   ]
  },
  {
   "cell_type": "markdown",
   "metadata": {},
   "source": [
    "![그래프](./image/DoingMathWithPython.Ch06.01.png)\n",
    "\n",
    "우리가 명시적으로 생성하지는 않았지만 그래프를 위해 `Figure`객체와 `Axes`객체를 내부적으로 자동생성하여서 그 위에 그래프를 작성한 것입니다.\n",
    "명시적으로 `Figure`와 `Axes`객체를 생성 할 수 있습니다."
   ]
  },
  {
   "cell_type": "code",
   "execution_count": 3,
   "metadata": {
    "collapsed": false
   },
   "outputs": [
    {
     "data": {
      "text/plain": [
       "<matplotlib.figure.Figure at 0x2ae4677c9e8>"
      ]
     },
     "execution_count": 3,
     "metadata": {},
     "output_type": "execute_result"
    }
   ],
   "source": [
    "fig = plt.figure()\n",
    "fig"
   ]
  },
  {
   "cell_type": "code",
   "execution_count": 4,
   "metadata": {
    "collapsed": false
   },
   "outputs": [
    {
     "data": {
      "text/plain": [
       "<matplotlib.axes._subplots.AxesSubplot at 0x2ae46a59668>"
      ]
     },
     "execution_count": 4,
     "metadata": {},
     "output_type": "execute_result"
    }
   ],
   "source": [
    "ax = plt.axes()\n",
    "ax"
   ]
  },
  {
   "cell_type": "markdown",
   "metadata": {},
   "source": [
    "명시적 생성뿐 아니라 현재 객체에 대한 참조를 가져오는 함수도 존재합니다.\n",
    "만약 해당 객체가 존재하지 않는 상태에서는 생성을 합니다."
   ]
  },
  {
   "cell_type": "code",
   "execution_count": 5,
   "metadata": {
    "collapsed": false
   },
   "outputs": [
    {
     "data": {
      "text/plain": [
       "<matplotlib.figure.Figure at 0x2ae4677c9e8>"
      ]
     },
     "execution_count": 5,
     "metadata": {},
     "output_type": "execute_result"
    }
   ],
   "source": [
    "plt.gcf()"
   ]
  },
  {
   "cell_type": "code",
   "execution_count": 6,
   "metadata": {
    "collapsed": false
   },
   "outputs": [
    {
     "data": {
      "text/plain": [
       "<matplotlib.axes._subplots.AxesSubplot at 0x2ae46a59668>"
      ]
     },
     "execution_count": 6,
     "metadata": {},
     "output_type": "execute_result"
    }
   ],
   "source": [
    "plt.gca()"
   ]
  },
  {
   "cell_type": "markdown",
   "metadata": {},
   "source": [
    "이 얘기를 한 이유는 `matplotlib`에 도형(기하학적 형상)을 그리는데 필요하기 때문입니다.\n",
    "\n",
    "#### 원 그리기\n",
    "\n",
    "원을 생성하여 축(axes)에 추가하는 방법으로 그릴 수 있습니다."
   ]
  },
  {
   "cell_type": "code",
   "execution_count": 12,
   "metadata": {
    "collapsed": false
   },
   "outputs": [],
   "source": [
    "circle = plt.Circle((0, 0), radius = 0.5)\n",
    "plt.gca().add_patch(circle)\n",
    "plt.axis('scaled')\n",
    "plt.show()"
   ]
  },
  {
   "cell_type": "markdown",
   "metadata": {},
   "source": [
    "![원](./image/DoingMathWithPython.Ch06.02.png)\n",
    "\n",
    "패치의 색상을 변경하려면 `fc`(채우기)와 `ec`(테두리)에 색상을 전달하면 됩니다.\n",
    "원(`Circle`) 이외에 타원(`Ellipse`), 다각형(`Polygon`), 직사각형(`Rectangle`) 등의 여러가지 다른 패치도 지원합니다."
   ]
  },
  {
   "cell_type": "code",
   "execution_count": 20,
   "metadata": {
    "collapsed": false
   },
   "outputs": [],
   "source": [
    "circle = plt.Rectangle((1,1), height = 3, width = 5, fc = 'r', ec = 'g')\n",
    "plt.gca().add_patch(circle)\n",
    "plt.axis('scaled')\n",
    "plt.show()"
   ]
  },
  {
   "cell_type": "markdown",
   "metadata": {},
   "source": [
    "![사각형](./image/DoingMathWithPython.Ch06.03.png)\n",
    "\n",
    "### 2. 움직이는 그림 만들기\n",
    "\n",
    "`matplotlib`의 `animation`기능을 이용하면 움직이는 그림을 만들 수 있습니다.\n",
    "윈도우를 닫을때까지 반지름이 무한대로 커지는 원을 그려보겠습니다."
   ]
  },
  {
   "cell_type": "code",
   "execution_count": 25,
   "metadata": {
    "collapsed": false
   },
   "outputs": [],
   "source": [
    "from matplotlib import animation\n",
    "from matplotlib import pyplot as plt\n",
    "\n",
    "circle = plt.Circle((0,0), 0.05)\n",
    "\n",
    "def update_radius(i, circle):\n",
    "    circle.radius = i * 0.5\n",
    "    return circle\n",
    "\n",
    "fig = plt.gcf()\n",
    "\n",
    "ax = plt.axes(xlim=(-10,10), ylim=(-10,10))\n",
    "ax.set_aspect('equal')\n",
    "ax.add_patch(circle)\n",
    "\n",
    "ani = animation.FuncAnimation(fig, update_radius, fargs = (circle,), frames = 30, interval=50)\n",
    "\n",
    "plt.title('Simple Circle Animation')\n",
    "plt.show()"
   ]
  },
  {
   "cell_type": "markdown",
   "metadata": {},
   "source": [
    "![원 애니메이션](./image/DoingMathWithPython.Ch06.04.png)\n",
    "\n",
    "중심에서부터 원이 점점 커지는 애니메이션이 30 프레임만큼 진행된 후 후 다시 처음부터 시작하는 것을 확인할 수 있습니다.  \n",
    "`animation.FuncAnimation`에 전달되는 인자들의 목록을 살펴보겠습니다.\n",
    "\n",
    "- `fig` : 현 그림의 객체\n",
    "- `update_radius` : 프레임 번호와 프레임마다 갱신하기를 바라는 패치 객체가 전달되어서 원하는 모양으로 변경한 뒤 패치 객체를 리턴\n",
    "- `fargs` : `update_radius()`에게 전달되는 인자들의 목록 (프레임 번호는 제외)\n",
    "- `frames` : 애니메이션의 프레임 개수. 여기에 적힌 수 만큼 `update_radius()`를 호출하게 됨\n",
    "- `interval` : 프레임 간의 시간 간격 (밀리미터 단위)\n",
    "- `repeat` : `True`, `False` 값을 가질 수 있으며 애니메이션의 반복 유무를 결정. (default는 `True`)\n",
    "\n",
    "`animation.FuncAnimation` 객체를 사용하지 않으면서 변수로 저장한 이유는 가비지 컬렉터에 의해서 해제되지 않게하기 위함입니다.\n",
    "\n",
    "#### 투사체의 포물선 애니메이션\n",
    "\n",
    "2장에서 던진 공에 대한 포물선 운동 궤적을 그래프로 표시해보았습니다.\n",
    "이번에는 이를 애니메이션으로 구현해 보겠습니다.\n",
    "\n",
    "먼저 2장에서 배운 내용에 대해서 간략하게 복습해 보겠습니다.\n",
    "\n",
    "- 초기속도 : u\n",
    "- 초기던진 각도 : theta\n",
    "- x방향 속도 : u * cos(theta)\n",
    "- y방향 속도 : u * sin(theta) - gt\n",
    "\n",
    "비행시간은 y방향으로 최고점에 도달하는 시간의 2배입니다.\n",
    "최고점에 도달하는 시간은 y방향의 속도가 0이 되는 시점입니다.\n",
    "이를 `sympy`를 이용해서 풀어보겠습니다."
   ]
  },
  {
   "cell_type": "code",
   "execution_count": 2,
   "metadata": {
    "collapsed": false
   },
   "outputs": [
    {
     "name": "stdout",
     "output_type": "stream",
     "text": [
      "-g⋅t + u⋅sin(θ)\n"
     ]
    }
   ],
   "source": [
    "from sympy import Symbol, symbols, sin, cos, solve, pprint\n",
    "u, theta, g, time = symbols('u,theta,g,t')\n",
    "\n",
    "xSpeed = u * cos(theta)\n",
    "ySpeed = u * sin(theta) - g * time\n",
    "pprint(ySpeed)"
   ]
  },
  {
   "cell_type": "code",
   "execution_count": 3,
   "metadata": {
    "collapsed": false
   },
   "outputs": [
    {
     "name": "stdout",
     "output_type": "stream",
     "text": [
      "2⋅u⋅sin(θ)\n",
      "──────────\n",
      "    g     \n"
     ]
    }
   ],
   "source": [
    "s = solve(ySpeed, time)\n",
    "flightTime = s[0] * 2\n",
    "pprint(flightTime)"
   ]
  },
  {
   "cell_type": "markdown",
   "metadata": {},
   "source": [
    "- 비행시간 : 2 * u * sin(theta) / g"
   ]
  },
  {
   "cell_type": "code",
   "execution_count": 4,
   "metadata": {
    "collapsed": false
   },
   "outputs": [
    {
     "name": "stdout",
     "output_type": "stream",
     "text": [
      "t⋅u⋅cos(θ)\n"
     ]
    }
   ],
   "source": [
    "xDistance = xSpeed * time\n",
    "pprint(xDistance)"
   ]
  },
  {
   "cell_type": "code",
   "execution_count": 5,
   "metadata": {
    "collapsed": false,
    "scrolled": true
   },
   "outputs": [
    {
     "name": "stdout",
     "output_type": "stream",
     "text": [
      "     2             \n",
      "  g⋅t              \n",
      "- ──── + t⋅u⋅sin(θ)\n",
      "   2               \n"
     ]
    }
   ],
   "source": [
    "from sympy import expand\n",
    "yDistance = expand(ySpeed * time + g * time ** 2 / 2)\n",
    "pprint(yDistance)"
   ]
  },
  {
   "cell_type": "markdown",
   "metadata": {
    "collapsed": true
   },
   "source": [
    "`y`방향 이동거리는 적분을 통해서 계산을 해야하므로 유도과정은 생략하겠습니다.\n",
    "\n",
    "그럼 위 수식을 이용해서 `u`와 `theta`값이 주어졌을 경우 최대 비행시간을 구하고 그것으로 `x`축 `y`축의 최대이동 거리를 구하는 함수를 만들어 보겠습니다."
   ]
  },
  {
   "cell_type": "code",
   "execution_count": 6,
   "metadata": {
    "collapsed": false
   },
   "outputs": [
    {
     "data": {
      "text/plain": [
       "0.721537531823008"
      ]
     },
     "execution_count": 6,
     "metadata": {},
     "output_type": "execute_result"
    }
   ],
   "source": [
    "import math\n",
    "def GetFlightTime(speed, radian, gravity = 9.8):\n",
    "    radian = math.radians(radian)\n",
    "    return flightTime.subs({u: speed, theta: radian, g: gravity})\n",
    "\n",
    "GetFlightTime(5, 45)"
   ]
  },
  {
   "cell_type": "code",
   "execution_count": 7,
   "metadata": {
    "collapsed": false
   },
   "outputs": [
    {
     "data": {
      "text/plain": [
       "(2.55102040816327, 0.637755102040816)"
      ]
     },
     "execution_count": 7,
     "metadata": {},
     "output_type": "execute_result"
    }
   ],
   "source": [
    "def GetFlightDistance(speed, radian, gravity = 9.8):\n",
    "    t = GetFlightTime(speed, radian, gravity)\n",
    "    radian = math.radians(radian)\n",
    "    xDist = xDistance.subs({u: speed, theta: radian, time: t})\n",
    "    yDist = yDistance.subs({u: speed, theta: radian, time: t / 2, g: gravity})\n",
    "    return xDist, yDist\n",
    "\n",
    "GetFlightDistance(5, 45)"
   ]
  },
  {
   "cell_type": "markdown",
   "metadata": {},
   "source": [
    "`y`축은 전체시간으로 이동거리를 계산하면 0에 가까운 수가 나옵니다.\n",
    "그러니 최고 높이인 `t/2`만큼의 시간동안의 이동거리로 계산해서 화면에 표시할 최대 크기를 구해냅니다.\n",
    "이제 포물선 그래프를 그리는데 필요한 모든 계산은 끝났습니다.\n",
    "위 계산식을 이용해서 실제 비행동안의 `x`,`y`좌표들을 계산해주는 함수를 작성해 보겠습니다."
   ]
  },
  {
   "cell_type": "code",
   "execution_count": 8,
   "metadata": {
    "collapsed": false
   },
   "outputs": [],
   "source": [
    "def GetProjectilePoints(speed, radian, gravity = 9.8, step = 0.001):\n",
    "    t = GetFlightTime(speed, radian, gravity)\n",
    "    \n",
    "    radian = math.radians(radian)\n",
    "    currentTime = 0\n",
    "    xList = []\n",
    "    yList = []\n",
    "    while currentTime <= t:\n",
    "        xList.append(xDistance.subs({u: speed, theta: radian, time: currentTime}))\n",
    "        yList.append(yDistance.subs({u: speed, theta: radian, time: currentTime, g: gravity}))\n",
    "        currentTime += step\n",
    "    return xList, yList"
   ]
  },
  {
   "cell_type": "markdown",
   "metadata": {},
   "source": [
    "그냥 위 함수의 결과에 대해서 그림만 그려주면 됩니다."
   ]
  },
  {
   "cell_type": "code",
   "execution_count": 14,
   "metadata": {
    "collapsed": false
   },
   "outputs": [],
   "source": [
    "from matplotlib import pyplot as plt\n",
    "\n",
    "def DrawPlot(xList, yList):\n",
    "    plt.plot(xList, yList)\n",
    "    plt.show()\n",
    "\n",
    "def DrawProjectile(speed, radian, gravity = 9.8, step = 0.001):\n",
    "    xList, yList = GetProjectilePoints(speed, radian)\n",
    "    DrawPlot(xList, yList)\n",
    "\n",
    "\n",
    "DrawProjectile(5, 45)\n"
   ]
  },
  {
   "cell_type": "markdown",
   "metadata": {},
   "source": [
    "![그래프](./image/DoingMathWithPython.Ch06.05.png)\n",
    "\n",
    "`plot`상에 그려보니 계산 과정은 제대로 되었다는 것을 확인할 수 있습니다.\n",
    "그럼 이제 원래 목적인 애니메이션으로 표현해 보겠습니다."
   ]
  },
  {
   "cell_type": "code",
   "execution_count": 21,
   "metadata": {
    "collapsed": false
   },
   "outputs": [],
   "source": [
    "from matplotlib import animation\n",
    "\n",
    "def update_position(i, circle, xList, yList):\n",
    "    circle.center = xList[i], yList[i]\n",
    "    return circle\n",
    "\n",
    "def AnimateProjectile(speed, radian, gravity = 9.8, step = 0.005):\n",
    "    t = GetFlightTime(speed, radian, gravity)\n",
    "    xDist, yDist = GetFlightDistance(speed, radian, gravity)\n",
    "\n",
    "    circle = plt.Circle((0,0), 0.1)\n",
    "\n",
    "    fig = plt.gcf()\n",
    "    ax = plt.axes(xlim=(0, float(xDist)), ylim=(0, float(yDist)))\n",
    "    ax.set_aspect('equal')\n",
    "    ax.add_patch(circle)\n",
    "    \n",
    "    xList, yList = GetProjectilePoints(speed, radian, gravity, step)\n",
    "\n",
    "    maxFrame = int(t / step)\n",
    "    ani = animation.FuncAnimation(fig, update_position, fargs = (circle, xList, yList), frames = maxFrame, interval=1)\n",
    "    \n",
    "    plt.title('Projectile')\n",
    "    plt.show()\n",
    "\n",
    "AnimateProjectile(5, 45)"
   ]
  },
  {
   "cell_type": "markdown",
   "metadata": {
    "collapsed": true
   },
   "source": [
    "![투사체 애니메이션](./image/DoingMathWithPython.Ch06.06.png)\n",
    "\n",
    "### 3. 프랙탈 그리기\n",
    "\n",
    ">`프랙탈` 이란 단순한 구조가 끊임없이 반복되면서 복잡하고 묘한 전체 구조를 만드는 것으로, 즉`자기유사성(self-similarity)`와 `순환성(recursiveness)`라는 특징을 가지고 있다.  \n",
    "> 우리 생활 속 프랙탈 by 희훈 박 (<https://prezi.com/gffdwoyxj7qd/presentation/>)\n",
    "\n",
    "여기서는 대표적인 **프랙탈** 중 3개 `반즐리의 고사리(Barnsley fern)`, `시어핀스키의 삼각형(Sierpinski triangle)`, `만델브로트 집합(Mandelbrot set)`을 그려보겠습니다.\n",
    "\n",
    "#### 평면상의 점 변환 (단순한 프랙탈 예제)\n",
    "\n",
    "프랙탈의 개념을 이해하기 위해서 가장 단순한 형식으로 프랙탈을 설명해 드리고자 합니다.\n",
    "평면상의 어떤 점 `P(x,y)`가 있을 경우 이것을 다른 임의의 점 `Q(x+1, y+1)`로 변환을 시킬 경우,\n",
    "이 과정을 계속해서 반복하면 우측상단 방향으로 점이 1개씩 생성될 것입니다."
   ]
  },
  {
   "cell_type": "code",
   "execution_count": 1,
   "metadata": {
    "collapsed": false
   },
   "outputs": [],
   "source": [
    "from matplotlib import pyplot as plt\n",
    "from matplotlib import animation\n",
    "\n",
    "def SimplePoint(x, y):\n",
    "    return x+1, y+1\n",
    "\n",
    "def DrawFractal(func, maxStep, drawStyle = 1, startX = 0, startY = 0):\n",
    "    # drawStyle: [1] plot with marker, [2] plot without marker, [3] scatter\n",
    "    x, y = startX, startY\n",
    "    xList = [x]\n",
    "    yList = [y]\n",
    "\n",
    "    for i in range(maxStep):\n",
    "        x, y = func(x, y)\n",
    "        xList.append(x)\n",
    "        yList.append(y)\n",
    "\n",
    "    if (drawStyle == 1):\n",
    "        plt.plot(xList, yList, marker='o')\n",
    "    elif (drawStyle == 2):\n",
    "        plt.plot(xList, yList)\n",
    "    else:\n",
    "        plt.scatter(xList, yList)\n",
    "        \n",
    "    plt.show()\n",
    "\n",
    "DrawFractal(SimplePoint, 10)"
   ]
  },
  {
   "cell_type": "markdown",
   "metadata": {},
   "source": [
    "![한방향 포인트](./image/DoingMathWithPython.Ch06.07.png)\n",
    "\n",
    "여기서 조금의 변화를 줘보겠습니다.\n",
    "이동하는 룰을 하나가 아닌 두 개의 룰을 줄고 랜덤으로 추출하게 하겠습니다."
   ]
  },
  {
   "cell_type": "code",
   "execution_count": 2,
   "metadata": {
    "collapsed": true
   },
   "outputs": [],
   "source": [
    "import random\n",
    "\n",
    "def SimpleTwoPoint(x, y):\n",
    "    rand = random.randint(0,1)\n",
    "    return x+1, y+1 if rand == 1 else y-1\n",
    "\n",
    "DrawFractal(SimpleTwoPoint, 10)    "
   ]
  },
  {
   "cell_type": "markdown",
   "metadata": {},
   "source": [
    "![두방향 랜덤 포인트](./image/DoingMathWithPython.Ch06.08.png)\n",
    "\n",
    "교제에서는 `random.choice()`를 사용하여 구현을 하였습니다.\n",
    "이 함수는 입력된 리스트 중 동일한 확률로 랜덤으로 선택된 결과를 리턴합니다.\n",
    "`random.choice()`를 사용한 방법으로 구현해 보겠습니다."
   ]
  },
  {
   "cell_type": "code",
   "execution_count": 3,
   "metadata": {
    "collapsed": false
   },
   "outputs": [],
   "source": [
    "def Trans0(x, y): return x+1, y+1\n",
    "def Trans1(x, y): return x+1, y-1\n",
    "\n",
    "transList = [Trans0, Trans1]\n",
    "\n",
    "def SimpleTwoPoint(x,y): return random.choice(transList)(x,y)\n",
    "\n",
    "DrawFractal(SimpleTwoPoint, 1000, 2)    "
   ]
  },
  {
   "cell_type": "markdown",
   "metadata": {},
   "source": [
    "![두방향 랜덤 포인트](./image/DoingMathWithPython.Ch06.09.png)\n",
    "\n",
    "일반적으로 이러한 지그재그 경로를 라인상에서 움직이는 모양을 랜덤워크라고 합니다.\n",
    "이런 것이 프랙탈을 생성하기 위한 기초 아이디어입니다.\n",
    "\n",
    "#### 반즐리의 고사리\n",
    "\n",
    "영국수학자 마이클 반즐리(Michael Barnsley)는 점으로 간단한 변환을 반복 적용해 고사리와 같은 구조를 만드는 방법을 설명했습니다.\n",
    "\n",
    ">**변환 1**(0.85%)  \n",
    "x = 0.85x + 0.4y  \n",
    "y = -0.04x + 0.85y + 1.6  \n",
    ">\n",
    ">**변환 2**(0.07%)  \n",
    "x = 0.2x - 0.26y  \n",
    "y = 0.23x + 0.22y + 1.6  \n",
    ">\n",
    ">**변환 3**(0.07%)  \n",
    "x = -0.15x + 0.28x  \n",
    "y = 0.26x + 0.24y + 0.44  \n",
    ">\n",
    ">**변환 4**(0.01%)  \n",
    "x = 0  \n",
    "y = 0.16y  "
   ]
  },
  {
   "cell_type": "markdown",
   "metadata": {},
   "source": [
    "먼저 앞장(ch.05)에서 생성한 비균일 확률에서의 index를 구하는 함수를 재사용하도록 가져오겠습니다."
   ]
  },
  {
   "cell_type": "code",
   "execution_count": 3,
   "metadata": {
    "collapsed": true
   },
   "outputs": [],
   "source": [
    "import random\n",
    "\n",
    "def get_index(probabilities):\n",
    "    max = sum(probabilities)\n",
    "    \n",
    "    acc = 0\n",
    "    rand = random.random() * max\n",
    "    for idx, percent in enumerate(probabilities):\n",
    "        acc += percent\n",
    "        if rand < acc:\n",
    "            return idx\n",
    "    return len(probabilities)"
   ]
  },
  {
   "cell_type": "markdown",
   "metadata": {},
   "source": [
    "이제 위 반즐리의 수식을 이용해서 그려보겠습니다."
   ]
  },
  {
   "cell_type": "code",
   "execution_count": 6,
   "metadata": {
    "collapsed": false
   },
   "outputs": [],
   "source": [
    "def Barnsley1(x, y): return 0.85*x + 0.04*y  , -0.04*x + 0.85*y + 1.6\n",
    "def Barnsley2(x, y): return 0.2*x - 0.26*y   , 0.23*x + 0.22*y + 1.6\n",
    "def Barnsley3(x, y): return -0.15*x + 0.28*y , 0.26*x + 0.24*y + 0.44\n",
    "def Barnsley4(x, y): return 0                , 0.16*y\n",
    "\n",
    "barnsleyList = [Barnsley1, Barnsley2, Barnsley3, Barnsley4]\n",
    "barnsleyPercent = [0.85, 0.07, 0.07, 0.01]\n",
    "\n",
    "def BarnsleyFractal(x,y):\n",
    "    return barnsleyList[get_index(barnsleyPercent)](x,y)\n",
    "\n",
    "DrawFractal(BarnsleyFractal, 10000, 3)   "
   ]
  },
  {
   "cell_type": "markdown",
   "metadata": {
    "collapsed": true
   },
   "source": [
    "![반즐리의 고사리](./image/DoingMathWithPython.Ch06.12.png)\n",
    "\n",
    "### 프로그래밍 연습\n",
    "\n",
    "#### 1. 사각형 내에 원을 포함시키기\n",
    "```\n",
    "먼저 큰 사각형을 하나 그린 다음,\n",
    "그 사각형 내에 반지름 0.5인 원을 사각형 내에 채워넣으세요.\n",
    "(단 사격형의 변의 길이가 1 단위로 소숫점이 없는 길이로 해야만 정확하게 원을 채울 수가 있습니다.)\n",
    "```\n",
    "\n",
    "먼저 `사각형`을 그리는 함수를 생성하겠습니다.\n",
    "나중에 `원`도 그려야 하니 `plot`에 `패치`를 전달하여 그리는 함수와 `사각형 패치`를 전달하는 함수로 분리하겠습니다.\n",
    "`Rectangle`로 그리는 방법은 앞에서 살펴봤으니 이번에는 `Polygon`을 이용해서 그려보겠습니다."
   ]
  },
  {
   "cell_type": "code",
   "execution_count": 19,
   "metadata": {
    "collapsed": false
   },
   "outputs": [],
   "source": [
    "from matplotlib import pyplot as plt\n",
    "\n",
    "def GetSquare(x, y, width, height):\n",
    "    return plt.Polygon([(x,y), (x+width,y), (x+width,y+height), (x,y+height)], closed = True, fc='r')\n",
    "\n",
    "def DrawPatches(patches, width, height):\n",
    "    ax = plt.axes(xlim=(0,width),ylim=(0,height))\n",
    "    ax.set_aspect('equal')\n",
    "    for patch in patches:\n",
    "        ax.add_patch(patch)\n",
    "    plt.show()"
   ]
  },
  {
   "cell_type": "markdown",
   "metadata": {},
   "source": [
    "위에 만든 함수들이 제대로 동작하는지 테스트해 보겠습니다."
   ]
  },
  {
   "cell_type": "code",
   "execution_count": 13,
   "metadata": {
    "collapsed": true
   },
   "outputs": [],
   "source": [
    "s1 = GetSquare(1,1,5,5)\n",
    "s2 = GetSquare(0,0,1,1)\n",
    "\n",
    "DrawPatches([s1, s2], 5,5)"
   ]
  },
  {
   "cell_type": "markdown",
   "metadata": {},
   "source": [
    "![사각형 2개](./image/DoingMathWithPython.Ch06.13.png)\n",
    "\n",
    "잘 그려지는군요. 그럼 원을 그리는 함수를 추가해 보겠습니다."
   ]
  },
  {
   "cell_type": "code",
   "execution_count": 14,
   "metadata": {
    "collapsed": true
   },
   "outputs": [],
   "source": [
    "def GetCircle(x, y, r):\n",
    "    return plt.Circle((x,y), radius = r, fc='b')"
   ]
  },
  {
   "cell_type": "markdown",
   "metadata": {},
   "source": [
    "원을 그리는 함수도 테스트 해보겠습니다."
   ]
  },
  {
   "cell_type": "code",
   "execution_count": 21,
   "metadata": {
    "collapsed": false
   },
   "outputs": [],
   "source": [
    "c1 = GetCircle(0.5,0.5,0.5)\n",
    "c2 = GetCircle(2.5,2.5,1)\n",
    "\n",
    "DrawPatches([c1, c2], 3.5, 3.5)"
   ]
  },
  {
   "cell_type": "markdown",
   "metadata": {},
   "source": [
    "![원 2개](./image/DoingMathWithPython.Ch06.14.png)\n",
    "\n",
    "잘 그려지는군요.\n",
    "그럼 이제 크기를 입력 받아서 해당 영역에 원으로 채우는 로직만 구현해주면 문제가 끝나겠군요."
   ]
  },
  {
   "cell_type": "code",
   "execution_count": 29,
   "metadata": {
    "collapsed": true
   },
   "outputs": [],
   "source": [
    "def MakeCirclesInArea(x, y, width, height, r = 0.5):\n",
    "    cx, cy =  x + r, y + r\n",
    "    ex, ey =  x + width, y + height\n",
    "    circles = []\n",
    "    \n",
    "    while cx + r <=  ex:\n",
    "        while cy + r <= ey:\n",
    "            circles.append(GetCircle(cx,cy,r))\n",
    "            cy += r*2\n",
    "        cx += r*2\n",
    "        cy = y + r\n",
    "        \n",
    "    return circles"
   ]
  },
  {
   "cell_type": "markdown",
   "metadata": {},
   "source": [
    "위 함수가 제대로 동작하는지 테스트 해보겠습니다."
   ]
  },
  {
   "cell_type": "code",
   "execution_count": 30,
   "metadata": {
    "collapsed": false
   },
   "outputs": [],
   "source": [
    "DrawPatches(MakeCirclesInArea(0,0,4,4),4,4)"
   ]
  },
  {
   "cell_type": "markdown",
   "metadata": {},
   "source": [
    "![내접한 원들](./image/DoingMathWithPython.Ch06.15.png)\n",
    "\n",
    "이제 위에서 생성한 함수들을 하나로 합쳐서 문제를 해결하는 함수를 만들어 보겠습니다."
   ]
  },
  {
   "cell_type": "code",
   "execution_count": 32,
   "metadata": {
    "collapsed": false
   },
   "outputs": [],
   "source": [
    "def DrawSquareAndCircles(x, y, width, height, r = 0.5):\n",
    "    square = GetSquare(x, y, width, height)\n",
    "    circles = MakeCirclesInArea(x, y, width, height)\n",
    "\n",
    "    patches = [square]\n",
    "    patches.extend(circles)\n",
    "    \n",
    "    DrawPatches(patches, x+width, y+height)\n",
    "\n",
    "DrawSquareAndCircles(0,0,4,4)"
   ]
  },
  {
   "cell_type": "markdown",
   "metadata": {},
   "source": [
    "![내접한 원들](./image/DoingMathWithPython.Ch06.16.png)\n",
    "\n",
    "#### 2. 시어핀스키의 삼각형 그리기\n",
    "\n",
    "폴란드 수학자 바츌라프 시어핀스키(Waclaw Sierpinski)의 정삼각형을 그리는 프랙탈 규칙은 다음과 같습니다.\n",
    "\n",
    ">**변환 1**  \n",
    "x = 0.5x  \n",
    "y = 0.5y  \n",
    ">**변환 2**  \n",
    "x = 0.5x + 0.5  \n",
    "y = 0.5y + 0.5  \n",
    ">**변환 3**  \n",
    "x = 0.5x + 1\n",
    "y = 0.5y\n",
    "\n",
    "모든 확률은 1/3으로 동일합니다.\n",
    "```\n",
    "시어펀스키의 삼각형을 그리는 프로그램을 작성하세요.\n",
    "```\n",
    "\n",
    "반즐리의 고사리 그리기에 생성한 함수들을 재사용하여 위 수식과 확률만 새로 입력해주면 됩니다."
   ]
  },
  {
   "cell_type": "code",
   "execution_count": 8,
   "metadata": {
    "collapsed": true
   },
   "outputs": [],
   "source": [
    "def Sierpinski1(x, y): return 0.5*x, 0.5*y\n",
    "def Sierpinski2(x, y): return 0.5*x + 0.5, 0.5*y + 0.5\n",
    "def Sierpinski3(x, y): return 0.5*x + 1, 0.5*y\n",
    "\n",
    "SierpinskiList = [Sierpinski1, Sierpinski2, Sierpinski3]\n",
    "SierpinskiPercent = [1,1,1]\n",
    "\n",
    "def SierpinskiFractal(x,y):\n",
    "    return SierpinskiList[get_index(SierpinskiPercent)](x,y)\n",
    "\n",
    "DrawFractal(SierpinskiFractal, 10000, 3)  "
   ]
  },
  {
   "cell_type": "markdown",
   "metadata": {},
   "source": [
    "![시어핀스키 삼각형](./image/DoingMathWithPython.Ch06.17.png)\n",
    "\n",
    "#### 3. 헤논 함수 탐색\n",
    "\n",
    "1976년 마이클 헤논(Michael Henon)은 헤논 함수를 소개하였습니다.\n",
    "\n",
    "> P(x,y) -> Q(y + 1 - 1.4x^2, 0,3x)\n",
    "\n",
    "```\n",
    "(1,1)에서 시작해 2만번 수행하는 그래프를 만들어 보세요.  \n",
    "애니메이션으로 작성하는 경우 추가 점수가 있습니다.\n",
    "```\n",
    "\n",
    "먼저 그래프로 작성해보겠습니다.  "
   ]
  },
  {
   "cell_type": "code",
   "execution_count": 9,
   "metadata": {
    "collapsed": false
   },
   "outputs": [],
   "source": [
    "def HenonFunction(x, y): return y + 1 - (1.4 * x**2), 0.3*x\n",
    "\n",
    "HenonList = [HenonFunction]\n",
    "HenonPercent = [1]\n",
    "\n",
    "def HenonFractal(x,y):\n",
    "    return HenonList[get_index(HenonPercent)](x,y)\n",
    "\n",
    "DrawFractal(HenonFractal, 20000, 3, 0, 0)  "
   ]
  },
  {
   "cell_type": "markdown",
   "metadata": {},
   "source": [
    "![헤논 함수](./image/DoingMathWithPython.Ch06.18.png)\n",
    "\n",
    "책 문제대로 시작점을 `1,1`에서 하면 이상한 곳에 점이 찍힙니다.\n",
    "그냥 `0,0`부터 하면 올바르게 됩니다.\n",
    "\n",
    "이제 추가 점수를 받기 위해 애니메인션으로 작성해 보겠습니다."
   ]
  },
  {
   "cell_type": "code",
   "execution_count": 21,
   "metadata": {
    "collapsed": false
   },
   "outputs": [],
   "source": [
    "from matplotlib import animation\n",
    "\n",
    "def GetHenonResult(step, startX = 0, startY = 0):\n",
    "    x, y = startX, startY\n",
    "    xList, yList = [], []\n",
    "    for i in range(0,step):\n",
    "        xList.append(x)\n",
    "        yList.append(y)\n",
    "        x, y = HenonFunction(x, y)\n",
    "    return xList, yList\n",
    "\n",
    "def update_HenonPosition(i,ax, xList, yList):\n",
    "    circle = plt.Circle((xList[i], yList[i]), 0.01)\n",
    "    ax.add_patch(circle)\n",
    "    return ax\n",
    "\n",
    "def AnimateHenon(maxFrame):\n",
    "    \n",
    "    xList, yList = GetHenonResult(maxFrame, 0, 0)\n",
    "\n",
    "    circle = plt.Circle((0,0), 0.01)\n",
    "\n",
    "    fig = plt.gcf()\n",
    "    ax = plt.axes(xlim=(-1.5, 1.5), ylim=(-0.5, 0.5))\n",
    "    ax.set_aspect('equal')\n",
    "    \n",
    "    ani = animation.FuncAnimation(fig, update_HenonPosition, fargs = (ax, xList, yList), frames = maxFrame, interval=1)\n",
    "    \n",
    "    plt.title('Henon Function')\n",
    "    plt.show()\n",
    "\n",
    "AnimateHenon(20000)"
   ]
  },
  {
   "cell_type": "markdown",
   "metadata": {},
   "source": [
    "![헤논 함수](./image/DoingMathWithPython.Ch06.19.png)\n",
    "\n",
    "기존에는 `circle`의 위치를 업데이트하여 해당 객체를 리턴했는데, 이번에는 그렇게 하면 점들이 계속 움직이기 때문에,\n",
    "`ax`를 전달하여 거기에 `circle`을 추가하고 `ax`를 리턴받는 식으로 구현하였습니다.\n",
    "\n",
    "\n",
    "#### 4. 만델브로트(Mandelbrot) 집합 그리기\n",
    "\n",
    "본 문제를 풀기전에 화면에 이미지를 출력하는 예제가 있습니다.\n",
    "```\n",
    "x,y 가 모두 0에서 5까지인 카르테지안 평면에서 각 축을 따라 5개의 동일한 지점을 고려하여 25개의 영역에 흰색부터 검은색까지의 색분포를 갖는 점들을 색칠하는 프로그램을 작성하도록 합시다. 각각의 점의 색은 검정색을 0, 흰색을 10으로 설정하여 그 사이값을 가집니다.\n",
    "```\n",
    "먼저 2차원 List를 생성하는 함수를 작성해 보겠습니다."
   ]
  },
  {
   "cell_type": "code",
   "execution_count": 89,
   "metadata": {
    "collapsed": true
   },
   "outputs": [],
   "source": [
    "def Get2DList(xSize, ySize):\n",
    "    list2D = []\n",
    "    for x in range(ySize):\n",
    "        list2D.append([])\n",
    "        for y in range(xSize):\n",
    "            list2D[x].append(0)\n",
    "    return list2D           "
   ]
  },
  {
   "cell_type": "markdown",
   "metadata": {},
   "source": [
    "이제 2차원 공간에  색상을 칠한후 이미지로 출력(`imshow`)을 해보겠습니다."
   ]
  },
  {
   "cell_type": "code",
   "execution_count": 90,
   "metadata": {
    "collapsed": false
   },
   "outputs": [],
   "source": [
    "import matplotlib.pyplot as plt\n",
    "import matplotlib.cm as cm\n",
    "import random\n",
    "\n",
    "def MakeRandomColors(xSize, ySize, colorSize):\n",
    "    list2D = Get2DList(xSize, ySize)\n",
    "    \n",
    "    for x in range(xSize):\n",
    "        for y in range(ySize):\n",
    "            list2D[x][y] = random.randint(0, colorSize)\n",
    "            \n",
    "    return list2D\n",
    "\n",
    "def DrawImage(list2D):\n",
    "    plt.imshow(list2D, origin='lower', extent=(0,5,0,5), cmap=cm.Greys_r, interpolation='nearest')\n",
    "    plt.colorbar()\n",
    "    plt.show()\n",
    "\n",
    "DrawImage(MakeRandomColors(5, 5, 10))"
   ]
  },
  {
   "cell_type": "markdown",
   "metadata": {},
   "source": [
    "![imshow 실습](./image/DoingMathWithPython.Ch06.20.png)\n",
    "\n",
    "`imshow`의 주요 인자에 대한 설명입니다.\n",
    "- `origin` : `lower`인 경우 입력된 `list2D[0][0]` 값이 이미지 상 (0,0)으로 매칭\n",
    "- `extent` : 이미지 좌측하단을 (0,0), 우측상단을 (5, 5)로 설정\n",
    "- `cmap=cm.Greys_r` : 회색스케일의 이미지를 생성\n",
    "- `interpolation='nearest` : 가장 인접한 점과는 같은 색상으로 그리지 않도록 설정\n",
    "\n",
    "위 예제를 20 x 20 사이즈의 20 color로 표시해 보겠습니다."
   ]
  },
  {
   "cell_type": "code",
   "execution_count": 91,
   "metadata": {
    "collapsed": false
   },
   "outputs": [],
   "source": [
    "DrawImage(MakeRandomColors(20, 20, 20))"
   ]
  },
  {
   "cell_type": "markdown",
   "metadata": {},
   "source": [
    "![imshow 실습](./image/DoingMathWithPython.Ch06.21.png)\n",
    "\n",
    "이제 본 문제로 들어가겠습니다.\n",
    "\n",
    "##### 만델브로트 집합 그리기\n",
    "```\n",
    "(-2.5, -1.0) ~ (1.0, 1.0) 사이의 x-y평면 영역에 각 축을 400개의 동일한 공간의 점으로 나눕니다.\n",
    "다음에 순서대로 2D List를 채웁니다.\n",
    "\n",
    "\n",
    "1. 2개의 복소수를 생성 (j는 -1**0.5)\n",
    "  z1 = 0 +  0j\n",
    "  c = xi + ykj\n",
    "\n",
    "2. 레이블 iteration을 생성하고 0으로 설정 (iteration = 0)\n",
    "\n",
    "3. 복소수 z1 = z1^2 + c 생성\n",
    "\n",
    "4. itertation 값을 1증가\n",
    "\n",
    "5. abs(z1) < 2 이며 iteration < max_iteration 이면 3단계로 이동, 그렇지 않으면 6단계로 이동 (여기서는 max_teration을 1,000으로 설정 : 값이 클수록 더 복잡한 이미지가 생성되나 더 복잡해짐)\n",
    "\n",
    "6. 점(xi, yk)의 색상은 iteration 값으로 설정\n",
    "```\n",
    "\n",
    "문제만 봐서는 무슨 그림이 나올지 감이 안옵니다.\n",
    "한 단계씩 구현해 보도록 하겠습니다."
   ]
  },
  {
   "cell_type": "code",
   "execution_count": 92,
   "metadata": {
    "collapsed": false
   },
   "outputs": [],
   "source": [
    "def MakeMandelbrotSet(size, max_iteration):\n",
    "    list2D = Get2DList(size, size)\n",
    "\n",
    "    x0, xn = -2.5, 1\n",
    "    y0, yn = -1, 1\n",
    "    dx = (xn - x0) / (size - 1)\n",
    "    dy = (yn - y0) / (size - 1)\n",
    "\n",
    "    for x in range(size):\n",
    "        for y in range(size):\n",
    "            iteration = 0\n",
    "            z = complex(0,0)\n",
    "            c = complex(x0 + x * dx, y0 + y * dy)\n",
    "            while abs(z) < 2 and iteration < max_iteration:\n",
    "                z = z**2 + c\n",
    "                iteration += 1\n",
    "            list2D[y][x] = iteration\n",
    "        \n",
    "    return list2D"
   ]
  },
  {
   "cell_type": "code",
   "execution_count": 93,
   "metadata": {
    "collapsed": false
   },
   "outputs": [],
   "source": [
    "plt.imshow(MakeMandelbrotSet(400,1000), origin='lower', extent=(-2.5, 1, -1,1), cmap=cm.Greys_r, interpolation='nearest')\n",
    "plt.colorbar()\n",
    "plt.show()"
   ]
  },
  {
   "cell_type": "markdown",
   "metadata": {},
   "source": [
    "![imshow 실습](./image/DoingMathWithPython.Ch06.22.png)\n",
    "\n",
    "아래 위키에 가시면 자세한 설명과 재밌는 그림을 볼 수 있습니다.\n",
    "\n",
    "<https://ko.wikipedia.org/wiki/%EB%A7%9D%EB%8D%B8%EB%B8%8C%EB%A1%9C_%EC%A7%91%ED%95%A9>\n",
    "\n",
    "점 갯수를 증가하면 더 이미지가 선명해지고, `max_iteration`을 증가하면 더 복잡한 그림이 됩니다.\n"
   ]
  },
  {
   "cell_type": "code",
   "execution_count": 94,
   "metadata": {
    "collapsed": true
   },
   "outputs": [],
   "source": [
    "plt.imshow(MakeMandelbrotSet(600,2000), origin='lower', extent=(-2.5, 1, -1,1), cmap=cm.Greys_r, interpolation='nearest')\n",
    "plt.colorbar()\n",
    "plt.show()"
   ]
  },
  {
   "cell_type": "markdown",
   "metadata": {},
   "source": [
    "![imshow 실습](./image/DoingMathWithPython.Ch06.23.png)\n",
    "\n",
    "시간만 오래 걸리지 별차이 없어 보이네요."
   ]
  }
 ],
 "metadata": {
  "anaconda-cloud": {},
  "kernelspec": {
   "display_name": "Python [Root]",
   "language": "python",
   "name": "Python [Root]"
  },
  "language_info": {
   "codemirror_mode": {
    "name": "ipython",
    "version": 3
   },
   "file_extension": ".py",
   "mimetype": "text/x-python",
   "name": "python",
   "nbconvert_exporter": "python",
   "pygments_lexer": "ipython3",
   "version": "3.5.2"
  }
 },
 "nbformat": 4,
 "nbformat_minor": 0
}
