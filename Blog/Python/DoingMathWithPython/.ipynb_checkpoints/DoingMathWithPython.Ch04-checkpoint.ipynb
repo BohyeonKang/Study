{
 "cells": [
  {
   "cell_type": "markdown",
   "metadata": {},
   "source": [
    "# 파이썬으로 풀어보는 수학\n",
    "\n",
    "## 4장 SymPy를 이용한 대수와 부호 수학\n",
    "\n",
    "지금까지는 수학문제와 풀이에 직접 숫자를 대입하여 풀었습니다.  \n",
    "하지만 `SymPy`를 이용하여 대수(Algebra)문제를 부호(Symbolic) 수학으로 풀이하는 것이 가능합니다.  \n",
    "\n",
    "### 1. 부호와 부호 연산 정의"
   ]
  },
  {
   "cell_type": "code",
   "execution_count": 1,
   "metadata": {
    "collapsed": false
   },
   "outputs": [
    {
     "data": {
      "text/plain": [
       "3"
      ]
     },
     "execution_count": 1,
     "metadata": {},
     "output_type": "execute_result"
    }
   ],
   "source": [
    "x = 1\n",
    "x + x + 1"
   ]
  },
  {
   "cell_type": "markdown",
   "metadata": {},
   "source": [
    "SymPy는 수학 수식을 표현하고 계산할 수 있는 기능을 제공해 줍니다."
   ]
  },
  {
   "cell_type": "code",
   "execution_count": 3,
   "metadata": {
    "collapsed": false
   },
   "outputs": [
    {
     "data": {
      "text/plain": [
       "2*x + 1"
      ]
     },
     "execution_count": 3,
     "metadata": {},
     "output_type": "execute_result"
    }
   ],
   "source": [
    "from sympy import Symbol\n",
    "x = Symbol('x')\n",
    "x + x + 1"
   ]
  },
  {
   "cell_type": "code",
   "execution_count": 4,
   "metadata": {
    "collapsed": false
   },
   "outputs": [
    {
     "data": {
      "text/plain": [
       "3"
      ]
     },
     "execution_count": 4,
     "metadata": {},
     "output_type": "execute_result"
    }
   ],
   "source": [
    "expr = x + x + 1\n",
    "expr.subs({x : 1})"
   ]
  },
  {
   "cell_type": "markdown",
   "metadata": {
    "collapsed": true
   },
   "source": [
    "`Symbol` 클래스의 인자로 문자열을 전달하여 심볼을 생성합니다.  \n",
    "심볼을 이용한 수식 과 방정식을 정의 할 수 있습니다.\n",
    "`subs()` 함수의 인자로 각 심볼별 값을 `Dictionary`로 전달하면 계산을 해 줍니다."
   ]
  },
  {
   "cell_type": "code",
   "execution_count": 4,
   "metadata": {
    "collapsed": true
   },
   "outputs": [],
   "source": [
    "x = Symbol('x')\n",
    "y = Symbol('y')\n",
    "z = Symbol('z')"
   ]
  },
  {
   "cell_type": "markdown",
   "metadata": {},
   "source": [
    "심볼을 하나씩 만들어 줄 수도 있지만, `Symbols()` 함수를 사용하여 한 번에 생성할 수도 있습니다."
   ]
  },
  {
   "cell_type": "code",
   "execution_count": 45,
   "metadata": {
    "collapsed": false
   },
   "outputs": [
    {
     "data": {
      "image/png": "[encoded data removed]",
      "text/latex": [
       "$$2 x y - z \\left(z + 1\\right)$$"
      ],
      "text/plain": [
       "2⋅x⋅y - z⋅(z + 1)"
      ]
     },
     "execution_count": 45,
     "metadata": {},
     "output_type": "execute_result"
    }
   ],
   "source": [
    "from sympy import symbols\n",
    "x, y, z = symbols('x,y,z')\n",
    "\n",
    "s = x*y + x*y - z * (z + 1)\n",
    "s"
   ]
  },
  {
   "cell_type": "markdown",
   "metadata": {},
   "source": [
    "조금 복잡한 수식을 입력하면 정리하지 않은체 그대로 둡니다."
   ]
  },
  {
   "cell_type": "code",
   "execution_count": 7,
   "metadata": {
    "collapsed": false
   },
   "outputs": [
    {
     "data": {
      "text/plain": [
       "(x + 2)*(x + 3)"
      ]
     },
     "execution_count": 7,
     "metadata": {},
     "output_type": "execute_result"
    }
   ],
   "source": [
    "(x + 2) * (x + 3)"
   ]
  },
  {
   "cell_type": "markdown",
   "metadata": {},
   "source": [
    "### 2. 수식 계산\n",
    "\n",
    "#### 2.1 수식을 요소화, 전개화\n",
    "\n",
    "수식을 요소화(인수분해) 하고 전개하는 방법을 제공합니다.\n",
    "- `factor()` : 수식을 요소화(인수분해)를 합니다.\n",
    "- `expand()` : 수식을 전개합니다."
   ]
  },
  {
   "cell_type": "code",
   "execution_count": 8,
   "metadata": {
    "collapsed": false
   },
   "outputs": [
    {
     "name": "stdout",
     "output_type": "stream",
     "text": [
      "x**2 - y**2\n"
     ]
    }
   ],
   "source": [
    "s = x**2 - y**2\n",
    "print(s)"
   ]
  },
  {
   "cell_type": "code",
   "execution_count": 9,
   "metadata": {
    "collapsed": false
   },
   "outputs": [
    {
     "data": {
      "text/plain": [
       "(x - y)*(x + y)"
      ]
     },
     "execution_count": 9,
     "metadata": {},
     "output_type": "execute_result"
    }
   ],
   "source": [
    "from sympy import factor\n",
    "factor(s)"
   ]
  },
  {
   "cell_type": "code",
   "execution_count": 13,
   "metadata": {
    "collapsed": false
   },
   "outputs": [
    {
     "data": {
      "text/plain": [
       "(x - y)*(x**2 + x*y + y**2)"
      ]
     },
     "execution_count": 13,
     "metadata": {},
     "output_type": "execute_result"
    }
   ],
   "source": [
    "s = factor(x**3 - y**3)\n",
    "s"
   ]
  },
  {
   "cell_type": "code",
   "execution_count": 21,
   "metadata": {
    "collapsed": false
   },
   "outputs": [
    {
     "data": {
      "image/png": "[encoded data removed]",
      "text/latex": [
       "$$1$$"
      ],
      "text/plain": [
       "1"
      ]
     },
     "execution_count": 21,
     "metadata": {},
     "output_type": "execute_result"
    }
   ],
   "source": [
    "from sympy import expand\n",
    "p = expand(s)\n",
    "p"
   ]
  },
  {
   "cell_type": "markdown",
   "metadata": {},
   "source": [
    "#### 2.2 보기 좋게 출력\n",
    "- `pprint()` : 수식을 보기좋게 출력해 줍니다."
   ]
  },
  {
   "cell_type": "code",
   "execution_count": 28,
   "metadata": {
    "collapsed": false
   },
   "outputs": [
    {
     "data": {
      "image/png": "[encoded data removed]",
      "text/latex": [
       "$$- y^{3} + x^{3}$$"
      ],
      "text/plain": [
       "   3    3\n",
       "- y  + x "
      ]
     },
     "execution_count": 28,
     "metadata": {},
     "output_type": "execute_result"
    }
   ],
   "source": [
    "from sympy import pprint\n",
    "pprint(p)"
   ]
  },
  {
   "cell_type": "code",
   "execution_count": 29,
   "metadata": {
    "collapsed": false
   },
   "outputs": [
    {
     "data": {
      "image/png": "[encoded data removed]",
      "text/latex": [
       "$$\\left(- y + x\\right) \\left(y^{2} + x y + x^{2}\\right)$$"
      ],
      "text/plain": [
       "         ⎛ 2          2⎞\n",
       "(-y + x)⋅⎝y  + x⋅y + x ⎠"
      ]
     },
     "execution_count": 29,
     "metadata": {},
     "output_type": "execute_result"
    }
   ],
   "source": [
    "pprint(s)"
   ]
  },
  {
   "cell_type": "markdown",
   "metadata": {},
   "source": [
    "기본적으로는 높은 자승 순서부터 정렬을 합니다.  \n",
    "반대로 출력하기 위해서는 `init_printing()` 함수를 이용하여 변경이 가능합니다."
   ]
  },
  {
   "cell_type": "code",
   "execution_count": 12,
   "metadata": {
    "collapsed": false
   },
   "outputs": [
    {
     "data": {
      "image/png": "[encoded data removed]",
      "text/latex": [
       "$$1 + \\frac{x}{2} + \\frac{x^{2}}{2}$$"
      ],
      "text/plain": [
       "         2\n",
       "    x   x \n",
       "1 + ─ + ──\n",
       "    2   2 "
      ]
     },
     "execution_count": 12,
     "metadata": {},
     "output_type": "execute_result"
    }
   ],
   "source": [
    "from sympy import init_printing\n",
    "init_printing(order='rev-lex') # reverse lexicographical order\n",
    "1 + x/2 + x**2/2"
   ]
  },
  {
   "cell_type": "markdown",
   "metadata": {},
   "source": [
    "order에 입력가능한 값들에 대해서는 아래 Link를 참조하시면 됩니다.  \n",
    "\n",
    "<http://docs.sympy.org/dev/modules/physics/vector/api/printing.html>\n",
    "\n",
    "##### 수열 출력\n",
    "\n",
    "> x + x^2 / 2 + x^3 / 3 + ... + x^n / n\n",
    "\n",
    "위 수열을 생성하는 예제 코드를 살펴보겠습니다."
   ]
  },
  {
   "cell_type": "code",
   "execution_count": 25,
   "metadata": {
    "collapsed": false
   },
   "outputs": [
    {
     "data": {
      "image/png": "[encoded data removed]",
      "text/latex": [
       "$$x + \\frac{x^{2}}{2} + \\frac{x^{3}}{3} + \\frac{x^{4}}{4} + \\frac{x^{5}}{5} + \\frac{x^{6}}{6} + \\frac{x^{7}}{7}$$"
      ],
      "text/plain": [
       "     2    3    4    5    6    7\n",
       "    x    x    x    x    x    x \n",
       "x + ── + ── + ── + ── + ── + ──\n",
       "    2    3    4    5    6    7 "
      ]
     },
     "execution_count": 25,
     "metadata": {},
     "output_type": "execute_result"
    }
   ],
   "source": [
    "def make_series(n):\n",
    "    x = Symbol('x')\n",
    "    series = x\n",
    "    for i in range(2, n+1):\n",
    "        series += (x**i)/i\n",
    "    return series\n",
    "\n",
    "init_printing(order='rev-lex') # reverse lexicographical order\n",
    "make_series(7)"
   ]
  },
  {
   "cell_type": "markdown",
   "metadata": {},
   "source": [
    "### 3. 값으로 대체\n",
    "\n",
    "앞에서도 잠깐 나왔는데, `.subs()` 함수에 `심볼 : 값`을 포함한 `Dictionary`를 입력하면 해당 심볼을 값으로 대체 합니다.  \n",
    "수식의 모든 심볼에 대해서 다 입력해주면 구체적인 값이 나오고, 일부 심볼만 입력할 경우에는 나머지 심볼로 전개됩니다."
   ]
  },
  {
   "cell_type": "code",
   "execution_count": 13,
   "metadata": {
    "collapsed": false
   },
   "outputs": [
    {
     "data": {
      "image/png": "[encoded data removed]",
      "text/latex": [
       "$$x^{2} + 2 x y + y^{2}$$"
      ],
      "text/plain": [
       " 2            2\n",
       "x  + 2⋅x⋅y + y "
      ]
     },
     "execution_count": 13,
     "metadata": {},
     "output_type": "execute_result"
    }
   ],
   "source": [
    "init_printing(order='lex') # reverse lexicographical order\n",
    "e = x*x + x*y + x*y + y*y\n",
    "e"
   ]
  },
  {
   "cell_type": "code",
   "execution_count": 34,
   "metadata": {
    "collapsed": false
   },
   "outputs": [
    {
     "data": {
      "image/png": "[encoded data removed]",
      "text/latex": [
       "$$9$$"
      ],
      "text/plain": [
       "9"
      ]
     },
     "execution_count": 34,
     "metadata": {},
     "output_type": "execute_result"
    }
   ],
   "source": [
    "e.subs({x:1, y:2})"
   ]
  },
  {
   "cell_type": "code",
   "execution_count": 35,
   "metadata": {
    "collapsed": false
   },
   "outputs": [
    {
     "data": {
      "image/png": "[encoded data removed]",
      "text/latex": [
       "$$y^{2} + 2 y + 1$$"
      ],
      "text/plain": [
       " 2          \n",
       "y  + 2⋅y + 1"
      ]
     },
     "execution_count": 35,
     "metadata": {},
     "output_type": "execute_result"
    }
   ],
   "source": [
    "e.subs({x:1})"
   ]
  },
  {
   "cell_type": "markdown",
   "metadata": {},
   "source": [
    "부호를 다른 부호로 대체도 가능합니다."
   ]
  },
  {
   "cell_type": "code",
   "execution_count": 37,
   "metadata": {
    "collapsed": false
   },
   "outputs": [
    {
     "data": {
      "image/png": "[encoded data removed]",
      "text/latex": [
       "$$4 y^{2} + 4 y + 1$$"
      ],
      "text/plain": [
       "   2          \n",
       "4⋅y  + 4⋅y + 1"
      ]
     },
     "execution_count": 37,
     "metadata": {},
     "output_type": "execute_result"
    }
   ],
   "source": [
    "expand(e.subs({x:y+1}))"
   ]
  },
  {
   "cell_type": "code",
   "execution_count": 14,
   "metadata": {
    "collapsed": false
   },
   "outputs": [
    {
     "data": {
      "image/png": "[encoded data removed]",
      "text/latex": [
       "$$y^{2} + 2 y \\left(- y + 1\\right) + \\left(- y + 1\\right)^{2}$$"
      ],
      "text/plain": [
       " 2                          2\n",
       "y  + 2⋅y⋅(-y + 1) + (-y + 1) "
      ]
     },
     "execution_count": 14,
     "metadata": {},
     "output_type": "execute_result"
    }
   ],
   "source": [
    "s = e.subs({x:1-y})\n",
    "s"
   ]
  },
  {
   "cell_type": "markdown",
   "metadata": {},
   "source": [
    "위 수식을 보면 단순히 x 대신 y-1을 대입한 것이지 수식을 풀이하진 않았습니다.  \n",
    "`simplify()`함수를 이용하면 간략화해 줍니다."
   ]
  },
  {
   "cell_type": "code",
   "execution_count": 15,
   "metadata": {
    "collapsed": false
   },
   "outputs": [
    {
     "data": {
      "image/png": "[encoded data removed]",
      "text/latex": [
       "$$1$$"
      ],
      "text/plain": [
       "1"
      ]
     },
     "execution_count": 15,
     "metadata": {},
     "output_type": "execute_result"
    }
   ],
   "source": [
    "from sympy import simplify\n",
    "simplify(s)"
   ]
  },
  {
   "cell_type": "markdown",
   "metadata": {},
   "source": [
    "앞서 살펴본 수열을 출력하는 함수에 값을 입력해 보겠습니다."
   ]
  },
  {
   "cell_type": "code",
   "execution_count": 45,
   "metadata": {
    "collapsed": false
   },
   "outputs": [
    {
     "data": {
      "image/png": "[encoded data removed]",
      "text/latex": [
       "$$\\frac{x^{5}}{5} + \\frac{x^{4}}{4} + \\frac{x^{3}}{3} + \\frac{x^{2}}{2} + x$$"
      ],
      "text/plain": [
       " 5    4    3    2    \n",
       "x    x    x    x     \n",
       "── + ── + ── + ── + x\n",
       "5    4    3    2     "
      ]
     },
     "execution_count": 45,
     "metadata": {},
     "output_type": "execute_result"
    }
   ],
   "source": [
    "p = make_series(5)\n",
    "p"
   ]
  },
  {
   "cell_type": "code",
   "execution_count": 46,
   "metadata": {
    "collapsed": false
   },
   "outputs": [
    {
     "data": {
      "image/png": "[encoded data removed]",
      "text/latex": [
       "$$3.512064$$"
      ],
      "text/plain": [
       "3.51206400000000"
      ]
     },
     "execution_count": 46,
     "metadata": {},
     "output_type": "execute_result"
    }
   ],
   "source": [
    "p.subs({x:1.2})"
   ]
  },
  {
   "cell_type": "markdown",
   "metadata": {},
   "source": [
    "### 4. 문자열을 수식으로 변환\n",
    "\n",
    "`simpify()`함수에 문자열을 전달하면 수식으로 변환해 줍니다.  \n",
    "다음 수식을 입력해서 변환해 보도록 하겠습니다.  \n",
    "> `x**2 + 3*x + x**3 + 2*x`"
   ]
  },
  {
   "cell_type": "code",
   "execution_count": 40,
   "metadata": {
    "collapsed": false
   },
   "outputs": [
    {
     "name": "stdout",
     "output_type": "stream",
     "text": [
      "Enter a mathematical expression: x**2 + 3*x + x**3 + 2*x\n"
     ]
    },
    {
     "data": {
      "image/png": "[encoded data removed]",
      "text/latex": [
       "$$x^{3} + x^{2} + 5 x$$"
      ],
      "text/plain": [
       " 3    2      \n",
       "x  + x  + 5⋅x"
      ]
     },
     "execution_count": 40,
     "metadata": {},
     "output_type": "execute_result"
    }
   ],
   "source": [
    "from sympy import sympify\n",
    "\n",
    "str = input('Enter a mathematical expression: ')\n",
    "\n",
    "expr = sympify(str)\n",
    "expr"
   ]
  },
  {
   "cell_type": "markdown",
   "metadata": {
    "collapsed": true
   },
   "source": [
    "이 수식을 근거로 해서 앞에서 살펴보았던 연산들을 할 수 있습니다."
   ]
  },
  {
   "cell_type": "code",
   "execution_count": 41,
   "metadata": {
    "collapsed": false
   },
   "outputs": [
    {
     "data": {
      "image/png": "[encoded data removed]",
      "text/latex": [
       "$$2 x^{3} + 2 x^{2} + 10 x$$"
      ],
      "text/plain": [
       "   3      2       \n",
       "2⋅x  + 2⋅x  + 10⋅x"
      ]
     },
     "execution_count": 41,
     "metadata": {},
     "output_type": "execute_result"
    }
   ],
   "source": [
    "2*expr"
   ]
  },
  {
   "cell_type": "code",
   "execution_count": 42,
   "metadata": {
    "collapsed": false
   },
   "outputs": [
    {
     "data": {
      "image/png": "[encoded data removed]",
      "text/latex": [
       "$$\\left(3 x^{2} + x\\right) \\left(x^{3} + x^{2} + 5 x\\right)$$"
      ],
      "text/plain": [
       "⎛   2    ⎞ ⎛ 3    2      ⎞\n",
       "⎝3⋅x  + x⎠⋅⎝x  + x  + 5⋅x⎠"
      ]
     },
     "execution_count": 42,
     "metadata": {},
     "output_type": "execute_result"
    }
   ],
   "source": [
    "expr *= (x + 3 * x ** 2)\n",
    "expr"
   ]
  },
  {
   "cell_type": "code",
   "execution_count": 43,
   "metadata": {
    "collapsed": false
   },
   "outputs": [
    {
     "data": {
      "image/png": "[encoded data removed]",
      "text/latex": [
       "$$x^{2} \\left(3 x + 1\\right) \\left(x^{2} + x + 5\\right)$$"
      ],
      "text/plain": [
       " 2           ⎛ 2        ⎞\n",
       "x ⋅(3⋅x + 1)⋅⎝x  + x + 5⎠"
      ]
     },
     "execution_count": 43,
     "metadata": {},
     "output_type": "execute_result"
    }
   ],
   "source": [
    "simplify(expr)"
   ]
  },
  {
   "cell_type": "markdown",
   "metadata": {},
   "source": [
    "`simpify()`에 입력한 문자열이 수식으로 변활할 수 없을 경우 예외가 발생합니다.  \n",
    "해당 예외에 대해서는 `sympy.core.sympify` 내의 `SympifyError`에 정의되어 있습니다."
   ]
  },
  {
   "cell_type": "code",
   "execution_count": 7,
   "metadata": {
    "collapsed": false
   },
   "outputs": [
    {
     "name": "stdout",
     "output_type": "stream",
     "text": [
      "Enter a mathematical expression: x^2 + 3x\n",
      "Invalid input\n"
     ]
    }
   ],
   "source": [
    "from sympy.core.sympify import SympifyError\n",
    "\n",
    "str = input('Enter a mathematical expression: ')\n",
    "\n",
    "try:\n",
    "    expr = sympify(str)\n",
    "except SympifyError:\n",
    "    print('Invalid input')"
   ]
  },
  {
   "cell_type": "markdown",
   "metadata": {},
   "source": [
    "### 5. 방정식 풀기\n",
    "\n",
    "`solve()`함수를 이용하여 방정식의 해를 찾을 수 있습니다.  \n",
    "해당 수식의 값이 0이 될것이라고 가정을 하고 수식을 계산합니다."
   ]
  },
  {
   "cell_type": "code",
   "execution_count": 31,
   "metadata": {
    "collapsed": false
   },
   "outputs": [
    {
     "data": {
      "image/png": "[encoded data removed]",
      "text/latex": [
       "$$\\left [ - \\frac{1}{3}, \\quad 0, \\quad - \\frac{1}{2} - \\frac{\\sqrt{19} i}{2}, \\quad - \\frac{1}{2} + \\frac{\\sqrt{19} i}{2}\\right ]$$"
      ],
      "text/plain": [
       "⎡           1   √19⋅ⅈ    1   √19⋅ⅈ⎤\n",
       "⎢-1/3, 0, - ─ - ─────, - ─ + ─────⎥\n",
       "⎣           2     2      2     2  ⎦"
      ]
     },
     "execution_count": 31,
     "metadata": {},
     "output_type": "execute_result"
    }
   ],
   "source": [
    "from sympy import solve\n",
    "solve(expr)"
   ]
  },
  {
   "cell_type": "markdown",
   "metadata": {},
   "source": [
    "위 9차방정식의 해인데, 이것은 우리가 알아보기 힘드니 좀 더 단순한 수식으로 살펴보겠습니다."
   ]
  },
  {
   "cell_type": "code",
   "execution_count": 44,
   "metadata": {
    "collapsed": false
   },
   "outputs": [
    {
     "data": {
      "image/png": "[encoded data removed]",
      "text/latex": [
       "$$\\left [ -1\\right ]$$"
      ],
      "text/plain": [
       "[-1]"
      ]
     },
     "execution_count": 44,
     "metadata": {},
     "output_type": "execute_result"
    }
   ],
   "source": [
    "from sympy import Symbol, solve\n",
    "x = Symbol('x')\n",
    "expr = x **2 + 2 * x + 1\n",
    "solve(expr)"
   ]
  },
  {
   "cell_type": "code",
   "execution_count": 38,
   "metadata": {
    "collapsed": false
   },
   "outputs": [
    {
     "data": {
      "image/png": "[encoded data removed]",
      "text/latex": [
       "$$\\left [ \\left \\{ x : -4\\right \\}, \\quad \\left \\{ x : -1\\right \\}\\right ]$$"
      ],
      "text/plain": [
       "[{x: -4}, {x: -1}]"
      ]
     },
     "execution_count": 38,
     "metadata": {},
     "output_type": "execute_result"
    }
   ],
   "source": [
    "expr = x ** 2 + 5 * x + 4\n",
    "solve(expr, dict=True)"
   ]
  },
  {
   "cell_type": "markdown",
   "metadata": {},
   "source": [
    "`dict` 인자를 이용하여 `Dictionary` 형식으로도 리턴이 가능합니다.\n",
    "\n",
    "심볼이 여러개 있을 경우 특정 심볼에 대해서 해를 보고 싶을 경우에는 2번째 인자로 해당 심볼을 적어주면 됩니다."
   ]
  },
  {
   "cell_type": "code",
   "execution_count": 47,
   "metadata": {
    "collapsed": false
   },
   "outputs": [
    {
     "data": {
      "image/png": "[encoded data removed]",
      "text/latex": [
       "$$\\left [ \\left \\{ x : \\frac{1}{2 a} \\left(- b + \\sqrt{- 4 a c + b^{2}}\\right)\\right \\}, \\quad \\left \\{ x : - \\frac{1}{2 a} \\left(b + \\sqrt{- 4 a c + b^{2}}\\right)\\right \\}\\right ]$$"
      ],
      "text/plain": [
       "⎡⎧           _____________⎫  ⎧    ⎛       _____________⎞ ⎫⎤\n",
       "⎢⎪          ╱           2 ⎪  ⎪    ⎜      ╱           2 ⎟ ⎪⎥\n",
       "⎢⎨   -b + ╲╱  -4⋅a⋅c + b  ⎬  ⎨   -⎝b + ╲╱  -4⋅a⋅c + b  ⎠ ⎬⎥\n",
       "⎢⎪x: ─────────────────────⎪, ⎪x: ────────────────────────⎪⎥\n",
       "⎣⎩            2⋅a         ⎭  ⎩             2⋅a           ⎭⎦"
      ]
     },
     "execution_count": 47,
     "metadata": {},
     "output_type": "execute_result"
    }
   ],
   "source": [
    "a, b, c = symbols('a,b,c')\n",
    "expr = a*x*x + b*x +c\n",
    "d = solve(expr,x, dict=True)\n",
    "d"
   ]
  },
  {
   "cell_type": "code",
   "execution_count": 48,
   "metadata": {
    "collapsed": false
   },
   "outputs": [
    {
     "data": {
      "image/png": "[encoded data removed]",
      "text/latex": [
       "$$- \\frac{3}{4} + \\frac{\\sqrt{23} i}{4}$$"
      ],
      "text/plain": [
       "  3   √23⋅ⅈ\n",
       "- ─ + ─────\n",
       "  4     4  "
      ]
     },
     "execution_count": 48,
     "metadata": {},
     "output_type": "execute_result"
    }
   ],
   "source": [
    "d[0][x].subs({a:2, b:3, c:4})"
   ]
  },
  {
   "cell_type": "markdown",
   "metadata": {},
   "source": [
    "### 6. 선형 방정식 시스템 풀기\n",
    "2개의 방정식을 만족하는 한 쌍의 (x, y) 값을 계산하고자 할 경우 `solve()` 메서드에 2개의 방정식을 `Tuple`로 묶어서 인자로 전달하면 됩니다."
   ]
  },
  {
   "cell_type": "code",
   "execution_count": 51,
   "metadata": {
    "collapsed": false
   },
   "outputs": [
    {
     "name": "stdout",
     "output_type": "stream",
     "text": [
      "2*x + 3*y - 6\n",
      "3*x + 2*y - 12\n"
     ]
    },
    {
     "data": {
      "image/png": "[encoded data removed]",
      "text/latex": [
       "$$\\left [ \\left \\{ x : \\frac{24}{5}, \\quad y : - \\frac{6}{5}\\right \\}\\right ]$$"
      ],
      "text/plain": [
       "[{x: 24/5, y: -6/5}]"
      ]
     },
     "execution_count": 51,
     "metadata": {},
     "output_type": "execute_result"
    }
   ],
   "source": [
    "expr1 = 2*x + 3*y - 6\n",
    "expr2 = 3*x + 2*y - 12\n",
    "print(expr1)\n",
    "print(expr2)\n",
    "s = solve((expr1, expr2), dict=True)\n",
    "s"
   ]
  },
  {
   "cell_type": "markdown",
   "metadata": {},
   "source": [
    "위의 해가 맞는지 두 방정식에 각각 대입해 보겠습니다."
   ]
  },
  {
   "cell_type": "code",
   "execution_count": 52,
   "metadata": {
    "collapsed": false
   },
   "outputs": [
    {
     "data": {
      "image/png": "[encoded data removed]",
      "text/latex": [
       "$$0$$"
      ],
      "text/plain": [
       "0"
      ]
     },
     "execution_count": 52,
     "metadata": {},
     "output_type": "execute_result"
    }
   ],
   "source": [
    "expr1.subs({x:s[0][x], y:s[0][y]})"
   ]
  },
  {
   "cell_type": "code",
   "execution_count": 53,
   "metadata": {
    "collapsed": false
   },
   "outputs": [
    {
     "data": {
      "image/png": "[encoded data removed]",
      "text/latex": [
       "$$0$$"
      ],
      "text/plain": [
       "0"
      ]
     },
     "execution_count": 53,
     "metadata": {},
     "output_type": "execute_result"
    }
   ],
   "source": [
    "expr2.subs({x:s[0][x], y:s[0][y]})"
   ]
  },
  {
   "cell_type": "markdown",
   "metadata": {},
   "source": [
    "두 방정식에 대입해서 값이 0으로 나온것으로 봐서 맞게 계산된 것으로 보여집니다.\n",
    "\n",
    "### 7. SymPy를 사용해 그래프 그리기\n",
    "\n",
    "`SymPy`로 표현한 직선방정식을 이용하여 그래프를 그릴 수 있습니다.  \n",
    "2장에서  살펴 본 `matplotlib`을 사용하는 것은 아니며 `SymPy.plotting`를 이용해야 합니다."
   ]
  },
  {
   "cell_type": "code",
   "execution_count": 1,
   "metadata": {
    "collapsed": false
   },
   "outputs": [
    {
     "data": {
      "text/plain": [
       "<sympy.plotting.plot.Plot at 0x171e86fac50>"
      ]
     },
     "execution_count": 1,
     "metadata": {},
     "output_type": "execute_result"
    }
   ],
   "source": [
    "from sympy.plotting import plot\n",
    "from sympy import Symbol\n",
    "\n",
    "x = Symbol('x')\n",
    "plot(2*x + 3)"
   ]
  },
  {
   "cell_type": "markdown",
   "metadata": {},
   "source": [
    "![그래프](./image/DoingMathWithPython.Ch04.01.png)\n",
    "\n",
    "위 그래프는 x값의 기본 범위를 -10에서 10으로 자동 설정되어 있습니다.  \n",
    "이 범위를 x축 기준으로 -5에서 5까지 위치하도록 제한하기를 원한다면 `(x, -5, 5)` 라는 튜플을 추가 인자로 전달하면 됩니다."
   ]
  },
  {
   "cell_type": "code",
   "execution_count": 2,
   "metadata": {
    "collapsed": false
   },
   "outputs": [
    {
     "data": {
      "text/plain": [
       "<sympy.plotting.plot.Plot at 0x171e665dd68>"
      ]
     },
     "execution_count": 2,
     "metadata": {},
     "output_type": "execute_result"
    }
   ],
   "source": [
    "plot(2*x+3, (x, -5, 5))"
   ]
  },
  {
   "cell_type": "markdown",
   "metadata": {},
   "source": [
    "![그래프](./image/DoingMathWithPython.Ch04.02.png)\n",
    "\n",
    "타이틀, X/Y축 레이블을 입력하고자 할 경우에는 각각 `title`, `xlabel`, `ylabel`을 추가 인자로 전달하면 됩니다."
   ]
  },
  {
   "cell_type": "code",
   "execution_count": 6,
   "metadata": {
    "collapsed": false
   },
   "outputs": [
    {
     "data": {
      "text/plain": [
       "<sympy.plotting.plot.Plot at 0x171ec671ba8>"
      ]
     },
     "execution_count": 6,
     "metadata": {},
     "output_type": "execute_result"
    }
   ],
   "source": [
    "plot(2*x+3, (x, -5, 5), title='Line', xlabel='x', ylabel='2x+3')"
   ]
  },
  {
   "cell_type": "markdown",
   "metadata": {},
   "source": [
    "![그래프](./image/DoingMathWithPython.Ch04.03.png)\n",
    "\n",
    "그림을 보이지 않게 하고자 할 경우 `show=False`를 인자로 전달하면 됩니다.  \n",
    "그럴 경우 언제든지 `.show()`메서드를 이용해서 표시할 수 있으며,\n",
    "이미지로 저장하고 싶은 경우에는 `.save('파일명')` 메서드를 이용하여 가능합니다."
   ]
  },
  {
   "cell_type": "code",
   "execution_count": 7,
   "metadata": {
    "collapsed": true
   },
   "outputs": [],
   "source": [
    "p = plot(2*x+3, (x, -5, 5), title='Line', xlabel='x', ylabel='2x+3', show=False)\n",
    "p.save('image/ch04.line.png')\n",
    "p.show()"
   ]
  },
  {
   "cell_type": "markdown",
   "metadata": {},
   "source": [
    "### 8. 사용자가 입력한 수식을 그래프로 그리기\n",
    "\n",
    "앞서 `sympify()` 함수를 이용하여 사용자가 입력한 문자열을 수식으로 표현하는 것을 살펴보았습니다.\n",
    "하지만 그래프로 표현하기 위해서는 해당 수식이 1가지 심볼(예를 들어서 `x`)에 대해서만 전개된 수식이어야 합니다.\n",
    "만약 수식이 이런 형태가 아니라면 고쳐야 합니다.\n",
    "`solve()`함수를 이용하면 가능합니다.\n",
    "`solve()`함수는 앞서 살펴본봐야 같이 해를 찾아주는 함수입니다.\n",
    "이 함수의 2번째 인자로 `y`를 입력하면 `y`를 풀어서 `x`로 전개합니다."
   ]
  },
  {
   "cell_type": "code",
   "execution_count": 10,
   "metadata": {
    "collapsed": false
   },
   "outputs": [
    {
     "name": "stdout",
     "output_type": "stream",
     "text": [
      "Enter an expression: 2*x + 3*y + 6\n"
     ]
    },
    {
     "data": {
      "text/plain": [
       "[-2*x/3 - 2]"
      ]
     },
     "execution_count": 10,
     "metadata": {},
     "output_type": "execute_result"
    }
   ],
   "source": [
    "from sympy import sympify, solve\n",
    "\n",
    "expr = input('Enter an expression: ')\n",
    "expr = sympify(expr)\n",
    "y = Symbol('y')\n",
    "expr = solve(expr, y)\n",
    "expr"
   ]
  },
  {
   "cell_type": "code",
   "execution_count": 11,
   "metadata": {
    "collapsed": false
   },
   "outputs": [
    {
     "data": {
      "text/plain": [
       "<sympy.plotting.plot.Plot at 0x171ea665128>"
      ]
     },
     "execution_count": 11,
     "metadata": {},
     "output_type": "execute_result"
    }
   ],
   "source": [
    "plot(expr[0])"
   ]
  },
  {
   "cell_type": "markdown",
   "metadata": {},
   "source": [
    "![그래프](./image/DoingMathWithPython.Ch04.04.png)\n",
    "\n",
    "### 9. 여러 함수 그래프 그리기\n",
    "\n",
    "`plot()`의 인자로 여러개의 수식을 전달하면 됩니다."
   ]
  },
  {
   "cell_type": "code",
   "execution_count": 12,
   "metadata": {
    "collapsed": false
   },
   "outputs": [
    {
     "data": {
      "text/plain": [
       "<sympy.plotting.plot.Plot at 0x171ec69bc88>"
      ]
     },
     "execution_count": 12,
     "metadata": {},
     "output_type": "execute_result"
    }
   ],
   "source": [
    "plot(2*x + 3, 3*x + 1)"
   ]
  },
  {
   "cell_type": "markdown",
   "metadata": {},
   "source": [
    "![그래프](./image/DoingMathWithPython.Ch04.05.png)\n",
    "\n",
    "`matplotlib`에서는 자동으로 각각 다른 색상의 라인이 출력되었는데, `SymPy`에서는 같은 색으로 출력됩니다.\n",
    "다른 색으로 출력해주기 위해서는 몇가지 단계를 더 추가해 줘야 합니다."
   ]
  },
  {
   "cell_type": "code",
   "execution_count": 13,
   "metadata": {
    "collapsed": true
   },
   "outputs": [],
   "source": [
    "p = plot(2*x + 3, 3*x + 1, legend=True, show=False)\n",
    "p[0].line_color = 'b'\n",
    "p[1].line_color = 'r'\n",
    "p.show()"
   ]
  },
  {
   "cell_type": "markdown",
   "metadata": {},
   "source": [
    "![그래프](./image/DoingMathWithPython.Ch04.06.png)\n",
    "\n",
    "## 프로그래밍 연습\n",
    "\n",
    "- 책에 있는 연습 문제 중에 앞에서 이미 작성한 내용으로만 해결이 가능한 경우는 해당 문제 풀이를 생략하였습니다.\n",
    "- Product Code가 아닌 연습문제용으로써, 예외 처리 등에 대한 것은 최대한 생략하고 문제 자체에 대한 로직만을 간략하게 표현하였습니다.\n",
    "\n",
    "### 1. 그래프를 이용한 방정식 풀기\n",
    "\n",
    "2개의 수식을 입력받아서 그래프로 표시하고, 공통 해를 출력하세요."
   ]
  },
  {
   "cell_type": "code",
   "execution_count": 21,
   "metadata": {
    "collapsed": false
   },
   "outputs": [
    {
     "name": "stdout",
     "output_type": "stream",
     "text": [
      "Enter your first expression im terms of x and y : 2*x + 3*y + 6\n",
      "Enter your second expression im terms of x and y : 3*x -y +1\n",
      "solve :  [{x: -9/11, y: -16/11}]\n"
     ]
    }
   ],
   "source": [
    "expr1 = input('Enter your first expression im terms of x and y : ')\n",
    "expr2 = input('Enter your second expression im terms of x and y : ')\n",
    "\n",
    "expr1 = sympify(expr1)\n",
    "expr2 = sympify(expr2)\n",
    "\n",
    "print('solve : ', solve((expr1, expr2), dict=True))\n",
    "\n",
    "expr1 = solve(expr1,y)[0]\n",
    "expr2 = solve(expr2,y)[0]\n",
    "\n",
    "p = plot(expr1, expr2, legend=True, show=False)\n",
    "p[0].line_color = 'r'\n",
    "p[1].line_color = 'b'\n",
    "p.show()"
   ]
  },
  {
   "cell_type": "markdown",
   "metadata": {},
   "source": [
    "![그래프](./image/DoingMathWithPython.Ch04.07.png)\n",
    "\n",
    "### 2. 수열합 계산\n",
    "\n",
    "앞서 살펴본 `make_series()` 함수와 같이 수열을 만들어주는 기능을 `SymPy`에서 제공합니다.\n",
    "`summation()` 함수에 첫번째 인자로 n번째 수열을 정의해 주고, 두번째 인자로 n의 범위를 지정해주면 해당 수열을 생성해 줍니다."
   ]
  },
  {
   "cell_type": "code",
   "execution_count": 23,
   "metadata": {
    "collapsed": false
   },
   "outputs": [
    {
     "name": "stdout",
     "output_type": "stream",
     "text": [
      " 5    4    3    2    \n",
      "x    x    x    x     \n",
      "── + ── + ── + ── + x\n",
      "5    4    3    2     \n"
     ]
    }
   ],
   "source": [
    "from sympy import Symbol,symbols, summation, pprint\n",
    "\n",
    "x, n = symbols('x,n')\n",
    "s = summation(x**n/n, (n, 1, 5))\n",
    "pprint(s)"
   ]
  },
  {
   "cell_type": "markdown",
   "metadata": {},
   "source": [
    "이렇게 만들어진 수열에 `.subs()` 삼수를 이용하여 `x`의 값을 대체하면 수열의 합이 계산됩니다."
   ]
  },
  {
   "cell_type": "code",
   "execution_count": 24,
   "metadata": {
    "collapsed": false
   },
   "outputs": [
    {
     "data": {
      "text/plain": [
       "3.51206400000000"
      ]
     },
     "execution_count": 24,
     "metadata": {},
     "output_type": "execute_result"
    }
   ],
   "source": [
    "s.subs({x:1.2})"
   ]
  },
  {
   "cell_type": "markdown",
   "metadata": {},
   "source": [
    "이를 이용하여 n번째 항에 대한 정의와 몇개의 수열을 생성할 것인지를 입력받아서 해당 수열을 출력하세요."
   ]
  },
  {
   "cell_type": "code",
   "execution_count": 26,
   "metadata": {
    "collapsed": false
   },
   "outputs": [
    {
     "name": "stdout",
     "output_type": "stream",
     "text": [
      "Enter the nth term : a+(n-1)*d\n",
      "Enter the number of terms : 3\n",
      "3⋅a + 3⋅d\n"
     ]
    }
   ],
   "source": [
    "expr = input('Enter the nth term : ')\n",
    "num = int(input('Enter the number of terms : '))\n",
    "n = Symbol('n')\n",
    "\n",
    "s = summation(sympify(expr), (n, 1, num))\n",
    "pprint(s)"
   ]
  },
  {
   "cell_type": "code",
   "execution_count": null,
   "metadata": {
    "collapsed": true
   },
   "outputs": [],
   "source": []
  }
 ],
 "metadata": {
  "kernelspec": {
   "display_name": "Python [Root]",
   "language": "python",
   "name": "Python [Root]"
  },
  "language_info": {
   "codemirror_mode": {
    "name": "ipython",
    "version": 3
   },
   "file_extension": ".py",
   "mimetype": "text/x-python",
   "name": "python",
   "nbconvert_exporter": "python",
   "pygments_lexer": "ipython3",
   "version": "3.5.2"
  }
 },
 "nbformat": 4,
 "nbformat_minor": 0
}
