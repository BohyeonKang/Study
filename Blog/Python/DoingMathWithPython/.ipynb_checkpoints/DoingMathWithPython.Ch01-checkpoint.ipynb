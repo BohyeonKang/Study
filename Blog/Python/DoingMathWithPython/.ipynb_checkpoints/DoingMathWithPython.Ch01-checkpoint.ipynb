{
 "cells": [
  {
   "cell_type": "markdown",
   "metadata": {},
   "source": [
    "# 파이썬으로 풀어보는 수학\n",
    "\n",
    "## 1장 숫자, 연산\n",
    "\n",
    "### 1. 사칙연산\n",
    "\n",
    "#### 1.1 기본연산 (더하기, 빼기, 곱하기)"
   ]
  },
  {
   "cell_type": "code",
   "execution_count": 1,
   "metadata": {
    "collapsed": false,
    "scrolled": true
   },
   "outputs": [
    {
     "data": {
      "text/plain": [
       "3"
      ]
     },
     "execution_count": 1,
     "metadata": {},
     "output_type": "execute_result"
    }
   ],
   "source": [
    "1 + 2"
   ]
  },
  {
   "cell_type": "code",
   "execution_count": 2,
   "metadata": {
    "collapsed": false
   },
   "outputs": [
    {
     "data": {
      "text/plain": [
       "2.5"
      ]
     },
     "execution_count": 2,
     "metadata": {},
     "output_type": "execute_result"
    }
   ],
   "source": [
    "-1 + 3.5"
   ]
  },
  {
   "cell_type": "code",
   "execution_count": 3,
   "metadata": {
    "collapsed": false
   },
   "outputs": [
    {
     "data": {
      "text/plain": [
       "55"
      ]
     },
     "execution_count": 3,
     "metadata": {},
     "output_type": "execute_result"
    }
   ],
   "source": [
    "100 - 45"
   ]
  },
  {
   "cell_type": "code",
   "execution_count": 4,
   "metadata": {
    "collapsed": false
   },
   "outputs": [
    {
     "data": {
      "text/plain": [
       "6"
      ]
     },
     "execution_count": 4,
     "metadata": {},
     "output_type": "execute_result"
    }
   ],
   "source": [
    "3 * 2"
   ]
  },
  {
   "cell_type": "code",
   "execution_count": 5,
   "metadata": {
    "collapsed": false
   },
   "outputs": [
    {
     "data": {
      "text/plain": [
       "5.25"
      ]
     },
     "execution_count": 5,
     "metadata": {},
     "output_type": "execute_result"
    }
   ],
   "source": [
    "3.5 * 1.5"
   ]
  },
  {
   "cell_type": "code",
   "execution_count": 6,
   "metadata": {
    "collapsed": false
   },
   "outputs": [
    {
     "data": {
      "text/plain": [
       "1.5"
      ]
     },
     "execution_count": 6,
     "metadata": {},
     "output_type": "execute_result"
    }
   ],
   "source": [
    "3 / 2"
   ]
  },
  {
   "cell_type": "code",
   "execution_count": 7,
   "metadata": {
    "collapsed": false
   },
   "outputs": [
    {
     "data": {
      "text/plain": [
       "2.0"
      ]
     },
     "execution_count": 7,
     "metadata": {},
     "output_type": "execute_result"
    }
   ],
   "source": [
    "4 / 2"
   ]
  },
  {
   "cell_type": "markdown",
   "metadata": {},
   "source": [
    "#### 1.2 나누기 ( 나누기, 나머지), 지수"
   ]
  },
  {
   "cell_type": "code",
   "execution_count": 1,
   "metadata": {
    "collapsed": false
   },
   "outputs": [
    {
     "data": {
      "text/plain": [
       "1.5"
      ]
     },
     "execution_count": 1,
     "metadata": {},
     "output_type": "execute_result"
    }
   ],
   "source": [
    "3 / 2"
   ]
  },
  {
   "cell_type": "code",
   "execution_count": 2,
   "metadata": {
    "collapsed": false
   },
   "outputs": [
    {
     "data": {
      "text/plain": [
       "2.0"
      ]
     },
     "execution_count": 2,
     "metadata": {},
     "output_type": "execute_result"
    }
   ],
   "source": [
    "4 / 2"
   ]
  },
  {
   "cell_type": "code",
   "execution_count": 3,
   "metadata": {
    "collapsed": false
   },
   "outputs": [
    {
     "data": {
      "text/plain": [
       "1"
      ]
     },
     "execution_count": 3,
     "metadata": {},
     "output_type": "execute_result"
    }
   ],
   "source": [
    "3 // 2 # 버림 나눗셈 : 소숫점 아래를 내림"
   ]
  },
  {
   "cell_type": "code",
   "execution_count": 4,
   "metadata": {
    "collapsed": false
   },
   "outputs": [
    {
     "data": {
      "text/plain": [
       "-2"
      ]
     },
     "execution_count": 4,
     "metadata": {},
     "output_type": "execute_result"
    }
   ],
   "source": [
    "-3 // 2 # 음수인 경우 원래 답보다 작거나 같은 값이므로 -1.5 -> -2.0이 됨"
   ]
  },
  {
   "cell_type": "code",
   "execution_count": 5,
   "metadata": {
    "collapsed": false
   },
   "outputs": [
    {
     "data": {
      "text/plain": [
       "1"
      ]
     },
     "execution_count": 5,
     "metadata": {},
     "output_type": "execute_result"
    }
   ],
   "source": [
    "9 % 2 # 나머지"
   ]
  },
  {
   "cell_type": "code",
   "execution_count": 6,
   "metadata": {
    "collapsed": false
   },
   "outputs": [
    {
     "data": {
      "text/plain": [
       "4"
      ]
     },
     "execution_count": 6,
     "metadata": {},
     "output_type": "execute_result"
    }
   ],
   "source": [
    "2 ** 2 # 2의 2승"
   ]
  },
  {
   "cell_type": "code",
   "execution_count": 7,
   "metadata": {
    "collapsed": false
   },
   "outputs": [
    {
     "data": {
      "text/plain": [
       "1024"
      ]
     },
     "execution_count": 7,
     "metadata": {},
     "output_type": "execute_result"
    }
   ],
   "source": [
    "2 ** 10"
   ]
  },
  {
   "cell_type": "code",
   "execution_count": 8,
   "metadata": {
    "collapsed": false
   },
   "outputs": [
    {
     "data": {
      "text/plain": [
       "1.4142135623730951"
      ]
     },
     "execution_count": 8,
     "metadata": {},
     "output_type": "execute_result"
    }
   ],
   "source": [
    "2 ** (0.5) # 2의 1/2 승이니 Root 2와 같음"
   ]
  },
  {
   "cell_type": "code",
   "execution_count": 9,
   "metadata": {
    "collapsed": false
   },
   "outputs": [
    {
     "data": {
      "text/plain": [
       "2.0"
      ]
     },
     "execution_count": 9,
     "metadata": {},
     "output_type": "execute_result"
    }
   ],
   "source": [
    "8 ** (1/3) # 8의 세재곱근"
   ]
  },
  {
   "cell_type": "markdown",
   "metadata": {},
   "source": [
    "### 2. 분수 (Fraction)\n",
    "\n",
    "사용하기 위해서는 `fractions` 모듈에서 `Fraction` class를 임포트해야 합니다.\n",
    "\n",
    "Fraction(분자 , 분모)의 형태로 입력합니다."
   ]
  },
  {
   "cell_type": "code",
   "execution_count": 3,
   "metadata": {
    "collapsed": false,
    "scrolled": true
   },
   "outputs": [
    {
     "data": {
      "text/plain": [
       "Fraction(3, 4)"
      ]
     },
     "execution_count": 3,
     "metadata": {},
     "output_type": "execute_result"
    }
   ],
   "source": [
    "from fractions import Fraction\n",
    "f = Fraction(3, 4)\n",
    "f"
   ]
  },
  {
   "cell_type": "code",
   "execution_count": 5,
   "metadata": {
    "collapsed": false
   },
   "outputs": [
    {
     "data": {
      "text/plain": [
       "3.25"
      ]
     },
     "execution_count": 5,
     "metadata": {},
     "output_type": "execute_result"
    }
   ],
   "source": [
    "Fraction(3,4) + 1 + 1.5"
   ]
  },
  {
   "cell_type": "markdown",
   "metadata": {},
   "source": [
    "### 3. 복소수 (Complex numbers)\n",
    "\n",
    "문자 `j` 또는 `J`를 이용해서 허수부를 입력할 수 있습니다."
   ]
  },
  {
   "cell_type": "code",
   "execution_count": 6,
   "metadata": {
    "collapsed": false
   },
   "outputs": [
    {
     "data": {
      "text/plain": [
       "complex"
      ]
     },
     "execution_count": 6,
     "metadata": {},
     "output_type": "execute_result"
    }
   ],
   "source": [
    "c = 2 + 3j\n",
    "type(c)"
   ]
  },
  {
   "cell_type": "markdown",
   "metadata": {},
   "source": [
    "`complex` 의 사칙연산입니다. ( 나머지 `%` 와 버림 `//`은 제공하지 않습니다. )"
   ]
  },
  {
   "cell_type": "code",
   "execution_count": 16,
   "metadata": {
    "collapsed": false
   },
   "outputs": [
    {
     "data": {
      "text/plain": [
       "(5+6j)"
      ]
     },
     "execution_count": 16,
     "metadata": {},
     "output_type": "execute_result"
    }
   ],
   "source": [
    "b = 3 + 3j\n",
    "b + c"
   ]
  },
  {
   "cell_type": "code",
   "execution_count": 9,
   "metadata": {
    "collapsed": false
   },
   "outputs": [
    {
     "data": {
      "text/plain": [
       "(1+0j)"
      ]
     },
     "execution_count": 9,
     "metadata": {},
     "output_type": "execute_result"
    }
   ],
   "source": [
    "b - c"
   ]
  },
  {
   "cell_type": "code",
   "execution_count": 10,
   "metadata": {
    "collapsed": false
   },
   "outputs": [
    {
     "data": {
      "text/plain": [
       "(-3+15j)"
      ]
     },
     "execution_count": 10,
     "metadata": {},
     "output_type": "execute_result"
    }
   ],
   "source": [
    "b * c"
   ]
  },
  {
   "cell_type": "markdown",
   "metadata": {},
   "source": [
    "#### 복소수의 곱셈\n",
    "\n",
    "```\n",
    "(a + bj) * (c + dj)\n",
    "= ac + adj + bcj - bd\n",
    "= (ac - bd) + (bc + ad)j\n",
    "```\n",
    "\n",
    ">(2 + 3j) * (3 + 3j) = (6 - 9) + (6 + 9)j = -3 + 15j"
   ]
  },
  {
   "cell_type": "code",
   "execution_count": 17,
   "metadata": {
    "collapsed": false
   },
   "outputs": [
    {
     "data": {
      "text/plain": [
       "(1.153846153846154-0.23076923076923078j)"
      ]
     },
     "execution_count": 17,
     "metadata": {},
     "output_type": "execute_result"
    }
   ],
   "source": [
    "b / c"
   ]
  },
  {
   "cell_type": "markdown",
   "metadata": {},
   "source": [
    "#### 복소수의 나눗셈\n",
    "\n",
    "```\n",
    "(a + bj) / (c + dj)\n",
    "= ((a +bj) * (c - dj)) / ((c + dj) * ( c - dj))\n",
    "= ((ac + bd) + (bc - ad)j) / (c ** 2 + d ** 2) + (cd - cd)j\n",
    "= ((ac + bd) + (bc - ad)j) / ( c ** 2 + d ** 2)\n",
    "```\n",
    "\n",
    ">(3 +3j) / (2 + 3j) = (6 + 9) / (4 + 9) + ( (6 - 9) / (4 + 9) ) j = 15/13 - 3/13j"
   ]
  },
  {
   "cell_type": "markdown",
   "metadata": {},
   "source": [
    "#### 컬레복소수(conjugate)\n",
    "같은 실수부에 허수부의 부호가 반대인 경우를 말합니다.\n",
    "바로 앞에서 본 것처럼 나누기 할때 분모의 컬레복소수를 분모 분자에 모두 곱해서 계산을 했습니다."
   ]
  },
  {
   "cell_type": "code",
   "execution_count": 28,
   "metadata": {
    "collapsed": false
   },
   "outputs": [
    {
     "data": {
      "text/plain": [
       "(2-3j)"
      ]
     },
     "execution_count": 28,
     "metadata": {},
     "output_type": "execute_result"
    }
   ],
   "source": [
    "c.conjugate()"
   ]
  },
  {
   "cell_type": "markdown",
   "metadata": {},
   "source": [
    "#### 복소수의 값(magnitude)\n",
    "절대치(`abs() 함수`)를 이용해서 구할수 있습니다."
   ]
  },
  {
   "cell_type": "code",
   "execution_count": 29,
   "metadata": {
    "collapsed": false
   },
   "outputs": [
    {
     "data": {
      "text/plain": [
       "3.605551275463989"
      ]
     },
     "execution_count": 29,
     "metadata": {},
     "output_type": "execute_result"
    }
   ],
   "source": [
    "abs(c)"
   ]
  },
  {
   "cell_type": "markdown",
   "metadata": {},
   "source": [
    "계산 공식은 `(실수부의 제곱 + 허수부의 제곱)의 제곱근(루트)` 입니다."
   ]
  },
  {
   "cell_type": "code",
   "execution_count": 30,
   "metadata": {
    "collapsed": false
   },
   "outputs": [
    {
     "data": {
      "text/plain": [
       "3.605551275463989"
      ]
     },
     "execution_count": 30,
     "metadata": {},
     "output_type": "execute_result"
    }
   ],
   "source": [
    "(c.real ** 2 + c.imag ** 2) ** 0.5"
   ]
  },
  {
   "cell_type": "markdown",
   "metadata": {
    "collapsed": true
   },
   "source": [
    "### 4. 정수 팩터 계산\n",
    "0이 아닌 정수 a를 다른 정수 b로 나누었을 때 나머지가 0인 경우 a는 b의 팩터(Factor)라 합니다."
   ]
  },
  {
   "cell_type": "code",
   "execution_count": 10,
   "metadata": {
    "collapsed": false
   },
   "outputs": [
    {
     "name": "stdout",
     "output_type": "stream",
     "text": [
      "Input a : 8\n",
      "Input b : 2\n",
      "True\n"
     ]
    }
   ],
   "source": [
    "def is_factor(a, b):\n",
    "    if a % b == 0:\n",
    "        return True\n",
    "    else:\n",
    "        return False\n",
    "\n",
    "if __name__ == '__main__':\n",
    "\n",
    "    while True:\n",
    "        a = input('Input a : ')\n",
    "        a = float(a)\n",
    "        if a.is_integer() and a > 0:\n",
    "            break\n",
    "        print('Please enter a positive integer for a')\n",
    "\n",
    "    while True:\n",
    "        b = input('Input b : ')\n",
    "        b = float(b)\n",
    "        if b.is_integer() and b > 0:\n",
    "            break\n",
    "        print('Please enter a positive integer for b')\n",
    "\n",
    "    print(is_factor(a,b))        "
   ]
  },
  {
   "cell_type": "markdown",
   "metadata": {
    "collapsed": true
   },
   "source": [
    "특정 정수에 대한 모든 팩터를 구하기 위해서는 어떻게 해야 할까요 ?\n",
    "그 수보다 작은 모든 양의 정수에 대해서 검사를 하면 됩니다."
   ]
  },
  {
   "cell_type": "code",
   "execution_count": 8,
   "metadata": {
    "collapsed": false
   },
   "outputs": [
    {
     "name": "stdout",
     "output_type": "stream",
     "text": [
      "input a : 16\n",
      "[1, 2, 4, 8, 16]\n"
     ]
    }
   ],
   "source": [
    "def is_factor(a, b):\n",
    "    if a % b == 0:\n",
    "        return True\n",
    "    else:\n",
    "        return False\n",
    "\n",
    "def factors(value):\n",
    "    result = []\n",
    "    for i in range (1, value + 1):\n",
    "        if is_factor(value, i):\n",
    "            result.append(i)\n",
    "    return result\n",
    "\n",
    "if __name__ == '__main__':\n",
    "    \n",
    "    while True:\n",
    "        a = input('input a : ')\n",
    "        a = float(a)\n",
    "        if a.is_integer() and a > 0:\n",
    "            a = int(a)\n",
    "            break;\n",
    "        print('Please enter a positive integer for a')\n",
    "    \n",
    "    print(factors(a))\n"
   ]
  },
  {
   "cell_type": "markdown",
   "metadata": {},
   "source": [
    "### 5. 측정 단위 변환\n",
    "\n",
    "#### 센티미터 to 인치\n",
    "1인치는 `2.54`센티미터입니다."
   ]
  },
  {
   "cell_type": "code",
   "execution_count": 9,
   "metadata": {
    "collapsed": false
   },
   "outputs": [
    {
     "data": {
      "text/plain": [
       "95.25"
      ]
     },
     "execution_count": 9,
     "metadata": {},
     "output_type": "execute_result"
    }
   ],
   "source": [
    "37.5 * 2.54"
   ]
  },
  {
   "cell_type": "markdown",
   "metadata": {},
   "source": [
    "#### 마일 to 킬로미터\n",
    "1마일은 `1.609`킬로미터와 같습니다."
   ]
  },
  {
   "cell_type": "code",
   "execution_count": 10,
   "metadata": {
    "collapsed": false
   },
   "outputs": [
    {
     "data": {
      "text/plain": [
       "514.88"
      ]
     },
     "execution_count": 10,
     "metadata": {},
     "output_type": "execute_result"
    }
   ],
   "source": [
    "320 * 1.609"
   ]
  },
  {
   "cell_type": "markdown",
   "metadata": {},
   "source": [
    "#### 화씨 to 섭씨\n",
    "```\n",
    "C = (F - 32) * 5 / 9\n",
    "```"
   ]
  },
  {
   "cell_type": "code",
   "execution_count": 12,
   "metadata": {
    "collapsed": false
   },
   "outputs": [
    {
     "data": {
      "text/plain": [
       "37.0"
      ]
     },
     "execution_count": 12,
     "metadata": {},
     "output_type": "execute_result"
    }
   ],
   "source": [
    "F = 98.6\n",
    "(F - 32) * 5 / 9"
   ]
  },
  {
   "cell_type": "markdown",
   "metadata": {},
   "source": [
    "반대로는 위 수식의 역수를 취하면 됩니다.\n",
    "```\n",
    "F = C * 9 / 5 + 32\n",
    "```"
   ]
  },
  {
   "cell_type": "code",
   "execution_count": 13,
   "metadata": {
    "collapsed": false
   },
   "outputs": [
    {
     "data": {
      "text/plain": [
       "98.6"
      ]
     },
     "execution_count": 13,
     "metadata": {},
     "output_type": "execute_result"
    }
   ],
   "source": [
    "C = 37\n",
    "C * 9 / 5 + 32"
   ]
  },
  {
   "cell_type": "markdown",
   "metadata": {},
   "source": [
    "### 6. 이차방정식 근 구하기\n",
    "\n",
    "`ax ** 2 + bx + c`라는 식에 대한 x의 근은 다음과 같이 2개가 존재합니다.\n",
    "\n",
    "```\n",
    "x = (- b (+,-) (b ** 2 - 4ac) ** 0.5) / 2a\n",
    "```"
   ]
  },
  {
   "cell_type": "code",
   "execution_count": 11,
   "metadata": {
    "collapsed": false
   },
   "outputs": [
    {
     "name": "stdout",
     "output_type": "stream",
     "text": [
      "Enter a :1\n",
      "Enter b :2\n",
      "Enter c :1\n",
      "-1.00\n",
      "-1.00\n"
     ]
    }
   ],
   "source": [
    "def roots(a, b, c):\n",
    "    D = ( b ** 2 - 4 * a * c ) ** 0.5\n",
    "    result = [ (-b + D) / (2 * a) , (-b - D) / (2 * a) ]\n",
    "    return result\n",
    "\n",
    "if __name__ == '__main__':\n",
    "    a = float(input('Enter a :'))\n",
    "    b = float(input('Enter b :'))\n",
    "    c = float(input('Enter c :'))\n",
    "    rootList = roots(a, b, c)\n",
    "    \n",
    "    for i in rootList:\n",
    "        print('{0:.2f}'.format(i))"
   ]
  },
  {
   "cell_type": "markdown",
   "metadata": {
    "collapsed": true
   },
   "source": [
    "## 프로그래밍 연습\n",
    "\n",
    "### 1. 짝수,홀수 자판기\n",
    "\n",
    "- 입력한 숫자가 `짝수`인지 `홀수`인지 출력합니다.\n",
    "- 입력한 숫자 다음으로 오는 `짝수` 또는 `홀수`를 같이 출력합니다.\n",
    "- `is_integer()`를 이용하여 유효하지 않은 입력에 대해서는 오류 메세지를 출력하세요."
   ]
  },
  {
   "cell_type": "code",
   "execution_count": 13,
   "metadata": {
    "collapsed": false
   },
   "outputs": [
    {
     "name": "stdout",
     "output_type": "stream",
     "text": [
      "Enter number: 2\n",
      "2 is even :\n",
      "[2, 4, 6, 8, 10, 12, 14, 16, 18, 20]\n"
     ]
    }
   ],
   "source": [
    "def is_odd(val):\n",
    "    if val % 2 == 0:\n",
    "        return False\n",
    "    else:\n",
    "        return True\n",
    "\n",
    "if __name__ == '__main__':\n",
    "    try:\n",
    "        inputNum = float(input('Enter number: '))\n",
    "    except:\n",
    "        print('You must input number')\n",
    "    if inputNum.is_integer():\n",
    "        val = int(inputNum)\n",
    "        print(val, 'is','odd' if is_odd(val) else 'even', ':')\n",
    "        seq = list(range(val, val + 20, 2))\n",
    "        print(seq)\n",
    "    else:\n",
    "        print('You input invalid number')"
   ]
  },
  {
   "cell_type": "markdown",
   "metadata": {},
   "source": [
    "### 2. 개선된 곱 테이블\n",
    "\n",
    "X 단을 Y 개까지 출력하는 방식으로 구현하세요."
   ]
  },
  {
   "cell_type": "code",
   "execution_count": 14,
   "metadata": {
    "collapsed": false
   },
   "outputs": [
    {
     "name": "stdout",
     "output_type": "stream",
     "text": [
      "Enter start number :9\n",
      "Enter number of step :15\n",
      "9 * 1 = 9\n",
      "9 * 2 = 18\n",
      "9 * 3 = 27\n",
      "9 * 4 = 36\n",
      "9 * 5 = 45\n",
      "9 * 6 = 54\n",
      "9 * 7 = 63\n",
      "9 * 8 = 72\n",
      "9 * 9 = 81\n",
      "9 * 10 = 90\n",
      "9 * 11 = 99\n",
      "9 * 12 = 108\n",
      "9 * 13 = 117\n",
      "9 * 14 = 126\n",
      "9 * 15 = 135\n"
     ]
    }
   ],
   "source": [
    "try:\n",
    "    val = int(input('Enter start number :'))\n",
    "    num = int(input('Enter number of step :'))\n",
    "except:\n",
    "    print('Invalid number entered')\n",
    "\n",
    "for i in range(1, num + 1):\n",
    "    print(val, '*', i, '=', val * i)"
   ]
  },
  {
   "cell_type": "markdown",
   "metadata": {},
   "source": [
    "### 3. 개선된 단위 변환\n",
    "\n",
    "아래 변환이 모두 가능한 프로그램을 작성하세요.\n",
    "- 거리(킬로미터 <-> 마일)\n",
    "- 무게(킬로그램 <-> 파운드)\n",
    "- 온도(섭씨 <-> 화시)"
   ]
  },
  {
   "cell_type": "code",
   "execution_count": 1,
   "metadata": {
    "collapsed": false
   },
   "outputs": [
    {
     "name": "stdout",
     "output_type": "stream",
     "text": [
      "Enter command (1.KilloMeterToMile, 2.MileToKilloMeter, 3.KilloGramToPound, 4.PoundToKilloGram, 5.CelsiusToFahrenheit, 6.FahrenheitToCelsius) : 5\n",
      "Enter value : 36.5\n",
      "Result :  97.7\n"
     ]
    }
   ],
   "source": [
    "def KilloMeterToMile(km):\n",
    "    return km / 1.609\n",
    "\n",
    "def MileToKilloMeter(mile):\n",
    "    return mile * 1.609\n",
    "\n",
    "def KilloGramToPound(kg):\n",
    "    return kg * 2.20462\n",
    "\n",
    "def PoundToKilloGram(pound):\n",
    "    return pound / 2.20462\n",
    "\n",
    "def CelsiusToFahrenheit(c):\n",
    "    return c * 9 / 5 + 32\n",
    "\n",
    "def FahrenheitToCelsius(f):\n",
    "    return (f - 32) * 5 / 9\n",
    "\n",
    "if __name__ == '__main__':\n",
    "    try:\n",
    "        order = int(input('Enter command (1.KilloMeterToMile, 2.MileToKilloMeter, 3.KilloGramToPound, 4.PoundToKilloGram, 5.CelsiusToFahrenheit, 6.FahrenheitToCelsius) : '))\n",
    "        val = float(input('Enter value : '))\n",
    "    except:\n",
    "        print('Invalid command')\n",
    "\n",
    "    task = [KilloMeterToMile, MileToKilloMeter, KilloGramToPound, PoundToKilloGram, CelsiusToFahrenheit, FahrenheitToCelsius]\n",
    "    result = task[order-1](val)\n",
    "    print('Result : ', result)"
   ]
  },
  {
   "cell_type": "markdown",
   "metadata": {
    "collapsed": true
   },
   "source": [
    "### 4. 분수계산기\n",
    "2개의 분수를 입력받아서, 4칙연산을 수행하는 프로그램을 작성하세요."
   ]
  },
  {
   "cell_type": "code",
   "execution_count": 2,
   "metadata": {
    "collapsed": false
   },
   "outputs": [
    {
     "name": "stdout",
     "output_type": "stream",
     "text": [
      "Enter first fraction : 3/4\n",
      "Enter second fraction : 2/6\n",
      "Operation to perform - [A]dd, [S]ubtract, [D]ivide, [M]ultiply : M\n",
      "3/4 * 1/3 = 1/4\n"
     ]
    }
   ],
   "source": [
    "from fractions import Fraction\n",
    "\n",
    "a = Fraction(input('Enter first fraction : '))\n",
    "b = Fraction(input('Enter second fraction : '))\n",
    "op = input('Operation to perform - [A]dd, [S]ubtract, [D]ivide, [M]ultiply : ')\n",
    "\n",
    "cmd = op.lower()[0]\n",
    "\n",
    "if cmd == 'a':\n",
    "    print(a, '+', b, '=', a + b)\n",
    "elif cmd == 's':\n",
    "    print(a, '-', b, '=', a - b)\n",
    "elif cmd == 'd':\n",
    "    print(a, '/', b, '=', a / b)\n",
    "elif cmd == 'm':\n",
    "    print(a, '*', b, '=', a * b)\n",
    "else:\n",
    "    print('Invalid Operation')"
   ]
  }
 ],
 "metadata": {
  "anaconda-cloud": {},
  "kernelspec": {
   "display_name": "Python [Root]",
   "language": "python",
   "name": "Python [Root]"
  },
  "language_info": {
   "codemirror_mode": {
    "name": "ipython",
    "version": 3
   },
   "file_extension": ".py",
   "mimetype": "text/x-python",
   "name": "python",
   "nbconvert_exporter": "python",
   "pygments_lexer": "ipython3",
   "version": "3.5.2"
  }
 },
 "nbformat": 4,
 "nbformat_minor": 0
}
