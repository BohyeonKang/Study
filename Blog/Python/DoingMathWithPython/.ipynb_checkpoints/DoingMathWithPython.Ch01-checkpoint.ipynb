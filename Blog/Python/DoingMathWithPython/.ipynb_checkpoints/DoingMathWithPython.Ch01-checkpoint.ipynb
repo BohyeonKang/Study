{
 "cells": [
  {
   "cell_type": "markdown",
   "metadata": {
    "nbpresent": {
     "id": "dcf45295-0232-45e9-b753-4ca5fe69fa2a"
    }
   },
   "source": [
    "# 파이썬으로 풀어보는 수학\n",
    "\n",
    "- 원서명 : Doing Math with Python: Use Programming to Explore Algebra, Statistics, Calculus, and More! (ISBN 9781593276409)\n",
    "- 지은이 : 아미트 사하(Amit Saha)\n",
    "- 원서 및 관련자료 : <https://www.nostarch.com/doingmathwithpython>\n",
    "- 번역서 : <http://www.acornpub.co.kr/book/doing-math-with-python>\n",
    "\n",
    "![책표지](./image/cover.jpg)"
   ]
  },
  {
   "cell_type": "markdown",
   "metadata": {
    "nbpresent": {
     "id": "9e1fbfee-b1c8-4f0e-a6d1-a963ba8aece0"
    }
   },
   "source": [
    "## 1장 숫자, 연산\n",
    "\n",
    "### 1. 사칙연산\n",
    "\n",
    "#### 1.1 기본연산 (더하기, 빼기, 곱하기)"
   ]
  },
  {
   "cell_type": "code",
   "execution_count": 1,
   "metadata": {
    "collapsed": false,
    "nbpresent": {
     "id": "244713c3-b8b2-40fc-9409-5237d82fc80e"
    },
    "scrolled": true
   },
   "outputs": [
    {
     "data": {
      "text/plain": [
       "3"
      ]
     },
     "execution_count": 1,
     "metadata": {},
     "output_type": "execute_result"
    }
   ],
   "source": [
    "1 + 2"
   ]
  },
  {
   "cell_type": "code",
   "execution_count": 2,
   "metadata": {
    "collapsed": false,
    "nbpresent": {
     "id": "f858a424-f3c1-4606-af3a-6397d50e75d6"
    }
   },
   "outputs": [
    {
     "data": {
      "text/plain": [
       "2.5"
      ]
     },
     "execution_count": 2,
     "metadata": {},
     "output_type": "execute_result"
    }
   ],
   "source": [
    "-1 + 3.5"
   ]
  },
  {
   "cell_type": "code",
   "execution_count": 3,
   "metadata": {
    "collapsed": false,
    "nbpresent": {
     "id": "6d0fdf03-12fb-470b-958d-a600c360b295"
    }
   },
   "outputs": [
    {
     "data": {
      "text/plain": [
       "55"
      ]
     },
     "execution_count": 3,
     "metadata": {},
     "output_type": "execute_result"
    }
   ],
   "source": [
    "100 - 45"
   ]
  },
  {
   "cell_type": "code",
   "execution_count": 4,
   "metadata": {
    "collapsed": false,
    "nbpresent": {
     "id": "ac3978a0-84e8-4992-8e59-4d2e2fee3060"
    }
   },
   "outputs": [
    {
     "data": {
      "text/plain": [
       "6"
      ]
     },
     "execution_count": 4,
     "metadata": {},
     "output_type": "execute_result"
    }
   ],
   "source": [
    "3 * 2"
   ]
  },
  {
   "cell_type": "code",
   "execution_count": 5,
   "metadata": {
    "collapsed": false,
    "nbpresent": {
     "id": "70536ba4-e4bd-48a0-82b0-11e9abe98809"
    }
   },
   "outputs": [
    {
     "data": {
      "text/plain": [
       "5.25"
      ]
     },
     "execution_count": 5,
     "metadata": {},
     "output_type": "execute_result"
    }
   ],
   "source": [
    "3.5 * 1.5"
   ]
  },
  {
   "cell_type": "code",
   "execution_count": 6,
   "metadata": {
    "collapsed": false,
    "nbpresent": {
     "id": "a86bf578-d04b-4b2e-8c3e-c8111c9cc9fd"
    }
   },
   "outputs": [
    {
     "data": {
      "text/plain": [
       "1.5"
      ]
     },
     "execution_count": 6,
     "metadata": {},
     "output_type": "execute_result"
    }
   ],
   "source": [
    "3 / 2"
   ]
  },
  {
   "cell_type": "code",
   "execution_count": 7,
   "metadata": {
    "collapsed": false,
    "nbpresent": {
     "id": "ed5cfad4-03c3-4155-957c-b1aff1dfa01c"
    }
   },
   "outputs": [
    {
     "data": {
      "text/plain": [
       "2.0"
      ]
     },
     "execution_count": 7,
     "metadata": {},
     "output_type": "execute_result"
    }
   ],
   "source": [
    "4 / 2"
   ]
  },
  {
   "cell_type": "markdown",
   "metadata": {
    "nbpresent": {
     "id": "135482eb-2f48-4d1b-952a-1866be6c58f8"
    }
   },
   "source": [
    "#### 1.2 나누기 ( 나누기, 나머지), 지수"
   ]
  },
  {
   "cell_type": "code",
   "execution_count": 1,
   "metadata": {
    "collapsed": false,
    "nbpresent": {
     "id": "75a83d00-5857-4e4e-ad23-0bc881f2263f"
    }
   },
   "outputs": [
    {
     "data": {
      "text/plain": [
       "1.5"
      ]
     },
     "execution_count": 1,
     "metadata": {},
     "output_type": "execute_result"
    }
   ],
   "source": [
    "3 / 2"
   ]
  },
  {
   "cell_type": "code",
   "execution_count": 2,
   "metadata": {
    "collapsed": false,
    "nbpresent": {
     "id": "10033d7f-4ef7-4740-917b-408ccd0593b2"
    }
   },
   "outputs": [
    {
     "data": {
      "text/plain": [
       "2.0"
      ]
     },
     "execution_count": 2,
     "metadata": {},
     "output_type": "execute_result"
    }
   ],
   "source": [
    "4 / 2"
   ]
  },
  {
   "cell_type": "code",
   "execution_count": 3,
   "metadata": {
    "collapsed": false,
    "nbpresent": {
     "id": "1ad64b04-21bd-452b-9fee-6fa607dae5e5"
    }
   },
   "outputs": [
    {
     "data": {
      "text/plain": [
       "1"
      ]
     },
     "execution_count": 3,
     "metadata": {},
     "output_type": "execute_result"
    }
   ],
   "source": [
    "3 // 2 # 버림 나눗셈 : 소숫점 아래를 내림"
   ]
  },
  {
   "cell_type": "code",
   "execution_count": 4,
   "metadata": {
    "collapsed": false,
    "nbpresent": {
     "id": "40249b05-18a0-42a3-98a0-b2c634ceeb09"
    }
   },
   "outputs": [
    {
     "data": {
      "text/plain": [
       "-2"
      ]
     },
     "execution_count": 4,
     "metadata": {},
     "output_type": "execute_result"
    }
   ],
   "source": [
    "-3 // 2 # 음수인 경우 원래 답보다 작거나 같은 값이므로 -1.5 -> -2.0이 됨"
   ]
  },
  {
   "cell_type": "code",
   "execution_count": 5,
   "metadata": {
    "collapsed": false,
    "nbpresent": {
     "id": "fc98aa14-2b9c-4e28-a92b-b6b2bfc78051"
    }
   },
   "outputs": [
    {
     "data": {
      "text/plain": [
       "1"
      ]
     },
     "execution_count": 5,
     "metadata": {},
     "output_type": "execute_result"
    }
   ],
   "source": [
    "9 % 2 # 나머지"
   ]
  },
  {
   "cell_type": "code",
   "execution_count": 6,
   "metadata": {
    "collapsed": false,
    "nbpresent": {
     "id": "afee9ddf-db26-41d5-a904-d157f05da6f7"
    }
   },
   "outputs": [
    {
     "data": {
      "text/plain": [
       "4"
      ]
     },
     "execution_count": 6,
     "metadata": {},
     "output_type": "execute_result"
    }
   ],
   "source": [
    "2 ** 2 # 2의 2승"
   ]
  },
  {
   "cell_type": "code",
   "execution_count": 7,
   "metadata": {
    "collapsed": false,
    "nbpresent": {
     "id": "92a76c4c-2471-4634-9123-46582cd621a5"
    }
   },
   "outputs": [
    {
     "data": {
      "text/plain": [
       "1024"
      ]
     },
     "execution_count": 7,
     "metadata": {},
     "output_type": "execute_result"
    }
   ],
   "source": [
    "2 ** 10"
   ]
  },
  {
   "cell_type": "code",
   "execution_count": 8,
   "metadata": {
    "collapsed": false,
    "nbpresent": {
     "id": "4a149a2e-a17c-45c7-b006-463196eedfe0"
    }
   },
   "outputs": [
    {
     "data": {
      "text/plain": [
       "1.4142135623730951"
      ]
     },
     "execution_count": 8,
     "metadata": {},
     "output_type": "execute_result"
    }
   ],
   "source": [
    "2 ** (0.5) # 2의 1/2 승이니 Root 2와 같음"
   ]
  },
  {
   "cell_type": "code",
   "execution_count": 9,
   "metadata": {
    "collapsed": false,
    "nbpresent": {
     "id": "bdab6337-11fe-4c29-ae02-7beab9799c5b"
    }
   },
   "outputs": [
    {
     "data": {
      "text/plain": [
       "2.0"
      ]
     },
     "execution_count": 9,
     "metadata": {},
     "output_type": "execute_result"
    }
   ],
   "source": [
    "8 ** (1/3) # 8의 세재곱근"
   ]
  },
  {
   "cell_type": "markdown",
   "metadata": {
    "nbpresent": {
     "id": "49b293d7-b810-45bc-85e0-2e8b8eca8b44"
    }
   },
   "source": [
    "### 2. 분수 (Fraction)\n",
    "\n",
    "사용하기 위해서는 `fractions` 모듈에서 `Fraction` class를 임포트해야 합니다.\n",
    "\n",
    "`Fraction(분자 , 분모)`의 형태로 입력합니다."
   ]
  },
  {
   "cell_type": "code",
   "execution_count": 3,
   "metadata": {
    "collapsed": false,
    "nbpresent": {
     "id": "303266d9-4bba-4384-a3ce-57547cef036a"
    },
    "scrolled": true
   },
   "outputs": [
    {
     "data": {
      "text/plain": [
       "Fraction(3, 4)"
      ]
     },
     "execution_count": 3,
     "metadata": {},
     "output_type": "execute_result"
    }
   ],
   "source": [
    "from fractions import Fraction\n",
    "f = Fraction(3, 4)\n",
    "f"
   ]
  },
  {
   "cell_type": "code",
   "execution_count": 5,
   "metadata": {
    "collapsed": false,
    "nbpresent": {
     "id": "9a412e80-903e-426c-ab9e-1afadebd63b6"
    }
   },
   "outputs": [
    {
     "data": {
      "text/plain": [
       "3.25"
      ]
     },
     "execution_count": 5,
     "metadata": {},
     "output_type": "execute_result"
    }
   ],
   "source": [
    "Fraction(3,4) + 1 + 1.5"
   ]
  },
  {
   "cell_type": "markdown",
   "metadata": {
    "nbpresent": {
     "id": "5d9ba9fa-6d42-413a-9f54-90cadeadb59e"
    }
   },
   "source": [
    "### 3. 복소수 (Complex numbers)\n",
    "\n",
    "문자 `j` 또는 `J`를 이용해서 허수부를 입력할 수 있습니다."
   ]
  },
  {
   "cell_type": "code",
   "execution_count": 6,
   "metadata": {
    "collapsed": false,
    "nbpresent": {
     "id": "bc8530ec-a8bf-4984-bb0a-ddda6985cc55"
    }
   },
   "outputs": [
    {
     "data": {
      "text/plain": [
       "complex"
      ]
     },
     "execution_count": 6,
     "metadata": {},
     "output_type": "execute_result"
    }
   ],
   "source": [
    "c = 2 + 3j\n",
    "type(c)"
   ]
  },
  {
   "cell_type": "markdown",
   "metadata": {
    "nbpresent": {
     "id": "960a30c0-37c8-4886-a418-e6f69ad4d70b"
    }
   },
   "source": [
    "`complex` 객체를 이용해서도 가능합니다."
   ]
  },
  {
   "cell_type": "code",
   "execution_count": 2,
   "metadata": {
    "collapsed": false,
    "nbpresent": {
     "id": "f27d9c62-351a-440d-9c9d-352bfd3fae2f"
    }
   },
   "outputs": [
    {
     "data": {
      "text/plain": [
       "(2+3j)"
      ]
     },
     "execution_count": 2,
     "metadata": {},
     "output_type": "execute_result"
    }
   ],
   "source": [
    "c = complex(2,3)\n",
    "c"
   ]
  },
  {
   "cell_type": "markdown",
   "metadata": {
    "nbpresent": {
     "id": "9d564ad7-a782-45d7-8f46-d953d79c4b8c"
    }
   },
   "source": [
    "`complex` 의 사칙연산입니다. ( 나머지 `%` 와 버림 `//`은 제공하지 않습니다. )"
   ]
  },
  {
   "cell_type": "code",
   "execution_count": 16,
   "metadata": {
    "collapsed": false,
    "nbpresent": {
     "id": "94545b01-ea11-4b72-8871-4a26d5dc403a"
    }
   },
   "outputs": [
    {
     "data": {
      "text/plain": [
       "(5+6j)"
      ]
     },
     "execution_count": 16,
     "metadata": {},
     "output_type": "execute_result"
    }
   ],
   "source": [
    "b = 3 + 3j\n",
    "b + c"
   ]
  },
  {
   "cell_type": "code",
   "execution_count": 9,
   "metadata": {
    "collapsed": false,
    "nbpresent": {
     "id": "77f92dbb-431e-4a36-a79e-adafc0c813b2"
    }
   },
   "outputs": [
    {
     "data": {
      "text/plain": [
       "(1+0j)"
      ]
     },
     "execution_count": 9,
     "metadata": {},
     "output_type": "execute_result"
    }
   ],
   "source": [
    "b - c"
   ]
  },
  {
   "cell_type": "code",
   "execution_count": 10,
   "metadata": {
    "collapsed": false,
    "nbpresent": {
     "id": "3a4f7d26-ea17-4331-9d2d-f73bf18cccd9"
    }
   },
   "outputs": [
    {
     "data": {
      "text/plain": [
       "(-3+15j)"
      ]
     },
     "execution_count": 10,
     "metadata": {},
     "output_type": "execute_result"
    }
   ],
   "source": [
    "b * c"
   ]
  },
  {
   "cell_type": "markdown",
   "metadata": {
    "nbpresent": {
     "id": "37009fdb-732c-44c4-a26c-c30dfe132fad"
    }
   },
   "source": [
    "#### 복소수의 곱셈\n",
    "\n",
    "$$\n",
    "(a + bj) \\times (c + dj) \n",
    "= ac + adj + bcj - bd \n",
    "= (ac - bd) + (bc + ad)j\n",
    "$$\n",
    "\n",
    ">$$(2 + 3j) \\times (3 + 3j) = (6 - 9) + (6 + 9)j = -3 + 15j$$"
   ]
  },
  {
   "cell_type": "code",
   "execution_count": 17,
   "metadata": {
    "collapsed": false,
    "nbpresent": {
     "id": "8ebe0d56-34ba-4860-81f9-ef397b325e1d"
    }
   },
   "outputs": [
    {
     "data": {
      "text/plain": [
       "(1.153846153846154-0.23076923076923078j)"
      ]
     },
     "execution_count": 17,
     "metadata": {},
     "output_type": "execute_result"
    }
   ],
   "source": [
    "b / c"
   ]
  },
  {
   "cell_type": "markdown",
   "metadata": {
    "nbpresent": {
     "id": "64fbadab-e793-4330-8f6f-445df6a2e6f9"
    }
   },
   "source": [
    "#### 복소수의 나눗셈\n",
    "\n",
    "$$ \\frac {a + bj}{c + dj} \n",
    "= \\frac {((a +bj)(c - dj))}{((c + dj)( c - dj))} \n",
    "= \\frac{((ac + bd) + (bc - ad)j)}{({c}^{2} + {d}^{2}) + (cd - cd)j} \n",
    "= \\frac{((ac + bd) + (bc - ad)j)}{{c}^{2} + {d}^{2}}\n",
    "$$\n",
    "\n",
    ">$$\\frac{3 +3j}{2 + 3j} = \\frac{6 + 9}{4 + 9} + (\\frac{6 - 9}{4 + 9} ) j = \\frac{15}{13} - \\frac{3}{13}j$$"
   ]
  },
  {
   "cell_type": "markdown",
   "metadata": {
    "nbpresent": {
     "id": "c5ee7a43-3014-4299-9a6a-b8bda9d06f22"
    }
   },
   "source": [
    "#### 컬레복소수(conjugate)\n",
    "같은 실수부에 허수부의 부호가 반대인 경우를 말합니다.\n",
    "바로 앞에서 본 것처럼 나누기 할때 분모의 컬레복소수를 분모 분자에 모두 곱해서 계산을 했습니다."
   ]
  },
  {
   "cell_type": "code",
   "execution_count": 28,
   "metadata": {
    "collapsed": false,
    "nbpresent": {
     "id": "e2ee89df-f400-4648-8dd1-24bcd67390e5"
    }
   },
   "outputs": [
    {
     "data": {
      "text/plain": [
       "(2-3j)"
      ]
     },
     "execution_count": 28,
     "metadata": {},
     "output_type": "execute_result"
    }
   ],
   "source": [
    "c.conjugate()"
   ]
  },
  {
   "cell_type": "markdown",
   "metadata": {
    "nbpresent": {
     "id": "7b1792e5-de3e-440a-8d78-6e4646fc844e"
    }
   },
   "source": [
    "#### 복소수의 값(magnitude)\n",
    "절대치`abs() 함수`를 이용해서 구할수 있습니다."
   ]
  },
  {
   "cell_type": "code",
   "execution_count": 29,
   "metadata": {
    "collapsed": false,
    "nbpresent": {
     "id": "63416660-ae54-46fe-8a10-783deecdc538"
    }
   },
   "outputs": [
    {
     "data": {
      "text/plain": [
       "3.605551275463989"
      ]
     },
     "execution_count": 29,
     "metadata": {},
     "output_type": "execute_result"
    }
   ],
   "source": [
    "abs(c)"
   ]
  },
  {
   "cell_type": "markdown",
   "metadata": {
    "nbpresent": {
     "id": "de4a0fbc-aebf-4c92-a167-697d3e4bbb4d"
    }
   },
   "source": [
    "계산 공식은 `(실수부의 제곱 + 허수부의 제곱)의 제곱근(루트)` 입니다."
   ]
  },
  {
   "cell_type": "code",
   "execution_count": 30,
   "metadata": {
    "collapsed": false,
    "nbpresent": {
     "id": "68ad74bd-db15-407e-baf4-196abeb10d96"
    }
   },
   "outputs": [
    {
     "data": {
      "text/plain": [
       "3.605551275463989"
      ]
     },
     "execution_count": 30,
     "metadata": {},
     "output_type": "execute_result"
    }
   ],
   "source": [
    "(c.real ** 2 + c.imag ** 2) ** 0.5"
   ]
  },
  {
   "cell_type": "markdown",
   "metadata": {
    "collapsed": true,
    "nbpresent": {
     "id": "f166c1ad-3ffa-4e4e-89bb-ac8c70c44e05"
    }
   },
   "source": [
    "### 4. 정수 팩터 계산\n",
    "0이 아닌 정수 a를 다른 정수 b로 나누었을 때 나머지가 0인 경우 a는 b의 `팩터(Factor)`라 합니다."
   ]
  },
  {
   "cell_type": "code",
   "execution_count": 10,
   "metadata": {
    "collapsed": false,
    "nbpresent": {
     "id": "2230f320-1ee0-4640-8679-abf2db48fb5b"
    }
   },
   "outputs": [
    {
     "name": "stdout",
     "output_type": "stream",
     "text": [
      "Input a : 8\n",
      "Input b : 2\n",
      "True\n"
     ]
    }
   ],
   "source": [
    "def is_factor(a, b):\n",
    "    if a % b == 0:\n",
    "        return True\n",
    "    else:\n",
    "        return False\n",
    "\n",
    "if __name__ == '__main__':\n",
    "\n",
    "    while True:\n",
    "        a = input('Input a : ')\n",
    "        a = float(a)\n",
    "        if a.is_integer() and a > 0:\n",
    "            break\n",
    "        print('Please enter a positive integer for a')\n",
    "\n",
    "    while True:\n",
    "        b = input('Input b : ')\n",
    "        b = float(b)\n",
    "        if b.is_integer() and b > 0:\n",
    "            break\n",
    "        print('Please enter a positive integer for b')\n",
    "\n",
    "    print(is_factor(a,b))        "
   ]
  },
  {
   "cell_type": "markdown",
   "metadata": {
    "collapsed": true,
    "nbpresent": {
     "id": "d1044226-a69e-45f5-af27-2f9a6a5012e9"
    }
   },
   "source": [
    "특정 정수에 대한 모든 팩터를 구하기 위해서는 어떻게 해야 할까요 ?\n",
    "그 수보다 작은 모든 양의 정수에 대해서 검사를 하면 됩니다."
   ]
  },
  {
   "cell_type": "code",
   "execution_count": 8,
   "metadata": {
    "collapsed": false,
    "nbpresent": {
     "id": "64fa4d10-9dd4-4129-9bc6-e3495756c019"
    }
   },
   "outputs": [
    {
     "name": "stdout",
     "output_type": "stream",
     "text": [
      "input a : 16\n",
      "[1, 2, 4, 8, 16]\n"
     ]
    }
   ],
   "source": [
    "def is_factor(a, b):\n",
    "    if a % b == 0:\n",
    "        return True\n",
    "    else:\n",
    "        return False\n",
    "\n",
    "def factors(value):\n",
    "    result = []\n",
    "    for i in range (1, value + 1):\n",
    "        if is_factor(value, i):\n",
    "            result.append(i)\n",
    "    return result\n",
    "\n",
    "if __name__ == '__main__':\n",
    "    \n",
    "    while True:\n",
    "        a = input('input a : ')\n",
    "        a = float(a)\n",
    "        if a.is_integer() and a > 0:\n",
    "            a = int(a)\n",
    "            break;\n",
    "        print('Please enter a positive integer for a')\n",
    "    \n",
    "    print(factors(a))\n"
   ]
  },
  {
   "cell_type": "markdown",
   "metadata": {
    "nbpresent": {
     "id": "a568415a-c71a-48d2-907f-f5bede28dc62"
    }
   },
   "source": [
    "### 5. 측정 단위 변환\n",
    "\n",
    "#### 센티미터 to 인치\n",
    "1인치는 `2.54`센티미터입니다."
   ]
  },
  {
   "cell_type": "code",
   "execution_count": 9,
   "metadata": {
    "collapsed": false,
    "nbpresent": {
     "id": "5360557e-7109-4b1b-9816-351e78a633e5"
    }
   },
   "outputs": [
    {
     "data": {
      "text/plain": [
       "95.25"
      ]
     },
     "execution_count": 9,
     "metadata": {},
     "output_type": "execute_result"
    }
   ],
   "source": [
    "37.5 * 2.54"
   ]
  },
  {
   "cell_type": "markdown",
   "metadata": {
    "nbpresent": {
     "id": "727266d9-b209-445a-bca5-01116948e63a"
    }
   },
   "source": [
    "#### 마일 to 킬로미터\n",
    "1마일은 `1.609`킬로미터와 같습니다."
   ]
  },
  {
   "cell_type": "code",
   "execution_count": 10,
   "metadata": {
    "collapsed": false,
    "nbpresent": {
     "id": "c9c887f6-7bfa-429f-aeae-c5e9d27e4b21"
    }
   },
   "outputs": [
    {
     "data": {
      "text/plain": [
       "514.88"
      ]
     },
     "execution_count": 10,
     "metadata": {},
     "output_type": "execute_result"
    }
   ],
   "source": [
    "320 * 1.609"
   ]
  },
  {
   "cell_type": "markdown",
   "metadata": {
    "nbpresent": {
     "id": "888cc2d4-45a3-4a98-be79-15977cdb2230"
    }
   },
   "source": [
    "#### 화씨 to 섭씨\n",
    "```\n",
    "C = (F - 32) * 5 / 9\n",
    "```"
   ]
  },
  {
   "cell_type": "code",
   "execution_count": 12,
   "metadata": {
    "collapsed": false,
    "nbpresent": {
     "id": "6d9e6fe8-57f8-4774-a1c7-bc0fe30d0c84"
    }
   },
   "outputs": [
    {
     "data": {
      "text/plain": [
       "37.0"
      ]
     },
     "execution_count": 12,
     "metadata": {},
     "output_type": "execute_result"
    }
   ],
   "source": [
    "F = 98.6\n",
    "(F - 32) * 5 / 9"
   ]
  },
  {
   "cell_type": "markdown",
   "metadata": {
    "nbpresent": {
     "id": "6c9dd9c0-2b2d-42f2-98cd-493d2daf842f"
    }
   },
   "source": [
    "반대로는 위 수식의 역수를 취하면 됩니다.\n",
    "```\n",
    "F = C * 9 / 5 + 32\n",
    "```"
   ]
  },
  {
   "cell_type": "code",
   "execution_count": 13,
   "metadata": {
    "collapsed": false,
    "nbpresent": {
     "id": "043f155a-3499-4139-8f86-e33d0ddce96a"
    }
   },
   "outputs": [
    {
     "data": {
      "text/plain": [
       "98.6"
      ]
     },
     "execution_count": 13,
     "metadata": {},
     "output_type": "execute_result"
    }
   ],
   "source": [
    "C = 37\n",
    "C * 9 / 5 + 32"
   ]
  },
  {
   "cell_type": "markdown",
   "metadata": {
    "nbpresent": {
     "id": "30f63d3a-086a-4b03-a550-792126a23bd9"
    }
   },
   "source": [
    "### 6. 이차방정식 근 구하기\n",
    "\n",
    "${ax}^{2} + bx + c$라는 식에 대한 x의 근은 다음과 같이 2개가 존재합니다.\n",
    "\n",
    "$$\n",
    "x = \\frac{- b \\pm \\sqrt{{b}^{2} - 4ac}}{2a}\n",
    "$$"
   ]
  },
  {
   "cell_type": "code",
   "execution_count": 11,
   "metadata": {
    "collapsed": false,
    "nbpresent": {
     "id": "71eb8488-3e28-407a-bde1-99094a3aa0cc"
    }
   },
   "outputs": [
    {
     "name": "stdout",
     "output_type": "stream",
     "text": [
      "Enter a :1\n",
      "Enter b :2\n",
      "Enter c :1\n",
      "-1.00\n",
      "-1.00\n"
     ]
    }
   ],
   "source": [
    "def roots(a, b, c):\n",
    "    D = ( b ** 2 - 4 * a * c ) ** 0.5\n",
    "    result = [ (-b + D) / (2 * a) , (-b - D) / (2 * a) ]\n",
    "    return result\n",
    "\n",
    "if __name__ == '__main__':\n",
    "    a = float(input('Enter a :'))\n",
    "    b = float(input('Enter b :'))\n",
    "    c = float(input('Enter c :'))\n",
    "    rootList = roots(a, b, c)\n",
    "    \n",
    "    for i in rootList:\n",
    "        print('{0:.2f}'.format(i))"
   ]
  },
  {
   "cell_type": "markdown",
   "metadata": {
    "collapsed": true,
    "nbpresent": {
     "id": "8543c053-a609-4b8f-9581-7fce7414e542"
    }
   },
   "source": [
    "## 프로그래밍 연습\n",
    "\n",
    "### 1. 짝수,홀수 자판기\n",
    "\n",
    "- 입력한 숫자가 `짝수`인지 `홀수`인지 출력합니다.\n",
    "- 입력한 숫자 다음으로 오는 `짝수` 또는 `홀수`를 같이 출력합니다.\n",
    "- `is_integer()`를 이용하여 유효하지 않은 입력에 대해서는 오류 메세지를 출력하세요."
   ]
  },
  {
   "cell_type": "code",
   "execution_count": 13,
   "metadata": {
    "collapsed": false,
    "nbpresent": {
     "id": "f3b7683d-1c16-40d4-b69c-1fff34b37b57"
    }
   },
   "outputs": [
    {
     "name": "stdout",
     "output_type": "stream",
     "text": [
      "Enter number: 2\n",
      "2 is even :\n",
      "[2, 4, 6, 8, 10, 12, 14, 16, 18, 20]\n"
     ]
    }
   ],
   "source": [
    "def is_odd(val):\n",
    "    if val % 2 == 0:\n",
    "        return False\n",
    "    else:\n",
    "        return True\n",
    "\n",
    "if __name__ == '__main__':\n",
    "    try:\n",
    "        inputNum = float(input('Enter number: '))\n",
    "    except:\n",
    "        print('You must input number')\n",
    "    if inputNum.is_integer():\n",
    "        val = int(inputNum)\n",
    "        print(val, 'is','odd' if is_odd(val) else 'even', ':')\n",
    "        seq = list(range(val, val + 20, 2))\n",
    "        print(seq)\n",
    "    else:\n",
    "        print('You input invalid number')"
   ]
  },
  {
   "cell_type": "markdown",
   "metadata": {
    "nbpresent": {
     "id": "497d33b5-7719-47c5-a59f-4b3d1757b025"
    }
   },
   "source": [
    "### 2. 개선된 곱 테이블\n",
    "\n",
    "X 단을 Y 개까지 출력하는 방식으로 구현하세요."
   ]
  },
  {
   "cell_type": "code",
   "execution_count": 14,
   "metadata": {
    "collapsed": false,
    "nbpresent": {
     "id": "ea7bb6e0-8f68-41fe-b62c-319a4b7a188b"
    }
   },
   "outputs": [
    {
     "name": "stdout",
     "output_type": "stream",
     "text": [
      "Enter start number :9\n",
      "Enter number of step :15\n",
      "9 * 1 = 9\n",
      "9 * 2 = 18\n",
      "9 * 3 = 27\n",
      "9 * 4 = 36\n",
      "9 * 5 = 45\n",
      "9 * 6 = 54\n",
      "9 * 7 = 63\n",
      "9 * 8 = 72\n",
      "9 * 9 = 81\n",
      "9 * 10 = 90\n",
      "9 * 11 = 99\n",
      "9 * 12 = 108\n",
      "9 * 13 = 117\n",
      "9 * 14 = 126\n",
      "9 * 15 = 135\n"
     ]
    }
   ],
   "source": [
    "try:\n",
    "    val = int(input('Enter start number :'))\n",
    "    num = int(input('Enter number of step :'))\n",
    "except:\n",
    "    print('Invalid number entered')\n",
    "\n",
    "for i in range(1, num + 1):\n",
    "    print(val, '*', i, '=', val * i)"
   ]
  },
  {
   "cell_type": "markdown",
   "metadata": {
    "nbpresent": {
     "id": "8ed6c431-b973-485b-a796-c7b2471c77e7"
    }
   },
   "source": [
    "### 3. 개선된 단위 변환\n",
    "\n",
    "아래 변환이 모두 가능한 프로그램을 작성하세요.\n",
    "- 거리(킬로미터 <-> 마일)\n",
    "- 무게(킬로그램 <-> 파운드)\n",
    "- 온도(섭씨 <-> 화시)"
   ]
  },
  {
   "cell_type": "code",
   "execution_count": 1,
   "metadata": {
    "collapsed": false,
    "nbpresent": {
     "id": "3ec2718d-a02a-43e1-a3b2-f8def6dc94dc"
    }
   },
   "outputs": [
    {
     "name": "stdout",
     "output_type": "stream",
     "text": [
      "Enter command (1.KilloMeterToMile, 2.MileToKilloMeter, 3.KilloGramToPound, 4.PoundToKilloGram, 5.CelsiusToFahrenheit, 6.FahrenheitToCelsius) : 5\n",
      "Enter value : 36.5\n",
      "Result :  97.7\n"
     ]
    }
   ],
   "source": [
    "def KilloMeterToMile(km):\n",
    "    return km / 1.609\n",
    "\n",
    "def MileToKilloMeter(mile):\n",
    "    return mile * 1.609\n",
    "\n",
    "def KilloGramToPound(kg):\n",
    "    return kg * 2.20462\n",
    "\n",
    "def PoundToKilloGram(pound):\n",
    "    return pound / 2.20462\n",
    "\n",
    "def CelsiusToFahrenheit(c):\n",
    "    return c * 9 / 5 + 32\n",
    "\n",
    "def FahrenheitToCelsius(f):\n",
    "    return (f - 32) * 5 / 9\n",
    "\n",
    "if __name__ == '__main__':\n",
    "    try:\n",
    "        order = int(input('Enter command (1.KilloMeterToMile, 2.MileToKilloMeter, 3.KilloGramToPound, 4.PoundToKilloGram, 5.CelsiusToFahrenheit, 6.FahrenheitToCelsius) : '))\n",
    "        val = float(input('Enter value : '))\n",
    "    except:\n",
    "        print('Invalid command')\n",
    "\n",
    "    task = [KilloMeterToMile, MileToKilloMeter, KilloGramToPound, PoundToKilloGram, CelsiusToFahrenheit, FahrenheitToCelsius]\n",
    "    result = task[order-1](val)\n",
    "    print('Result : ', result)"
   ]
  },
  {
   "cell_type": "markdown",
   "metadata": {
    "collapsed": true,
    "nbpresent": {
     "id": "abade7bc-1630-403b-b9f5-92d1f7e7c92d"
    }
   },
   "source": [
    "### 4. 분수계산기\n",
    "2개의 분수를 입력받아서, 4칙연산을 수행하는 프로그램을 작성하세요."
   ]
  },
  {
   "cell_type": "code",
   "execution_count": 2,
   "metadata": {
    "collapsed": false,
    "nbpresent": {
     "id": "a3b881b0-b5dc-4216-a3e4-528a0ab13734"
    }
   },
   "outputs": [
    {
     "name": "stdout",
     "output_type": "stream",
     "text": [
      "Enter first fraction : 3/4\n",
      "Enter second fraction : 2/6\n",
      "Operation to perform - [A]dd, [S]ubtract, [D]ivide, [M]ultiply : M\n",
      "3/4 * 1/3 = 1/4\n"
     ]
    }
   ],
   "source": [
    "from fractions import Fraction\n",
    "\n",
    "a = Fraction(input('Enter first fraction : '))\n",
    "b = Fraction(input('Enter second fraction : '))\n",
    "op = input('Operation to perform - [A]dd, [S]ubtract, [D]ivide, [M]ultiply : ')\n",
    "\n",
    "cmd = op.lower()[0]\n",
    "\n",
    "if cmd == 'a':\n",
    "    print(a, '+', b, '=', a + b)\n",
    "elif cmd == 's':\n",
    "    print(a, '-', b, '=', a - b)\n",
    "elif cmd == 'd':\n",
    "    print(a, '/', b, '=', a / b)\n",
    "elif cmd == 'm':\n",
    "    print(a, '*', b, '=', a * b)\n",
    "else:\n",
    "    print('Invalid Operation')"
   ]
  }
 ],
 "metadata": {
  "anaconda-cloud": {},
  "kernelspec": {
   "display_name": "Python [conda root]",
   "language": "python",
   "name": "conda-root-py"
  },
  "language_info": {
   "codemirror_mode": {
    "name": "ipython",
    "version": 3
   },
   "file_extension": ".py",
   "mimetype": "text/x-python",
   "name": "python",
   "nbconvert_exporter": "python",
   "pygments_lexer": "ipython3",
   "version": "3.5.2"
  },
  "nbpresent": {
   "slides": {
    "008b5faf-ce5f-40ed-9c69-2cbcd0b21ea9": {
     "id": "008b5faf-ce5f-40ed-9c69-2cbcd0b21ea9",
     "prev": "85bc4555-26f3-4fd1-a38c-4edfc0ab9aa9",
     "regions": {
      "89ec9baf-f8e4-41de-87cb-9265a8c39f48": {
       "attrs": {
        "height": 0.8,
        "width": 0.8,
        "x": 0.1,
        "y": 0.1
       },
       "content": {
        "cell": "ed5cfad4-03c3-4155-957c-b1aff1dfa01c",
        "part": "whole"
       },
       "id": "89ec9baf-f8e4-41de-87cb-9265a8c39f48"
      }
     }
    },
    "0485a975-2f25-4de3-918a-4e2d11af2584": {
     "id": "0485a975-2f25-4de3-918a-4e2d11af2584",
     "prev": "4ce4809f-a0ec-4bbe-acaa-9778e8669c9f",
     "regions": {
      "96945d99-d0e3-43ab-978c-a8e474743196": {
       "attrs": {
        "height": 0.8,
        "width": 0.8,
        "x": 0.1,
        "y": 0.1
       },
       "content": {
        "cell": "64fa4d10-9dd4-4129-9bc6-e3495756c019",
        "part": "whole"
       },
       "id": "96945d99-d0e3-43ab-978c-a8e474743196"
      }
     }
    },
    "06cdd7a5-14bb-4b34-a025-702e2eb9a5e4": {
     "id": "06cdd7a5-14bb-4b34-a025-702e2eb9a5e4",
     "prev": "0e5bc406-746c-4ba8-b66b-3e2b16ac2deb",
     "regions": {
      "9e78f4ee-d8d6-4ebd-a9f8-193b3ab123e9": {
       "attrs": {
        "height": 0.8,
        "width": 0.8,
        "x": 0.1,
        "y": 0.1
       },
       "content": {
        "cell": "afee9ddf-db26-41d5-a904-d157f05da6f7",
        "part": "whole"
       },
       "id": "9e78f4ee-d8d6-4ebd-a9f8-193b3ab123e9"
      }
     }
    },
    "08d6225d-6619-4c9d-8a28-5c9810084013": {
     "id": "08d6225d-6619-4c9d-8a28-5c9810084013",
     "prev": "47839889-50ab-4d26-a5bc-0a442b2821eb",
     "regions": {
      "965e130c-7bd5-442a-a6bd-5f9214b6fe99": {
       "attrs": {
        "height": 0.8,
        "width": 0.8,
        "x": 0.1,
        "y": 0.1
       },
       "content": {
        "cell": "37009fdb-732c-44c4-a26c-c30dfe132fad",
        "part": "whole"
       },
       "id": "965e130c-7bd5-442a-a6bd-5f9214b6fe99"
      }
     }
    },
    "09310afe-960c-43ab-b3dc-a7595994faa0": {
     "id": "09310afe-960c-43ab-b3dc-a7595994faa0",
     "prev": "6f227a85-f492-4268-a08e-805dc0745a10",
     "regions": {
      "8a3b532f-8e82-4282-89e9-63e44efc8fc8": {
       "attrs": {
        "height": 0.8,
        "width": 0.8,
        "x": 0.1,
        "y": 0.1
       },
       "content": {
        "cell": "7b1792e5-de3e-440a-8d78-6e4646fc844e",
        "part": "whole"
       },
       "id": "8a3b532f-8e82-4282-89e9-63e44efc8fc8"
      }
     }
    },
    "0e5bc406-746c-4ba8-b66b-3e2b16ac2deb": {
     "id": "0e5bc406-746c-4ba8-b66b-3e2b16ac2deb",
     "prev": "7350feed-43f5-474c-a4de-899d3e35d55b",
     "regions": {
      "e04ac0ac-56f9-4fc9-a712-57ec1da52970": {
       "attrs": {
        "height": 0.8,
        "width": 0.8,
        "x": 0.1,
        "y": 0.1
       },
       "content": {
        "cell": "fc98aa14-2b9c-4e28-a92b-b6b2bfc78051",
        "part": "whole"
       },
       "id": "e04ac0ac-56f9-4fc9-a712-57ec1da52970"
      }
     }
    },
    "10ac638b-bb71-4a20-b78c-d89bb853fef8": {
     "id": "10ac638b-bb71-4a20-b78c-d89bb853fef8",
     "prev": "eff56f33-d7a9-4738-b63a-ac7589e32100",
     "regions": {
      "8eec8a31-e390-41f7-953c-e37d4567482b": {
       "attrs": {
        "height": 0.8,
        "width": 0.8,
        "x": 0.1,
        "y": 0.1
       },
       "content": {
        "cell": "a3b881b0-b5dc-4216-a3e4-528a0ab13734",
        "part": "whole"
       },
       "id": "8eec8a31-e390-41f7-953c-e37d4567482b"
      }
     }
    },
    "12818576-d0a3-4f8d-9a3d-419bae839bc4": {
     "id": "12818576-d0a3-4f8d-9a3d-419bae839bc4",
     "prev": "24d982fe-0672-419b-9ab2-6d8ca5c2e401",
     "regions": {
      "5f373988-1cf8-4dda-ab60-d165fedbeff7": {
       "attrs": {
        "height": 0.8,
        "width": 0.8,
        "x": 0.1,
        "y": 0.1
       },
       "content": {
        "cell": "4a149a2e-a17c-45c7-b006-463196eedfe0",
        "part": "whole"
       },
       "id": "5f373988-1cf8-4dda-ab60-d165fedbeff7"
      }
     }
    },
    "1a4acb55-eae3-439c-9748-c19d83b7ba63": {
     "id": "1a4acb55-eae3-439c-9748-c19d83b7ba63",
     "prev": "1dfc6e35-ed85-44b5-86ea-4a41910594cb",
     "regions": {
      "e8ddb5e4-d7ed-4962-b25c-6b38074b19ff": {
       "attrs": {
        "height": 0.8,
        "width": 0.8,
        "x": 0.1,
        "y": 0.1
       },
       "content": {
        "cell": "8543c053-a609-4b8f-9581-7fce7414e542",
        "part": "whole"
       },
       "id": "e8ddb5e4-d7ed-4962-b25c-6b38074b19ff"
      }
     }
    },
    "1be63006-526b-4b2e-8dcf-e1ef46b7261d": {
     "id": "1be63006-526b-4b2e-8dcf-e1ef46b7261d",
     "prev": "252d22b5-9c2f-4163-b4aa-bfecf279a247",
     "regions": {
      "0e834833-f2dd-424e-894c-d1c9a4bc2b45": {
       "attrs": {
        "height": 0.8,
        "width": 0.8,
        "x": 0.1,
        "y": 0.1
       },
       "content": {
        "cell": "9d564ad7-a782-45d7-8f46-d953d79c4b8c",
        "part": "whole"
       },
       "id": "0e834833-f2dd-424e-894c-d1c9a4bc2b45"
      }
     }
    },
    "1dfc6e35-ed85-44b5-86ea-4a41910594cb": {
     "id": "1dfc6e35-ed85-44b5-86ea-4a41910594cb",
     "prev": "21f8077c-45b8-4add-822a-d0c2cf652509",
     "regions": {
      "9b65d2d4-a01e-45e8-9195-a9a852491928": {
       "attrs": {
        "height": 0.8,
        "width": 0.8,
        "x": 0.1,
        "y": 0.1
       },
       "content": {
        "cell": "71eb8488-3e28-407a-bde1-99094a3aa0cc",
        "part": "whole"
       },
       "id": "9b65d2d4-a01e-45e8-9195-a9a852491928"
      }
     }
    },
    "21f8077c-45b8-4add-822a-d0c2cf652509": {
     "id": "21f8077c-45b8-4add-822a-d0c2cf652509",
     "prev": "cbf758b2-c91b-4074-ac4b-5a4a2f00e332",
     "regions": {
      "9ff11c2d-1d91-4f44-b797-28a0c566c155": {
       "attrs": {
        "height": 0.8,
        "width": 0.8,
        "x": 0.1,
        "y": 0.1
       },
       "content": {
        "cell": "30f63d3a-086a-4b03-a550-792126a23bd9",
        "part": "whole"
       },
       "id": "9ff11c2d-1d91-4f44-b797-28a0c566c155"
      }
     }
    },
    "24d982fe-0672-419b-9ab2-6d8ca5c2e401": {
     "id": "24d982fe-0672-419b-9ab2-6d8ca5c2e401",
     "prev": "06cdd7a5-14bb-4b34-a025-702e2eb9a5e4",
     "regions": {
      "2e9a383e-bc20-4400-a09a-fb3a8467e2ec": {
       "attrs": {
        "height": 0.8,
        "width": 0.8,
        "x": 0.1,
        "y": 0.1
       },
       "content": {
        "cell": "92a76c4c-2471-4634-9123-46582cd621a5",
        "part": "whole"
       },
       "id": "2e9a383e-bc20-4400-a09a-fb3a8467e2ec"
      }
     }
    },
    "252d22b5-9c2f-4163-b4aa-bfecf279a247": {
     "id": "252d22b5-9c2f-4163-b4aa-bfecf279a247",
     "prev": "f31eb63e-3fdc-4b4d-aca0-6348d1941909",
     "regions": {
      "383390fd-be3a-45bb-af92-dab5b6f4224c": {
       "attrs": {
        "height": 0.8,
        "width": 0.8,
        "x": 0.1,
        "y": 0.1
       },
       "content": {
        "cell": "f27d9c62-351a-440d-9c9d-352bfd3fae2f",
        "part": "whole"
       },
       "id": "383390fd-be3a-45bb-af92-dab5b6f4224c"
      }
     }
    },
    "3960709f-8543-4bb8-a8da-2237abbd2f62": {
     "id": "3960709f-8543-4bb8-a8da-2237abbd2f62",
     "prev": "f5343fb8-2809-4301-86d3-7fc82c4f6036",
     "regions": {
      "28192273-d463-464e-a436-71094f670c04": {
       "attrs": {
        "height": 0.8,
        "width": 0.8,
        "x": 0.1,
        "y": 0.1
       },
       "content": {
        "cell": "bc8530ec-a8bf-4984-bb0a-ddda6985cc55",
        "part": "whole"
       },
       "id": "28192273-d463-464e-a436-71094f670c04"
      }
     }
    },
    "3ad37cca-beee-44a7-be5e-c75a2c3d214e": {
     "id": "3ad37cca-beee-44a7-be5e-c75a2c3d214e",
     "prev": "a937adaf-4473-471b-a7dd-fb4a7b4abf14",
     "regions": {
      "114cc7de-c8ec-4066-a2c9-2e22b2ee08f1": {
       "attrs": {
        "height": 0.8,
        "width": 0.8,
        "x": 0.1,
        "y": 0.1
       },
       "content": {
        "cell": "10033d7f-4ef7-4740-917b-408ccd0593b2",
        "part": "whole"
       },
       "id": "114cc7de-c8ec-4066-a2c9-2e22b2ee08f1"
      }
     }
    },
    "45281b26-3497-4de9-a6f4-13dab370a9b8": {
     "id": "45281b26-3497-4de9-a6f4-13dab370a9b8",
     "prev": "9bb1e9c4-81fa-4d71-a4fa-6ab8685b3f37",
     "regions": {
      "0f824f63-3551-4129-a8e4-8348de567433": {
       "attrs": {
        "height": 0.8,
        "width": 0.8,
        "x": 0.1,
        "y": 0.1
       },
       "content": {
        "cell": "68ad74bd-db15-407e-baf4-196abeb10d96",
        "part": "whole"
       },
       "id": "0f824f63-3551-4129-a8e4-8348de567433"
      }
     }
    },
    "47839889-50ab-4d26-a5bc-0a442b2821eb": {
     "id": "47839889-50ab-4d26-a5bc-0a442b2821eb",
     "prev": "c6bfd697-6448-4fae-9d49-5eb8d87e93d2",
     "regions": {
      "42a377fc-6344-4181-bc60-f279be74bffc": {
       "attrs": {
        "height": 0.8,
        "width": 0.8,
        "x": 0.1,
        "y": 0.1
       },
       "content": {
        "cell": "3a4f7d26-ea17-4331-9d2d-f73bf18cccd9",
        "part": "whole"
       },
       "id": "42a377fc-6344-4181-bc60-f279be74bffc"
      }
     }
    },
    "4ae204c1-96ee-4685-84b0-849bd29c9c99": {
     "id": "4ae204c1-96ee-4685-84b0-849bd29c9c99",
     "prev": "c04b65c4-4925-4bcd-9706-44c60f994a97",
     "regions": {
      "bbb7ec74-ac63-4699-b168-8838e3754e51": {
       "attrs": {
        "height": 0.8,
        "width": 0.8,
        "x": 0.1,
        "y": 0.1
       },
       "content": {
        "cell": "6d9e6fe8-57f8-4774-a1c7-bc0fe30d0c84",
        "part": "whole"
       },
       "id": "bbb7ec74-ac63-4699-b168-8838e3754e51"
      }
     }
    },
    "4b80235f-9774-4070-8621-9b95b267096d": {
     "id": "4b80235f-9774-4070-8621-9b95b267096d",
     "prev": "6e46ee3c-4d98-4765-b6be-27a720c39a97",
     "regions": {
      "b5e6ce21-2b48-425f-8c49-a0b7a890a98a": {
       "attrs": {
        "height": 0.8,
        "width": 0.8,
        "x": 0.1,
        "y": 0.1
       },
       "content": {
        "cell": "c5ee7a43-3014-4299-9a6a-b8bda9d06f22",
        "part": "whole"
       },
       "id": "b5e6ce21-2b48-425f-8c49-a0b7a890a98a"
      }
     }
    },
    "4ce4809f-a0ec-4bbe-acaa-9778e8669c9f": {
     "id": "4ce4809f-a0ec-4bbe-acaa-9778e8669c9f",
     "prev": "9b391490-74a0-40a1-bf95-0755e6e79920",
     "regions": {
      "b0fbaf7b-7dda-4813-91cc-9ddad609f9fd": {
       "attrs": {
        "height": 0.8,
        "width": 0.8,
        "x": 0.1,
        "y": 0.1
       },
       "content": {
        "cell": "d1044226-a69e-45f5-af27-2f9a6a5012e9",
        "part": "whole"
       },
       "id": "b0fbaf7b-7dda-4813-91cc-9ddad609f9fd"
      }
     }
    },
    "5087f169-ac5e-45a8-8d1c-08bb0c021b7c": {
     "id": "5087f169-ac5e-45a8-8d1c-08bb0c021b7c",
     "prev": "d32a9172-997c-4ec3-a998-54090f7c7c62",
     "regions": {
      "44f287da-9f75-45ac-8d63-b16181fbebc1": {
       "attrs": {
        "height": 0.8,
        "width": 0.8,
        "x": 0.1,
        "y": 0.1
       },
       "content": {
        "cell": "8ed6c431-b973-485b-a796-c7b2471c77e7",
        "part": "whole"
       },
       "id": "44f287da-9f75-45ac-8d63-b16181fbebc1"
      }
     }
    },
    "575efad7-3649-4267-8d66-8bccbc841fdb": {
     "id": "575efad7-3649-4267-8d66-8bccbc841fdb",
     "prev": "c677ae8b-8a9a-4d26-a72b-49507d41b737",
     "regions": {
      "d3061f32-e624-4385-92fa-169c91807246": {
       "attrs": {
        "height": 0.8,
        "width": 0.8,
        "x": 0.1,
        "y": 0.1
       },
       "content": {
        "cell": "70536ba4-e4bd-48a0-82b0-11e9abe98809",
        "part": "whole"
       },
       "id": "d3061f32-e624-4385-92fa-169c91807246"
      }
     }
    },
    "5bc325f8-1e12-468a-bb4f-adcacc917b09": {
     "id": "5bc325f8-1e12-468a-bb4f-adcacc917b09",
     "prev": "4ae204c1-96ee-4685-84b0-849bd29c9c99",
     "regions": {
      "351c6253-80ab-4005-8f67-027335ba5ac6": {
       "attrs": {
        "height": 0.8,
        "width": 0.8,
        "x": 0.1,
        "y": 0.1
       },
       "content": {
        "cell": "6c9dd9c0-2b2d-42f2-98cd-493d2daf842f",
        "part": "whole"
       },
       "id": "351c6253-80ab-4005-8f67-027335ba5ac6"
      }
     }
    },
    "6db5c28c-b67e-4f4c-83c1-7b568d13a109": {
     "id": "6db5c28c-b67e-4f4c-83c1-7b568d13a109",
     "prev": "45281b26-3497-4de9-a6f4-13dab370a9b8",
     "regions": {
      "688b6444-c42c-44ba-aa6d-6b5c6e13ecd8": {
       "attrs": {
        "height": 0.8,
        "width": 0.8,
        "x": 0.1,
        "y": 0.1
       },
       "content": {
        "cell": "f166c1ad-3ffa-4e4e-89bb-ac8c70c44e05",
        "part": "whole"
       },
       "id": "688b6444-c42c-44ba-aa6d-6b5c6e13ecd8"
      }
     }
    },
    "6e46ee3c-4d98-4765-b6be-27a720c39a97": {
     "id": "6e46ee3c-4d98-4765-b6be-27a720c39a97",
     "prev": "80df9558-d606-449c-83b5-a99102d31bf4",
     "regions": {
      "5640076d-ec56-41d4-80e9-36b8f83a59b0": {
       "attrs": {
        "height": 0.8,
        "width": 0.8,
        "x": 0.1,
        "y": 0.1
       },
       "content": {
        "cell": "64fbadab-e793-4330-8f6f-445df6a2e6f9",
        "part": "whole"
       },
       "id": "5640076d-ec56-41d4-80e9-36b8f83a59b0"
      }
     }
    },
    "6e88bd96-c1c2-4908-9119-1c186bb92f0a": {
     "id": "6e88bd96-c1c2-4908-9119-1c186bb92f0a",
     "prev": "1a4acb55-eae3-439c-9748-c19d83b7ba63",
     "regions": {
      "63ceac1d-ca85-4f6e-93c6-b64a590a070a": {
       "attrs": {
        "height": 0.8,
        "width": 0.8,
        "x": 0.1,
        "y": 0.1
       },
       "content": {
        "cell": "f3b7683d-1c16-40d4-b69c-1fff34b37b57",
        "part": "whole"
       },
       "id": "63ceac1d-ca85-4f6e-93c6-b64a590a070a"
      }
     }
    },
    "6f227a85-f492-4268-a08e-805dc0745a10": {
     "id": "6f227a85-f492-4268-a08e-805dc0745a10",
     "prev": "4b80235f-9774-4070-8621-9b95b267096d",
     "regions": {
      "7f1ce2ea-c82e-4f99-a4fc-c7707360ef66": {
       "attrs": {
        "height": 0.8,
        "width": 0.8,
        "x": 0.1,
        "y": 0.1
       },
       "content": {
        "cell": "e2ee89df-f400-4648-8dd1-24bcd67390e5",
        "part": "whole"
       },
       "id": "7f1ce2ea-c82e-4f99-a4fc-c7707360ef66"
      }
     }
    },
    "71e6eef9-7e74-4054-9cb4-47edd97109ef": {
     "id": "71e6eef9-7e74-4054-9cb4-47edd97109ef",
     "prev": "b89780ed-8827-4b9a-9f63-1cd9e3a2f42c",
     "regions": {
      "6acab08c-9853-4281-9f49-c3b4079a547c": {
       "attrs": {
        "height": 0.8,
        "width": 0.8,
        "x": 0.1,
        "y": 0.1
       },
       "content": {
        "cell": "303266d9-4bba-4384-a3ce-57547cef036a",
        "part": "whole"
       },
       "id": "6acab08c-9853-4281-9f49-c3b4079a547c"
      }
     }
    },
    "7350feed-43f5-474c-a4de-899d3e35d55b": {
     "id": "7350feed-43f5-474c-a4de-899d3e35d55b",
     "prev": "d4f9d25c-8d75-44ab-900a-4cf504749281",
     "regions": {
      "080118eb-aed0-4a00-8a29-ce8b9becd0ac": {
       "attrs": {
        "height": 0.8,
        "width": 0.8,
        "x": 0.1,
        "y": 0.1
       },
       "content": {
        "cell": "40249b05-18a0-42a3-98a0-b2c634ceeb09",
        "part": "whole"
       },
       "id": "080118eb-aed0-4a00-8a29-ce8b9becd0ac"
      }
     }
    },
    "7b756052-e7cf-4fed-8654-4f1eb1152147": {
     "id": "7b756052-e7cf-4fed-8654-4f1eb1152147",
     "prev": "8c4a4b26-70ab-44d6-803c-ba6d32cb3dd8",
     "regions": {
      "2ebe9b66-59eb-4520-9f5c-8ba4a7cbd2a1": {
       "attrs": {
        "height": 0.8,
        "width": 0.8,
        "x": 0.1,
        "y": 0.1
       },
       "content": {
        "cell": "9e1fbfee-b1c8-4f0e-a6d1-a963ba8aece0",
        "part": "whole"
       },
       "id": "2ebe9b66-59eb-4520-9f5c-8ba4a7cbd2a1"
      }
     }
    },
    "80df9558-d606-449c-83b5-a99102d31bf4": {
     "id": "80df9558-d606-449c-83b5-a99102d31bf4",
     "prev": "08d6225d-6619-4c9d-8a28-5c9810084013",
     "regions": {
      "cde6120e-0ced-4dde-ad44-b2911c6ae438": {
       "attrs": {
        "height": 0.8,
        "width": 0.8,
        "x": 0.1,
        "y": 0.1
       },
       "content": {
        "cell": "8ebe0d56-34ba-4860-81f9-ef397b325e1d",
        "part": "whole"
       },
       "id": "cde6120e-0ced-4dde-ad44-b2911c6ae438"
      }
     }
    },
    "85bc4555-26f3-4fd1-a38c-4edfc0ab9aa9": {
     "id": "85bc4555-26f3-4fd1-a38c-4edfc0ab9aa9",
     "prev": "575efad7-3649-4267-8d66-8bccbc841fdb",
     "regions": {
      "075b60cc-058c-4c7c-8242-d270acedbd0a": {
       "attrs": {
        "height": 0.8,
        "width": 0.8,
        "x": 0.1,
        "y": 0.1
       },
       "content": {
        "cell": "a86bf578-d04b-4b2e-8c3e-c8111c9cc9fd",
        "part": "whole"
       },
       "id": "075b60cc-058c-4c7c-8242-d270acedbd0a"
      }
     }
    },
    "8a0ce07c-b374-4826-b790-e1f18a7df7fe": {
     "id": "8a0ce07c-b374-4826-b790-e1f18a7df7fe",
     "prev": "6e88bd96-c1c2-4908-9119-1c186bb92f0a",
     "regions": {
      "e801e592-06b7-4b13-8438-03e927c2af52": {
       "attrs": {
        "height": 0.8,
        "width": 0.8,
        "x": 0.1,
        "y": 0.1
       },
       "content": {
        "cell": "497d33b5-7719-47c5-a59f-4b3d1757b025",
        "part": "whole"
       },
       "id": "e801e592-06b7-4b13-8438-03e927c2af52"
      }
     }
    },
    "8c4a4b26-70ab-44d6-803c-ba6d32cb3dd8": {
     "id": "8c4a4b26-70ab-44d6-803c-ba6d32cb3dd8",
     "prev": null,
     "regions": {
      "46756f6f-bef0-44ca-bc2b-008aa72be329": {
       "attrs": {
        "height": 0.8,
        "width": 0.8,
        "x": 0.1,
        "y": 0.1
       },
       "content": {
        "cell": "dcf45295-0232-45e9-b753-4ca5fe69fa2a",
        "part": "whole"
       },
       "id": "46756f6f-bef0-44ca-bc2b-008aa72be329"
      }
     }
    },
    "91e0b967-1157-410d-b759-de83b72e532e": {
     "id": "91e0b967-1157-410d-b759-de83b72e532e",
     "prev": "e6d9846c-97ac-47bd-9764-cc3613549bce",
     "regions": {
      "d17ba475-0933-4861-92f4-3fee3a664f93": {
       "attrs": {
        "height": 0.8,
        "width": 0.8,
        "x": 0.1,
        "y": 0.1
       },
       "content": {
        "cell": "5360557e-7109-4b1b-9816-351e78a633e5",
        "part": "whole"
       },
       "id": "d17ba475-0933-4861-92f4-3fee3a664f93"
      }
     }
    },
    "9b391490-74a0-40a1-bf95-0755e6e79920": {
     "id": "9b391490-74a0-40a1-bf95-0755e6e79920",
     "prev": "6db5c28c-b67e-4f4c-83c1-7b568d13a109",
     "regions": {
      "c88c7d57-9ac5-4a25-9cfe-be19941ecf92": {
       "attrs": {
        "height": 0.8,
        "width": 0.8,
        "x": 0.1,
        "y": 0.1
       },
       "content": {
        "cell": "2230f320-1ee0-4640-8679-abf2db48fb5b",
        "part": "whole"
       },
       "id": "c88c7d57-9ac5-4a25-9cfe-be19941ecf92"
      }
     }
    },
    "9bb1e9c4-81fa-4d71-a4fa-6ab8685b3f37": {
     "id": "9bb1e9c4-81fa-4d71-a4fa-6ab8685b3f37",
     "prev": "ec6f79a3-42eb-427a-aa52-4373253538b5",
     "regions": {
      "57f288fd-085d-43d5-8154-090e04946e26": {
       "attrs": {
        "height": 0.8,
        "width": 0.8,
        "x": 0.1,
        "y": 0.1
       },
       "content": {
        "cell": "de4a0fbc-aebf-4c92-a167-697d3e4bbb4d",
        "part": "whole"
       },
       "id": "57f288fd-085d-43d5-8154-090e04946e26"
      }
     }
    },
    "a937adaf-4473-471b-a7dd-fb4a7b4abf14": {
     "id": "a937adaf-4473-471b-a7dd-fb4a7b4abf14",
     "prev": "ad114aa7-5657-41b0-81ce-8f68f16a7c50",
     "regions": {
      "ca444abc-5a80-4ea8-b25e-ce806c5ef4ca": {
       "attrs": {
        "height": 0.8,
        "width": 0.8,
        "x": 0.1,
        "y": 0.1
       },
       "content": {
        "cell": "75a83d00-5857-4e4e-ad23-0bc881f2263f",
        "part": "whole"
       },
       "id": "ca444abc-5a80-4ea8-b25e-ce806c5ef4ca"
      }
     }
    },
    "aae52718-1eb4-463f-adc2-974071dc832c": {
     "id": "aae52718-1eb4-463f-adc2-974071dc832c",
     "prev": "12818576-d0a3-4f8d-9a3d-419bae839bc4",
     "regions": {
      "9f9ed7bf-15b7-487f-bcb0-e22272af6696": {
       "attrs": {
        "height": 0.8,
        "width": 0.8,
        "x": 0.1,
        "y": 0.1
       },
       "content": {
        "cell": "bdab6337-11fe-4c29-ae02-7beab9799c5b",
        "part": "whole"
       },
       "id": "9f9ed7bf-15b7-487f-bcb0-e22272af6696"
      }
     }
    },
    "ad0f8809-9d51-4d17-8cc0-eb548eeb7a27": {
     "id": "ad0f8809-9d51-4d17-8cc0-eb548eeb7a27",
     "prev": "e5db97f6-7539-4708-9f6f-75858fc15a7b",
     "regions": {
      "c4647ae0-778d-4bc3-aa7a-3e56d89b568f": {
       "attrs": {
        "height": 0.8,
        "width": 0.8,
        "x": 0.1,
        "y": 0.1
       },
       "content": {
        "cell": "6d0fdf03-12fb-470b-958d-a600c360b295",
        "part": "whole"
       },
       "id": "c4647ae0-778d-4bc3-aa7a-3e56d89b568f"
      }
     }
    },
    "ad114aa7-5657-41b0-81ce-8f68f16a7c50": {
     "id": "ad114aa7-5657-41b0-81ce-8f68f16a7c50",
     "prev": "008b5faf-ce5f-40ed-9c69-2cbcd0b21ea9",
     "regions": {
      "e44883d4-35c6-4ce8-a466-bd9432ec6e31": {
       "attrs": {
        "height": 0.8,
        "width": 0.8,
        "x": 0.1,
        "y": 0.1
       },
       "content": {
        "cell": "135482eb-2f48-4d1b-952a-1866be6c58f8",
        "part": "whole"
       },
       "id": "e44883d4-35c6-4ce8-a466-bd9432ec6e31"
      }
     }
    },
    "b5f1026d-feae-4453-9f96-9b0151677a18": {
     "id": "b5f1026d-feae-4453-9f96-9b0151677a18",
     "prev": "7b756052-e7cf-4fed-8654-4f1eb1152147",
     "regions": {
      "c44bcf0a-a7ff-45a4-928d-1a12ebeffc75": {
       "attrs": {
        "height": 0.8,
        "width": 0.8,
        "x": 0.1,
        "y": 0.1
       },
       "content": {
        "cell": "244713c3-b8b2-40fc-9409-5237d82fc80e",
        "part": "whole"
       },
       "id": "c44bcf0a-a7ff-45a4-928d-1a12ebeffc75"
      }
     }
    },
    "b693af32-2f5e-45ae-998a-9dd7920c0eb2": {
     "id": "b693af32-2f5e-45ae-998a-9dd7920c0eb2",
     "prev": "1be63006-526b-4b2e-8dcf-e1ef46b7261d",
     "regions": {
      "b0f7cccf-53b5-4e8d-94d6-b33d6171957e": {
       "attrs": {
        "height": 0.8,
        "width": 0.8,
        "x": 0.1,
        "y": 0.1
       },
       "content": {
        "cell": "94545b01-ea11-4b72-8871-4a26d5dc403a",
        "part": "whole"
       },
       "id": "b0f7cccf-53b5-4e8d-94d6-b33d6171957e"
      }
     }
    },
    "b89780ed-8827-4b9a-9f63-1cd9e3a2f42c": {
     "id": "b89780ed-8827-4b9a-9f63-1cd9e3a2f42c",
     "prev": "aae52718-1eb4-463f-adc2-974071dc832c",
     "regions": {
      "c035eadc-4ec1-4f74-b93a-5ee02fe02f6a": {
       "attrs": {
        "height": 0.8,
        "width": 0.8,
        "x": 0.1,
        "y": 0.1
       },
       "content": {
        "cell": "49b293d7-b810-45bc-85e0-2e8b8eca8b44",
        "part": "whole"
       },
       "id": "c035eadc-4ec1-4f74-b93a-5ee02fe02f6a"
      }
     }
    },
    "c04b65c4-4925-4bcd-9706-44c60f994a97": {
     "id": "c04b65c4-4925-4bcd-9706-44c60f994a97",
     "prev": "c915c82b-527c-42fe-86c1-1bc03d23cd25",
     "regions": {
      "26b12892-d8dc-4b35-a0fb-de6c64bd3791": {
       "attrs": {
        "height": 0.8,
        "width": 0.8,
        "x": 0.1,
        "y": 0.1
       },
       "content": {
        "cell": "888cc2d4-45a3-4a98-be79-15977cdb2230",
        "part": "whole"
       },
       "id": "26b12892-d8dc-4b35-a0fb-de6c64bd3791"
      }
     }
    },
    "c564163b-d270-4437-8f5c-e68e100241fb": {
     "id": "c564163b-d270-4437-8f5c-e68e100241fb",
     "prev": "5087f169-ac5e-45a8-8d1c-08bb0c021b7c",
     "regions": {
      "4bc922ee-1962-4394-916e-326ffc55542d": {
       "attrs": {
        "height": 0.8,
        "width": 0.8,
        "x": 0.1,
        "y": 0.1
       },
       "content": {
        "cell": "3ec2718d-a02a-43e1-a3b2-f8def6dc94dc",
        "part": "whole"
       },
       "id": "4bc922ee-1962-4394-916e-326ffc55542d"
      }
     }
    },
    "c677ae8b-8a9a-4d26-a72b-49507d41b737": {
     "id": "c677ae8b-8a9a-4d26-a72b-49507d41b737",
     "prev": "ad0f8809-9d51-4d17-8cc0-eb548eeb7a27",
     "regions": {
      "a3593cb6-9301-47d0-9150-32e2b7cf4ed3": {
       "attrs": {
        "height": 0.8,
        "width": 0.8,
        "x": 0.1,
        "y": 0.1
       },
       "content": {
        "cell": "ac3978a0-84e8-4992-8e59-4d2e2fee3060",
        "part": "whole"
       },
       "id": "a3593cb6-9301-47d0-9150-32e2b7cf4ed3"
      }
     }
    },
    "c6bfd697-6448-4fae-9d49-5eb8d87e93d2": {
     "id": "c6bfd697-6448-4fae-9d49-5eb8d87e93d2",
     "prev": "b693af32-2f5e-45ae-998a-9dd7920c0eb2",
     "regions": {
      "55d86362-6207-44f5-9898-b5899ce84bdd": {
       "attrs": {
        "height": 0.8,
        "width": 0.8,
        "x": 0.1,
        "y": 0.1
       },
       "content": {
        "cell": "77f92dbb-431e-4a36-a79e-adafc0c813b2",
        "part": "whole"
       },
       "id": "55d86362-6207-44f5-9898-b5899ce84bdd"
      }
     }
    },
    "c915c82b-527c-42fe-86c1-1bc03d23cd25": {
     "id": "c915c82b-527c-42fe-86c1-1bc03d23cd25",
     "prev": "d1252e4a-393a-4170-8ed0-a18c552d2fff",
     "regions": {
      "4c99b51a-efcd-48ce-934e-2625d7d43744": {
       "attrs": {
        "height": 0.8,
        "width": 0.8,
        "x": 0.1,
        "y": 0.1
       },
       "content": {
        "cell": "c9c887f6-7bfa-429f-aeae-c5e9d27e4b21",
        "part": "whole"
       },
       "id": "4c99b51a-efcd-48ce-934e-2625d7d43744"
      }
     }
    },
    "cbf758b2-c91b-4074-ac4b-5a4a2f00e332": {
     "id": "cbf758b2-c91b-4074-ac4b-5a4a2f00e332",
     "prev": "5bc325f8-1e12-468a-bb4f-adcacc917b09",
     "regions": {
      "9915e8f7-ed36-4bfb-9cc4-086cf6d24560": {
       "attrs": {
        "height": 0.8,
        "width": 0.8,
        "x": 0.1,
        "y": 0.1
       },
       "content": {
        "cell": "043f155a-3499-4139-8f86-e33d0ddce96a",
        "part": "whole"
       },
       "id": "9915e8f7-ed36-4bfb-9cc4-086cf6d24560"
      }
     }
    },
    "d1252e4a-393a-4170-8ed0-a18c552d2fff": {
     "id": "d1252e4a-393a-4170-8ed0-a18c552d2fff",
     "prev": "91e0b967-1157-410d-b759-de83b72e532e",
     "regions": {
      "da77a5ed-8857-403f-ad3a-599676bdd0fb": {
       "attrs": {
        "height": 0.8,
        "width": 0.8,
        "x": 0.1,
        "y": 0.1
       },
       "content": {
        "cell": "727266d9-b209-445a-bca5-01116948e63a",
        "part": "whole"
       },
       "id": "da77a5ed-8857-403f-ad3a-599676bdd0fb"
      }
     }
    },
    "d32a9172-997c-4ec3-a998-54090f7c7c62": {
     "id": "d32a9172-997c-4ec3-a998-54090f7c7c62",
     "prev": "8a0ce07c-b374-4826-b790-e1f18a7df7fe",
     "regions": {
      "daea9855-5c6b-4dc4-acf3-af2c441b8aaf": {
       "attrs": {
        "height": 0.8,
        "width": 0.8,
        "x": 0.1,
        "y": 0.1
       },
       "content": {
        "cell": "ea7bb6e0-8f68-41fe-b62c-319a4b7a188b",
        "part": "whole"
       },
       "id": "daea9855-5c6b-4dc4-acf3-af2c441b8aaf"
      }
     }
    },
    "d4f9d25c-8d75-44ab-900a-4cf504749281": {
     "id": "d4f9d25c-8d75-44ab-900a-4cf504749281",
     "prev": "3ad37cca-beee-44a7-be5e-c75a2c3d214e",
     "regions": {
      "f2b14721-353e-4ba9-8cd8-fd54791e473a": {
       "attrs": {
        "height": 0.8,
        "width": 0.8,
        "x": 0.1,
        "y": 0.1
       },
       "content": {
        "cell": "1ad64b04-21bd-452b-9fee-6fa607dae5e5",
        "part": "whole"
       },
       "id": "f2b14721-353e-4ba9-8cd8-fd54791e473a"
      }
     }
    },
    "da30c9c6-25d2-4776-b20b-a3f87a795e2d": {
     "id": "da30c9c6-25d2-4776-b20b-a3f87a795e2d",
     "prev": "71e6eef9-7e74-4054-9cb4-47edd97109ef",
     "regions": {
      "f0e0fc27-ab53-4c30-9815-3f6d800564c6": {
       "attrs": {
        "height": 0.8,
        "width": 0.8,
        "x": 0.1,
        "y": 0.1
       },
       "content": {
        "cell": "9a412e80-903e-426c-ab9e-1afadebd63b6",
        "part": "whole"
       },
       "id": "f0e0fc27-ab53-4c30-9815-3f6d800564c6"
      }
     }
    },
    "e5db97f6-7539-4708-9f6f-75858fc15a7b": {
     "id": "e5db97f6-7539-4708-9f6f-75858fc15a7b",
     "prev": "b5f1026d-feae-4453-9f96-9b0151677a18",
     "regions": {
      "4a90f498-857d-417a-a03a-a557dd429ef8": {
       "attrs": {
        "height": 0.8,
        "width": 0.8,
        "x": 0.1,
        "y": 0.1
       },
       "content": {
        "cell": "f858a424-f3c1-4606-af3a-6397d50e75d6",
        "part": "whole"
       },
       "id": "4a90f498-857d-417a-a03a-a557dd429ef8"
      }
     }
    },
    "e6d9846c-97ac-47bd-9764-cc3613549bce": {
     "id": "e6d9846c-97ac-47bd-9764-cc3613549bce",
     "prev": "0485a975-2f25-4de3-918a-4e2d11af2584",
     "regions": {
      "8aabd4d6-1ae3-4374-a4bb-5625b6da494a": {
       "attrs": {
        "height": 0.8,
        "width": 0.8,
        "x": 0.1,
        "y": 0.1
       },
       "content": {
        "cell": "a568415a-c71a-48d2-907f-f5bede28dc62",
        "part": "whole"
       },
       "id": "8aabd4d6-1ae3-4374-a4bb-5625b6da494a"
      }
     }
    },
    "ec6f79a3-42eb-427a-aa52-4373253538b5": {
     "id": "ec6f79a3-42eb-427a-aa52-4373253538b5",
     "prev": "09310afe-960c-43ab-b3dc-a7595994faa0",
     "regions": {
      "6b0583e2-f793-4769-8f8d-affbcce3cd01": {
       "attrs": {
        "height": 0.8,
        "width": 0.8,
        "x": 0.1,
        "y": 0.1
       },
       "content": {
        "cell": "63416660-ae54-46fe-8a10-783deecdc538",
        "part": "whole"
       },
       "id": "6b0583e2-f793-4769-8f8d-affbcce3cd01"
      }
     }
    },
    "eff56f33-d7a9-4738-b63a-ac7589e32100": {
     "id": "eff56f33-d7a9-4738-b63a-ac7589e32100",
     "prev": "c564163b-d270-4437-8f5c-e68e100241fb",
     "regions": {
      "8cb76b4c-3846-46f1-aec7-29eb90fac874": {
       "attrs": {
        "height": 0.8,
        "width": 0.8,
        "x": 0.1,
        "y": 0.1
       },
       "content": {
        "cell": "abade7bc-1630-403b-b9f5-92d1f7e7c92d",
        "part": "whole"
       },
       "id": "8cb76b4c-3846-46f1-aec7-29eb90fac874"
      }
     }
    },
    "f31eb63e-3fdc-4b4d-aca0-6348d1941909": {
     "id": "f31eb63e-3fdc-4b4d-aca0-6348d1941909",
     "prev": "3960709f-8543-4bb8-a8da-2237abbd2f62",
     "regions": {
      "07a8b909-11de-4449-a260-873357f10dc7": {
       "attrs": {
        "height": 0.8,
        "width": 0.8,
        "x": 0.1,
        "y": 0.1
       },
       "content": {
        "cell": "960a30c0-37c8-4886-a418-e6f69ad4d70b",
        "part": "whole"
       },
       "id": "07a8b909-11de-4449-a260-873357f10dc7"
      }
     }
    },
    "f5343fb8-2809-4301-86d3-7fc82c4f6036": {
     "id": "f5343fb8-2809-4301-86d3-7fc82c4f6036",
     "prev": "da30c9c6-25d2-4776-b20b-a3f87a795e2d",
     "regions": {
      "ce040ec4-fe20-435d-9d10-fe2dd418ed20": {
       "attrs": {
        "height": 0.8,
        "width": 0.8,
        "x": 0.1,
        "y": 0.1
       },
       "content": {
        "cell": "5d9ba9fa-6d42-413a-9f54-90cadeadb59e",
        "part": "whole"
       },
       "id": "ce040ec4-fe20-435d-9d10-fe2dd418ed20"
      }
     }
    }
   },
   "themes": {
    "default": "16710981-4a65-4cee-8f6c-ffa6fc21a397",
    "theme": {
     "16710981-4a65-4cee-8f6c-ffa6fc21a397": {
      "id": "16710981-4a65-4cee-8f6c-ffa6fc21a397",
      "palette": {
       "19cc588f-0593-49c9-9f4b-e4d7cc113b1c": {
        "id": "19cc588f-0593-49c9-9f4b-e4d7cc113b1c",
        "rgb": [
         252,
         252,
         252
        ]
       },
       "31af15d2-7e15-44c5-ab5e-e04b16a89eff": {
        "id": "31af15d2-7e15-44c5-ab5e-e04b16a89eff",
        "rgb": [
         68,
         68,
         68
        ]
       },
       "50f92c45-a630-455b-aec3-788680ec7410": {
        "id": "50f92c45-a630-455b-aec3-788680ec7410",
        "rgb": [
         155,
         177,
         192
        ]
       },
       "c5cc3653-2ee1-402a-aba2-7caae1da4f6c": {
        "id": "c5cc3653-2ee1-402a-aba2-7caae1da4f6c",
        "rgb": [
         43,
         126,
         184
        ]
       },
       "efa7f048-9acb-414c-8b04-a26811511a21": {
        "id": "efa7f048-9acb-414c-8b04-a26811511a21",
        "rgb": [
         25.118061674008803,
         73.60176211453744,
         107.4819383259912
        ]
       }
      },
      "rules": {
       "blockquote": {
        "color": "50f92c45-a630-455b-aec3-788680ec7410"
       },
       "code": {
        "font-family": "Anonymous Pro"
       },
       "h1": {
        "color": "c5cc3653-2ee1-402a-aba2-7caae1da4f6c",
        "font-family": "Lato",
        "font-size": 8
       },
       "h2": {
        "color": "c5cc3653-2ee1-402a-aba2-7caae1da4f6c",
        "font-family": "Lato",
        "font-size": 6
       },
       "h3": {
        "color": "50f92c45-a630-455b-aec3-788680ec7410",
        "font-family": "Lato",
        "font-size": 5.5
       },
       "h4": {
        "color": "c5cc3653-2ee1-402a-aba2-7caae1da4f6c",
        "font-family": "Lato",
        "font-size": 5
       },
       "h5": {
        "font-family": "Lato"
       },
       "h6": {
        "font-family": "Lato"
       },
       "h7": {
        "font-family": "Lato"
       },
       "pre": {
        "font-family": "Anonymous Pro",
        "font-size": 4
       }
      },
      "text-base": {
       "font-family": "Merriweather",
       "font-size": 4
      }
     }
    }
   }
  }
 },
 "nbformat": 4,
 "nbformat_minor": 0
}
