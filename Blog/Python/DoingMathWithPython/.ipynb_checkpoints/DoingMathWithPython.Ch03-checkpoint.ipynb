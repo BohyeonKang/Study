{
 "cells": [
  {
   "cell_type": "markdown",
   "metadata": {},
   "source": [
    "# 파이썬으로 풀어보는 수학\n",
    "\n",
    "- 원서명 : Doing Math with Python: Use Programming to Explore Algebra, Statistics, Calculus, and More! (ISBN 9781593276409)\n",
    "- 지은이 : 아미트 사하(Amit Saha)\n",
    "- 원서 및 관련자료 : <https://www.nostarch.com/doingmathwithpython>\n",
    "- 번역서 : <http://www.acornpub.co.kr/book/doing-math-with-python>\n",
    "\n",
    "![책표지](./image/cover.jpg)"
   ]
  },
  {
   "cell_type": "markdown",
   "metadata": {},
   "source": [
    "## 3장 통계값을 이용한 데이터 설명\n",
    "\n",
    "### 1. 평균(mean)\n",
    "\n",
    "숫자 집합을 요약하는 가장 일반적이고 집합적인 방법입니다.\n",
    "모든 숫자들의 합을 그 갯수로 나눈 값입니다."
   ]
  },
  {
   "cell_type": "code",
   "execution_count": 17,
   "metadata": {
    "collapsed": false
   },
   "outputs": [
    {
     "data": {
      "text/plain": [
       "477.75"
      ]
     },
     "execution_count": 17,
     "metadata": {},
     "output_type": "execute_result"
    }
   ],
   "source": [
    "donations = [100, 60, 70, 900, 100, 200, 500, 500, 503, 600, 1000, 1200]\n",
    "\n",
    "def calculate_mean(numbers):\n",
    "    return sum(numbers) / len(numbers)\n",
    "\n",
    "calculate_mean(donations)"
   ]
  },
  {
   "cell_type": "markdown",
   "metadata": {},
   "source": [
    "### 2. 중위수(median)\n",
    "\n",
    "숫자 집합에서 중간에 있는 값입니다.\n",
    "만약 짝수개의 숫자가 있는 경우에는 가운데 두 수의 평균값을 계산합니다."
   ]
  },
  {
   "cell_type": "code",
   "execution_count": 40,
   "metadata": {
    "collapsed": false
   },
   "outputs": [
    {
     "data": {
      "text/plain": [
       "500.0"
      ]
     },
     "execution_count": 40,
     "metadata": {},
     "output_type": "execute_result"
    }
   ],
   "source": [
    "def calculate_median(numbers):\n",
    "    numbers.sort()\n",
    "    n = len(numbers)\n",
    "    i = int(n/2)\n",
    "\n",
    "    if n % 2 == 0:\n",
    "        return (numbers[i -1] + numbers[i]) / 2\n",
    "    else:\n",
    "        return numbers[i]\n",
    "\n",
    "calculate_median(donations)  "
   ]
  },
  {
   "cell_type": "markdown",
   "metadata": {},
   "source": [
    "### 3. 최빈수(mode)\n",
    "\n",
    "최빈값이란 가장 자주 발생한 수를 뜻합니다.\n",
    "`Counter`클래스를 이용하면 쉽게 가능합니다."
   ]
  },
  {
   "cell_type": "code",
   "execution_count": 19,
   "metadata": {
    "collapsed": false
   },
   "outputs": [
    {
     "data": {
      "text/plain": [
       "Counter({1: 2, 3: 1, 4: 1, 5: 2, 6: 3, 7: 2, 8: 2, 9: 5, 10: 2})"
      ]
     },
     "execution_count": 19,
     "metadata": {},
     "output_type": "execute_result"
    }
   ],
   "source": [
    "scores = [ 7, 8, 9, 3, 10, 9, 9, 9, 9, 4, 5, 6, 1, 5, 6, 7, 8, 6, 1, 10]\n",
    "\n",
    "from collections import Counter\n",
    "c = Counter(scores)\n",
    "c"
   ]
  },
  {
   "cell_type": "markdown",
   "metadata": {},
   "source": [
    "그 결과로 `element : 갯수`를 저장한 `Dictionary`를 리턴합니다.\n",
    "`.most_common(갯수)`를 사용해서 가장 빈도가 높은 요소만을 추출할 수도 있습니다."
   ]
  },
  {
   "cell_type": "code",
   "execution_count": 11,
   "metadata": {
    "collapsed": false
   },
   "outputs": [
    {
     "data": {
      "text/plain": [
       "[(9, 5)]"
      ]
     },
     "execution_count": 11,
     "metadata": {},
     "output_type": "execute_result"
    }
   ],
   "source": [
    "c.most_common(1)"
   ]
  },
  {
   "cell_type": "markdown",
   "metadata": {},
   "source": [
    "이것을 이용하여 최빈수를 구하는 메서드를 만들어 보겠습니다.\n",
    "최빈수는 여러개가 될 수 있으므로 최대 빈도 횟수를 구한 뒤 같은 것을 모두 리턴해야 합니다."
   ]
  },
  {
   "cell_type": "code",
   "execution_count": 34,
   "metadata": {
    "collapsed": false
   },
   "outputs": [
    {
     "data": {
      "text/plain": [
       "[9]"
      ]
     },
     "execution_count": 34,
     "metadata": {},
     "output_type": "execute_result"
    }
   ],
   "source": [
    "def calculate_mode(numbers):\n",
    "    result = []\n",
    "    c = Counter(numbers).most_common()\n",
    "    most = c[0][1]\n",
    "    \n",
    "    for e, n in c:\n",
    "        if n == most:\n",
    "            result.append(e)\n",
    "    \n",
    "    return result\n",
    "    \n",
    "\n",
    "calculate_mode(scores)"
   ]
  },
  {
   "cell_type": "markdown",
   "metadata": {},
   "source": [
    "### 4. 빈도 테이블 생성\n",
    "\n",
    "전체 숫자에 대한 빈도를 출력하는 테이블을 생성해 보겠습니다."
   ]
  },
  {
   "cell_type": "code",
   "execution_count": 20,
   "metadata": {
    "collapsed": false
   },
   "outputs": [
    {
     "name": "stdout",
     "output_type": "stream",
     "text": [
      "9 \t 5\n",
      "6 \t 3\n",
      "1 \t 2\n",
      "5 \t 2\n",
      "7 \t 2\n",
      "8 \t 2\n",
      "10 \t 2\n",
      "3 \t 1\n",
      "4 \t 1\n"
     ]
    }
   ],
   "source": [
    "def frequencyTable(numbers):\n",
    "    for e, n in Counter(numbers).most_common():\n",
    "        print (e,'\\t', n)\n",
    "\n",
    "frequencyTable(scores)"
   ]
  },
  {
   "cell_type": "markdown",
   "metadata": {},
   "source": [
    "출력순서는 빈도수가 아닌 항목의 순서대로 하고 싶다면 아래와 같이 정렬을 해주면 됩니다."
   ]
  },
  {
   "cell_type": "code",
   "execution_count": 30,
   "metadata": {
    "collapsed": false
   },
   "outputs": [
    {
     "name": "stdout",
     "output_type": "stream",
     "text": [
      "1 \t 2\n",
      "3 \t 1\n",
      "4 \t 1\n",
      "5 \t 2\n",
      "6 \t 3\n",
      "7 \t 2\n",
      "8 \t 2\n",
      "9 \t 5\n",
      "10 \t 2\n"
     ]
    }
   ],
   "source": [
    "def frequencyTable(numbers):\n",
    "    c = Counter(numbers).most_common()\n",
    "    s = sorted(c, key=lambda i : i[0], reverse=False)\n",
    "    for e, n in s:\n",
    "        print (e,'\\t', n)\n",
    "\n",
    "frequencyTable(scores)"
   ]
  },
  {
   "cell_type": "markdown",
   "metadata": {},
   "source": [
    "### 5. 산포정도 측정\n",
    "\n",
    "#### 5.1 범위(range), 최소(min), 최대(max) 구하기\n",
    "\n",
    "값들의 최소값과 최대값 간의 거리가 얼마나 되는지를 보여줍니다."
   ]
  },
  {
   "cell_type": "code",
   "execution_count": 18,
   "metadata": {
    "collapsed": false
   },
   "outputs": [
    {
     "data": {
      "text/plain": [
       "(1140, 60, 1200)"
      ]
     },
     "execution_count": 18,
     "metadata": {},
     "output_type": "execute_result"
    }
   ],
   "source": [
    "def find_range(numbers):\n",
    "    lowest = min(numbers)\n",
    "    highest = max(numbers)\n",
    "    return highest - lowest, lowest, highest\n",
    "\n",
    "find_range(donations)"
   ]
  },
  {
   "cell_type": "markdown",
   "metadata": {},
   "source": [
    "#### 5.2 분산(variance)과 표준편차(standard deviation)\n",
    "\n",
    "값들이 평균값 주변에 모여있는지 아니면 흩어져 있는지 정도를 알려주는 수치입니다.\n",
    "\n",
    "분산은 평균값과의 차이를 제곱한 값들의 평균입니다.\n",
    "\n",
    "![수식 Variance](./image/DoingMathWithPython.Ch03.equation.01.png)"
   ]
  },
  {
   "cell_type": "code",
   "execution_count": 41,
   "metadata": {
    "collapsed": false
   },
   "outputs": [
    {
     "data": {
      "text/plain": [
       "153869.8409090909"
      ]
     },
     "execution_count": 41,
     "metadata": {},
     "output_type": "execute_result"
    }
   ],
   "source": [
    "def calculate_variance(numbers):\n",
    "    mean = calculate_mean(numbers)\n",
    "    diffSquare = 0\n",
    "    for n in numbers:\n",
    "        diffSquare += (n - mean)**2\n",
    "    return diffSquare/(len(numbers) - 1)\n",
    "\n",
    "calculate_variance(donations)"
   ]
  },
  {
   "cell_type": "markdown",
   "metadata": {},
   "source": [
    "표준편차는 분산의 제곱근 값입니다.\n",
    "\n",
    "값이 0에 가까워질수록 평균에 가까운 값들이 모여 있다는 뜻이고, 값이 커질수록 평균값과 멀게 분산되어 있는 값들이 많다는 뜻입니다."
   ]
  },
  {
   "cell_type": "code",
   "execution_count": 42,
   "metadata": {
    "collapsed": false
   },
   "outputs": [
    {
     "data": {
      "text/plain": [
       "392.26246431323364"
      ]
     },
     "execution_count": 42,
     "metadata": {},
     "output_type": "execute_result"
    }
   ],
   "source": [
    "def calculate_stddev(numbers):\n",
    "    return calculate_variance(numbers)**0.5\n",
    "\n",
    "calculate_stddev(donations)"
   ]
  },
  {
   "cell_type": "markdown",
   "metadata": {
    "collapsed": true
   },
   "source": [
    "### 6. 두 데이터 집합 간 상관관계 계산\n",
    "\n",
    "두 숫자 집한 간 관계의 특성과 강도를 알려주는 측정값(`피어슨 상관계수`)를 측정하는 방법에 대해서 알아보겠습니다.\n",
    "이 값은 선형 관계의 강도를 측정한 값으로 **-1 에서 1** 사이의 값을 가집니다.\n",
    "값이 **0** 이면 전혀 선형 관계가 없다는 것을 의미하며, **1이거나 1에 가까울수록** 강한 양의 선형관계가 있음을 의미하며, **-1이거나 -1에 가까우면** 강함 음의 상관관계가 있음을 의미합니다.\n",
    "\n",
    "![수식 Pearson correlation coefficient](./image/DoingMathWithPython.Ch03.equation.02.png)\n",
    "\n",
    "상관관계 계산을 좀 더 편리하게 하기 위해 `zip()` 메서드에 대해서 잠깐 소개하겠습니다.\n",
    "`zip()`은 입력된 2개의 `List`의 각 항목에 해당하는 쌍(pair)을 리턴해 줍니다.\n",
    "만약 두 `List`의 길이가 다를 경우 길이가 작은 `List`의 모든 요소를 다 읽었을 때 종료됩니다."
   ]
  },
  {
   "cell_type": "code",
   "execution_count": 27,
   "metadata": {
    "collapsed": false
   },
   "outputs": [
    {
     "name": "stdout",
     "output_type": "stream",
     "text": [
      "(1, 5)\n",
      "(2, 6)\n",
      "(3, 7)\n"
     ]
    }
   ],
   "source": [
    "s1 = [ 1, 2, 3, 4]\n",
    "s2 = [ 5, 6, 7 ]\n",
    "for x in zip(s1, s2):\n",
    "    print(x)"
   ]
  },
  {
   "cell_type": "markdown",
   "metadata": {},
   "source": [
    "이제 상관계수를 계산하는 메서드를 작성해 보겠습니다."
   ]
  },
  {
   "cell_type": "code",
   "execution_count": 28,
   "metadata": {
    "collapsed": false
   },
   "outputs": [
    {
     "data": {
      "text/plain": [
       "1.0"
      ]
     },
     "execution_count": 28,
     "metadata": {},
     "output_type": "execute_result"
    }
   ],
   "source": [
    "def find_corr(x, y):\n",
    "    n = min(len(x), len(y))\n",
    "    \n",
    "    sumXY = 0\n",
    "    sumX = 0\n",
    "    sumY = 0\n",
    "    sumXsq = 0\n",
    "    sumYsq = 0\n",
    "    \n",
    "    for xn, yn in zip(x, y):\n",
    "        sumXY += xn * yn\n",
    "        sumX += xn\n",
    "        sumY += yn\n",
    "        sumXsq += xn*xn\n",
    "        sumYsq += yn*yn\n",
    "    \n",
    "    return (n * sumXY - sumX * sumY) / ((n * sumXsq - sumX ** 2) * (n * sumYsq - sumY ** 2)) ** 0.5\n",
    "        \n",
    "find_corr(s1,s2)"
   ]
  },
  {
   "cell_type": "code",
   "execution_count": 54,
   "metadata": {
    "collapsed": false
   },
   "outputs": [
    {
     "data": {
      "text/plain": [
       "-1.0"
      ]
     },
     "execution_count": 54,
     "metadata": {},
     "output_type": "execute_result"
    }
   ],
   "source": [
    "s3 = [10, 9, 8, 7]\n",
    "find_corr(s1,s3)"
   ]
  },
  {
   "cell_type": "code",
   "execution_count": 60,
   "metadata": {
    "collapsed": false
   },
   "outputs": [
    {
     "data": {
      "text/plain": [
       "0.7071067811865475"
      ]
     },
     "execution_count": 60,
     "metadata": {},
     "output_type": "execute_result"
    }
   ],
   "source": [
    "s4 = [5, 8, 6, 9]\n",
    "find_corr(s1,s4)"
   ]
  },
  {
   "cell_type": "markdown",
   "metadata": {},
   "source": [
    "### 7. 데이터 간의 상관관계 여부 확인\n",
    "\n",
    "2개의 데이터가 관계가 있는지 없는지 여부를 확인하려면 산점도를 그려서 살펴보면 편합니다.\n",
    "예를 들어서 고등학교 성적 등급 과 대학입학시험 성적 사이에 관계가 있는지 없는지 여부에 대해서 알아보고자 합니다.\n",
    "먼저 두 데이터 간의 산점도를 그려보겠습니다."
   ]
  },
  {
   "cell_type": "code",
   "execution_count": 43,
   "metadata": {
    "collapsed": false
   },
   "outputs": [],
   "source": [
    "scoreOfHighSchool  = [ 90, 92, 95, 96, 87, 87, 90, 95, 98, 96 ]\n",
    "scoreOfCollegeTest = [ 85, 87, 86, 97, 96, 88, 89, 98, 98, 87 ]\n",
    "\n",
    "import matplotlib.pyplot as plt\n",
    "def draw_ScatterPlot(x, y, xText, yText):\n",
    "    plt.scatter(x,y)\n",
    "    plt.xlabel(xText)\n",
    "    plt.ylabel(yText)\n",
    "    plt.show()\n",
    "\n",
    "draw_ScatterPlot(scoreOfHighSchool, scoreOfCollegeTest, 'Score of High School', 'Score Of College Test')"
   ]
  },
  {
   "cell_type": "markdown",
   "metadata": {},
   "source": [
    "![그림 산점도](./image/DoingMathWithPython.Ch03.01.png)\n",
    "\n",
    "**산점도**를 보니 고등학교 성적과 대학입학 성적 사이에 큰 상관이 없는 것을 알 수 있습니다."
   ]
  },
  {
   "cell_type": "code",
   "execution_count": 68,
   "metadata": {
    "collapsed": false
   },
   "outputs": [
    {
     "data": {
      "text/plain": [
       "0.3183785775683751"
      ]
     },
     "execution_count": 68,
     "metadata": {},
     "output_type": "execute_result"
    }
   ],
   "source": [
    "find_corr(scoreOfHighSchool, scoreOfCollegeTest)"
   ]
  },
  {
   "cell_type": "markdown",
   "metadata": {},
   "source": [
    "**상관계수**를 구해보니 약 0.32 정도가 나옵니다.\n",
    "\n",
    "그럼 이제 전체성적이 아닌 고등학교 수학성적만을 대학입학성적과 비교해 보도록 하겠습니다."
   ]
  },
  {
   "cell_type": "code",
   "execution_count": 74,
   "metadata": {
    "collapsed": true
   },
   "outputs": [],
   "source": [
    "scoreOfMath = [ 83, 85, 84, 96, 94, 86, 87, 97, 97, 85 ]\n",
    "\n",
    "draw_ScatterPlot(scoreOfMath, scoreOfCollegeTest, 'Score of Math in High School', 'Score Of College Test')"
   ]
  },
  {
   "cell_type": "markdown",
   "metadata": {},
   "source": [
    "![그림 산점도](./image/DoingMathWithPython.Ch03.02.png)\n",
    "\n",
    "**산점도**를 보니 거의 직선에 가깝게 보입니다."
   ]
  },
  {
   "cell_type": "code",
   "execution_count": 72,
   "metadata": {
    "collapsed": false
   },
   "outputs": [
    {
     "data": {
      "text/plain": [
       "0.9989633063220916"
      ]
     },
     "execution_count": 72,
     "metadata": {},
     "output_type": "execute_result"
    }
   ],
   "source": [
    "find_corr(scoreOfMath, scoreOfCollegeTest)"
   ]
  },
  {
   "cell_type": "markdown",
   "metadata": {},
   "source": [
    "**상관계수**도 거의 1에 가까운 숫자로 나옵니다.\n",
    "고로 **산점도**와 **상관계수**를 이용해 실제로 고등학교 수학 점수와 대학입학 시험 점수 사이에는 강한 상관관계가 존재한다는 결론을 내릴 수 있습니다.\n",
    "\n",
    "### 8. 산점도의 중요성\n",
    "\n",
    "앞서 많은 통계데이터를 구하는 메서드들을 작성하였습니다.\n",
    "통계데이터가 전체데이터를 대표하는 값이긴 하지만, 이것이 모든 것을 다 대변해주는 값은 아닙니다.\n",
    "\n",
    "프란시스 안스콤(Francis Anscombe)가 작성한 `Graphs in Statistical Analysis`를 한 번 살펴 보도록 하겠습니다.\n",
    "안스콤의 콰르텟(Anscombe quartet)이라는 4개의 데이터를 살펴보겠습니다."
   ]
  },
  {
   "cell_type": "code",
   "execution_count": 75,
   "metadata": {
    "collapsed": true
   },
   "outputs": [],
   "source": [
    "AX = [ 10.0,  8.0, 13.0,  9.0, 11.0, 14.0,  6.0,  4.0, 12.0,  7.0,  5.0 ]\n",
    "AY = [ 8.04, 6.95, 7.58, 8.81, 8.33, 9.96, 7.24, 4.26, 10.84, 4.82, 5.68]\n",
    "\n",
    "BX = AX\n",
    "BY = [ 9.14, 8.14, 8.74, 8.77, 9.26, 8.1, 6.13, 3.1,9.13, 7.26, 4.74 ]\n",
    "\n",
    "CX = AX\n",
    "CY = [ 7.46, 6.77, 12.74, 7.11, 7.81, 8.84, 6.08, 5.39, 8.15, 6.42, 5.73 ]\n",
    "\n",
    "DX = [ 8.0, 8.0, 8.0, 8.0, 8.0, 8.0, 8.0, 19.0, 8.0, 8.0, 8.0]\n",
    "DY = [ 6.58, 5.76, 7.71, 8.84, 8.47, 7.04, 5.25, 12.5, 5.56, 7.91, 6.89 ]"
   ]
  },
  {
   "cell_type": "markdown",
   "metadata": {},
   "source": [
    "위 4개 데이터셋의 X, Y 각각에 대한 평균, 표준편차와 X-Y의 상관관계에 대해서 살펴보겠습니다."
   ]
  },
  {
   "cell_type": "code",
   "execution_count": 83,
   "metadata": {
    "collapsed": false
   },
   "outputs": [
    {
     "name": "stdout",
     "output_type": "stream",
     "text": [
      "X Mean \t 9.0 \t 9.0 \t 9.0 \t 9.0\n",
      "X StdDev \t 3.3166247903554 \t 3.3166247903554 \t 3.3166247903554 \t 3.3166247903554\n",
      "Y Mean \t 7.500909090909093 \t 7.500909090909091 \t 7.500000000000001 \t 7.50090909090909\n",
      "Y StdDev \t 2.031568135925815 \t 2.0316567355016177 \t 2.030423601123667 \t 2.0305785113876023\n",
      "X-Y corr \t 0.816420516344843 \t 0.8162365060002422 \t 0.8162867394895953 \t 0.8165214368885068\n"
     ]
    }
   ],
   "source": [
    "aStat = [ calculate_mean(AX), calculate_stddev(AX), calculate_mean(AY), calculate_stddev(AY), find_corr(AX, AY) ]\n",
    "bStat = [ calculate_mean(BX), calculate_stddev(BX), calculate_mean(BY), calculate_stddev(BY), find_corr(BX, BY) ]\n",
    "cStat = [ calculate_mean(CX), calculate_stddev(CX), calculate_mean(CY), calculate_stddev(CY), find_corr(CX, CY) ]\n",
    "dStat = [ calculate_mean(DX), calculate_stddev(DX), calculate_mean(DY), calculate_stddev(DY), find_corr(DX, DY) ]\n",
    "sTitle = ['X Mean', 'X StdDev', 'Y Mean', 'Y StdDev', 'X-Y corr']\n",
    "\n",
    "for i in range(0,5):\n",
    "    print(sTitle[i],'\\t',aStat[i],'\\t',bStat[i],'\\t',cStat[i],'\\t',dStat[i])"
   ]
  },
  {
   "cell_type": "markdown",
   "metadata": {},
   "source": [
    "거의 수치가 똑같이 나온것을 확인할 수 있습니다.\n",
    "그럼 이제 각각에 대한 산점도를 보도록 하겠습니다."
   ]
  },
  {
   "cell_type": "code",
   "execution_count": 86,
   "metadata": {
    "collapsed": false
   },
   "outputs": [],
   "source": [
    "draw_ScatterPlot(AX, AY,'X','Y')\n",
    "draw_ScatterPlot(BX, BY,'X','Y')\n",
    "draw_ScatterPlot(CX, CY,'X','Y')\n",
    "draw_ScatterPlot(DX, DY,'X','Y')"
   ]
  },
  {
   "cell_type": "markdown",
   "metadata": {},
   "source": [
    "![그림 산점도](./image/DoingMathWithPython.Ch03.03.png)\n",
    "![그림 산점도](./image/DoingMathWithPython.Ch03.04.png)\n",
    "![그림 산점도](./image/DoingMathWithPython.Ch03.05.png)\n",
    "![그림 산점도](./image/DoingMathWithPython.Ch03.06.png)\n",
    "\n",
    "위 4개의 산점도를 보면 모두 다른 데이터 임을 알 수 있습니다.\n",
    "따라서 데이터를 분석하는 데 산점도는 중요한 도구가 될 수 있으며, 결과를 도출하기 전에 한번 쯤 살펴봐야 할 필요성은 있어 보입니다.\n",
    "\n",
    "### 9. 파일에서 데이터 읽기\n",
    "\n",
    "#### 9.1 텍스트 파일에서 데이터 읽기\n",
    "\n",
    "다음 내용의 ch03.mydata.txt 를 읽는 예제 코드를 보도록 하겠습니다.\n",
    "```\n",
    "100\n",
    "60\n",
    "70\n",
    "900\n",
    "100\n",
    "200\n",
    "500\n",
    "500\n",
    "503\n",
    "600\n",
    "1000\n",
    "1200\n",
    "```"
   ]
  },
  {
   "cell_type": "code",
   "execution_count": 2,
   "metadata": {
    "collapsed": false
   },
   "outputs": [
    {
     "name": "stdout",
     "output_type": "stream",
     "text": [
      "[100.0, 60.0, 70.0, 900.0, 100.0, 200.0, 500.0, 500.0, 503.0, 600.0, 1000.0, 1200.0]\n"
     ]
    }
   ],
   "source": [
    "def TxtToList(filename):\n",
    "    data = []\n",
    "    with open(filename) as f:\n",
    "        for line in f:\n",
    "            data.append(float(line))\n",
    "    return data\n",
    "\n",
    "TxtToList('files/ch03.mydata.txt')"
   ]
  },
  {
   "cell_type": "markdown",
   "metadata": {},
   "source": [
    "#### 9.2 CSV 파일에서 데이터 읽기\n",
    "\n",
    "콤마구분값(csv) 파일은 엑셀에서 편집이 가능하기 때문에 많이 사용됩니다.\n",
    "다음 내용의 ch03.data.csv 파일을 읽는 예제를 보도록 하겠습니다.\n",
    "```\n",
    "Number,Square\n",
    "10,100\n",
    "9,81\n",
    "22,484\n",
    "```"
   ]
  },
  {
   "cell_type": "code",
   "execution_count": 2,
   "metadata": {
    "collapsed": false
   },
   "outputs": [
    {
     "data": {
      "text/plain": [
       "[[10.0, 9.0, 22.0], [100.0, 81.0, 484.0]]"
      ]
     },
     "execution_count": 2,
     "metadata": {},
     "output_type": "execute_result"
    }
   ],
   "source": [
    "import csv\n",
    "\n",
    "def CsvToList(filename, colHeaderLen, rowHeaderLen):\n",
    "    reader = csv.reader(open(filename))                    \n",
    "    columns = len(next(reader)) # pass column header\n",
    "    \n",
    "    for i in range(1, colHeaderLen):\n",
    "        next(reader)\n",
    "        \n",
    "    data = []\n",
    "    \n",
    "    for i in range(rowHeaderLen, columns):\n",
    "        data.append([])\n",
    "    \n",
    "    for row in reader:\n",
    "        for i in range(rowHeaderLen, columns):\n",
    "            data[i - rowHeaderLen].append(float(row[i]))\n",
    "            \n",
    "    return data\n",
    "\n",
    "CsvToList('files/ch03.data.csv', 1, 0)"
   ]
  },
  {
   "cell_type": "markdown",
   "metadata": {},
   "source": [
    "## 프로그래밍 연습\n",
    "\n",
    "### 1. 다른 csv 데이터로 테스트\n",
    "\n",
    "<https://www.quandl.com/data/WORLDBANK/USA_SP_POP_TOTL> 에서 `csv` 파일을 다운로드 합니다.  \n",
    "이 데이터는 1960년부터 2012년 동안 매년말 미국의 총 인구수 입니다.  \n",
    "이 데이터를 이용해서 이번 챕터에서 배운 통계 데이터 및 그래프를 출력하세요."
   ]
  },
  {
   "cell_type": "code",
   "execution_count": 46,
   "metadata": {
    "collapsed": false
   },
   "outputs": [
    {
     "name": "stdout",
     "output_type": "stream",
     "text": [
      "Mean :  247353970.12727273\n",
      "Median :  242289000.0\n",
      "StdDev :  41223553.97342924\n"
     ]
    }
   ],
   "source": [
    "data = CsvToList('files/WORLDBANK-USA_SP_POP_TOTL.csv', 1, 1)\n",
    "print('Mean : ', calculate_mean(data[0]))\n",
    "print('Median : ', calculate_median(data[0]))\n",
    "print('StdDev : ', calculate_stddev(data[0]))\n",
    "\n",
    "years = [i + 1960 for i in range(0, len(data[0]))]\n",
    "draw_ScatterPlot(years, data[0],'Years','Population')"
   ]
  },
  {
   "cell_type": "markdown",
   "metadata": {
    "collapsed": true
   },
   "source": [
    "![그림 산점도](./image/DoingMathWithPython.Ch03.07.png)\n",
    "\n",
    "### 2. 퍼센트 위치 계산\n",
    "\n",
    "`백분위수`란 관측값에 대해서 설정한 백분율 이하의 값들을 의미합니다.\n",
    "예를 들어 95분위수라는 말은 집합내에서 해당 수보다 낮은 수들이 95%가 있다는 것을 의미합니다.\n",
    "\n",
    "`백분위수 p`로 관측값을 계산하는 방법은 다음과 같습니다.\n",
    "\n",
    "1. 오름차순으로 data를 정렬\n",
    "2. `i = (n * p / 100) + 0.5`를 계산 (n은 data 내의 아이템 개수)\n",
    "3. i가 정수이면 data[i]가 백분위 p에 대항하는 숫자\n",
    "4. i가 정수가 아니면 k가 i의 정수부분이고, f가 i의 분수 부분으로 계산해서 `(1-f) * data[k] + f * data[k+1]`이 백분위 p에 해당하는 숫자\n",
    "\n",
    "파일 내의 숫자 집합을 취해서 입력된 백분위에 해당하는 숫자를 표시하는 프로그램을 작성하세요."
   ]
  },
  {
   "cell_type": "code",
   "execution_count": 15,
   "metadata": {
    "collapsed": false
   },
   "outputs": [
    {
     "name": "stdout",
     "output_type": "stream",
     "text": [
      "Enter percentile : 95\n",
      "98.5\n"
     ]
    }
   ],
   "source": [
    "data = CsvToList('files/ch03.math.score.csv', 1, 0)\n",
    "\n",
    "def find_PercentileRank(data, p):\n",
    "    data.sort()\n",
    "    n = len(data)\n",
    "    i = n * p / 100 + 0.5\n",
    "    k = int(i)\n",
    "\n",
    "    if (i.is_integer()):\n",
    "        return data[k]\n",
    "    \n",
    "    f = i - k\n",
    "    return (1-f)*data[k] + f*data[k+1]\n",
    "\n",
    "p = float(input('Enter percentile : '))\n",
    "print(find_PercentileRank(data[0], p))"
   ]
  },
  {
   "cell_type": "markdown",
   "metadata": {},
   "source": [
    "### 3. 그룹화한 빈도 테이블 생성\n",
    "\n",
    "그룹화한 빈도 테이블이란 주어진 데이터를 분류화하여 해당 분류안에 몇개의 데이터가 있는지를 표시해 주는 테이블 입니다.\n",
    "여기서 분류를 생성하는 방법에는 여러 가지가 있을 수 있습니다."
   ]
  },
  {
   "cell_type": "code",
   "execution_count": 23,
   "metadata": {
    "collapsed": false
   },
   "outputs": [
    {
     "name": "stdout",
     "output_type": "stream",
     "text": [
      "[1, 1, 3, 4, 5, 5, 6, 6, 6, 7, 7, 8, 8, 9, 9, 9, 9, 9, 10, 10]\n"
     ]
    },
    {
     "data": {
      "text/plain": [
       "[(1, 3.25), (3.25, 5.5), (5.5, 7.75), (7.75, 11)]"
      ]
     },
     "execution_count": 23,
     "metadata": {},
     "output_type": "execute_result"
    }
   ],
   "source": [
    "def create_classes(numbers, n):\n",
    "    width, low, high = find_range(numbers)\n",
    "    width /= n\n",
    "    classes = []\n",
    "    a = low\n",
    "    b = low + width\n",
    "    while a < high - width :\n",
    "        classes.append((a,b))\n",
    "        a = b\n",
    "        b = a + width\n",
    "    classes.append((a, high + 1))\n",
    "    return classes\n",
    "\n",
    "print(scores)\n",
    "create_classes(scores, 4)"
   ]
  },
  {
   "cell_type": "markdown",
   "metadata": {},
   "source": [
    "위에서 제공하는 `create_classes()` 메서드를 사용해서 그룹화한 빈도 테이블을 구현하세요."
   ]
  },
  {
   "cell_type": "code",
   "execution_count": 24,
   "metadata": {
    "collapsed": false
   },
   "outputs": [
    {
     "data": {
      "text/plain": [
       "defaultdict(int, {(1, 3.25): 3, (3.25, 5.5): 3, (5.5, 7.75): 5, (7.75, 11): 9})"
      ]
     },
     "execution_count": 24,
     "metadata": {},
     "output_type": "execute_result"
    }
   ],
   "source": [
    "from collections import defaultdict\n",
    "\n",
    "def GroupingFrequencyTable(numbers, n):\n",
    "    classes = create_classes(numbers, n)\n",
    "    numbers.sort()\n",
    "    i = 0\n",
    "    table = defaultdict(int)\n",
    "    for n in numbers:\n",
    "        if n >= classes[i][1]:\n",
    "            i += 1\n",
    "        table[classes[i]] += 1\n",
    "    return table\n",
    "\n",
    "GroupingFrequencyTable(scores, 4)"
   ]
  }
 ],
 "metadata": {
  "anaconda-cloud": {},
  "kernelspec": {
   "display_name": "Python [Root]",
   "language": "python",
   "name": "Python [Root]"
  },
  "language_info": {
   "codemirror_mode": {
    "name": "ipython",
    "version": 3
   },
   "file_extension": ".py",
   "mimetype": "text/x-python",
   "name": "python",
   "nbconvert_exporter": "python",
   "pygments_lexer": "ipython3",
   "version": "3.5.2"
  }
 },
 "nbformat": 4,
 "nbformat_minor": 0
}
