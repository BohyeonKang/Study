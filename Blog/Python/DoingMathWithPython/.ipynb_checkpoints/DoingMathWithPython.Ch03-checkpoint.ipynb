{
 "cells": [
  {
   "cell_type": "markdown",
   "metadata": {},
   "source": [
    "# 파이썬으로 풀어보는 수학\n",
    "\n",
    "## 3장 통계값을 이용한 데이터 설명\n",
    "\n",
    "### 1. 평균(mean)\n",
    "\n",
    "숫자 집합을 요약하는 가장 일반적이고 집합적인 방법입니다.\n",
    "모든 숫자들의 합을 그 갯수로 나눈 값입니다."
   ]
  },
  {
   "cell_type": "code",
   "execution_count": 32,
   "metadata": {
    "collapsed": false
   },
   "outputs": [
    {
     "data": {
      "text/plain": [
       "477.75"
      ]
     },
     "execution_count": 32,
     "metadata": {},
     "output_type": "execute_result"
    }
   ],
   "source": [
    "donations = [100, 60, 70, 900, 100, 200, 500, 500, 503, 600, 1000, 1200]\n",
    "\n",
    "def calculate_mean(numbers):\n",
    "    return sum(numbers) / len(numbers)\n",
    "\n",
    "calculate_mean(donations)"
   ]
  },
  {
   "cell_type": "markdown",
   "metadata": {},
   "source": [
    "### 2. 중위수(median)\n",
    "\n",
    "숫자 집합에서 중간에 있는 값입니다.\n",
    "만약 짝수개의 숫자가 있는 경우에는 가운데 두 수의 평균값을 계산합니다."
   ]
  },
  {
   "cell_type": "code",
   "execution_count": 33,
   "metadata": {
    "collapsed": false
   },
   "outputs": [
    {
     "data": {
      "text/plain": [
       "500.0"
      ]
     },
     "execution_count": 33,
     "metadata": {},
     "output_type": "execute_result"
    }
   ],
   "source": [
    "def calculate_median(numbers):\n",
    "    numbers.sort()\n",
    "    n = len(numbers)\n",
    "    i = int(n/2)\n",
    "\n",
    "    if n % 2 == 0:\n",
    "        return (numbers[i -1] + numbers[i]) / 2\n",
    "    else:\n",
    "        return numbers[i]\n",
    "\n",
    "calculate_median(donations)  "
   ]
  },
  {
   "cell_type": "markdown",
   "metadata": {},
   "source": [
    "### 3. 최빈수(mode)\n",
    "\n",
    "최빈값이란 가장 자주 발생한 수를 뜻합니다.\n",
    "`Counter`클래스를 이용하면 쉽게 가능합니다."
   ]
  },
  {
   "cell_type": "code",
   "execution_count": 10,
   "metadata": {
    "collapsed": false
   },
   "outputs": [
    {
     "data": {
      "text/plain": [
       "Counter({1: 2, 3: 1, 4: 1, 5: 2, 6: 3, 7: 2, 8: 2, 9: 5, 10: 2})"
      ]
     },
     "execution_count": 10,
     "metadata": {},
     "output_type": "execute_result"
    }
   ],
   "source": [
    "scores = [ 7, 8, 9, 3, 10, 9, 9, 9, 9, 4, 5, 6, 1, 5, 6, 7, 8, 6, 1, 10]\n",
    "\n",
    "from collections import Counter\n",
    "c = Counter(scores)\n",
    "c"
   ]
  },
  {
   "cell_type": "markdown",
   "metadata": {},
   "source": [
    "그 결과로 `element : 갯수`를 저장한 `Dictionary`를 리턴합니다.\n",
    "`.most_common(갯수)`를 사용해서 가장 빈도가 높은 요소만을 추출할 수도 있습니다."
   ]
  },
  {
   "cell_type": "code",
   "execution_count": 11,
   "metadata": {
    "collapsed": false
   },
   "outputs": [
    {
     "data": {
      "text/plain": [
       "[(9, 5)]"
      ]
     },
     "execution_count": 11,
     "metadata": {},
     "output_type": "execute_result"
    }
   ],
   "source": [
    "c.most_common(1)"
   ]
  },
  {
   "cell_type": "markdown",
   "metadata": {},
   "source": [
    "이것을 이용하여 최빈수를 구하는 메서드를 만들어 보겠습니다.\n",
    "최빈수는 여러개가 될 수 있으므로 최대 빈도 횟수를 구한 뒤 같은 것을 모두 리턴해야 합니다."
   ]
  },
  {
   "cell_type": "code",
   "execution_count": 34,
   "metadata": {
    "collapsed": false
   },
   "outputs": [
    {
     "data": {
      "text/plain": [
       "[9]"
      ]
     },
     "execution_count": 34,
     "metadata": {},
     "output_type": "execute_result"
    }
   ],
   "source": [
    "def calculate_mode(numbers):\n",
    "    result = []\n",
    "    c = Counter(numbers).most_common()\n",
    "    most = c[0][1]\n",
    "    \n",
    "    for e, n in c:\n",
    "        if n == most:\n",
    "            result.append(e)\n",
    "    \n",
    "    return result\n",
    "    \n",
    "\n",
    "calculate_mode(scores)"
   ]
  },
  {
   "cell_type": "markdown",
   "metadata": {},
   "source": [
    "### 4. 빈도 테이블 생성\n",
    "\n",
    "전체 숫자에 대한 빈도를 출력하는 테이블을 생성해 보겠습니다."
   ]
  },
  {
   "cell_type": "code",
   "execution_count": 20,
   "metadata": {
    "collapsed": false
   },
   "outputs": [
    {
     "name": "stdout",
     "output_type": "stream",
     "text": [
      "9 \t 5\n",
      "6 \t 3\n",
      "1 \t 2\n",
      "5 \t 2\n",
      "7 \t 2\n",
      "8 \t 2\n",
      "10 \t 2\n",
      "3 \t 1\n",
      "4 \t 1\n"
     ]
    }
   ],
   "source": [
    "def frequencyTable(numbers):\n",
    "    for e, n in Counter(numbers).most_common():\n",
    "        print (e,'\\t', n)\n",
    "\n",
    "frequencyTable(scores)"
   ]
  },
  {
   "cell_type": "markdown",
   "metadata": {},
   "source": [
    "출력순서는 빈도수가 아닌 항목의 순서대로 하고 싶다면 아래와 같이 정렬을 해주면 됩니다."
   ]
  },
  {
   "cell_type": "code",
   "execution_count": 30,
   "metadata": {
    "collapsed": false
   },
   "outputs": [
    {
     "name": "stdout",
     "output_type": "stream",
     "text": [
      "1 \t 2\n",
      "3 \t 1\n",
      "4 \t 1\n",
      "5 \t 2\n",
      "6 \t 3\n",
      "7 \t 2\n",
      "8 \t 2\n",
      "9 \t 5\n",
      "10 \t 2\n"
     ]
    }
   ],
   "source": [
    "def frequencyTable(numbers):\n",
    "    c = Counter(numbers).most_common()\n",
    "    s = sorted(c, key=lambda i : i[0], reverse=False)\n",
    "    for e, n in s:\n",
    "        print (e,'\\t', n)\n",
    "\n",
    "frequencyTable(scores)"
   ]
  },
  {
   "cell_type": "markdown",
   "metadata": {},
   "source": [
    "### 5. 산포정도 측정\n",
    "\n",
    "#### 5.1 범위(range), 최소(min), 최대(max) 구하기\n",
    "\n",
    "값들의 최소값과 최대값 간의 거리가 얼마나 되는지를 보여줍니다."
   ]
  },
  {
   "cell_type": "code",
   "execution_count": 31,
   "metadata": {
    "collapsed": false
   },
   "outputs": [
    {
     "data": {
      "text/plain": [
       "(1140, 60, 1200)"
      ]
     },
     "execution_count": 31,
     "metadata": {},
     "output_type": "execute_result"
    }
   ],
   "source": [
    "def find_range(numbers):\n",
    "    lowest = min(numbers)\n",
    "    highest = max(numbers)\n",
    "    return highest - lowest, lowest, highest\n",
    "\n",
    "find_range(donations)"
   ]
  },
  {
   "cell_type": "markdown",
   "metadata": {},
   "source": [
    "#### 5.2 분산(variance)과 표준편차(standard deviation)\n",
    "\n",
    "값들이 평균값 주변에 모여있는지 아니면 흩어져 있는지 정도를 알려주는 수치입니다.\n",
    "\n",
    "분산은 평균값과의 차이를 제곱한 값들의 평균입니다.\n",
    "\n",
    "![수식 Variance](./image/DoingMathWithPython.Ch03.equation.01.png)"
   ]
  },
  {
   "cell_type": "code",
   "execution_count": 37,
   "metadata": {
    "collapsed": false
   },
   "outputs": [
    {
     "data": {
      "text/plain": [
       "141047.35416666666"
      ]
     },
     "execution_count": 37,
     "metadata": {},
     "output_type": "execute_result"
    }
   ],
   "source": [
    "def calculate_variance(numbers):\n",
    "    mean = calculate_mean(numbers)\n",
    "    diffSquare = 0\n",
    "    for n in numbers:\n",
    "        diffSquare += (n - mean)**2\n",
    "    return diffSquare/len(numbers)\n",
    "\n",
    "calculate_variance(donations)"
   ]
  },
  {
   "cell_type": "markdown",
   "metadata": {},
   "source": [
    "표준편차는 분산의 제곱근 값입니다.\n",
    "\n",
    "값이 0에 가까워질수록 평균에 가까운 값들이 모여 있다는 뜻이고, 값이 커질수록 평균값과 멀게 분산되어 있는 값들이 많다는 뜻입니다."
   ]
  },
  {
   "cell_type": "code",
   "execution_count": 39,
   "metadata": {
    "collapsed": false
   },
   "outputs": [
    {
     "data": {
      "text/plain": [
       "375.5627166887931"
      ]
     },
     "execution_count": 39,
     "metadata": {},
     "output_type": "execute_result"
    }
   ],
   "source": [
    "def calculate_stddev(numbers):\n",
    "    return calculate_variance(numbers)**0.5\n",
    "\n",
    "calculate_stddev(donations)"
   ]
  },
  {
   "cell_type": "code",
   "execution_count": null,
   "metadata": {
    "collapsed": true
   },
   "outputs": [],
   "source": []
  }
 ],
 "metadata": {
  "kernelspec": {
   "display_name": "Python 3",
   "language": "python",
   "name": "python3"
  },
  "language_info": {
   "codemirror_mode": {
    "name": "ipython",
    "version": 3
   },
   "file_extension": ".py",
   "mimetype": "text/x-python",
   "name": "python",
   "nbconvert_exporter": "python",
   "pygments_lexer": "ipython3",
   "version": "3.5.2"
  }
 },
 "nbformat": 4,
 "nbformat_minor": 0
}
