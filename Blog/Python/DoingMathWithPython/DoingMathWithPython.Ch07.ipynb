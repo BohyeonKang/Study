{
 "cells": [
  {
   "cell_type": "markdown",
   "metadata": {
    "nbpresent": {
     "id": "3950c701-af0d-48b0-a1a5-46cfd475c8c2"
    }
   },
   "source": [
    "# 파이썬으로 풀어보는 수학\n",
    "\n",
    "## 7장 미적분 문제 풀기\n",
    "\n",
    "### 1.  함수란 무엇인가 ?\n",
    "\n",
    "`함수`란 입력집합과 출력집합 간의 관계(mapping)를 얘기합니다.\n",
    "유요한 입력값의 집합을 함수 `도메인(Domain)`이라 하고, 결과집합을 `범위(Range)`라고 합니다.\n",
    "예를 들어서 $f(x)=\\frac {1}{x}$ 라는 함수가 있는 경우 x의 값은 0이 될 수 없습니다.\n",
    "그러므로 이 함수의 도메인은 0이 아닌 모든 실수와 복소수 입니다.\n",
    "결과집합인 범위도 0이 아닌 모든 실수와 복소수 입니다.\n",
    "$f(x)={x}^{2}$에 대해서는 도메인은 모든 양수와 음수이지만, 범위는 양수만 해당합니다.\n",
    "\n",
    "### 2. 가정(assumptions)\n",
    "\n",
    "`sympy`의 `Symbol`객체를 이용를 생성한 다음 해당 변수의 값을 가정하고 판단하는 것이 가능합니다.\n",
    "$x+5$ 값이 0보다 큰지 여부를 확인하는 코드를 작성해 보겠습니다."
   ]
  },
  {
   "cell_type": "code",
   "execution_count": 1,
   "metadata": {
    "collapsed": false,
    "nbpresent": {
     "id": "ad388bbb-acc3-4dd5-bd33-4d916225f810"
    }
   },
   "outputs": [
    {
     "ename": "TypeError",
     "evalue": "cannot determine truth value of Relational",
     "output_type": "error",
     "traceback": [
      "\u001b[1;31m---------------------------------------------------------------------------\u001b[0m",
      "\u001b[1;31mTypeError\u001b[0m                                 Traceback (most recent call last)",
      "\u001b[1;32m<ipython-input-1-e885da2fb212>\u001b[0m in \u001b[0;36m<module>\u001b[1;34m()\u001b[0m\n\u001b[0;32m      2\u001b[0m \u001b[1;33m\u001b[0m\u001b[0m\n\u001b[0;32m      3\u001b[0m \u001b[0mx\u001b[0m \u001b[1;33m=\u001b[0m \u001b[0mSymbol\u001b[0m\u001b[1;33m(\u001b[0m\u001b[1;34m'x'\u001b[0m\u001b[1;33m)\u001b[0m\u001b[1;33m\u001b[0m\u001b[0m\n\u001b[1;32m----> 4\u001b[1;33m \u001b[1;32mif\u001b[0m \u001b[0mx\u001b[0m \u001b[1;33m+\u001b[0m \u001b[1;36m5\u001b[0m \u001b[1;33m>\u001b[0m \u001b[1;36m0\u001b[0m\u001b[1;33m:\u001b[0m\u001b[1;33m\u001b[0m\u001b[0m\n\u001b[0m\u001b[0;32m      5\u001b[0m     \u001b[0mprint\u001b[0m\u001b[1;33m(\u001b[0m\u001b[1;34m'Positive'\u001b[0m\u001b[1;33m)\u001b[0m\u001b[1;33m\u001b[0m\u001b[0m\n\u001b[0;32m      6\u001b[0m \u001b[1;32melse\u001b[0m\u001b[1;33m:\u001b[0m\u001b[1;33m\u001b[0m\u001b[0m\n",
      "\u001b[1;32mC:\\Python\\Anaconda3\\lib\\site-packages\\sympy\\core\\relational.py\u001b[0m in \u001b[0;36m__nonzero__\u001b[1;34m(self)\u001b[0m\n\u001b[0;32m    193\u001b[0m \u001b[1;33m\u001b[0m\u001b[0m\n\u001b[0;32m    194\u001b[0m     \u001b[1;32mdef\u001b[0m \u001b[0m__nonzero__\u001b[0m\u001b[1;33m(\u001b[0m\u001b[0mself\u001b[0m\u001b[1;33m)\u001b[0m\u001b[1;33m:\u001b[0m\u001b[1;33m\u001b[0m\u001b[0m\n\u001b[1;32m--> 195\u001b[1;33m         \u001b[1;32mraise\u001b[0m \u001b[0mTypeError\u001b[0m\u001b[1;33m(\u001b[0m\u001b[1;34m\"cannot determine truth value of Relational\"\u001b[0m\u001b[1;33m)\u001b[0m\u001b[1;33m\u001b[0m\u001b[0m\n\u001b[0m\u001b[0;32m    196\u001b[0m \u001b[1;33m\u001b[0m\u001b[0m\n\u001b[0;32m    197\u001b[0m     \u001b[0m__bool__\u001b[0m \u001b[1;33m=\u001b[0m \u001b[0m__nonzero__\u001b[0m\u001b[1;33m\u001b[0m\u001b[0m\n",
      "\u001b[1;31mTypeError\u001b[0m: cannot determine truth value of Relational"
     ]
    }
   ],
   "source": [
    "from sympy import Symbol\n",
    "\n",
    "x = Symbol('x')\n",
    "if x + 5 > 0:\n",
    "    print('Positive')\n",
    "else:\n",
    "    print('Negative')"
   ]
  },
  {
   "cell_type": "markdown",
   "metadata": {
    "nbpresent": {
     "id": "6fe47b19-3e79-4938-b051-95b76e39616e"
    }
   },
   "source": [
    "`TypeError: cannot determine truth value of Relational`라는 오류가 발생합니다.\n",
    "왜냐면 x의 값이 범위를 알 수 없으므로 해당 식이 0보다 큰지 작은지 추론을 할 수가 없기 때문입니다.\n",
    "`Symbol` 객체를 `positive=True`로 설정하면 해당 식은 항상 0보다 클 것입니다."
   ]
  },
  {
   "cell_type": "code",
   "execution_count": 2,
   "metadata": {
    "collapsed": false,
    "nbpresent": {
     "id": "998d57ba-2e68-403f-bb8d-8563bee08bea"
    }
   },
   "outputs": [
    {
     "name": "stdout",
     "output_type": "stream",
     "text": [
      "Positive\n"
     ]
    }
   ],
   "source": [
    "x = Symbol('x', positive=True)\n",
    "if x + 5 > 0:\n",
    "    print('Positive')\n",
    "else:\n",
    "    print('Negative')"
   ]
  },
  {
   "cell_type": "markdown",
   "metadata": {
    "nbpresent": {
     "id": "d6e753a4-4e93-4817-ba9f-d2ca86a989f7"
    }
   },
   "source": [
    "`negative=True`로 선택하면 참, 거짓이 모두 가능하기 때문에 처음과 같은 `TypeError: cannot determine truth value of Relational` 오류가 발생합니다."
   ]
  },
  {
   "cell_type": "code",
   "execution_count": 3,
   "metadata": {
    "collapsed": false,
    "nbpresent": {
     "id": "b3b18b86-b83d-48a9-9cd8-6408d01174e2"
    }
   },
   "outputs": [
    {
     "ename": "TypeError",
     "evalue": "cannot determine truth value of Relational",
     "output_type": "error",
     "traceback": [
      "\u001b[1;31m---------------------------------------------------------------------------\u001b[0m",
      "\u001b[1;31mTypeError\u001b[0m                                 Traceback (most recent call last)",
      "\u001b[1;32m<ipython-input-3-a822b37a7734>\u001b[0m in \u001b[0;36m<module>\u001b[1;34m()\u001b[0m\n\u001b[0;32m      1\u001b[0m \u001b[0mx\u001b[0m \u001b[1;33m=\u001b[0m \u001b[0mSymbol\u001b[0m\u001b[1;33m(\u001b[0m\u001b[1;34m'x'\u001b[0m\u001b[1;33m,\u001b[0m \u001b[0mnegative\u001b[0m\u001b[1;33m=\u001b[0m\u001b[1;32mTrue\u001b[0m\u001b[1;33m)\u001b[0m\u001b[1;33m\u001b[0m\u001b[0m\n\u001b[1;32m----> 2\u001b[1;33m \u001b[1;32mif\u001b[0m \u001b[0mx\u001b[0m \u001b[1;33m+\u001b[0m \u001b[1;36m5\u001b[0m \u001b[1;33m>\u001b[0m \u001b[1;36m0\u001b[0m\u001b[1;33m:\u001b[0m\u001b[1;33m\u001b[0m\u001b[0m\n\u001b[0m\u001b[0;32m      3\u001b[0m     \u001b[0mprint\u001b[0m\u001b[1;33m(\u001b[0m\u001b[1;34m'Positive'\u001b[0m\u001b[1;33m)\u001b[0m\u001b[1;33m\u001b[0m\u001b[0m\n\u001b[0;32m      4\u001b[0m \u001b[1;32melse\u001b[0m\u001b[1;33m:\u001b[0m\u001b[1;33m\u001b[0m\u001b[0m\n\u001b[0;32m      5\u001b[0m     \u001b[0mprint\u001b[0m\u001b[1;33m(\u001b[0m\u001b[1;34m'Negative'\u001b[0m\u001b[1;33m)\u001b[0m\u001b[1;33m\u001b[0m\u001b[0m\n",
      "\u001b[1;32mC:\\Python\\Anaconda3\\lib\\site-packages\\sympy\\core\\relational.py\u001b[0m in \u001b[0;36m__nonzero__\u001b[1;34m(self)\u001b[0m\n\u001b[0;32m    193\u001b[0m \u001b[1;33m\u001b[0m\u001b[0m\n\u001b[0;32m    194\u001b[0m     \u001b[1;32mdef\u001b[0m \u001b[0m__nonzero__\u001b[0m\u001b[1;33m(\u001b[0m\u001b[0mself\u001b[0m\u001b[1;33m)\u001b[0m\u001b[1;33m:\u001b[0m\u001b[1;33m\u001b[0m\u001b[0m\n\u001b[1;32m--> 195\u001b[1;33m         \u001b[1;32mraise\u001b[0m \u001b[0mTypeError\u001b[0m\u001b[1;33m(\u001b[0m\u001b[1;34m\"cannot determine truth value of Relational\"\u001b[0m\u001b[1;33m)\u001b[0m\u001b[1;33m\u001b[0m\u001b[0m\n\u001b[0m\u001b[0;32m    196\u001b[0m \u001b[1;33m\u001b[0m\u001b[0m\n\u001b[0;32m    197\u001b[0m     \u001b[0m__bool__\u001b[0m \u001b[1;33m=\u001b[0m \u001b[0m__nonzero__\u001b[0m\u001b[1;33m\u001b[0m\u001b[0m\n",
      "\u001b[1;31mTypeError\u001b[0m: cannot determine truth value of Relational"
     ]
    }
   ],
   "source": [
    "x = Symbol('x', negative=True)\n",
    "if x + 5 > 0:\n",
    "    print('Positive')\n",
    "else:\n",
    "    print('Negative')"
   ]
  },
  {
   "cell_type": "markdown",
   "metadata": {
    "nbpresent": {
     "id": "92f72f38-51bf-47b7-8859-be8f0ba0815a"
    }
   },
   "source": [
    "앞에서 살펴본 `positive`, `negative` 외에도 `real`, `integer`, `complex`, `imaginary` 등으로 설정이 가능합니다.\n",
    "\n",
    "### 3. 함수의 극한\n",
    "\n",
    "미적분 계산의 기본은 변수의 값이 어떤값에 근접할 때의 함수의 극한값을 찾는 것입니다.\n",
    "$f(x)=\\frac{1}{x}$ 함수의 경우 x가 증가할수록 0에 가까워 집니다.\n",
    "\n",
    "$\\lim _{ x\\rightarrow \\infty  }{ \\frac { 1 }{ x }  } =0$\n",
    "\n",
    "`sympy`에서는 극한을 `Limit` 객체를 이용해서 생성이 가능합니다."
   ]
  },
  {
   "cell_type": "code",
   "execution_count": 5,
   "metadata": {
    "collapsed": false,
    "nbpresent": {
     "id": "29afbdd6-c84d-4b3e-a9b6-2850afa223ff"
    }
   },
   "outputs": [
    {
     "data": {
      "text/plain": [
       "Limit(1/x, x, oo, dir='-')"
      ]
     },
     "execution_count": 5,
     "metadata": {},
     "output_type": "execute_result"
    }
   ],
   "source": [
    "from sympy import Limit, Symbol, S\n",
    "\n",
    "x = Symbol('x')\n",
    "L = Limit(1/x, x, S.Infinity)\n",
    "L"
   ]
  },
  {
   "cell_type": "markdown",
   "metadata": {
    "nbpresent": {
     "id": "9436b59a-9e27-4fb3-b36d-0ed47e615374"
    }
   },
   "source": [
    "극한값 계산에는 `doit()`함수를 사용합니다."
   ]
  },
  {
   "cell_type": "code",
   "execution_count": 6,
   "metadata": {
    "collapsed": false,
    "nbpresent": {
     "id": "f6803b7a-2c1e-462f-b59a-aa2423ca43aa"
    }
   },
   "outputs": [
    {
     "data": {
      "text/plain": [
       "0"
      ]
     },
     "execution_count": 6,
     "metadata": {},
     "output_type": "execute_result"
    }
   ],
   "source": [
    "L.doit()"
   ]
  },
  {
   "cell_type": "markdown",
   "metadata": {
    "nbpresent": {
     "id": "9260ed95-f6ac-4d60-9d8b-64a65085747c"
    }
   },
   "source": [
    "0의 방향으로 극한값은 양의 방향에서 0으로 접근을하면 양의 무한대 값이 되며, 음의 방향에서 0으로 접근하면 양의 무한대 값이 됩니다."
   ]
  },
  {
   "cell_type": "code",
   "execution_count": 7,
   "metadata": {
    "collapsed": false,
    "nbpresent": {
     "id": "ab9ddbee-036d-4640-bd06-0c1fba2a21cc"
    }
   },
   "outputs": [
    {
     "data": {
      "text/plain": [
       "-oo"
      ]
     },
     "execution_count": 7,
     "metadata": {},
     "output_type": "execute_result"
    }
   ],
   "source": [
    "Limit(1/x, x, 0, dir='-').doit()"
   ]
  },
  {
   "cell_type": "code",
   "execution_count": 8,
   "metadata": {
    "collapsed": false,
    "nbpresent": {
     "id": "50beb7b8-80a7-4d5d-85b5-69d655704edd"
    }
   },
   "outputs": [
    {
     "data": {
      "text/plain": [
       "oo"
      ]
     },
     "execution_count": 8,
     "metadata": {},
     "output_type": "execute_result"
    }
   ],
   "source": [
    "Limit(1/x, x, 0, dir='+').doit()"
   ]
  },
  {
   "cell_type": "markdown",
   "metadata": {
    "nbpresent": {
     "id": "0f205284-b0ec-4616-9f42-c429bb65ed76"
    }
   },
   "source": [
    "정해지지 않은 극한값도 다룰수 있습니다. ( $\\frac { 0 }{ 0 }  = \\frac { \\infty  }{ \\infty  } =1$)"
   ]
  },
  {
   "cell_type": "code",
   "execution_count": 9,
   "metadata": {
    "collapsed": false,
    "nbpresent": {
     "id": "62423be8-bd1d-4199-9067-965b6532b6a9"
    }
   },
   "outputs": [
    {
     "data": {
      "text/plain": [
       "1"
      ]
     },
     "execution_count": 9,
     "metadata": {},
     "output_type": "execute_result"
    }
   ],
   "source": [
    "from sympy import sin\n",
    "\n",
    "Limit(sin(x)/x, x, 0).doit()"
   ]
  },
  {
   "cell_type": "markdown",
   "metadata": {
    "nbpresent": {
     "id": "9ae9fde5-de9c-4a41-b3f7-11f456be43cc"
    }
   },
   "source": [
    "### 4. 연속 복리\n",
    "\n",
    "이자율 `r`에 대해서 기간 `n` 동안의 복리이자를 계산하는 수식은 다음과 같습니다.\n",
    "\n",
    "$A={ (1+r) }^{ n }$\n",
    "\n",
    "여기에서 *r*을 $\\frac { 1 }{ n } $로 치환을 한 후 *n*값을 무한대 값으로 극한을 취하면 *e*값에 접근합니다.(${ \\left( 1+\\frac { 1 }{ n }  \\right)  }^{ n }$)"
   ]
  },
  {
   "cell_type": "code",
   "execution_count": 3,
   "metadata": {
    "collapsed": false,
    "nbpresent": {
     "id": "347957db-84a8-48e7-af11-fdb24222a8bc"
    }
   },
   "outputs": [
    {
     "data": {
      "text/plain": [
       "E"
      ]
     },
     "execution_count": 3,
     "metadata": {},
     "output_type": "execute_result"
    }
   ],
   "source": [
    "from sympy import Limit, Symbol, symbols, S\n",
    "\n",
    "n = Symbol('n')\n",
    "Limit((1+1/n)**n, n, S.Infinity).doit()"
   ]
  },
  {
   "cell_type": "markdown",
   "metadata": {
    "nbpresent": {
     "id": "93d0d4cb-23e3-44a3-9a28-3e2a59a300c8"
    }
   },
   "source": [
    "원금 `P`, 이자율 `r`, 기간 `t`에 대한 복리이자는 다음 공식을 이용합니다.\n",
    "\n",
    "$A={ P(1+\\frac { r }{ n } ) }^{ nt }$"
   ]
  },
  {
   "cell_type": "code",
   "execution_count": 6,
   "metadata": {
    "collapsed": false,
    "nbpresent": {
     "id": "91d7e250-5604-4ab1-9b47-cc9d38a68415"
    }
   },
   "outputs": [
    {
     "data": {
      "text/plain": [
       "p*exp(r*t)"
      ]
     },
     "execution_count": 6,
     "metadata": {},
     "output_type": "execute_result"
    }
   ],
   "source": [
    "p, r, t = symbols('p,r,t')\n",
    "A = Limit(p*(1+r/n)**(n*t), n, S.Infinity).doit()\n",
    "A"
   ]
  },
  {
   "cell_type": "markdown",
   "metadata": {
    "nbpresent": {
     "id": "669a880e-f986-4024-8cde-908df70dd839"
    }
   },
   "source": [
    "저 수식이 맞는지 계산해보겠습니다.\n",
    "100만원을 복리 3% 이자 10년동안 예치한 경우 수령액을 계산해 보겠습니다.\n",
    "저 수식이 맞는지 우리가 일반적으로 알고있는 수식으로 계산한 값과 비교해 보겠습니다."
   ]
  },
  {
   "cell_type": "code",
   "execution_count": 12,
   "metadata": {
    "collapsed": false,
    "nbpresent": {
     "id": "f23b2a14-bb6e-4241-a88c-4d9589c41cea"
    }
   },
   "outputs": [
    {
     "data": {
      "text/plain": [
       "1349858.80757600"
      ]
     },
     "execution_count": 12,
     "metadata": {},
     "output_type": "execute_result"
    }
   ],
   "source": [
    "A.subs({p:1000000, r:0.03, t:10})"
   ]
  },
  {
   "cell_type": "code",
   "execution_count": 14,
   "metadata": {
    "collapsed": false,
    "nbpresent": {
     "id": "7b8b42da-97fd-4ef0-bdf6-ae94b7aafa07"
    }
   },
   "outputs": [
    {
     "data": {
      "text/plain": [
       "1343916.37934412"
      ]
     },
     "execution_count": 14,
     "metadata": {},
     "output_type": "execute_result"
    }
   ],
   "source": [
    "A2 = p * (1+r)**t\n",
    "A2.subs({p:1000000, r:0.03, t:10})"
   ]
  },
  {
   "cell_type": "markdown",
   "metadata": {
    "nbpresent": {
     "id": "f644e807-4e8d-468e-8973-7957cad4cabc"
    }
   },
   "source": [
    "완벽하게 일치하지는 않지만 큰 차이는 없습니다.\n",
    "\n",
    "#### 실시간 변화율\n",
    "\n",
    "어떤 자동차의 이동거리를 계산하는 수식이 $S(t)\\quad =\\quad 5{ t }^{ 2 }+2t+8$라고 가정을 해봅시다.\n",
    "시간의 제곱에 비례를 한다는 것을 보면 시간이 지날수록 점점 속도가 빨라지고 있다고 생각할 수 있습니다.\n",
    "\n",
    "이 함수의 독립변수는 `t`입니다.\n",
    "특정 시간동안 (`t1`시간에서 `t2`시간까지)의 단위시간당 이동한 거리를 다음 수식으로 계산이 가능합니다.\n",
    "\n",
    "![수식](./image/DoingMathWithPython.Ch07.equation.02.png)\n",
    "\n",
    "여기서 `t2`와 `t1`간의 시간차이를 `∂`라 할경우 수식을 다음과 같이 표현이 가능하며,\n",
    "\n",
    "![수식](./image/DoingMathWithPython.Ch07.equation.03.png)\n",
    "\n",
    "여기서 `∂`를 0에 근접시키는 극한값은 다음과 같습니다.\n",
    "\n",
    "![수식](./image/DoingMathWithPython.Ch07.equation.04.png)\n",
    "\n",
    "`sympy`를 이용해서 극한값을 구해보겠습니다."
   ]
  },
  {
   "cell_type": "code",
   "execution_count": 21,
   "metadata": {
    "collapsed": false,
    "nbpresent": {
     "id": "204c3943-26f8-4735-9bbe-2266f142152d"
    }
   },
   "outputs": [
    {
     "data": {
      "text/plain": [
       "10*t1 + 2"
      ]
     },
     "execution_count": 21,
     "metadata": {},
     "output_type": "execute_result"
    }
   ],
   "source": [
    "t, t1, delta_t = symbols('t,t1,delta_t')\n",
    "\n",
    "S = 5*t**2 + 2*t + 8\n",
    "L = (S.subs({t:t1 + delta_t}) - S.subs({t:t1})) / delta_t\n",
    "Limit(L, delta_t, 0).doit()"
   ]
  },
  {
   "cell_type": "markdown",
   "metadata": {
    "nbpresent": {
     "id": "4ae7ba48-5a74-4bb8-8d7e-7cd9c78b9b1a"
    }
   },
   "source": [
    "극한 계산 결과는 특정시간 `t1`에 대한 `S(t)`의 `변화율`입니다.\n",
    "즉, `t`에 대한 `가속도`라 할 수 있으며,\n",
    "`S(t) = 5t^2 + 2t + 8` 함수의 `미분`값이 됩니다.\n",
    "\n",
    "### 5. 함수의 미분(differential) 계산\n",
    "\n",
    "함수 `y=f(x)`의 미분은 독립변수 `x`에 대한 종속변수 `y`의 변화율을 계산하는 식입니다.\n",
    "미분은 `f'(x)`나 `dy/dx`로 표현합니다.\n",
    "`sympy`의 `Derivative` 객체를 이용하여 미분을 계산 할 수 있습니다."
   ]
  },
  {
   "cell_type": "code",
   "execution_count": 23,
   "metadata": {
    "collapsed": false,
    "nbpresent": {
     "id": "9b8cd7ae-bfbb-4aa2-8e9a-3ed409bf5e30"
    }
   },
   "outputs": [
    {
     "data": {
      "text/plain": [
       "Derivative(5*t**2 + 2*t + 8, t)"
      ]
     },
     "execution_count": 23,
     "metadata": {},
     "output_type": "execute_result"
    }
   ],
   "source": [
    "from sympy import Derivative\n",
    "\n",
    "D = Derivative(S, t)\n",
    "D"
   ]
  },
  {
   "cell_type": "code",
   "execution_count": 25,
   "metadata": {
    "collapsed": false,
    "nbpresent": {
     "id": "69f1ab00-85fb-471e-982c-28a606cac060"
    }
   },
   "outputs": [
    {
     "data": {
      "text/plain": [
       "10*t + 2"
      ]
     },
     "execution_count": 25,
     "metadata": {},
     "output_type": "execute_result"
    }
   ],
   "source": [
    "Sd = D.doit()\n",
    "Sd"
   ]
  },
  {
   "cell_type": "code",
   "execution_count": 26,
   "metadata": {
    "collapsed": false,
    "nbpresent": {
     "id": "23c0879b-4767-48f5-b4cc-a561ef9f2a13"
    }
   },
   "outputs": [
    {
     "data": {
      "text/plain": [
       "10*t1 + 2"
      ]
     },
     "execution_count": 26,
     "metadata": {},
     "output_type": "execute_result"
    }
   ],
   "source": [
    "Sd.subs({t:t1})"
   ]
  },
  {
   "cell_type": "code",
   "execution_count": 27,
   "metadata": {
    "collapsed": false,
    "nbpresent": {
     "id": "573f67bc-83a4-4c58-9827-23b910b0a0e0"
    }
   },
   "outputs": [
    {
     "data": {
      "text/plain": [
       "12"
      ]
     },
     "execution_count": 27,
     "metadata": {},
     "output_type": "execute_result"
    }
   ],
   "source": [
    "Sd.subs({t:1})"
   ]
  },
  {
   "cell_type": "markdown",
   "metadata": {
    "nbpresent": {
     "id": "c132b472-3849-4f08-9974-fe0f87e59aed"
    }
   },
   "source": [
    "사용자에게 수식을 입력받아서 해당 수식의 미분을 출력하는 프로그램을 작성해 보겠습니다."
   ]
  },
  {
   "cell_type": "code",
   "execution_count": 3,
   "metadata": {
    "collapsed": false,
    "nbpresent": {
     "id": "af2f7e7e-9994-48fc-a072-810ccab63f60"
    }
   },
   "outputs": [],
   "source": [
    "from sympy import Derivative, Symbol, sympify, pprint\n",
    "from sympy.core.sympify import SympifyError\n",
    "\n",
    "def GetDifferential(f, x): return Derivative(f, x).doit()\n",
    "\n",
    "def DifferentialCalcuator():    \n",
    "    f = input('Enter a function :')\n",
    "    x = input('Enter the variable to differentiate with respect to:')\n",
    "    try:\n",
    "        f = sympify(f)\n",
    "        x = Symbol(x)\n",
    "    except SympifyError:\n",
    "        print('Invalid Input')\n",
    "    else:\n",
    "        pprint(GetDifferential(f,x))"
   ]
  },
  {
   "cell_type": "code",
   "execution_count": 4,
   "metadata": {
    "collapsed": false,
    "nbpresent": {
     "id": "724b4869-fabf-476c-907c-75a8cd64803c"
    }
   },
   "outputs": [
    {
     "name": "stdout",
     "output_type": "stream",
     "text": [
      "Enter a function :2*x**2 + 3*x + 1\n",
      "Enter the variable to differentiate with respect to:x\n",
      "4⋅x + 3\n"
     ]
    }
   ],
   "source": [
    "DifferentialCalcuator()"
   ]
  },
  {
   "cell_type": "markdown",
   "metadata": {
    "nbpresent": {
     "id": "4bed3c95-e3c3-4ff3-8ada-45c6be6ba85e"
    }
   },
   "source": [
    "변수가 2개 이상인 경우에도 정상적으로 동작하는지 확인해 보겠습니다.\n",
    "다중 변수로 이루어진 함수에서 특정 한 개의 변수만을 대상으로 미분을 하는 것을 `편미분(partial differentiation)`이라 합니다."
   ]
  },
  {
   "cell_type": "code",
   "execution_count": 5,
   "metadata": {
    "collapsed": false,
    "nbpresent": {
     "id": "0b0901b4-bd06-4169-bfa7-47c440ba634a"
    }
   },
   "outputs": [
    {
     "name": "stdout",
     "output_type": "stream",
     "text": [
      "Enter a function :2*x**2 + 3*y**2 + 6*x*y + 3\n",
      "Enter the variable to differentiate with respect to:x\n",
      "4⋅x + 6⋅y\n"
     ]
    }
   ],
   "source": [
    "DifferentialCalcuator()"
   ]
  },
  {
   "cell_type": "markdown",
   "metadata": {
    "nbpresent": {
     "id": "142b5869-4dd7-42f5-bac8-821765b1ee51"
    }
   },
   "source": [
    "### 6. 고차 미분과 최대, 최소값 구하기\n",
    "\n",
    "`Derivative` 클래스를 이용하면 기본적으로는 1차 미분의 결과가 생성됩니다.\n",
    "고차 미분을 계싼하려면 3번째 인자의 값으로 미분차수를 설정하면 됩니다.\n",
    "\n",
    "이번에는 특정 함수에서 어떤 구간에서의 최대, 최소값을 계산하기 위해서 1차와 2차 미분을 사용하는 방법을 알아보겠습니다.\n",
    "\n",
    "```\n",
    "x^5 - 30x^3 + 50x\n",
    "```\n",
    "\n",
    "위 함수에서 `[-5, 5]` 영역에서의 최대값과 최소값을 구해보겠습니다."
   ]
  },
  {
   "cell_type": "code",
   "execution_count": null,
   "metadata": {
    "collapsed": true,
    "nbpresent": {
     "id": "8ba77225-5080-4776-8c57-0812f1047ea8"
    }
   },
   "outputs": [],
   "source": []
  }
 ],
 "metadata": {
  "kernelspec": {
   "display_name": "Python [Root]",
   "language": "python",
   "name": "Python [Root]"
  },
  "language_info": {
   "codemirror_mode": {
    "name": "ipython",
    "version": 3
   },
   "file_extension": ".py",
   "mimetype": "text/x-python",
   "name": "python",
   "nbconvert_exporter": "python",
   "pygments_lexer": "ipython3",
   "version": "3.5.2"
  }
 },
 "nbformat": 4,
 "nbformat_minor": 0
}
