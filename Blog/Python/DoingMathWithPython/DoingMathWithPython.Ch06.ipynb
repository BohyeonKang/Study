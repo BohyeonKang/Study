{
 "cells": [
  {
   "cell_type": "markdown",
   "metadata": {},
   "source": [
    "# 파이썬으로 풀어보는 수학\n",
    "\n",
    "## 6장 기하학적 형상과 프랙탈 그리기\n",
    "\n",
    "### 1. MatPlotLib의 패치(patches)로 기하학적 형상 그리기\n",
    "\n",
    "앞장에서 `matplotlib`을 사용하여 그래프를 그리는 것은 많이 해봤습니다."
   ]
  },
  {
   "cell_type": "code",
   "execution_count": 1,
   "metadata": {
    "collapsed": true
   },
   "outputs": [],
   "source": [
    "import matplotlib.pyplot as plt\n",
    "\n",
    "x = [1, 2, 3]\n",
    "y = [1, 2, 3]\n",
    "\n",
    "plt.plot(x, y)\n",
    "plt.show()"
   ]
  },
  {
   "cell_type": "markdown",
   "metadata": {},
   "source": [
    "![그래프](./image/DoingMathWithPython.Ch06.01.png)\n",
    "\n",
    "우리가 명시적으로 생성하지는 않았지만 그래프를 위해 `Figure`객체와 `Axes`객체를 내부적으로 자동생성하여서 그 위에 그래프를 작성한 것입니다.\n",
    "명시적으로 `Figure`와 `Axes`객체를 생성 할 수 있습니다."
   ]
  },
  {
   "cell_type": "code",
   "execution_count": 3,
   "metadata": {
    "collapsed": false
   },
   "outputs": [
    {
     "data": {
      "text/plain": [
       "<matplotlib.figure.Figure at 0x2ae4677c9e8>"
      ]
     },
     "execution_count": 3,
     "metadata": {},
     "output_type": "execute_result"
    }
   ],
   "source": [
    "fig = plt.figure()\n",
    "fig"
   ]
  },
  {
   "cell_type": "code",
   "execution_count": 4,
   "metadata": {
    "collapsed": false
   },
   "outputs": [
    {
     "data": {
      "text/plain": [
       "<matplotlib.axes._subplots.AxesSubplot at 0x2ae46a59668>"
      ]
     },
     "execution_count": 4,
     "metadata": {},
     "output_type": "execute_result"
    }
   ],
   "source": [
    "ax = plt.axes()\n",
    "ax"
   ]
  },
  {
   "cell_type": "markdown",
   "metadata": {},
   "source": [
    "명시적 생성뿐 아니라 현재 객체에 대한 참조를 가져오는 함수도 존재합니다.\n",
    "만약 해당 객체가 존재하지 않는 상태에서는 생성을 합니다."
   ]
  },
  {
   "cell_type": "code",
   "execution_count": 5,
   "metadata": {
    "collapsed": false
   },
   "outputs": [
    {
     "data": {
      "text/plain": [
       "<matplotlib.figure.Figure at 0x2ae4677c9e8>"
      ]
     },
     "execution_count": 5,
     "metadata": {},
     "output_type": "execute_result"
    }
   ],
   "source": [
    "plt.gcf()"
   ]
  },
  {
   "cell_type": "code",
   "execution_count": 6,
   "metadata": {
    "collapsed": false
   },
   "outputs": [
    {
     "data": {
      "text/plain": [
       "<matplotlib.axes._subplots.AxesSubplot at 0x2ae46a59668>"
      ]
     },
     "execution_count": 6,
     "metadata": {},
     "output_type": "execute_result"
    }
   ],
   "source": [
    "plt.gca()"
   ]
  },
  {
   "cell_type": "markdown",
   "metadata": {},
   "source": [
    "이 얘기를 한 이유는 `matplotlib`에 도형(기하학적 형상)을 그리는데 필요하기 때문입니다.\n",
    "\n",
    "#### 원 그리기\n",
    "\n",
    "원을 생성하여 축(axes)에 추가하는 방법으로 그릴 수 있습니다."
   ]
  },
  {
   "cell_type": "code",
   "execution_count": 12,
   "metadata": {
    "collapsed": false
   },
   "outputs": [],
   "source": [
    "circle = plt.Circle((0, 0), radius = 0.5)\n",
    "plt.gca().add_patch(circle)\n",
    "plt.axis('scaled')\n",
    "plt.show()"
   ]
  },
  {
   "cell_type": "markdown",
   "metadata": {},
   "source": [
    "![원](./image/DoingMathWithPython.Ch06.02.png)\n",
    "\n",
    "패치의 색상을 변경하려면 `fc`(채우기)와 `ec`(테두리)에 색상을 전달하면 됩니다.\n",
    "원(`Circle`) 이외에 타원(`Ellipse`), 다각형(`Polygon`), 직사각형(`Rectangle`) 등의 여러가지 다른 패치도 지원합니다."
   ]
  },
  {
   "cell_type": "code",
   "execution_count": 20,
   "metadata": {
    "collapsed": false
   },
   "outputs": [],
   "source": [
    "circle = plt.Rectangle((1,1), height = 3, width = 5, fc = 'r', ec = 'g')\n",
    "plt.gca().add_patch(circle)\n",
    "plt.axis('scaled')\n",
    "plt.show()"
   ]
  },
  {
   "cell_type": "markdown",
   "metadata": {},
   "source": [
    "![사각형](./image/DoingMathWithPython.Ch06.03.png)\n",
    "\n",
    "### 2. 움직이는 그림 만들기\n",
    "\n",
    "`matplotlib`의 `animation`기능을 이용하면 움직이는 그림을 만들 수 있습니다.\n",
    "윈도우를 닫을때까지 반지름이 무한대로 커지는 원을 그려보겠습니다."
   ]
  },
  {
   "cell_type": "code",
   "execution_count": 25,
   "metadata": {
    "collapsed": false
   },
   "outputs": [],
   "source": [
    "from matplotlib import animation\n",
    "from matplotlib import pyplot as plt\n",
    "\n",
    "circle = plt.Circle((0,0), 0.05)\n",
    "\n",
    "def update_radius(i, circle):\n",
    "    circle.radius = i * 0.5\n",
    "    return circle\n",
    "\n",
    "fig = plt.gcf()\n",
    "\n",
    "ax = plt.axes(xlim=(-10,10), ylim=(-10,10))\n",
    "ax.set_aspect('equal')\n",
    "ax.add_patch(circle)\n",
    "\n",
    "ani = animation.FuncAnimation(fig, update_radius, fargs = (circle,), frames = 30, interval=50)\n",
    "\n",
    "plt.title('Simple Circle Animation')\n",
    "plt.show()"
   ]
  },
  {
   "cell_type": "markdown",
   "metadata": {},
   "source": [
    "![원 애니메이션](./image/DoingMathWithPython.Ch06.04.png)\n",
    "\n",
    "중심에서부터 원이 점점 커지는 애니메이션이 30 프레임만큼 진행된 후 후 다시 처음부터 시작하는 것을 확인할 수 있습니다.  \n",
    "`animation.FuncAnimation`에 전달되는 인자들의 목록을 살펴보겠습니다.\n",
    "\n",
    "- `fig` : 현 그림의 객체\n",
    "- `update_radius` : 프레임 번호와 프레임마다 갱신하기를 바라는 패치 객체가 전달되어서 원하는 모양으로 변경한 뒤 패치 객체를 리턴\n",
    "- `fargs` : `update_radius()`에게 전달되는 인자들의 목록 (프레임 번호는 제외)\n",
    "- `frames` : 애니메이션의 프레임 개수. 여기에 적힌 수 만큼 `update_radius()`를 호출하게 됨\n",
    "- `interval` : 프레임 간의 시간 간격 (밀리미터 단위)\n",
    "- `repeat` : `True`, `False` 값을 가질 수 있으며 애니메이션의 반복 유무를 결정. (default는 `True`)\n",
    "\n",
    "`animation.FuncAnimation` 객체를 사용하지 않으면서 변수로 저장한 이유는 가비지 컬렉터에 의해서 해제되지 않게하기 위함입니다.\n",
    "\n",
    "#### 투사체의 포물선 애니메이션\n",
    "\n",
    "2장에서 던진 공에 대한 포물선 운동 궤적을 그래프로 표시해보았습니다.\n",
    "이번에는 이를 애니메이션으로 구현해 보겠습니다.\n",
    "\n",
    "먼저 2장에서 배운 내용에 대해서 간략하게 복습해 보겠습니다.\n",
    "\n",
    "- 초기속도 : u\n",
    "- 초기던진 각도 : theta\n",
    "- x방향 속도 : u * cos(theta)\n",
    "- y방향 속도 : u * sin(theta) - gt\n",
    "\n",
    "비행시간은 y방향으로 최고점에 도달하는 시간의 2배입니다.\n",
    "최고점에 도달하는 시간은 y방향의 속도가 0이 되는 시점입니다.\n",
    "이를 `sympy`를 이용해서 풀어보겠습니다."
   ]
  },
  {
   "cell_type": "code",
   "execution_count": 2,
   "metadata": {
    "collapsed": false
   },
   "outputs": [
    {
     "name": "stdout",
     "output_type": "stream",
     "text": [
      "-g⋅t + u⋅sin(θ)\n"
     ]
    }
   ],
   "source": [
    "from sympy import Symbol, symbols, sin, cos, solve, pprint\n",
    "u, theta, g, time = symbols('u,theta,g,t')\n",
    "\n",
    "xSpeed = u * cos(theta)\n",
    "ySpeed = u * sin(theta) - g * time\n",
    "pprint(ySpeed)"
   ]
  },
  {
   "cell_type": "code",
   "execution_count": 8,
   "metadata": {
    "collapsed": false
   },
   "outputs": [
    {
     "name": "stdout",
     "output_type": "stream",
     "text": [
      "2⋅u⋅sin(θ)\n",
      "──────────\n",
      "    g     \n"
     ]
    }
   ],
   "source": [
    "s = solve(ySpeed, time)\n",
    "flightTime = s[0] * 2\n",
    "pprint(flightTime)"
   ]
  },
  {
   "cell_type": "markdown",
   "metadata": {},
   "source": [
    "- 비행시간 : 2 * u * sin(theta) / g"
   ]
  },
  {
   "cell_type": "code",
   "execution_count": 4,
   "metadata": {
    "collapsed": false
   },
   "outputs": [
    {
     "name": "stdout",
     "output_type": "stream",
     "text": [
      "t⋅u⋅cos(θ)\n"
     ]
    }
   ],
   "source": [
    "xDistance = xSpeed * time\n",
    "pprint(xDistance)"
   ]
  },
  {
   "cell_type": "code",
   "execution_count": 30,
   "metadata": {
    "collapsed": false,
    "scrolled": true
   },
   "outputs": [
    {
     "name": "stdout",
     "output_type": "stream",
     "text": [
      "     2             \n",
      "  g⋅t              \n",
      "- ──── + t⋅u⋅sin(θ)\n",
      "   2               \n"
     ]
    }
   ],
   "source": [
    "from sympy import expand\n",
    "yDistance = expand(ySpeed * time + g * time ** 2 / 2)\n",
    "pprint(yDistance)"
   ]
  },
  {
   "cell_type": "markdown",
   "metadata": {
    "collapsed": true
   },
   "source": [
    "`y`방향 이동거리는 적분을 통해서 계산을 해야하므로 유도과정은 생략하겠습니다.\n",
    "\n",
    "그럼 위 수식을 이용해서 `u`와 `theta`값이 주어졌을 경우 최대 비행시간을 구하고 그것으로 `x`축 `y`축의 최대이동 거리를 구하는 함수를 만들어 보겠습니다."
   ]
  },
  {
   "cell_type": "code",
   "execution_count": 18,
   "metadata": {
    "collapsed": false
   },
   "outputs": [
    {
     "data": {
      "text/plain": [
       "0.721537531823008"
      ]
     },
     "execution_count": 18,
     "metadata": {},
     "output_type": "execute_result"
    }
   ],
   "source": [
    "import math\n",
    "def GetFlightTime(speed, radian, gravity = 9.8):\n",
    "    radian = math.radians(radian)\n",
    "    return flightTime.subs({u: speed, theta: radian, g: gravity})\n",
    "\n",
    "GetFlightTime(5, 45)"
   ]
  },
  {
   "cell_type": "code",
   "execution_count": 36,
   "metadata": {
    "collapsed": false
   },
   "outputs": [
    {
     "data": {
      "text/plain": [
       "(2.55102040816327, 0.637755102040816)"
      ]
     },
     "execution_count": 36,
     "metadata": {},
     "output_type": "execute_result"
    }
   ],
   "source": [
    "def GetFlightDistance(speed, radian, gravity = 9.8):\n",
    "    t = GetFlightTime(speed, radian, gravity)\n",
    "    radian = math.radians(radian)\n",
    "    xDist = xDistance.subs({u: speed, theta: radian, time: t})\n",
    "    yDist = yDistance.subs({u: speed, theta: radian, time: t / 2, g: gravity})\n",
    "    return xDist, yDist\n",
    "\n",
    "GetFlightDistance(5, 45)"
   ]
  },
  {
   "cell_type": "markdown",
   "metadata": {},
   "source": [
    "`y`축은 전체시간으로 이동거리를 계산하면 0에 가까운 수가 나옵니다.\n",
    "그러니 최고 높이인 `t/2`만큼의 시간동안의 이동거리로 계산해서 화면에 표시할 최대 크기를 구해냅니다.\n",
    "이제 포물선 그래프를 그리는데 필요한 모든 계산은 끝났습니다.\n",
    "위 계산식을 이용해서 실제 비행동안의 `x`,`y`좌표들을 계산해주는 함수를 작성해 보겠습니다."
   ]
  },
  {
   "cell_type": "code",
   "execution_count": 31,
   "metadata": {
    "collapsed": false
   },
   "outputs": [],
   "source": [
    "def GetProjectilePoints(speed, radian, gravity = 9.8, step = 0.001):\n",
    "    t = GetFlightTime(speed, radian, gravity)\n",
    "    \n",
    "    radian = math.radians(radian)\n",
    "    currentTime = 0\n",
    "    xList = []\n",
    "    yList = []\n",
    "    while currentTime <= t:\n",
    "        xList.append(xDistance.subs({u: speed, theta: radian, time: currentTime}))\n",
    "        yList.append(yDistance.subs({u: speed, theta: radian, time: currentTime, g: gravity}))\n",
    "        currentTime += step\n",
    "    return xList, yList"
   ]
  },
  {
   "cell_type": "markdown",
   "metadata": {},
   "source": [
    "그냥 위 함수의 결과에 대해서 그림만 그려주면 됩니다."
   ]
  },
  {
   "cell_type": "code",
   "execution_count": 32,
   "metadata": {
    "collapsed": false
   },
   "outputs": [],
   "source": [
    "from matplotlib import pyplot as plt\n",
    "\n",
    "def DrawPlot(xList, yList):\n",
    "    plt.plot(xList, yList)\n",
    "    plt.show()\n",
    "\n",
    "def DrawProjectile(speed, radian, gravity = 9.8, step = 0.001):\n",
    "    xList, yList = GetProjectilePoints(4, 45)\n",
    "    DrawPlot(xList, yList)\n",
    "\n",
    "\n",
    "DrawProjectile(5, 45)\n"
   ]
  },
  {
   "cell_type": "markdown",
   "metadata": {},
   "source": [
    "![그래프](./image/DoingMathWithPython.Ch06.05.png)\n",
    "\n",
    "`plot`상에 그려보니 계산 과정은 제대로 되었다는 것을 확인할 수 있습니다.\n",
    "그럼 이제 원래 목적인 애니메이션으로 표현해 보겠습니다."
   ]
  },
  {
   "cell_type": "code",
   "execution_count": 45,
   "metadata": {
    "collapsed": false
   },
   "outputs": [
    {
     "name": "stdout",
     "output_type": "stream",
     "text": [
      "2.55102040816327 0.637755102040816\n"
     ]
    }
   ],
   "source": [
    "from matplotlib import animation\n",
    "\n",
    "def update_position(i, circle, step, speed, radian, gravity):\n",
    "    t = i * step\n",
    "    x = xDistance.subs({u: speed, theta: radian, time: t})\n",
    "    y = yDistance.subs({u: speed, theta: radian, time: t, g: gravity})\n",
    "    circle.center = x, y\n",
    "    return circle\n",
    "\n",
    "def AnimateProjectile(speed, radian, gravity = 9.8, step = 0.005):\n",
    "    t = GetFlightTime(speed, radian, gravity)\n",
    "    xDist, yDist = GetFlightDistance(speed, radian, gravity)\n",
    "    print(xDist,yDist)\n",
    "\n",
    "    circle = plt.Circle((0,0), 0.1)\n",
    "\n",
    "    fig = plt.gcf()\n",
    "    ax = plt.axes(xlim=(0, 3), ylim=(0, 1))\n",
    "    ax.set_aspect('equal')\n",
    "    ax.add_patch(circle)\n",
    "    \n",
    "    maxFrame = int(t / step)\n",
    "    \n",
    "    ani = animation.FuncAnimation(fig, update_position, fargs = (circle, step, speed, radian, gravity), frames = maxFrame, interval=1)\n",
    "    \n",
    "    plt.title('Projectile')\n",
    "    plt.show()\n",
    "\n",
    "AnimateProjectile(5, 45)"
   ]
  },
  {
   "cell_type": "code",
   "execution_count": null,
   "metadata": {
    "collapsed": true
   },
   "outputs": [],
   "source": []
  }
 ],
 "metadata": {
  "anaconda-cloud": {},
  "kernelspec": {
   "display_name": "Python [Root]",
   "language": "python",
   "name": "Python [Root]"
  },
  "language_info": {
   "codemirror_mode": {
    "name": "ipython",
    "version": 3
   },
   "file_extension": ".py",
   "mimetype": "text/x-python",
   "name": "python",
   "nbconvert_exporter": "python",
   "pygments_lexer": "ipython3",
   "version": "3.5.2"
  }
 },
 "nbformat": 4,
 "nbformat_minor": 0
}
