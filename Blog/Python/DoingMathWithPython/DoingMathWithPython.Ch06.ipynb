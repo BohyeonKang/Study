{
 "cells": [
  {
   "cell_type": "markdown",
   "metadata": {},
   "source": [
    "# 파이썬으로 풀어보는 수학\n",
    "\n",
    "## 6장 기하학적 형상과 프랙탈 그리기\n",
    "\n",
    "### 1. MatPlotLib의 패치(patches)로 기하학적 형상 그리기\n",
    "\n",
    "앞장에서 `matplotlib`을 사용하여 그래프를 그리는 것은 많이 해봤습니다."
   ]
  },
  {
   "cell_type": "code",
   "execution_count": 1,
   "metadata": {
    "collapsed": true
   },
   "outputs": [],
   "source": [
    "import matplotlib.pyplot as plt\n",
    "\n",
    "x = [1, 2, 3]\n",
    "y = [1, 2, 3]\n",
    "\n",
    "plt.plot(x, y)\n",
    "plt.show()"
   ]
  },
  {
   "cell_type": "markdown",
   "metadata": {},
   "source": [
    "![그래프](./image/DoingMathWithPython.Ch06.01.png)\n",
    "\n",
    "우리가 명시적으로 생성하지는 않았지만 그래프를 위해 `Figure`객체와 `Axes`객체를 내부적으로 자동생성하여서 그 위에 그래프를 작성한 것입니다.\n",
    "명시적으로 `Figure`와 `Axes`객체를 생성 할 수 있습니다."
   ]
  },
  {
   "cell_type": "code",
   "execution_count": 3,
   "metadata": {
    "collapsed": false
   },
   "outputs": [
    {
     "data": {
      "text/plain": [
       "<matplotlib.figure.Figure at 0x2ae4677c9e8>"
      ]
     },
     "execution_count": 3,
     "metadata": {},
     "output_type": "execute_result"
    }
   ],
   "source": [
    "fig = plt.figure()\n",
    "fig"
   ]
  },
  {
   "cell_type": "code",
   "execution_count": 4,
   "metadata": {
    "collapsed": false
   },
   "outputs": [
    {
     "data": {
      "text/plain": [
       "<matplotlib.axes._subplots.AxesSubplot at 0x2ae46a59668>"
      ]
     },
     "execution_count": 4,
     "metadata": {},
     "output_type": "execute_result"
    }
   ],
   "source": [
    "ax = plt.axes()\n",
    "ax"
   ]
  },
  {
   "cell_type": "markdown",
   "metadata": {},
   "source": [
    "명시적 생성뿐 아니라 현재 객체에 대한 참조를 가져오는 함수도 존재합니다.\n",
    "만약 해당 객체가 존재하지 않는 상태에서는 생성을 합니다."
   ]
  },
  {
   "cell_type": "code",
   "execution_count": 5,
   "metadata": {
    "collapsed": false
   },
   "outputs": [
    {
     "data": {
      "text/plain": [
       "<matplotlib.figure.Figure at 0x2ae4677c9e8>"
      ]
     },
     "execution_count": 5,
     "metadata": {},
     "output_type": "execute_result"
    }
   ],
   "source": [
    "plt.gcf()"
   ]
  },
  {
   "cell_type": "code",
   "execution_count": 6,
   "metadata": {
    "collapsed": false
   },
   "outputs": [
    {
     "data": {
      "text/plain": [
       "<matplotlib.axes._subplots.AxesSubplot at 0x2ae46a59668>"
      ]
     },
     "execution_count": 6,
     "metadata": {},
     "output_type": "execute_result"
    }
   ],
   "source": [
    "plt.gca()"
   ]
  },
  {
   "cell_type": "markdown",
   "metadata": {},
   "source": [
    "이 얘기를 한 이유는 `matplotlib`에 도형(기하학적 형상)을 그리는데 필요하기 때문입니다.\n",
    "\n",
    "#### 원 그리기\n",
    "\n",
    "원을 생성하여 축(axes)에 추가하는 방법으로 그릴 수 있습니다."
   ]
  },
  {
   "cell_type": "code",
   "execution_count": 12,
   "metadata": {
    "collapsed": false
   },
   "outputs": [],
   "source": [
    "circle = plt.Circle((0, 0), radius = 0.5)\n",
    "plt.gca().add_patch(circle)\n",
    "plt.axis('scaled')\n",
    "plt.show()"
   ]
  },
  {
   "cell_type": "markdown",
   "metadata": {},
   "source": [
    "![원](./image/DoingMathWithPython.Ch06.02.png)\n",
    "\n",
    "패치의 색상을 변경하려면 `fc`(채우기)와 `ec`(테두리)에 색상을 전달하면 됩니다.\n",
    "원(`Circle`) 이외에 타원(`Ellipse`), 다각형(`Polygon`), 직사각형(`Rectangle`) 등의 여러가지 다른 패치도 지원합니다."
   ]
  },
  {
   "cell_type": "code",
   "execution_count": 20,
   "metadata": {
    "collapsed": false
   },
   "outputs": [],
   "source": [
    "circle = plt.Rectangle((1,1), height = 3, width = 5, fc = 'r', ec = 'g')\n",
    "plt.gca().add_patch(circle)\n",
    "plt.axis('scaled')\n",
    "plt.show()"
   ]
  },
  {
   "cell_type": "markdown",
   "metadata": {},
   "source": [
    "![사각형](./image/DoingMathWithPython.Ch06.03.png)\n",
    "\n",
    "### 2. 움직이는 그림 만들기\n",
    "\n",
    "`matplotlib`의 `animation`기능을 이용하면 움직이는 그림을 만들 수 있습니다.\n",
    "윈도우를 닫을때까지 반지름이 무한대로 커지는 원을 그려보겠습니다."
   ]
  },
  {
   "cell_type": "code",
   "execution_count": 25,
   "metadata": {
    "collapsed": false
   },
   "outputs": [],
   "source": [
    "from matplotlib import animation\n",
    "from matplotlib import pyplot as plt\n",
    "\n",
    "circle = plt.Circle((0,0), 0.05)\n",
    "\n",
    "def update_radius(i, circle):\n",
    "    circle.radius = i * 0.5\n",
    "    return circle\n",
    "\n",
    "fig = plt.gcf()\n",
    "\n",
    "ax = plt.axes(xlim=(-10,10), ylim=(-10,10))\n",
    "ax.set_aspect('equal')\n",
    "ax.add_patch(circle)\n",
    "\n",
    "ani = animation.FuncAnimation(fig, update_radius, fargs = (circle,), frames = 30, interval=50)\n",
    "\n",
    "plt.title('Simple Circle Animation')\n",
    "plt.show()"
   ]
  },
  {
   "cell_type": "markdown",
   "metadata": {},
   "source": [
    "![원 애니메이션](./image/DoingMathWithPython.Ch06.04.png)\n",
    "\n",
    "중심에서부터 원이 점점 커지는 애니메이션이 30 프레임만큼 진행된 후 후 다시 처음부터 시작하는 것을 확인할 수 있습니다.  \n",
    "`animation.FuncAnimation`에 전달되는 인자들의 목록을 살펴보겠습니다.\n",
    "\n",
    "- `fig` : 현 그림의 객체\n",
    "- `update_radius` : 프레임 번호와 프레임마다 갱신하기를 바라는 패치 객체가 전달되어서 원하는 모양으로 변경한 뒤 패치 객체를 리턴\n",
    "- `fargs` : `update_radius()`에게 전달되는 인자들의 목록 (프레임 번호는 제외)\n",
    "- `frames` : 애니메이션의 프레임 개수. 여기에 적힌 수 만큼 `update_radius()`를 호출하게 됨\n",
    "- `interval` : 프레임 간의 시간 간격 (밀리미터 단위)\n",
    "- `repeat` : `True`, `False` 값을 가질 수 있으며 애니메이션의 반복 유무를 결정. (default는 `True`)\n",
    "\n",
    "`animation.FuncAnimation` 객체를 사용하지 않으면서 변수로 저장한 이유는 가비지 컬렉터에 의해서 해제되지 않게하기 위함입니다.\n",
    "\n",
    "#### 투사체의 포물선 애니메이션\n",
    "\n",
    "2장에서 던진 공에 대한 포물선 운동 궤적을 그래프로 표시해보았습니다.\n",
    "이번에는 이를 애니메이션으로 구현해 보겠습니다.\n",
    "\n",
    "먼저 2장에서 배운 내용에 대해서 간략하게 복습해 보겠습니다.\n",
    "\n",
    "- 초기속도 : u\n",
    "- 초기던진 각도 : theta\n",
    "- x방향 속도 : u * cos(theta)\n",
    "- y방향 속도 : u * sin(theta) - gt\n",
    "\n",
    "비행시간은 y방향으로 최고점에 도달하는 시간의 2배입니다.\n",
    "최고점에 도달하는 시간은 y방향의 속도가 0이 되는 시점입니다.\n",
    "이를 `sympy`를 이용해서 풀어보겠습니다."
   ]
  },
  {
   "cell_type": "code",
   "execution_count": 34,
   "metadata": {
    "collapsed": false
   },
   "outputs": [
    {
     "name": "stdout",
     "output_type": "stream",
     "text": [
      "-g⋅t + u⋅sin(θ)\n"
     ]
    }
   ],
   "source": [
    "from sympy import Symbol, symbols, sin, cos, solve, pprint\n",
    "u, theta, g, time = symbols('u,theta,g,t')\n",
    "\n",
    "xSpeed = u * cos(theta)\n",
    "ySpeed = u * sin(theta) - g * time\n",
    "pprint(ySpeed)"
   ]
  },
  {
   "cell_type": "code",
   "execution_count": 35,
   "metadata": {
    "collapsed": false
   },
   "outputs": [
    {
     "name": "stdout",
     "output_type": "stream",
     "text": [
      "2⋅u⋅sin(θ)\n",
      "──────────\n",
      "    g     \n"
     ]
    }
   ],
   "source": [
    "s = solve(ySpeed, time)\n",
    "pprint(s[0] * 2)"
   ]
  },
  {
   "cell_type": "markdown",
   "metadata": {},
   "source": [
    "- 비행시간 : 2 * u * sin(theta) / g\n",
    "\n",
    "이제 필요한 수식은 다 나왔습니다.\n",
    "애니메이션을 실행하기 전에 위 수식이 맞는지 확인하기 위해 포물선을 한번 그려보겠습니다."
   ]
  },
  {
   "cell_type": "code",
   "execution_count": 38,
   "metadata": {
    "collapsed": false
   },
   "outputs": [
    {
     "name": "stdout",
     "output_type": "stream",
     "text": [
      "t⋅u⋅cos(θ)\n"
     ]
    }
   ],
   "source": [
    "xDistance = xSpeed * time\n",
    "pprint(xDistance)"
   ]
  },
  {
   "cell_type": "code",
   "execution_count": 41,
   "metadata": {
    "collapsed": false
   },
   "outputs": [
    {
     "name": "stdout",
     "output_type": "stream",
     "text": [
      "     2             \n",
      "- g⋅t  + t⋅u⋅sin(θ)\n"
     ]
    }
   ],
   "source": [
    "from sympy import expand\n",
    "yDistance = expand(ySpeed * time)\n",
    "pprint(yDistance)"
   ]
  },
  {
   "cell_type": "code",
   "execution_count": null,
   "metadata": {
    "collapsed": true
   },
   "outputs": [],
   "source": []
  }
 ],
 "metadata": {
  "kernelspec": {
   "display_name": "Python 3",
   "language": "python",
   "name": "python3"
  },
  "language_info": {
   "codemirror_mode": {
    "name": "ipython",
    "version": 3
   },
   "file_extension": ".py",
   "mimetype": "text/x-python",
   "name": "python",
   "nbconvert_exporter": "python",
   "pygments_lexer": "ipython3",
   "version": "3.5.2"
  }
 },
 "nbformat": 4,
 "nbformat_minor": 0
}
