{
 "cells": [
  {
   "cell_type": "code",
   "execution_count": 1,
   "metadata": {
    "collapsed": false
   },
   "outputs": [],
   "source": [
    "from collections import defaultdict\n",
    "\n",
    "def symbol_count(file_obj):\n",
    "    freq = defaultdict(int)\n",
    "    for line in file_obj:\n",
    "        for ch in line:\n",
    "            if not ch.startswith(\"\\n\"):\n",
    "                freq[ch] += 1\n",
    "    return freq"
   ]
  },
  {
   "cell_type": "code",
   "execution_count": 2,
   "metadata": {
    "collapsed": true
   },
   "outputs": [],
   "source": [
    "file_in = open('in.txt', 'r')\n",
    "freq = symbol_count(file_in)"
   ]
  },
  {
   "cell_type": "code",
   "execution_count": 3,
   "metadata": {
    "collapsed": true
   },
   "outputs": [],
   "source": [
    "from heapq import heappush, heappop, heapify \n",
    "\n",
    "def huff_encode(freq):\n",
    "    heap = [[wt, [sym, \"\"]] for sym, wt in freq.items()]\n",
    "    heapify(heap)\n",
    "    while len(heap) > 1:\n",
    "        left = heappop(heap)\n",
    "        right = heappop(heap)\n",
    "        for pair in left[1:]:\n",
    "            pair[1] = '0' + pair[1]\n",
    "        for pair in right[1:]:\n",
    "            pair[1] = '1' + pair[1]\n",
    "        heappush(heap, [left[0] + right[0]] + left[1:] + right[1:])\n",
    "    return sorted(heappop(heap)[1:], key=lambda p: (len(p[-1]), p))"
   ]
  },
  {
   "cell_type": "code",
   "execution_count": 4,
   "metadata": {
    "collapsed": false
   },
   "outputs": [],
   "source": [
    "code = huff_encode(freq)"
   ]
  },
  {
   "cell_type": "code",
   "execution_count": 5,
   "metadata": {
    "collapsed": false
   },
   "outputs": [
    {
     "name": "stdout",
     "output_type": "stream",
     "text": [
      "Symbol\tWeight\tHuffman Code\n",
      "7\t7\t00\n",
      "8\t8\t01\n",
      "4\t4\t100\n",
      "5\t5\t101\n",
      "6\t6\t111\n",
      "3\t3\t1101\n",
      "1\t1\t11000\n",
      "2\t2\t11001\n"
     ]
    }
   ],
   "source": [
    "print \"Symbol\\tWeight\\tHuffman Code\"\n",
    "for c in code:\n",
    "    print \"%s\\t%s\\t%s\" % (c[0], freq[c[0]], c[1])"
   ]
  }
 ],
 "metadata": {
  "kernelspec": {
   "display_name": "Python 3",
   "language": "python",
   "name": "python3"
  },
  "language_info": {
   "codemirror_mode": {
    "name": "ipython",
    "version": 3
   },
   "file_extension": ".py",
   "mimetype": "text/x-python",
   "name": "python",
   "nbconvert_exporter": "python",
   "pygments_lexer": "ipython3",
   "version": "3.5.1"
  }
 },
 "nbformat": 4,
 "nbformat_minor": 0
}
