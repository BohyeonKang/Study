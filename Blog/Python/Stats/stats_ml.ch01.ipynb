{
 "cells": [
  {
   "cell_type": "code",
   "execution_count": 3,
   "metadata": {},
   "outputs": [
    {
     "data": {
      "text/html": [
       "<style>.container { width:100% !important; }</style>"
      ],
      "text/plain": [
       "<IPython.core.display.HTML object>"
      ]
     },
     "metadata": {},
     "output_type": "display_data"
    }
   ],
   "source": [
    "import pandas as pd\n",
    "import numpy as np\n",
    "from scipy import stats\n",
    "from IPython.core.display import display, HTML\n",
    "\n",
    "display(HTML(\"<style>.container { width:100% !important; }</style>\"))\n",
    "pd.set_option('display.max_rows', 1000)\n",
    "pd.set_option('display.max_columns', None)\n",
    "\n",
    "# Suppress Deprecation and Incorrect Usage Warnings\n",
    "import warnings\n",
    "warnings.filterwarnings('ignore')"
   ]
  },
  {
   "cell_type": "markdown",
   "metadata": {},
   "source": [
    "- mean : 평균\n",
    "- median : 중간값\n",
    "- mode : 최빈값 (가장 많이 나온 값)"
   ]
  },
  {
   "cell_type": "code",
   "execution_count": 21,
   "metadata": {},
   "outputs": [
    {
     "name": "stdout",
     "output_type": "stream",
     "text": [
      "Mean  :  3.92\n",
      "Median:  3.0\n",
      "Mode  : value =  2 ,quantity =  3\n"
     ]
    }
   ],
   "source": [
    "data = np.array([4,5,1,2,7,2,6,9,3,2,3,3])\n",
    "\n",
    "dt_mean = np.mean(data)\n",
    "dt_median = np.median(data)\n",
    "dt_mode = stats.mode(data)\n",
    "\n",
    "print(\"Mean  : \", round(dt_mean,2))\n",
    "print(\"Median: \", dt_median)\n",
    "print(\"Mode  : value = \", dt_mode[0][0], \",quantity = \", dt_mode[1][0])"
   ]
  },
  {
   "cell_type": "markdown",
   "metadata": {},
   "source": [
    "- Variance(분산)\n",
    "  - 전체 분산 : $\\frac { 1 }{ N } \\sum _{ i=1 }^{ N }{ { ({ x }_{ i }-\\mu ) }^{ 2 } } $\n",
    "  - 표본 분산 : $\\frac { 1 }{ N-1 } \\sum _{ i=1 }^{ N }{ { ({ x }_{ i }-\\mu ) }^{ 2 } } $\n",
    "- Standard deviation (표준편차) : 분산의 sqrt\n",
    "- Quantiles : 전체 데이터에서 특정 위치 상의 값"
   ]
  },
  {
   "cell_type": "code",
   "execution_count": 39,
   "metadata": {},
   "outputs": [
    {
     "name": "stdout",
     "output_type": "stream",
     "text": [
      "Variaiance:  400\n",
      "std.dev:  20.0\n",
      "numpy std:  19.3372409844\n",
      "Quantiles (20,80,100):  [ 39.8  77.4  93. ]\n",
      "Inter quartile range (q75 - q25) : 28.5\n"
     ]
    }
   ],
   "source": [
    "from statistics import variance, stdev\n",
    "\n",
    "game_points = np.array([35,56,43,59,63,79,35,41,64,43,93,60,77,24,82])\n",
    "\n",
    "dt_var = variance(game_points)\n",
    "print(\"Variaiance: \", dt_var)\n",
    "\n",
    "dt_std = stdev(game_points)\n",
    "print(\"std.dev: \", dt_std)\n",
    "\n",
    "dt_np_std = np.std(game_points)\n",
    "print(\"numpy std: \", dt_np_std)\n",
    "\n",
    "dt_qntls = np.percentile(game_points, [20, 80, 100])\n",
    "print(\"Quantiles (20,80,100): \", dt_qntls)\n",
    "\n",
    "    \n",
    "qs = np.percentile(game_points, [75, 25])\n",
    "print(\"Inter quartile range (q75 - q25) :\", abs(qs[0] - qs[1]))"
   ]
  },
  {
   "cell_type": "code",
   "execution_count": 46,
   "metadata": {},
   "outputs": [
    {
     "name": "stdout",
     "output_type": "stream",
     "text": [
      "Test Satiistic:  -4.38\n",
      "Critical value from t-table:  -1.699\n",
      "Lower tail p-value from t-table 7.03502572901e-05\n"
     ]
    }
   ],
   "source": [
    "xbar,  mu0, s, n = 990, 1000, 12.5, 30\n",
    "\n",
    "t_smple = (xbar-mu0) / (s/np.sqrt(n))\n",
    "print (\"Test Satiistic: \", round(t_smple,2))\n",
    "\n",
    "alpha = 0.05\n",
    "t_alpha = stats.t.ppf(alpha, n-1)\n",
    "print(\"Critical value from t-table: \", round(t_alpha,3))\n",
    "\n",
    "p_val = stats.t.sf(np.abs(t_smple), n-1)\n",
    "print(\"Lower tail p-value from t-table\", p_val)"
   ]
  },
  {
   "cell_type": "code",
   "execution_count": 47,
   "metadata": {},
   "outputs": [
    {
     "name": "stdout",
     "output_type": "stream",
     "text": [
      "Prob. to score more than 67 is  17.87 %\n"
     ]
    }
   ],
   "source": [
    "xbar, mu0, s = 67, 52, 16.3\n",
    "z = (67-52) / 16.3\n",
    "p_val = 1 - stats.norm.cdf(z)\n",
    "print(\"Prob. to score more than 67 is \", round(p_val*100,2),\"%\")"
   ]
  },
  {
   "cell_type": "code",
   "execution_count": null,
   "metadata": {},
   "outputs": [],
   "source": []
  }
 ],
 "metadata": {
  "kernelspec": {
   "display_name": "Python 3",
   "language": "python",
   "name": "python3"
  },
  "language_info": {
   "codemirror_mode": {
    "name": "ipython",
    "version": 3
   },
   "file_extension": ".py",
   "mimetype": "text/x-python",
   "name": "python",
   "nbconvert_exporter": "python",
   "pygments_lexer": "ipython3",
   "version": "3.6.4"
  }
 },
 "nbformat": 4,
 "nbformat_minor": 2
}
