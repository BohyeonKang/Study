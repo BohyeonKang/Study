{
 "cells": [
  {
   "cell_type": "code",
   "execution_count": null,
   "metadata": {
    "collapsed": true
   },
   "outputs": [],
   "source": [
    "def LCD(a, b):\n",
    "    "
   ]
  },
  {
   "cell_type": "code",
   "execution_count": 5,
   "metadata": {
    "collapsed": false
   },
   "outputs": [],
   "source": [
    "sqSum = sum(map(lambda x : x*x, range(1, 101)))"
   ]
  },
  {
   "cell_type": "code",
   "execution_count": 6,
   "metadata": {
    "collapsed": false
   },
   "outputs": [],
   "source": [
    "sumSq = sum(map(lambda x : x, range(1, 101))) ** 2"
   ]
  },
  {
   "cell_type": "code",
   "execution_count": 7,
   "metadata": {
    "collapsed": false
   },
   "outputs": [
    {
     "data": {
      "text/plain": [
       "25164150"
      ]
     },
     "execution_count": 7,
     "metadata": {},
     "output_type": "execute_result"
    }
   ],
   "source": [
    "sumSq - sqSum"
   ]
  },
  {
   "cell_type": "code",
   "execution_count": 12,
   "metadata": {
    "collapsed": false
   },
   "outputs": [
    {
     "data": {
      "text/plain": [
       "25164150"
      ]
     },
     "execution_count": 12,
     "metadata": {},
     "output_type": "execute_result"
    }
   ],
   "source": [
    "import functools\n",
    "sqSumR = functools.reduce(lambda a,b: a+b**2, range(0,101))\n",
    "sumSqR = functools.reduce(lambda a,b: a+b, range(1,101))**2\n",
    "sumSqR - sqSumR"
   ]
  },
  {
   "cell_type": "markdown",
   "metadata": {},
   "source": [
    "- 10001번째 소수 구하기"
   ]
  },
  {
   "cell_type": "code",
   "execution_count": 16,
   "metadata": {
    "collapsed": false
   },
   "outputs": [
    {
     "name": "stdout",
     "output_type": "stream",
     "text": [
      "104743\n"
     ]
    }
   ],
   "source": [
    "prime = [2]\n",
    "num = 3\n",
    "while True:\n",
    "    is_prime = True\n",
    "    for n in prime:\n",
    "        if num % n == 0:\n",
    "            is_prime = False\n",
    "            break\n",
    "            \n",
    "    if is_prime == True:\n",
    "        prime.append(num)\n",
    "        \n",
    "    num += 2\n",
    "    \n",
    "    if len(prime) == 10001:\n",
    "        break\n",
    "\n",
    "print(prime[-1])           "
   ]
  },
  {
   "cell_type": "markdown",
   "metadata": {},
   "source": [
    "- 제곱근으로 나누어도 같은 결과\n",
    "  - ex. 16의 경우 제곱은은 4\n",
    "  - 16을 4보다 큰 수로 나누면 몫이 4보다 작기 때문에 이미 비교한 값이 된다."
   ]
  },
  {
   "cell_type": "code",
   "execution_count": 29,
   "metadata": {
    "collapsed": false
   },
   "outputs": [
    {
     "name": "stdout",
     "output_type": "stream",
     "text": [
      "104569\n"
     ]
    }
   ],
   "source": [
    "import math\n",
    "\n",
    "prime = [2]\n",
    "num = 3\n",
    "while True:\n",
    "    is_prime = True\n",
    "    numSqrt = int(math.sqrt(num))\n",
    "    for n in prime:\n",
    "        if numSqrt > n and numSqrt % n == 0:\n",
    "            is_prime = False\n",
    "            break\n",
    "            \n",
    "    if is_prime == True:\n",
    "        prime.append(num)\n",
    "        \n",
    "    num += 2\n",
    "    \n",
    "    if len(prime) == 10001:\n",
    "        break\n",
    "\n",
    "print(prime[-1])           "
   ]
  },
  {
   "cell_type": "code",
   "execution_count": 26,
   "metadata": {
    "collapsed": false
   },
   "outputs": [
    {
     "data": {
      "text/plain": [
       "3.1622776601683795"
      ]
     },
     "execution_count": 26,
     "metadata": {},
     "output_type": "execute_result"
    }
   ],
   "source": [
    "import math\n",
    "math.sqrt(10)"
   ]
  },
  {
   "cell_type": "code",
   "execution_count": 24,
   "metadata": {
    "collapsed": false
   },
   "outputs": [
    {
     "data": {
      "text/plain": [
       "1366"
      ]
     },
     "execution_count": 24,
     "metadata": {},
     "output_type": "execute_result"
    }
   ],
   "source": [
    "sum([int(c) for c in str(2**1000)])"
   ]
  },
  {
   "cell_type": "code",
   "execution_count": 34,
   "metadata": {
    "collapsed": false
   },
   "outputs": [
    {
     "data": {
      "text/plain": [
       "648"
      ]
     },
     "execution_count": 34,
     "metadata": {},
     "output_type": "execute_result"
    }
   ],
   "source": [
    "import functools\n",
    "num = functools.reduce(lambda a,b : a*b , range(1,101))\n",
    "sum([int(c) for c in str(num)])"
   ]
  },
  {
   "cell_type": "code",
   "execution_count": null,
   "metadata": {
    "collapsed": true
   },
   "outputs": [],
   "source": []
  }
 ],
 "metadata": {
  "anaconda-cloud": {},
  "kernelspec": {
   "display_name": "Python [conda root]",
   "language": "python",
   "name": "conda-root-py"
  },
  "language_info": {
   "codemirror_mode": {
    "name": "ipython",
    "version": 3
   },
   "file_extension": ".py",
   "mimetype": "text/x-python",
   "name": "python",
   "nbconvert_exporter": "python",
   "pygments_lexer": "ipython3",
   "version": "3.5.2"
  }
 },
 "nbformat": 4,
 "nbformat_minor": 1
}
