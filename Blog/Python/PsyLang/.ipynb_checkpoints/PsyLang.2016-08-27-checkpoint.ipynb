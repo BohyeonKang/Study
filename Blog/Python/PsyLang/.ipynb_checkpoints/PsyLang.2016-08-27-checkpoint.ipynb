{
 "cells": [
  {
   "cell_type": "markdown",
   "metadata": {},
   "source": [
    "Crowler를 이용해서 가져온 data를 directory에 생성하여 저장\n",
    "\n",
    "1. directory의 데이터를 다른 directory로 복사\n",
    "2. 제목, 가수, 본문 를 csv파일로 저장\n",
    "3. NLTK 사용해서\n"
   ]
  },
  {
   "cell_type": "markdown",
   "metadata": {},
   "source": [
    "<https://github.com/comp-journalism/UMD-J479V-J779V-Spring2016/blob/master/Weekly/Week_3/text-analysis.ipynb>"
   ]
  },
  {
   "cell_type": "code",
   "execution_count": 1,
   "metadata": {
    "collapsed": true
   },
   "outputs": [],
   "source": [
    "import re, requests\n",
    "from urllib.request import urlopen\n",
    "import csv\n",
    "\n",
    "#가사 get function\n",
    "def getLyrics(url):\n",
    "    html = urlopen(url);\n",
    "    html_str = html.read().decode('UTF-8').lower();\n",
    "    html_lyric = re.findall(r'<p>(.+?)</p>', html_str);\n",
    "    real_lyric = html_lyric[0].split('<br>');\n",
    "    return real_lyric;\n",
    "    \n",
    "#파일 write function\n",
    "def writeFile(contents):\n",
    "    fileOpen = open('maroon5.csv', 'w', encoding ='utf-8');\n",
    "    wrtInIfile = csv.writer(fileOpen, delimiter='\\n');\n",
    "    wrtInIfile.writerow(contents);\n",
    "    #wrtInIfile.close();\n",
    "\n",
    "url = 'http://www.lyrics.co.kr/?p=134456';    \n",
    "rtnLyric = getLyrics(url);\n",
    "writeFile(rtnLyric);"
   ]
  },
  {
   "cell_type": "code",
   "execution_count": 9,
   "metadata": {
    "collapsed": false
   },
   "outputs": [],
   "source": [
    "from importlib import reload\n",
    "import cr\n",
    "import os"
   ]
  },
  {
   "cell_type": "code",
   "execution_count": 12,
   "metadata": {
    "collapsed": false
   },
   "outputs": [
    {
     "data": {
      "text/plain": [
       "<module 'cr' from '/Users/seokjoonyun/Github/Study/Blog/Python/PsyLang/cr.py'>"
      ]
     },
     "execution_count": 12,
     "metadata": {},
     "output_type": "execute_result"
    }
   ],
   "source": [
    "reload(cr)"
   ]
  },
  {
   "cell_type": "code",
   "execution_count": 32,
   "metadata": {
    "collapsed": false
   },
   "outputs": [
    {
     "name": "stdout",
     "output_type": "stream",
     "text": [
      "done\n"
     ]
    }
   ],
   "source": [
    "cr.crawling()"
   ]
  },
  {
   "cell_type": "code",
   "execution_count": 13,
   "metadata": {
    "collapsed": false
   },
   "outputs": [
    {
     "name": "stdout",
     "output_type": "stream",
     "text": [
      "done\n"
     ]
    }
   ],
   "source": [
    "cr.tagging()"
   ]
  },
  {
   "cell_type": "code",
   "execution_count": null,
   "metadata": {
    "collapsed": true
   },
   "outputs": [],
   "source": []
  }
 ],
 "metadata": {
  "anaconda-cloud": {},
  "kernelspec": {
   "display_name": "Python [conda root]",
   "language": "python",
   "name": "conda-root-py"
  },
  "language_info": {
   "codemirror_mode": {
    "name": "ipython",
    "version": 3
   },
   "file_extension": ".py",
   "mimetype": "text/x-python",
   "name": "python",
   "nbconvert_exporter": "python",
   "pygments_lexer": "ipython3",
   "version": "3.5.2"
  }
 },
 "nbformat": 4,
 "nbformat_minor": 1
}
