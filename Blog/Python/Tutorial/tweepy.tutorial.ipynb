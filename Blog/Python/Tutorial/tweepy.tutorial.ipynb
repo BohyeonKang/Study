{
 "cells": [
  {
   "cell_type": "code",
   "execution_count": 3,
   "metadata": {
    "collapsed": true
   },
   "outputs": [],
   "source": [
    "import tweepy\n",
    "\n",
    "consumer_key = 'kxJvgB8thUuotglZhDfvSYcTm'\n",
    "consumer_skey = 'xlARFgVCmXxAObKcUj6etVlB6US32qx9WVF9hSK6rVChgr4QPG'\n",
    "access_token = '198787753-Yycl6CCi2XXeb0qN4IHvhZw0VZ6xYOyqRcYxHTNw'\n",
    "access_stoken = 'uMDKgkAqf0hvh6hlmeWqROGYEFCekD592GPbeCVg6lsaa'"
   ]
  },
  {
   "cell_type": "code",
   "execution_count": null,
   "metadata": {
    "collapsed": false
   },
   "outputs": [],
   "source": [
    "class listener(tweepy.StreamListener):\n",
    "    def on_data(self,data):\n",
    "        print(data)\n",
    "        return data\n",
    "    \n",
    "    def on_err(self, status):\n",
    "        print(status)"
   ]
  },
  {
   "cell_type": "code",
   "execution_count": null,
   "metadata": {
    "collapsed": false
   },
   "outputs": [],
   "source": [
    "auth = tweepy.OAuthHandler(consumer_key, consumer_skey)\n",
    "auth.set_access_token(access_token, access_stoken)"
   ]
  },
  {
   "cell_type": "markdown",
   "metadata": {},
   "source": [
    "- 아래 라인 함부로 실행하면 무한 응답"
   ]
  },
  {
   "cell_type": "code",
   "execution_count": null,
   "metadata": {
    "collapsed": false
   },
   "outputs": [],
   "source": [
    "twitterStreaming = tweepy.Stream(auth, listener())\n",
    "twitterStreaming.filter(track=(\"[korea]\"))"
   ]
  },
  {
   "cell_type": "code",
   "execution_count": 4,
   "metadata": {
    "collapsed": false
   },
   "outputs": [],
   "source": [
    "import json\n",
    "import re\n",
    "import sys"
   ]
  },
  {
   "cell_type": "code",
   "execution_count": 5,
   "metadata": {
    "collapsed": true
   },
   "outputs": [],
   "source": [
    "def get_api():\n",
    "    auth = tweepy.OAuthHandler(consumer_key, consumer_skey)\n",
    "    auth.set_access_token(access_token, access_stoken)\n",
    "    return auth"
   ]
  },
  {
   "cell_type": "code",
   "execution_count": 8,
   "metadata": {
    "collapsed": false
   },
   "outputs": [],
   "source": [
    "class CustomStreamListener(tweepy.StreamListener):\n",
    "    def __init__(self, *args, **kwargs):\n",
    "        super(CustomStreamListener, self).__init__(*args, **kwargs)\n",
    "        self.count = 0\n",
    "        with open('restrict.word') as f:\n",
    "            self.common = set(line.strip() for line in f)\n",
    "        self.all_words = {}\n",
    "        self.pattern = re.compile(\"[^\\w]\")\n",
    "    \n",
    "    def on_status(self, status):\n",
    "        print('Got a Tweet')\n",
    "        self.count += 1\n",
    "        tweet = status.text\n",
    "        tweet = self.pattern.sub(' ', tweet)\n",
    "        words = tweet.split()\n",
    "        for word in words:\n",
    "            if len(word) > 2 and word != '' and word not in self.common:\n",
    "                if word not in self.all_words:\n",
    "                    self.all_words[word] = 1\n",
    "                else:\n",
    "                    self.all_words[word] += 1"
   ]
  },
  {
   "cell_type": "code",
   "execution_count": 13,
   "metadata": {
    "collapsed": false
   },
   "outputs": [
    {
     "name": "stdout",
     "output_type": "stream",
     "text": [
      "Got a Tweet\n",
      "Got a Tweet\n",
      "Got a Tweet\n",
      "Got a Tweet\n",
      "Got a Tweet\n",
      "Got a Tweet\n",
      "Got a Tweet\n",
      "-----total tweets-----\n",
      "7\n",
      "obamacare\n"
     ]
    }
   ],
   "source": [
    "if __name__ == '__main__':\n",
    "    l = CustomStreamListener()\n",
    "    try:\n",
    "        auth = get_api()\n",
    "        s = 'obamacare'\n",
    "        twitterStreaming = tweepy.Stream(auth, l)\n",
    "        twitterStreaming.filter(track=[s])\n",
    "    except KeyboardInterrupt:\n",
    "        print('-----total tweets-----')\n",
    "        print(l.count)\n",
    "        json_data =json.dumps(l.all_words, indent=4)\n",
    "        with open('word_data.json', 'w') as f:\n",
    "            print(json_data, file=f)\n",
    "            print(s)"
   ]
  },
  {
   "cell_type": "code",
   "execution_count": null,
   "metadata": {
    "collapsed": true
   },
   "outputs": [],
   "source": []
  }
 ],
 "metadata": {
  "anaconda-cloud": {},
  "kernelspec": {
   "display_name": "Python [conda root]",
   "language": "python",
   "name": "conda-root-py"
  },
  "language_info": {
   "codemirror_mode": {
    "name": "ipython",
    "version": 3
   },
   "file_extension": ".py",
   "mimetype": "text/x-python",
   "name": "python",
   "nbconvert_exporter": "python",
   "pygments_lexer": "ipython3",
   "version": "3.5.2"
  }
 },
 "nbformat": 4,
 "nbformat_minor": 1
}
