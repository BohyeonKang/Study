{
 "cells": [
  {
   "cell_type": "markdown",
   "metadata": {},
   "source": [
    "# pandas ..."
   ]
  },
  {
   "cell_type": "markdown",
   "metadata": {},
   "source": [
    ".. is a Python package providing fast, flexible, and expressive data structures designed to make working with “relational” or “labeled” data both easy and intuitive. It aims to be the fundamental high-level building block for doing practical, real world data analysis in Python. Additionally, it has the broader goal of becoming the most powerful and flexible open source data analysis / manipulation tool available in any language. It is already well on its way toward this goal."
   ]
  },
  {
   "cell_type": "markdown",
   "metadata": {},
   "source": [
    "# 10분짜리 Pandas 따라하기"
   ]
  },
  {
   "cell_type": "markdown",
   "metadata": {},
   "source": [
    "http://pandas.pydata.org/pandas-docs/stable/10min.html"
   ]
  },
  {
   "cell_type": "raw",
   "metadata": {},
   "source": [
    "In [1]: import pandas as pd\n",
    "\n",
    "In [2]: import numpy as np\n",
    "\n",
    "In [3]: import matplotlib.pyplot as plt"
   ]
  },
  {
   "cell_type": "code",
   "execution_count": 1,
   "metadata": {
    "collapsed": true
   },
   "outputs": [],
   "source": [
    "import pandas as pd\n",
    "import numpy as np\n",
    "import matplotlib.pyplot as plt"
   ]
  },
  {
   "cell_type": "markdown",
   "metadata": {},
   "source": [
    "- pandas를 구동 하기 위한 기본 imclude 들이다.  \n",
    "- ipython 이나 jupyter를 이용하기 때문에, %pylab 명령을 이용하여 2번째, 3번째 과정을 생략하기도 한다.  \n",
    "- pandas 내부는 C로 컴파일 되어 있고, 연산속도 가속을 위하여 일부 명령에 GIL 해제 하기도 한다\n"
   ]
  },
  {
   "cell_type": "markdown",
   "metadata": {},
   "source": [
    "## 객체 생성"
   ]
  },
  {
   "cell_type": "raw",
   "metadata": {},
   "source": [
    "In [4]: s = pd.Series([1,3,5,np.nan,6,8])\n",
    "\n",
    "In [5]: s\n",
    "Out[5]: \n",
    "0    1.0\n",
    "1    3.0\n",
    "2    5.0\n",
    "3    NaN\n",
    "4    6.0\n",
    "5    8.0\n",
    "dtype: float64"
   ]
  },
  {
   "cell_type": "code",
   "execution_count": 2,
   "metadata": {
    "collapsed": false
   },
   "outputs": [
    {
     "data": {
      "text/plain": [
       "0    1.0\n",
       "1    3.0\n",
       "2    5.0\n",
       "3    NaN\n",
       "4    6.0\n",
       "5    8.0\n",
       "dtype: float64"
      ]
     },
     "execution_count": 2,
     "metadata": {},
     "output_type": "execute_result"
    }
   ],
   "source": [
    "pd.Series([1,3,5,np.nan,6,8])"
   ]
  },
  {
   "cell_type": "markdown",
   "metadata": {},
   "source": [
    "판다스는 기본 Series라는 단위로 이루어져 있고,  \n",
    "Index와 Data로 이루어진 1차원 데이터다  \n",
    "입력이 가능한 데이터형은 Python object 구체적인 제약은 없다.\n",
    "\n",
    "list형, ndarray, dict 형을 주로 쓰는데, dict형은 key가 Index로 차용된다\n",
    "\n"
   ]
  },
  {
   "cell_type": "raw",
   "metadata": {},
   "source": [
    "In [6]: dates = pd.date_range('20130101', periods=6)\n",
    "\n",
    "In [7]: dates\n",
    "Out[7]: \n",
    "DatetimeIndex(['2013-01-01', '2013-01-02', '2013-01-03', '2013-01-04',\n",
    "               '2013-01-05', '2013-01-06'],\n",
    "              dtype='datetime64[ns]', freq='D')\n",
    "\n",
    "In [8]: df = pd.DataFrame(np.random.randn(6,4), index=dates, columns=list('ABCD'))\n",
    "\n",
    "In [9]: df\n",
    "Out[9]: \n",
    "                   A         B         C         D\n",
    "2013-01-01  0.469112 -0.282863 -1.509059 -1.135632\n",
    "2013-01-02  1.212112 -0.173215  0.119209 -1.044236\n",
    "2013-01-03 -0.861849 -2.104569 -0.494929  1.071804\n",
    "2013-01-04  0.721555 -0.706771 -1.039575  0.271860\n",
    "2013-01-05 -0.424972  0.567020  0.276232 -1.087401\n",
    "2013-01-06 -0.673690  0.113648 -1.478427  0.524988"
   ]
  },
  {
   "cell_type": "code",
   "execution_count": 3,
   "metadata": {
    "collapsed": false
   },
   "outputs": [
    {
     "data": {
      "text/plain": [
       "DatetimeIndex(['2013-01-01', '2013-01-02', '2013-01-03', '2013-01-04',\n",
       "               '2013-01-05', '2013-01-06'],\n",
       "              dtype='datetime64[ns]', freq='D')"
      ]
     },
     "execution_count": 3,
     "metadata": {},
     "output_type": "execute_result"
    }
   ],
   "source": [
    "dates = pd.date_range('20130101', periods=6)\n",
    "dates"
   ]
  },
  {
   "cell_type": "code",
   "execution_count": 4,
   "metadata": {
    "collapsed": false
   },
   "outputs": [
    {
     "data": {
      "text/html": [
       "<div>\n",
       "<table border=\"1\" class=\"dataframe\">\n",
       "  <thead>\n",
       "    <tr style=\"text-align: right;\">\n",
       "      <th></th>\n",
       "      <th>A</th>\n",
       "      <th>B</th>\n",
       "      <th>C</th>\n",
       "      <th>D</th>\n",
       "    </tr>\n",
       "  </thead>\n",
       "  <tbody>\n",
       "    <tr>\n",
       "      <th>2013-01-01</th>\n",
       "      <td>1.154742</td>\n",
       "      <td>0.057738</td>\n",
       "      <td>0.599295</td>\n",
       "      <td>0.118682</td>\n",
       "    </tr>\n",
       "    <tr>\n",
       "      <th>2013-01-02</th>\n",
       "      <td>-0.901598</td>\n",
       "      <td>-1.678151</td>\n",
       "      <td>-0.999941</td>\n",
       "      <td>-0.123828</td>\n",
       "    </tr>\n",
       "    <tr>\n",
       "      <th>2013-01-03</th>\n",
       "      <td>-0.561013</td>\n",
       "      <td>-2.697689</td>\n",
       "      <td>0.934477</td>\n",
       "      <td>1.654450</td>\n",
       "    </tr>\n",
       "    <tr>\n",
       "      <th>2013-01-04</th>\n",
       "      <td>-1.326012</td>\n",
       "      <td>-0.396102</td>\n",
       "      <td>-1.688932</td>\n",
       "      <td>1.255778</td>\n",
       "    </tr>\n",
       "    <tr>\n",
       "      <th>2013-01-05</th>\n",
       "      <td>-0.156187</td>\n",
       "      <td>1.911771</td>\n",
       "      <td>-0.703772</td>\n",
       "      <td>0.404378</td>\n",
       "    </tr>\n",
       "    <tr>\n",
       "      <th>2013-01-06</th>\n",
       "      <td>0.418046</td>\n",
       "      <td>-0.742095</td>\n",
       "      <td>1.127069</td>\n",
       "      <td>0.699684</td>\n",
       "    </tr>\n",
       "  </tbody>\n",
       "</table>\n",
       "</div>"
      ],
      "text/plain": [
       "                   A         B         C         D\n",
       "2013-01-01  1.154742  0.057738  0.599295  0.118682\n",
       "2013-01-02 -0.901598 -1.678151 -0.999941 -0.123828\n",
       "2013-01-03 -0.561013 -2.697689  0.934477  1.654450\n",
       "2013-01-04 -1.326012 -0.396102 -1.688932  1.255778\n",
       "2013-01-05 -0.156187  1.911771 -0.703772  0.404378\n",
       "2013-01-06  0.418046 -0.742095  1.127069  0.699684"
      ]
     },
     "execution_count": 4,
     "metadata": {},
     "output_type": "execute_result"
    }
   ],
   "source": [
    "df = pd.DataFrame(np.random.randn(6,4), index=dates, columns=list('ABCD'))\n",
    "df"
   ]
  },
  {
   "cell_type": "markdown",
   "metadata": {},
   "source": [
    "DataFrame은 Series가 병렬로 전개 되어 있는 형태이고,   \n",
    "R 의 data.frame 과 유사 기능을 한다   \n",
    "판다스 내부에 TimeSeries 데이터형이 내장 되어 있어, 시계열 분석에 Index를 제공하기도 한다"
   ]
  },
  {
   "cell_type": "raw",
   "metadata": {},
   "source": [
    "In [10]: df2 = pd.DataFrame({ 'A' : 1.,\n",
    "   ....:                      'B' : pd.Timestamp('20130102'),\n",
    "   ....:                      'C' : pd.Series(1,index=list(range(4)),dtype='float32'),\n",
    "   ....:                      'D' : np.array([3] * 4,dtype='int32'),\n",
    "   ....:                      'E' : pd.Categorical([\"test\",\"train\",\"test\",\"train\"]),\n",
    "   ....:                      'F' : 'foo' })\n",
    "   ....: \n",
    "\n",
    "In [11]: df2\n",
    "Out[11]: \n",
    "     A          B    C  D      E    F\n",
    "0  1.0 2013-01-02  1.0  3   test  foo\n",
    "1  1.0 2013-01-02  1.0  3  train  foo\n",
    "2  1.0 2013-01-02  1.0  3   test  foo\n",
    "3  1.0 2013-01-02  1.0  3  train  foo"
   ]
  },
  {
   "cell_type": "code",
   "execution_count": 6,
   "metadata": {
    "collapsed": false
   },
   "outputs": [
    {
     "data": {
      "text/html": [
       "<div>\n",
       "<table border=\"1\" class=\"dataframe\">\n",
       "  <thead>\n",
       "    <tr style=\"text-align: right;\">\n",
       "      <th></th>\n",
       "      <th>A</th>\n",
       "      <th>B</th>\n",
       "      <th>C</th>\n",
       "      <th>D</th>\n",
       "      <th>E</th>\n",
       "      <th>F</th>\n",
       "    </tr>\n",
       "  </thead>\n",
       "  <tbody>\n",
       "    <tr>\n",
       "      <th>0</th>\n",
       "      <td>1.0</td>\n",
       "      <td>2013-01-02</td>\n",
       "      <td>1.0</td>\n",
       "      <td>3</td>\n",
       "      <td>test</td>\n",
       "      <td>foo</td>\n",
       "    </tr>\n",
       "    <tr>\n",
       "      <th>1</th>\n",
       "      <td>1.0</td>\n",
       "      <td>2013-01-02</td>\n",
       "      <td>1.0</td>\n",
       "      <td>3</td>\n",
       "      <td>train</td>\n",
       "      <td>foo</td>\n",
       "    </tr>\n",
       "    <tr>\n",
       "      <th>2</th>\n",
       "      <td>1.0</td>\n",
       "      <td>2013-01-02</td>\n",
       "      <td>1.0</td>\n",
       "      <td>3</td>\n",
       "      <td>test</td>\n",
       "      <td>foo</td>\n",
       "    </tr>\n",
       "    <tr>\n",
       "      <th>3</th>\n",
       "      <td>1.0</td>\n",
       "      <td>2013-01-02</td>\n",
       "      <td>1.0</td>\n",
       "      <td>3</td>\n",
       "      <td>train</td>\n",
       "      <td>foo</td>\n",
       "    </tr>\n",
       "  </tbody>\n",
       "</table>\n",
       "</div>"
      ],
      "text/plain": [
       "     A          B    C  D      E    F\n",
       "0  1.0 2013-01-02  1.0  3   test  foo\n",
       "1  1.0 2013-01-02  1.0  3  train  foo\n",
       "2  1.0 2013-01-02  1.0  3   test  foo\n",
       "3  1.0 2013-01-02  1.0  3  train  foo"
      ]
     },
     "execution_count": 6,
     "metadata": {},
     "output_type": "execute_result"
    }
   ],
   "source": [
    "df2 = pd.DataFrame({ 'A' : 1.,\n",
    "                      'B' : pd.Timestamp('20130102'),\n",
    "                      'C' : pd.Series(1,index=list(range(4)),dtype='float32'),\n",
    "                      'D' : np.array([3] * 4,dtype='int32'),\n",
    "                      'E' : pd.Categorical([\"test\",\"train\",\"test\",\"train\"]),\n",
    "                      'F' : 'foo' })\n",
    "df2"
   ]
  },
  {
   "cell_type": "markdown",
   "metadata": {},
   "source": [
    "DataFrame에서 Dict를 초기 데이터로 넘길 때는 key가 Column 역할을 한다  \n",
    "각 데이터의 길이가 다를 경우에는,  \n",
    "길이가 짧은 경우 None 으로 처리 되거나,   \n",
    "혹은 특정 값으로 복사 전개 시키는 것이 일반적이고,  \n",
    "나중에, 비어있는 자료는 해당 Index 행을 삭제하거나, 각종 보간 함수들을 이용할 수 있다\n",
    "\n",
    "\n",
    "\n"
   ]
  },
  {
   "cell_type": "raw",
   "metadata": {},
   "source": [
    "In [12]: df2.dtypes\n",
    "Out[12]: \n",
    "A           float64\n",
    "B    datetime64[ns]\n",
    "C           float32\n",
    "D             int32\n",
    "E          category\n",
    "F            object\n",
    "dtype: object"
   ]
  },
  {
   "cell_type": "code",
   "execution_count": 7,
   "metadata": {
    "collapsed": false
   },
   "outputs": [
    {
     "data": {
      "text/plain": [
       "A           float64\n",
       "B    datetime64[ns]\n",
       "C           float32\n",
       "D             int32\n",
       "E          category\n",
       "F            object\n",
       "dtype: object"
      ]
     },
     "execution_count": 7,
     "metadata": {},
     "output_type": "execute_result"
    }
   ],
   "source": [
    "df2.dtypes"
   ]
  },
  {
   "cell_type": "markdown",
   "metadata": {},
   "source": [
    "데이터형을 생성 당시 명시하지 않으면 \"object\"로 간주한다  \n",
    "그러나 실제 연산을 수행할 때, 자동으로 type을 판단하여 진행한다 \n",
    "\n",
    "\n",
    "\n"
   ]
  },
  {
   "cell_type": "markdown",
   "metadata": {},
   "source": [
    "## 데이터 훑어보기"
   ]
  },
  {
   "cell_type": "raw",
   "metadata": {},
   "source": [
    "In [14]: df.head()\n",
    "Out[14]: \n",
    "                   A         B         C         D\n",
    "2013-01-01  0.469112 -0.282863 -1.509059 -1.135632\n",
    "2013-01-02  1.212112 -0.173215  0.119209 -1.044236\n",
    "2013-01-03 -0.861849 -2.104569 -0.494929  1.071804\n",
    "2013-01-04  0.721555 -0.706771 -1.039575  0.271860\n",
    "2013-01-05 -0.424972  0.567020  0.276232 -1.087401\n",
    "\n",
    "In [15]: df.tail(3)\n",
    "Out[15]: \n",
    "                   A         B         C         D\n",
    "2013-01-04  0.721555 -0.706771 -1.039575  0.271860\n",
    "2013-01-05 -0.424972  0.567020  0.276232 -1.087401\n",
    "2013-01-06 -0.673690  0.113648 -1.478427  0.524988"
   ]
  },
  {
   "cell_type": "code",
   "execution_count": 8,
   "metadata": {
    "collapsed": false
   },
   "outputs": [
    {
     "data": {
      "text/html": [
       "<div>\n",
       "<table border=\"1\" class=\"dataframe\">\n",
       "  <thead>\n",
       "    <tr style=\"text-align: right;\">\n",
       "      <th></th>\n",
       "      <th>A</th>\n",
       "      <th>B</th>\n",
       "      <th>C</th>\n",
       "      <th>D</th>\n",
       "    </tr>\n",
       "  </thead>\n",
       "  <tbody>\n",
       "    <tr>\n",
       "      <th>2013-01-01</th>\n",
       "      <td>1.154742</td>\n",
       "      <td>0.057738</td>\n",
       "      <td>0.599295</td>\n",
       "      <td>0.118682</td>\n",
       "    </tr>\n",
       "    <tr>\n",
       "      <th>2013-01-02</th>\n",
       "      <td>-0.901598</td>\n",
       "      <td>-1.678151</td>\n",
       "      <td>-0.999941</td>\n",
       "      <td>-0.123828</td>\n",
       "    </tr>\n",
       "    <tr>\n",
       "      <th>2013-01-03</th>\n",
       "      <td>-0.561013</td>\n",
       "      <td>-2.697689</td>\n",
       "      <td>0.934477</td>\n",
       "      <td>1.654450</td>\n",
       "    </tr>\n",
       "    <tr>\n",
       "      <th>2013-01-04</th>\n",
       "      <td>-1.326012</td>\n",
       "      <td>-0.396102</td>\n",
       "      <td>-1.688932</td>\n",
       "      <td>1.255778</td>\n",
       "    </tr>\n",
       "    <tr>\n",
       "      <th>2013-01-05</th>\n",
       "      <td>-0.156187</td>\n",
       "      <td>1.911771</td>\n",
       "      <td>-0.703772</td>\n",
       "      <td>0.404378</td>\n",
       "    </tr>\n",
       "    <tr>\n",
       "      <th>2013-01-06</th>\n",
       "      <td>0.418046</td>\n",
       "      <td>-0.742095</td>\n",
       "      <td>1.127069</td>\n",
       "      <td>0.699684</td>\n",
       "    </tr>\n",
       "  </tbody>\n",
       "</table>\n",
       "</div>"
      ],
      "text/plain": [
       "                   A         B         C         D\n",
       "2013-01-01  1.154742  0.057738  0.599295  0.118682\n",
       "2013-01-02 -0.901598 -1.678151 -0.999941 -0.123828\n",
       "2013-01-03 -0.561013 -2.697689  0.934477  1.654450\n",
       "2013-01-04 -1.326012 -0.396102 -1.688932  1.255778\n",
       "2013-01-05 -0.156187  1.911771 -0.703772  0.404378\n",
       "2013-01-06  0.418046 -0.742095  1.127069  0.699684"
      ]
     },
     "execution_count": 8,
     "metadata": {},
     "output_type": "execute_result"
    }
   ],
   "source": [
    "df"
   ]
  },
  {
   "cell_type": "code",
   "execution_count": 9,
   "metadata": {
    "collapsed": false
   },
   "outputs": [
    {
     "data": {
      "text/html": [
       "<div>\n",
       "<table border=\"1\" class=\"dataframe\">\n",
       "  <thead>\n",
       "    <tr style=\"text-align: right;\">\n",
       "      <th></th>\n",
       "      <th>A</th>\n",
       "      <th>B</th>\n",
       "      <th>C</th>\n",
       "      <th>D</th>\n",
       "    </tr>\n",
       "  </thead>\n",
       "  <tbody>\n",
       "    <tr>\n",
       "      <th>2013-01-01</th>\n",
       "      <td>1.154742</td>\n",
       "      <td>0.057738</td>\n",
       "      <td>0.599295</td>\n",
       "      <td>0.118682</td>\n",
       "    </tr>\n",
       "    <tr>\n",
       "      <th>2013-01-02</th>\n",
       "      <td>-0.901598</td>\n",
       "      <td>-1.678151</td>\n",
       "      <td>-0.999941</td>\n",
       "      <td>-0.123828</td>\n",
       "    </tr>\n",
       "    <tr>\n",
       "      <th>2013-01-03</th>\n",
       "      <td>-0.561013</td>\n",
       "      <td>-2.697689</td>\n",
       "      <td>0.934477</td>\n",
       "      <td>1.654450</td>\n",
       "    </tr>\n",
       "    <tr>\n",
       "      <th>2013-01-04</th>\n",
       "      <td>-1.326012</td>\n",
       "      <td>-0.396102</td>\n",
       "      <td>-1.688932</td>\n",
       "      <td>1.255778</td>\n",
       "    </tr>\n",
       "    <tr>\n",
       "      <th>2013-01-05</th>\n",
       "      <td>-0.156187</td>\n",
       "      <td>1.911771</td>\n",
       "      <td>-0.703772</td>\n",
       "      <td>0.404378</td>\n",
       "    </tr>\n",
       "  </tbody>\n",
       "</table>\n",
       "</div>"
      ],
      "text/plain": [
       "                   A         B         C         D\n",
       "2013-01-01  1.154742  0.057738  0.599295  0.118682\n",
       "2013-01-02 -0.901598 -1.678151 -0.999941 -0.123828\n",
       "2013-01-03 -0.561013 -2.697689  0.934477  1.654450\n",
       "2013-01-04 -1.326012 -0.396102 -1.688932  1.255778\n",
       "2013-01-05 -0.156187  1.911771 -0.703772  0.404378"
      ]
     },
     "execution_count": 9,
     "metadata": {},
     "output_type": "execute_result"
    }
   ],
   "source": [
    "df.head()"
   ]
  },
  {
   "cell_type": "markdown",
   "metadata": {},
   "source": [
    "데이터를 CSV나, Excel로 부터 시작했다면,   \n",
    "처음에 어떠한 종류의 데이터들이 있는지 간단하게 볼 필요가 있다.\n",
    "\n",
    "head(),tail()로 간단하게 시작 데이터와 끝 데이터를 볼 수 있다"
   ]
  },
  {
   "cell_type": "code",
   "execution_count": 10,
   "metadata": {
    "collapsed": false
   },
   "outputs": [
    {
     "data": {
      "text/html": [
       "<div>\n",
       "<table border=\"1\" class=\"dataframe\">\n",
       "  <thead>\n",
       "    <tr style=\"text-align: right;\">\n",
       "      <th></th>\n",
       "      <th>A</th>\n",
       "      <th>B</th>\n",
       "      <th>C</th>\n",
       "      <th>D</th>\n",
       "    </tr>\n",
       "  </thead>\n",
       "  <tbody>\n",
       "    <tr>\n",
       "      <th>2013-01-01</th>\n",
       "      <td>1.154742</td>\n",
       "      <td>0.057738</td>\n",
       "      <td>0.599295</td>\n",
       "      <td>0.118682</td>\n",
       "    </tr>\n",
       "  </tbody>\n",
       "</table>\n",
       "</div>"
      ],
      "text/plain": [
       "                   A         B         C         D\n",
       "2013-01-01  1.154742  0.057738  0.599295  0.118682"
      ]
     },
     "execution_count": 10,
     "metadata": {},
     "output_type": "execute_result"
    }
   ],
   "source": [
    "df.head(1)"
   ]
  },
  {
   "cell_type": "code",
   "execution_count": 11,
   "metadata": {
    "collapsed": false
   },
   "outputs": [
    {
     "data": {
      "text/html": [
       "<div>\n",
       "<table border=\"1\" class=\"dataframe\">\n",
       "  <thead>\n",
       "    <tr style=\"text-align: right;\">\n",
       "      <th></th>\n",
       "      <th>A</th>\n",
       "      <th>B</th>\n",
       "      <th>C</th>\n",
       "      <th>D</th>\n",
       "    </tr>\n",
       "  </thead>\n",
       "  <tbody>\n",
       "    <tr>\n",
       "      <th>2013-01-04</th>\n",
       "      <td>-1.326012</td>\n",
       "      <td>-0.396102</td>\n",
       "      <td>-1.688932</td>\n",
       "      <td>1.255778</td>\n",
       "    </tr>\n",
       "    <tr>\n",
       "      <th>2013-01-05</th>\n",
       "      <td>-0.156187</td>\n",
       "      <td>1.911771</td>\n",
       "      <td>-0.703772</td>\n",
       "      <td>0.404378</td>\n",
       "    </tr>\n",
       "    <tr>\n",
       "      <th>2013-01-06</th>\n",
       "      <td>0.418046</td>\n",
       "      <td>-0.742095</td>\n",
       "      <td>1.127069</td>\n",
       "      <td>0.699684</td>\n",
       "    </tr>\n",
       "  </tbody>\n",
       "</table>\n",
       "</div>"
      ],
      "text/plain": [
       "                   A         B         C         D\n",
       "2013-01-04 -1.326012 -0.396102 -1.688932  1.255778\n",
       "2013-01-05 -0.156187  1.911771 -0.703772  0.404378\n",
       "2013-01-06  0.418046 -0.742095  1.127069  0.699684"
      ]
     },
     "execution_count": 11,
     "metadata": {},
     "output_type": "execute_result"
    }
   ],
   "source": [
    "df.tail(3)"
   ]
  },
  {
   "cell_type": "raw",
   "metadata": {},
   "source": [
    "In [16]: df.index\n",
    "Out[16]: \n",
    "DatetimeIndex(['2013-01-01', '2013-01-02', '2013-01-03', '2013-01-04',\n",
    "               '2013-01-05', '2013-01-06'],\n",
    "              dtype='datetime64[ns]', freq='D')\n",
    "\n",
    "In [17]: df.columns\n",
    "Out[17]: Index([u'A', u'B', u'C', u'D'], dtype='object')\n",
    "\n",
    "In [18]: df.values\n",
    "Out[18]: \n",
    "array([[ 0.4691, -0.2829, -1.5091, -1.1356],\n",
    "       [ 1.2121, -0.1732,  0.1192, -1.0442],\n",
    "       [-0.8618, -2.1046, -0.4949,  1.0718],\n",
    "       [ 0.7216, -0.7068, -1.0396,  0.2719],\n",
    "       [-0.425 ,  0.567 ,  0.2762, -1.0874],\n",
    "       [-0.6737,  0.1136, -1.4784,  0.525 ]])\n",
    "\n",
    "In [19]: df.describe()\n",
    "Out[19]: \n",
    "              A         B         C         D\n",
    "count  6.000000  6.000000  6.000000  6.000000\n",
    "mean   0.073711 -0.431125 -0.687758 -0.233103\n",
    "std    0.843157  0.922818  0.779887  0.973118\n",
    "min   -0.861849 -2.104569 -1.509059 -1.135632\n",
    "25%   -0.611510 -0.600794 -1.368714 -1.076610\n",
    "50%    0.022070 -0.228039 -0.767252 -0.386188\n",
    "75%    0.658444  0.041933 -0.034326  0.461706\n",
    "max    1.212112  0.567020  0.276232  1.071804"
   ]
  },
  {
   "cell_type": "code",
   "execution_count": 12,
   "metadata": {
    "collapsed": false
   },
   "outputs": [
    {
     "data": {
      "text/plain": [
       "DatetimeIndex(['2013-01-01', '2013-01-02', '2013-01-03', '2013-01-04',\n",
       "               '2013-01-05', '2013-01-06'],\n",
       "              dtype='datetime64[ns]', freq='D')"
      ]
     },
     "execution_count": 12,
     "metadata": {},
     "output_type": "execute_result"
    }
   ],
   "source": [
    "df.index"
   ]
  },
  {
   "cell_type": "code",
   "execution_count": 13,
   "metadata": {
    "collapsed": false
   },
   "outputs": [
    {
     "data": {
      "text/plain": [
       "Index(['A', 'B', 'C', 'D'], dtype='object')"
      ]
     },
     "execution_count": 13,
     "metadata": {},
     "output_type": "execute_result"
    }
   ],
   "source": [
    "df.columns"
   ]
  },
  {
   "cell_type": "code",
   "execution_count": 15,
   "metadata": {
    "collapsed": false
   },
   "outputs": [
    {
     "data": {
      "text/plain": [
       "2013-01-01    1.154742\n",
       "2013-01-02   -0.901598\n",
       "2013-01-03   -0.561013\n",
       "2013-01-04   -1.326012\n",
       "2013-01-05   -0.156187\n",
       "2013-01-06    0.418046\n",
       "Freq: D, Name: A, dtype: float64"
      ]
     },
     "execution_count": 15,
     "metadata": {},
     "output_type": "execute_result"
    }
   ],
   "source": [
    "df['A']"
   ]
  },
  {
   "cell_type": "code",
   "execution_count": 16,
   "metadata": {
    "collapsed": false
   },
   "outputs": [
    {
     "data": {
      "text/plain": [
       "2013-01-01    1.154742\n",
       "2013-01-02   -0.901598\n",
       "2013-01-03   -0.561013\n",
       "2013-01-04   -1.326012\n",
       "2013-01-05   -0.156187\n",
       "2013-01-06    0.418046\n",
       "Freq: D, Name: A, dtype: float64"
      ]
     },
     "execution_count": 16,
     "metadata": {},
     "output_type": "execute_result"
    }
   ],
   "source": [
    "df.A"
   ]
  },
  {
   "cell_type": "markdown",
   "metadata": {},
   "source": [
    "또한 index, columns, values를 통해, Dataframe의 간단한 구성을 살펴 볼 수 있다  \n",
    "describe()로 데이터의 분포를 빠르게 확인할 수 있다"
   ]
  },
  {
   "cell_type": "markdown",
   "metadata": {},
   "source": [
    "## 데이터 인덱싱"
   ]
  },
  {
   "cell_type": "raw",
   "metadata": {},
   "source": [
    "In [23]: df['A']\n",
    "Out[23]: \n",
    "2013-01-01    0.469112\n",
    "2013-01-02    1.212112\n",
    "2013-01-03   -0.861849\n",
    "2013-01-04    0.721555\n",
    "2013-01-05   -0.424972\n",
    "2013-01-06   -0.673690\n",
    "Freq: D, Name: A, dtype: float64"
   ]
  },
  {
   "cell_type": "code",
   "execution_count": 17,
   "metadata": {
    "collapsed": false
   },
   "outputs": [
    {
     "data": {
      "text/html": [
       "<div>\n",
       "<table border=\"1\" class=\"dataframe\">\n",
       "  <thead>\n",
       "    <tr style=\"text-align: right;\">\n",
       "      <th></th>\n",
       "      <th>A</th>\n",
       "      <th>B</th>\n",
       "      <th>C</th>\n",
       "      <th>D</th>\n",
       "    </tr>\n",
       "  </thead>\n",
       "  <tbody>\n",
       "    <tr>\n",
       "      <th>2013-01-01</th>\n",
       "      <td>1.154742</td>\n",
       "      <td>0.057738</td>\n",
       "      <td>0.599295</td>\n",
       "      <td>0.118682</td>\n",
       "    </tr>\n",
       "  </tbody>\n",
       "</table>\n",
       "</div>"
      ],
      "text/plain": [
       "                   A         B         C         D\n",
       "2013-01-01  1.154742  0.057738  0.599295  0.118682"
      ]
     },
     "execution_count": 17,
     "metadata": {},
     "output_type": "execute_result"
    }
   ],
   "source": [
    "df[0:1]"
   ]
  },
  {
   "cell_type": "code",
   "execution_count": 19,
   "metadata": {
    "collapsed": false
   },
   "outputs": [
    {
     "data": {
      "text/html": [
       "<div>\n",
       "<table border=\"1\" class=\"dataframe\">\n",
       "  <thead>\n",
       "    <tr style=\"text-align: right;\">\n",
       "      <th></th>\n",
       "      <th>A</th>\n",
       "      <th>B</th>\n",
       "      <th>C</th>\n",
       "      <th>D</th>\n",
       "    </tr>\n",
       "  </thead>\n",
       "  <tbody>\n",
       "    <tr>\n",
       "      <th>2013-01-01</th>\n",
       "      <td>1.154742</td>\n",
       "      <td>0.057738</td>\n",
       "      <td>0.599295</td>\n",
       "      <td>0.118682</td>\n",
       "    </tr>\n",
       "    <tr>\n",
       "      <th>2013-01-02</th>\n",
       "      <td>-0.901598</td>\n",
       "      <td>-1.678151</td>\n",
       "      <td>-0.999941</td>\n",
       "      <td>-0.123828</td>\n",
       "    </tr>\n",
       "  </tbody>\n",
       "</table>\n",
       "</div>"
      ],
      "text/plain": [
       "                   A         B         C         D\n",
       "2013-01-01  1.154742  0.057738  0.599295  0.118682\n",
       "2013-01-02 -0.901598 -1.678151 -0.999941 -0.123828"
      ]
     },
     "execution_count": 19,
     "metadata": {},
     "output_type": "execute_result"
    }
   ],
   "source": [
    "df[0:2]"
   ]
  },
  {
   "cell_type": "code",
   "execution_count": 20,
   "metadata": {
    "collapsed": false
   },
   "outputs": [
    {
     "data": {
      "text/html": [
       "<div>\n",
       "<table border=\"1\" class=\"dataframe\">\n",
       "  <thead>\n",
       "    <tr style=\"text-align: right;\">\n",
       "      <th></th>\n",
       "      <th>A</th>\n",
       "      <th>B</th>\n",
       "      <th>C</th>\n",
       "      <th>D</th>\n",
       "    </tr>\n",
       "  </thead>\n",
       "  <tbody>\n",
       "    <tr>\n",
       "      <th>2013-01-01</th>\n",
       "      <td>1.154742</td>\n",
       "      <td>0.057738</td>\n",
       "      <td>0.599295</td>\n",
       "      <td>0.118682</td>\n",
       "    </tr>\n",
       "    <tr>\n",
       "      <th>2013-01-02</th>\n",
       "      <td>-0.901598</td>\n",
       "      <td>-1.678151</td>\n",
       "      <td>-0.999941</td>\n",
       "      <td>-0.123828</td>\n",
       "    </tr>\n",
       "    <tr>\n",
       "      <th>2013-01-03</th>\n",
       "      <td>-0.561013</td>\n",
       "      <td>-2.697689</td>\n",
       "      <td>0.934477</td>\n",
       "      <td>1.654450</td>\n",
       "    </tr>\n",
       "    <tr>\n",
       "      <th>2013-01-04</th>\n",
       "      <td>-1.326012</td>\n",
       "      <td>-0.396102</td>\n",
       "      <td>-1.688932</td>\n",
       "      <td>1.255778</td>\n",
       "    </tr>\n",
       "  </tbody>\n",
       "</table>\n",
       "</div>"
      ],
      "text/plain": [
       "                   A         B         C         D\n",
       "2013-01-01  1.154742  0.057738  0.599295  0.118682\n",
       "2013-01-02 -0.901598 -1.678151 -0.999941 -0.123828\n",
       "2013-01-03 -0.561013 -2.697689  0.934477  1.654450\n",
       "2013-01-04 -1.326012 -0.396102 -1.688932  1.255778"
      ]
     },
     "execution_count": 20,
     "metadata": {},
     "output_type": "execute_result"
    }
   ],
   "source": [
    "df['20130101':'20130104']"
   ]
  },
  {
   "cell_type": "code",
   "execution_count": 23,
   "metadata": {
    "collapsed": false
   },
   "outputs": [
    {
     "data": {
      "text/html": [
       "<div>\n",
       "<table border=\"1\" class=\"dataframe\">\n",
       "  <thead>\n",
       "    <tr style=\"text-align: right;\">\n",
       "      <th></th>\n",
       "      <th>A</th>\n",
       "      <th>B</th>\n",
       "    </tr>\n",
       "  </thead>\n",
       "  <tbody>\n",
       "    <tr>\n",
       "      <th>2013-01-02</th>\n",
       "      <td>-0.901598</td>\n",
       "      <td>-1.678151</td>\n",
       "    </tr>\n",
       "    <tr>\n",
       "      <th>2013-01-03</th>\n",
       "      <td>-0.561013</td>\n",
       "      <td>-2.697689</td>\n",
       "    </tr>\n",
       "    <tr>\n",
       "      <th>2013-01-04</th>\n",
       "      <td>-1.326012</td>\n",
       "      <td>-0.396102</td>\n",
       "    </tr>\n",
       "  </tbody>\n",
       "</table>\n",
       "</div>"
      ],
      "text/plain": [
       "                   A         B\n",
       "2013-01-02 -0.901598 -1.678151\n",
       "2013-01-03 -0.561013 -2.697689\n",
       "2013-01-04 -1.326012 -0.396102"
      ]
     },
     "execution_count": 23,
     "metadata": {},
     "output_type": "execute_result"
    }
   ],
   "source": [
    "df.loc['20130102':'20130104',['A','B']]"
   ]
  },
  {
   "cell_type": "code",
   "execution_count": 25,
   "metadata": {
    "collapsed": false
   },
   "outputs": [
    {
     "data": {
      "text/html": [
       "<div>\n",
       "<table border=\"1\" class=\"dataframe\">\n",
       "  <thead>\n",
       "    <tr style=\"text-align: right;\">\n",
       "      <th></th>\n",
       "      <th>A</th>\n",
       "      <th>B</th>\n",
       "      <th>C</th>\n",
       "      <th>D</th>\n",
       "    </tr>\n",
       "  </thead>\n",
       "  <tbody>\n",
       "    <tr>\n",
       "      <th>2013-01-01</th>\n",
       "      <td>1.154742</td>\n",
       "      <td>0.057738</td>\n",
       "      <td>0.599295</td>\n",
       "      <td>0.118682</td>\n",
       "    </tr>\n",
       "    <tr>\n",
       "      <th>2013-01-06</th>\n",
       "      <td>0.418046</td>\n",
       "      <td>-0.742095</td>\n",
       "      <td>1.127069</td>\n",
       "      <td>0.699684</td>\n",
       "    </tr>\n",
       "  </tbody>\n",
       "</table>\n",
       "</div>"
      ],
      "text/plain": [
       "                   A         B         C         D\n",
       "2013-01-01  1.154742  0.057738  0.599295  0.118682\n",
       "2013-01-06  0.418046 -0.742095  1.127069  0.699684"
      ]
     },
     "execution_count": 25,
     "metadata": {},
     "output_type": "execute_result"
    }
   ],
   "source": [
    "df[df.A > 0]"
   ]
  },
  {
   "cell_type": "code",
   "execution_count": 26,
   "metadata": {
    "collapsed": false
   },
   "outputs": [
    {
     "data": {
      "text/html": [
       "<div>\n",
       "<table border=\"1\" class=\"dataframe\">\n",
       "  <thead>\n",
       "    <tr style=\"text-align: right;\">\n",
       "      <th></th>\n",
       "      <th>A</th>\n",
       "      <th>B</th>\n",
       "      <th>C</th>\n",
       "      <th>D</th>\n",
       "    </tr>\n",
       "  </thead>\n",
       "  <tbody>\n",
       "    <tr>\n",
       "      <th>2013-01-01</th>\n",
       "      <td>1.154742</td>\n",
       "      <td>0.057738</td>\n",
       "      <td>0.599295</td>\n",
       "      <td>0.118682</td>\n",
       "    </tr>\n",
       "    <tr>\n",
       "      <th>2013-01-02</th>\n",
       "      <td>NaN</td>\n",
       "      <td>NaN</td>\n",
       "      <td>NaN</td>\n",
       "      <td>NaN</td>\n",
       "    </tr>\n",
       "    <tr>\n",
       "      <th>2013-01-03</th>\n",
       "      <td>NaN</td>\n",
       "      <td>NaN</td>\n",
       "      <td>0.934477</td>\n",
       "      <td>1.654450</td>\n",
       "    </tr>\n",
       "    <tr>\n",
       "      <th>2013-01-04</th>\n",
       "      <td>NaN</td>\n",
       "      <td>NaN</td>\n",
       "      <td>NaN</td>\n",
       "      <td>1.255778</td>\n",
       "    </tr>\n",
       "    <tr>\n",
       "      <th>2013-01-05</th>\n",
       "      <td>NaN</td>\n",
       "      <td>1.911771</td>\n",
       "      <td>NaN</td>\n",
       "      <td>0.404378</td>\n",
       "    </tr>\n",
       "    <tr>\n",
       "      <th>2013-01-06</th>\n",
       "      <td>0.418046</td>\n",
       "      <td>NaN</td>\n",
       "      <td>1.127069</td>\n",
       "      <td>0.699684</td>\n",
       "    </tr>\n",
       "  </tbody>\n",
       "</table>\n",
       "</div>"
      ],
      "text/plain": [
       "                   A         B         C         D\n",
       "2013-01-01  1.154742  0.057738  0.599295  0.118682\n",
       "2013-01-02       NaN       NaN       NaN       NaN\n",
       "2013-01-03       NaN       NaN  0.934477  1.654450\n",
       "2013-01-04       NaN       NaN       NaN  1.255778\n",
       "2013-01-05       NaN  1.911771       NaN  0.404378\n",
       "2013-01-06  0.418046       NaN  1.127069  0.699684"
      ]
     },
     "execution_count": 26,
     "metadata": {},
     "output_type": "execute_result"
    }
   ],
   "source": [
    "df[df > 0]"
   ]
  },
  {
   "cell_type": "code",
   "execution_count": 27,
   "metadata": {
    "collapsed": false
   },
   "outputs": [
    {
     "data": {
      "text/html": [
       "<div>\n",
       "<table border=\"1\" class=\"dataframe\">\n",
       "  <thead>\n",
       "    <tr style=\"text-align: right;\">\n",
       "      <th></th>\n",
       "      <th>A</th>\n",
       "      <th>B</th>\n",
       "      <th>C</th>\n",
       "      <th>D</th>\n",
       "    </tr>\n",
       "  </thead>\n",
       "  <tbody>\n",
       "    <tr>\n",
       "      <th>2013-01-01</th>\n",
       "      <td>1.154742</td>\n",
       "      <td>0.057738</td>\n",
       "      <td>0.599295</td>\n",
       "      <td>0.118682</td>\n",
       "    </tr>\n",
       "    <tr>\n",
       "      <th>2013-01-06</th>\n",
       "      <td>0.418046</td>\n",
       "      <td>-0.742095</td>\n",
       "      <td>1.127069</td>\n",
       "      <td>0.699684</td>\n",
       "    </tr>\n",
       "  </tbody>\n",
       "</table>\n",
       "</div>"
      ],
      "text/plain": [
       "                   A         B         C         D\n",
       "2013-01-01  1.154742  0.057738  0.599295  0.118682\n",
       "2013-01-06  0.418046 -0.742095  1.127069  0.699684"
      ]
     },
     "execution_count": 27,
     "metadata": {},
     "output_type": "execute_result"
    }
   ],
   "source": [
    "df.query(\"A > 0\")"
   ]
  },
  {
   "cell_type": "code",
   "execution_count": 31,
   "metadata": {
    "collapsed": false
   },
   "outputs": [
    {
     "name": "stdout",
     "output_type": "stream",
     "text": [
      "2013-01-01     True\n",
      "2013-01-02    False\n",
      "2013-01-03    False\n",
      "2013-01-04    False\n",
      "2013-01-05    False\n",
      "2013-01-06    False\n",
      "Freq: D, dtype: bool\n"
     ]
    },
    {
     "data": {
      "text/html": [
       "<div>\n",
       "<table border=\"1\" class=\"dataframe\">\n",
       "  <thead>\n",
       "    <tr style=\"text-align: right;\">\n",
       "      <th></th>\n",
       "      <th>A</th>\n",
       "      <th>B</th>\n",
       "      <th>C</th>\n",
       "      <th>D</th>\n",
       "    </tr>\n",
       "  </thead>\n",
       "  <tbody>\n",
       "    <tr>\n",
       "      <th>2013-01-01</th>\n",
       "      <td>1.154742</td>\n",
       "      <td>0.057738</td>\n",
       "      <td>0.599295</td>\n",
       "      <td>0.118682</td>\n",
       "    </tr>\n",
       "  </tbody>\n",
       "</table>\n",
       "</div>"
      ],
      "text/plain": [
       "                   A         B         C         D\n",
       "2013-01-01  1.154742  0.057738  0.599295  0.118682"
      ]
     },
     "execution_count": 31,
     "metadata": {},
     "output_type": "execute_result"
    }
   ],
   "source": [
    "mask = (df.A > 0) & (df.B > 0)\n",
    "print(mask)\n",
    "df[mask]"
   ]
  },
  {
   "cell_type": "markdown",
   "metadata": {},
   "source": [
    "Dataframe 중 특정 Column을 선별할 때,  \n",
    "dictionary 처럼 데이터를 가져올 수 있고,\n",
    "속성 처럼 가져올 수 있다. (예 \"df.A\")"
   ]
  },
  {
   "cell_type": "raw",
   "metadata": {},
   "source": [
    "In [24]: df[0:3]\n",
    "Out[24]: \n",
    "                   A         B         C         D\n",
    "2013-01-01  0.469112 -0.282863 -1.509059 -1.135632\n",
    "2013-01-02  1.212112 -0.173215  0.119209 -1.044236\n",
    "2013-01-03 -0.861849 -2.104569 -0.494929  1.071804\n",
    "\n",
    "In [25]: df['20130102':'20130104']\n",
    "Out[25]: \n",
    "                   A         B         C         D\n",
    "2013-01-02  1.212112 -0.173215  0.119209 -1.044236\n",
    "2013-01-03 -0.861849 -2.104569 -0.494929  1.071804\n",
    "2013-01-04  0.721555 -0.706771 -1.039575  0.271860"
   ]
  },
  {
   "cell_type": "markdown",
   "metadata": {},
   "source": [
    "여러 데이터를 가져올 때는, 기본으로 row를 select 한다"
   ]
  },
  {
   "cell_type": "raw",
   "metadata": {},
   "source": [
    "In [28]: df.loc['20130102':'20130104',['A','B']]\n",
    "Out[28]: \n",
    "                   A         B\n",
    "2013-01-02  1.212112 -0.173215\n",
    "2013-01-03 -0.861849 -2.104569\n",
    "2013-01-04  0.721555 -0.706771\n",
    "\n",
    "In [36]: df.iloc[:,1:3]\n",
    "Out[36]: \n",
    "                   B         C\n",
    "2013-01-01 -0.282863 -1.509059\n",
    "2013-01-02 -0.173215  0.119209\n",
    "2013-01-03 -2.104569 -0.494929\n",
    "2013-01-04 -0.706771 -1.039575\n",
    "2013-01-05  0.567020  0.276232\n",
    "2013-01-06  0.113648 -1.478427"
   ]
  },
  {
   "cell_type": "markdown",
   "metadata": {},
   "source": [
    "특정 Col, Row를 Index로 이용하려면,\n",
    "- 라벨 index : df.loc [row1:row2, col1:col2]\n",
    "- 위치 index : df.iloc[row1:row2, col1:col2] "
   ]
  },
  {
   "cell_type": "raw",
   "metadata": {},
   "source": [
    "In [39]: df[df.A > 0]\n",
    "Out[39]: \n",
    "                   A         B         C         D\n",
    "2013-01-01  0.469112 -0.282863 -1.509059 -1.135632\n",
    "2013-01-02  1.212112 -0.173215  0.119209 -1.044236\n",
    "2013-01-04  0.721555 -0.706771 -1.039575  0.271860\n",
    "\n",
    "In [40]: df[df > 0]\n",
    "Out[40]: \n",
    "                   A         B         C         D\n",
    "2013-01-01  0.469112       NaN       NaN       NaN\n",
    "2013-01-02  1.212112       NaN  0.119209       NaN\n",
    "2013-01-03       NaN       NaN       NaN  1.071804\n",
    "2013-01-04  0.721555       NaN       NaN  0.271860\n",
    "2013-01-05       NaN  0.567020  0.276232       NaN\n",
    "2013-01-06       NaN  0.113648       NaN  0.524988"
   ]
  },
  {
   "cell_type": "markdown",
   "metadata": {},
   "source": [
    "numpy 에서 이용하는 boolean indexing도 적용할 수 있다"
   ]
  },
  {
   "cell_type": "markdown",
   "metadata": {},
   "source": [
    "## 데이터 입력"
   ]
  },
  {
   "cell_type": "raw",
   "metadata": {},
   "source": [
    "In [45]: s1 = pd.Series([1,2,3,4,5,6], index=pd.date_range('20130102', periods=6))\n",
    "\n",
    "In [46]: s1\n",
    "Out[46]: \n",
    "2013-01-02    1\n",
    "2013-01-03    2\n",
    "2013-01-04    3\n",
    "2013-01-05    4\n",
    "2013-01-06    5\n",
    "2013-01-07    6\n",
    "Freq: D, dtype: int64\n",
    "\n",
    "In [47]: df['F'] = s1"
   ]
  },
  {
   "cell_type": "code",
   "execution_count": 32,
   "metadata": {
    "collapsed": false
   },
   "outputs": [
    {
     "data": {
      "text/plain": [
       "2013-01-02    1\n",
       "2013-01-03    2\n",
       "2013-01-04    3\n",
       "2013-01-05    4\n",
       "2013-01-06    5\n",
       "2013-01-07    6\n",
       "Freq: D, dtype: int64"
      ]
     },
     "execution_count": 32,
     "metadata": {},
     "output_type": "execute_result"
    }
   ],
   "source": [
    "s1 = pd.Series([1,2,3,4,5,6], index=pd.date_range('20130102', periods=6))\n",
    "s1"
   ]
  },
  {
   "cell_type": "code",
   "execution_count": 33,
   "metadata": {
    "collapsed": false
   },
   "outputs": [
    {
     "data": {
      "text/html": [
       "<div>\n",
       "<table border=\"1\" class=\"dataframe\">\n",
       "  <thead>\n",
       "    <tr style=\"text-align: right;\">\n",
       "      <th></th>\n",
       "      <th>A</th>\n",
       "      <th>B</th>\n",
       "      <th>C</th>\n",
       "      <th>D</th>\n",
       "      <th>E</th>\n",
       "    </tr>\n",
       "  </thead>\n",
       "  <tbody>\n",
       "    <tr>\n",
       "      <th>2013-01-01</th>\n",
       "      <td>1.154742</td>\n",
       "      <td>0.057738</td>\n",
       "      <td>0.599295</td>\n",
       "      <td>0.118682</td>\n",
       "      <td>NaN</td>\n",
       "    </tr>\n",
       "    <tr>\n",
       "      <th>2013-01-02</th>\n",
       "      <td>-0.901598</td>\n",
       "      <td>-1.678151</td>\n",
       "      <td>-0.999941</td>\n",
       "      <td>-0.123828</td>\n",
       "      <td>1.0</td>\n",
       "    </tr>\n",
       "    <tr>\n",
       "      <th>2013-01-03</th>\n",
       "      <td>-0.561013</td>\n",
       "      <td>-2.697689</td>\n",
       "      <td>0.934477</td>\n",
       "      <td>1.654450</td>\n",
       "      <td>2.0</td>\n",
       "    </tr>\n",
       "    <tr>\n",
       "      <th>2013-01-04</th>\n",
       "      <td>-1.326012</td>\n",
       "      <td>-0.396102</td>\n",
       "      <td>-1.688932</td>\n",
       "      <td>1.255778</td>\n",
       "      <td>3.0</td>\n",
       "    </tr>\n",
       "    <tr>\n",
       "      <th>2013-01-05</th>\n",
       "      <td>-0.156187</td>\n",
       "      <td>1.911771</td>\n",
       "      <td>-0.703772</td>\n",
       "      <td>0.404378</td>\n",
       "      <td>4.0</td>\n",
       "    </tr>\n",
       "    <tr>\n",
       "      <th>2013-01-06</th>\n",
       "      <td>0.418046</td>\n",
       "      <td>-0.742095</td>\n",
       "      <td>1.127069</td>\n",
       "      <td>0.699684</td>\n",
       "      <td>5.0</td>\n",
       "    </tr>\n",
       "  </tbody>\n",
       "</table>\n",
       "</div>"
      ],
      "text/plain": [
       "                   A         B         C         D    E\n",
       "2013-01-01  1.154742  0.057738  0.599295  0.118682  NaN\n",
       "2013-01-02 -0.901598 -1.678151 -0.999941 -0.123828  1.0\n",
       "2013-01-03 -0.561013 -2.697689  0.934477  1.654450  2.0\n",
       "2013-01-04 -1.326012 -0.396102 -1.688932  1.255778  3.0\n",
       "2013-01-05 -0.156187  1.911771 -0.703772  0.404378  4.0\n",
       "2013-01-06  0.418046 -0.742095  1.127069  0.699684  5.0"
      ]
     },
     "execution_count": 33,
     "metadata": {},
     "output_type": "execute_result"
    }
   ],
   "source": [
    "df['E'] = s1\n",
    "df"
   ]
  },
  {
   "cell_type": "code",
   "execution_count": 34,
   "metadata": {
    "collapsed": false
   },
   "outputs": [
    {
     "data": {
      "text/html": [
       "<div>\n",
       "<table border=\"1\" class=\"dataframe\">\n",
       "  <thead>\n",
       "    <tr style=\"text-align: right;\">\n",
       "      <th></th>\n",
       "      <th>A</th>\n",
       "      <th>B</th>\n",
       "      <th>C</th>\n",
       "      <th>D</th>\n",
       "      <th>E</th>\n",
       "    </tr>\n",
       "  </thead>\n",
       "  <tbody>\n",
       "    <tr>\n",
       "      <th>2013-01-01</th>\n",
       "      <td>1.154742</td>\n",
       "      <td>0.057738</td>\n",
       "      <td>0.599295</td>\n",
       "      <td>0.118682</td>\n",
       "      <td>NaN</td>\n",
       "    </tr>\n",
       "    <tr>\n",
       "      <th>2013-01-02</th>\n",
       "      <td>-0.901598</td>\n",
       "      <td>-1.678151</td>\n",
       "      <td>-0.999941</td>\n",
       "      <td>-0.123828</td>\n",
       "      <td>1.0</td>\n",
       "    </tr>\n",
       "    <tr>\n",
       "      <th>2013-01-03</th>\n",
       "      <td>-0.561013</td>\n",
       "      <td>-2.697689</td>\n",
       "      <td>0.934477</td>\n",
       "      <td>1.654450</td>\n",
       "      <td>2.0</td>\n",
       "    </tr>\n",
       "    <tr>\n",
       "      <th>2013-01-04</th>\n",
       "      <td>-1.326012</td>\n",
       "      <td>-0.396102</td>\n",
       "      <td>-1.688932</td>\n",
       "      <td>1.255778</td>\n",
       "      <td>3.0</td>\n",
       "    </tr>\n",
       "    <tr>\n",
       "      <th>2013-01-05</th>\n",
       "      <td>-0.156187</td>\n",
       "      <td>1.911771</td>\n",
       "      <td>-0.703772</td>\n",
       "      <td>0.404378</td>\n",
       "      <td>4.0</td>\n",
       "    </tr>\n",
       "    <tr>\n",
       "      <th>2013-01-06</th>\n",
       "      <td>0.418046</td>\n",
       "      <td>-0.742095</td>\n",
       "      <td>1.127069</td>\n",
       "      <td>0.699684</td>\n",
       "      <td>5.0</td>\n",
       "    </tr>\n",
       "  </tbody>\n",
       "</table>\n",
       "</div>"
      ],
      "text/plain": [
       "                   A         B         C         D    E\n",
       "2013-01-01  1.154742  0.057738  0.599295  0.118682  NaN\n",
       "2013-01-02 -0.901598 -1.678151 -0.999941 -0.123828  1.0\n",
       "2013-01-03 -0.561013 -2.697689  0.934477  1.654450  2.0\n",
       "2013-01-04 -1.326012 -0.396102 -1.688932  1.255778  3.0\n",
       "2013-01-05 -0.156187  1.911771 -0.703772  0.404378  4.0\n",
       "2013-01-06  0.418046 -0.742095  1.127069  0.699684  5.0"
      ]
     },
     "execution_count": 34,
     "metadata": {},
     "output_type": "execute_result"
    }
   ],
   "source": [
    "df.F = s1\n",
    "df"
   ]
  },
  {
   "cell_type": "markdown",
   "metadata": {},
   "source": [
    "새로운 Column을 추가할 때, dictionary, key-value 입력 식으로 추가할 수 있다.\n"
   ]
  },
  {
   "cell_type": "raw",
   "metadata": {},
   "source": [
    "In [48]: df.at[dates[0],'A'] = 0\n",
    "In [49]: df.iat[0,1] = 0\n",
    "In [50]: df.loc[:,'D'] = np.array([5] * len(df))"
   ]
  },
  {
   "cell_type": "code",
   "execution_count": 36,
   "metadata": {
    "collapsed": false
   },
   "outputs": [
    {
     "data": {
      "text/html": [
       "<div>\n",
       "<table border=\"1\" class=\"dataframe\">\n",
       "  <thead>\n",
       "    <tr style=\"text-align: right;\">\n",
       "      <th></th>\n",
       "      <th>A</th>\n",
       "      <th>B</th>\n",
       "      <th>C</th>\n",
       "      <th>D</th>\n",
       "      <th>E</th>\n",
       "    </tr>\n",
       "  </thead>\n",
       "  <tbody>\n",
       "    <tr>\n",
       "      <th>2013-01-01</th>\n",
       "      <td>0.000000</td>\n",
       "      <td>0.057738</td>\n",
       "      <td>0.599295</td>\n",
       "      <td>0.118682</td>\n",
       "      <td>NaN</td>\n",
       "    </tr>\n",
       "    <tr>\n",
       "      <th>2013-01-02</th>\n",
       "      <td>-0.901598</td>\n",
       "      <td>-1.678151</td>\n",
       "      <td>-0.999941</td>\n",
       "      <td>-0.123828</td>\n",
       "      <td>1.0</td>\n",
       "    </tr>\n",
       "    <tr>\n",
       "      <th>2013-01-03</th>\n",
       "      <td>-0.561013</td>\n",
       "      <td>-2.697689</td>\n",
       "      <td>0.934477</td>\n",
       "      <td>1.654450</td>\n",
       "      <td>2.0</td>\n",
       "    </tr>\n",
       "    <tr>\n",
       "      <th>2013-01-04</th>\n",
       "      <td>-1.326012</td>\n",
       "      <td>-0.396102</td>\n",
       "      <td>-1.688932</td>\n",
       "      <td>1.255778</td>\n",
       "      <td>3.0</td>\n",
       "    </tr>\n",
       "    <tr>\n",
       "      <th>2013-01-05</th>\n",
       "      <td>-0.156187</td>\n",
       "      <td>1.911771</td>\n",
       "      <td>-0.703772</td>\n",
       "      <td>0.404378</td>\n",
       "      <td>4.0</td>\n",
       "    </tr>\n",
       "    <tr>\n",
       "      <th>2013-01-06</th>\n",
       "      <td>0.418046</td>\n",
       "      <td>-0.742095</td>\n",
       "      <td>1.127069</td>\n",
       "      <td>0.699684</td>\n",
       "      <td>5.0</td>\n",
       "    </tr>\n",
       "  </tbody>\n",
       "</table>\n",
       "</div>"
      ],
      "text/plain": [
       "                   A         B         C         D    E\n",
       "2013-01-01  0.000000  0.057738  0.599295  0.118682  NaN\n",
       "2013-01-02 -0.901598 -1.678151 -0.999941 -0.123828  1.0\n",
       "2013-01-03 -0.561013 -2.697689  0.934477  1.654450  2.0\n",
       "2013-01-04 -1.326012 -0.396102 -1.688932  1.255778  3.0\n",
       "2013-01-05 -0.156187  1.911771 -0.703772  0.404378  4.0\n",
       "2013-01-06  0.418046 -0.742095  1.127069  0.699684  5.0"
      ]
     },
     "execution_count": 36,
     "metadata": {},
     "output_type": "execute_result"
    }
   ],
   "source": [
    "df.at[dates[0],'A'] = 0\n",
    "df"
   ]
  },
  {
   "cell_type": "code",
   "execution_count": 37,
   "metadata": {
    "collapsed": false
   },
   "outputs": [
    {
     "data": {
      "text/html": [
       "<div>\n",
       "<table border=\"1\" class=\"dataframe\">\n",
       "  <thead>\n",
       "    <tr style=\"text-align: right;\">\n",
       "      <th></th>\n",
       "      <th>A</th>\n",
       "      <th>B</th>\n",
       "      <th>C</th>\n",
       "      <th>D</th>\n",
       "      <th>E</th>\n",
       "    </tr>\n",
       "  </thead>\n",
       "  <tbody>\n",
       "    <tr>\n",
       "      <th>2013-01-01</th>\n",
       "      <td>0.000000</td>\n",
       "      <td>0.000000</td>\n",
       "      <td>0.599295</td>\n",
       "      <td>0.118682</td>\n",
       "      <td>NaN</td>\n",
       "    </tr>\n",
       "    <tr>\n",
       "      <th>2013-01-02</th>\n",
       "      <td>-0.901598</td>\n",
       "      <td>-1.678151</td>\n",
       "      <td>-0.999941</td>\n",
       "      <td>-0.123828</td>\n",
       "      <td>1.0</td>\n",
       "    </tr>\n",
       "    <tr>\n",
       "      <th>2013-01-03</th>\n",
       "      <td>-0.561013</td>\n",
       "      <td>-2.697689</td>\n",
       "      <td>0.934477</td>\n",
       "      <td>1.654450</td>\n",
       "      <td>2.0</td>\n",
       "    </tr>\n",
       "    <tr>\n",
       "      <th>2013-01-04</th>\n",
       "      <td>-1.326012</td>\n",
       "      <td>-0.396102</td>\n",
       "      <td>-1.688932</td>\n",
       "      <td>1.255778</td>\n",
       "      <td>3.0</td>\n",
       "    </tr>\n",
       "    <tr>\n",
       "      <th>2013-01-05</th>\n",
       "      <td>-0.156187</td>\n",
       "      <td>1.911771</td>\n",
       "      <td>-0.703772</td>\n",
       "      <td>0.404378</td>\n",
       "      <td>4.0</td>\n",
       "    </tr>\n",
       "    <tr>\n",
       "      <th>2013-01-06</th>\n",
       "      <td>0.418046</td>\n",
       "      <td>-0.742095</td>\n",
       "      <td>1.127069</td>\n",
       "      <td>0.699684</td>\n",
       "      <td>5.0</td>\n",
       "    </tr>\n",
       "  </tbody>\n",
       "</table>\n",
       "</div>"
      ],
      "text/plain": [
       "                   A         B         C         D    E\n",
       "2013-01-01  0.000000  0.000000  0.599295  0.118682  NaN\n",
       "2013-01-02 -0.901598 -1.678151 -0.999941 -0.123828  1.0\n",
       "2013-01-03 -0.561013 -2.697689  0.934477  1.654450  2.0\n",
       "2013-01-04 -1.326012 -0.396102 -1.688932  1.255778  3.0\n",
       "2013-01-05 -0.156187  1.911771 -0.703772  0.404378  4.0\n",
       "2013-01-06  0.418046 -0.742095  1.127069  0.699684  5.0"
      ]
     },
     "execution_count": 37,
     "metadata": {},
     "output_type": "execute_result"
    }
   ],
   "source": [
    "df.iat[0,1] = 0\n",
    "df"
   ]
  },
  {
   "cell_type": "code",
   "execution_count": 39,
   "metadata": {
    "collapsed": false
   },
   "outputs": [
    {
     "data": {
      "text/html": [
       "<div>\n",
       "<table border=\"1\" class=\"dataframe\">\n",
       "  <thead>\n",
       "    <tr style=\"text-align: right;\">\n",
       "      <th></th>\n",
       "      <th>A</th>\n",
       "      <th>B</th>\n",
       "      <th>C</th>\n",
       "      <th>D</th>\n",
       "      <th>E</th>\n",
       "    </tr>\n",
       "  </thead>\n",
       "  <tbody>\n",
       "    <tr>\n",
       "      <th>2013-01-01</th>\n",
       "      <td>0.000000</td>\n",
       "      <td>0.000000</td>\n",
       "      <td>0.599295</td>\n",
       "      <td>5</td>\n",
       "      <td>NaN</td>\n",
       "    </tr>\n",
       "    <tr>\n",
       "      <th>2013-01-02</th>\n",
       "      <td>-0.901598</td>\n",
       "      <td>-1.678151</td>\n",
       "      <td>-0.999941</td>\n",
       "      <td>5</td>\n",
       "      <td>1.0</td>\n",
       "    </tr>\n",
       "    <tr>\n",
       "      <th>2013-01-03</th>\n",
       "      <td>-0.561013</td>\n",
       "      <td>-2.697689</td>\n",
       "      <td>0.934477</td>\n",
       "      <td>5</td>\n",
       "      <td>2.0</td>\n",
       "    </tr>\n",
       "    <tr>\n",
       "      <th>2013-01-04</th>\n",
       "      <td>-1.326012</td>\n",
       "      <td>-0.396102</td>\n",
       "      <td>-1.688932</td>\n",
       "      <td>5</td>\n",
       "      <td>3.0</td>\n",
       "    </tr>\n",
       "    <tr>\n",
       "      <th>2013-01-05</th>\n",
       "      <td>-0.156187</td>\n",
       "      <td>1.911771</td>\n",
       "      <td>-0.703772</td>\n",
       "      <td>5</td>\n",
       "      <td>4.0</td>\n",
       "    </tr>\n",
       "    <tr>\n",
       "      <th>2013-01-06</th>\n",
       "      <td>0.418046</td>\n",
       "      <td>-0.742095</td>\n",
       "      <td>1.127069</td>\n",
       "      <td>5</td>\n",
       "      <td>5.0</td>\n",
       "    </tr>\n",
       "  </tbody>\n",
       "</table>\n",
       "</div>"
      ],
      "text/plain": [
       "                   A         B         C  D    E\n",
       "2013-01-01  0.000000  0.000000  0.599295  5  NaN\n",
       "2013-01-02 -0.901598 -1.678151 -0.999941  5  1.0\n",
       "2013-01-03 -0.561013 -2.697689  0.934477  5  2.0\n",
       "2013-01-04 -1.326012 -0.396102 -1.688932  5  3.0\n",
       "2013-01-05 -0.156187  1.911771 -0.703772  5  4.0\n",
       "2013-01-06  0.418046 -0.742095  1.127069  5  5.0"
      ]
     },
     "execution_count": 39,
     "metadata": {},
     "output_type": "execute_result"
    }
   ],
   "source": [
    "df.loc[:,'D'] = np.array([5] * len(df))\n",
    "df"
   ]
  },
  {
   "cell_type": "markdown",
   "metadata": {},
   "source": [
    "데이터를 특정 label이나 위치에 넣으려 할 때, at, loc, iloc 등을 이용한다"
   ]
  },
  {
   "cell_type": "markdown",
   "metadata": {},
   "source": [
    "## 연산"
   ]
  },
  {
   "cell_type": "raw",
   "metadata": {},
   "source": [
    "In [61]: df.mean()\n",
    "Out[61]: \n",
    "A   -0.004474\n",
    "B   -0.383981\n",
    "C   -0.687758\n",
    "D    5.000000\n",
    "F    3.000000\n",
    "dtype: float64\n",
    "\n",
    "In [62]: df.mean(1)\n",
    "Out[62]: \n",
    "2013-01-01    0.872735\n",
    "2013-01-02    1.431621\n",
    "2013-01-03    0.707731\n",
    "2013-01-04    1.395042\n",
    "2013-01-05    1.883656\n",
    "2013-01-06    1.592306\n",
    "Freq: D, dtype: float64    "
   ]
  },
  {
   "cell_type": "code",
   "execution_count": 40,
   "metadata": {
    "collapsed": false
   },
   "outputs": [
    {
     "data": {
      "text/plain": [
       "A   -0.421127\n",
       "B   -0.600377\n",
       "C   -0.121967\n",
       "D    5.000000\n",
       "E    3.000000\n",
       "dtype: float64"
      ]
     },
     "execution_count": 40,
     "metadata": {},
     "output_type": "execute_result"
    }
   ],
   "source": [
    "df.mean()"
   ]
  },
  {
   "cell_type": "code",
   "execution_count": 41,
   "metadata": {
    "collapsed": false
   },
   "outputs": [
    {
     "data": {
      "text/plain": [
       "2013-01-01    1.399824\n",
       "2013-01-02    0.484062\n",
       "2013-01-03    0.935155\n",
       "2013-01-04    0.917791\n",
       "2013-01-05    2.010362\n",
       "2013-01-06    2.160604\n",
       "Freq: D, dtype: float64"
      ]
     },
     "execution_count": 41,
     "metadata": {},
     "output_type": "execute_result"
    }
   ],
   "source": [
    "df.mean(axis = 1)"
   ]
  },
  {
   "cell_type": "code",
   "execution_count": 42,
   "metadata": {
    "collapsed": false
   },
   "outputs": [
    {
     "name": "stderr",
     "output_type": "stream",
     "text": [
      "/Users/seokjoonyun/anaconda/lib/python3.5/site-packages/numpy/lib/function_base.py:3834: RuntimeWarning: Invalid value encountered in percentile\n",
      "  RuntimeWarning)\n"
     ]
    },
    {
     "data": {
      "text/html": [
       "<div>\n",
       "<table border=\"1\" class=\"dataframe\">\n",
       "  <thead>\n",
       "    <tr style=\"text-align: right;\">\n",
       "      <th></th>\n",
       "      <th>A</th>\n",
       "      <th>B</th>\n",
       "      <th>C</th>\n",
       "      <th>D</th>\n",
       "      <th>E</th>\n",
       "    </tr>\n",
       "  </thead>\n",
       "  <tbody>\n",
       "    <tr>\n",
       "      <th>count</th>\n",
       "      <td>6.000000</td>\n",
       "      <td>6.000000</td>\n",
       "      <td>6.000000</td>\n",
       "      <td>6.0</td>\n",
       "      <td>5.000000</td>\n",
       "    </tr>\n",
       "    <tr>\n",
       "      <th>mean</th>\n",
       "      <td>-0.421127</td>\n",
       "      <td>-0.600377</td>\n",
       "      <td>-0.121967</td>\n",
       "      <td>5.0</td>\n",
       "      <td>3.000000</td>\n",
       "    </tr>\n",
       "    <tr>\n",
       "      <th>std</th>\n",
       "      <td>0.635766</td>\n",
       "      <td>1.568022</td>\n",
       "      <td>1.162850</td>\n",
       "      <td>0.0</td>\n",
       "      <td>1.581139</td>\n",
       "    </tr>\n",
       "    <tr>\n",
       "      <th>min</th>\n",
       "      <td>-1.326012</td>\n",
       "      <td>-2.697689</td>\n",
       "      <td>-1.688932</td>\n",
       "      <td>5.0</td>\n",
       "      <td>1.000000</td>\n",
       "    </tr>\n",
       "    <tr>\n",
       "      <th>25%</th>\n",
       "      <td>-0.816452</td>\n",
       "      <td>-1.444137</td>\n",
       "      <td>-0.925899</td>\n",
       "      <td>5.0</td>\n",
       "      <td>NaN</td>\n",
       "    </tr>\n",
       "    <tr>\n",
       "      <th>50%</th>\n",
       "      <td>-0.358600</td>\n",
       "      <td>-0.569098</td>\n",
       "      <td>-0.052239</td>\n",
       "      <td>5.0</td>\n",
       "      <td>NaN</td>\n",
       "    </tr>\n",
       "    <tr>\n",
       "      <th>75%</th>\n",
       "      <td>-0.039047</td>\n",
       "      <td>-0.099025</td>\n",
       "      <td>0.850681</td>\n",
       "      <td>5.0</td>\n",
       "      <td>NaN</td>\n",
       "    </tr>\n",
       "    <tr>\n",
       "      <th>max</th>\n",
       "      <td>0.418046</td>\n",
       "      <td>1.911771</td>\n",
       "      <td>1.127069</td>\n",
       "      <td>5.0</td>\n",
       "      <td>5.000000</td>\n",
       "    </tr>\n",
       "  </tbody>\n",
       "</table>\n",
       "</div>"
      ],
      "text/plain": [
       "              A         B         C    D         E\n",
       "count  6.000000  6.000000  6.000000  6.0  5.000000\n",
       "mean  -0.421127 -0.600377 -0.121967  5.0  3.000000\n",
       "std    0.635766  1.568022  1.162850  0.0  1.581139\n",
       "min   -1.326012 -2.697689 -1.688932  5.0  1.000000\n",
       "25%   -0.816452 -1.444137 -0.925899  5.0       NaN\n",
       "50%   -0.358600 -0.569098 -0.052239  5.0       NaN\n",
       "75%   -0.039047 -0.099025  0.850681  5.0       NaN\n",
       "max    0.418046  1.911771  1.127069  5.0  5.000000"
      ]
     },
     "execution_count": 42,
     "metadata": {},
     "output_type": "execute_result"
    }
   ],
   "source": [
    "df.describe()"
   ]
  },
  {
   "cell_type": "markdown",
   "metadata": {},
   "source": [
    "mean, min, max, median 등등의 함수를 DataFrame, 또는 선정된 Column등에 이용할 수 있다"
   ]
  },
  {
   "cell_type": "raw",
   "metadata": {},
   "source": [
    "In [66]: df.apply(np.cumsum)\n",
    "Out[66]: \n",
    "                   A         B         C   D     F\n",
    "2013-01-01  0.000000  0.000000 -1.509059   5   NaN\n",
    "2013-01-02  1.212112 -0.173215 -1.389850  10   1.0\n",
    "2013-01-03  0.350263 -2.277784 -1.884779  15   3.0\n",
    "2013-01-04  1.071818 -2.984555 -2.924354  20   6.0\n",
    "2013-01-05  0.646846 -2.417535 -2.648122  25  10.0\n",
    "2013-01-06 -0.026844 -2.303886 -4.126549  30  15.0\n",
    "\n",
    "In [67]: df.apply(lambda x: x.max() - x.min())\n",
    "Out[67]: \n",
    "A    2.073961\n",
    "B    2.671590\n",
    "C    1.785291\n",
    "D    0.000000\n",
    "F    4.000000\n",
    "dtype: float64"
   ]
  },
  {
   "cell_type": "code",
   "execution_count": 43,
   "metadata": {
    "collapsed": false
   },
   "outputs": [
    {
     "data": {
      "text/html": [
       "<div>\n",
       "<table border=\"1\" class=\"dataframe\">\n",
       "  <thead>\n",
       "    <tr style=\"text-align: right;\">\n",
       "      <th></th>\n",
       "      <th>A</th>\n",
       "      <th>B</th>\n",
       "      <th>C</th>\n",
       "      <th>D</th>\n",
       "      <th>E</th>\n",
       "    </tr>\n",
       "  </thead>\n",
       "  <tbody>\n",
       "    <tr>\n",
       "      <th>2013-01-01</th>\n",
       "      <td>0.000000</td>\n",
       "      <td>0.000000</td>\n",
       "      <td>0.599295</td>\n",
       "      <td>5</td>\n",
       "      <td>NaN</td>\n",
       "    </tr>\n",
       "    <tr>\n",
       "      <th>2013-01-02</th>\n",
       "      <td>-0.901598</td>\n",
       "      <td>-1.678151</td>\n",
       "      <td>-0.400646</td>\n",
       "      <td>10</td>\n",
       "      <td>1.0</td>\n",
       "    </tr>\n",
       "    <tr>\n",
       "      <th>2013-01-03</th>\n",
       "      <td>-1.462611</td>\n",
       "      <td>-4.375840</td>\n",
       "      <td>0.533831</td>\n",
       "      <td>15</td>\n",
       "      <td>3.0</td>\n",
       "    </tr>\n",
       "    <tr>\n",
       "      <th>2013-01-04</th>\n",
       "      <td>-2.788623</td>\n",
       "      <td>-4.771941</td>\n",
       "      <td>-1.155101</td>\n",
       "      <td>20</td>\n",
       "      <td>6.0</td>\n",
       "    </tr>\n",
       "    <tr>\n",
       "      <th>2013-01-05</th>\n",
       "      <td>-2.944810</td>\n",
       "      <td>-2.860170</td>\n",
       "      <td>-1.858873</td>\n",
       "      <td>25</td>\n",
       "      <td>10.0</td>\n",
       "    </tr>\n",
       "    <tr>\n",
       "      <th>2013-01-06</th>\n",
       "      <td>-2.526765</td>\n",
       "      <td>-3.602265</td>\n",
       "      <td>-0.731805</td>\n",
       "      <td>30</td>\n",
       "      <td>15.0</td>\n",
       "    </tr>\n",
       "  </tbody>\n",
       "</table>\n",
       "</div>"
      ],
      "text/plain": [
       "                   A         B         C   D     E\n",
       "2013-01-01  0.000000  0.000000  0.599295   5   NaN\n",
       "2013-01-02 -0.901598 -1.678151 -0.400646  10   1.0\n",
       "2013-01-03 -1.462611 -4.375840  0.533831  15   3.0\n",
       "2013-01-04 -2.788623 -4.771941 -1.155101  20   6.0\n",
       "2013-01-05 -2.944810 -2.860170 -1.858873  25  10.0\n",
       "2013-01-06 -2.526765 -3.602265 -0.731805  30  15.0"
      ]
     },
     "execution_count": 43,
     "metadata": {},
     "output_type": "execute_result"
    }
   ],
   "source": [
    "df.apply(np.cumsum)"
   ]
  },
  {
   "cell_type": "code",
   "execution_count": 46,
   "metadata": {
    "collapsed": false
   },
   "outputs": [
    {
     "data": {
      "text/plain": [
       "2013-01-01                [0.0]\n",
       "2013-01-02     [-0.90159805064]\n",
       "2013-01-03    [-0.561012747431]\n",
       "2013-01-04     [-1.32601235055]\n",
       "2013-01-05    [-0.156187333246]\n",
       "2013-01-06     [0.418045698962]\n",
       "Freq: D, Name: A, dtype: object"
      ]
     },
     "execution_count": 46,
     "metadata": {},
     "output_type": "execute_result"
    }
   ],
   "source": [
    "df['A'].apply(np.cumsum)"
   ]
  },
  {
   "cell_type": "code",
   "execution_count": 47,
   "metadata": {
    "collapsed": false
   },
   "outputs": [
    {
     "data": {
      "text/html": [
       "<div>\n",
       "<table border=\"1\" class=\"dataframe\">\n",
       "  <thead>\n",
       "    <tr style=\"text-align: right;\">\n",
       "      <th></th>\n",
       "      <th>A</th>\n",
       "      <th>B</th>\n",
       "      <th>C</th>\n",
       "      <th>D</th>\n",
       "      <th>E</th>\n",
       "    </tr>\n",
       "  </thead>\n",
       "  <tbody>\n",
       "    <tr>\n",
       "      <th>2013-01-01</th>\n",
       "      <td>0.000000</td>\n",
       "      <td>0.000000</td>\n",
       "      <td>0.599295</td>\n",
       "      <td>5.599295</td>\n",
       "      <td>NaN</td>\n",
       "    </tr>\n",
       "    <tr>\n",
       "      <th>2013-01-02</th>\n",
       "      <td>-0.901598</td>\n",
       "      <td>-2.579749</td>\n",
       "      <td>-3.579690</td>\n",
       "      <td>1.420310</td>\n",
       "      <td>2.420310</td>\n",
       "    </tr>\n",
       "    <tr>\n",
       "      <th>2013-01-03</th>\n",
       "      <td>-0.561013</td>\n",
       "      <td>-3.258702</td>\n",
       "      <td>-2.324225</td>\n",
       "      <td>2.675775</td>\n",
       "      <td>4.675775</td>\n",
       "    </tr>\n",
       "    <tr>\n",
       "      <th>2013-01-04</th>\n",
       "      <td>-1.326012</td>\n",
       "      <td>-1.722114</td>\n",
       "      <td>-3.411046</td>\n",
       "      <td>1.588954</td>\n",
       "      <td>4.588954</td>\n",
       "    </tr>\n",
       "    <tr>\n",
       "      <th>2013-01-05</th>\n",
       "      <td>-0.156187</td>\n",
       "      <td>1.755584</td>\n",
       "      <td>1.051812</td>\n",
       "      <td>6.051812</td>\n",
       "      <td>10.051812</td>\n",
       "    </tr>\n",
       "    <tr>\n",
       "      <th>2013-01-06</th>\n",
       "      <td>0.418046</td>\n",
       "      <td>-0.324049</td>\n",
       "      <td>0.803020</td>\n",
       "      <td>5.803020</td>\n",
       "      <td>10.803020</td>\n",
       "    </tr>\n",
       "  </tbody>\n",
       "</table>\n",
       "</div>"
      ],
      "text/plain": [
       "                   A         B         C         D          E\n",
       "2013-01-01  0.000000  0.000000  0.599295  5.599295        NaN\n",
       "2013-01-02 -0.901598 -2.579749 -3.579690  1.420310   2.420310\n",
       "2013-01-03 -0.561013 -3.258702 -2.324225  2.675775   4.675775\n",
       "2013-01-04 -1.326012 -1.722114 -3.411046  1.588954   4.588954\n",
       "2013-01-05 -0.156187  1.755584  1.051812  6.051812  10.051812\n",
       "2013-01-06  0.418046 -0.324049  0.803020  5.803020  10.803020"
      ]
     },
     "execution_count": 47,
     "metadata": {},
     "output_type": "execute_result"
    }
   ],
   "source": [
    "df.apply(np.cumsum, axis = 1)"
   ]
  },
  {
   "cell_type": "markdown",
   "metadata": {},
   "source": [
    "DataFrame이나, Series, 또는 DataFrame내 선별된 데이터에 연산 함수를 변수로 이용 할 수 있다"
   ]
  },
  {
   "cell_type": "markdown",
   "metadata": {},
   "source": [
    "##  Plotting"
   ]
  },
  {
   "cell_type": "raw",
   "metadata": {},
   "source": [
    "\n",
    "In [130]: ts = pd.Series(np.random.randn(1000), index=pd.date_range('1/1/2000', periods=1000))\n",
    "\n",
    "In [131]: ts = ts.cumsum()\n",
    "\n",
    "In [132]: ts.plot()\n",
    "Out[132]: <matplotlib.axes._subplots.AxesSubplot at 0x10efd5a90>"
   ]
  },
  {
   "cell_type": "code",
   "execution_count": 49,
   "metadata": {
    "collapsed": true
   },
   "outputs": [],
   "source": [
    "%matplotlib inline"
   ]
  },
  {
   "cell_type": "code",
   "execution_count": 55,
   "metadata": {
    "collapsed": false
   },
   "outputs": [
    {
     "data": {
      "text/plain": [
       "<matplotlib.axes._subplots.AxesSubplot at 0x11603def0>"
      ]
     },
     "execution_count": 55,
     "metadata": {},
     "output_type": "execute_result"
    },
    {
     "data": {
      "image/png": "[encoded data removed]",
      "text/plain": [
       "<matplotlib.figure.Figure at 0x116047080>"
      ]
     },
     "metadata": {},
     "output_type": "display_data"
    }
   ],
   "source": [
    "df['A'].plot()"
   ]
  },
  {
   "cell_type": "code",
   "execution_count": 54,
   "metadata": {
    "collapsed": false
   },
   "outputs": [
    {
     "data": {
      "text/plain": [
       "<matplotlib.axes._subplots.AxesSubplot at 0x115e819e8>"
      ]
     },
     "execution_count": 54,
     "metadata": {},
     "output_type": "execute_result"
    },
    {
     "data": {
      "image/png": "[encoded data removed]",
      "text/plain": [
       "<matplotlib.figure.Figure at 0x11319d6d8>"
      ]
     },
     "metadata": {},
     "output_type": "display_data"
    }
   ],
   "source": [
    "df['C'].hist()"
   ]
  },
  {
   "cell_type": "code",
   "execution_count": 56,
   "metadata": {
    "collapsed": false
   },
   "outputs": [
    {
     "data": {
      "text/plain": [
       "<matplotlib.axes._subplots.AxesSubplot at 0x116179048>"
      ]
     },
     "execution_count": 56,
     "metadata": {},
     "output_type": "execute_result"
    },
    {
     "data": {
      "image/png": "[encoded data removed]",
      "text/plain": [
       "<matplotlib.figure.Figure at 0x1161b37f0>"
      ]
     },
     "metadata": {},
     "output_type": "display_data"
    }
   ],
   "source": [
    "df.plot()"
   ]
  },
  {
   "cell_type": "markdown",
   "metadata": {},
   "source": [
    "DataFrame이나, Series에 .plot()을 붙이면 index에 따라 data를 바로 시각화 한다"
   ]
  },
  {
   "cell_type": "code",
   "execution_count": 19,
   "metadata": {
    "collapsed": false
   },
   "outputs": [
    {
     "name": "stdout",
     "output_type": "stream",
     "text": [
      "Populating the interactive namespace from numpy and matplotlib\n"
     ]
    },
    {
     "data": {
      "text/plain": [
       "<matplotlib.axes._subplots.AxesSubplot at 0x2203a36f4e0>"
      ]
     },
     "execution_count": 19,
     "metadata": {},
     "output_type": "execute_result"
    },
    {
     "data": {
      "image/png": "[encoded data removed]",
      "text/plain": [
       "<matplotlib.figure.Figure at 0x22037c10eb8>"
      ]
     },
     "metadata": {},
     "output_type": "display_data"
    }
   ],
   "source": [
    "%pylab inline\n",
    "import pandas as pd\n",
    "ts = pd.Series(np.random.randn(1000), index=pd.date_range('1/1/2000', periods=1000))\n",
    "ts = ts.cumsum()\n",
    "ts.plot()"
   ]
  },
  {
   "cell_type": "code",
   "execution_count": 20,
   "metadata": {
    "collapsed": false
   },
   "outputs": [
    {
     "data": {
      "text/plain": [
       "<matplotlib.axes._subplots.AxesSubplot at 0x22038fc7d68>"
      ]
     },
     "execution_count": 20,
     "metadata": {},
     "output_type": "execute_result"
    },
    {
     "data": {
      "image/png": "[encoded data removed]",
      "text/plain": [
       "<matplotlib.figure.Figure at 0x22039e89fd0>"
      ]
     },
     "metadata": {},
     "output_type": "display_data"
    }
   ],
   "source": [
    "ts.hist()"
   ]
  },
  {
   "cell_type": "markdown",
   "metadata": {},
   "source": [
    ".hist()를 이용하면 별다른 수고 없이 바로 히스토그램을 얻을 수 있다."
   ]
  },
  {
   "cell_type": "markdown",
   "metadata": {},
   "source": [
    "## Data 읽기, 저장"
   ]
  },
  {
   "cell_type": "markdown",
   "metadata": {},
   "source": [
    "### csv r/w"
   ]
  },
  {
   "cell_type": "raw",
   "metadata": {},
   "source": [
    "In [136]: df.to_csv('foo.csv')\n",
    "\n",
    "In [137]: pd.read_csv('foo.csv')\n",
    "Out[137]: \n",
    "     Unnamed: 0          A          B         C          D\n",
    "0    2000-01-01   0.266457  -0.399641 -0.219582   1.186860\n",
    "1    2000-01-02  -1.170732  -0.345873  1.653061  -0.282953\n",
    "2    2000-01-03  -1.734933   0.530468  2.060811  -0.515536\n",
    "3    2000-01-04  -1.555121   1.452620  0.239859  -1.156896\n",
    "4    2000-01-05   0.578117   0.511371  0.103552  -2.428202\n",
    "5    2000-01-06   0.478344   0.449933 -0.741620  -1.962409\n",
    "6    2000-01-07   1.235339  -0.091757 -1.543861  -1.084753\n",
    "..          ...        ...        ...       ...        ...\n",
    "993  2002-09-20 -10.628548  -9.153563 -7.883146  28.313940\n",
    "994  2002-09-21 -10.390377  -8.727491 -6.399645  30.914107\n",
    "995  2002-09-22  -8.985362  -8.485624 -4.669462  31.367740\n",
    "996  2002-09-23  -9.558560  -8.781216 -4.499815  30.518439\n",
    "997  2002-09-24  -9.902058  -9.340490 -4.386639  30.105593\n",
    "998  2002-09-25 -10.216020  -9.480682 -3.933802  29.758560\n",
    "999  2002-09-26 -11.856774 -10.671012 -3.216025  29.369368\n",
    "\n",
    "[1000 rows x 5 columns]"
   ]
  },
  {
   "cell_type": "code",
   "execution_count": 57,
   "metadata": {
    "collapsed": true
   },
   "outputs": [],
   "source": [
    "df.to_csv('foo.csv')"
   ]
  },
  {
   "cell_type": "code",
   "execution_count": 58,
   "metadata": {
    "collapsed": false
   },
   "outputs": [
    {
     "data": {
      "text/html": [
       "<div>\n",
       "<table border=\"1\" class=\"dataframe\">\n",
       "  <thead>\n",
       "    <tr style=\"text-align: right;\">\n",
       "      <th></th>\n",
       "      <th>Unnamed: 0</th>\n",
       "      <th>A</th>\n",
       "      <th>B</th>\n",
       "      <th>C</th>\n",
       "      <th>D</th>\n",
       "      <th>E</th>\n",
       "    </tr>\n",
       "  </thead>\n",
       "  <tbody>\n",
       "    <tr>\n",
       "      <th>0</th>\n",
       "      <td>2013-01-01</td>\n",
       "      <td>0.000000</td>\n",
       "      <td>0.000000</td>\n",
       "      <td>0.599295</td>\n",
       "      <td>5</td>\n",
       "      <td>NaN</td>\n",
       "    </tr>\n",
       "    <tr>\n",
       "      <th>1</th>\n",
       "      <td>2013-01-02</td>\n",
       "      <td>-0.901598</td>\n",
       "      <td>-1.678151</td>\n",
       "      <td>-0.999941</td>\n",
       "      <td>5</td>\n",
       "      <td>1.0</td>\n",
       "    </tr>\n",
       "    <tr>\n",
       "      <th>2</th>\n",
       "      <td>2013-01-03</td>\n",
       "      <td>-0.561013</td>\n",
       "      <td>-2.697689</td>\n",
       "      <td>0.934477</td>\n",
       "      <td>5</td>\n",
       "      <td>2.0</td>\n",
       "    </tr>\n",
       "    <tr>\n",
       "      <th>3</th>\n",
       "      <td>2013-01-04</td>\n",
       "      <td>-1.326012</td>\n",
       "      <td>-0.396102</td>\n",
       "      <td>-1.688932</td>\n",
       "      <td>5</td>\n",
       "      <td>3.0</td>\n",
       "    </tr>\n",
       "    <tr>\n",
       "      <th>4</th>\n",
       "      <td>2013-01-05</td>\n",
       "      <td>-0.156187</td>\n",
       "      <td>1.911771</td>\n",
       "      <td>-0.703772</td>\n",
       "      <td>5</td>\n",
       "      <td>4.0</td>\n",
       "    </tr>\n",
       "    <tr>\n",
       "      <th>5</th>\n",
       "      <td>2013-01-06</td>\n",
       "      <td>0.418046</td>\n",
       "      <td>-0.742095</td>\n",
       "      <td>1.127069</td>\n",
       "      <td>5</td>\n",
       "      <td>5.0</td>\n",
       "    </tr>\n",
       "  </tbody>\n",
       "</table>\n",
       "</div>"
      ],
      "text/plain": [
       "   Unnamed: 0         A         B         C  D    E\n",
       "0  2013-01-01  0.000000  0.000000  0.599295  5  NaN\n",
       "1  2013-01-02 -0.901598 -1.678151 -0.999941  5  1.0\n",
       "2  2013-01-03 -0.561013 -2.697689  0.934477  5  2.0\n",
       "3  2013-01-04 -1.326012 -0.396102 -1.688932  5  3.0\n",
       "4  2013-01-05 -0.156187  1.911771 -0.703772  5  4.0\n",
       "5  2013-01-06  0.418046 -0.742095  1.127069  5  5.0"
      ]
     },
     "execution_count": 58,
     "metadata": {},
     "output_type": "execute_result"
    }
   ],
   "source": [
    "pd.read_csv('foo.csv')"
   ]
  },
  {
   "cell_type": "code",
   "execution_count": 62,
   "metadata": {
    "collapsed": false
   },
   "outputs": [
    {
     "data": {
      "text/html": [
       "<div>\n",
       "<table border=\"1\" class=\"dataframe\">\n",
       "  <thead>\n",
       "    <tr style=\"text-align: right;\">\n",
       "      <th></th>\n",
       "      <th>Unnamed:</th>\n",
       "      <th>0</th>\n",
       "      <th>A</th>\n",
       "      <th>B</th>\n",
       "      <th>C</th>\n",
       "      <th>D</th>\n",
       "      <th>E</th>\n",
       "    </tr>\n",
       "  </thead>\n",
       "  <tbody>\n",
       "    <tr>\n",
       "      <th>0</th>\n",
       "      <td>0</td>\n",
       "      <td>2013-01-01</td>\n",
       "      <td>0.000000</td>\n",
       "      <td>0.000000</td>\n",
       "      <td>0.599295</td>\n",
       "      <td>5</td>\n",
       "      <td>NaN</td>\n",
       "    </tr>\n",
       "    <tr>\n",
       "      <th>1</th>\n",
       "      <td>1</td>\n",
       "      <td>2013-01-02</td>\n",
       "      <td>-0.901598</td>\n",
       "      <td>-1.678151</td>\n",
       "      <td>-0.999941</td>\n",
       "      <td>5</td>\n",
       "      <td>1.0</td>\n",
       "    </tr>\n",
       "    <tr>\n",
       "      <th>2</th>\n",
       "      <td>2</td>\n",
       "      <td>2013-01-03</td>\n",
       "      <td>-0.561013</td>\n",
       "      <td>-2.697689</td>\n",
       "      <td>0.934477</td>\n",
       "      <td>5</td>\n",
       "      <td>2.0</td>\n",
       "    </tr>\n",
       "    <tr>\n",
       "      <th>3</th>\n",
       "      <td>3</td>\n",
       "      <td>2013-01-04</td>\n",
       "      <td>-1.326012</td>\n",
       "      <td>-0.396102</td>\n",
       "      <td>-1.688932</td>\n",
       "      <td>5</td>\n",
       "      <td>3.0</td>\n",
       "    </tr>\n",
       "    <tr>\n",
       "      <th>4</th>\n",
       "      <td>4</td>\n",
       "      <td>2013-01-05</td>\n",
       "      <td>-0.156187</td>\n",
       "      <td>1.911771</td>\n",
       "      <td>-0.703772</td>\n",
       "      <td>5</td>\n",
       "      <td>4.0</td>\n",
       "    </tr>\n",
       "    <tr>\n",
       "      <th>5</th>\n",
       "      <td>5</td>\n",
       "      <td>2013-01-06</td>\n",
       "      <td>0.418046</td>\n",
       "      <td>-0.742095</td>\n",
       "      <td>1.127069</td>\n",
       "      <td>5</td>\n",
       "      <td>5.0</td>\n",
       "    </tr>\n",
       "  </tbody>\n",
       "</table>\n",
       "</div>"
      ],
      "text/plain": [
       "   Unnamed:           0         A         B         C  D    E\n",
       "0         0  2013-01-01  0.000000  0.000000  0.599295  5  NaN\n",
       "1         1  2013-01-02 -0.901598 -1.678151 -0.999941  5  1.0\n",
       "2         2  2013-01-03 -0.561013 -2.697689  0.934477  5  2.0\n",
       "3         3  2013-01-04 -1.326012 -0.396102 -1.688932  5  3.0\n",
       "4         4  2013-01-05 -0.156187  1.911771 -0.703772  5  4.0\n",
       "5         5  2013-01-06  0.418046 -0.742095  1.127069  5  5.0"
      ]
     },
     "execution_count": 62,
     "metadata": {},
     "output_type": "execute_result"
    }
   ],
   "source": [
    "pd.read_clipboard()"
   ]
  },
  {
   "cell_type": "code",
   "execution_count": 63,
   "metadata": {
    "collapsed": true
   },
   "outputs": [],
   "source": [
    "pd.read_csv?"
   ]
  },
  {
   "cell_type": "markdown",
   "metadata": {},
   "source": [
    "### excel r/w"
   ]
  },
  {
   "cell_type": "raw",
   "metadata": {},
   "source": [
    "In [140]: df.to_excel('foo.xlsx', sheet_name='Sheet1')\n",
    "    \n",
    "In [141]: pd.read_excel('foo.xlsx', 'Sheet1', index_col=None, na_values=['NA'])\n",
    "Out[141]: \n",
    "                    A          B         C          D\n",
    "2000-01-01   0.266457  -0.399641 -0.219582   1.186860\n",
    "2000-01-02  -1.170732  -0.345873  1.653061  -0.282953\n",
    "2000-01-03  -1.734933   0.530468  2.060811  -0.515536\n",
    "2000-01-04  -1.555121   1.452620  0.239859  -1.156896\n",
    "2000-01-05   0.578117   0.511371  0.103552  -2.428202\n",
    "2000-01-06   0.478344   0.449933 -0.741620  -1.962409\n",
    "2000-01-07   1.235339  -0.091757 -1.543861  -1.084753\n",
    "...               ...        ...       ...        ...\n",
    "2002-09-20 -10.628548  -9.153563 -7.883146  28.313940\n",
    "2002-09-21 -10.390377  -8.727491 -6.399645  30.914107\n",
    "2002-09-22  -8.985362  -8.485624 -4.669462  31.367740\n",
    "2002-09-23  -9.558560  -8.781216 -4.499815  30.518439\n",
    "2002-09-24  -9.902058  -9.340490 -4.386639  30.105593\n",
    "2002-09-25 -10.216020  -9.480682 -3.933802  29.758560\n",
    "2002-09-26 -11.856774 -10.671012 -3.216025  29.369368\n",
    "\n",
    "[1000 rows x 4 columns]"
   ]
  },
  {
   "cell_type": "code",
   "execution_count": 64,
   "metadata": {
    "collapsed": true
   },
   "outputs": [],
   "source": [
    "df.to_excel('foo.xlsx', sheet_name='Sheet1')"
   ]
  },
  {
   "cell_type": "code",
   "execution_count": 65,
   "metadata": {
    "collapsed": true
   },
   "outputs": [],
   "source": [
    "df.to_excel('foo.xlsx')"
   ]
  },
  {
   "cell_type": "code",
   "execution_count": 66,
   "metadata": {
    "collapsed": false
   },
   "outputs": [
    {
     "data": {
      "text/html": [
       "<div>\n",
       "<table border=\"1\" class=\"dataframe\">\n",
       "  <thead>\n",
       "    <tr style=\"text-align: right;\">\n",
       "      <th></th>\n",
       "      <th>A</th>\n",
       "      <th>B</th>\n",
       "      <th>C</th>\n",
       "      <th>D</th>\n",
       "      <th>E</th>\n",
       "    </tr>\n",
       "  </thead>\n",
       "  <tbody>\n",
       "    <tr>\n",
       "      <th>2013-01-01</th>\n",
       "      <td>0.000000</td>\n",
       "      <td>0.000000</td>\n",
       "      <td>0.599295</td>\n",
       "      <td>5</td>\n",
       "      <td>NaN</td>\n",
       "    </tr>\n",
       "    <tr>\n",
       "      <th>2013-01-02</th>\n",
       "      <td>-0.901598</td>\n",
       "      <td>-1.678151</td>\n",
       "      <td>-0.999941</td>\n",
       "      <td>5</td>\n",
       "      <td>1.0</td>\n",
       "    </tr>\n",
       "    <tr>\n",
       "      <th>2013-01-03</th>\n",
       "      <td>-0.561013</td>\n",
       "      <td>-2.697689</td>\n",
       "      <td>0.934477</td>\n",
       "      <td>5</td>\n",
       "      <td>2.0</td>\n",
       "    </tr>\n",
       "    <tr>\n",
       "      <th>2013-01-04</th>\n",
       "      <td>-1.326012</td>\n",
       "      <td>-0.396102</td>\n",
       "      <td>-1.688932</td>\n",
       "      <td>5</td>\n",
       "      <td>3.0</td>\n",
       "    </tr>\n",
       "    <tr>\n",
       "      <th>2013-01-05</th>\n",
       "      <td>-0.156187</td>\n",
       "      <td>1.911771</td>\n",
       "      <td>-0.703772</td>\n",
       "      <td>5</td>\n",
       "      <td>4.0</td>\n",
       "    </tr>\n",
       "    <tr>\n",
       "      <th>2013-01-06</th>\n",
       "      <td>0.418046</td>\n",
       "      <td>-0.742095</td>\n",
       "      <td>1.127069</td>\n",
       "      <td>5</td>\n",
       "      <td>5.0</td>\n",
       "    </tr>\n",
       "  </tbody>\n",
       "</table>\n",
       "</div>"
      ],
      "text/plain": [
       "                   A         B         C  D    E\n",
       "2013-01-01  0.000000  0.000000  0.599295  5  NaN\n",
       "2013-01-02 -0.901598 -1.678151 -0.999941  5  1.0\n",
       "2013-01-03 -0.561013 -2.697689  0.934477  5  2.0\n",
       "2013-01-04 -1.326012 -0.396102 -1.688932  5  3.0\n",
       "2013-01-05 -0.156187  1.911771 -0.703772  5  4.0\n",
       "2013-01-06  0.418046 -0.742095  1.127069  5  5.0"
      ]
     },
     "execution_count": 66,
     "metadata": {},
     "output_type": "execute_result"
    }
   ],
   "source": [
    "pd.read_excel('foo.xlsx', index_col=None, na_values=['NA'])"
   ]
  },
  {
   "cell_type": "code",
   "execution_count": 67,
   "metadata": {
    "collapsed": false,
    "scrolled": true
   },
   "outputs": [
    {
     "data": {
      "text/html": [
       "<div>\n",
       "<table border=\"1\" class=\"dataframe\">\n",
       "  <thead>\n",
       "    <tr style=\"text-align: right;\">\n",
       "      <th></th>\n",
       "      <th>A</th>\n",
       "      <th>B</th>\n",
       "      <th>C</th>\n",
       "      <th>D</th>\n",
       "      <th>E</th>\n",
       "    </tr>\n",
       "  </thead>\n",
       "  <tbody>\n",
       "    <tr>\n",
       "      <th>2013-01-01</th>\n",
       "      <td>0.000000</td>\n",
       "      <td>0.000000</td>\n",
       "      <td>0.599295</td>\n",
       "      <td>5</td>\n",
       "      <td>NaN</td>\n",
       "    </tr>\n",
       "    <tr>\n",
       "      <th>2013-01-02</th>\n",
       "      <td>-0.901598</td>\n",
       "      <td>-1.678151</td>\n",
       "      <td>-0.999941</td>\n",
       "      <td>5</td>\n",
       "      <td>1.0</td>\n",
       "    </tr>\n",
       "    <tr>\n",
       "      <th>2013-01-03</th>\n",
       "      <td>-0.561013</td>\n",
       "      <td>-2.697689</td>\n",
       "      <td>0.934477</td>\n",
       "      <td>5</td>\n",
       "      <td>2.0</td>\n",
       "    </tr>\n",
       "    <tr>\n",
       "      <th>2013-01-04</th>\n",
       "      <td>-1.326012</td>\n",
       "      <td>-0.396102</td>\n",
       "      <td>-1.688932</td>\n",
       "      <td>5</td>\n",
       "      <td>3.0</td>\n",
       "    </tr>\n",
       "    <tr>\n",
       "      <th>2013-01-05</th>\n",
       "      <td>-0.156187</td>\n",
       "      <td>1.911771</td>\n",
       "      <td>-0.703772</td>\n",
       "      <td>5</td>\n",
       "      <td>4.0</td>\n",
       "    </tr>\n",
       "    <tr>\n",
       "      <th>2013-01-06</th>\n",
       "      <td>0.418046</td>\n",
       "      <td>-0.742095</td>\n",
       "      <td>1.127069</td>\n",
       "      <td>5</td>\n",
       "      <td>5.0</td>\n",
       "    </tr>\n",
       "  </tbody>\n",
       "</table>\n",
       "</div>"
      ],
      "text/plain": [
       "                   A         B         C  D    E\n",
       "2013-01-01  0.000000  0.000000  0.599295  5  NaN\n",
       "2013-01-02 -0.901598 -1.678151 -0.999941  5  1.0\n",
       "2013-01-03 -0.561013 -2.697689  0.934477  5  2.0\n",
       "2013-01-04 -1.326012 -0.396102 -1.688932  5  3.0\n",
       "2013-01-05 -0.156187  1.911771 -0.703772  5  4.0\n",
       "2013-01-06  0.418046 -0.742095  1.127069  5  5.0"
      ]
     },
     "execution_count": 67,
     "metadata": {},
     "output_type": "execute_result"
    }
   ],
   "source": [
    "pd.read_excel('foo.xlsx', 'Sheet1', index_col=None, na_values=['NA'])"
   ]
  }
 ],
 "metadata": {
  "anaconda-cloud": {},
  "kernelspec": {
   "display_name": "Python [default]",
   "language": "python",
   "name": "python3"
  },
  "language_info": {
   "codemirror_mode": {
    "name": "ipython",
    "version": 3
   },
   "file_extension": ".py",
   "mimetype": "text/x-python",
   "name": "python",
   "nbconvert_exporter": "python",
   "pygments_lexer": "ipython3",
   "version": "3.5.2"
  }
 },
 "nbformat": 4,
 "nbformat_minor": 1
}
