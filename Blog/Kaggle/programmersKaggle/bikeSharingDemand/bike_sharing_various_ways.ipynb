{
 "cells": [
  {
   "cell_type": "code",
   "execution_count": 18,
   "metadata": {},
   "outputs": [
    {
     "data": {
      "text/html": [
       "<style>.container { width:100% !important; }</style>"
      ],
      "text/plain": [
       "<IPython.core.display.HTML object>"
      ]
     },
     "metadata": {},
     "output_type": "display_data"
    }
   ],
   "source": [
    "import pandas as pd\n",
    "import numpy as np\n",
    "\n",
    "import matplotlib as mpl\n",
    "import matplotlib.pyplot as plt\n",
    "import seaborn as sns\n",
    "\n",
    "# Suppress Deprecation and Incorrect Usage Warnings\n",
    "import warnings\n",
    "warnings.filterwarnings('ignore')\n",
    "warnings.filterwarnings(\"ignore\", category=DeprecationWarning)\n",
    "\n",
    "# Expand cell and pandas width 100%\n",
    "from IPython.core.display import display, HTML\n",
    "display(HTML(\"<style>.container { width:100% !important; }</style>\"))\n",
    "pd.set_option('display.max_rows', 1000)\n",
    "pd.set_option('display.max_columns', None)\n",
    "pd.options.mode.chained_assignment = None"
   ]
  },
  {
   "cell_type": "markdown",
   "metadata": {},
   "source": [
    "# Read Data"
   ]
  },
  {
   "cell_type": "code",
   "execution_count": 2,
   "metadata": {},
   "outputs": [
    {
     "name": "stdout",
     "output_type": "stream",
     "text": [
      "(10886, 12) (6493, 9)\n"
     ]
    }
   ],
   "source": [
    "train = pd.read_csv('data/train.csv', parse_dates=['datetime'])\n",
    "test  = pd.read_csv('data/test.csv',  parse_dates=['datetime'])\n",
    "\n",
    "print(train.shape, test.shape)"
   ]
  },
  {
   "cell_type": "markdown",
   "metadata": {},
   "source": [
    "# Feature Engineering"
   ]
  },
  {
   "cell_type": "code",
   "execution_count": 3,
   "metadata": {},
   "outputs": [],
   "source": [
    "def split_date(dt):\n",
    "    dt['year'] = dt['datetime'].dt.year\n",
    "    dt['month'] = dt['datetime'].dt.month\n",
    "    #dt['day'] = dt['datetime'].dt.day\n",
    "    dt['hour'] = dt['datetime'].dt.hour\n",
    "    #dt['minute'] = dt['datetime'].dt.minute\n",
    "    #dt['second'] = dt['datetime'].dt.second\n",
    "    dt['dayofweek'] = dt['datetime'].dt.dayofweek\n",
    "    \n",
    "    return dt"
   ]
  },
  {
   "cell_type": "code",
   "execution_count": 4,
   "metadata": {},
   "outputs": [
    {
     "name": "stdout",
     "output_type": "stream",
     "text": [
      "(10886, 16) (6493, 13)\n"
     ]
    }
   ],
   "source": [
    "train = split_date(train)\n",
    "test =split_date(test)\n",
    "\n",
    "print(train.shape, test.shape)"
   ]
  },
  {
   "cell_type": "markdown",
   "metadata": {},
   "source": [
    "### `연속형 feature`로 표현된 `범주형 feature`를 `category`로 변경"
   ]
  },
  {
   "cell_type": "code",
   "execution_count": 5,
   "metadata": {},
   "outputs": [],
   "source": [
    "categorical_feature_names = ['season', 'holiday', 'workingday', 'weather', 'dayofweek', 'month', 'year', 'hour']\n",
    "\n",
    "for col in categorical_feature_names:\n",
    "    train[col] = train[col].astype('category')\n",
    "    test[col] = test[col].astype('category')"
   ]
  },
  {
   "cell_type": "markdown",
   "metadata": {},
   "source": [
    "### 학습에 사용할 feature들만을 가지고 train/test data를 생성"
   ]
  },
  {
   "cell_type": "code",
   "execution_count": 8,
   "metadata": {},
   "outputs": [
    {
     "name": "stdout",
     "output_type": "stream",
     "text": [
      "(10886, 10) (6493, 10) (10886,)\n"
     ]
    },
    {
     "data": {
      "text/html": [
       "<div>\n",
       "<style scoped>\n",
       "    .dataframe tbody tr th:only-of-type {\n",
       "        vertical-align: middle;\n",
       "    }\n",
       "\n",
       "    .dataframe tbody tr th {\n",
       "        vertical-align: top;\n",
       "    }\n",
       "\n",
       "    .dataframe thead th {\n",
       "        text-align: right;\n",
       "    }\n",
       "</style>\n",
       "<table border=\"1\" class=\"dataframe\">\n",
       "  <thead>\n",
       "    <tr style=\"text-align: right;\">\n",
       "      <th></th>\n",
       "      <th>season</th>\n",
       "      <th>weather</th>\n",
       "      <th>temp</th>\n",
       "      <th>atemp</th>\n",
       "      <th>humidity</th>\n",
       "      <th>year</th>\n",
       "      <th>hour</th>\n",
       "      <th>dayofweek</th>\n",
       "      <th>holiday</th>\n",
       "      <th>workingday</th>\n",
       "    </tr>\n",
       "  </thead>\n",
       "  <tbody>\n",
       "    <tr>\n",
       "      <th>0</th>\n",
       "      <td>1</td>\n",
       "      <td>1</td>\n",
       "      <td>9.84</td>\n",
       "      <td>14.395</td>\n",
       "      <td>81</td>\n",
       "      <td>2011</td>\n",
       "      <td>0</td>\n",
       "      <td>5</td>\n",
       "      <td>0</td>\n",
       "      <td>0</td>\n",
       "    </tr>\n",
       "    <tr>\n",
       "      <th>1</th>\n",
       "      <td>1</td>\n",
       "      <td>1</td>\n",
       "      <td>9.02</td>\n",
       "      <td>13.635</td>\n",
       "      <td>80</td>\n",
       "      <td>2011</td>\n",
       "      <td>1</td>\n",
       "      <td>5</td>\n",
       "      <td>0</td>\n",
       "      <td>0</td>\n",
       "    </tr>\n",
       "    <tr>\n",
       "      <th>2</th>\n",
       "      <td>1</td>\n",
       "      <td>1</td>\n",
       "      <td>9.02</td>\n",
       "      <td>13.635</td>\n",
       "      <td>80</td>\n",
       "      <td>2011</td>\n",
       "      <td>2</td>\n",
       "      <td>5</td>\n",
       "      <td>0</td>\n",
       "      <td>0</td>\n",
       "    </tr>\n",
       "  </tbody>\n",
       "</table>\n",
       "</div>"
      ],
      "text/plain": [
       "  season weather  temp   atemp  humidity  year hour dayofweek holiday  \\\n",
       "0      1       1  9.84  14.395        81  2011    0         5       0   \n",
       "1      1       1  9.02  13.635        80  2011    1         5       0   \n",
       "2      1       1  9.02  13.635        80  2011    2         5       0   \n",
       "\n",
       "  workingday  \n",
       "0          0  \n",
       "1          0  \n",
       "2          0  "
      ]
     },
     "execution_count": 8,
     "metadata": {},
     "output_type": "execute_result"
    }
   ],
   "source": [
    "features = [\"season\", \"weather\", \"temp\", \"atemp\", \"humidity\", \"year\", \"hour\", \"dayofweek\", \"holiday\", \"workingday\"]\n",
    "label_name = 'count'\n",
    "\n",
    "X_train = train[features]\n",
    "X_test = test[features]\n",
    "\n",
    "y_train = train[label_name]\n",
    "\n",
    "print(X_train.shape, X_test.shape, y_train.shape)\n",
    "X_train.head(3)"
   ]
  },
  {
   "cell_type": "markdown",
   "metadata": {},
   "source": [
    "# Scoring에 사용할 RMSLE"
   ]
  },
  {
   "cell_type": "code",
   "execution_count": 13,
   "metadata": {},
   "outputs": [],
   "source": [
    "from sklearn.metrics import make_scorer\n",
    "\n",
    "def rmsle(predicted_values, actual_values, convertExp=True):\n",
    "    \n",
    "    if convertExp:\n",
    "        predicted_values = np.exp(predicted_values)\n",
    "        actual_values = np.exp(actual_values)\n",
    "        \n",
    "    # 넘파이로 배열 형태로 바꿔준다.\n",
    "    predicted_values = np.array(predicted_values)\n",
    "    actual_values = np.array(actual_values)\n",
    "\n",
    "    # 예측값과 실제 값에 1을 더하고 로그를 씌워준다.\n",
    "    log_predict = np.log(predicted_values + 1)\n",
    "    log_actual = np.log(actual_values + 1)\n",
    "\n",
    "    # 위에서 계산한 예측값에서 실제값을 빼주고 제곱을 해준다.\n",
    "    difference = log_predict - log_actual\n",
    "    # difference = (log_predict - log_actual) ** 2\n",
    "    difference = np.square(difference)\n",
    "\n",
    "    # 평균을 낸다.\n",
    "    mean_difference = difference.mean()\n",
    "\n",
    "    # 다시 루트를 씌운다.\n",
    "    score = np.sqrt(mean_difference)\n",
    "\n",
    "    return score"
   ]
  },
  {
   "cell_type": "markdown",
   "metadata": {},
   "source": [
    "# Linear Regression Model (선형회귀 모델)\n",
    "\n",
    "- 선형회귀(=최소제곱법) : 가장 간단하고 오래된 회귀용 선형 알고리즘\n",
    "- 예측과 훈련 세트에 있는 타겟 y 사이의 MSE(평균 제곱오차)를 최소화하는 파라메터 w와 b를 찾는다.\n",
    "- 매개변수가 없는게 장점이지만, 모델의 복잡도를 제어할 수 없다는 단점이 있다."
   ]
  },
  {
   "cell_type": "code",
   "execution_count": 10,
   "metadata": {},
   "outputs": [],
   "source": [
    "from sklearn.linear_model import LinearRegression, Ridge, Lasso\n",
    "from sklearn.model_selection import GridSearchCV\n",
    "from sklearn import metrics"
   ]
  },
  {
   "cell_type": "code",
   "execution_count": 14,
   "metadata": {},
   "outputs": [
    {
     "name": "stdout",
     "output_type": "stream",
     "text": [
      "RMSLE for Linear Resreggion:  0.9803697923313502\n"
     ]
    }
   ],
   "source": [
    "lrm = LinearRegression()\n",
    "\n",
    "y_train_log = np.log1p(y_train)\n",
    "lrm.fit(X_train, y_train_log)\n",
    "\n",
    "preds = lrm.predict(X_train)\n",
    "\n",
    "print(\"RMSLE for Linear Resreggion: \", rmsle(np.exp(y_train_log), np.exp(preds), False))\n"
   ]
  },
  {
   "cell_type": "markdown",
   "metadata": {},
   "source": [
    "# Ridge (릿지) - Regularization Model\n",
    "\n",
    "- 회귀를 위한 선형모델\n",
    "- 가중치(W)의 모든 원소가 0에 가깝게 만들어 모든 피처가 주는 영향을 최소화(기울기를 작게 만듬)\n",
    "- Regularization : overfitting이 되지 않도록 모델을 강제로 제한한다는 의미\n",
    "- max_iter(반복 실행하는 최대횟수) 설정이 가능"
   ]
  },
  {
   "cell_type": "code",
   "execution_count": 19,
   "metadata": {},
   "outputs": [
    {
     "name": "stdout",
     "output_type": "stream",
     "text": [
      "{'alpha': 0.01, 'max_iter': 3000}\n",
      "RMSLE for Ridge Regression:  0.9803697902780804\n"
     ]
    },
    {
     "data": {
      "text/html": [
       "<div>\n",
       "<style scoped>\n",
       "    .dataframe tbody tr th:only-of-type {\n",
       "        vertical-align: middle;\n",
       "    }\n",
       "\n",
       "    .dataframe tbody tr th {\n",
       "        vertical-align: top;\n",
       "    }\n",
       "\n",
       "    .dataframe thead th {\n",
       "        text-align: right;\n",
       "    }\n",
       "</style>\n",
       "<table border=\"1\" class=\"dataframe\">\n",
       "  <thead>\n",
       "    <tr style=\"text-align: right;\">\n",
       "      <th></th>\n",
       "      <th>parameters</th>\n",
       "      <th>mean_validation_score</th>\n",
       "      <th>cv_validation_scores</th>\n",
       "    </tr>\n",
       "  </thead>\n",
       "  <tbody>\n",
       "    <tr>\n",
       "      <th>0</th>\n",
       "      <td>{'alpha': 0.01, 'max_iter': 3000}</td>\n",
       "      <td>-0.987749</td>\n",
       "      <td>[-1.003137641023443, -0.906726280205338, -1.02...</td>\n",
       "    </tr>\n",
       "    <tr>\n",
       "      <th>1</th>\n",
       "      <td>{'alpha': 0.1, 'max_iter': 3000}</td>\n",
       "      <td>-0.987749</td>\n",
       "      <td>[-1.0031402881565283, -0.9067263646533399, -1....</td>\n",
       "    </tr>\n",
       "    <tr>\n",
       "      <th>2</th>\n",
       "      <td>{'alpha': 1, 'max_iter': 3000}</td>\n",
       "      <td>-0.987756</td>\n",
       "      <td>[-1.0031667672287898, -0.9067272289039383, -1....</td>\n",
       "    </tr>\n",
       "    <tr>\n",
       "      <th>3</th>\n",
       "      <td>{'alpha': 2, 'max_iter': 3000}</td>\n",
       "      <td>-0.987764</td>\n",
       "      <td>[-1.0031962048408585, -0.9067282312574716, -1....</td>\n",
       "    </tr>\n",
       "    <tr>\n",
       "      <th>4</th>\n",
       "      <td>{'alpha': 3, 'max_iter': 3000}</td>\n",
       "      <td>-0.987771</td>\n",
       "      <td>[-1.003225659604231, -0.906729277771113, -1.02...</td>\n",
       "    </tr>\n",
       "  </tbody>\n",
       "</table>\n",
       "</div>"
      ],
      "text/plain": [
       "                          parameters  mean_validation_score  \\\n",
       "0  {'alpha': 0.01, 'max_iter': 3000}              -0.987749   \n",
       "1   {'alpha': 0.1, 'max_iter': 3000}              -0.987749   \n",
       "2     {'alpha': 1, 'max_iter': 3000}              -0.987756   \n",
       "3     {'alpha': 2, 'max_iter': 3000}              -0.987764   \n",
       "4     {'alpha': 3, 'max_iter': 3000}              -0.987771   \n",
       "\n",
       "                                cv_validation_scores  \n",
       "0  [-1.003137641023443, -0.906726280205338, -1.02...  \n",
       "1  [-1.0031402881565283, -0.9067263646533399, -1....  \n",
       "2  [-1.0031667672287898, -0.9067272289039383, -1....  \n",
       "3  [-1.0031962048408585, -0.9067282312574716, -1....  \n",
       "4  [-1.003225659604231, -0.906729277771113, -1.02...  "
      ]
     },
     "execution_count": 19,
     "metadata": {},
     "output_type": "execute_result"
    }
   ],
   "source": [
    "ridge = Ridge()\n",
    "ridge_params = { 'max_iter': [3000], 'alpha' : [0.01, 0.1, 1, 2, 3, 4, 10, 30, 100, 200, 300, 400, 800, 900, 1000]}\n",
    "rmsle_scorer = metrics.make_scorer(rmsle, greater_is_better=False)\n",
    "\n",
    "grid_ridge = GridSearchCV(ridge, ridge_params, scoring=rmsle_scorer, cv=5)\n",
    "\n",
    "grid_ridge.fit(X_train, y_train_log)\n",
    "preds = grid_ridge.predict(X_train)\n",
    "\n",
    "print(grid_ridge.best_params_)\n",
    "print(\"RMSLE for Ridge Regression: \", rmsle(np.exp(y_train_log), np.exp(preds), False))\n",
    "\n",
    "df = pd.DataFrame(grid_ridge.grid_scores_)\n",
    "df.head()"
   ]
  },
  {
   "cell_type": "code",
   "execution_count": 20,
   "metadata": {},
   "outputs": [
    {
     "data": {
      "text/plain": [
       "<matplotlib.axes._subplots.AxesSubplot at 0x11bbc4860>"
      ]
     },
     "execution_count": 20,
     "metadata": {},
     "output_type": "execute_result"
    },
    {
     "data": {
      "image/png": "[encoded data removed]",
      "text/plain": [
       "<matplotlib.figure.Figure at 0x11a9a4390>"
      ]
     },
     "metadata": {},
     "output_type": "display_data"
    }
   ],
   "source": [
    "fig, ax = plt.subplots()\n",
    "fig.set_size_inches(12, 5)\n",
    "\n",
    "df['alpha'] = df['parameters'].apply(lambda x: x['alpha'])\n",
    "df['rmsle'] = df['mean_validation_score'].apply(lambda x: -x)\n",
    "\n",
    "plt.xticks(rotation=30, ha='right')\n",
    "sns.pointplot(data=df, x='alpha', y='rmsle', ax=ax)"
   ]
  },
  {
   "cell_type": "markdown",
   "metadata": {},
   "source": [
    "# Lasso (라쏘)\n",
    "\n",
    "- 선형회귀의 Regularization을 적용하는 대안\n",
    "- 계수를 0에 가깝게 만들려고 하여 이를 L1규제라고 하며, 어떤 계수는 0이 되기도함(완전히 제외하는 feature를 의미)\n",
    "- feature 선택이 자동으로 이루어진다고도 볼 수 있음\n",
    "- alpha 값의 기본값은 1.0이며, 과소 적합을 줄이기 위해서는 이 값을 줄여야 한다."
   ]
  },
  {
   "cell_type": "code",
   "execution_count": 23,
   "metadata": {},
   "outputs": [
    {
     "name": "stdout",
     "output_type": "stream",
     "text": [
      "{'alpha': 0.00125, 'max_iter': 3000}\n",
      "RMSLE for Lasso:  0.9803727821457643\n"
     ]
    },
    {
     "data": {
      "text/html": [
       "<div>\n",
       "<style scoped>\n",
       "    .dataframe tbody tr th:only-of-type {\n",
       "        vertical-align: middle;\n",
       "    }\n",
       "\n",
       "    .dataframe tbody tr th {\n",
       "        vertical-align: top;\n",
       "    }\n",
       "\n",
       "    .dataframe thead th {\n",
       "        text-align: right;\n",
       "    }\n",
       "</style>\n",
       "<table border=\"1\" class=\"dataframe\">\n",
       "  <thead>\n",
       "    <tr style=\"text-align: right;\">\n",
       "      <th></th>\n",
       "      <th>parameters</th>\n",
       "      <th>mean_validation_score</th>\n",
       "      <th>cv_validation_scores</th>\n",
       "    </tr>\n",
       "  </thead>\n",
       "  <tbody>\n",
       "    <tr>\n",
       "      <th>0</th>\n",
       "      <td>{'alpha': 10.0, 'max_iter': 3000}</td>\n",
       "      <td>-1.397134</td>\n",
       "      <td>[-1.5029884714408925, -1.2764418435331946, -1....</td>\n",
       "    </tr>\n",
       "    <tr>\n",
       "      <th>1</th>\n",
       "      <td>{'alpha': 1.0, 'max_iter': 3000}</td>\n",
       "      <td>-1.071961</td>\n",
       "      <td>[-1.2208509459409598, -0.95031831588364, -1.03...</td>\n",
       "    </tr>\n",
       "    <tr>\n",
       "      <th>2</th>\n",
       "      <td>{'alpha': 0.5, 'max_iter': 3000}</td>\n",
       "      <td>-1.062121</td>\n",
       "      <td>[-1.186543246069281, -0.9593010075144198, -1.0...</td>\n",
       "    </tr>\n",
       "    <tr>\n",
       "      <th>3</th>\n",
       "      <td>{'alpha': 0.3333333333333333, 'max_iter': 3000}</td>\n",
       "      <td>-1.060826</td>\n",
       "      <td>[-1.1765732178094037, -0.9654552266044552, -1....</td>\n",
       "    </tr>\n",
       "    <tr>\n",
       "      <th>4</th>\n",
       "      <td>{'alpha': 0.25, 'max_iter': 3000}</td>\n",
       "      <td>-1.061149</td>\n",
       "      <td>[-1.1718729510267891, -0.9690062951847751, -1....</td>\n",
       "    </tr>\n",
       "  </tbody>\n",
       "</table>\n",
       "</div>"
      ],
      "text/plain": [
       "                                        parameters  mean_validation_score  \\\n",
       "0                {'alpha': 10.0, 'max_iter': 3000}              -1.397134   \n",
       "1                 {'alpha': 1.0, 'max_iter': 3000}              -1.071961   \n",
       "2                 {'alpha': 0.5, 'max_iter': 3000}              -1.062121   \n",
       "3  {'alpha': 0.3333333333333333, 'max_iter': 3000}              -1.060826   \n",
       "4                {'alpha': 0.25, 'max_iter': 3000}              -1.061149   \n",
       "\n",
       "                                cv_validation_scores  \n",
       "0  [-1.5029884714408925, -1.2764418435331946, -1....  \n",
       "1  [-1.2208509459409598, -0.95031831588364, -1.03...  \n",
       "2  [-1.186543246069281, -0.9593010075144198, -1.0...  \n",
       "3  [-1.1765732178094037, -0.9654552266044552, -1....  \n",
       "4  [-1.1718729510267891, -0.9690062951847751, -1....  "
      ]
     },
     "execution_count": 23,
     "metadata": {},
     "output_type": "execute_result"
    }
   ],
   "source": [
    "lasso = Lasso()\n",
    "\n",
    "alpha = 1/np.array([0.1, 1, 2, 3, 4, 10, 30, 100, 200, 300, 400, 800, 900, 1000])\n",
    "lasso_params = { 'max_iter': [3000], 'alpha' : alpha}\n",
    "\n",
    "grid_lasso = GridSearchCV(lasso, lasso_params, scoring=rmsle_scorer, cv=5)\n",
    "grid_lasso.fit(X_train, y_train_log)\n",
    "preds = grid_lasso.predict(X_train)\n",
    "\n",
    "print(grid_lasso.best_params_)\n",
    "print(\"RMSLE for Lasso: \", rmsle(np.exp(y_train_log), np.exp(preds), False))\n",
    "\n",
    "df = pd.DataFrame(grid_lasso.grid_scores_)\n",
    "df.head()"
   ]
  },
  {
   "cell_type": "code",
   "execution_count": 24,
   "metadata": {},
   "outputs": [
    {
     "data": {
      "text/plain": [
       "<matplotlib.axes._subplots.AxesSubplot at 0x118cb0748>"
      ]
     },
     "execution_count": 24,
     "metadata": {},
     "output_type": "execute_result"
    },
    {
     "data": {
      "image/png": "[encoded data removed]",
      "text/plain": [
       "<matplotlib.figure.Figure at 0x118cd0d30>"
      ]
     },
     "metadata": {},
     "output_type": "display_data"
    }
   ],
   "source": [
    "fig, ax = plt.subplots()\n",
    "fig.set_size_inches(12, 5)\n",
    "\n",
    "df['alpha'] = df['parameters'].apply(lambda x: x['alpha'])\n",
    "df['rmsle'] = df['mean_validation_score'].apply(lambda x: -x)\n",
    "\n",
    "plt.xticks(rotation=30, ha='right')\n",
    "sns.pointplot(data=df, x='alpha', y='rmsle', ax=ax)"
   ]
  },
  {
   "cell_type": "markdown",
   "metadata": {},
   "source": [
    "# Ensemble Models - Random Forest"
   ]
  },
  {
   "cell_type": "code",
   "execution_count": 26,
   "metadata": {},
   "outputs": [
    {
     "name": "stdout",
     "output_type": "stream",
     "text": [
      "RMSLE for Random Forest:  0.10690581410552694\n"
     ]
    }
   ],
   "source": [
    "from sklearn.ensemble import RandomForestRegressor\n",
    "\n",
    "rf = RandomForestRegressor(n_estimators=100)\n",
    "\n",
    "rf.fit(X_train, y_train_log)\n",
    "preds = rf.predict(X_train)\n",
    "\n",
    "score = rmsle(np.exp(y_train_log), np.exp(preds), False)\n",
    "print(\"RMSLE for Random Forest: \", score)"
   ]
  },
  {
   "cell_type": "markdown",
   "metadata": {},
   "source": [
    "# Ensemble Model - Gradient Boost\n",
    "\n",
    "- 여러 개의 결정 트리를 묶어 강력한 모델을 만다는 또 다른 앙상블 기법\n",
    "- 회귀와 분류 모두 사용 가능\n",
    "- Random Forest와는 달리 이진 트리의 오차를 보완하는 방식으로 순차적으로 트리를 생성\n",
    "- 무작위성이 없고 강력한 사전 가지치기가 사용됨\n",
    "- 1 ~ 5 개의 깊지 않은 트리를 사용하기 때문에 메모리를 적게 사용하고 예측이 빠름\n",
    "- learning_rate : 오차를 얼마나 강하게 보정할 것인지를 제어\n",
    "- n_estimator 의 값을 키우며 앙상블에 트리가 더 많이 추가되어 모델의 복잡도가 커지고 훈련 세트에서의 실수를 바로잡을 기회가 많아지지만, 너무 크면 모델이 복잡해지고 overfitting이 될 수 있다.\n",
    "- max_depth(max_leaf_nodes) 복잡도를 너무 높이지 말고 트리의 깊이가 5보다 깊어지지 않게 한다."
   ]
  },
  {
   "cell_type": "code",
   "execution_count": 27,
   "metadata": {},
   "outputs": [
    {
     "name": "stdout",
     "output_type": "stream",
     "text": [
      "RMSLE for Random Forest:  0.2135740372724937\n"
     ]
    }
   ],
   "source": [
    "from sklearn.ensemble import GradientBoostingRegressor\n",
    "\n",
    "gb = GradientBoostingRegressor(n_estimators=4000, alpha=0.01)\n",
    "\n",
    "gb.fit(X_train, y_train_log)\n",
    "preds = gb.predict(X_train)\n",
    "\n",
    "score = rmsle(np.exp(y_train_log), np.exp(preds), False)\n",
    "print(\"RMSLE for Random Forest: \", score)"
   ]
  },
  {
   "cell_type": "code",
   "execution_count": 28,
   "metadata": {},
   "outputs": [
    {
     "data": {
      "text/plain": [
       "<matplotlib.axes._subplots.AxesSubplot at 0x12254c828>"
      ]
     },
     "execution_count": 28,
     "metadata": {},
     "output_type": "execute_result"
    },
    {
     "data": {
      "image/png": "[encoded data removed]",
      "text/plain": [
       "<matplotlib.figure.Figure at 0x11cba5cc0>"
      ]
     },
     "metadata": {},
     "output_type": "display_data"
    }
   ],
   "source": [
    "preds_test = gb.predict(X_test)\n",
    "\n",
    "fig, (ax1, ax2) = plt.subplots(ncols=2)\n",
    "fig.set_size_inches(12, 5)\n",
    "\n",
    "sns.distplot(y_train, ax=ax1, bins=50)\n",
    "sns.distplot(np.exp(preds_test), ax=ax2, bins=50)"
   ]
  },
  {
   "cell_type": "markdown",
   "metadata": {},
   "source": [
    "# Submit : Random Forest"
   ]
  },
  {
   "cell_type": "code",
   "execution_count": 30,
   "metadata": {},
   "outputs": [
    {
     "data": {
      "text/plain": [
       "0.10669210787133684"
      ]
     },
     "execution_count": 30,
     "metadata": {},
     "output_type": "execute_result"
    }
   ],
   "source": [
    "rf.fit(X_train, y_train_log)\n",
    "preds = rf.predict(X_train)\n",
    "\n",
    "score = rmsle(np.exp(y_train_log), np.exp(preds), False)\n",
    "score"
   ]
  },
  {
   "cell_type": "code",
   "execution_count": 31,
   "metadata": {},
   "outputs": [
    {
     "data": {
      "text/html": [
       "<div>\n",
       "<style scoped>\n",
       "    .dataframe tbody tr th:only-of-type {\n",
       "        vertical-align: middle;\n",
       "    }\n",
       "\n",
       "    .dataframe tbody tr th {\n",
       "        vertical-align: top;\n",
       "    }\n",
       "\n",
       "    .dataframe thead th {\n",
       "        text-align: right;\n",
       "    }\n",
       "</style>\n",
       "<table border=\"1\" class=\"dataframe\">\n",
       "  <thead>\n",
       "    <tr style=\"text-align: right;\">\n",
       "      <th></th>\n",
       "      <th>datetime</th>\n",
       "      <th>count</th>\n",
       "    </tr>\n",
       "  </thead>\n",
       "  <tbody>\n",
       "    <tr>\n",
       "      <th>0</th>\n",
       "      <td>2011-01-20 00:00:00</td>\n",
       "      <td>13.044707</td>\n",
       "    </tr>\n",
       "    <tr>\n",
       "      <th>1</th>\n",
       "      <td>2011-01-20 01:00:00</td>\n",
       "      <td>5.171476</td>\n",
       "    </tr>\n",
       "    <tr>\n",
       "      <th>2</th>\n",
       "      <td>2011-01-20 02:00:00</td>\n",
       "      <td>4.000739</td>\n",
       "    </tr>\n",
       "    <tr>\n",
       "      <th>3</th>\n",
       "      <td>2011-01-20 03:00:00</td>\n",
       "      <td>4.890629</td>\n",
       "    </tr>\n",
       "    <tr>\n",
       "      <th>4</th>\n",
       "      <td>2011-01-20 04:00:00</td>\n",
       "      <td>3.933789</td>\n",
       "    </tr>\n",
       "  </tbody>\n",
       "</table>\n",
       "</div>"
      ],
      "text/plain": [
       "              datetime      count\n",
       "0  2011-01-20 00:00:00  13.044707\n",
       "1  2011-01-20 01:00:00   5.171476\n",
       "2  2011-01-20 02:00:00   4.000739\n",
       "3  2011-01-20 03:00:00   4.890629\n",
       "4  2011-01-20 04:00:00   3.933789"
      ]
     },
     "execution_count": 31,
     "metadata": {},
     "output_type": "execute_result"
    }
   ],
   "source": [
    "submission = pd.read_csv('data/sampleSubmission.csv')\n",
    "submission['count'] = np.exp(rf.predict(X_test))\n",
    "\n",
    "submission.head()"
   ]
  },
  {
   "cell_type": "code",
   "execution_count": 32,
   "metadata": {},
   "outputs": [],
   "source": [
    "submission.to_csv(\"data/Score_{0:.5f}_submission.csv\".format(score), index=False)"
   ]
  },
  {
   "cell_type": "code",
   "execution_count": null,
   "metadata": {},
   "outputs": [],
   "source": []
  }
 ],
 "metadata": {
  "kernelspec": {
   "display_name": "Python 3",
   "language": "python",
   "name": "python3"
  },
  "language_info": {
   "codemirror_mode": {
    "name": "ipython",
    "version": 3
   },
   "file_extension": ".py",
   "mimetype": "text/x-python",
   "name": "python",
   "nbconvert_exporter": "python",
   "pygments_lexer": "ipython3",
   "version": "3.6.4"
  }
 },
 "nbformat": 4,
 "nbformat_minor": 2
}
