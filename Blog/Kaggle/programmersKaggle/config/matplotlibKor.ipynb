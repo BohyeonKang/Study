{
 "cells": [
  {
   "cell_type": "code",
   "execution_count": 13,
   "metadata": {},
   "outputs": [],
   "source": [
    "%matplotlib inline\n",
    "\n",
    "import matplotlib as mpl\n",
    "import matplotlib.pyplot as plt\n",
    "import matplotlib.font_manager as fm\n",
    "\n",
    "# 그래프에서 마이너트 폰트 깨지는 문제에 대한 대처\n",
    "mpl.rcParams['axes.unicode_minus'] = False"
   ]
  },
  {
   "cell_type": "code",
   "execution_count": 2,
   "metadata": {},
   "outputs": [
    {
     "data": {
      "text/plain": [
       "array([ -49,   14,   11,  -12,   82,   63,   24,    1,  -36,  -63,  -29,\n",
       "         24,   35,    9,   64,   73,  119,  203,  185,   97,   88,   16,\n",
       "        -12,    1,   77,   44,   86,    6,  -53,  -59,  -97,  -79,  -95,\n",
       "       -110, -189, -273, -189, -234, -327, -249, -333, -350, -280, -190,\n",
       "       -169,  -80, -150, -186, -275, -366])"
      ]
     },
     "execution_count": 2,
     "metadata": {},
     "output_type": "execute_result"
    }
   ],
   "source": [
    "# 그래프를 그리기 위해 임의의 data 생성\n",
    "\n",
    "import numpy as np\n",
    "\n",
    "data = np.random.randint(-100, 100, 50).cumsum()\n",
    "data"
   ]
  },
  {
   "cell_type": "code",
   "execution_count": 3,
   "metadata": {},
   "outputs": [
    {
     "data": {
      "text/plain": [
       "Text(0.5,0,'시간(분)')"
      ]
     },
     "execution_count": 3,
     "metadata": {},
     "output_type": "execute_result"
    },
    {
     "data": {
      "image/png": "[encoded data removed]",
      "text/plain": [
       "<matplotlib.figure.Figure at 0x10b5a5dd8>"
      ]
     },
     "metadata": {},
     "output_type": "display_data"
    }
   ],
   "source": [
    "# 기본 폰트이어서 한글이 깨짐\n",
    "\n",
    "plt.plot(range(50), data, 'r')\n",
    "mpl.rcParams['axes.unicode_minus'] = False\n",
    "plt.title('시간별 가격 추이')\n",
    "plt.ylabel('주식 가격')\n",
    "plt.xlabel('시간(분)')"
   ]
  },
  {
   "cell_type": "code",
   "execution_count": 4,
   "metadata": {},
   "outputs": [
    {
     "name": "stdout",
     "output_type": "stream",
     "text": [
      "버전:  2.1.2\n",
      "설치 위치:  /Users/sjyun/.pyenv/versions/3.6.4/lib/python3.6/site-packages/matplotlib/__init__.py\n",
      "설정 위치:  /Users/sjyun/.matplotlib\n",
      "캐시 위치:  /Users/sjyun/.matplotlib\n",
      "설정 파일 위치:  /Users/sjyun/.pyenv/versions/3.6.4/lib/python3.6/site-packages/matplotlib/mpl-data/matplotlibrc\n"
     ]
    }
   ],
   "source": [
    "# 폰트 설정에 앞서 matplotlib의 버전과 위치 정보\n",
    "\n",
    "print('버전: ', mpl.__version__)\n",
    "print('설치 위치: ', mpl.__file__)\n",
    "print('설정 위치: ', mpl.get_configdir())\n",
    "print('캐시 위치: ', mpl.get_cachedir())\n",
    "print('설정 파일 위치: ', mpl.matplotlib_fname())"
   ]
  },
  {
   "cell_type": "code",
   "execution_count": 5,
   "metadata": {},
   "outputs": [
    {
     "data": {
      "text/plain": [
       "197"
      ]
     },
     "execution_count": 5,
     "metadata": {},
     "output_type": "execute_result"
    }
   ],
   "source": [
    "# 설치된 폰트\n",
    "\n",
    "font_list = fm.findSystemFonts(fontpaths=None, fontext='ttf')\n",
    "\n",
    "len(font_list)"
   ]
  },
  {
   "cell_type": "code",
   "execution_count": 6,
   "metadata": {},
   "outputs": [
    {
     "data": {
      "text/plain": [
       "197"
      ]
     },
     "execution_count": 6,
     "metadata": {},
     "output_type": "execute_result"
    }
   ],
   "source": [
    "font_list_mac = fm.OSXInstalledFonts()\n",
    "\n",
    "len(font_list_mac)"
   ]
  },
  {
   "cell_type": "code",
   "execution_count": 7,
   "metadata": {},
   "outputs": [
    {
     "data": {
      "text/plain": [
       "['DejaVu Sans',\n",
       " 'STIXGeneral',\n",
       " 'cmss10',\n",
       " 'STIXGeneral',\n",
       " 'STIXSizeThreeSym',\n",
       " 'cmb10',\n",
       " 'STIXNonUnicode',\n",
       " 'STIXSizeOneSym',\n",
       " 'STIXSizeFourSym',\n",
       " 'DejaVu Sans']"
      ]
     },
     "execution_count": 7,
     "metadata": {},
     "output_type": "execute_result"
    }
   ],
   "source": [
    "f = [f.name for f in fm.fontManager.ttflist]\n",
    "f[:10]"
   ]
  },
  {
   "cell_type": "code",
   "execution_count": 8,
   "metadata": {},
   "outputs": [
    {
     "data": {
      "text/plain": [
       "[]"
      ]
     },
     "execution_count": 8,
     "metadata": {},
     "output_type": "execute_result"
    }
   ],
   "source": [
    "# Nanum이 들어간 폰트만 가져옴\n",
    "\n",
    "[(f.name, f.name) for f in fm.fontManager.ttflist if 'Nanum' in f.name]"
   ]
  },
  {
   "cell_type": "code",
   "execution_count": 10,
   "metadata": {},
   "outputs": [
    {
     "data": {
      "text/plain": [
       "['/Library/Fonts/NanumBarunGothicUltraLight.otf',\n",
       " '/Library/Fonts/NanumGothicBold.otf',\n",
       " '/Library/Fonts/NanumGothic.otf',\n",
       " '/Library/Fonts/NanumGothicExtraBold.ttf',\n",
       " '/Library/Fonts/NanumBarunGothicLight.ttf',\n",
       " '/Library/Fonts/NanumBrush.otf',\n",
       " '/Library/Fonts/NanumBarunGothicLight.otf',\n",
       " '/Library/Fonts/NanumBarunpenRegular.otf',\n",
       " '/Library/Fonts/NanumSquareRoundOTFR.otf',\n",
       " '/Library/Fonts/NanumMyeongjoBold.otf',\n",
       " '/Library/Fonts/NanumGothicBold.ttf',\n",
       " '/Library/Fonts/NanumBarunGothicBold.ttf',\n",
       " '/Library/Fonts/NanumGothic.ttf',\n",
       " '/Library/Fonts/NanumSquareOTFBold.otf',\n",
       " '/Library/Fonts/NanumSquareOTFRegular.otf',\n",
       " '/Library/Fonts/NanumBarunpenBold.otf',\n",
       " '/Library/Fonts/NanumBarunGothicBold.otf',\n",
       " '/Library/Fonts/NanumSquareRoundOTFL.otf',\n",
       " '/Library/Fonts/NanumSquareOTFExtraBold.otf',\n",
       " '/Library/Fonts/NanumMyeongjoExtraBold.otf',\n",
       " '/Library/Fonts/NanumGothicExtraBold.otf',\n",
       " '/Library/Fonts/NanumPen.otf',\n",
       " '/Library/Fonts/NanumMyeongjo.otf',\n",
       " '/Library/Fonts/NanumBarunGothic.ttf',\n",
       " '/Library/Fonts/NanumSquareOTFLight.otf',\n",
       " '/Library/Fonts/NanumGothicLight.otf',\n",
       " '/Library/Fonts/NanumBarunGothicUltraLight.ttf']"
      ]
     },
     "execution_count": 10,
     "metadata": {},
     "output_type": "execute_result"
    }
   ],
   "source": [
    "nanum_list = [font for font in font_list if 'Nanum' in font]\n",
    "nanum_list"
   ]
  },
  {
   "cell_type": "code",
   "execution_count": 15,
   "metadata": {},
   "outputs": [
    {
     "data": {
      "text/plain": [
       "Text(0.5,0,'시간(분)')"
      ]
     },
     "execution_count": 15,
     "metadata": {},
     "output_type": "execute_result"
    },
    {
     "data": {
      "image/png": "[encoded data removed]",
      "text/plain": [
       "<matplotlib.figure.Figure at 0x10be306d8>"
      ]
     },
     "metadata": {},
     "output_type": "display_data"
    }
   ],
   "source": [
    "# 한글 폰트 적용 : 방송에서는 되는걸로 소개하는데 난 안됨\n",
    "\n",
    "path = '/Library/Fonts/NanumBarunGothic.ttf'\n",
    "fontprop = fm.FontProperties(fname=path, size=18)\n",
    "\n",
    "plt.plot(range(50), data, 'r')\n",
    "mpl.rcParams['axes.unicode_minus'] = False\n",
    "plt.title('시간별 가격 추이')\n",
    "plt.ylabel('주식 가격')\n",
    "plt.xlabel('시간(분)')"
   ]
  },
  {
   "cell_type": "code",
   "execution_count": 16,
   "metadata": {},
   "outputs": [
    {
     "name": "stdout",
     "output_type": "stream",
     "text": [
      "10.0\n",
      "['sans-serif']\n"
     ]
    }
   ],
   "source": [
    "# matplotlib.rcParams[]로 전역 글꼴 설정 방법\n",
    "\n",
    "import matplotlib.pyplot as plt\n",
    "\n",
    "print(plt.rcParams['font.size'])\n",
    "print(plt.rcParams['font.family'])"
   ]
  },
  {
   "cell_type": "code",
   "execution_count": 18,
   "metadata": {},
   "outputs": [
    {
     "data": {
      "text/plain": [
       "['DejaVu Serif',\n",
       " 'Bitstream Vera Serif',\n",
       " 'Computer Modern Roman',\n",
       " 'New Century Schoolbook',\n",
       " 'Century Schoolbook L',\n",
       " 'Utopia',\n",
       " 'ITC Bookman',\n",
       " 'Bookman',\n",
       " 'Nimbus Roman No9 L',\n",
       " 'Times New Roman',\n",
       " 'Times',\n",
       " 'Palatino',\n",
       " 'Charter',\n",
       " 'serif']"
      ]
     },
     "execution_count": 18,
     "metadata": {},
     "output_type": "execute_result"
    }
   ],
   "source": [
    "plt.rcParams['font.serif']"
   ]
  },
  {
   "cell_type": "code",
   "execution_count": 20,
   "metadata": {},
   "outputs": [
    {
     "data": {
      "text/plain": [
       "['DejaVu Sans',\n",
       " 'Bitstream Vera Sans',\n",
       " 'Computer Modern Sans Serif',\n",
       " 'Lucida Grande',\n",
       " 'Verdana',\n",
       " 'Geneva',\n",
       " 'Lucid',\n",
       " 'Arial',\n",
       " 'Helvetica',\n",
       " 'Avant Garde',\n",
       " 'sans-serif']"
      ]
     },
     "execution_count": 20,
     "metadata": {},
     "output_type": "execute_result"
    }
   ],
   "source": [
    "plt.rcParams['font.sans-serif']"
   ]
  },
  {
   "cell_type": "code",
   "execution_count": 21,
   "metadata": {},
   "outputs": [
    {
     "data": {
      "text/plain": [
       "['DejaVu Sans Mono',\n",
       " 'Bitstream Vera Sans Mono',\n",
       " 'Computer Modern Typewriter',\n",
       " 'Andale Mono',\n",
       " 'Nimbus Mono L',\n",
       " 'Courier New',\n",
       " 'Courier',\n",
       " 'Fixed',\n",
       " 'Terminal',\n",
       " 'monospace']"
      ]
     },
     "execution_count": 21,
     "metadata": {},
     "output_type": "execute_result"
    }
   ],
   "source": [
    "plt.rcParams['font.monospace']"
   ]
  },
  {
   "cell_type": "code",
   "execution_count": 22,
   "metadata": {},
   "outputs": [],
   "source": [
    "plt.rcParams['font.family'] = 'Nanum Brush Script OTF'\n",
    "plt.rcParams['font.size'] = 20\n",
    "plt.rcParams['figure.figsize'] = (14,4)"
   ]
  },
  {
   "cell_type": "code",
   "execution_count": 24,
   "metadata": {},
   "outputs": [
    {
     "name": "stderr",
     "output_type": "stream",
     "text": [
      "/Users/sjyun/.pyenv/versions/3.6.4/lib/python3.6/site-packages/matplotlib/font_manager.py:1320: UserWarning: findfont: Font family ['Nanum Brush Script OTF'] not found. Falling back to DejaVu Sans\n",
      "  (prop.get_family(), self.defaultFamily[fontext]))\n"
     ]
    },
    {
     "data": {
      "image/png": "[encoded data removed]",
      "text/plain": [
       "<matplotlib.figure.Figure at 0x10bf56a20>"
      ]
     },
     "metadata": {},
     "output_type": "display_data"
    }
   ],
   "source": [
    "plt.plot(range(50), data, 'r')\n",
    "mpl.rcParams['axes.unicode_minus'] = False\n",
    "plt.title('시간별 가격 추이')\n",
    "plt.ylabel('주식 가격')\n",
    "plt.xlabel('시간(분)')\n",
    "\n",
    "plt.show()\n",
    "\n",
    "# 이것도 안됨"
   ]
  },
  {
   "cell_type": "code",
   "execution_count": null,
   "metadata": {},
   "outputs": [],
   "source": [
    "# FontProperties 와 plt.rc 사용\n",
    "\n"
   ]
  },
  {
   "cell_type": "code",
   "execution_count": null,
   "metadata": {},
   "outputs": [],
   "source": [
    "#"
   ]
  }
 ],
 "metadata": {
  "kernelspec": {
   "display_name": "Python 3",
   "language": "python",
   "name": "python3"
  },
  "language_info": {
   "codemirror_mode": {
    "name": "ipython",
    "version": 3
   },
   "file_extension": ".py",
   "mimetype": "text/x-python",
   "name": "python",
   "nbconvert_exporter": "python",
   "pygments_lexer": "ipython3",
   "version": "3.6.4"
  }
 },
 "nbformat": 4,
 "nbformat_minor": 2
}
